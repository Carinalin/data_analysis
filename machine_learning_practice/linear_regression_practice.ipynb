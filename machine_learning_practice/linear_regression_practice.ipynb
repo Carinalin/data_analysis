{
 "cells": [
  {
   "cell_type": "markdown",
   "metadata": {},
   "source": [
    "# 线性回归练习（Linear Regression Practice）"
   ]
  },
  {
   "cell_type": "markdown",
   "metadata": {},
   "source": [
    "## 项目说明"
   ]
  },
  {
   "cell_type": "markdown",
   "metadata": {},
   "source": [
    "#### 项目背景：\n",
    "* 1.项目基于吴达恩教授的《机器学习》课程。\n",
    "* 2.数据均来源于课程配套资料。\n",
    "\n",
    "\n",
    "#### 项目目的：\n",
    "* 1、使用单变量线性回归分析ex1data1并预测。\n",
    "* 2、使用多变量线性回归分析ex1data2并预测。\n",
    "* 3、熟悉线性回归的假设函数、代价函数。\n",
    "* 4、熟练运用梯度下降和正规方程解决线性回归问题。\n",
    "\n",
    "\n",
    "#### 单变量线性回归：\n",
    "* 1、分析目的：通过城市人口预测快餐车的收益，帮助老板选择合适的城市进行扩张。\n",
    "* 2、数据说明：ex1data1\n",
    "    * 第1列：城市人口数\n",
    "    * 第2列：快餐车收益，为负则表示快餐车亏本。\n",
    "\n",
    "\n",
    "#### 多变量线性回归：\n",
    "* 1、分析目的：通过分析俄勒冈州波特兰市的房价与房子大小、房间数量的关系，得出房价预测模型。\n",
    "* 2、数据说明：ex1data2\n",
    "    * 第1列：房子面积，单位：平方英尺\n",
    "    * 第2列：房间数量\n",
    "    * 第3列：房子售卖价格"
   ]
  },
  {
   "cell_type": "markdown",
   "metadata": {},
   "source": [
    "# 导入相关数据库"
   ]
  },
  {
   "cell_type": "code",
   "execution_count": 2,
   "metadata": {},
   "outputs": [
    {
     "data": {
      "text/html": [
       "        <script type=\"text/javascript\">\n",
       "        window.PlotlyConfig = {MathJaxConfig: 'local'};\n",
       "        if (window.MathJax) {MathJax.Hub.Config({SVG: {font: \"STIX-Web\"}});}\n",
       "        if (typeof require !== 'undefined') {\n",
       "        require.undef(\"plotly\");\n",
       "        requirejs.config({\n",
       "            paths: {\n",
       "                'plotly': ['https://cdn.plot.ly/plotly-latest.min']\n",
       "            }\n",
       "        });\n",
       "        require(['plotly'], function(Plotly) {\n",
       "            window._Plotly = Plotly;\n",
       "        });\n",
       "        }\n",
       "        </script>\n",
       "        "
      ]
     },
     "metadata": {},
     "output_type": "display_data"
    },
    {
     "data": {
      "text/html": [
       "        <script type=\"text/javascript\">\n",
       "        window.PlotlyConfig = {MathJaxConfig: 'local'};\n",
       "        if (window.MathJax) {MathJax.Hub.Config({SVG: {font: \"STIX-Web\"}});}\n",
       "        if (typeof require !== 'undefined') {\n",
       "        require.undef(\"plotly\");\n",
       "        requirejs.config({\n",
       "            paths: {\n",
       "                'plotly': ['https://cdn.plot.ly/plotly-latest.min']\n",
       "            }\n",
       "        });\n",
       "        require(['plotly'], function(Plotly) {\n",
       "            window._Plotly = Plotly;\n",
       "        });\n",
       "        }\n",
       "        </script>\n",
       "        "
      ]
     },
     "metadata": {},
     "output_type": "display_data"
    }
   ],
   "source": [
    "import numpy as np\n",
    "import pandas as pd\n",
    "import tensorflow as tf\n",
    "import plotly as py\n",
    "import plotly.graph_objs as go\n",
    "import cufflinks as cf\n",
    "from plotly.offline import iplot,init_notebook_mode\n",
    "cf.go_offline(connected=True)\n",
    "init_notebook_mode(connected=True)\n",
    "cf.set_config_file(theme='pearl') #设置一下制图颜色"
   ]
  },
  {
   "cell_type": "markdown",
   "metadata": {},
   "source": [
    "# 1.单变量线性回归"
   ]
  },
  {
   "cell_type": "markdown",
   "metadata": {},
   "source": [
    "## 1）读取数据并理解"
   ]
  },
  {
   "cell_type": "code",
   "execution_count": 3,
   "metadata": {},
   "outputs": [],
   "source": [
    "#读取数据并赋予列名\n",
    "df = pd.read_csv('D:\\Learning\\python\\ML\\code\\ex1-linear regression\\ex1data1.txt',names=['population','profit'])"
   ]
  },
  {
   "cell_type": "code",
   "execution_count": 4,
   "metadata": {},
   "outputs": [
    {
     "data": {
      "text/html": [
       "<div>\n",
       "<style scoped>\n",
       "    .dataframe tbody tr th:only-of-type {\n",
       "        vertical-align: middle;\n",
       "    }\n",
       "\n",
       "    .dataframe tbody tr th {\n",
       "        vertical-align: top;\n",
       "    }\n",
       "\n",
       "    .dataframe thead th {\n",
       "        text-align: right;\n",
       "    }\n",
       "</style>\n",
       "<table border=\"1\" class=\"dataframe\">\n",
       "  <thead>\n",
       "    <tr style=\"text-align: right;\">\n",
       "      <th></th>\n",
       "      <th>population</th>\n",
       "      <th>profit</th>\n",
       "    </tr>\n",
       "  </thead>\n",
       "  <tbody>\n",
       "    <tr>\n",
       "      <th>0</th>\n",
       "      <td>6.1101</td>\n",
       "      <td>17.5920</td>\n",
       "    </tr>\n",
       "    <tr>\n",
       "      <th>1</th>\n",
       "      <td>5.5277</td>\n",
       "      <td>9.1302</td>\n",
       "    </tr>\n",
       "    <tr>\n",
       "      <th>2</th>\n",
       "      <td>8.5186</td>\n",
       "      <td>13.6620</td>\n",
       "    </tr>\n",
       "    <tr>\n",
       "      <th>3</th>\n",
       "      <td>7.0032</td>\n",
       "      <td>11.8540</td>\n",
       "    </tr>\n",
       "    <tr>\n",
       "      <th>4</th>\n",
       "      <td>5.8598</td>\n",
       "      <td>6.8233</td>\n",
       "    </tr>\n",
       "  </tbody>\n",
       "</table>\n",
       "</div>"
      ],
      "text/plain": [
       "   population   profit\n",
       "0      6.1101  17.5920\n",
       "1      5.5277   9.1302\n",
       "2      8.5186  13.6620\n",
       "3      7.0032  11.8540\n",
       "4      5.8598   6.8233"
      ]
     },
     "execution_count": 4,
     "metadata": {},
     "output_type": "execute_result"
    }
   ],
   "source": [
    "df.head()"
   ]
  },
  {
   "cell_type": "code",
   "execution_count": 5,
   "metadata": {},
   "outputs": [
    {
     "name": "stdout",
     "output_type": "stream",
     "text": [
      "<class 'pandas.core.frame.DataFrame'>\n",
      "RangeIndex: 97 entries, 0 to 96\n",
      "Data columns (total 2 columns):\n",
      " #   Column      Non-Null Count  Dtype  \n",
      "---  ------      --------------  -----  \n",
      " 0   population  97 non-null     float64\n",
      " 1   profit      97 non-null     float64\n",
      "dtypes: float64(2)\n",
      "memory usage: 1.6 KB\n"
     ]
    }
   ],
   "source": [
    "df.info()\n",
    "#可知两个字段均为浮点型，无null值。"
   ]
  },
  {
   "cell_type": "code",
   "execution_count": 6,
   "metadata": {},
   "outputs": [
    {
     "data": {
      "text/html": [
       "<div>\n",
       "<style scoped>\n",
       "    .dataframe tbody tr th:only-of-type {\n",
       "        vertical-align: middle;\n",
       "    }\n",
       "\n",
       "    .dataframe tbody tr th {\n",
       "        vertical-align: top;\n",
       "    }\n",
       "\n",
       "    .dataframe thead th {\n",
       "        text-align: right;\n",
       "    }\n",
       "</style>\n",
       "<table border=\"1\" class=\"dataframe\">\n",
       "  <thead>\n",
       "    <tr style=\"text-align: right;\">\n",
       "      <th></th>\n",
       "      <th>population</th>\n",
       "      <th>profit</th>\n",
       "    </tr>\n",
       "  </thead>\n",
       "  <tbody>\n",
       "    <tr>\n",
       "      <th>count</th>\n",
       "      <td>97.000000</td>\n",
       "      <td>97.000000</td>\n",
       "    </tr>\n",
       "    <tr>\n",
       "      <th>mean</th>\n",
       "      <td>8.159800</td>\n",
       "      <td>5.839135</td>\n",
       "    </tr>\n",
       "    <tr>\n",
       "      <th>std</th>\n",
       "      <td>3.869884</td>\n",
       "      <td>5.510262</td>\n",
       "    </tr>\n",
       "    <tr>\n",
       "      <th>min</th>\n",
       "      <td>5.026900</td>\n",
       "      <td>-2.680700</td>\n",
       "    </tr>\n",
       "    <tr>\n",
       "      <th>25%</th>\n",
       "      <td>5.707700</td>\n",
       "      <td>1.986900</td>\n",
       "    </tr>\n",
       "    <tr>\n",
       "      <th>50%</th>\n",
       "      <td>6.589400</td>\n",
       "      <td>4.562300</td>\n",
       "    </tr>\n",
       "    <tr>\n",
       "      <th>75%</th>\n",
       "      <td>8.578100</td>\n",
       "      <td>7.046700</td>\n",
       "    </tr>\n",
       "    <tr>\n",
       "      <th>max</th>\n",
       "      <td>22.203000</td>\n",
       "      <td>24.147000</td>\n",
       "    </tr>\n",
       "  </tbody>\n",
       "</table>\n",
       "</div>"
      ],
      "text/plain": [
       "       population     profit\n",
       "count   97.000000  97.000000\n",
       "mean     8.159800   5.839135\n",
       "std      3.869884   5.510262\n",
       "min      5.026900  -2.680700\n",
       "25%      5.707700   1.986900\n",
       "50%      6.589400   4.562300\n",
       "75%      8.578100   7.046700\n",
       "max     22.203000  24.147000"
      ]
     },
     "execution_count": 6,
     "metadata": {},
     "output_type": "execute_result"
    }
   ],
   "source": [
    "df.describe()\n",
    "#profit存在负值，数据未看出异常。"
   ]
  },
  {
   "cell_type": "code",
   "execution_count": 7,
   "metadata": {},
   "outputs": [
    {
     "data": {
      "text/plain": [
       "0"
      ]
     },
     "execution_count": 7,
     "metadata": {},
     "output_type": "execute_result"
    }
   ],
   "source": [
    "np.sum(df.duplicated(subset=['population','profit']))\n",
    "#数据无重复值，无需进行重复值处理。"
   ]
  },
  {
   "cell_type": "markdown",
   "metadata": {},
   "source": [
    "## 2）数据可视化（Visualization）"
   ]
  },
  {
   "cell_type": "code",
   "execution_count": 8,
   "metadata": {},
   "outputs": [
    {
     "data": {
      "application/vnd.plotly.v1+json": {
       "config": {
        "linkText": "Export to plot.ly",
        "plotlyServerURL": "https://plot.ly",
        "showLink": true
       },
       "data": [
        {
         "line": {
          "color": "rgba(255, 153, 51, 1.0)",
          "dash": "solid",
          "shape": "linear",
          "width": 1.3
         },
         "marker": {
          "size": 5,
          "symbol": "circle"
         },
         "mode": "markers",
         "name": "profit",
         "text": "",
         "type": "scatter",
         "x": [
          6.1101,
          5.5277,
          8.5186,
          7.0032,
          5.8598,
          8.3829,
          7.4764,
          8.5781,
          6.4862,
          5.0546,
          5.7107,
          14.164000000000001,
          5.734,
          8.4084,
          5.6407,
          5.3794,
          6.3654,
          5.1301,
          6.4296,
          7.0708,
          6.1891,
          20.27,
          5.4901,
          6.3261,
          5.5649,
          18.945,
          12.828,
          10.957,
          13.175999999999998,
          22.203000000000003,
          5.2524,
          6.5894,
          9.2482,
          5.8918,
          8.2111,
          7.9334,
          8.0959,
          5.6063,
          12.835999999999999,
          6.3534,
          5.4069,
          6.8825,
          11.708,
          5.7737,
          7.8247,
          7.0931,
          5.0702,
          5.8014,
          11.7,
          5.5416,
          7.5402,
          5.3077,
          7.4239,
          7.6031,
          6.3328,
          6.3589,
          6.2742,
          5.6397,
          9.3102,
          9.4536,
          8.8254,
          5.1793,
          21.279,
          14.908,
          18.959,
          7.2182,
          8.2951,
          10.236,
          5.4994,
          20.340999999999998,
          10.136000000000001,
          7.3345,
          6.0062,
          7.2259,
          5.0269,
          6.5479,
          7.5386,
          5.0365,
          10.274000000000001,
          5.1077,
          5.7292,
          5.1884,
          6.3557,
          9.7687,
          6.5159,
          8.5172,
          9.1802,
          6.002000000000001,
          5.5204,
          5.0594,
          5.7077,
          7.6366,
          5.8707,
          5.3054,
          8.2934,
          13.394,
          5.4369
         ],
         "y": [
          17.592,
          9.1302,
          13.662,
          11.854000000000001,
          6.8233,
          11.886,
          4.3483,
          12,
          6.5987,
          3.8166,
          3.2522,
          15.505,
          3.1551,
          7.2258,
          0.71618,
          3.5129,
          5.3048,
          0.56077,
          3.6518,
          5.3893,
          3.1386,
          21.767,
          4.263,
          5.1875,
          3.0825,
          22.638,
          13.501,
          7.0467,
          14.692,
          24.147,
          -1.22,
          5.9966,
          12.134,
          1.8495,
          6.5426,
          4.5623,
          4.1164,
          3.3928,
          10.117,
          5.4974,
          0.55657,
          3.9115,
          5.3854,
          2.4406,
          6.7318,
          1.0463,
          5.1337,
          1.844,
          8.0043,
          1.0179,
          6.7504,
          1.8396,
          4.2885,
          4.9981,
          1.4233,
          -1.4211,
          2.4756,
          4.6042,
          3.9624,
          5.4141,
          5.1694,
          -0.74279,
          17.929000000000002,
          12.054,
          17.054000000000002,
          4.8852,
          5.7442,
          7.7754,
          1.0173,
          20.991999999999997,
          6.6799,
          4.0259,
          1.2784,
          3.3411,
          -2.6807,
          0.29678000000000004,
          3.8845,
          5.7014,
          6.7526,
          2.0576,
          0.47953,
          0.20421,
          0.67861,
          7.5435,
          5.3436,
          4.2415,
          6.7981,
          0.92695,
          0.152,
          2.8214,
          1.8451,
          4.2959,
          7.2029,
          1.9869,
          0.14454,
          9.0551,
          0.61705
         ]
        }
       ],
       "layout": {
        "height": 500,
        "template": {
         "data": {
          "bar": [
           {
            "error_x": {
             "color": "#2a3f5f"
            },
            "error_y": {
             "color": "#2a3f5f"
            },
            "marker": {
             "line": {
              "color": "#E5ECF6",
              "width": 0.5
             }
            },
            "type": "bar"
           }
          ],
          "barpolar": [
           {
            "marker": {
             "line": {
              "color": "#E5ECF6",
              "width": 0.5
             }
            },
            "type": "barpolar"
           }
          ],
          "carpet": [
           {
            "aaxis": {
             "endlinecolor": "#2a3f5f",
             "gridcolor": "white",
             "linecolor": "white",
             "minorgridcolor": "white",
             "startlinecolor": "#2a3f5f"
            },
            "baxis": {
             "endlinecolor": "#2a3f5f",
             "gridcolor": "white",
             "linecolor": "white",
             "minorgridcolor": "white",
             "startlinecolor": "#2a3f5f"
            },
            "type": "carpet"
           }
          ],
          "choropleth": [
           {
            "colorbar": {
             "outlinewidth": 0,
             "ticks": ""
            },
            "type": "choropleth"
           }
          ],
          "contour": [
           {
            "colorbar": {
             "outlinewidth": 0,
             "ticks": ""
            },
            "colorscale": [
             [
              0,
              "#0d0887"
             ],
             [
              0.1111111111111111,
              "#46039f"
             ],
             [
              0.2222222222222222,
              "#7201a8"
             ],
             [
              0.3333333333333333,
              "#9c179e"
             ],
             [
              0.4444444444444444,
              "#bd3786"
             ],
             [
              0.5555555555555556,
              "#d8576b"
             ],
             [
              0.6666666666666666,
              "#ed7953"
             ],
             [
              0.7777777777777778,
              "#fb9f3a"
             ],
             [
              0.8888888888888888,
              "#fdca26"
             ],
             [
              1,
              "#f0f921"
             ]
            ],
            "type": "contour"
           }
          ],
          "contourcarpet": [
           {
            "colorbar": {
             "outlinewidth": 0,
             "ticks": ""
            },
            "type": "contourcarpet"
           }
          ],
          "heatmap": [
           {
            "colorbar": {
             "outlinewidth": 0,
             "ticks": ""
            },
            "colorscale": [
             [
              0,
              "#0d0887"
             ],
             [
              0.1111111111111111,
              "#46039f"
             ],
             [
              0.2222222222222222,
              "#7201a8"
             ],
             [
              0.3333333333333333,
              "#9c179e"
             ],
             [
              0.4444444444444444,
              "#bd3786"
             ],
             [
              0.5555555555555556,
              "#d8576b"
             ],
             [
              0.6666666666666666,
              "#ed7953"
             ],
             [
              0.7777777777777778,
              "#fb9f3a"
             ],
             [
              0.8888888888888888,
              "#fdca26"
             ],
             [
              1,
              "#f0f921"
             ]
            ],
            "type": "heatmap"
           }
          ],
          "heatmapgl": [
           {
            "colorbar": {
             "outlinewidth": 0,
             "ticks": ""
            },
            "colorscale": [
             [
              0,
              "#0d0887"
             ],
             [
              0.1111111111111111,
              "#46039f"
             ],
             [
              0.2222222222222222,
              "#7201a8"
             ],
             [
              0.3333333333333333,
              "#9c179e"
             ],
             [
              0.4444444444444444,
              "#bd3786"
             ],
             [
              0.5555555555555556,
              "#d8576b"
             ],
             [
              0.6666666666666666,
              "#ed7953"
             ],
             [
              0.7777777777777778,
              "#fb9f3a"
             ],
             [
              0.8888888888888888,
              "#fdca26"
             ],
             [
              1,
              "#f0f921"
             ]
            ],
            "type": "heatmapgl"
           }
          ],
          "histogram": [
           {
            "marker": {
             "colorbar": {
              "outlinewidth": 0,
              "ticks": ""
             }
            },
            "type": "histogram"
           }
          ],
          "histogram2d": [
           {
            "colorbar": {
             "outlinewidth": 0,
             "ticks": ""
            },
            "colorscale": [
             [
              0,
              "#0d0887"
             ],
             [
              0.1111111111111111,
              "#46039f"
             ],
             [
              0.2222222222222222,
              "#7201a8"
             ],
             [
              0.3333333333333333,
              "#9c179e"
             ],
             [
              0.4444444444444444,
              "#bd3786"
             ],
             [
              0.5555555555555556,
              "#d8576b"
             ],
             [
              0.6666666666666666,
              "#ed7953"
             ],
             [
              0.7777777777777778,
              "#fb9f3a"
             ],
             [
              0.8888888888888888,
              "#fdca26"
             ],
             [
              1,
              "#f0f921"
             ]
            ],
            "type": "histogram2d"
           }
          ],
          "histogram2dcontour": [
           {
            "colorbar": {
             "outlinewidth": 0,
             "ticks": ""
            },
            "colorscale": [
             [
              0,
              "#0d0887"
             ],
             [
              0.1111111111111111,
              "#46039f"
             ],
             [
              0.2222222222222222,
              "#7201a8"
             ],
             [
              0.3333333333333333,
              "#9c179e"
             ],
             [
              0.4444444444444444,
              "#bd3786"
             ],
             [
              0.5555555555555556,
              "#d8576b"
             ],
             [
              0.6666666666666666,
              "#ed7953"
             ],
             [
              0.7777777777777778,
              "#fb9f3a"
             ],
             [
              0.8888888888888888,
              "#fdca26"
             ],
             [
              1,
              "#f0f921"
             ]
            ],
            "type": "histogram2dcontour"
           }
          ],
          "mesh3d": [
           {
            "colorbar": {
             "outlinewidth": 0,
             "ticks": ""
            },
            "type": "mesh3d"
           }
          ],
          "parcoords": [
           {
            "line": {
             "colorbar": {
              "outlinewidth": 0,
              "ticks": ""
             }
            },
            "type": "parcoords"
           }
          ],
          "pie": [
           {
            "automargin": true,
            "type": "pie"
           }
          ],
          "scatter": [
           {
            "marker": {
             "colorbar": {
              "outlinewidth": 0,
              "ticks": ""
             }
            },
            "type": "scatter"
           }
          ],
          "scatter3d": [
           {
            "line": {
             "colorbar": {
              "outlinewidth": 0,
              "ticks": ""
             }
            },
            "marker": {
             "colorbar": {
              "outlinewidth": 0,
              "ticks": ""
             }
            },
            "type": "scatter3d"
           }
          ],
          "scattercarpet": [
           {
            "marker": {
             "colorbar": {
              "outlinewidth": 0,
              "ticks": ""
             }
            },
            "type": "scattercarpet"
           }
          ],
          "scattergeo": [
           {
            "marker": {
             "colorbar": {
              "outlinewidth": 0,
              "ticks": ""
             }
            },
            "type": "scattergeo"
           }
          ],
          "scattergl": [
           {
            "marker": {
             "colorbar": {
              "outlinewidth": 0,
              "ticks": ""
             }
            },
            "type": "scattergl"
           }
          ],
          "scattermapbox": [
           {
            "marker": {
             "colorbar": {
              "outlinewidth": 0,
              "ticks": ""
             }
            },
            "type": "scattermapbox"
           }
          ],
          "scatterpolar": [
           {
            "marker": {
             "colorbar": {
              "outlinewidth": 0,
              "ticks": ""
             }
            },
            "type": "scatterpolar"
           }
          ],
          "scatterpolargl": [
           {
            "marker": {
             "colorbar": {
              "outlinewidth": 0,
              "ticks": ""
             }
            },
            "type": "scatterpolargl"
           }
          ],
          "scatterternary": [
           {
            "marker": {
             "colorbar": {
              "outlinewidth": 0,
              "ticks": ""
             }
            },
            "type": "scatterternary"
           }
          ],
          "surface": [
           {
            "colorbar": {
             "outlinewidth": 0,
             "ticks": ""
            },
            "colorscale": [
             [
              0,
              "#0d0887"
             ],
             [
              0.1111111111111111,
              "#46039f"
             ],
             [
              0.2222222222222222,
              "#7201a8"
             ],
             [
              0.3333333333333333,
              "#9c179e"
             ],
             [
              0.4444444444444444,
              "#bd3786"
             ],
             [
              0.5555555555555556,
              "#d8576b"
             ],
             [
              0.6666666666666666,
              "#ed7953"
             ],
             [
              0.7777777777777778,
              "#fb9f3a"
             ],
             [
              0.8888888888888888,
              "#fdca26"
             ],
             [
              1,
              "#f0f921"
             ]
            ],
            "type": "surface"
           }
          ],
          "table": [
           {
            "cells": {
             "fill": {
              "color": "#EBF0F8"
             },
             "line": {
              "color": "white"
             }
            },
            "header": {
             "fill": {
              "color": "#C8D4E3"
             },
             "line": {
              "color": "white"
             }
            },
            "type": "table"
           }
          ]
         },
         "layout": {
          "annotationdefaults": {
           "arrowcolor": "#2a3f5f",
           "arrowhead": 0,
           "arrowwidth": 1
          },
          "coloraxis": {
           "colorbar": {
            "outlinewidth": 0,
            "ticks": ""
           }
          },
          "colorscale": {
           "diverging": [
            [
             0,
             "#8e0152"
            ],
            [
             0.1,
             "#c51b7d"
            ],
            [
             0.2,
             "#de77ae"
            ],
            [
             0.3,
             "#f1b6da"
            ],
            [
             0.4,
             "#fde0ef"
            ],
            [
             0.5,
             "#f7f7f7"
            ],
            [
             0.6,
             "#e6f5d0"
            ],
            [
             0.7,
             "#b8e186"
            ],
            [
             0.8,
             "#7fbc41"
            ],
            [
             0.9,
             "#4d9221"
            ],
            [
             1,
             "#276419"
            ]
           ],
           "sequential": [
            [
             0,
             "#0d0887"
            ],
            [
             0.1111111111111111,
             "#46039f"
            ],
            [
             0.2222222222222222,
             "#7201a8"
            ],
            [
             0.3333333333333333,
             "#9c179e"
            ],
            [
             0.4444444444444444,
             "#bd3786"
            ],
            [
             0.5555555555555556,
             "#d8576b"
            ],
            [
             0.6666666666666666,
             "#ed7953"
            ],
            [
             0.7777777777777778,
             "#fb9f3a"
            ],
            [
             0.8888888888888888,
             "#fdca26"
            ],
            [
             1,
             "#f0f921"
            ]
           ],
           "sequentialminus": [
            [
             0,
             "#0d0887"
            ],
            [
             0.1111111111111111,
             "#46039f"
            ],
            [
             0.2222222222222222,
             "#7201a8"
            ],
            [
             0.3333333333333333,
             "#9c179e"
            ],
            [
             0.4444444444444444,
             "#bd3786"
            ],
            [
             0.5555555555555556,
             "#d8576b"
            ],
            [
             0.6666666666666666,
             "#ed7953"
            ],
            [
             0.7777777777777778,
             "#fb9f3a"
            ],
            [
             0.8888888888888888,
             "#fdca26"
            ],
            [
             1,
             "#f0f921"
            ]
           ]
          },
          "colorway": [
           "#636efa",
           "#EF553B",
           "#00cc96",
           "#ab63fa",
           "#FFA15A",
           "#19d3f3",
           "#FF6692",
           "#B6E880",
           "#FF97FF",
           "#FECB52"
          ],
          "font": {
           "color": "#2a3f5f"
          },
          "geo": {
           "bgcolor": "white",
           "lakecolor": "white",
           "landcolor": "#E5ECF6",
           "showlakes": true,
           "showland": true,
           "subunitcolor": "white"
          },
          "hoverlabel": {
           "align": "left"
          },
          "hovermode": "closest",
          "mapbox": {
           "style": "light"
          },
          "paper_bgcolor": "white",
          "plot_bgcolor": "#E5ECF6",
          "polar": {
           "angularaxis": {
            "gridcolor": "white",
            "linecolor": "white",
            "ticks": ""
           },
           "bgcolor": "#E5ECF6",
           "radialaxis": {
            "gridcolor": "white",
            "linecolor": "white",
            "ticks": ""
           }
          },
          "scene": {
           "xaxis": {
            "backgroundcolor": "#E5ECF6",
            "gridcolor": "white",
            "gridwidth": 2,
            "linecolor": "white",
            "showbackground": true,
            "ticks": "",
            "zerolinecolor": "white"
           },
           "yaxis": {
            "backgroundcolor": "#E5ECF6",
            "gridcolor": "white",
            "gridwidth": 2,
            "linecolor": "white",
            "showbackground": true,
            "ticks": "",
            "zerolinecolor": "white"
           },
           "zaxis": {
            "backgroundcolor": "#E5ECF6",
            "gridcolor": "white",
            "gridwidth": 2,
            "linecolor": "white",
            "showbackground": true,
            "ticks": "",
            "zerolinecolor": "white"
           }
          },
          "shapedefaults": {
           "line": {
            "color": "#2a3f5f"
           }
          },
          "ternary": {
           "aaxis": {
            "gridcolor": "white",
            "linecolor": "white",
            "ticks": ""
           },
           "baxis": {
            "gridcolor": "white",
            "linecolor": "white",
            "ticks": ""
           },
           "bgcolor": "#E5ECF6",
           "caxis": {
            "gridcolor": "white",
            "linecolor": "white",
            "ticks": ""
           }
          },
          "title": {
           "x": 0.05
          },
          "xaxis": {
           "automargin": true,
           "gridcolor": "white",
           "linecolor": "white",
           "ticks": "",
           "title": {
            "standoff": 15
           },
           "zerolinecolor": "white",
           "zerolinewidth": 2
          },
          "yaxis": {
           "automargin": true,
           "gridcolor": "white",
           "linecolor": "white",
           "ticks": "",
           "title": {
            "standoff": 15
           },
           "zerolinecolor": "white",
           "zerolinewidth": 2
          }
         }
        },
        "width": 500
       }
      },
      "text/html": [
       "<div>\n",
       "        \n",
       "        \n",
       "            <div id=\"0793b599-92ea-4070-bbd6-845d273c66a8\" class=\"plotly-graph-div\" style=\"height:500px; width:500px;\"></div>\n",
       "            <script type=\"text/javascript\">\n",
       "                require([\"plotly\"], function(Plotly) {\n",
       "                    window.PLOTLYENV=window.PLOTLYENV || {};\n",
       "                    window.PLOTLYENV.BASE_URL='https://plot.ly';\n",
       "                    \n",
       "                if (document.getElementById(\"0793b599-92ea-4070-bbd6-845d273c66a8\")) {\n",
       "                    Plotly.newPlot(\n",
       "                        '0793b599-92ea-4070-bbd6-845d273c66a8',\n",
       "                        [{\"line\": {\"color\": \"rgba(255, 153, 51, 1.0)\", \"dash\": \"solid\", \"shape\": \"linear\", \"width\": 1.3}, \"marker\": {\"size\": 5, \"symbol\": \"circle\"}, \"mode\": \"markers\", \"name\": \"profit\", \"text\": \"\", \"type\": \"scatter\", \"x\": [6.1101, 5.5277, 8.5186, 7.0032, 5.8598, 8.3829, 7.4764, 8.5781, 6.4862, 5.0546, 5.7107, 14.164000000000001, 5.734, 8.4084, 5.6407, 5.3794, 6.3654, 5.1301, 6.4296, 7.0708, 6.1891, 20.27, 5.4901, 6.3261, 5.5649, 18.945, 12.828, 10.957, 13.175999999999998, 22.203000000000003, 5.2524, 6.5894, 9.2482, 5.8918, 8.2111, 7.9334, 8.0959, 5.6063, 12.835999999999999, 6.3534, 5.4069, 6.8825, 11.708, 5.7737, 7.8247, 7.0931, 5.0702, 5.8014, 11.7, 5.5416, 7.5402, 5.3077, 7.4239, 7.6031, 6.3328, 6.3589, 6.2742, 5.6397, 9.3102, 9.4536, 8.8254, 5.1793, 21.279, 14.908, 18.959, 7.2182, 8.2951, 10.236, 5.4994, 20.340999999999998, 10.136000000000001, 7.3345, 6.0062, 7.2259, 5.0269, 6.5479, 7.5386, 5.0365, 10.274000000000001, 5.1077, 5.7292, 5.1884, 6.3557, 9.7687, 6.5159, 8.5172, 9.1802, 6.002000000000001, 5.5204, 5.0594, 5.7077, 7.6366, 5.8707, 5.3054, 8.2934, 13.394, 5.4369], \"y\": [17.592, 9.1302, 13.662, 11.854000000000001, 6.8233, 11.886, 4.3483, 12.0, 6.5987, 3.8166, 3.2522, 15.505, 3.1551, 7.2258, 0.71618, 3.5129, 5.3048, 0.56077, 3.6518, 5.3893, 3.1386, 21.767, 4.263, 5.1875, 3.0825, 22.638, 13.501, 7.0467, 14.692, 24.147, -1.22, 5.9966, 12.134, 1.8495, 6.5426, 4.5623, 4.1164, 3.3928, 10.117, 5.4974, 0.55657, 3.9115, 5.3854, 2.4406, 6.7318, 1.0463, 5.1337, 1.844, 8.0043, 1.0179, 6.7504, 1.8396, 4.2885, 4.9981, 1.4233, -1.4211, 2.4756, 4.6042, 3.9624, 5.4141, 5.1694, -0.74279, 17.929000000000002, 12.054, 17.054000000000002, 4.8852, 5.7442, 7.7754, 1.0173, 20.991999999999997, 6.6799, 4.0259, 1.2784, 3.3411, -2.6807, 0.29678000000000004, 3.8845, 5.7014, 6.7526, 2.0576, 0.47953, 0.20421, 0.67861, 7.5435, 5.3436, 4.2415, 6.7981, 0.92695, 0.152, 2.8214, 1.8451, 4.2959, 7.2029, 1.9869, 0.14454, 9.0551, 0.61705]}],\n",
       "                        {\"height\": 500, \"template\": {\"data\": {\"bar\": [{\"error_x\": {\"color\": \"#2a3f5f\"}, \"error_y\": {\"color\": \"#2a3f5f\"}, \"marker\": {\"line\": {\"color\": \"#E5ECF6\", \"width\": 0.5}}, \"type\": \"bar\"}], \"barpolar\": [{\"marker\": {\"line\": {\"color\": \"#E5ECF6\", \"width\": 0.5}}, \"type\": \"barpolar\"}], \"carpet\": [{\"aaxis\": {\"endlinecolor\": \"#2a3f5f\", \"gridcolor\": \"white\", \"linecolor\": \"white\", \"minorgridcolor\": \"white\", \"startlinecolor\": \"#2a3f5f\"}, \"baxis\": {\"endlinecolor\": \"#2a3f5f\", \"gridcolor\": \"white\", \"linecolor\": \"white\", \"minorgridcolor\": \"white\", \"startlinecolor\": \"#2a3f5f\"}, \"type\": \"carpet\"}], \"choropleth\": [{\"colorbar\": {\"outlinewidth\": 0, \"ticks\": \"\"}, \"type\": \"choropleth\"}], \"contour\": [{\"colorbar\": {\"outlinewidth\": 0, \"ticks\": \"\"}, \"colorscale\": [[0.0, \"#0d0887\"], [0.1111111111111111, \"#46039f\"], [0.2222222222222222, \"#7201a8\"], [0.3333333333333333, \"#9c179e\"], [0.4444444444444444, \"#bd3786\"], [0.5555555555555556, \"#d8576b\"], [0.6666666666666666, \"#ed7953\"], [0.7777777777777778, \"#fb9f3a\"], [0.8888888888888888, \"#fdca26\"], [1.0, \"#f0f921\"]], \"type\": \"contour\"}], \"contourcarpet\": [{\"colorbar\": {\"outlinewidth\": 0, \"ticks\": \"\"}, \"type\": \"contourcarpet\"}], \"heatmap\": [{\"colorbar\": {\"outlinewidth\": 0, \"ticks\": \"\"}, \"colorscale\": [[0.0, \"#0d0887\"], [0.1111111111111111, \"#46039f\"], [0.2222222222222222, \"#7201a8\"], [0.3333333333333333, \"#9c179e\"], [0.4444444444444444, \"#bd3786\"], [0.5555555555555556, \"#d8576b\"], [0.6666666666666666, \"#ed7953\"], [0.7777777777777778, \"#fb9f3a\"], [0.8888888888888888, \"#fdca26\"], [1.0, \"#f0f921\"]], \"type\": \"heatmap\"}], \"heatmapgl\": [{\"colorbar\": {\"outlinewidth\": 0, \"ticks\": \"\"}, \"colorscale\": [[0.0, \"#0d0887\"], [0.1111111111111111, \"#46039f\"], [0.2222222222222222, \"#7201a8\"], [0.3333333333333333, \"#9c179e\"], [0.4444444444444444, \"#bd3786\"], [0.5555555555555556, \"#d8576b\"], [0.6666666666666666, \"#ed7953\"], [0.7777777777777778, \"#fb9f3a\"], [0.8888888888888888, \"#fdca26\"], [1.0, \"#f0f921\"]], \"type\": \"heatmapgl\"}], \"histogram\": [{\"marker\": {\"colorbar\": {\"outlinewidth\": 0, \"ticks\": \"\"}}, \"type\": \"histogram\"}], \"histogram2d\": [{\"colorbar\": {\"outlinewidth\": 0, \"ticks\": \"\"}, \"colorscale\": [[0.0, \"#0d0887\"], [0.1111111111111111, \"#46039f\"], [0.2222222222222222, \"#7201a8\"], [0.3333333333333333, \"#9c179e\"], [0.4444444444444444, \"#bd3786\"], [0.5555555555555556, \"#d8576b\"], [0.6666666666666666, \"#ed7953\"], [0.7777777777777778, \"#fb9f3a\"], [0.8888888888888888, \"#fdca26\"], [1.0, \"#f0f921\"]], \"type\": \"histogram2d\"}], \"histogram2dcontour\": [{\"colorbar\": {\"outlinewidth\": 0, \"ticks\": \"\"}, \"colorscale\": [[0.0, \"#0d0887\"], [0.1111111111111111, \"#46039f\"], [0.2222222222222222, \"#7201a8\"], [0.3333333333333333, \"#9c179e\"], [0.4444444444444444, \"#bd3786\"], [0.5555555555555556, \"#d8576b\"], [0.6666666666666666, \"#ed7953\"], [0.7777777777777778, \"#fb9f3a\"], [0.8888888888888888, \"#fdca26\"], [1.0, \"#f0f921\"]], \"type\": \"histogram2dcontour\"}], \"mesh3d\": [{\"colorbar\": {\"outlinewidth\": 0, \"ticks\": \"\"}, \"type\": \"mesh3d\"}], \"parcoords\": [{\"line\": {\"colorbar\": {\"outlinewidth\": 0, \"ticks\": \"\"}}, \"type\": \"parcoords\"}], \"pie\": [{\"automargin\": true, \"type\": \"pie\"}], \"scatter\": [{\"marker\": {\"colorbar\": {\"outlinewidth\": 0, \"ticks\": \"\"}}, \"type\": \"scatter\"}], \"scatter3d\": [{\"line\": {\"colorbar\": {\"outlinewidth\": 0, \"ticks\": \"\"}}, \"marker\": {\"colorbar\": {\"outlinewidth\": 0, \"ticks\": \"\"}}, \"type\": \"scatter3d\"}], \"scattercarpet\": [{\"marker\": {\"colorbar\": {\"outlinewidth\": 0, \"ticks\": \"\"}}, \"type\": \"scattercarpet\"}], \"scattergeo\": [{\"marker\": {\"colorbar\": {\"outlinewidth\": 0, \"ticks\": \"\"}}, \"type\": \"scattergeo\"}], \"scattergl\": [{\"marker\": {\"colorbar\": {\"outlinewidth\": 0, \"ticks\": \"\"}}, \"type\": \"scattergl\"}], \"scattermapbox\": [{\"marker\": {\"colorbar\": {\"outlinewidth\": 0, \"ticks\": \"\"}}, \"type\": \"scattermapbox\"}], \"scatterpolar\": [{\"marker\": {\"colorbar\": {\"outlinewidth\": 0, \"ticks\": \"\"}}, \"type\": \"scatterpolar\"}], \"scatterpolargl\": [{\"marker\": {\"colorbar\": {\"outlinewidth\": 0, \"ticks\": \"\"}}, \"type\": \"scatterpolargl\"}], \"scatterternary\": [{\"marker\": {\"colorbar\": {\"outlinewidth\": 0, \"ticks\": \"\"}}, \"type\": \"scatterternary\"}], \"surface\": [{\"colorbar\": {\"outlinewidth\": 0, \"ticks\": \"\"}, \"colorscale\": [[0.0, \"#0d0887\"], [0.1111111111111111, \"#46039f\"], [0.2222222222222222, \"#7201a8\"], [0.3333333333333333, \"#9c179e\"], [0.4444444444444444, \"#bd3786\"], [0.5555555555555556, \"#d8576b\"], [0.6666666666666666, \"#ed7953\"], [0.7777777777777778, \"#fb9f3a\"], [0.8888888888888888, \"#fdca26\"], [1.0, \"#f0f921\"]], \"type\": \"surface\"}], \"table\": [{\"cells\": {\"fill\": {\"color\": \"#EBF0F8\"}, \"line\": {\"color\": \"white\"}}, \"header\": {\"fill\": {\"color\": \"#C8D4E3\"}, \"line\": {\"color\": \"white\"}}, \"type\": \"table\"}]}, \"layout\": {\"annotationdefaults\": {\"arrowcolor\": \"#2a3f5f\", \"arrowhead\": 0, \"arrowwidth\": 1}, \"coloraxis\": {\"colorbar\": {\"outlinewidth\": 0, \"ticks\": \"\"}}, \"colorscale\": {\"diverging\": [[0, \"#8e0152\"], [0.1, \"#c51b7d\"], [0.2, \"#de77ae\"], [0.3, \"#f1b6da\"], [0.4, \"#fde0ef\"], [0.5, \"#f7f7f7\"], [0.6, \"#e6f5d0\"], [0.7, \"#b8e186\"], [0.8, \"#7fbc41\"], [0.9, \"#4d9221\"], [1, \"#276419\"]], \"sequential\": [[0.0, \"#0d0887\"], [0.1111111111111111, \"#46039f\"], [0.2222222222222222, \"#7201a8\"], [0.3333333333333333, \"#9c179e\"], [0.4444444444444444, \"#bd3786\"], [0.5555555555555556, \"#d8576b\"], [0.6666666666666666, \"#ed7953\"], [0.7777777777777778, \"#fb9f3a\"], [0.8888888888888888, \"#fdca26\"], [1.0, \"#f0f921\"]], \"sequentialminus\": [[0.0, \"#0d0887\"], [0.1111111111111111, \"#46039f\"], [0.2222222222222222, \"#7201a8\"], [0.3333333333333333, \"#9c179e\"], [0.4444444444444444, \"#bd3786\"], [0.5555555555555556, \"#d8576b\"], [0.6666666666666666, \"#ed7953\"], [0.7777777777777778, \"#fb9f3a\"], [0.8888888888888888, \"#fdca26\"], [1.0, \"#f0f921\"]]}, \"colorway\": [\"#636efa\", \"#EF553B\", \"#00cc96\", \"#ab63fa\", \"#FFA15A\", \"#19d3f3\", \"#FF6692\", \"#B6E880\", \"#FF97FF\", \"#FECB52\"], \"font\": {\"color\": \"#2a3f5f\"}, \"geo\": {\"bgcolor\": \"white\", \"lakecolor\": \"white\", \"landcolor\": \"#E5ECF6\", \"showlakes\": true, \"showland\": true, \"subunitcolor\": \"white\"}, \"hoverlabel\": {\"align\": \"left\"}, \"hovermode\": \"closest\", \"mapbox\": {\"style\": \"light\"}, \"paper_bgcolor\": \"white\", \"plot_bgcolor\": \"#E5ECF6\", \"polar\": {\"angularaxis\": {\"gridcolor\": \"white\", \"linecolor\": \"white\", \"ticks\": \"\"}, \"bgcolor\": \"#E5ECF6\", \"radialaxis\": {\"gridcolor\": \"white\", \"linecolor\": \"white\", \"ticks\": \"\"}}, \"scene\": {\"xaxis\": {\"backgroundcolor\": \"#E5ECF6\", \"gridcolor\": \"white\", \"gridwidth\": 2, \"linecolor\": \"white\", \"showbackground\": true, \"ticks\": \"\", \"zerolinecolor\": \"white\"}, \"yaxis\": {\"backgroundcolor\": \"#E5ECF6\", \"gridcolor\": \"white\", \"gridwidth\": 2, \"linecolor\": \"white\", \"showbackground\": true, \"ticks\": \"\", \"zerolinecolor\": \"white\"}, \"zaxis\": {\"backgroundcolor\": \"#E5ECF6\", \"gridcolor\": \"white\", \"gridwidth\": 2, \"linecolor\": \"white\", \"showbackground\": true, \"ticks\": \"\", \"zerolinecolor\": \"white\"}}, \"shapedefaults\": {\"line\": {\"color\": \"#2a3f5f\"}}, \"ternary\": {\"aaxis\": {\"gridcolor\": \"white\", \"linecolor\": \"white\", \"ticks\": \"\"}, \"baxis\": {\"gridcolor\": \"white\", \"linecolor\": \"white\", \"ticks\": \"\"}, \"bgcolor\": \"#E5ECF6\", \"caxis\": {\"gridcolor\": \"white\", \"linecolor\": \"white\", \"ticks\": \"\"}}, \"title\": {\"x\": 0.05}, \"xaxis\": {\"automargin\": true, \"gridcolor\": \"white\", \"linecolor\": \"white\", \"ticks\": \"\", \"title\": {\"standoff\": 15}, \"zerolinecolor\": \"white\", \"zerolinewidth\": 2}, \"yaxis\": {\"automargin\": true, \"gridcolor\": \"white\", \"linecolor\": \"white\", \"ticks\": \"\", \"title\": {\"standoff\": 15}, \"zerolinecolor\": \"white\", \"zerolinewidth\": 2}}}, \"width\": 500},\n",
       "                        {\"showLink\": true, \"linkText\": \"Export to plot.ly\", \"plotlyServerURL\": \"https://plot.ly\", \"responsive\": true}\n",
       "                    ).then(function(){\n",
       "                            \n",
       "var gd = document.getElementById('0793b599-92ea-4070-bbd6-845d273c66a8');\n",
       "var x = new MutationObserver(function (mutations, observer) {{\n",
       "        var display = window.getComputedStyle(gd).display;\n",
       "        if (!display || display === 'none') {{\n",
       "            console.log([gd, 'removed!']);\n",
       "            Plotly.purge(gd);\n",
       "            observer.disconnect();\n",
       "        }}\n",
       "}});\n",
       "\n",
       "// Listen for the removal of the full notebook cells\n",
       "var notebookContainer = gd.closest('#notebook-container');\n",
       "if (notebookContainer) {{\n",
       "    x.observe(notebookContainer, {childList: true});\n",
       "}}\n",
       "\n",
       "// Listen for the clearing of the current output cell\n",
       "var outputEl = gd.closest('.output');\n",
       "if (outputEl) {{\n",
       "    x.observe(outputEl, {childList: true});\n",
       "}}\n",
       "\n",
       "                        })\n",
       "                };\n",
       "                });\n",
       "            </script>\n",
       "        </div>"
      ]
     },
     "metadata": {},
     "output_type": "display_data"
    }
   ],
   "source": [
    "df.iplot(\n",
    "    x='population',\n",
    "    y='profit',\n",
    "    xTitle='城市人口',\n",
    "    yTitle='快餐车收益',\n",
    "    layout=dict(height=500,width=500),\n",
    "    mode='markers',size=5)"
   ]
  },
  {
   "cell_type": "markdown",
   "metadata": {},
   "source": [
    "## 3）构建假设函数（Hypothesis）"
   ]
  },
  {
   "cell_type": "markdown",
   "metadata": {},
   "source": [
    "单变量回归的假设 h 表示为：\\\\[{{h}_{\\theta }}\\left( x \\right)={{\\theta }_{0}}+{{\\theta }_{1}}{x}\\\\] \n",
    "这个公式中有2个参数和1个变量，引入${{x}_{0}}=1$，则公式转化为：  \n",
    "$${{h}_{\\theta }}\\left( x \\right)={{\\theta }^{T}}X$$其中上标T代表矩阵转置。\n"
   ]
  },
  {
   "cell_type": "code",
   "execution_count": 231,
   "metadata": {},
   "outputs": [],
   "source": [
    "# 定义X矩阵函数\n",
    "def get_X(df):\n",
    "    # 引入变量x0，创建含有x0和x1的矩阵\n",
    "    x_zero=pd.DataFrame(data=np.ones(len(df)))\n",
    "    x=df.iloc[:, :-1]\n",
    "    X=np.matrix(pd.concat([x_zero, x], axis=1))\n",
    "    return X\n",
    "\n",
    "# 定义y矩阵函数，用于之后正规方程的计算\n",
    "def get_y(df):\n",
    "    y=np.matrix(df.iloc[:, -1]).T\n",
    "    return y"
   ]
  },
  {
   "cell_type": "markdown",
   "metadata": {},
   "source": [
    "## 4）计算代价函数（Cost Function）\n",
    "$$J\\left( \\theta  \\right)=\\frac{1}{2m}\\sum\\limits_{i=1}^{m}{{{\\left( {{h}_{\\theta }}\\left( {{x}^{(i)}} \\right)-{{y}^{(i)}} \\right)}^{2}}}$$\n",
    "其中：\\\\[{{h}_{\\theta }}\\left( x \\right)={{\\theta }^{T}}X={{\\theta }_{0}}{{x}_{0}}+{{\\theta }_{1}}{{x}_{1}}+{{\\theta }_{2}}{{x}_{2}}+...+{{\\theta }_{n}}{{x}_{n}}\\\\] "
   ]
  },
  {
   "cell_type": "code",
   "execution_count": 138,
   "metadata": {},
   "outputs": [
    {
     "name": "stdout",
     "output_type": "stream",
     "text": [
      "(97, 2) (1, 2) (97, 1)\n"
     ]
    }
   ],
   "source": [
    "# 定义代价函数的计算\n",
    "def computecost(X,y,theta):\n",
    "    inner=np.power(((X@theta.T)-y),2)\n",
    "    cost=np.sum(inner)/(2 * y.size)\n",
    "    return cost\n",
    "\n",
    "# 赋值X,y，theta初始值设为（0,0）\n",
    "X=get_X(df)\n",
    "y=get_y(df)\n",
    "theta=np.matrix(np.zeros((1,2)))\n",
    "print(X.shape, theta.shape, y.shape)"
   ]
  },
  {
   "cell_type": "code",
   "execution_count": 139,
   "metadata": {},
   "outputs": [
    {
     "data": {
      "text/plain": [
       "32.072733877455676"
      ]
     },
     "execution_count": 139,
     "metadata": {},
     "output_type": "execute_result"
    }
   ],
   "source": [
    "# 计算theta为初始值（0,0）时的代价函数\n",
    "computecost(X, y, theta)"
   ]
  },
  {
   "cell_type": "markdown",
   "metadata": {},
   "source": [
    "## 5）梯度下降算法（Gradient Descent）\n",
    "$${{\\theta }_{j}}:={{\\theta }_{j}}-\\alpha \\frac{\\partial }{\\partial {{\\theta }_{j}}}J\\left( \\theta  \\right)$$\n",
    "简化之后得到\n",
    "$${{\\theta }_{j}}:={{\\theta }_{j}}-\\alpha \\frac{1}{m}\\sum\\limits_{i=1}^{m}{{{\\left( {{h}_{\\theta }}\\left( {{x}^{(i)}} \\right)-{{y}^{(i)}} \\right){{x}^{(i)}}}}}$$\n",
    "* 本次我们采用批量梯度下降（Batch Gradient Descent）"
   ]
  },
  {
   "cell_type": "code",
   "execution_count": 140,
   "metadata": {},
   "outputs": [],
   "source": [
    "# 定义梯度下降函数,iters表示迭代次数\n",
    "def gradientDescent(X, y, theta, alpha, iters):\n",
    "    temp = np.matrix(np.zeros(theta.shape))#设置temp作为theta的转换\n",
    "    parameters = int(theta.ravel().shape[1])#2\n",
    "    cost = np.zeros(iters)\n",
    "    \n",
    "    # 设置迭代循环\n",
    "    for i in range(iters):\n",
    "        error = (X * theta.T) - y\n",
    "        \n",
    "        for j in range(parameters):\n",
    "            term = np.multiply(error, X[:,j])\n",
    "            temp[0,j] = theta[0,j] - ((alpha / len(X)) * np.sum(term))\n",
    "            \n",
    "        theta = temp\n",
    "        cost[i] = computecost(X, y, theta)\n",
    "        \n",
    "    return theta, cost\n",
    "# 设置alpha为0.02，iters为1000次\n",
    "alpha=0.02\n",
    "iters=1000\n"
   ]
  },
  {
   "cell_type": "code",
   "execution_count": 142,
   "metadata": {},
   "outputs": [
    {
     "name": "stdout",
     "output_type": "stream",
     "text": [
      "[[-3.78841926  1.18224801]]\n",
      "4.478020743321126\n"
     ]
    }
   ],
   "source": [
    "# 得到最终的theta\n",
    "print(gradientDescent(X, y, theta, alpha, iters)[0])\n",
    "# 最小的代价函数\n",
    "print(gradientDescent(X, y, theta, alpha, iters)[1].min())\n"
   ]
  },
  {
   "cell_type": "markdown",
   "metadata": {},
   "source": [
    "## 6）代价数据可视化（visualize cost data）"
   ]
  },
  {
   "cell_type": "code",
   "execution_count": 148,
   "metadata": {
    "scrolled": false
   },
   "outputs": [
    {
     "data": {
      "application/vnd.plotly.v1+json": {
       "config": {
        "linkText": "Export to plot.ly",
        "plotlyServerURL": "https://plot.ly",
        "showLink": true
       },
       "data": [
        {
         "line": {
          "color": "rgba(255, 153, 51, 1.0)",
          "dash": "solid",
          "shape": "linear",
          "width": 1.3
         },
         "mode": "lines",
         "name": "0",
         "text": "",
         "type": "scatter",
         "x": [
          0,
          1,
          2,
          3,
          4,
          5,
          6,
          7,
          8,
          9,
          10,
          11,
          12,
          13,
          14,
          15,
          16,
          17,
          18,
          19,
          20,
          21,
          22,
          23,
          24,
          25,
          26,
          27,
          28,
          29,
          30,
          31,
          32,
          33,
          34,
          35,
          36,
          37,
          38,
          39,
          40,
          41,
          42,
          43,
          44,
          45,
          46,
          47,
          48,
          49,
          50,
          51,
          52,
          53,
          54,
          55,
          56,
          57,
          58,
          59,
          60,
          61,
          62,
          63,
          64,
          65,
          66,
          67,
          68,
          69,
          70,
          71,
          72,
          73,
          74,
          75,
          76,
          77,
          78,
          79,
          80,
          81,
          82,
          83,
          84,
          85,
          86,
          87,
          88,
          89,
          90,
          91,
          92,
          93,
          94,
          95,
          96,
          97,
          98,
          99,
          100,
          101,
          102,
          103,
          104,
          105,
          106,
          107,
          108,
          109,
          110,
          111,
          112,
          113,
          114,
          115,
          116,
          117,
          118,
          119,
          120,
          121,
          122,
          123,
          124,
          125,
          126,
          127,
          128,
          129,
          130,
          131,
          132,
          133,
          134,
          135,
          136,
          137,
          138,
          139,
          140,
          141,
          142,
          143,
          144,
          145,
          146,
          147,
          148,
          149,
          150,
          151,
          152,
          153,
          154,
          155,
          156,
          157,
          158,
          159,
          160,
          161,
          162,
          163,
          164,
          165,
          166,
          167,
          168,
          169,
          170,
          171,
          172,
          173,
          174,
          175,
          176,
          177,
          178,
          179,
          180,
          181,
          182,
          183,
          184,
          185,
          186,
          187,
          188,
          189,
          190,
          191,
          192,
          193,
          194,
          195,
          196,
          197,
          198,
          199,
          200,
          201,
          202,
          203,
          204,
          205,
          206,
          207,
          208,
          209,
          210,
          211,
          212,
          213,
          214,
          215,
          216,
          217,
          218,
          219,
          220,
          221,
          222,
          223,
          224,
          225,
          226,
          227,
          228,
          229,
          230,
          231,
          232,
          233,
          234,
          235,
          236,
          237,
          238,
          239,
          240,
          241,
          242,
          243,
          244,
          245,
          246,
          247,
          248,
          249,
          250,
          251,
          252,
          253,
          254,
          255,
          256,
          257,
          258,
          259,
          260,
          261,
          262,
          263,
          264,
          265,
          266,
          267,
          268,
          269,
          270,
          271,
          272,
          273,
          274,
          275,
          276,
          277,
          278,
          279,
          280,
          281,
          282,
          283,
          284,
          285,
          286,
          287,
          288,
          289,
          290,
          291,
          292,
          293,
          294,
          295,
          296,
          297,
          298,
          299,
          300,
          301,
          302,
          303,
          304,
          305,
          306,
          307,
          308,
          309,
          310,
          311,
          312,
          313,
          314,
          315,
          316,
          317,
          318,
          319,
          320,
          321,
          322,
          323,
          324,
          325,
          326,
          327,
          328,
          329,
          330,
          331,
          332,
          333,
          334,
          335,
          336,
          337,
          338,
          339,
          340,
          341,
          342,
          343,
          344,
          345,
          346,
          347,
          348,
          349,
          350,
          351,
          352,
          353,
          354,
          355,
          356,
          357,
          358,
          359,
          360,
          361,
          362,
          363,
          364,
          365,
          366,
          367,
          368,
          369,
          370,
          371,
          372,
          373,
          374,
          375,
          376,
          377,
          378,
          379,
          380,
          381,
          382,
          383,
          384,
          385,
          386,
          387,
          388,
          389,
          390,
          391,
          392,
          393,
          394,
          395,
          396,
          397,
          398,
          399,
          400,
          401,
          402,
          403,
          404,
          405,
          406,
          407,
          408,
          409,
          410,
          411,
          412,
          413,
          414,
          415,
          416,
          417,
          418,
          419,
          420,
          421,
          422,
          423,
          424,
          425,
          426,
          427,
          428,
          429,
          430,
          431,
          432,
          433,
          434,
          435,
          436,
          437,
          438,
          439,
          440,
          441,
          442,
          443,
          444,
          445,
          446,
          447,
          448,
          449,
          450,
          451,
          452,
          453,
          454,
          455,
          456,
          457,
          458,
          459,
          460,
          461,
          462,
          463,
          464,
          465,
          466,
          467,
          468,
          469,
          470,
          471,
          472,
          473,
          474,
          475,
          476,
          477,
          478,
          479,
          480,
          481,
          482,
          483,
          484,
          485,
          486,
          487,
          488,
          489,
          490,
          491,
          492,
          493,
          494,
          495,
          496,
          497,
          498,
          499,
          500,
          501,
          502,
          503,
          504,
          505,
          506,
          507,
          508,
          509,
          510,
          511,
          512,
          513,
          514,
          515,
          516,
          517,
          518,
          519,
          520,
          521,
          522,
          523,
          524,
          525,
          526,
          527,
          528,
          529,
          530,
          531,
          532,
          533,
          534,
          535,
          536,
          537,
          538,
          539,
          540,
          541,
          542,
          543,
          544,
          545,
          546,
          547,
          548,
          549,
          550,
          551,
          552,
          553,
          554,
          555,
          556,
          557,
          558,
          559,
          560,
          561,
          562,
          563,
          564,
          565,
          566,
          567,
          568,
          569,
          570,
          571,
          572,
          573,
          574,
          575,
          576,
          577,
          578,
          579,
          580,
          581,
          582,
          583,
          584,
          585,
          586,
          587,
          588,
          589,
          590,
          591,
          592,
          593,
          594,
          595,
          596,
          597,
          598,
          599,
          600,
          601,
          602,
          603,
          604,
          605,
          606,
          607,
          608,
          609,
          610,
          611,
          612,
          613,
          614,
          615,
          616,
          617,
          618,
          619,
          620,
          621,
          622,
          623,
          624,
          625,
          626,
          627,
          628,
          629,
          630,
          631,
          632,
          633,
          634,
          635,
          636,
          637,
          638,
          639,
          640,
          641,
          642,
          643,
          644,
          645,
          646,
          647,
          648,
          649,
          650,
          651,
          652,
          653,
          654,
          655,
          656,
          657,
          658,
          659,
          660,
          661,
          662,
          663,
          664,
          665,
          666,
          667,
          668,
          669,
          670,
          671,
          672,
          673,
          674,
          675,
          676,
          677,
          678,
          679,
          680,
          681,
          682,
          683,
          684,
          685,
          686,
          687,
          688,
          689,
          690,
          691,
          692,
          693,
          694,
          695,
          696,
          697,
          698,
          699,
          700,
          701,
          702,
          703,
          704,
          705,
          706,
          707,
          708,
          709,
          710,
          711,
          712,
          713,
          714,
          715,
          716,
          717,
          718,
          719,
          720,
          721,
          722,
          723,
          724,
          725,
          726,
          727,
          728,
          729,
          730,
          731,
          732,
          733,
          734,
          735,
          736,
          737,
          738,
          739,
          740,
          741,
          742,
          743,
          744,
          745,
          746,
          747,
          748,
          749,
          750,
          751,
          752,
          753,
          754,
          755,
          756,
          757,
          758,
          759,
          760,
          761,
          762,
          763,
          764,
          765,
          766,
          767,
          768,
          769,
          770,
          771,
          772,
          773,
          774,
          775,
          776,
          777,
          778,
          779,
          780,
          781,
          782,
          783,
          784,
          785,
          786,
          787,
          788,
          789,
          790,
          791,
          792,
          793,
          794,
          795,
          796,
          797,
          798,
          799,
          800,
          801,
          802,
          803,
          804,
          805,
          806,
          807,
          808,
          809,
          810,
          811,
          812,
          813,
          814,
          815,
          816,
          817,
          818,
          819,
          820,
          821,
          822,
          823,
          824,
          825,
          826,
          827,
          828,
          829,
          830,
          831,
          832,
          833,
          834,
          835,
          836,
          837,
          838,
          839,
          840,
          841,
          842,
          843,
          844,
          845,
          846,
          847,
          848,
          849,
          850,
          851,
          852,
          853,
          854,
          855,
          856,
          857,
          858,
          859,
          860,
          861,
          862,
          863,
          864,
          865,
          866,
          867,
          868,
          869,
          870,
          871,
          872,
          873,
          874,
          875,
          876,
          877,
          878,
          879,
          880,
          881,
          882,
          883,
          884,
          885,
          886,
          887,
          888,
          889,
          890,
          891,
          892,
          893,
          894,
          895,
          896,
          897,
          898,
          899,
          900,
          901,
          902,
          903,
          904,
          905,
          906,
          907,
          908,
          909,
          910,
          911,
          912,
          913,
          914,
          915,
          916,
          917,
          918,
          919,
          920,
          921,
          922,
          923,
          924,
          925,
          926,
          927,
          928,
          929,
          930,
          931,
          932,
          933,
          934,
          935,
          936,
          937,
          938,
          939,
          940,
          941,
          942,
          943,
          944,
          945,
          946,
          947,
          948,
          949,
          950,
          951,
          952,
          953,
          954,
          955,
          956,
          957,
          958,
          959,
          960,
          961,
          962,
          963,
          964,
          965,
          966,
          967,
          968,
          969,
          970,
          971,
          972,
          973,
          974,
          975,
          976,
          977,
          978,
          979,
          980,
          981,
          982,
          983,
          984,
          985,
          986,
          987,
          988,
          989,
          990,
          991,
          992,
          993,
          994,
          995,
          996,
          997,
          998,
          999
         ],
         "y": [
          16.76964237166747,
          10.407579751768978,
          7.759183480302341,
          6.653287534646751,
          6.188105823037991,
          5.989084519364202,
          5.900653772925786,
          5.858197920163226,
          5.834878785201405,
          5.819548934223245,
          5.807578027277277,
          5.797042577385664,
          5.787143381054755,
          5.777548203870704,
          5.768118767375578,
          5.758797354060333,
          5.749559709152846,
          5.740395478534908,
          5.731300083688729,
          5.7222713469714925,
          5.713308089921204,
          5.704409551053921,
          5.695575144033777,
          5.686804357215719,
          5.678096711906953,
          5.669451745017106,
          5.660869001838244,
          5.6523480330323945,
          5.643888393366726,
          5.635489641174721,
          5.6271513381189795,
          5.618873049079403,
          5.6106543420935395,
          5.602494788318711,
          5.59439396200325,
          5.586351440461656,
          5.578366804051419,
          5.570439636150689,
          5.562569523136332,
          5.554756054362274,
          5.546998822138042,
          5.539297421707482,
          5.531651451227627,
          5.5240605117477335,
          5.5165242071884535,
          5.509042144321186,
          5.501613932747542,
          5.494239184878978,
          5.486917515916582,
          5.479648543830982,
          5.472431889342422,
          5.465267175900967,
          5.458154029666859,
          5.4510920794910085,
          5.444080956895625,
          5.437120296055004,
          5.4302097337764215,
          5.423348909481195,
          5.416537465185866,
          5.409775045483519,
          5.403061297525241,
          5.396395871001712,
          5.389778418124915,
          5.383208593610006,
          5.376686054657283,
          5.3702104609343095,
          5.363781474558154,
          5.357398760077755,
          5.351061984456422,
          5.344770817054462,
          5.33852492961192,
          5.3323239962314535,
          5.326167693361334,
          5.320055699778554,
          5.313987696572079,
          5.30796336712619,
          5.301982397103983,
          5.296044474430953,
          5.290149289278716,
          5.284296534048845,
          5.278485903356815,
          5.272717094016074,
          5.266989805022217,
          5.261303737537286,
          5.255658594874174,
          5.2500540824811495,
          5.244489907926477,
          5.238965780883169,
          5.233481413113833,
          5.2280365184556326,
          5.222630812805355,
          5.217264014104588,
          5.211935842325,
          5.206646019453738,
          5.201394269478911,
          5.196180318375187,
          5.1910038940895085,
          5.185864726526886,
          5.180762547536304,
          5.1756970908967395,
          5.170668092303259,
          5.165675289353239,
          5.160718421532666,
          5.155797230202545,
          5.1509114585854086,
          5.146060851751914,
          5.141245156607544,
          5.136464121879404,
          5.1317174981030975,
          5.127005037609731,
          5.12232649451297,
          5.117681624696227,
          5.113070185799911,
          5.108491937208786,
          5.103946640039418,
          5.09943405712771,
          5.094953953016527,
          5.090506093943406,
          5.08609024782837,
          5.081706184261801,
          5.077353674492437,
          5.073032491415424,
          5.068742409560468,
          5.06448320508007,
          5.060254655737853,
          5.056056540896959,
          5.051888641508537,
          5.047750740100315,
          5.043642620765256,
          5.039564069150285,
          5.0355148724451135,
          5.031494819371125,
          5.027503700170363,
          5.023541306594575,
          5.0196074318943555,
          5.015701870808349,
          5.0118244195525525,
          5.0079748758096665,
          5.004153038718556,
          5.000358708863753,
          4.996591688265067,
          4.99285178036724,
          4.989138790029705,
          4.985452523516392,
          4.981792788485625,
          4.978159393980087,
          4.974552150416855,
          4.9709708695775054,
          4.9674153645982955,
          4.963885449960413,
          4.960380941480297,
          4.956901656300029,
          4.953447412877782,
          4.950018030978364,
          4.9466133316638015,
          4.943233137284004,
          4.939877271467502,
          4.93654555911224,
          4.933237826376433,
          4.929953900669509,
          4.926693610643094,
          4.923456786182074,
          4.920243258395721,
          4.917052859608877,
          4.913885423353209,
          4.910740784358518,
          4.90761877854412,
          4.9045192430102835,
          4.901442016029728,
          4.898386937039186,
          4.89535384663103,
          4.892342586544944,
          4.889352999659677,
          4.8863849299848425,
          4.883438222652771,
          4.8805127239104396,
          4.877608281111444,
          4.874724742708034,
          4.871861958243208,
          4.869019778342863,
          4.866198054707997,
          4.863396640106973,
          4.860615388367838,
          4.8578541543706955,
          4.85511279404013,
          4.852391164337695,
          4.849689123254447,
          4.847006529803536,
          4.844343244012846,
          4.841699126917694,
          4.8390740405535855,
          4.836467847949003,
          4.83388041311827,
          4.8313116010544475,
          4.828761277722299,
          4.826229310051286,
          4.823715565928633,
          4.821219914192431,
          4.818742224624793,
          4.816282367945059,
          4.813840215803055,
          4.811415640772391,
          4.809008516343814,
          4.8066187169186065,
          4.804246117802036,
          4.8018905951968405,
          4.799552026196781,
          4.797230288780218,
          4.79492526180375,
          4.792636824995891,
          4.790364858950799,
          4.788109245122034,
          4.785869865816388,
          4.783646604187734,
          4.78143934423093,
          4.779247970775768,
          4.777072369480967,
          4.774912426828203,
          4.772768030116184,
          4.77063906745478,
          4.7685254277591715,
          4.766427000744059,
          4.764343676917911,
          4.76227534757725,
          4.76022190480098,
          4.758183241444749,
          4.756159251135367,
          4.754149828265257,
          4.7521548679869365,
          4.7501742662075515,
          4.748207919583443,
          4.746255725514761,
          4.7443175821401,
          4.742393388331193,
          4.740483043687634,
          4.7385864485316365,
          4.736703503902831,
          4.734834111553107,
          4.732978173941483,
          4.731135594229015,
          4.729306276273751,
          4.727490124625704,
          4.725687044521882,
          4.723896941881337,
          4.722119723300258,
          4.720355296047097,
          4.718603568057733,
          4.716864447930661,
          4.715137844922232,
          4.713423668941915,
          4.711721830547592,
          4.710032240940894,
          4.708354811962573,
          4.706689456087892,
          4.705036086422067,
          4.703394616695726,
          4.701764961260412,
          4.700147035084117,
          4.698540753746834,
          4.6969460334361655,
          4.695362790942941,
          4.693790943656879,
          4.692230409562277,
          4.690681107233732,
          4.689142955831886,
          4.687615875099218,
          4.686099785355851,
          4.684594607495395,
          4.683100262980815,
          4.681616673840342,
          4.6801437626633975,
          4.678681452596559,
          4.677229667339545,
          4.675788331141239,
          4.674357368795731,
          4.672936705638404,
          4.671526267542021,
          4.670125980912876,
          4.668735772686941,
          4.667355570326061,
          4.665985301814161,
          4.664624895653501,
          4.663274280860929,
          4.66193338696419,
          4.660602143998251,
          4.659280482501633,
          4.657968333512809,
          4.656665628566587,
          4.655372299690549,
          4.654088279401498,
          4.652813500701945,
          4.6515478970766,
          4.650291402488918,
          4.649043951377638,
          4.6478054786533685,
          4.646575919695197,
          4.645355210347307,
          4.644143286915639,
          4.642940086164565,
          4.641745545313585,
          4.640559602034057,
          4.6393821944459415,
          4.638213261114575,
          4.637052741047459,
          4.635900573691086,
          4.634756698927774,
          4.633621057072529,
          4.632493588869937,
          4.631374235491064,
          4.630262938530394,
          4.629159640002776,
          4.628064282340398,
          4.626976808389793,
          4.625897161408843,
          4.624825285063827,
          4.62376112342648,
          4.622704620971073,
          4.6216557225715205,
          4.620614373498497,
          4.619580519416586,
          4.618554106381445,
          4.617535080836987,
          4.616523389612593,
          4.615518979920331,
          4.614521799352205,
          4.613531795877417,
          4.612548917839658,
          4.611573113954409,
          4.610604333306265,
          4.609642525346276,
          4.608687639889315,
          4.607739627111459,
          4.606798437547382,
          4.605864022087783,
          4.604936331976818,
          4.604015318809556,
          4.603100934529458,
          4.6021931314258655,
          4.601291862131512,
          4.600397079620049,
          4.599508737203599,
          4.5986267885303125,
          4.597751187581952,
          4.596881888671492,
          4.596018846440735,
          4.595162015857943,
          4.594311352215486,
          4.5934668111275165,
          4.59262834852765,
          4.591795920666657,
          4.590969484110198,
          4.590148995736537,
          4.58933441273431,
          4.588525692600281,
          4.587722793137125,
          4.586925672451227,
          4.586134288950497,
          4.585348601342197,
          4.584568568630796,
          4.583794150115818,
          4.5830253053897225,
          4.5822619943358,
          4.581504177126079,
          4.580751814219242,
          4.580004866358567,
          4.579263294569874,
          4.578527060159502,
          4.577796124712278,
          4.57707045008952,
          4.576349998427045,
          4.575634732133191,
          4.57492461388686,
          4.574219606635567,
          4.573519673593507,
          4.572824778239643,
          4.572134884315783,
          4.57144995582471,
          4.570769957028286,
          4.570094852445597,
          4.569424606851098,
          4.568759185272775,
          4.568098552990324,
          4.567442675533333,
          4.566791518679489,
          4.566145048452789,
          4.56550323112177,
          4.564866033197746,
          4.56423342143306,
          4.5636053628193585,
          4.562981824585854,
          4.562362774197625,
          4.561748179353919,
          4.56113800798646,
          4.560532228257787,
          4.559930808559578,
          4.559333717511011,
          4.558740923957126,
          4.558152396967194,
          4.557568105833109,
          4.556988020067781,
          4.556412109403548,
          4.555840343790598,
          4.555272693395397,
          4.554709128599133,
          4.554149619996176,
          4.553594138392537,
          4.553042654804346,
          4.552495140456346,
          4.5519515667803825,
          4.551411905413918,
          4.550876128198552,
          4.550344207178551,
          4.549816114599386,
          4.5492918229062935,
          4.5487713047428295,
          4.548254532949444,
          4.547741480562067,
          4.547232120810698,
          4.546726427118009,
          4.546224373097964,
          4.545725932554434,
          4.54523107947983,
          4.54473978805376,
          4.544252032641661,
          4.5437677877934775,
          4.543287028242326,
          4.542809728903179,
          4.542335864871554,
          4.54186541142222,
          4.541398344007899,
          4.54093463825799,
          4.540474269977296,
          4.540017215144766,
          4.53956344991223,
          4.539112950603175,
          4.538665693711483,
          4.5382216559002275,
          4.5377808140004445,
          4.537343145009926,
          4.536908626092019,
          4.536477234574434,
          4.536048947948069,
          4.535623743865819,
          4.535201600141424,
          4.534782494748312,
          4.534366405818438,
          4.533953311641151,
          4.533543190662064,
          4.533136021481918,
          4.53273178285548,
          4.532330453690422,
          4.531932013046231,
          4.531536440133107,
          4.53114371431088,
          4.530753815087941,
          4.530366722120163,
          4.529982415209844,
          4.529600874304655,
          4.52922207949659,
          4.528846011020925,
          4.528472649255199,
          4.528101974718171,
          4.527733968068821,
          4.527368610105334,
          4.527005881764093,
          4.526645764118693,
          4.526288238378949,
          4.525933285889915,
          4.525580888130913,
          4.525231026714565,
          4.524883683385835,
          4.524538840021075,
          4.5241964786270765,
          4.523856581340143,
          4.52351913042514,
          4.52318410827459,
          4.522851497407734,
          4.522521280469633,
          4.522193440230261,
          4.521867959583598,
          4.521544821546745,
          4.521224009259034,
          4.520905505981154,
          4.520589295094267,
          4.520275360099151,
          4.519963684615338,
          4.519654252380249,
          4.51934704724836,
          4.519042053190349,
          4.518739254292265,
          4.518438634754693,
          4.518140178891936,
          4.517843871131191,
          4.517549696011738,
          4.517257638184136,
          4.516967682409417,
          4.516679813558298,
          4.5163940166103815,
          4.516110276653383,
          4.515828578882345,
          4.5155489085988645,
          4.515271251210334,
          4.5149955922291705,
          4.514721917272065,
          4.514450212059231,
          4.51418046241366,
          4.513912654260378,
          4.513646773625716,
          4.513382806636581,
          4.5131207395197235,
          4.512860558601035,
          4.5126022503048135,
          4.512345801153076,
          4.512091197764844,
          4.511838426855442,
          4.511587475235814,
          4.511338329811828,
          4.511090977583599,
          4.510845405644805,
          4.510601601182015,
          4.510359551474021,
          4.51011924389118,
          4.509880665894741,
          4.509643805036204,
          4.509408648956667,
          4.509175185386174,
          4.508943402143087,
          4.508713287133441,
          4.508484828350316,
          4.50825801387321,
          4.5080328318674185,
          4.507809270583417,
          4.507587318356243,
          4.507366963604894,
          4.50714819483172,
          4.506931000621827,
          4.506715369642471,
          4.506501290642482,
          4.506288752451664,
          4.506077743980219,
          4.505868254218166,
          4.50566027223477,
          4.505453787177963,
          4.5052487882737875,
          4.5050452648258315,
          4.504843206214665,
          4.5046426018972925,
          4.504443441406602,
          4.504245714350813,
          4.504049410412946,
          4.503854519350266,
          4.503661030993771,
          4.50346893524764,
          4.503278222088719,
          4.503088881565995,
          4.502900903800075,
          4.502714278982674,
          4.502528997376097,
          4.50234504931274,
          4.5021624251945775,
          4.5019811154926614,
          4.5018011107466345,
          4.501622401564226,
          4.5014449786207615,
          4.501268832658686,
          4.501093954487071,
          4.500920334981137,
          4.500747965081784,
          4.50057683579511,
          4.500406938191949,
          4.500238263407397,
          4.500070802640357,
          4.499904547153076,
          4.499739488270693,
          4.499575617380779,
          4.4994129259328925,
          4.4992514054381365,
          4.499091047468709,
          4.4989318436574655,
          4.498773785697485,
          4.498616865341633,
          4.498461074402136,
          4.498306404750146,
          4.498152848315325,
          4.498000397085419,
          4.497849043105842,
          4.497698778479262,
          4.497549595365181,
          4.497401485979542,
          4.4972544425943,
          4.497108457537045,
          4.496963523190578,
          4.49681963199253,
          4.49667677643496,
          4.496534949063961,
          4.4963941424792795,
          4.496254349333923,
          4.496115562333777,
          4.495977774237225,
          4.495840977854773,
          4.4957051660486735,
          4.495570331732549,
          4.495436467871027,
          4.495303567479372,
          4.495171623623119,
          4.495040629417714,
          4.494910578028152,
          4.494781462668627,
          4.494653276602165,
          4.494526013140287,
          4.494399665642654,
          4.4942742275167165,
          4.494149692217374,
          4.494026053246638,
          4.493903304153283,
          4.493781438532519,
          4.4936604500256525,
          4.493540332319758,
          4.493421079147343,
          4.493302684286027,
          4.4931851415582145,
          4.49306844483077,
          4.492952588014705,
          4.4928375650648515,
          4.492723369979553,
          4.492609996800348,
          4.492497439611663,
          4.4923856925404975,
          4.492274749756125,
          4.492164605469782,
          4.492055253934368,
          4.491946689444154,
          4.491838906334466,
          4.491731898981412,
          4.491625661801567,
          4.491520189251702,
          4.491415475828478,
          4.4913115160681665,
          4.491208304546366,
          4.491105835877716,
          4.491004104715613,
          4.490903105751941,
          4.490802833716784,
          4.490703283378156,
          4.49060444954173,
          4.4905063270505625,
          4.4904089107848275,
          4.490312195661548,
          4.49021617663433,
          4.4901208486931035,
          4.4900262068638535,
          4.48993224620837,
          4.489838961823982,
          4.489746348843304,
          4.4896544024339855,
          4.489563117798455,
          4.489472490173671,
          4.489382514830874,
          4.489293187075338,
          4.489204502246129,
          4.489116455715857,
          4.48902904289044,
          4.488942259208857,
          4.488856100142918,
          4.4887705611970246,
          4.488685637907931,
          4.48860132584452,
          4.488517620607563,
          4.488434517829497,
          4.488352013174193,
          4.488270102336728,
          4.48818878104317,
          4.48810804505034,
          4.488027890145607,
          4.487948312146651,
          4.487869306901262,
          4.48779087028711,
          4.487712998211538,
          4.487635686611342,
          4.487558931452566,
          4.487482728730286,
          4.487407074468403,
          4.487331964719436,
          4.487257395564316,
          4.48718336311218,
          4.487109863500169,
          4.487036892893229,
          4.486964447483904,
          4.486892523492144,
          4.486821117165108,
          4.486750224776961,
          4.486679842628687,
          4.486609967047894,
          4.486540594388619,
          4.486471721031143,
          4.486403343381796,
          4.486335457872778,
          4.486268060961964,
          4.486201149132724,
          4.486134718893739,
          4.486068766778817,
          4.486003289346716,
          4.48593828318096,
          4.485873744889664,
          4.485809671105355,
          4.485746058484795,
          4.485682903708813,
          4.4856202034821235,
          4.485557954533159,
          4.485496153613902,
          4.485434797499709,
          4.485373882989144,
          4.485313406903819,
          4.485253366088215,
          4.485193757409531,
          4.485134577757508,
          4.4850758240442765,
          4.485017493204191,
          4.484959582193671,
          4.484902087991039,
          4.4848450075963715,
          4.484788338031329,
          4.484732076339013,
          4.4846762195838075,
          4.484620764851225,
          4.4845657092477476,
          4.484511049900696,
          4.484456783958057,
          4.484402908588347,
          4.484349420980461,
          4.48429631834353,
          4.484243597906768,
          4.484191256919332,
          4.48413929265018,
          4.484087702387925,
          4.484036483440697,
          4.483985633135995,
          4.4839351488205565,
          4.483885027860219,
          4.483835267639774,
          4.483785865562836,
          4.483736819051709,
          4.483688125547249,
          4.483639782508729,
          4.4835917874137134,
          4.4835441377579155,
          4.483496831055079,
          4.483449864836836,
          4.483403236652589,
          4.483356944069378,
          4.483310984671751,
          4.483265356061643,
          4.483220055858251,
          4.483175081697901,
          4.4831304312339375,
          4.4830861021365935,
          4.4830420920928695,
          4.482998398806412,
          4.482955019997397,
          4.48291195340241,
          4.482869196774325,
          4.482826747882192,
          4.4827846045111155,
          4.4827427644621425,
          4.482701225552148,
          4.482659985613717,
          4.4826190424950365,
          4.4825783940597805,
          4.482538038186998,
          4.482497972771005,
          4.482458195721271,
          4.4824187049623125,
          4.482379498433586,
          4.482340574089374,
          4.482301929898689,
          4.482263563845156,
          4.482225473926914,
          4.482187658156512,
          4.482150114560802,
          4.482112841180838,
          4.482075836071771,
          4.482039097302755,
          4.482002622956837,
          4.481966411130861,
          4.481930459935368,
          4.481894767494503,
          4.481859331945907,
          4.48182415144063,
          4.481789224143023,
          4.481754548230655,
          4.4817201218942095,
          4.481685943337393,
          4.481652010776837,
          4.481618322442012,
          4.481584876575135,
          4.481551671431066,
          4.4815187052772325,
          4.48148597639353,
          4.481453483072232,
          4.481421223617906,
          4.481389196347322,
          4.481357399589361,
          4.481325831684938,
          4.481294490986905,
          4.481263375859967,
          4.481232484680606,
          4.481201815836984,
          4.481171367728863,
          4.481141138767525,
          4.481111127375687,
          4.481081331987417,
          4.481051751048053,
          4.481022383014126,
          4.48099322635327,
          4.480964279544153,
          4.480935541076392,
          4.480907009450473,
          4.480878683177674,
          4.480850560779992,
          4.480822640790058,
          4.480794921751065,
          4.480767402216693,
          4.480740080751028,
          4.480712955928494,
          4.4806860263337756,
          4.480659290561742,
          4.480632747217374,
          4.480606394915701,
          4.480580232281711,
          4.480554257950291,
          4.480528470566161,
          4.480502868783783,
          4.480477451267313,
          4.480452216690516,
          4.480427163736707,
          4.480402291098673,
          4.480377597478613,
          4.480353081588064,
          4.480328742147841,
          4.480304577887963,
          4.480280587547584,
          4.480256769874945,
          4.480233123627286,
          4.480209647570795,
          4.480186340480542,
          4.480163201140412,
          4.480140228343041,
          4.480117420889758,
          4.480094777590517,
          4.480072297263838,
          4.480049978736745,
          4.480027820844704,
          4.48000582243156,
          4.479983982349487,
          4.479962299458911,
          4.479940772628466,
          4.479919400734926,
          4.479898182663152,
          4.479877117306026,
          4.479856203564405,
          4.479835440347053,
          4.479814826570586,
          4.479794361159426,
          4.479774043045726,
          4.479753871169331,
          4.479733844477714,
          4.479713961925924,
          4.479694222476531,
          4.479674625099574,
          4.479655168772499,
          4.4796358524801185,
          4.479616675214549,
          4.47959763597516,
          4.4795787337685224,
          4.479559967608361,
          4.479541336515496,
          4.479522839517793,
          4.479504475650122,
          4.479486243954294,
          4.479468143479014,
          4.479450173279841,
          4.479432332419124,
          4.479414619965968,
          4.479397034996171,
          4.479379576592186,
          4.479362243843075,
          4.479345035844444,
          4.479327951698421,
          4.479310990513589,
          4.479294151404949,
          4.479277433493872,
          4.479260835908052,
          4.479244357781462,
          4.479227998254308,
          4.479211756472983,
          4.479195631590026,
          4.479179622764073,
          4.479163729159819,
          4.479147949947968,
          4.479132284305192,
          4.479116731414092,
          4.479101290463152,
          4.479085960646696,
          4.479070741164841,
          4.4790556312234715,
          4.479040630034181,
          4.479025736814238,
          4.479010950786544,
          4.4789962711796,
          4.478981697227449,
          4.478967228169658,
          4.478952863251258,
          4.478938601722719,
          4.4789244428399035,
          4.478910385864032,
          4.478896430061639,
          4.478882574704542,
          4.478868819069796,
          4.478855162439662,
          4.478841604101564,
          4.478828143348058,
          4.478814779476789,
          4.478801511790458,
          4.478788339596786,
          4.478775262208474,
          4.478762278943172,
          4.478749389123441,
          4.478736592076715,
          4.478723887135275,
          4.478711273636199,
          4.478698750921343,
          4.4786863183373,
          4.47867397523536,
          4.478661720971488,
          4.478649554906282,
          4.478637476404941,
          4.478625484837236,
          4.478613579577471,
          4.478601760004454,
          4.4785900255014655,
          4.478578375456223,
          4.478566809260851,
          4.4785553263118505,
          4.478543926010066,
          4.478532607760652,
          4.478521370973046,
          4.478510215060936,
          4.478499139442231,
          4.478488143539028,
          4.478477226777583,
          4.4784663885882825,
          4.478455628405614,
          4.47844494566813,
          4.478434339818432,
          4.478423810303126,
          4.478413356572803,
          4.4784029780820145,
          4.478392674289227,
          4.478382444656812,
          4.478372288651009,
          4.478362205741901,
          4.478352195403377,
          4.478342257113124,
          4.47833239035258,
          4.4783225946069205,
          4.478312869365021,
          4.478303214119441,
          4.478293628366389,
          4.478284111605702,
          4.478274663340812,
          4.4782652830787315,
          4.478255970330016,
          4.478246724608748,
          4.478237545432501,
          4.47822843232233,
          4.4782193848027285,
          4.478210402401617,
          4.478201484650312,
          4.4781926310835045,
          4.478183841239235,
          4.478175114658864,
          4.478166450887061,
          4.478157849471767,
          4.478149309964177,
          4.478140831918719,
          4.478132414893026,
          4.478124058447914,
          4.478115762147364,
          4.478107525558487,
          4.4780993482515195,
          4.478091229799787,
          4.478083169779684,
          4.4780751677706565,
          4.478067223355174,
          4.478059336118717,
          4.478051505649743,
          4.478043731539676,
          4.47803601338288,
          4.478028350776635,
          4.478020743321126
         ]
        }
       ],
       "layout": {
        "height": 500,
        "template": {
         "data": {
          "bar": [
           {
            "error_x": {
             "color": "#2a3f5f"
            },
            "error_y": {
             "color": "#2a3f5f"
            },
            "marker": {
             "line": {
              "color": "#E5ECF6",
              "width": 0.5
             }
            },
            "type": "bar"
           }
          ],
          "barpolar": [
           {
            "marker": {
             "line": {
              "color": "#E5ECF6",
              "width": 0.5
             }
            },
            "type": "barpolar"
           }
          ],
          "carpet": [
           {
            "aaxis": {
             "endlinecolor": "#2a3f5f",
             "gridcolor": "white",
             "linecolor": "white",
             "minorgridcolor": "white",
             "startlinecolor": "#2a3f5f"
            },
            "baxis": {
             "endlinecolor": "#2a3f5f",
             "gridcolor": "white",
             "linecolor": "white",
             "minorgridcolor": "white",
             "startlinecolor": "#2a3f5f"
            },
            "type": "carpet"
           }
          ],
          "choropleth": [
           {
            "colorbar": {
             "outlinewidth": 0,
             "ticks": ""
            },
            "type": "choropleth"
           }
          ],
          "contour": [
           {
            "colorbar": {
             "outlinewidth": 0,
             "ticks": ""
            },
            "colorscale": [
             [
              0,
              "#0d0887"
             ],
             [
              0.1111111111111111,
              "#46039f"
             ],
             [
              0.2222222222222222,
              "#7201a8"
             ],
             [
              0.3333333333333333,
              "#9c179e"
             ],
             [
              0.4444444444444444,
              "#bd3786"
             ],
             [
              0.5555555555555556,
              "#d8576b"
             ],
             [
              0.6666666666666666,
              "#ed7953"
             ],
             [
              0.7777777777777778,
              "#fb9f3a"
             ],
             [
              0.8888888888888888,
              "#fdca26"
             ],
             [
              1,
              "#f0f921"
             ]
            ],
            "type": "contour"
           }
          ],
          "contourcarpet": [
           {
            "colorbar": {
             "outlinewidth": 0,
             "ticks": ""
            },
            "type": "contourcarpet"
           }
          ],
          "heatmap": [
           {
            "colorbar": {
             "outlinewidth": 0,
             "ticks": ""
            },
            "colorscale": [
             [
              0,
              "#0d0887"
             ],
             [
              0.1111111111111111,
              "#46039f"
             ],
             [
              0.2222222222222222,
              "#7201a8"
             ],
             [
              0.3333333333333333,
              "#9c179e"
             ],
             [
              0.4444444444444444,
              "#bd3786"
             ],
             [
              0.5555555555555556,
              "#d8576b"
             ],
             [
              0.6666666666666666,
              "#ed7953"
             ],
             [
              0.7777777777777778,
              "#fb9f3a"
             ],
             [
              0.8888888888888888,
              "#fdca26"
             ],
             [
              1,
              "#f0f921"
             ]
            ],
            "type": "heatmap"
           }
          ],
          "heatmapgl": [
           {
            "colorbar": {
             "outlinewidth": 0,
             "ticks": ""
            },
            "colorscale": [
             [
              0,
              "#0d0887"
             ],
             [
              0.1111111111111111,
              "#46039f"
             ],
             [
              0.2222222222222222,
              "#7201a8"
             ],
             [
              0.3333333333333333,
              "#9c179e"
             ],
             [
              0.4444444444444444,
              "#bd3786"
             ],
             [
              0.5555555555555556,
              "#d8576b"
             ],
             [
              0.6666666666666666,
              "#ed7953"
             ],
             [
              0.7777777777777778,
              "#fb9f3a"
             ],
             [
              0.8888888888888888,
              "#fdca26"
             ],
             [
              1,
              "#f0f921"
             ]
            ],
            "type": "heatmapgl"
           }
          ],
          "histogram": [
           {
            "marker": {
             "colorbar": {
              "outlinewidth": 0,
              "ticks": ""
             }
            },
            "type": "histogram"
           }
          ],
          "histogram2d": [
           {
            "colorbar": {
             "outlinewidth": 0,
             "ticks": ""
            },
            "colorscale": [
             [
              0,
              "#0d0887"
             ],
             [
              0.1111111111111111,
              "#46039f"
             ],
             [
              0.2222222222222222,
              "#7201a8"
             ],
             [
              0.3333333333333333,
              "#9c179e"
             ],
             [
              0.4444444444444444,
              "#bd3786"
             ],
             [
              0.5555555555555556,
              "#d8576b"
             ],
             [
              0.6666666666666666,
              "#ed7953"
             ],
             [
              0.7777777777777778,
              "#fb9f3a"
             ],
             [
              0.8888888888888888,
              "#fdca26"
             ],
             [
              1,
              "#f0f921"
             ]
            ],
            "type": "histogram2d"
           }
          ],
          "histogram2dcontour": [
           {
            "colorbar": {
             "outlinewidth": 0,
             "ticks": ""
            },
            "colorscale": [
             [
              0,
              "#0d0887"
             ],
             [
              0.1111111111111111,
              "#46039f"
             ],
             [
              0.2222222222222222,
              "#7201a8"
             ],
             [
              0.3333333333333333,
              "#9c179e"
             ],
             [
              0.4444444444444444,
              "#bd3786"
             ],
             [
              0.5555555555555556,
              "#d8576b"
             ],
             [
              0.6666666666666666,
              "#ed7953"
             ],
             [
              0.7777777777777778,
              "#fb9f3a"
             ],
             [
              0.8888888888888888,
              "#fdca26"
             ],
             [
              1,
              "#f0f921"
             ]
            ],
            "type": "histogram2dcontour"
           }
          ],
          "mesh3d": [
           {
            "colorbar": {
             "outlinewidth": 0,
             "ticks": ""
            },
            "type": "mesh3d"
           }
          ],
          "parcoords": [
           {
            "line": {
             "colorbar": {
              "outlinewidth": 0,
              "ticks": ""
             }
            },
            "type": "parcoords"
           }
          ],
          "pie": [
           {
            "automargin": true,
            "type": "pie"
           }
          ],
          "scatter": [
           {
            "marker": {
             "colorbar": {
              "outlinewidth": 0,
              "ticks": ""
             }
            },
            "type": "scatter"
           }
          ],
          "scatter3d": [
           {
            "line": {
             "colorbar": {
              "outlinewidth": 0,
              "ticks": ""
             }
            },
            "marker": {
             "colorbar": {
              "outlinewidth": 0,
              "ticks": ""
             }
            },
            "type": "scatter3d"
           }
          ],
          "scattercarpet": [
           {
            "marker": {
             "colorbar": {
              "outlinewidth": 0,
              "ticks": ""
             }
            },
            "type": "scattercarpet"
           }
          ],
          "scattergeo": [
           {
            "marker": {
             "colorbar": {
              "outlinewidth": 0,
              "ticks": ""
             }
            },
            "type": "scattergeo"
           }
          ],
          "scattergl": [
           {
            "marker": {
             "colorbar": {
              "outlinewidth": 0,
              "ticks": ""
             }
            },
            "type": "scattergl"
           }
          ],
          "scattermapbox": [
           {
            "marker": {
             "colorbar": {
              "outlinewidth": 0,
              "ticks": ""
             }
            },
            "type": "scattermapbox"
           }
          ],
          "scatterpolar": [
           {
            "marker": {
             "colorbar": {
              "outlinewidth": 0,
              "ticks": ""
             }
            },
            "type": "scatterpolar"
           }
          ],
          "scatterpolargl": [
           {
            "marker": {
             "colorbar": {
              "outlinewidth": 0,
              "ticks": ""
             }
            },
            "type": "scatterpolargl"
           }
          ],
          "scatterternary": [
           {
            "marker": {
             "colorbar": {
              "outlinewidth": 0,
              "ticks": ""
             }
            },
            "type": "scatterternary"
           }
          ],
          "surface": [
           {
            "colorbar": {
             "outlinewidth": 0,
             "ticks": ""
            },
            "colorscale": [
             [
              0,
              "#0d0887"
             ],
             [
              0.1111111111111111,
              "#46039f"
             ],
             [
              0.2222222222222222,
              "#7201a8"
             ],
             [
              0.3333333333333333,
              "#9c179e"
             ],
             [
              0.4444444444444444,
              "#bd3786"
             ],
             [
              0.5555555555555556,
              "#d8576b"
             ],
             [
              0.6666666666666666,
              "#ed7953"
             ],
             [
              0.7777777777777778,
              "#fb9f3a"
             ],
             [
              0.8888888888888888,
              "#fdca26"
             ],
             [
              1,
              "#f0f921"
             ]
            ],
            "type": "surface"
           }
          ],
          "table": [
           {
            "cells": {
             "fill": {
              "color": "#EBF0F8"
             },
             "line": {
              "color": "white"
             }
            },
            "header": {
             "fill": {
              "color": "#C8D4E3"
             },
             "line": {
              "color": "white"
             }
            },
            "type": "table"
           }
          ]
         },
         "layout": {
          "annotationdefaults": {
           "arrowcolor": "#2a3f5f",
           "arrowhead": 0,
           "arrowwidth": 1
          },
          "coloraxis": {
           "colorbar": {
            "outlinewidth": 0,
            "ticks": ""
           }
          },
          "colorscale": {
           "diverging": [
            [
             0,
             "#8e0152"
            ],
            [
             0.1,
             "#c51b7d"
            ],
            [
             0.2,
             "#de77ae"
            ],
            [
             0.3,
             "#f1b6da"
            ],
            [
             0.4,
             "#fde0ef"
            ],
            [
             0.5,
             "#f7f7f7"
            ],
            [
             0.6,
             "#e6f5d0"
            ],
            [
             0.7,
             "#b8e186"
            ],
            [
             0.8,
             "#7fbc41"
            ],
            [
             0.9,
             "#4d9221"
            ],
            [
             1,
             "#276419"
            ]
           ],
           "sequential": [
            [
             0,
             "#0d0887"
            ],
            [
             0.1111111111111111,
             "#46039f"
            ],
            [
             0.2222222222222222,
             "#7201a8"
            ],
            [
             0.3333333333333333,
             "#9c179e"
            ],
            [
             0.4444444444444444,
             "#bd3786"
            ],
            [
             0.5555555555555556,
             "#d8576b"
            ],
            [
             0.6666666666666666,
             "#ed7953"
            ],
            [
             0.7777777777777778,
             "#fb9f3a"
            ],
            [
             0.8888888888888888,
             "#fdca26"
            ],
            [
             1,
             "#f0f921"
            ]
           ],
           "sequentialminus": [
            [
             0,
             "#0d0887"
            ],
            [
             0.1111111111111111,
             "#46039f"
            ],
            [
             0.2222222222222222,
             "#7201a8"
            ],
            [
             0.3333333333333333,
             "#9c179e"
            ],
            [
             0.4444444444444444,
             "#bd3786"
            ],
            [
             0.5555555555555556,
             "#d8576b"
            ],
            [
             0.6666666666666666,
             "#ed7953"
            ],
            [
             0.7777777777777778,
             "#fb9f3a"
            ],
            [
             0.8888888888888888,
             "#fdca26"
            ],
            [
             1,
             "#f0f921"
            ]
           ]
          },
          "colorway": [
           "#636efa",
           "#EF553B",
           "#00cc96",
           "#ab63fa",
           "#FFA15A",
           "#19d3f3",
           "#FF6692",
           "#B6E880",
           "#FF97FF",
           "#FECB52"
          ],
          "font": {
           "color": "#2a3f5f"
          },
          "geo": {
           "bgcolor": "white",
           "lakecolor": "white",
           "landcolor": "#E5ECF6",
           "showlakes": true,
           "showland": true,
           "subunitcolor": "white"
          },
          "hoverlabel": {
           "align": "left"
          },
          "hovermode": "closest",
          "mapbox": {
           "style": "light"
          },
          "paper_bgcolor": "white",
          "plot_bgcolor": "#E5ECF6",
          "polar": {
           "angularaxis": {
            "gridcolor": "white",
            "linecolor": "white",
            "ticks": ""
           },
           "bgcolor": "#E5ECF6",
           "radialaxis": {
            "gridcolor": "white",
            "linecolor": "white",
            "ticks": ""
           }
          },
          "scene": {
           "xaxis": {
            "backgroundcolor": "#E5ECF6",
            "gridcolor": "white",
            "gridwidth": 2,
            "linecolor": "white",
            "showbackground": true,
            "ticks": "",
            "zerolinecolor": "white"
           },
           "yaxis": {
            "backgroundcolor": "#E5ECF6",
            "gridcolor": "white",
            "gridwidth": 2,
            "linecolor": "white",
            "showbackground": true,
            "ticks": "",
            "zerolinecolor": "white"
           },
           "zaxis": {
            "backgroundcolor": "#E5ECF6",
            "gridcolor": "white",
            "gridwidth": 2,
            "linecolor": "white",
            "showbackground": true,
            "ticks": "",
            "zerolinecolor": "white"
           }
          },
          "shapedefaults": {
           "line": {
            "color": "#2a3f5f"
           }
          },
          "ternary": {
           "aaxis": {
            "gridcolor": "white",
            "linecolor": "white",
            "ticks": ""
           },
           "baxis": {
            "gridcolor": "white",
            "linecolor": "white",
            "ticks": ""
           },
           "bgcolor": "#E5ECF6",
           "caxis": {
            "gridcolor": "white",
            "linecolor": "white",
            "ticks": ""
           }
          },
          "title": {
           "x": 0.05
          },
          "xaxis": {
           "automargin": true,
           "gridcolor": "white",
           "linecolor": "white",
           "ticks": "",
           "title": {
            "standoff": 15
           },
           "zerolinecolor": "white",
           "zerolinewidth": 2
          },
          "yaxis": {
           "automargin": true,
           "gridcolor": "white",
           "linecolor": "white",
           "ticks": "",
           "title": {
            "standoff": 15
           },
           "zerolinecolor": "white",
           "zerolinewidth": 2
          }
         }
        },
        "title": {
         "text": "代价数据可视化"
        },
        "width": 500,
        "xaxis": {
         "title": {
          "text": "迭代次数"
         }
        },
        "yaxis": {
         "title": {
          "text": "代价函数"
         }
        }
       }
      },
      "text/html": [
       "<div>\n",
       "        \n",
       "        \n",
       "            <div id=\"212ff21e-1fe5-4fb4-9357-7a311db83218\" class=\"plotly-graph-div\" style=\"height:500px; width:500px;\"></div>\n",
       "            <script type=\"text/javascript\">\n",
       "                require([\"plotly\"], function(Plotly) {\n",
       "                    window.PLOTLYENV=window.PLOTLYENV || {};\n",
       "                    window.PLOTLYENV.BASE_URL='https://plot.ly';\n",
       "                    \n",
       "                if (document.getElementById(\"212ff21e-1fe5-4fb4-9357-7a311db83218\")) {\n",
       "                    Plotly.newPlot(\n",
       "                        '212ff21e-1fe5-4fb4-9357-7a311db83218',\n",
       "                        [{\"line\": {\"color\": \"rgba(255, 153, 51, 1.0)\", \"dash\": \"solid\", \"shape\": \"linear\", \"width\": 1.3}, \"mode\": \"lines\", \"name\": \"0\", \"text\": \"\", \"type\": \"scatter\", \"x\": [0, 1, 2, 3, 4, 5, 6, 7, 8, 9, 10, 11, 12, 13, 14, 15, 16, 17, 18, 19, 20, 21, 22, 23, 24, 25, 26, 27, 28, 29, 30, 31, 32, 33, 34, 35, 36, 37, 38, 39, 40, 41, 42, 43, 44, 45, 46, 47, 48, 49, 50, 51, 52, 53, 54, 55, 56, 57, 58, 59, 60, 61, 62, 63, 64, 65, 66, 67, 68, 69, 70, 71, 72, 73, 74, 75, 76, 77, 78, 79, 80, 81, 82, 83, 84, 85, 86, 87, 88, 89, 90, 91, 92, 93, 94, 95, 96, 97, 98, 99, 100, 101, 102, 103, 104, 105, 106, 107, 108, 109, 110, 111, 112, 113, 114, 115, 116, 117, 118, 119, 120, 121, 122, 123, 124, 125, 126, 127, 128, 129, 130, 131, 132, 133, 134, 135, 136, 137, 138, 139, 140, 141, 142, 143, 144, 145, 146, 147, 148, 149, 150, 151, 152, 153, 154, 155, 156, 157, 158, 159, 160, 161, 162, 163, 164, 165, 166, 167, 168, 169, 170, 171, 172, 173, 174, 175, 176, 177, 178, 179, 180, 181, 182, 183, 184, 185, 186, 187, 188, 189, 190, 191, 192, 193, 194, 195, 196, 197, 198, 199, 200, 201, 202, 203, 204, 205, 206, 207, 208, 209, 210, 211, 212, 213, 214, 215, 216, 217, 218, 219, 220, 221, 222, 223, 224, 225, 226, 227, 228, 229, 230, 231, 232, 233, 234, 235, 236, 237, 238, 239, 240, 241, 242, 243, 244, 245, 246, 247, 248, 249, 250, 251, 252, 253, 254, 255, 256, 257, 258, 259, 260, 261, 262, 263, 264, 265, 266, 267, 268, 269, 270, 271, 272, 273, 274, 275, 276, 277, 278, 279, 280, 281, 282, 283, 284, 285, 286, 287, 288, 289, 290, 291, 292, 293, 294, 295, 296, 297, 298, 299, 300, 301, 302, 303, 304, 305, 306, 307, 308, 309, 310, 311, 312, 313, 314, 315, 316, 317, 318, 319, 320, 321, 322, 323, 324, 325, 326, 327, 328, 329, 330, 331, 332, 333, 334, 335, 336, 337, 338, 339, 340, 341, 342, 343, 344, 345, 346, 347, 348, 349, 350, 351, 352, 353, 354, 355, 356, 357, 358, 359, 360, 361, 362, 363, 364, 365, 366, 367, 368, 369, 370, 371, 372, 373, 374, 375, 376, 377, 378, 379, 380, 381, 382, 383, 384, 385, 386, 387, 388, 389, 390, 391, 392, 393, 394, 395, 396, 397, 398, 399, 400, 401, 402, 403, 404, 405, 406, 407, 408, 409, 410, 411, 412, 413, 414, 415, 416, 417, 418, 419, 420, 421, 422, 423, 424, 425, 426, 427, 428, 429, 430, 431, 432, 433, 434, 435, 436, 437, 438, 439, 440, 441, 442, 443, 444, 445, 446, 447, 448, 449, 450, 451, 452, 453, 454, 455, 456, 457, 458, 459, 460, 461, 462, 463, 464, 465, 466, 467, 468, 469, 470, 471, 472, 473, 474, 475, 476, 477, 478, 479, 480, 481, 482, 483, 484, 485, 486, 487, 488, 489, 490, 491, 492, 493, 494, 495, 496, 497, 498, 499, 500, 501, 502, 503, 504, 505, 506, 507, 508, 509, 510, 511, 512, 513, 514, 515, 516, 517, 518, 519, 520, 521, 522, 523, 524, 525, 526, 527, 528, 529, 530, 531, 532, 533, 534, 535, 536, 537, 538, 539, 540, 541, 542, 543, 544, 545, 546, 547, 548, 549, 550, 551, 552, 553, 554, 555, 556, 557, 558, 559, 560, 561, 562, 563, 564, 565, 566, 567, 568, 569, 570, 571, 572, 573, 574, 575, 576, 577, 578, 579, 580, 581, 582, 583, 584, 585, 586, 587, 588, 589, 590, 591, 592, 593, 594, 595, 596, 597, 598, 599, 600, 601, 602, 603, 604, 605, 606, 607, 608, 609, 610, 611, 612, 613, 614, 615, 616, 617, 618, 619, 620, 621, 622, 623, 624, 625, 626, 627, 628, 629, 630, 631, 632, 633, 634, 635, 636, 637, 638, 639, 640, 641, 642, 643, 644, 645, 646, 647, 648, 649, 650, 651, 652, 653, 654, 655, 656, 657, 658, 659, 660, 661, 662, 663, 664, 665, 666, 667, 668, 669, 670, 671, 672, 673, 674, 675, 676, 677, 678, 679, 680, 681, 682, 683, 684, 685, 686, 687, 688, 689, 690, 691, 692, 693, 694, 695, 696, 697, 698, 699, 700, 701, 702, 703, 704, 705, 706, 707, 708, 709, 710, 711, 712, 713, 714, 715, 716, 717, 718, 719, 720, 721, 722, 723, 724, 725, 726, 727, 728, 729, 730, 731, 732, 733, 734, 735, 736, 737, 738, 739, 740, 741, 742, 743, 744, 745, 746, 747, 748, 749, 750, 751, 752, 753, 754, 755, 756, 757, 758, 759, 760, 761, 762, 763, 764, 765, 766, 767, 768, 769, 770, 771, 772, 773, 774, 775, 776, 777, 778, 779, 780, 781, 782, 783, 784, 785, 786, 787, 788, 789, 790, 791, 792, 793, 794, 795, 796, 797, 798, 799, 800, 801, 802, 803, 804, 805, 806, 807, 808, 809, 810, 811, 812, 813, 814, 815, 816, 817, 818, 819, 820, 821, 822, 823, 824, 825, 826, 827, 828, 829, 830, 831, 832, 833, 834, 835, 836, 837, 838, 839, 840, 841, 842, 843, 844, 845, 846, 847, 848, 849, 850, 851, 852, 853, 854, 855, 856, 857, 858, 859, 860, 861, 862, 863, 864, 865, 866, 867, 868, 869, 870, 871, 872, 873, 874, 875, 876, 877, 878, 879, 880, 881, 882, 883, 884, 885, 886, 887, 888, 889, 890, 891, 892, 893, 894, 895, 896, 897, 898, 899, 900, 901, 902, 903, 904, 905, 906, 907, 908, 909, 910, 911, 912, 913, 914, 915, 916, 917, 918, 919, 920, 921, 922, 923, 924, 925, 926, 927, 928, 929, 930, 931, 932, 933, 934, 935, 936, 937, 938, 939, 940, 941, 942, 943, 944, 945, 946, 947, 948, 949, 950, 951, 952, 953, 954, 955, 956, 957, 958, 959, 960, 961, 962, 963, 964, 965, 966, 967, 968, 969, 970, 971, 972, 973, 974, 975, 976, 977, 978, 979, 980, 981, 982, 983, 984, 985, 986, 987, 988, 989, 990, 991, 992, 993, 994, 995, 996, 997, 998, 999], \"y\": [16.76964237166747, 10.407579751768978, 7.759183480302341, 6.653287534646751, 6.188105823037991, 5.989084519364202, 5.900653772925786, 5.858197920163226, 5.834878785201405, 5.819548934223245, 5.807578027277277, 5.797042577385664, 5.787143381054755, 5.777548203870704, 5.768118767375578, 5.758797354060333, 5.749559709152846, 5.740395478534908, 5.731300083688729, 5.7222713469714925, 5.713308089921204, 5.704409551053921, 5.695575144033777, 5.686804357215719, 5.678096711906953, 5.669451745017106, 5.660869001838244, 5.6523480330323945, 5.643888393366726, 5.635489641174721, 5.6271513381189795, 5.618873049079403, 5.6106543420935395, 5.602494788318711, 5.59439396200325, 5.586351440461656, 5.578366804051419, 5.570439636150689, 5.562569523136332, 5.554756054362274, 5.546998822138042, 5.539297421707482, 5.531651451227627, 5.5240605117477335, 5.5165242071884535, 5.509042144321186, 5.501613932747542, 5.494239184878978, 5.486917515916582, 5.479648543830982, 5.472431889342422, 5.465267175900967, 5.458154029666859, 5.4510920794910085, 5.444080956895625, 5.437120296055004, 5.4302097337764215, 5.423348909481195, 5.416537465185866, 5.409775045483519, 5.403061297525241, 5.396395871001712, 5.389778418124915, 5.383208593610006, 5.376686054657283, 5.3702104609343095, 5.363781474558154, 5.357398760077755, 5.351061984456422, 5.344770817054462, 5.33852492961192, 5.3323239962314535, 5.326167693361334, 5.320055699778554, 5.313987696572079, 5.30796336712619, 5.301982397103983, 5.296044474430953, 5.290149289278716, 5.284296534048845, 5.278485903356815, 5.272717094016074, 5.266989805022217, 5.261303737537286, 5.255658594874174, 5.2500540824811495, 5.244489907926477, 5.238965780883169, 5.233481413113833, 5.2280365184556326, 5.222630812805355, 5.217264014104588, 5.211935842325, 5.206646019453738, 5.201394269478911, 5.196180318375187, 5.1910038940895085, 5.185864726526886, 5.180762547536304, 5.1756970908967395, 5.170668092303259, 5.165675289353239, 5.160718421532666, 5.155797230202545, 5.1509114585854086, 5.146060851751914, 5.141245156607544, 5.136464121879404, 5.1317174981030975, 5.127005037609731, 5.12232649451297, 5.117681624696227, 5.113070185799911, 5.108491937208786, 5.103946640039418, 5.09943405712771, 5.094953953016527, 5.090506093943406, 5.08609024782837, 5.081706184261801, 5.077353674492437, 5.073032491415424, 5.068742409560468, 5.06448320508007, 5.060254655737853, 5.056056540896959, 5.051888641508537, 5.047750740100315, 5.043642620765256, 5.039564069150285, 5.0355148724451135, 5.031494819371125, 5.027503700170363, 5.023541306594575, 5.0196074318943555, 5.015701870808349, 5.0118244195525525, 5.0079748758096665, 5.004153038718556, 5.000358708863753, 4.996591688265067, 4.99285178036724, 4.989138790029705, 4.985452523516392, 4.981792788485625, 4.978159393980087, 4.974552150416855, 4.9709708695775054, 4.9674153645982955, 4.963885449960413, 4.960380941480297, 4.956901656300029, 4.953447412877782, 4.950018030978364, 4.9466133316638015, 4.943233137284004, 4.939877271467502, 4.93654555911224, 4.933237826376433, 4.929953900669509, 4.926693610643094, 4.923456786182074, 4.920243258395721, 4.917052859608877, 4.913885423353209, 4.910740784358518, 4.90761877854412, 4.9045192430102835, 4.901442016029728, 4.898386937039186, 4.89535384663103, 4.892342586544944, 4.889352999659677, 4.8863849299848425, 4.883438222652771, 4.8805127239104396, 4.877608281111444, 4.874724742708034, 4.871861958243208, 4.869019778342863, 4.866198054707997, 4.863396640106973, 4.860615388367838, 4.8578541543706955, 4.85511279404013, 4.852391164337695, 4.849689123254447, 4.847006529803536, 4.844343244012846, 4.841699126917694, 4.8390740405535855, 4.836467847949003, 4.83388041311827, 4.8313116010544475, 4.828761277722299, 4.826229310051286, 4.823715565928633, 4.821219914192431, 4.818742224624793, 4.816282367945059, 4.813840215803055, 4.811415640772391, 4.809008516343814, 4.8066187169186065, 4.804246117802036, 4.8018905951968405, 4.799552026196781, 4.797230288780218, 4.79492526180375, 4.792636824995891, 4.790364858950799, 4.788109245122034, 4.785869865816388, 4.783646604187734, 4.78143934423093, 4.779247970775768, 4.777072369480967, 4.774912426828203, 4.772768030116184, 4.77063906745478, 4.7685254277591715, 4.766427000744059, 4.764343676917911, 4.76227534757725, 4.76022190480098, 4.758183241444749, 4.756159251135367, 4.754149828265257, 4.7521548679869365, 4.7501742662075515, 4.748207919583443, 4.746255725514761, 4.7443175821401, 4.742393388331193, 4.740483043687634, 4.7385864485316365, 4.736703503902831, 4.734834111553107, 4.732978173941483, 4.731135594229015, 4.729306276273751, 4.727490124625704, 4.725687044521882, 4.723896941881337, 4.722119723300258, 4.720355296047097, 4.718603568057733, 4.716864447930661, 4.715137844922232, 4.713423668941915, 4.711721830547592, 4.710032240940894, 4.708354811962573, 4.706689456087892, 4.705036086422067, 4.703394616695726, 4.701764961260412, 4.700147035084117, 4.698540753746834, 4.6969460334361655, 4.695362790942941, 4.693790943656879, 4.692230409562277, 4.690681107233732, 4.689142955831886, 4.687615875099218, 4.686099785355851, 4.684594607495395, 4.683100262980815, 4.681616673840342, 4.6801437626633975, 4.678681452596559, 4.677229667339545, 4.675788331141239, 4.674357368795731, 4.672936705638404, 4.671526267542021, 4.670125980912876, 4.668735772686941, 4.667355570326061, 4.665985301814161, 4.664624895653501, 4.663274280860929, 4.66193338696419, 4.660602143998251, 4.659280482501633, 4.657968333512809, 4.656665628566587, 4.655372299690549, 4.654088279401498, 4.652813500701945, 4.6515478970766, 4.650291402488918, 4.649043951377638, 4.6478054786533685, 4.646575919695197, 4.645355210347307, 4.644143286915639, 4.642940086164565, 4.641745545313585, 4.640559602034057, 4.6393821944459415, 4.638213261114575, 4.637052741047459, 4.635900573691086, 4.634756698927774, 4.633621057072529, 4.632493588869937, 4.631374235491064, 4.630262938530394, 4.629159640002776, 4.628064282340398, 4.626976808389793, 4.625897161408843, 4.624825285063827, 4.62376112342648, 4.622704620971073, 4.6216557225715205, 4.620614373498497, 4.619580519416586, 4.618554106381445, 4.617535080836987, 4.616523389612593, 4.615518979920331, 4.614521799352205, 4.613531795877417, 4.612548917839658, 4.611573113954409, 4.610604333306265, 4.609642525346276, 4.608687639889315, 4.607739627111459, 4.606798437547382, 4.605864022087783, 4.604936331976818, 4.604015318809556, 4.603100934529458, 4.6021931314258655, 4.601291862131512, 4.600397079620049, 4.599508737203599, 4.5986267885303125, 4.597751187581952, 4.596881888671492, 4.596018846440735, 4.595162015857943, 4.594311352215486, 4.5934668111275165, 4.59262834852765, 4.591795920666657, 4.590969484110198, 4.590148995736537, 4.58933441273431, 4.588525692600281, 4.587722793137125, 4.586925672451227, 4.586134288950497, 4.585348601342197, 4.584568568630796, 4.583794150115818, 4.5830253053897225, 4.5822619943358, 4.581504177126079, 4.580751814219242, 4.580004866358567, 4.579263294569874, 4.578527060159502, 4.577796124712278, 4.57707045008952, 4.576349998427045, 4.575634732133191, 4.57492461388686, 4.574219606635567, 4.573519673593507, 4.572824778239643, 4.572134884315783, 4.57144995582471, 4.570769957028286, 4.570094852445597, 4.569424606851098, 4.568759185272775, 4.568098552990324, 4.567442675533333, 4.566791518679489, 4.566145048452789, 4.56550323112177, 4.564866033197746, 4.56423342143306, 4.5636053628193585, 4.562981824585854, 4.562362774197625, 4.561748179353919, 4.56113800798646, 4.560532228257787, 4.559930808559578, 4.559333717511011, 4.558740923957126, 4.558152396967194, 4.557568105833109, 4.556988020067781, 4.556412109403548, 4.555840343790598, 4.555272693395397, 4.554709128599133, 4.554149619996176, 4.553594138392537, 4.553042654804346, 4.552495140456346, 4.5519515667803825, 4.551411905413918, 4.550876128198552, 4.550344207178551, 4.549816114599386, 4.5492918229062935, 4.5487713047428295, 4.548254532949444, 4.547741480562067, 4.547232120810698, 4.546726427118009, 4.546224373097964, 4.545725932554434, 4.54523107947983, 4.54473978805376, 4.544252032641661, 4.5437677877934775, 4.543287028242326, 4.542809728903179, 4.542335864871554, 4.54186541142222, 4.541398344007899, 4.54093463825799, 4.540474269977296, 4.540017215144766, 4.53956344991223, 4.539112950603175, 4.538665693711483, 4.5382216559002275, 4.5377808140004445, 4.537343145009926, 4.536908626092019, 4.536477234574434, 4.536048947948069, 4.535623743865819, 4.535201600141424, 4.534782494748312, 4.534366405818438, 4.533953311641151, 4.533543190662064, 4.533136021481918, 4.53273178285548, 4.532330453690422, 4.531932013046231, 4.531536440133107, 4.53114371431088, 4.530753815087941, 4.530366722120163, 4.529982415209844, 4.529600874304655, 4.52922207949659, 4.528846011020925, 4.528472649255199, 4.528101974718171, 4.527733968068821, 4.527368610105334, 4.527005881764093, 4.526645764118693, 4.526288238378949, 4.525933285889915, 4.525580888130913, 4.525231026714565, 4.524883683385835, 4.524538840021075, 4.5241964786270765, 4.523856581340143, 4.52351913042514, 4.52318410827459, 4.522851497407734, 4.522521280469633, 4.522193440230261, 4.521867959583598, 4.521544821546745, 4.521224009259034, 4.520905505981154, 4.520589295094267, 4.520275360099151, 4.519963684615338, 4.519654252380249, 4.51934704724836, 4.519042053190349, 4.518739254292265, 4.518438634754693, 4.518140178891936, 4.517843871131191, 4.517549696011738, 4.517257638184136, 4.516967682409417, 4.516679813558298, 4.5163940166103815, 4.516110276653383, 4.515828578882345, 4.5155489085988645, 4.515271251210334, 4.5149955922291705, 4.514721917272065, 4.514450212059231, 4.51418046241366, 4.513912654260378, 4.513646773625716, 4.513382806636581, 4.5131207395197235, 4.512860558601035, 4.5126022503048135, 4.512345801153076, 4.512091197764844, 4.511838426855442, 4.511587475235814, 4.511338329811828, 4.511090977583599, 4.510845405644805, 4.510601601182015, 4.510359551474021, 4.51011924389118, 4.509880665894741, 4.509643805036204, 4.509408648956667, 4.509175185386174, 4.508943402143087, 4.508713287133441, 4.508484828350316, 4.50825801387321, 4.5080328318674185, 4.507809270583417, 4.507587318356243, 4.507366963604894, 4.50714819483172, 4.506931000621827, 4.506715369642471, 4.506501290642482, 4.506288752451664, 4.506077743980219, 4.505868254218166, 4.50566027223477, 4.505453787177963, 4.5052487882737875, 4.5050452648258315, 4.504843206214665, 4.5046426018972925, 4.504443441406602, 4.504245714350813, 4.504049410412946, 4.503854519350266, 4.503661030993771, 4.50346893524764, 4.503278222088719, 4.503088881565995, 4.502900903800075, 4.502714278982674, 4.502528997376097, 4.50234504931274, 4.5021624251945775, 4.5019811154926614, 4.5018011107466345, 4.501622401564226, 4.5014449786207615, 4.501268832658686, 4.501093954487071, 4.500920334981137, 4.500747965081784, 4.50057683579511, 4.500406938191949, 4.500238263407397, 4.500070802640357, 4.499904547153076, 4.499739488270693, 4.499575617380779, 4.4994129259328925, 4.4992514054381365, 4.499091047468709, 4.4989318436574655, 4.498773785697485, 4.498616865341633, 4.498461074402136, 4.498306404750146, 4.498152848315325, 4.498000397085419, 4.497849043105842, 4.497698778479262, 4.497549595365181, 4.497401485979542, 4.4972544425943, 4.497108457537045, 4.496963523190578, 4.49681963199253, 4.49667677643496, 4.496534949063961, 4.4963941424792795, 4.496254349333923, 4.496115562333777, 4.495977774237225, 4.495840977854773, 4.4957051660486735, 4.495570331732549, 4.495436467871027, 4.495303567479372, 4.495171623623119, 4.495040629417714, 4.494910578028152, 4.494781462668627, 4.494653276602165, 4.494526013140287, 4.494399665642654, 4.4942742275167165, 4.494149692217374, 4.494026053246638, 4.493903304153283, 4.493781438532519, 4.4936604500256525, 4.493540332319758, 4.493421079147343, 4.493302684286027, 4.4931851415582145, 4.49306844483077, 4.492952588014705, 4.4928375650648515, 4.492723369979553, 4.492609996800348, 4.492497439611663, 4.4923856925404975, 4.492274749756125, 4.492164605469782, 4.492055253934368, 4.491946689444154, 4.491838906334466, 4.491731898981412, 4.491625661801567, 4.491520189251702, 4.491415475828478, 4.4913115160681665, 4.491208304546366, 4.491105835877716, 4.491004104715613, 4.490903105751941, 4.490802833716784, 4.490703283378156, 4.49060444954173, 4.4905063270505625, 4.4904089107848275, 4.490312195661548, 4.49021617663433, 4.4901208486931035, 4.4900262068638535, 4.48993224620837, 4.489838961823982, 4.489746348843304, 4.4896544024339855, 4.489563117798455, 4.489472490173671, 4.489382514830874, 4.489293187075338, 4.489204502246129, 4.489116455715857, 4.48902904289044, 4.488942259208857, 4.488856100142918, 4.4887705611970246, 4.488685637907931, 4.48860132584452, 4.488517620607563, 4.488434517829497, 4.488352013174193, 4.488270102336728, 4.48818878104317, 4.48810804505034, 4.488027890145607, 4.487948312146651, 4.487869306901262, 4.48779087028711, 4.487712998211538, 4.487635686611342, 4.487558931452566, 4.487482728730286, 4.487407074468403, 4.487331964719436, 4.487257395564316, 4.48718336311218, 4.487109863500169, 4.487036892893229, 4.486964447483904, 4.486892523492144, 4.486821117165108, 4.486750224776961, 4.486679842628687, 4.486609967047894, 4.486540594388619, 4.486471721031143, 4.486403343381796, 4.486335457872778, 4.486268060961964, 4.486201149132724, 4.486134718893739, 4.486068766778817, 4.486003289346716, 4.48593828318096, 4.485873744889664, 4.485809671105355, 4.485746058484795, 4.485682903708813, 4.4856202034821235, 4.485557954533159, 4.485496153613902, 4.485434797499709, 4.485373882989144, 4.485313406903819, 4.485253366088215, 4.485193757409531, 4.485134577757508, 4.4850758240442765, 4.485017493204191, 4.484959582193671, 4.484902087991039, 4.4848450075963715, 4.484788338031329, 4.484732076339013, 4.4846762195838075, 4.484620764851225, 4.4845657092477476, 4.484511049900696, 4.484456783958057, 4.484402908588347, 4.484349420980461, 4.48429631834353, 4.484243597906768, 4.484191256919332, 4.48413929265018, 4.484087702387925, 4.484036483440697, 4.483985633135995, 4.4839351488205565, 4.483885027860219, 4.483835267639774, 4.483785865562836, 4.483736819051709, 4.483688125547249, 4.483639782508729, 4.4835917874137134, 4.4835441377579155, 4.483496831055079, 4.483449864836836, 4.483403236652589, 4.483356944069378, 4.483310984671751, 4.483265356061643, 4.483220055858251, 4.483175081697901, 4.4831304312339375, 4.4830861021365935, 4.4830420920928695, 4.482998398806412, 4.482955019997397, 4.48291195340241, 4.482869196774325, 4.482826747882192, 4.4827846045111155, 4.4827427644621425, 4.482701225552148, 4.482659985613717, 4.4826190424950365, 4.4825783940597805, 4.482538038186998, 4.482497972771005, 4.482458195721271, 4.4824187049623125, 4.482379498433586, 4.482340574089374, 4.482301929898689, 4.482263563845156, 4.482225473926914, 4.482187658156512, 4.482150114560802, 4.482112841180838, 4.482075836071771, 4.482039097302755, 4.482002622956837, 4.481966411130861, 4.481930459935368, 4.481894767494503, 4.481859331945907, 4.48182415144063, 4.481789224143023, 4.481754548230655, 4.4817201218942095, 4.481685943337393, 4.481652010776837, 4.481618322442012, 4.481584876575135, 4.481551671431066, 4.4815187052772325, 4.48148597639353, 4.481453483072232, 4.481421223617906, 4.481389196347322, 4.481357399589361, 4.481325831684938, 4.481294490986905, 4.481263375859967, 4.481232484680606, 4.481201815836984, 4.481171367728863, 4.481141138767525, 4.481111127375687, 4.481081331987417, 4.481051751048053, 4.481022383014126, 4.48099322635327, 4.480964279544153, 4.480935541076392, 4.480907009450473, 4.480878683177674, 4.480850560779992, 4.480822640790058, 4.480794921751065, 4.480767402216693, 4.480740080751028, 4.480712955928494, 4.4806860263337756, 4.480659290561742, 4.480632747217374, 4.480606394915701, 4.480580232281711, 4.480554257950291, 4.480528470566161, 4.480502868783783, 4.480477451267313, 4.480452216690516, 4.480427163736707, 4.480402291098673, 4.480377597478613, 4.480353081588064, 4.480328742147841, 4.480304577887963, 4.480280587547584, 4.480256769874945, 4.480233123627286, 4.480209647570795, 4.480186340480542, 4.480163201140412, 4.480140228343041, 4.480117420889758, 4.480094777590517, 4.480072297263838, 4.480049978736745, 4.480027820844704, 4.48000582243156, 4.479983982349487, 4.479962299458911, 4.479940772628466, 4.479919400734926, 4.479898182663152, 4.479877117306026, 4.479856203564405, 4.479835440347053, 4.479814826570586, 4.479794361159426, 4.479774043045726, 4.479753871169331, 4.479733844477714, 4.479713961925924, 4.479694222476531, 4.479674625099574, 4.479655168772499, 4.4796358524801185, 4.479616675214549, 4.47959763597516, 4.4795787337685224, 4.479559967608361, 4.479541336515496, 4.479522839517793, 4.479504475650122, 4.479486243954294, 4.479468143479014, 4.479450173279841, 4.479432332419124, 4.479414619965968, 4.479397034996171, 4.479379576592186, 4.479362243843075, 4.479345035844444, 4.479327951698421, 4.479310990513589, 4.479294151404949, 4.479277433493872, 4.479260835908052, 4.479244357781462, 4.479227998254308, 4.479211756472983, 4.479195631590026, 4.479179622764073, 4.479163729159819, 4.479147949947968, 4.479132284305192, 4.479116731414092, 4.479101290463152, 4.479085960646696, 4.479070741164841, 4.4790556312234715, 4.479040630034181, 4.479025736814238, 4.479010950786544, 4.4789962711796, 4.478981697227449, 4.478967228169658, 4.478952863251258, 4.478938601722719, 4.4789244428399035, 4.478910385864032, 4.478896430061639, 4.478882574704542, 4.478868819069796, 4.478855162439662, 4.478841604101564, 4.478828143348058, 4.478814779476789, 4.478801511790458, 4.478788339596786, 4.478775262208474, 4.478762278943172, 4.478749389123441, 4.478736592076715, 4.478723887135275, 4.478711273636199, 4.478698750921343, 4.4786863183373, 4.47867397523536, 4.478661720971488, 4.478649554906282, 4.478637476404941, 4.478625484837236, 4.478613579577471, 4.478601760004454, 4.4785900255014655, 4.478578375456223, 4.478566809260851, 4.4785553263118505, 4.478543926010066, 4.478532607760652, 4.478521370973046, 4.478510215060936, 4.478499139442231, 4.478488143539028, 4.478477226777583, 4.4784663885882825, 4.478455628405614, 4.47844494566813, 4.478434339818432, 4.478423810303126, 4.478413356572803, 4.4784029780820145, 4.478392674289227, 4.478382444656812, 4.478372288651009, 4.478362205741901, 4.478352195403377, 4.478342257113124, 4.47833239035258, 4.4783225946069205, 4.478312869365021, 4.478303214119441, 4.478293628366389, 4.478284111605702, 4.478274663340812, 4.4782652830787315, 4.478255970330016, 4.478246724608748, 4.478237545432501, 4.47822843232233, 4.4782193848027285, 4.478210402401617, 4.478201484650312, 4.4781926310835045, 4.478183841239235, 4.478175114658864, 4.478166450887061, 4.478157849471767, 4.478149309964177, 4.478140831918719, 4.478132414893026, 4.478124058447914, 4.478115762147364, 4.478107525558487, 4.4780993482515195, 4.478091229799787, 4.478083169779684, 4.4780751677706565, 4.478067223355174, 4.478059336118717, 4.478051505649743, 4.478043731539676, 4.47803601338288, 4.478028350776635, 4.478020743321126]}],\n",
       "                        {\"height\": 500, \"template\": {\"data\": {\"bar\": [{\"error_x\": {\"color\": \"#2a3f5f\"}, \"error_y\": {\"color\": \"#2a3f5f\"}, \"marker\": {\"line\": {\"color\": \"#E5ECF6\", \"width\": 0.5}}, \"type\": \"bar\"}], \"barpolar\": [{\"marker\": {\"line\": {\"color\": \"#E5ECF6\", \"width\": 0.5}}, \"type\": \"barpolar\"}], \"carpet\": [{\"aaxis\": {\"endlinecolor\": \"#2a3f5f\", \"gridcolor\": \"white\", \"linecolor\": \"white\", \"minorgridcolor\": \"white\", \"startlinecolor\": \"#2a3f5f\"}, \"baxis\": {\"endlinecolor\": \"#2a3f5f\", \"gridcolor\": \"white\", \"linecolor\": \"white\", \"minorgridcolor\": \"white\", \"startlinecolor\": \"#2a3f5f\"}, \"type\": \"carpet\"}], \"choropleth\": [{\"colorbar\": {\"outlinewidth\": 0, \"ticks\": \"\"}, \"type\": \"choropleth\"}], \"contour\": [{\"colorbar\": {\"outlinewidth\": 0, \"ticks\": \"\"}, \"colorscale\": [[0.0, \"#0d0887\"], [0.1111111111111111, \"#46039f\"], [0.2222222222222222, \"#7201a8\"], [0.3333333333333333, \"#9c179e\"], [0.4444444444444444, \"#bd3786\"], [0.5555555555555556, \"#d8576b\"], [0.6666666666666666, \"#ed7953\"], [0.7777777777777778, \"#fb9f3a\"], [0.8888888888888888, \"#fdca26\"], [1.0, \"#f0f921\"]], \"type\": \"contour\"}], \"contourcarpet\": [{\"colorbar\": {\"outlinewidth\": 0, \"ticks\": \"\"}, \"type\": \"contourcarpet\"}], \"heatmap\": [{\"colorbar\": {\"outlinewidth\": 0, \"ticks\": \"\"}, \"colorscale\": [[0.0, \"#0d0887\"], [0.1111111111111111, \"#46039f\"], [0.2222222222222222, \"#7201a8\"], [0.3333333333333333, \"#9c179e\"], [0.4444444444444444, \"#bd3786\"], [0.5555555555555556, \"#d8576b\"], [0.6666666666666666, \"#ed7953\"], [0.7777777777777778, \"#fb9f3a\"], [0.8888888888888888, \"#fdca26\"], [1.0, \"#f0f921\"]], \"type\": \"heatmap\"}], \"heatmapgl\": [{\"colorbar\": {\"outlinewidth\": 0, \"ticks\": \"\"}, \"colorscale\": [[0.0, \"#0d0887\"], [0.1111111111111111, \"#46039f\"], [0.2222222222222222, \"#7201a8\"], [0.3333333333333333, \"#9c179e\"], [0.4444444444444444, \"#bd3786\"], [0.5555555555555556, \"#d8576b\"], [0.6666666666666666, \"#ed7953\"], [0.7777777777777778, \"#fb9f3a\"], [0.8888888888888888, \"#fdca26\"], [1.0, \"#f0f921\"]], \"type\": \"heatmapgl\"}], \"histogram\": [{\"marker\": {\"colorbar\": {\"outlinewidth\": 0, \"ticks\": \"\"}}, \"type\": \"histogram\"}], \"histogram2d\": [{\"colorbar\": {\"outlinewidth\": 0, \"ticks\": \"\"}, \"colorscale\": [[0.0, \"#0d0887\"], [0.1111111111111111, \"#46039f\"], [0.2222222222222222, \"#7201a8\"], [0.3333333333333333, \"#9c179e\"], [0.4444444444444444, \"#bd3786\"], [0.5555555555555556, \"#d8576b\"], [0.6666666666666666, \"#ed7953\"], [0.7777777777777778, \"#fb9f3a\"], [0.8888888888888888, \"#fdca26\"], [1.0, \"#f0f921\"]], \"type\": \"histogram2d\"}], \"histogram2dcontour\": [{\"colorbar\": {\"outlinewidth\": 0, \"ticks\": \"\"}, \"colorscale\": [[0.0, \"#0d0887\"], [0.1111111111111111, \"#46039f\"], [0.2222222222222222, \"#7201a8\"], [0.3333333333333333, \"#9c179e\"], [0.4444444444444444, \"#bd3786\"], [0.5555555555555556, \"#d8576b\"], [0.6666666666666666, \"#ed7953\"], [0.7777777777777778, \"#fb9f3a\"], [0.8888888888888888, \"#fdca26\"], [1.0, \"#f0f921\"]], \"type\": \"histogram2dcontour\"}], \"mesh3d\": [{\"colorbar\": {\"outlinewidth\": 0, \"ticks\": \"\"}, \"type\": \"mesh3d\"}], \"parcoords\": [{\"line\": {\"colorbar\": {\"outlinewidth\": 0, \"ticks\": \"\"}}, \"type\": \"parcoords\"}], \"pie\": [{\"automargin\": true, \"type\": \"pie\"}], \"scatter\": [{\"marker\": {\"colorbar\": {\"outlinewidth\": 0, \"ticks\": \"\"}}, \"type\": \"scatter\"}], \"scatter3d\": [{\"line\": {\"colorbar\": {\"outlinewidth\": 0, \"ticks\": \"\"}}, \"marker\": {\"colorbar\": {\"outlinewidth\": 0, \"ticks\": \"\"}}, \"type\": \"scatter3d\"}], \"scattercarpet\": [{\"marker\": {\"colorbar\": {\"outlinewidth\": 0, \"ticks\": \"\"}}, \"type\": \"scattercarpet\"}], \"scattergeo\": [{\"marker\": {\"colorbar\": {\"outlinewidth\": 0, \"ticks\": \"\"}}, \"type\": \"scattergeo\"}], \"scattergl\": [{\"marker\": {\"colorbar\": {\"outlinewidth\": 0, \"ticks\": \"\"}}, \"type\": \"scattergl\"}], \"scattermapbox\": [{\"marker\": {\"colorbar\": {\"outlinewidth\": 0, \"ticks\": \"\"}}, \"type\": \"scattermapbox\"}], \"scatterpolar\": [{\"marker\": {\"colorbar\": {\"outlinewidth\": 0, \"ticks\": \"\"}}, \"type\": \"scatterpolar\"}], \"scatterpolargl\": [{\"marker\": {\"colorbar\": {\"outlinewidth\": 0, \"ticks\": \"\"}}, \"type\": \"scatterpolargl\"}], \"scatterternary\": [{\"marker\": {\"colorbar\": {\"outlinewidth\": 0, \"ticks\": \"\"}}, \"type\": \"scatterternary\"}], \"surface\": [{\"colorbar\": {\"outlinewidth\": 0, \"ticks\": \"\"}, \"colorscale\": [[0.0, \"#0d0887\"], [0.1111111111111111, \"#46039f\"], [0.2222222222222222, \"#7201a8\"], [0.3333333333333333, \"#9c179e\"], [0.4444444444444444, \"#bd3786\"], [0.5555555555555556, \"#d8576b\"], [0.6666666666666666, \"#ed7953\"], [0.7777777777777778, \"#fb9f3a\"], [0.8888888888888888, \"#fdca26\"], [1.0, \"#f0f921\"]], \"type\": \"surface\"}], \"table\": [{\"cells\": {\"fill\": {\"color\": \"#EBF0F8\"}, \"line\": {\"color\": \"white\"}}, \"header\": {\"fill\": {\"color\": \"#C8D4E3\"}, \"line\": {\"color\": \"white\"}}, \"type\": \"table\"}]}, \"layout\": {\"annotationdefaults\": {\"arrowcolor\": \"#2a3f5f\", \"arrowhead\": 0, \"arrowwidth\": 1}, \"coloraxis\": {\"colorbar\": {\"outlinewidth\": 0, \"ticks\": \"\"}}, \"colorscale\": {\"diverging\": [[0, \"#8e0152\"], [0.1, \"#c51b7d\"], [0.2, \"#de77ae\"], [0.3, \"#f1b6da\"], [0.4, \"#fde0ef\"], [0.5, \"#f7f7f7\"], [0.6, \"#e6f5d0\"], [0.7, \"#b8e186\"], [0.8, \"#7fbc41\"], [0.9, \"#4d9221\"], [1, \"#276419\"]], \"sequential\": [[0.0, \"#0d0887\"], [0.1111111111111111, \"#46039f\"], [0.2222222222222222, \"#7201a8\"], [0.3333333333333333, \"#9c179e\"], [0.4444444444444444, \"#bd3786\"], [0.5555555555555556, \"#d8576b\"], [0.6666666666666666, \"#ed7953\"], [0.7777777777777778, \"#fb9f3a\"], [0.8888888888888888, \"#fdca26\"], [1.0, \"#f0f921\"]], \"sequentialminus\": [[0.0, \"#0d0887\"], [0.1111111111111111, \"#46039f\"], [0.2222222222222222, \"#7201a8\"], [0.3333333333333333, \"#9c179e\"], [0.4444444444444444, \"#bd3786\"], [0.5555555555555556, \"#d8576b\"], [0.6666666666666666, \"#ed7953\"], [0.7777777777777778, \"#fb9f3a\"], [0.8888888888888888, \"#fdca26\"], [1.0, \"#f0f921\"]]}, \"colorway\": [\"#636efa\", \"#EF553B\", \"#00cc96\", \"#ab63fa\", \"#FFA15A\", \"#19d3f3\", \"#FF6692\", \"#B6E880\", \"#FF97FF\", \"#FECB52\"], \"font\": {\"color\": \"#2a3f5f\"}, \"geo\": {\"bgcolor\": \"white\", \"lakecolor\": \"white\", \"landcolor\": \"#E5ECF6\", \"showlakes\": true, \"showland\": true, \"subunitcolor\": \"white\"}, \"hoverlabel\": {\"align\": \"left\"}, \"hovermode\": \"closest\", \"mapbox\": {\"style\": \"light\"}, \"paper_bgcolor\": \"white\", \"plot_bgcolor\": \"#E5ECF6\", \"polar\": {\"angularaxis\": {\"gridcolor\": \"white\", \"linecolor\": \"white\", \"ticks\": \"\"}, \"bgcolor\": \"#E5ECF6\", \"radialaxis\": {\"gridcolor\": \"white\", \"linecolor\": \"white\", \"ticks\": \"\"}}, \"scene\": {\"xaxis\": {\"backgroundcolor\": \"#E5ECF6\", \"gridcolor\": \"white\", \"gridwidth\": 2, \"linecolor\": \"white\", \"showbackground\": true, \"ticks\": \"\", \"zerolinecolor\": \"white\"}, \"yaxis\": {\"backgroundcolor\": \"#E5ECF6\", \"gridcolor\": \"white\", \"gridwidth\": 2, \"linecolor\": \"white\", \"showbackground\": true, \"ticks\": \"\", \"zerolinecolor\": \"white\"}, \"zaxis\": {\"backgroundcolor\": \"#E5ECF6\", \"gridcolor\": \"white\", \"gridwidth\": 2, \"linecolor\": \"white\", \"showbackground\": true, \"ticks\": \"\", \"zerolinecolor\": \"white\"}}, \"shapedefaults\": {\"line\": {\"color\": \"#2a3f5f\"}}, \"ternary\": {\"aaxis\": {\"gridcolor\": \"white\", \"linecolor\": \"white\", \"ticks\": \"\"}, \"baxis\": {\"gridcolor\": \"white\", \"linecolor\": \"white\", \"ticks\": \"\"}, \"bgcolor\": \"#E5ECF6\", \"caxis\": {\"gridcolor\": \"white\", \"linecolor\": \"white\", \"ticks\": \"\"}}, \"title\": {\"x\": 0.05}, \"xaxis\": {\"automargin\": true, \"gridcolor\": \"white\", \"linecolor\": \"white\", \"ticks\": \"\", \"title\": {\"standoff\": 15}, \"zerolinecolor\": \"white\", \"zerolinewidth\": 2}, \"yaxis\": {\"automargin\": true, \"gridcolor\": \"white\", \"linecolor\": \"white\", \"ticks\": \"\", \"title\": {\"standoff\": 15}, \"zerolinecolor\": \"white\", \"zerolinewidth\": 2}}}, \"title\": {\"text\": \"\\u4ee3\\u4ef7\\u6570\\u636e\\u53ef\\u89c6\\u5316\"}, \"width\": 500, \"xaxis\": {\"title\": {\"text\": \"\\u8fed\\u4ee3\\u6b21\\u6570\"}}, \"yaxis\": {\"title\": {\"text\": \"\\u4ee3\\u4ef7\\u51fd\\u6570\"}}},\n",
       "                        {\"showLink\": true, \"linkText\": \"Export to plot.ly\", \"plotlyServerURL\": \"https://plot.ly\", \"responsive\": true}\n",
       "                    ).then(function(){\n",
       "                            \n",
       "var gd = document.getElementById('212ff21e-1fe5-4fb4-9357-7a311db83218');\n",
       "var x = new MutationObserver(function (mutations, observer) {{\n",
       "        var display = window.getComputedStyle(gd).display;\n",
       "        if (!display || display === 'none') {{\n",
       "            console.log([gd, 'removed!']);\n",
       "            Plotly.purge(gd);\n",
       "            observer.disconnect();\n",
       "        }}\n",
       "}});\n",
       "\n",
       "// Listen for the removal of the full notebook cells\n",
       "var notebookContainer = gd.closest('#notebook-container');\n",
       "if (notebookContainer) {{\n",
       "    x.observe(notebookContainer, {childList: true});\n",
       "}}\n",
       "\n",
       "// Listen for the clearing of the current output cell\n",
       "var outputEl = gd.closest('.output');\n",
       "if (outputEl) {{\n",
       "    x.observe(outputEl, {childList: true});\n",
       "}}\n",
       "\n",
       "                        })\n",
       "                };\n",
       "                });\n",
       "            </script>\n",
       "        </div>"
      ]
     },
     "metadata": {},
     "output_type": "display_data"
    }
   ],
   "source": [
    "cost=pd.DataFrame(gradientDescent(X, y, theta, alpha, iters)[1])\n",
    "cost.iplot(mode='lines',\n",
    "           layout=dict(height=500,width=500,xaxis=dict(title='迭代次数'),\n",
    "                       yaxis=dict(title='代价函数'),title='代价数据可视化'))"
   ]
  },
  {
   "cell_type": "markdown",
   "metadata": {},
   "source": [
    "* 从图中可以看出，前5次迭代，代价垂直下降。\n",
    "* 迭代次数超过200次之后，代价曲线趋于平缓。"
   ]
  },
  {
   "cell_type": "markdown",
   "metadata": {},
   "source": [
    "## 7）输出最终回归预测"
   ]
  },
  {
   "cell_type": "code",
   "execution_count": 199,
   "metadata": {},
   "outputs": [
    {
     "data": {
      "application/vnd.plotly.v1+json": {
       "config": {
        "linkText": "Export to plot.ly",
        "plotlyServerURL": "https://plot.ly",
        "showLink": false
       },
       "data": [
        {
         "mode": "markers",
         "name": "profit",
         "type": "scatter",
         "x": [
          6.1101,
          5.5277,
          8.5186,
          7.0032,
          5.8598,
          8.3829,
          7.4764,
          8.5781,
          6.4862,
          5.0546,
          5.7107,
          14.164000000000001,
          5.734,
          8.4084,
          5.6407,
          5.3794,
          6.3654,
          5.1301,
          6.4296,
          7.0708,
          6.1891,
          20.27,
          5.4901,
          6.3261,
          5.5649,
          18.945,
          12.828,
          10.957,
          13.175999999999998,
          22.203000000000003,
          5.2524,
          6.5894,
          9.2482,
          5.8918,
          8.2111,
          7.9334,
          8.0959,
          5.6063,
          12.835999999999999,
          6.3534,
          5.4069,
          6.8825,
          11.708,
          5.7737,
          7.8247,
          7.0931,
          5.0702,
          5.8014,
          11.7,
          5.5416,
          7.5402,
          5.3077,
          7.4239,
          7.6031,
          6.3328,
          6.3589,
          6.2742,
          5.6397,
          9.3102,
          9.4536,
          8.8254,
          5.1793,
          21.279,
          14.908,
          18.959,
          7.2182,
          8.2951,
          10.236,
          5.4994,
          20.340999999999998,
          10.136000000000001,
          7.3345,
          6.0062,
          7.2259,
          5.0269,
          6.5479,
          7.5386,
          5.0365,
          10.274000000000001,
          5.1077,
          5.7292,
          5.1884,
          6.3557,
          9.7687,
          6.5159,
          8.5172,
          9.1802,
          6.002000000000001,
          5.5204,
          5.0594,
          5.7077,
          7.6366,
          5.8707,
          5.3054,
          8.2934,
          13.394,
          5.4369
         ],
         "y": [
          17.592,
          9.1302,
          13.662,
          11.854000000000001,
          6.8233,
          11.886,
          4.3483,
          12,
          6.5987,
          3.8166,
          3.2522,
          15.505,
          3.1551,
          7.2258,
          0.71618,
          3.5129,
          5.3048,
          0.56077,
          3.6518,
          5.3893,
          3.1386,
          21.767,
          4.263,
          5.1875,
          3.0825,
          22.638,
          13.501,
          7.0467,
          14.692,
          24.147,
          -1.22,
          5.9966,
          12.134,
          1.8495,
          6.5426,
          4.5623,
          4.1164,
          3.3928,
          10.117,
          5.4974,
          0.55657,
          3.9115,
          5.3854,
          2.4406,
          6.7318,
          1.0463,
          5.1337,
          1.844,
          8.0043,
          1.0179,
          6.7504,
          1.8396,
          4.2885,
          4.9981,
          1.4233,
          -1.4211,
          2.4756,
          4.6042,
          3.9624,
          5.4141,
          5.1694,
          -0.74279,
          17.929000000000002,
          12.054,
          17.054000000000002,
          4.8852,
          5.7442,
          7.7754,
          1.0173,
          20.991999999999997,
          6.6799,
          4.0259,
          1.2784,
          3.3411,
          -2.6807,
          0.29678000000000004,
          3.8845,
          5.7014,
          6.7526,
          2.0576,
          0.47953,
          0.20421,
          0.67861,
          7.5435,
          5.3436,
          4.2415,
          6.7981,
          0.92695,
          0.152,
          2.8214,
          1.8451,
          4.2959,
          7.2029,
          1.9869,
          0.14454,
          9.0551,
          0.61705
         ]
        },
        {
         "mode": "lines",
         "name": "prediction",
         "type": "scatter",
         "x": [
          6.1101,
          5.5277,
          8.5186,
          7.0032,
          5.8598,
          8.3829,
          7.4764,
          8.5781,
          6.4862,
          5.0546,
          5.7107,
          14.164000000000001,
          5.734,
          8.4084,
          5.6407,
          5.3794,
          6.3654,
          5.1301,
          6.4296,
          7.0708,
          6.1891,
          20.27,
          5.4901,
          6.3261,
          5.5649,
          18.945,
          12.828,
          10.957,
          13.175999999999998,
          22.203000000000003,
          5.2524,
          6.5894,
          9.2482,
          5.8918,
          8.2111,
          7.9334,
          8.0959,
          5.6063,
          12.835999999999999,
          6.3534,
          5.4069,
          6.8825,
          11.708,
          5.7737,
          7.8247,
          7.0931,
          5.0702,
          5.8014,
          11.7,
          5.5416,
          7.5402,
          5.3077,
          7.4239,
          7.6031,
          6.3328,
          6.3589,
          6.2742,
          5.6397,
          9.3102,
          9.4536,
          8.8254,
          5.1793,
          21.279,
          14.908,
          18.959,
          7.2182,
          8.2951,
          10.236,
          5.4994,
          20.340999999999998,
          10.136000000000001,
          7.3345,
          6.0062,
          7.2259,
          5.0269,
          6.5479,
          7.5386,
          5.0365,
          10.274000000000001,
          5.1077,
          5.7292,
          5.1884,
          6.3557,
          9.7687,
          6.5159,
          8.5172,
          9.1802,
          6.002000000000001,
          5.5204,
          5.0594,
          5.7077,
          7.6366,
          5.8707,
          5.3054,
          8.2934,
          13.394,
          5.4369
         ],
         "y": [
          3.435234275351374,
          2.746693037091436,
          6.282678596005667,
          4.491099968843734,
          3.1393175996362936,
          6.122247541692698,
          5.0505397249299335,
          6.3530223523182805,
          3.8798777501274087,
          2.1873715058057606,
          2.9630444220529206,
          12.956941484866684,
          2.9905908005753385,
          6.152394865826675,
          2.880287061685139,
          2.5713656579122652,
          3.7370621910927238,
          2.2766312302024385,
          3.8129625130300315,
          4.571019933998906,
          3.5286318677664408,
          20.175747804947697,
          2.7022405120938844,
          3.6905998444862416,
          2.7906726628868848,
          18.60926919798613,
          11.37745814984732,
          9.165472132017058,
          11.788880455675715,
          22.46103319910371,
          2.421220161245005,
          4.001885744269623,
          7.1452467406389975,
          3.177149535804422,
          5.919137334390058,
          5.590827063331018,
          5.782942364184796,
          2.8396177303044015,
          11.38691613388935,
          3.722875215029675,
          2.6038774780567504,
          4.348402634609576,
          10.053340383962823,
          3.037526046383923,
          5.462316705159907,
          4.597384064516071,
          2.2058145746877234,
          3.07027431612946,
          10.04388239992079,
          2.763126284364466,
          5.12596714766514,
          2.486598475935552,
          4.988471704654097,
          5.200330547195618,
          3.698520906121442,
          3.729377579058573,
          3.6292411730135576,
          2.879104813679886,
          7.218546116964747,
          7.3880804809181715,
          6.6453922840176,
          2.3347978320609366,
          21.368636042249,
          13.83653400077567,
          18.62582067005968,
          4.745283289973347,
          6.018446166831396,
          8.313071320228914,
          2.7132354185427463,
          20.259687413320727,
          8.194846519703512,
          4.88277873298439,
          3.312398707605481,
          4.754386599613804,
          2.1546232360602255,
          3.9528224520515813,
          5.124075550856734,
          2.1659728169106636,
          8.357996744428567,
          2.25014887488475,
          2.984916010150119,
          2.345556288908748,
          3.7255943854417595,
          7.760606827373714,
          3.914990515883453,
          6.281023448798313,
          7.064853876281724,
          3.3074332659834154,
          2.7380626266530816,
          2.193046296230981,
          2.959497678037158,
          5.239935855371627,
          3.1522041028935632,
          2.483879305523468,
          6.0164363452224645,
          12.046610520821092,
          2.6393449182143707
         ]
        }
       ],
       "layout": {
        "height": 500,
        "template": {
         "data": {
          "bar": [
           {
            "error_x": {
             "color": "#2a3f5f"
            },
            "error_y": {
             "color": "#2a3f5f"
            },
            "marker": {
             "line": {
              "color": "#E5ECF6",
              "width": 0.5
             }
            },
            "type": "bar"
           }
          ],
          "barpolar": [
           {
            "marker": {
             "line": {
              "color": "#E5ECF6",
              "width": 0.5
             }
            },
            "type": "barpolar"
           }
          ],
          "carpet": [
           {
            "aaxis": {
             "endlinecolor": "#2a3f5f",
             "gridcolor": "white",
             "linecolor": "white",
             "minorgridcolor": "white",
             "startlinecolor": "#2a3f5f"
            },
            "baxis": {
             "endlinecolor": "#2a3f5f",
             "gridcolor": "white",
             "linecolor": "white",
             "minorgridcolor": "white",
             "startlinecolor": "#2a3f5f"
            },
            "type": "carpet"
           }
          ],
          "choropleth": [
           {
            "colorbar": {
             "outlinewidth": 0,
             "ticks": ""
            },
            "type": "choropleth"
           }
          ],
          "contour": [
           {
            "colorbar": {
             "outlinewidth": 0,
             "ticks": ""
            },
            "colorscale": [
             [
              0,
              "#0d0887"
             ],
             [
              0.1111111111111111,
              "#46039f"
             ],
             [
              0.2222222222222222,
              "#7201a8"
             ],
             [
              0.3333333333333333,
              "#9c179e"
             ],
             [
              0.4444444444444444,
              "#bd3786"
             ],
             [
              0.5555555555555556,
              "#d8576b"
             ],
             [
              0.6666666666666666,
              "#ed7953"
             ],
             [
              0.7777777777777778,
              "#fb9f3a"
             ],
             [
              0.8888888888888888,
              "#fdca26"
             ],
             [
              1,
              "#f0f921"
             ]
            ],
            "type": "contour"
           }
          ],
          "contourcarpet": [
           {
            "colorbar": {
             "outlinewidth": 0,
             "ticks": ""
            },
            "type": "contourcarpet"
           }
          ],
          "heatmap": [
           {
            "colorbar": {
             "outlinewidth": 0,
             "ticks": ""
            },
            "colorscale": [
             [
              0,
              "#0d0887"
             ],
             [
              0.1111111111111111,
              "#46039f"
             ],
             [
              0.2222222222222222,
              "#7201a8"
             ],
             [
              0.3333333333333333,
              "#9c179e"
             ],
             [
              0.4444444444444444,
              "#bd3786"
             ],
             [
              0.5555555555555556,
              "#d8576b"
             ],
             [
              0.6666666666666666,
              "#ed7953"
             ],
             [
              0.7777777777777778,
              "#fb9f3a"
             ],
             [
              0.8888888888888888,
              "#fdca26"
             ],
             [
              1,
              "#f0f921"
             ]
            ],
            "type": "heatmap"
           }
          ],
          "heatmapgl": [
           {
            "colorbar": {
             "outlinewidth": 0,
             "ticks": ""
            },
            "colorscale": [
             [
              0,
              "#0d0887"
             ],
             [
              0.1111111111111111,
              "#46039f"
             ],
             [
              0.2222222222222222,
              "#7201a8"
             ],
             [
              0.3333333333333333,
              "#9c179e"
             ],
             [
              0.4444444444444444,
              "#bd3786"
             ],
             [
              0.5555555555555556,
              "#d8576b"
             ],
             [
              0.6666666666666666,
              "#ed7953"
             ],
             [
              0.7777777777777778,
              "#fb9f3a"
             ],
             [
              0.8888888888888888,
              "#fdca26"
             ],
             [
              1,
              "#f0f921"
             ]
            ],
            "type": "heatmapgl"
           }
          ],
          "histogram": [
           {
            "marker": {
             "colorbar": {
              "outlinewidth": 0,
              "ticks": ""
             }
            },
            "type": "histogram"
           }
          ],
          "histogram2d": [
           {
            "colorbar": {
             "outlinewidth": 0,
             "ticks": ""
            },
            "colorscale": [
             [
              0,
              "#0d0887"
             ],
             [
              0.1111111111111111,
              "#46039f"
             ],
             [
              0.2222222222222222,
              "#7201a8"
             ],
             [
              0.3333333333333333,
              "#9c179e"
             ],
             [
              0.4444444444444444,
              "#bd3786"
             ],
             [
              0.5555555555555556,
              "#d8576b"
             ],
             [
              0.6666666666666666,
              "#ed7953"
             ],
             [
              0.7777777777777778,
              "#fb9f3a"
             ],
             [
              0.8888888888888888,
              "#fdca26"
             ],
             [
              1,
              "#f0f921"
             ]
            ],
            "type": "histogram2d"
           }
          ],
          "histogram2dcontour": [
           {
            "colorbar": {
             "outlinewidth": 0,
             "ticks": ""
            },
            "colorscale": [
             [
              0,
              "#0d0887"
             ],
             [
              0.1111111111111111,
              "#46039f"
             ],
             [
              0.2222222222222222,
              "#7201a8"
             ],
             [
              0.3333333333333333,
              "#9c179e"
             ],
             [
              0.4444444444444444,
              "#bd3786"
             ],
             [
              0.5555555555555556,
              "#d8576b"
             ],
             [
              0.6666666666666666,
              "#ed7953"
             ],
             [
              0.7777777777777778,
              "#fb9f3a"
             ],
             [
              0.8888888888888888,
              "#fdca26"
             ],
             [
              1,
              "#f0f921"
             ]
            ],
            "type": "histogram2dcontour"
           }
          ],
          "mesh3d": [
           {
            "colorbar": {
             "outlinewidth": 0,
             "ticks": ""
            },
            "type": "mesh3d"
           }
          ],
          "parcoords": [
           {
            "line": {
             "colorbar": {
              "outlinewidth": 0,
              "ticks": ""
             }
            },
            "type": "parcoords"
           }
          ],
          "pie": [
           {
            "automargin": true,
            "type": "pie"
           }
          ],
          "scatter": [
           {
            "marker": {
             "colorbar": {
              "outlinewidth": 0,
              "ticks": ""
             }
            },
            "type": "scatter"
           }
          ],
          "scatter3d": [
           {
            "line": {
             "colorbar": {
              "outlinewidth": 0,
              "ticks": ""
             }
            },
            "marker": {
             "colorbar": {
              "outlinewidth": 0,
              "ticks": ""
             }
            },
            "type": "scatter3d"
           }
          ],
          "scattercarpet": [
           {
            "marker": {
             "colorbar": {
              "outlinewidth": 0,
              "ticks": ""
             }
            },
            "type": "scattercarpet"
           }
          ],
          "scattergeo": [
           {
            "marker": {
             "colorbar": {
              "outlinewidth": 0,
              "ticks": ""
             }
            },
            "type": "scattergeo"
           }
          ],
          "scattergl": [
           {
            "marker": {
             "colorbar": {
              "outlinewidth": 0,
              "ticks": ""
             }
            },
            "type": "scattergl"
           }
          ],
          "scattermapbox": [
           {
            "marker": {
             "colorbar": {
              "outlinewidth": 0,
              "ticks": ""
             }
            },
            "type": "scattermapbox"
           }
          ],
          "scatterpolar": [
           {
            "marker": {
             "colorbar": {
              "outlinewidth": 0,
              "ticks": ""
             }
            },
            "type": "scatterpolar"
           }
          ],
          "scatterpolargl": [
           {
            "marker": {
             "colorbar": {
              "outlinewidth": 0,
              "ticks": ""
             }
            },
            "type": "scatterpolargl"
           }
          ],
          "scatterternary": [
           {
            "marker": {
             "colorbar": {
              "outlinewidth": 0,
              "ticks": ""
             }
            },
            "type": "scatterternary"
           }
          ],
          "surface": [
           {
            "colorbar": {
             "outlinewidth": 0,
             "ticks": ""
            },
            "colorscale": [
             [
              0,
              "#0d0887"
             ],
             [
              0.1111111111111111,
              "#46039f"
             ],
             [
              0.2222222222222222,
              "#7201a8"
             ],
             [
              0.3333333333333333,
              "#9c179e"
             ],
             [
              0.4444444444444444,
              "#bd3786"
             ],
             [
              0.5555555555555556,
              "#d8576b"
             ],
             [
              0.6666666666666666,
              "#ed7953"
             ],
             [
              0.7777777777777778,
              "#fb9f3a"
             ],
             [
              0.8888888888888888,
              "#fdca26"
             ],
             [
              1,
              "#f0f921"
             ]
            ],
            "type": "surface"
           }
          ],
          "table": [
           {
            "cells": {
             "fill": {
              "color": "#EBF0F8"
             },
             "line": {
              "color": "white"
             }
            },
            "header": {
             "fill": {
              "color": "#C8D4E3"
             },
             "line": {
              "color": "white"
             }
            },
            "type": "table"
           }
          ]
         },
         "layout": {
          "annotationdefaults": {
           "arrowcolor": "#2a3f5f",
           "arrowhead": 0,
           "arrowwidth": 1
          },
          "coloraxis": {
           "colorbar": {
            "outlinewidth": 0,
            "ticks": ""
           }
          },
          "colorscale": {
           "diverging": [
            [
             0,
             "#8e0152"
            ],
            [
             0.1,
             "#c51b7d"
            ],
            [
             0.2,
             "#de77ae"
            ],
            [
             0.3,
             "#f1b6da"
            ],
            [
             0.4,
             "#fde0ef"
            ],
            [
             0.5,
             "#f7f7f7"
            ],
            [
             0.6,
             "#e6f5d0"
            ],
            [
             0.7,
             "#b8e186"
            ],
            [
             0.8,
             "#7fbc41"
            ],
            [
             0.9,
             "#4d9221"
            ],
            [
             1,
             "#276419"
            ]
           ],
           "sequential": [
            [
             0,
             "#0d0887"
            ],
            [
             0.1111111111111111,
             "#46039f"
            ],
            [
             0.2222222222222222,
             "#7201a8"
            ],
            [
             0.3333333333333333,
             "#9c179e"
            ],
            [
             0.4444444444444444,
             "#bd3786"
            ],
            [
             0.5555555555555556,
             "#d8576b"
            ],
            [
             0.6666666666666666,
             "#ed7953"
            ],
            [
             0.7777777777777778,
             "#fb9f3a"
            ],
            [
             0.8888888888888888,
             "#fdca26"
            ],
            [
             1,
             "#f0f921"
            ]
           ],
           "sequentialminus": [
            [
             0,
             "#0d0887"
            ],
            [
             0.1111111111111111,
             "#46039f"
            ],
            [
             0.2222222222222222,
             "#7201a8"
            ],
            [
             0.3333333333333333,
             "#9c179e"
            ],
            [
             0.4444444444444444,
             "#bd3786"
            ],
            [
             0.5555555555555556,
             "#d8576b"
            ],
            [
             0.6666666666666666,
             "#ed7953"
            ],
            [
             0.7777777777777778,
             "#fb9f3a"
            ],
            [
             0.8888888888888888,
             "#fdca26"
            ],
            [
             1,
             "#f0f921"
            ]
           ]
          },
          "colorway": [
           "#636efa",
           "#EF553B",
           "#00cc96",
           "#ab63fa",
           "#FFA15A",
           "#19d3f3",
           "#FF6692",
           "#B6E880",
           "#FF97FF",
           "#FECB52"
          ],
          "font": {
           "color": "#2a3f5f"
          },
          "geo": {
           "bgcolor": "white",
           "lakecolor": "white",
           "landcolor": "#E5ECF6",
           "showlakes": true,
           "showland": true,
           "subunitcolor": "white"
          },
          "hoverlabel": {
           "align": "left"
          },
          "hovermode": "closest",
          "mapbox": {
           "style": "light"
          },
          "paper_bgcolor": "white",
          "plot_bgcolor": "#E5ECF6",
          "polar": {
           "angularaxis": {
            "gridcolor": "white",
            "linecolor": "white",
            "ticks": ""
           },
           "bgcolor": "#E5ECF6",
           "radialaxis": {
            "gridcolor": "white",
            "linecolor": "white",
            "ticks": ""
           }
          },
          "scene": {
           "xaxis": {
            "backgroundcolor": "#E5ECF6",
            "gridcolor": "white",
            "gridwidth": 2,
            "linecolor": "white",
            "showbackground": true,
            "ticks": "",
            "zerolinecolor": "white"
           },
           "yaxis": {
            "backgroundcolor": "#E5ECF6",
            "gridcolor": "white",
            "gridwidth": 2,
            "linecolor": "white",
            "showbackground": true,
            "ticks": "",
            "zerolinecolor": "white"
           },
           "zaxis": {
            "backgroundcolor": "#E5ECF6",
            "gridcolor": "white",
            "gridwidth": 2,
            "linecolor": "white",
            "showbackground": true,
            "ticks": "",
            "zerolinecolor": "white"
           }
          },
          "shapedefaults": {
           "line": {
            "color": "#2a3f5f"
           }
          },
          "ternary": {
           "aaxis": {
            "gridcolor": "white",
            "linecolor": "white",
            "ticks": ""
           },
           "baxis": {
            "gridcolor": "white",
            "linecolor": "white",
            "ticks": ""
           },
           "bgcolor": "#E5ECF6",
           "caxis": {
            "gridcolor": "white",
            "linecolor": "white",
            "ticks": ""
           }
          },
          "title": {
           "x": 0.05
          },
          "xaxis": {
           "automargin": true,
           "gridcolor": "white",
           "linecolor": "white",
           "ticks": "",
           "title": {
            "standoff": 15
           },
           "zerolinecolor": "white",
           "zerolinewidth": 2
          },
          "yaxis": {
           "automargin": true,
           "gridcolor": "white",
           "linecolor": "white",
           "ticks": "",
           "title": {
            "standoff": 15
           },
           "zerolinecolor": "white",
           "zerolinewidth": 2
          }
         }
        },
        "width": 500,
        "xaxis": {
         "title": {
          "text": "城市人口数"
         }
        },
        "yaxis": {
         "title": {
          "text": "快餐车收益"
         }
        }
       }
      },
      "text/html": [
       "<div>\n",
       "        \n",
       "        \n",
       "            <div id=\"19b9ece2-8321-4826-b4e3-b0244fce5369\" class=\"plotly-graph-div\" style=\"height:500px; width:500px;\"></div>\n",
       "            <script type=\"text/javascript\">\n",
       "                require([\"plotly\"], function(Plotly) {\n",
       "                    window.PLOTLYENV=window.PLOTLYENV || {};\n",
       "                    \n",
       "                if (document.getElementById(\"19b9ece2-8321-4826-b4e3-b0244fce5369\")) {\n",
       "                    Plotly.newPlot(\n",
       "                        '19b9ece2-8321-4826-b4e3-b0244fce5369',\n",
       "                        [{\"mode\": \"markers\", \"name\": \"profit\", \"type\": \"scatter\", \"x\": [6.1101, 5.5277, 8.5186, 7.0032, 5.8598, 8.3829, 7.4764, 8.5781, 6.4862, 5.0546, 5.7107, 14.164000000000001, 5.734, 8.4084, 5.6407, 5.3794, 6.3654, 5.1301, 6.4296, 7.0708, 6.1891, 20.27, 5.4901, 6.3261, 5.5649, 18.945, 12.828, 10.957, 13.175999999999998, 22.203000000000003, 5.2524, 6.5894, 9.2482, 5.8918, 8.2111, 7.9334, 8.0959, 5.6063, 12.835999999999999, 6.3534, 5.4069, 6.8825, 11.708, 5.7737, 7.8247, 7.0931, 5.0702, 5.8014, 11.7, 5.5416, 7.5402, 5.3077, 7.4239, 7.6031, 6.3328, 6.3589, 6.2742, 5.6397, 9.3102, 9.4536, 8.8254, 5.1793, 21.279, 14.908, 18.959, 7.2182, 8.2951, 10.236, 5.4994, 20.340999999999998, 10.136000000000001, 7.3345, 6.0062, 7.2259, 5.0269, 6.5479, 7.5386, 5.0365, 10.274000000000001, 5.1077, 5.7292, 5.1884, 6.3557, 9.7687, 6.5159, 8.5172, 9.1802, 6.002000000000001, 5.5204, 5.0594, 5.7077, 7.6366, 5.8707, 5.3054, 8.2934, 13.394, 5.4369], \"y\": [17.592, 9.1302, 13.662, 11.854000000000001, 6.8233, 11.886, 4.3483, 12.0, 6.5987, 3.8166, 3.2522, 15.505, 3.1551, 7.2258, 0.71618, 3.5129, 5.3048, 0.56077, 3.6518, 5.3893, 3.1386, 21.767, 4.263, 5.1875, 3.0825, 22.638, 13.501, 7.0467, 14.692, 24.147, -1.22, 5.9966, 12.134, 1.8495, 6.5426, 4.5623, 4.1164, 3.3928, 10.117, 5.4974, 0.55657, 3.9115, 5.3854, 2.4406, 6.7318, 1.0463, 5.1337, 1.844, 8.0043, 1.0179, 6.7504, 1.8396, 4.2885, 4.9981, 1.4233, -1.4211, 2.4756, 4.6042, 3.9624, 5.4141, 5.1694, -0.74279, 17.929000000000002, 12.054, 17.054000000000002, 4.8852, 5.7442, 7.7754, 1.0173, 20.991999999999997, 6.6799, 4.0259, 1.2784, 3.3411, -2.6807, 0.29678000000000004, 3.8845, 5.7014, 6.7526, 2.0576, 0.47953, 0.20421, 0.67861, 7.5435, 5.3436, 4.2415, 6.7981, 0.92695, 0.152, 2.8214, 1.8451, 4.2959, 7.2029, 1.9869, 0.14454, 9.0551, 0.61705]}, {\"mode\": \"lines\", \"name\": \"prediction\", \"type\": \"scatter\", \"x\": [6.1101, 5.5277, 8.5186, 7.0032, 5.8598, 8.3829, 7.4764, 8.5781, 6.4862, 5.0546, 5.7107, 14.164000000000001, 5.734, 8.4084, 5.6407, 5.3794, 6.3654, 5.1301, 6.4296, 7.0708, 6.1891, 20.27, 5.4901, 6.3261, 5.5649, 18.945, 12.828, 10.957, 13.175999999999998, 22.203000000000003, 5.2524, 6.5894, 9.2482, 5.8918, 8.2111, 7.9334, 8.0959, 5.6063, 12.835999999999999, 6.3534, 5.4069, 6.8825, 11.708, 5.7737, 7.8247, 7.0931, 5.0702, 5.8014, 11.7, 5.5416, 7.5402, 5.3077, 7.4239, 7.6031, 6.3328, 6.3589, 6.2742, 5.6397, 9.3102, 9.4536, 8.8254, 5.1793, 21.279, 14.908, 18.959, 7.2182, 8.2951, 10.236, 5.4994, 20.340999999999998, 10.136000000000001, 7.3345, 6.0062, 7.2259, 5.0269, 6.5479, 7.5386, 5.0365, 10.274000000000001, 5.1077, 5.7292, 5.1884, 6.3557, 9.7687, 6.5159, 8.5172, 9.1802, 6.002000000000001, 5.5204, 5.0594, 5.7077, 7.6366, 5.8707, 5.3054, 8.2934, 13.394, 5.4369], \"y\": [3.435234275351374, 2.746693037091436, 6.282678596005667, 4.491099968843734, 3.1393175996362936, 6.122247541692698, 5.0505397249299335, 6.3530223523182805, 3.8798777501274087, 2.1873715058057606, 2.9630444220529206, 12.956941484866684, 2.9905908005753385, 6.152394865826675, 2.880287061685139, 2.5713656579122652, 3.7370621910927238, 2.2766312302024385, 3.8129625130300315, 4.571019933998906, 3.5286318677664408, 20.175747804947697, 2.7022405120938844, 3.6905998444862416, 2.7906726628868848, 18.60926919798613, 11.37745814984732, 9.165472132017058, 11.788880455675715, 22.46103319910371, 2.421220161245005, 4.001885744269623, 7.1452467406389975, 3.177149535804422, 5.919137334390058, 5.590827063331018, 5.782942364184796, 2.8396177303044015, 11.38691613388935, 3.722875215029675, 2.6038774780567504, 4.348402634609576, 10.053340383962823, 3.037526046383923, 5.462316705159907, 4.597384064516071, 2.2058145746877234, 3.07027431612946, 10.04388239992079, 2.763126284364466, 5.12596714766514, 2.486598475935552, 4.988471704654097, 5.200330547195618, 3.698520906121442, 3.729377579058573, 3.6292411730135576, 2.879104813679886, 7.218546116964747, 7.3880804809181715, 6.6453922840176, 2.3347978320609366, 21.368636042249, 13.83653400077567, 18.62582067005968, 4.745283289973347, 6.018446166831396, 8.313071320228914, 2.7132354185427463, 20.259687413320727, 8.194846519703512, 4.88277873298439, 3.312398707605481, 4.754386599613804, 2.1546232360602255, 3.9528224520515813, 5.124075550856734, 2.1659728169106636, 8.357996744428567, 2.25014887488475, 2.984916010150119, 2.345556288908748, 3.7255943854417595, 7.760606827373714, 3.914990515883453, 6.281023448798313, 7.064853876281724, 3.3074332659834154, 2.7380626266530816, 2.193046296230981, 2.959497678037158, 5.239935855371627, 3.1522041028935632, 2.483879305523468, 6.0164363452224645, 12.046610520821092, 2.6393449182143707]}],\n",
       "                        {\"height\": 500, \"template\": {\"data\": {\"bar\": [{\"error_x\": {\"color\": \"#2a3f5f\"}, \"error_y\": {\"color\": \"#2a3f5f\"}, \"marker\": {\"line\": {\"color\": \"#E5ECF6\", \"width\": 0.5}}, \"type\": \"bar\"}], \"barpolar\": [{\"marker\": {\"line\": {\"color\": \"#E5ECF6\", \"width\": 0.5}}, \"type\": \"barpolar\"}], \"carpet\": [{\"aaxis\": {\"endlinecolor\": \"#2a3f5f\", \"gridcolor\": \"white\", \"linecolor\": \"white\", \"minorgridcolor\": \"white\", \"startlinecolor\": \"#2a3f5f\"}, \"baxis\": {\"endlinecolor\": \"#2a3f5f\", \"gridcolor\": \"white\", \"linecolor\": \"white\", \"minorgridcolor\": \"white\", \"startlinecolor\": \"#2a3f5f\"}, \"type\": \"carpet\"}], \"choropleth\": [{\"colorbar\": {\"outlinewidth\": 0, \"ticks\": \"\"}, \"type\": \"choropleth\"}], \"contour\": [{\"colorbar\": {\"outlinewidth\": 0, \"ticks\": \"\"}, \"colorscale\": [[0.0, \"#0d0887\"], [0.1111111111111111, \"#46039f\"], [0.2222222222222222, \"#7201a8\"], [0.3333333333333333, \"#9c179e\"], [0.4444444444444444, \"#bd3786\"], [0.5555555555555556, \"#d8576b\"], [0.6666666666666666, \"#ed7953\"], [0.7777777777777778, \"#fb9f3a\"], [0.8888888888888888, \"#fdca26\"], [1.0, \"#f0f921\"]], \"type\": \"contour\"}], \"contourcarpet\": [{\"colorbar\": {\"outlinewidth\": 0, \"ticks\": \"\"}, \"type\": \"contourcarpet\"}], \"heatmap\": [{\"colorbar\": {\"outlinewidth\": 0, \"ticks\": \"\"}, \"colorscale\": [[0.0, \"#0d0887\"], [0.1111111111111111, \"#46039f\"], [0.2222222222222222, \"#7201a8\"], [0.3333333333333333, \"#9c179e\"], [0.4444444444444444, \"#bd3786\"], [0.5555555555555556, \"#d8576b\"], [0.6666666666666666, \"#ed7953\"], [0.7777777777777778, \"#fb9f3a\"], [0.8888888888888888, \"#fdca26\"], [1.0, \"#f0f921\"]], \"type\": \"heatmap\"}], \"heatmapgl\": [{\"colorbar\": {\"outlinewidth\": 0, \"ticks\": \"\"}, \"colorscale\": [[0.0, \"#0d0887\"], [0.1111111111111111, \"#46039f\"], [0.2222222222222222, \"#7201a8\"], [0.3333333333333333, \"#9c179e\"], [0.4444444444444444, \"#bd3786\"], [0.5555555555555556, \"#d8576b\"], [0.6666666666666666, \"#ed7953\"], [0.7777777777777778, \"#fb9f3a\"], [0.8888888888888888, \"#fdca26\"], [1.0, \"#f0f921\"]], \"type\": \"heatmapgl\"}], \"histogram\": [{\"marker\": {\"colorbar\": {\"outlinewidth\": 0, \"ticks\": \"\"}}, \"type\": \"histogram\"}], \"histogram2d\": [{\"colorbar\": {\"outlinewidth\": 0, \"ticks\": \"\"}, \"colorscale\": [[0.0, \"#0d0887\"], [0.1111111111111111, \"#46039f\"], [0.2222222222222222, \"#7201a8\"], [0.3333333333333333, \"#9c179e\"], [0.4444444444444444, \"#bd3786\"], [0.5555555555555556, \"#d8576b\"], [0.6666666666666666, \"#ed7953\"], [0.7777777777777778, \"#fb9f3a\"], [0.8888888888888888, \"#fdca26\"], [1.0, \"#f0f921\"]], \"type\": \"histogram2d\"}], \"histogram2dcontour\": [{\"colorbar\": {\"outlinewidth\": 0, \"ticks\": \"\"}, \"colorscale\": [[0.0, \"#0d0887\"], [0.1111111111111111, \"#46039f\"], [0.2222222222222222, \"#7201a8\"], [0.3333333333333333, \"#9c179e\"], [0.4444444444444444, \"#bd3786\"], [0.5555555555555556, \"#d8576b\"], [0.6666666666666666, \"#ed7953\"], [0.7777777777777778, \"#fb9f3a\"], [0.8888888888888888, \"#fdca26\"], [1.0, \"#f0f921\"]], \"type\": \"histogram2dcontour\"}], \"mesh3d\": [{\"colorbar\": {\"outlinewidth\": 0, \"ticks\": \"\"}, \"type\": \"mesh3d\"}], \"parcoords\": [{\"line\": {\"colorbar\": {\"outlinewidth\": 0, \"ticks\": \"\"}}, \"type\": \"parcoords\"}], \"pie\": [{\"automargin\": true, \"type\": \"pie\"}], \"scatter\": [{\"marker\": {\"colorbar\": {\"outlinewidth\": 0, \"ticks\": \"\"}}, \"type\": \"scatter\"}], \"scatter3d\": [{\"line\": {\"colorbar\": {\"outlinewidth\": 0, \"ticks\": \"\"}}, \"marker\": {\"colorbar\": {\"outlinewidth\": 0, \"ticks\": \"\"}}, \"type\": \"scatter3d\"}], \"scattercarpet\": [{\"marker\": {\"colorbar\": {\"outlinewidth\": 0, \"ticks\": \"\"}}, \"type\": \"scattercarpet\"}], \"scattergeo\": [{\"marker\": {\"colorbar\": {\"outlinewidth\": 0, \"ticks\": \"\"}}, \"type\": \"scattergeo\"}], \"scattergl\": [{\"marker\": {\"colorbar\": {\"outlinewidth\": 0, \"ticks\": \"\"}}, \"type\": \"scattergl\"}], \"scattermapbox\": [{\"marker\": {\"colorbar\": {\"outlinewidth\": 0, \"ticks\": \"\"}}, \"type\": \"scattermapbox\"}], \"scatterpolar\": [{\"marker\": {\"colorbar\": {\"outlinewidth\": 0, \"ticks\": \"\"}}, \"type\": \"scatterpolar\"}], \"scatterpolargl\": [{\"marker\": {\"colorbar\": {\"outlinewidth\": 0, \"ticks\": \"\"}}, \"type\": \"scatterpolargl\"}], \"scatterternary\": [{\"marker\": {\"colorbar\": {\"outlinewidth\": 0, \"ticks\": \"\"}}, \"type\": \"scatterternary\"}], \"surface\": [{\"colorbar\": {\"outlinewidth\": 0, \"ticks\": \"\"}, \"colorscale\": [[0.0, \"#0d0887\"], [0.1111111111111111, \"#46039f\"], [0.2222222222222222, \"#7201a8\"], [0.3333333333333333, \"#9c179e\"], [0.4444444444444444, \"#bd3786\"], [0.5555555555555556, \"#d8576b\"], [0.6666666666666666, \"#ed7953\"], [0.7777777777777778, \"#fb9f3a\"], [0.8888888888888888, \"#fdca26\"], [1.0, \"#f0f921\"]], \"type\": \"surface\"}], \"table\": [{\"cells\": {\"fill\": {\"color\": \"#EBF0F8\"}, \"line\": {\"color\": \"white\"}}, \"header\": {\"fill\": {\"color\": \"#C8D4E3\"}, \"line\": {\"color\": \"white\"}}, \"type\": \"table\"}]}, \"layout\": {\"annotationdefaults\": {\"arrowcolor\": \"#2a3f5f\", \"arrowhead\": 0, \"arrowwidth\": 1}, \"coloraxis\": {\"colorbar\": {\"outlinewidth\": 0, \"ticks\": \"\"}}, \"colorscale\": {\"diverging\": [[0, \"#8e0152\"], [0.1, \"#c51b7d\"], [0.2, \"#de77ae\"], [0.3, \"#f1b6da\"], [0.4, \"#fde0ef\"], [0.5, \"#f7f7f7\"], [0.6, \"#e6f5d0\"], [0.7, \"#b8e186\"], [0.8, \"#7fbc41\"], [0.9, \"#4d9221\"], [1, \"#276419\"]], \"sequential\": [[0.0, \"#0d0887\"], [0.1111111111111111, \"#46039f\"], [0.2222222222222222, \"#7201a8\"], [0.3333333333333333, \"#9c179e\"], [0.4444444444444444, \"#bd3786\"], [0.5555555555555556, \"#d8576b\"], [0.6666666666666666, \"#ed7953\"], [0.7777777777777778, \"#fb9f3a\"], [0.8888888888888888, \"#fdca26\"], [1.0, \"#f0f921\"]], \"sequentialminus\": [[0.0, \"#0d0887\"], [0.1111111111111111, \"#46039f\"], [0.2222222222222222, \"#7201a8\"], [0.3333333333333333, \"#9c179e\"], [0.4444444444444444, \"#bd3786\"], [0.5555555555555556, \"#d8576b\"], [0.6666666666666666, \"#ed7953\"], [0.7777777777777778, \"#fb9f3a\"], [0.8888888888888888, \"#fdca26\"], [1.0, \"#f0f921\"]]}, \"colorway\": [\"#636efa\", \"#EF553B\", \"#00cc96\", \"#ab63fa\", \"#FFA15A\", \"#19d3f3\", \"#FF6692\", \"#B6E880\", \"#FF97FF\", \"#FECB52\"], \"font\": {\"color\": \"#2a3f5f\"}, \"geo\": {\"bgcolor\": \"white\", \"lakecolor\": \"white\", \"landcolor\": \"#E5ECF6\", \"showlakes\": true, \"showland\": true, \"subunitcolor\": \"white\"}, \"hoverlabel\": {\"align\": \"left\"}, \"hovermode\": \"closest\", \"mapbox\": {\"style\": \"light\"}, \"paper_bgcolor\": \"white\", \"plot_bgcolor\": \"#E5ECF6\", \"polar\": {\"angularaxis\": {\"gridcolor\": \"white\", \"linecolor\": \"white\", \"ticks\": \"\"}, \"bgcolor\": \"#E5ECF6\", \"radialaxis\": {\"gridcolor\": \"white\", \"linecolor\": \"white\", \"ticks\": \"\"}}, \"scene\": {\"xaxis\": {\"backgroundcolor\": \"#E5ECF6\", \"gridcolor\": \"white\", \"gridwidth\": 2, \"linecolor\": \"white\", \"showbackground\": true, \"ticks\": \"\", \"zerolinecolor\": \"white\"}, \"yaxis\": {\"backgroundcolor\": \"#E5ECF6\", \"gridcolor\": \"white\", \"gridwidth\": 2, \"linecolor\": \"white\", \"showbackground\": true, \"ticks\": \"\", \"zerolinecolor\": \"white\"}, \"zaxis\": {\"backgroundcolor\": \"#E5ECF6\", \"gridcolor\": \"white\", \"gridwidth\": 2, \"linecolor\": \"white\", \"showbackground\": true, \"ticks\": \"\", \"zerolinecolor\": \"white\"}}, \"shapedefaults\": {\"line\": {\"color\": \"#2a3f5f\"}}, \"ternary\": {\"aaxis\": {\"gridcolor\": \"white\", \"linecolor\": \"white\", \"ticks\": \"\"}, \"baxis\": {\"gridcolor\": \"white\", \"linecolor\": \"white\", \"ticks\": \"\"}, \"bgcolor\": \"#E5ECF6\", \"caxis\": {\"gridcolor\": \"white\", \"linecolor\": \"white\", \"ticks\": \"\"}}, \"title\": {\"x\": 0.05}, \"xaxis\": {\"automargin\": true, \"gridcolor\": \"white\", \"linecolor\": \"white\", \"ticks\": \"\", \"title\": {\"standoff\": 15}, \"zerolinecolor\": \"white\", \"zerolinewidth\": 2}, \"yaxis\": {\"automargin\": true, \"gridcolor\": \"white\", \"linecolor\": \"white\", \"ticks\": \"\", \"title\": {\"standoff\": 15}, \"zerolinecolor\": \"white\", \"zerolinewidth\": 2}}}, \"width\": 500, \"xaxis\": {\"title\": {\"text\": \"\\u57ce\\u5e02\\u4eba\\u53e3\\u6570\"}}, \"yaxis\": {\"title\": {\"text\": \"\\u5feb\\u9910\\u8f66\\u6536\\u76ca\"}}},\n",
       "                        {\"responsive\": true}\n",
       "                    ).then(function(){\n",
       "                            \n",
       "var gd = document.getElementById('19b9ece2-8321-4826-b4e3-b0244fce5369');\n",
       "var x = new MutationObserver(function (mutations, observer) {{\n",
       "        var display = window.getComputedStyle(gd).display;\n",
       "        if (!display || display === 'none') {{\n",
       "            console.log([gd, 'removed!']);\n",
       "            Plotly.purge(gd);\n",
       "            observer.disconnect();\n",
       "        }}\n",
       "}});\n",
       "\n",
       "// Listen for the removal of the full notebook cells\n",
       "var notebookContainer = gd.closest('#notebook-container');\n",
       "if (notebookContainer) {{\n",
       "    x.observe(notebookContainer, {childList: true});\n",
       "}}\n",
       "\n",
       "// Listen for the clearing of the current output cell\n",
       "var outputEl = gd.closest('.output');\n",
       "if (outputEl) {{\n",
       "    x.observe(outputEl, {childList: true});\n",
       "}}\n",
       "\n",
       "                        })\n",
       "                };\n",
       "                });\n",
       "            </script>\n",
       "        </div>"
      ]
     },
     "metadata": {},
     "output_type": "display_data"
    }
   ],
   "source": [
    "final_theta_0=float(gradientDescent(X, y, theta, alpha, iters)[0][:,0])\n",
    "final_theta_1=float(gradientDescent(X, y, theta, alpha, iters)[0][:,1])\n",
    "df['prediction']=df['population']* final_theta_1+ final_theta_0\n",
    "\n",
    "scatter=go.Scatter(x=df['population'].tolist(),y=df['profit'].tolist(),mode='markers',name='profit')\n",
    "linear_line=go.Scatter(x=df['population'].tolist(),y=df['prediction'].tolist(),mode='lines',name='prediction')\n",
    "data=[scatter,linear_line]\n",
    "layout=go.Layout(height=500,width=500,xaxis=dict(title='城市人口数'),yaxis=dict(title='快餐车收益'))\n",
    "figure=go.Figure(data,layout)\n",
    "py.offline.iplot(figure)"
   ]
  },
  {
   "cell_type": "markdown",
   "metadata": {},
   "source": [
    "* 从回归模型可看出：收益随着城市人口数增加而递增。因此可以给到老板一定的洞察。\n",
    "* 可得到的业务建议：快餐车业务扩张优先选择城市人口基数大的城市。"
   ]
  },
  {
   "cell_type": "markdown",
   "metadata": {},
   "source": [
    "# 2.多变量线性回归"
   ]
  },
  {
   "cell_type": "markdown",
   "metadata": {},
   "source": [
    "## 1)读取数据并理解"
   ]
  },
  {
   "cell_type": "code",
   "execution_count": 200,
   "metadata": {},
   "outputs": [],
   "source": [
    "df2 = pd.read_csv('D:\\Learning\\python\\ML\\code\\ex1-linear regression\\ex1data2.txt',names=['size of house','number of bedroom','house price'])"
   ]
  },
  {
   "cell_type": "code",
   "execution_count": 201,
   "metadata": {},
   "outputs": [
    {
     "data": {
      "text/html": [
       "<div>\n",
       "<style scoped>\n",
       "    .dataframe tbody tr th:only-of-type {\n",
       "        vertical-align: middle;\n",
       "    }\n",
       "\n",
       "    .dataframe tbody tr th {\n",
       "        vertical-align: top;\n",
       "    }\n",
       "\n",
       "    .dataframe thead th {\n",
       "        text-align: right;\n",
       "    }\n",
       "</style>\n",
       "<table border=\"1\" class=\"dataframe\">\n",
       "  <thead>\n",
       "    <tr style=\"text-align: right;\">\n",
       "      <th></th>\n",
       "      <th>size of house</th>\n",
       "      <th>number of bedroom</th>\n",
       "      <th>house price</th>\n",
       "    </tr>\n",
       "  </thead>\n",
       "  <tbody>\n",
       "    <tr>\n",
       "      <th>0</th>\n",
       "      <td>2104</td>\n",
       "      <td>3</td>\n",
       "      <td>399900</td>\n",
       "    </tr>\n",
       "    <tr>\n",
       "      <th>1</th>\n",
       "      <td>1600</td>\n",
       "      <td>3</td>\n",
       "      <td>329900</td>\n",
       "    </tr>\n",
       "    <tr>\n",
       "      <th>2</th>\n",
       "      <td>2400</td>\n",
       "      <td>3</td>\n",
       "      <td>369000</td>\n",
       "    </tr>\n",
       "    <tr>\n",
       "      <th>3</th>\n",
       "      <td>1416</td>\n",
       "      <td>2</td>\n",
       "      <td>232000</td>\n",
       "    </tr>\n",
       "    <tr>\n",
       "      <th>4</th>\n",
       "      <td>3000</td>\n",
       "      <td>4</td>\n",
       "      <td>539900</td>\n",
       "    </tr>\n",
       "  </tbody>\n",
       "</table>\n",
       "</div>"
      ],
      "text/plain": [
       "   size of house  number of bedroom  house price\n",
       "0           2104                  3       399900\n",
       "1           1600                  3       329900\n",
       "2           2400                  3       369000\n",
       "3           1416                  2       232000\n",
       "4           3000                  4       539900"
      ]
     },
     "execution_count": 201,
     "metadata": {},
     "output_type": "execute_result"
    }
   ],
   "source": [
    "df2.head()"
   ]
  },
  {
   "cell_type": "code",
   "execution_count": 202,
   "metadata": {},
   "outputs": [
    {
     "name": "stdout",
     "output_type": "stream",
     "text": [
      "<class 'pandas.core.frame.DataFrame'>\n",
      "RangeIndex: 47 entries, 0 to 46\n",
      "Data columns (total 3 columns):\n",
      " #   Column             Non-Null Count  Dtype\n",
      "---  ------             --------------  -----\n",
      " 0   size of house      47 non-null     int64\n",
      " 1   number of bedroom  47 non-null     int64\n",
      " 2   house price        47 non-null     int64\n",
      "dtypes: int64(3)\n",
      "memory usage: 1.2 KB\n"
     ]
    }
   ],
   "source": [
    "df2.info()\n",
    "#可知三个字段均为整数型，无null值。"
   ]
  },
  {
   "cell_type": "code",
   "execution_count": 205,
   "metadata": {},
   "outputs": [
    {
     "data": {
      "text/html": [
       "<div>\n",
       "<style scoped>\n",
       "    .dataframe tbody tr th:only-of-type {\n",
       "        vertical-align: middle;\n",
       "    }\n",
       "\n",
       "    .dataframe tbody tr th {\n",
       "        vertical-align: top;\n",
       "    }\n",
       "\n",
       "    .dataframe thead th {\n",
       "        text-align: right;\n",
       "    }\n",
       "</style>\n",
       "<table border=\"1\" class=\"dataframe\">\n",
       "  <thead>\n",
       "    <tr style=\"text-align: right;\">\n",
       "      <th></th>\n",
       "      <th>size of house</th>\n",
       "      <th>number of bedroom</th>\n",
       "      <th>house price</th>\n",
       "    </tr>\n",
       "  </thead>\n",
       "  <tbody>\n",
       "    <tr>\n",
       "      <th>count</th>\n",
       "      <td>47.000000</td>\n",
       "      <td>47.000000</td>\n",
       "      <td>47.000000</td>\n",
       "    </tr>\n",
       "    <tr>\n",
       "      <th>mean</th>\n",
       "      <td>2000.680851</td>\n",
       "      <td>3.170213</td>\n",
       "      <td>340412.659574</td>\n",
       "    </tr>\n",
       "    <tr>\n",
       "      <th>std</th>\n",
       "      <td>794.702354</td>\n",
       "      <td>0.760982</td>\n",
       "      <td>125039.899586</td>\n",
       "    </tr>\n",
       "    <tr>\n",
       "      <th>min</th>\n",
       "      <td>852.000000</td>\n",
       "      <td>1.000000</td>\n",
       "      <td>169900.000000</td>\n",
       "    </tr>\n",
       "    <tr>\n",
       "      <th>25%</th>\n",
       "      <td>1432.000000</td>\n",
       "      <td>3.000000</td>\n",
       "      <td>249900.000000</td>\n",
       "    </tr>\n",
       "    <tr>\n",
       "      <th>50%</th>\n",
       "      <td>1888.000000</td>\n",
       "      <td>3.000000</td>\n",
       "      <td>299900.000000</td>\n",
       "    </tr>\n",
       "    <tr>\n",
       "      <th>75%</th>\n",
       "      <td>2269.000000</td>\n",
       "      <td>4.000000</td>\n",
       "      <td>384450.000000</td>\n",
       "    </tr>\n",
       "    <tr>\n",
       "      <th>max</th>\n",
       "      <td>4478.000000</td>\n",
       "      <td>5.000000</td>\n",
       "      <td>699900.000000</td>\n",
       "    </tr>\n",
       "  </tbody>\n",
       "</table>\n",
       "</div>"
      ],
      "text/plain": [
       "       size of house  number of bedroom    house price\n",
       "count      47.000000          47.000000      47.000000\n",
       "mean     2000.680851           3.170213  340412.659574\n",
       "std       794.702354           0.760982  125039.899586\n",
       "min       852.000000           1.000000  169900.000000\n",
       "25%      1432.000000           3.000000  249900.000000\n",
       "50%      1888.000000           3.000000  299900.000000\n",
       "75%      2269.000000           4.000000  384450.000000\n",
       "max      4478.000000           5.000000  699900.000000"
      ]
     },
     "execution_count": 205,
     "metadata": {},
     "output_type": "execute_result"
    }
   ],
   "source": [
    "df2.describe()\n",
    "# 数据无异常"
   ]
  },
  {
   "cell_type": "code",
   "execution_count": 210,
   "metadata": {},
   "outputs": [
    {
     "data": {
      "text/plain": [
       "0"
      ]
     },
     "execution_count": 210,
     "metadata": {},
     "output_type": "execute_result"
    }
   ],
   "source": [
    "np.sum(df2.duplicated(subset=['size of house', 'number of bedroom', 'house price']))\n",
    "#数据无重复值，无需进行重复值处理。"
   ]
  },
  {
   "cell_type": "markdown",
   "metadata": {},
   "source": [
    "## 2）特征缩放（Feature Scaling）"
   ]
  },
  {
   "cell_type": "code",
   "execution_count": 229,
   "metadata": {},
   "outputs": [],
   "source": [
    "# 设置特征缩放的函数\n",
    "def normalize_feature(df2):\n",
    "    df2=df2.apply(lambda column: (column - column.mean()) / column.std())\n",
    "    return df2"
   ]
  },
  {
   "cell_type": "code",
   "execution_count": 230,
   "metadata": {},
   "outputs": [
    {
     "data": {
      "text/html": [
       "<div>\n",
       "<style scoped>\n",
       "    .dataframe tbody tr th:only-of-type {\n",
       "        vertical-align: middle;\n",
       "    }\n",
       "\n",
       "    .dataframe tbody tr th {\n",
       "        vertical-align: top;\n",
       "    }\n",
       "\n",
       "    .dataframe thead th {\n",
       "        text-align: right;\n",
       "    }\n",
       "</style>\n",
       "<table border=\"1\" class=\"dataframe\">\n",
       "  <thead>\n",
       "    <tr style=\"text-align: right;\">\n",
       "      <th></th>\n",
       "      <th>size of house</th>\n",
       "      <th>number of bedroom</th>\n",
       "      <th>house price</th>\n",
       "    </tr>\n",
       "  </thead>\n",
       "  <tbody>\n",
       "    <tr>\n",
       "      <th>0</th>\n",
       "      <td>0.130010</td>\n",
       "      <td>-0.223675</td>\n",
       "      <td>0.475747</td>\n",
       "    </tr>\n",
       "    <tr>\n",
       "      <th>1</th>\n",
       "      <td>-0.504190</td>\n",
       "      <td>-0.223675</td>\n",
       "      <td>-0.084074</td>\n",
       "    </tr>\n",
       "    <tr>\n",
       "      <th>2</th>\n",
       "      <td>0.502476</td>\n",
       "      <td>-0.223675</td>\n",
       "      <td>0.228626</td>\n",
       "    </tr>\n",
       "    <tr>\n",
       "      <th>3</th>\n",
       "      <td>-0.735723</td>\n",
       "      <td>-1.537767</td>\n",
       "      <td>-0.867025</td>\n",
       "    </tr>\n",
       "    <tr>\n",
       "      <th>4</th>\n",
       "      <td>1.257476</td>\n",
       "      <td>1.090417</td>\n",
       "      <td>1.595389</td>\n",
       "    </tr>\n",
       "  </tbody>\n",
       "</table>\n",
       "</div>"
      ],
      "text/plain": [
       "   size of house  number of bedroom  house price\n",
       "0       0.130010          -0.223675     0.475747\n",
       "1      -0.504190          -0.223675    -0.084074\n",
       "2       0.502476          -0.223675     0.228626\n",
       "3      -0.735723          -1.537767    -0.867025\n",
       "4       1.257476           1.090417     1.595389"
      ]
     },
     "execution_count": 230,
     "metadata": {},
     "output_type": "execute_result"
    }
   ],
   "source": [
    "df2=normalize_feature(df2)\n",
    "df2.head()"
   ]
  },
  {
   "cell_type": "markdown",
   "metadata": {},
   "source": [
    "## 3）梯度下降（gradient descent）"
   ]
  },
  {
   "cell_type": "code",
   "execution_count": 238,
   "metadata": {},
   "outputs": [
    {
     "name": "stdout",
     "output_type": "stream",
     "text": [
      "[[-4.58262270e-17  8.84683917e-01 -5.30967489e-02]]\n",
      "0.1306864834398679\n"
     ]
    }
   ],
   "source": [
    "# 所需要的函数已在前面定义过，我们直接调用即可\n",
    "X2=get_X(df2)\n",
    "y2=get_y(df2)\n",
    "theta2=np.matrix(np.zeros((1,3)))\n",
    "alpha2=0.02\n",
    "iters2=1000\n",
    "\n",
    "# 得到最终的theta\n",
    "print(gradientDescent(X2, y2, theta2, alpha2, iters2)[0])\n",
    "# 最小的代价函数\n",
    "print(gradientDescent(X2, y2, theta2, alpha2, iters2)[1].min())"
   ]
  },
  {
   "cell_type": "code",
   "execution_count": 239,
   "metadata": {},
   "outputs": [
    {
     "data": {
      "application/vnd.plotly.v1+json": {
       "config": {
        "linkText": "Export to plot.ly",
        "plotlyServerURL": "https://plot.ly",
        "showLink": true
       },
       "data": [
        {
         "line": {
          "color": "rgba(255, 153, 51, 1.0)",
          "dash": "solid",
          "shape": "linear",
          "width": 1.3
         },
         "mode": "lines",
         "name": "0",
         "text": "",
         "type": "scatter",
         "x": [
          0,
          1,
          2,
          3,
          4,
          5,
          6,
          7,
          8,
          9,
          10,
          11,
          12,
          13,
          14,
          15,
          16,
          17,
          18,
          19,
          20,
          21,
          22,
          23,
          24,
          25,
          26,
          27,
          28,
          29,
          30,
          31,
          32,
          33,
          34,
          35,
          36,
          37,
          38,
          39,
          40,
          41,
          42,
          43,
          44,
          45,
          46,
          47,
          48,
          49,
          50,
          51,
          52,
          53,
          54,
          55,
          56,
          57,
          58,
          59,
          60,
          61,
          62,
          63,
          64,
          65,
          66,
          67,
          68,
          69,
          70,
          71,
          72,
          73,
          74,
          75,
          76,
          77,
          78,
          79,
          80,
          81,
          82,
          83,
          84,
          85,
          86,
          87,
          88,
          89,
          90,
          91,
          92,
          93,
          94,
          95,
          96,
          97,
          98,
          99,
          100,
          101,
          102,
          103,
          104,
          105,
          106,
          107,
          108,
          109,
          110,
          111,
          112,
          113,
          114,
          115,
          116,
          117,
          118,
          119,
          120,
          121,
          122,
          123,
          124,
          125,
          126,
          127,
          128,
          129,
          130,
          131,
          132,
          133,
          134,
          135,
          136,
          137,
          138,
          139,
          140,
          141,
          142,
          143,
          144,
          145,
          146,
          147,
          148,
          149,
          150,
          151,
          152,
          153,
          154,
          155,
          156,
          157,
          158,
          159,
          160,
          161,
          162,
          163,
          164,
          165,
          166,
          167,
          168,
          169,
          170,
          171,
          172,
          173,
          174,
          175,
          176,
          177,
          178,
          179,
          180,
          181,
          182,
          183,
          184,
          185,
          186,
          187,
          188,
          189,
          190,
          191,
          192,
          193,
          194,
          195,
          196,
          197,
          198,
          199,
          200,
          201,
          202,
          203,
          204,
          205,
          206,
          207,
          208,
          209,
          210,
          211,
          212,
          213,
          214,
          215,
          216,
          217,
          218,
          219,
          220,
          221,
          222,
          223,
          224,
          225,
          226,
          227,
          228,
          229,
          230,
          231,
          232,
          233,
          234,
          235,
          236,
          237,
          238,
          239,
          240,
          241,
          242,
          243,
          244,
          245,
          246,
          247,
          248,
          249,
          250,
          251,
          252,
          253,
          254,
          255,
          256,
          257,
          258,
          259,
          260,
          261,
          262,
          263,
          264,
          265,
          266,
          267,
          268,
          269,
          270,
          271,
          272,
          273,
          274,
          275,
          276,
          277,
          278,
          279,
          280,
          281,
          282,
          283,
          284,
          285,
          286,
          287,
          288,
          289,
          290,
          291,
          292,
          293,
          294,
          295,
          296,
          297,
          298,
          299,
          300,
          301,
          302,
          303,
          304,
          305,
          306,
          307,
          308,
          309,
          310,
          311,
          312,
          313,
          314,
          315,
          316,
          317,
          318,
          319,
          320,
          321,
          322,
          323,
          324,
          325,
          326,
          327,
          328,
          329,
          330,
          331,
          332,
          333,
          334,
          335,
          336,
          337,
          338,
          339,
          340,
          341,
          342,
          343,
          344,
          345,
          346,
          347,
          348,
          349,
          350,
          351,
          352,
          353,
          354,
          355,
          356,
          357,
          358,
          359,
          360,
          361,
          362,
          363,
          364,
          365,
          366,
          367,
          368,
          369,
          370,
          371,
          372,
          373,
          374,
          375,
          376,
          377,
          378,
          379,
          380,
          381,
          382,
          383,
          384,
          385,
          386,
          387,
          388,
          389,
          390,
          391,
          392,
          393,
          394,
          395,
          396,
          397,
          398,
          399,
          400,
          401,
          402,
          403,
          404,
          405,
          406,
          407,
          408,
          409,
          410,
          411,
          412,
          413,
          414,
          415,
          416,
          417,
          418,
          419,
          420,
          421,
          422,
          423,
          424,
          425,
          426,
          427,
          428,
          429,
          430,
          431,
          432,
          433,
          434,
          435,
          436,
          437,
          438,
          439,
          440,
          441,
          442,
          443,
          444,
          445,
          446,
          447,
          448,
          449,
          450,
          451,
          452,
          453,
          454,
          455,
          456,
          457,
          458,
          459,
          460,
          461,
          462,
          463,
          464,
          465,
          466,
          467,
          468,
          469,
          470,
          471,
          472,
          473,
          474,
          475,
          476,
          477,
          478,
          479,
          480,
          481,
          482,
          483,
          484,
          485,
          486,
          487,
          488,
          489,
          490,
          491,
          492,
          493,
          494,
          495,
          496,
          497,
          498,
          499,
          500,
          501,
          502,
          503,
          504,
          505,
          506,
          507,
          508,
          509,
          510,
          511,
          512,
          513,
          514,
          515,
          516,
          517,
          518,
          519,
          520,
          521,
          522,
          523,
          524,
          525,
          526,
          527,
          528,
          529,
          530,
          531,
          532,
          533,
          534,
          535,
          536,
          537,
          538,
          539,
          540,
          541,
          542,
          543,
          544,
          545,
          546,
          547,
          548,
          549,
          550,
          551,
          552,
          553,
          554,
          555,
          556,
          557,
          558,
          559,
          560,
          561,
          562,
          563,
          564,
          565,
          566,
          567,
          568,
          569,
          570,
          571,
          572,
          573,
          574,
          575,
          576,
          577,
          578,
          579,
          580,
          581,
          582,
          583,
          584,
          585,
          586,
          587,
          588,
          589,
          590,
          591,
          592,
          593,
          594,
          595,
          596,
          597,
          598,
          599,
          600,
          601,
          602,
          603,
          604,
          605,
          606,
          607,
          608,
          609,
          610,
          611,
          612,
          613,
          614,
          615,
          616,
          617,
          618,
          619,
          620,
          621,
          622,
          623,
          624,
          625,
          626,
          627,
          628,
          629,
          630,
          631,
          632,
          633,
          634,
          635,
          636,
          637,
          638,
          639,
          640,
          641,
          642,
          643,
          644,
          645,
          646,
          647,
          648,
          649,
          650,
          651,
          652,
          653,
          654,
          655,
          656,
          657,
          658,
          659,
          660,
          661,
          662,
          663,
          664,
          665,
          666,
          667,
          668,
          669,
          670,
          671,
          672,
          673,
          674,
          675,
          676,
          677,
          678,
          679,
          680,
          681,
          682,
          683,
          684,
          685,
          686,
          687,
          688,
          689,
          690,
          691,
          692,
          693,
          694,
          695,
          696,
          697,
          698,
          699,
          700,
          701,
          702,
          703,
          704,
          705,
          706,
          707,
          708,
          709,
          710,
          711,
          712,
          713,
          714,
          715,
          716,
          717,
          718,
          719,
          720,
          721,
          722,
          723,
          724,
          725,
          726,
          727,
          728,
          729,
          730,
          731,
          732,
          733,
          734,
          735,
          736,
          737,
          738,
          739,
          740,
          741,
          742,
          743,
          744,
          745,
          746,
          747,
          748,
          749,
          750,
          751,
          752,
          753,
          754,
          755,
          756,
          757,
          758,
          759,
          760,
          761,
          762,
          763,
          764,
          765,
          766,
          767,
          768,
          769,
          770,
          771,
          772,
          773,
          774,
          775,
          776,
          777,
          778,
          779,
          780,
          781,
          782,
          783,
          784,
          785,
          786,
          787,
          788,
          789,
          790,
          791,
          792,
          793,
          794,
          795,
          796,
          797,
          798,
          799,
          800,
          801,
          802,
          803,
          804,
          805,
          806,
          807,
          808,
          809,
          810,
          811,
          812,
          813,
          814,
          815,
          816,
          817,
          818,
          819,
          820,
          821,
          822,
          823,
          824,
          825,
          826,
          827,
          828,
          829,
          830,
          831,
          832,
          833,
          834,
          835,
          836,
          837,
          838,
          839,
          840,
          841,
          842,
          843,
          844,
          845,
          846,
          847,
          848,
          849,
          850,
          851,
          852,
          853,
          854,
          855,
          856,
          857,
          858,
          859,
          860,
          861,
          862,
          863,
          864,
          865,
          866,
          867,
          868,
          869,
          870,
          871,
          872,
          873,
          874,
          875,
          876,
          877,
          878,
          879,
          880,
          881,
          882,
          883,
          884,
          885,
          886,
          887,
          888,
          889,
          890,
          891,
          892,
          893,
          894,
          895,
          896,
          897,
          898,
          899,
          900,
          901,
          902,
          903,
          904,
          905,
          906,
          907,
          908,
          909,
          910,
          911,
          912,
          913,
          914,
          915,
          916,
          917,
          918,
          919,
          920,
          921,
          922,
          923,
          924,
          925,
          926,
          927,
          928,
          929,
          930,
          931,
          932,
          933,
          934,
          935,
          936,
          937,
          938,
          939,
          940,
          941,
          942,
          943,
          944,
          945,
          946,
          947,
          948,
          949,
          950,
          951,
          952,
          953,
          954,
          955,
          956,
          957,
          958,
          959,
          960,
          961,
          962,
          963,
          964,
          965,
          966,
          967,
          968,
          969,
          970,
          971,
          972,
          973,
          974,
          975,
          976,
          977,
          978,
          979,
          980,
          981,
          982,
          983,
          984,
          985,
          986,
          987,
          988,
          989,
          990,
          991,
          992,
          993,
          994,
          995,
          996,
          997,
          998,
          999
         ],
         "y": [
          0.47186307832380503,
          0.4553469590285932,
          0.4397554556793869,
          0.4250341405053846,
          0.4111318387527551,
          0.3980004333990266,
          0.38559468160574306,
          0.37387204220356823,
          0.3627925135464615,
          0.3523184811114423,
          0.342414574257951,
          0.33304753159605915,
          0.3241860744458951,
          0.31580078790178495,
          0.30786400904385947,
          0.30034972186737785,
          0.29323345852586113,
          0.2864922065084183,
          0.280104321394472,
          0.274049444850553,
          0.26830842755399137,
          0.2628632567472883,
          0.2576969881447651,
          0.252793681929826,
          0.24813834259690515,
          0.2437168624069628,
          0.23951596823928448,
          0.2355231716354104,
          0.2317267218432946,
          0.22811556168133232,
          0.22467928605274248,
          0.22140810295098393,
          0.21829279680646274,
          0.21532469403379537,
          0.21249563064735133,
          0.20979792182075632,
          0.20722433327350875,
          0.20476805437489204,
          0.2024226728619641,
          0.20018215107461693,
          0.19804080361652687,
          0.19599327635630331,
          0.19403452668829066,
          0.1921598049773285,
          0.19036463711631813,
          0.1886448081297283,
          0.1869963467601893,
          0.18541551097910536,
          0.1838987743657659,
          0.18244281330277579,
          0.18104449493875843,
          0.17970086587223916,
          0.1784091415133826,
          0.1771666960828666,
          0.17597105320962037,
          0.17481987709145674,
          0.1737109641847898,
          0.17264223539166426,
          0.1716117287142281,
          0.17061759234858162,
          0.1696580781916178,
          0.1687315357360588,
          0.16783640633038124,
          0.1669712177817259,
          0.16613457928120293,
          0.1653251766322408,
          0.16454176776379262,
          0.1637831785113036,
          0.1630482986493729,
          0.1623360781610077,
          0.16164552372927699,
          0.16097569543802115,
          0.16032570366908133,
          0.15969470618425968,
          0.15908190538093547,
          0.1584865457109234,
          0.15790791125278872,
          0.15734532342842006,
          0.15679813885521568,
          0.1562657473257551,
          0.1557475699073197,
          0.1552430571540818,
          0.15475168742521583,
          0.15427296530258672,
          0.1538064201020568,
          0.15335160447280485,
          0.15290809307939215,
          0.15247548136162395,
          0.1520533843675533,
          0.1516414356552531,
          0.15123928625924463,
          0.1508466037177188,
          0.15046307115691704,
          0.15008838642925718,
          0.1497222613019954,
          0.14936442069340652,
          0.1490146019536477,
          0.14867255418763897,
          0.14833803761745545,
          0.1480108229818755,
          0.14769069097087117,
          0.1473774316929585,
          0.14707084417345284,
          0.1467707358817885,
          0.1464769222861747,
          0.14618922643396226,
          0.1459074785561932,
          0.14563151569489732,
          0.14536118135178475,
          0.14509632515706644,
          0.1448368025572076,
          0.1445824745204944,
          0.14433320725935714,
          0.14408887196846004,
          0.14384934457762488,
          0.1436145055187115,
          0.1433842395056329,
          0.1431584353267284,
          0.14293698564876806,
          0.1427197868319022,
          0.14250673875491385,
          0.14229774465016717,
          0.14209271094768355,
          0.14189154712780988,
          0.1416941655819758,
          0.14150048148106673,
          0.1413104126509675,
          0.14112387945485835,
          0.14094080468186973,
          0.14076111344172565,
          0.14058473306502794,
          0.14041159300885372,
          0.14024162476735852,
          0.14007476178709544,
          0.13991093938677807,
          0.1397500946812311,
          0.13959216650928763,
          0.13943709536540685,
          0.1392848233347982,
          0.13913529403185262,
          0.13898845254169137,
          0.1388442453646549,
          0.1387026203635657,
          0.13856352671360694,
          0.1384269148546701,
          0.13829273644603113,
          0.1381609443232264,
          0.13803149245700264,
          0.1379043359142272,
          0.13777943082064822,
          0.13765673432540254,
          0.1375362045671746,
          0.1374178006419151,
          0.1373014825720343,
          0.1371872112769886,
          0.13707494854518512,
          0.1369646570071323,
          0.1368563001097696,
          0.13674984209191215,
          0.13664524796075186,
          0.13654248346935718,
          0.13644151509511995,
          0.13634231001909836,
          0.1362448361062093,
          0.13614906188622625,
          0.13605495653553995,
          0.13596248985964327,
          0.13587163227630264,
          0.13578235479938164,
          0.1356946290232826,
          0.13560842710797671,
          0.13552372176459154,
          0.1354404862415296,
          0.13535869431109102,
          0.1352783202565762,
          0.13519933885984464,
          0.13512172538930847,
          0.1350454555883394,
          0.13497050566407034,
          0.1348968522765719,
          0.1348244725283877,
          0.13475334395441088,
          0.13468344451208708,
          0.13461475257192795,
          0.13454724690832293,
          0.13448090669063412,
          0.13441571147456363,
          0.1343516411937804,
          0.13428867615179552,
          0.13422679701407592,
          0.1341659848003859,
          0.13410622087734753,
          0.13404748695120994,
          0.13398976506082047,
          0.13393303757078817,
          0.13387728716483313,
          0.13382249683931294,
          0.13376864989692167,
          0.13371572994055192,
          0.13366372086731637,
          0.1336126068627211,
          0.13356237239498622,
          0.13351300220950763,
          0.13346448132345523,
          0.13341679502050302,
          0.13336992884568596,
          0.13332386860037923,
          0.13327860033739666,
          0.13323411035620253,
          0.1331903851982351,
          0.1331474116423365,
          0.1331051767002866,
          0.13306366761243682,
          0.1330228718434418,
          0.13298277707808423,
          0.13294337121719182,
          0.13290464237364258,
          0.13286657886845565,
          0.1328291692269659,
          0.13279240217507957,
          0.13275626663560808,
          0.13272075172467873,
          0.13268584674821976,
          0.13265154119851727,
          0.13261782475084272,
          0.1325846872601489,
          0.13255211875783265,
          0.13252010944856177,
          0.13248864970716612,
          0.13245773007558953,
          0.13242734125990235,
          0.13239747412737182,
          0.13236811970359022,
          0.1323392691696586,
          0.13231091385942445,
          0.13228304525677279,
          0.13225565499296926,
          0.1322287348440533,
          0.1322022767282811,
          0.13217627270361698,
          0.13215071496527153,
          0.1321255958432862,
          0.1321009078001633,
          0.13207664342853917,
          0.13205279544890167,
          0.13202935670734922,
          0.13200632017339112,
          0.13198367893778848,
          0.13196142621043505,
          0.1319395553182758,
          0.13191805970326492,
          0.13189693292035923,
          0.13187616863554982,
          0.13185576062392768,
          0.13183570276778514,
          0.1318159890547517,
          0.13179661357596248,
          0.1317775705242606,
          0.13175885419243094,
          0.13174045897146594,
          0.13172237934886216,
          0.13170460990694718,
          0.13168714532123654,
          0.13166998035881947,
          0.1316531098767734,
          0.13163652882060678,
          0.13162023222272906,
          0.13160421520094803,
          0.13158847295699344,
          0.13157300077506665,
          0.13155779402041612,
          0.1315428481379375,
          0.13152815865079842,
          0.1315137211590877,
          0.13149953133848807,
          0.13148558493897186,
          0.1314718777835198,
          0.13145840576686238,
          0.13144516485424276,
          0.1314321510802014,
          0.1314193605473823,
          0.13140678942535944,
          0.13139443394948402,
          0.13138229041975166,
          0.13137035519968931,
          0.13135862471526163,
          0.1313470954537962,
          0.13133576396292715,
          0.13132462684955792,
          0.13131368077884137,
          0.1313029224731773,
          0.13129234871122827,
          0.13128195632695194,
          0.1312717422086496,
          0.1312617032980325,
          0.13125183658930295,
          0.13124213912825236,
          0.1312326080113743,
          0.13122324038499292,
          0.13121403344440674,
          0.13120498443304696,
          0.1311960906416504,
          0.13118734940744642,
          0.1311787581133586,
          0.13117031418721956,
          0.13116201510099923,
          0.13115385837004692,
          0.1311458415523464,
          0.1311379622477833,
          0.1311302180974256,
          0.13112260678281654,
          0.13111512602527942,
          0.13110777358523448,
          0.13110054726152778,
          0.13109344489077115,
          0.13108646434669405,
          0.13107960353950618,
          0.13107286041527116,
          0.13106623295529118,
          0.13105971917550202,
          0.13105331712587842,
          0.13104702488984987,
          0.13104084058372645,
          0.13103476235613432,
          0.13102878838746118,
          0.13102291688931114,
          0.13101714610396878,
          0.13101147430387292,
          0.13100589979109867,
          0.1310004208968494,
          0.13099503598095633,
          0.13098974343138758,
          0.13098454166376527,
          0.13097942912089086,
          0.13097440427227897,
          0.1309694656136987,
          0.13096461166672346,
          0.130959840978288,
          0.13095515212025322,
          0.1309505436889787,
          0.13094601430490205,
          0.13094156261212606,
          0.1309371872780124,
          0.13093288699278283,
          0.1309286604691268,
          0.130924506441816,
          0.13092042366732562,
          0.13091641092346185,
          0.13091246700899592,
          0.13090859074330455,
          0.13090478096601632,
          0.1309010365366642,
          0.13089735633434432,
          0.13089373925738004,
          0.13089018422299226,
          0.13088669016697516,
          0.13088325604337775,
          0.13087988082419036,
          0.13087656349903723,
          0.13087330307487371,
          0.13087009857568926,
          0.13086694904221474,
          0.13086385353163588,
          0.13086081111731027,
          0.13085782088849063,
          0.13085488195005163,
          0.13085199342222223,
          0.13084915444032208,
          0.13084636415450274,
          0.13084362172949326,
          0.13084092634435007,
          0.13083827719221133,
          0.13083567348005518,
          0.13083311442846238,
          0.1308305992713833,
          0.130828127255908,
          0.13082569764204124,
          0.130823309702481,
          0.1308209627224004,
          0.1308186559992339,
          0.1308163888424672,
          0.13081416057343004,
          0.1308119705250934,
          0.1308098180418697,
          0.13080770247941662,
          0.1308056232044439,
          0.1308035795945242,
          0.13080157103790654,
          0.13079959693333307,
          0.13079765668985927,
          0.13079574972667699,
          0.1307938754729404,
          0.13079203336759543,
          0.13079022285921155,
          0.1307884434058168,
          0.13078669447473557,
          0.13078497554242893,
          0.13078328609433842,
          0.13078162562473128,
          0.13077999363654969,
          0.13077838964126165,
          0.13077681315871478,
          0.13077526371699275,
          0.13077374085227367,
          0.1307722441086916,
          0.13077077303819992,
          0.13076932720043719,
          0.13076790616259545,
          0.1307665094992903,
          0.13076513679243418,
          0.13076378763111055,
          0.13076246161145144,
          0.13076115833651605,
          0.13075987741617245,
          0.1307586184669803,
          0.1307573811120764,
          0.1307561649810618,
          0.13075496970989062,
          0.1307537949407617,
          0.1307526403220109,
          0.13075150550800613,
          0.13075039015904377,
          0.1307492939412471,
          0.13074821652646615,
          0.13074715759217967,
          0.13074611682139858,
          0.13074509390257086,
          0.13074408852948852,
          0.1307431004011958,
          0.13074212922189923,
          0.13074117470087884,
          0.1307402365524014,
          0.13073931449563475,
          0.1307384082545636,
          0.13073751755790725,
          0.130736642139038,
          0.1307357817359017,
          0.130734936090939,
          0.13073410495100837,
          0.1307332880673105,
          0.13073248519531336,
          0.13073169609467952,
          0.13073092052919388,
          0.13073015826669301,
          0.13072940907899583,
          0.13072867274183503,
          0.13072794903479013,
          0.13072723774122152,
          0.13072653864820535,
          0.13072585154647015,
          0.13072517623033392,
          0.13072451249764272,
          0.13072386014970994,
          0.1307232189912571,
          0.1307225888303552,
          0.13072196947836742,
          0.13072136074989238,
          0.13072076246270894,
          0.13072017443772166,
          0.13071959649890674,
          0.1307190284732599,
          0.13071847019074428,
          0.13071792148423958,
          0.13071738218949205,
          0.13071685214506532,
          0.13071633119229215,
          0.13071581917522676,
          0.13071531594059824,
          0.13071482133776485,
          0.1307143352186686,
          0.13071385743779101,
          0.13071338785210976,
          0.13071292632105586,
          0.13071247270647118,
          0.1307120268725675,
          0.13071158868588575,
          0.1307111580152559,
          0.13071073473175804,
          0.13071031870868333,
          0.13070990982149658,
          0.13070950794779845,
          0.1307091129672893,
          0.13070872476173281,
          0.13070834321492067,
          0.13070796821263803,
          0.130707599642629,
          0.1307072373945632,
          0.13070688136000266,
          0.13070653143236954,
          0.13070618750691393,
          0.13070584948068278,
          0.13070551725248877,
          0.1307051907228805,
          0.13070486979411225,
          0.1307045543701148,
          0.13070424435646694,
          0.13070393966036697,
          0.13070364019060496,
          0.13070334585753557,
          0.13070305657305095,
          0.13070277225055468,
          0.13070249280493557,
          0.13070221815254243,
          0.1307019482111588,
          0.1307016828999785,
          0.13070142213958144,
          0.13070116585190972,
          0.1307009139602443,
          0.13070066638918224,
          0.13070042306461377,
          0.13070018391370042,
          0.130699948864853,
          0.1306997178477104,
          0.13069949079311813,
          0.13069926763310818,
          0.13069904830087822,
          0.13069883273077176,
          0.1306986208582586,
          0.13069841261991508,
          0.13069820795340592,
          0.1306980067974646,
          0.13069780909187576,
          0.13069761477745667,
          0.13069742379604002,
          0.13069723609045603,
          0.1306970516045155,
          0.1306968702829931,
          0.13069669207161086,
          0.13069651691702158,
          0.13069634476679334,
          0.1306961755693934,
          0.13069600927417305,
          0.13069584583135224,
          0.13069568519200483,
          0.13069552730804398,
          0.13069537213220747,
          0.1306952196180439,
          0.1306950697198986,
          0.13069492239289995,
          0.1306947775929461,
          0.1306946352766916,
          0.1306944954015344,
          0.13069435792560335,
          0.1306942228077454,
          0.1306940900075134,
          0.13069395948515394,
          0.13069383120159558,
          0.13069370511843703,
          0.13069358119793564,
          0.13069345940299612,
          0.13069333969715952,
          0.13069322204459224,
          0.1306931064100754,
          0.13069299275899401,
          0.13069288105732704,
          0.13069277127163684,
          0.13069266336905944,
          0.13069255731729448,
          0.13069245308459565,
          0.13069235063976128,
          0.13069224995212475,
          0.1306921509915455,
          0.13069205372839987,
          0.1306919581335726,
          0.13069186417844753,
          0.13069177183489944,
          0.13069168107528564,
          0.13069159187243745,
          0.1306915041996523,
          0.13069141803068562,
          0.13069133333974275,
          0.130691250101472,
          0.1306911682909561,
          0.13069108788370523,
          0.13069100885564977,
          0.130690931183133,
          0.13069085484290377,
          0.13069077981210983,
          0.13069070606829095,
          0.13069063358937216,
          0.1306905623536571,
          0.13069049233982158,
          0.13069042352690707,
          0.13069035589431466,
          0.1306902894217988,
          0.13069022408946113,
          0.13069015987774443,
          0.13069009676742735,
          0.1306900347396178,
          0.13068997377574804,
          0.13068991385756865,
          0.13068985496714333,
          0.1306897970868434,
          0.13068974019934254,
          0.1306896842876117,
          0.13068962933491374,
          0.13068957532479886,
          0.13068952224109925,
          0.13068947006792436,
          0.1306894187896564,
          0.13068936839094536,
          0.13068931885670448,
          0.1306892701721059,
          0.13068922232257602,
          0.1306891752937911,
          0.13068912907167335,
          0.13068908364238624,
          0.13068903899233061,
          0.13068899510814072,
          0.13068895197667985,
          0.13068890958503673,
          0.1306888679205216,
          0.13068882697066225,
          0.13068878672320053,
          0.13068874716608836,
          0.1306887082874846,
          0.1306886700757508,
          0.13068863251944868,
          0.13068859560733567,
          0.13068855932836235,
          0.13068852367166858,
          0.13068848862658078,
          0.13068845418260816,
          0.1306884203294401,
          0.13068838705694277,
          0.1306883543551561,
          0.13068832221429091,
          0.13068829062472592,
          0.13068825957700494,
          0.1306882290618338,
          0.13068819907007798,
          0.13068816959275956,
          0.13068814062105447,
          0.13068811214629017,
          0.13068808415994287,
          0.13068805665363484,
          0.13068802961913223,
          0.13068800304834227,
          0.13068797693331116,
          0.13068795126622135,
          0.13068792603938947,
          0.13068790124526405,
          0.13068787687642294,
          0.13068785292557145,
          0.13068782938553988,
          0.13068780624928164,
          0.130687783509871,
          0.130687761160501,
          0.1306877391944813,
          0.13068771760523645,
          0.1306876963863039,
          0.13068767553133176,
          0.13068765503407703,
          0.13068763488840413,
          0.13068761508828233,
          0.13068759562778462,
          0.13068757650108553,
          0.13068755770245957,
          0.13068753922627935,
          0.13068752106701417,
          0.13068750321922804,
          0.13068748567757824,
          0.13068746843681384,
          0.13068745149177383,
          0.13068743483738565,
          0.13068741846866402,
          0.1306874023807089,
          0.1306873865687045,
          0.13068737102791736,
          0.13068735575369558,
          0.13068734074146682,
          0.13068732598673716,
          0.13068731148508986,
          0.13068729723218392,
          0.13068728322375261,
          0.13068726945560277,
          0.13068725592361286,
          0.13068724262373205,
          0.13068722955197912,
          0.13068721670444106,
          0.13068720407727202,
          0.13068719166669204,
          0.13068717946898614,
          0.13068716748050285,
          0.1306871556976536,
          0.130687144116911,
          0.1306871327348087,
          0.13068712154793924,
          0.130687110552954,
          0.1306870997465616,
          0.1306870891255272,
          0.1306870786866714,
          0.13068706842686945,
          0.13068705834304994,
          0.13068704843219445,
          0.13068703869133616,
          0.1306870291175591,
          0.13068701970799754,
          0.13068701045983463,
          0.13068700137030193,
          0.1306869924366786,
          0.13068698365629047,
          0.1306869750265089,
          0.1306869665447508,
          0.13068695820847714,
          0.1306869500151924,
          0.13068694196244407,
          0.13068693404782145,
          0.13068692626895542,
          0.13068691862351733,
          0.13068691110921862,
          0.1306869037238098,
          0.13068689646508014,
          0.13068688933085676,
          0.13068688231900408,
          0.13068687542742305,
          0.1306868686540507,
          0.1306868619968595,
          0.1306868554538566,
          0.1306868490230833,
          0.13068684270261474,
          0.1306868364905588,
          0.1306868303850559,
          0.13068682438427842,
          0.13068681848643,
          0.1306868126897452,
          0.13068680699248872,
          0.1306868013929551,
          0.13068679588946824,
          0.13068679048038065,
          0.1306867851640731,
          0.13068677993895414,
          0.1306867748034597,
          0.1306867697560525,
          0.1306867647952216,
          0.13068675991948195,
          0.13068675512737396,
          0.13068675041746333,
          0.13068674578833994,
          0.1306867412386182,
          0.13068673676693612,
          0.1306867323719551,
          0.13068672805235956,
          0.13068672380685642,
          0.13068671963417486,
          0.13068671553306568,
          0.13068671150230135,
          0.13068670754067513,
          0.13068670364700122,
          0.1306866998201141,
          0.13068669605886807,
          0.1306866923621373,
          0.1306866887288152,
          0.13068668515781404,
          0.130686681648065,
          0.13068667819851737,
          0.13068667480813845,
          0.1306866714759135,
          0.13068666820084496,
          0.1306866649819524,
          0.13068666181827227,
          0.13068665870885765,
          0.1306866556527776,
          0.13068665264911736,
          0.13068664969697777,
          0.13068664679547515,
          0.13068664394374088,
          0.13068664114092135,
          0.13068663838617753,
          0.1306866356786848,
          0.13068663301763273,
          0.13068663040222459,
          0.13068662783167762,
          0.13068662530522224,
          0.13068662282210228,
          0.1306866203815743,
          0.13068661798290776,
          0.1306866156253847,
          0.13068661330829928,
          0.130686611030958,
          0.1306866087926791,
          0.13068660659279255,
          0.1306866044306398,
          0.1306866023055737,
          0.13068660021695805,
          0.13068659816416764,
          0.13068659614658792,
          0.13068659416361508,
          0.1306865922146554,
          0.13068659029912547,
          0.13068658841645187,
          0.1306865865660711,
          0.13068658474742928,
          0.1306865829599819,
          0.1306865812031939,
          0.13068657947653944,
          0.13068657777950163,
          0.1306865761115725,
          0.1306865744722527,
          0.13068657286105156,
          0.13068657127748678,
          0.13068656972108425,
          0.1306865681913781,
          0.13068656668791045,
          0.13068656521023123,
          0.13068656375789808,
          0.13068656233047626,
          0.13068656092753844,
          0.1306865595486647,
          0.13068655819344224,
          0.13068655686146546,
          0.13068655555233558,
          0.1306865542656607,
          0.13068655300105558,
          0.13068655175814187,
          0.13068655053654735,
          0.13068654933590637,
          0.13068654815585956,
          0.13068654699605364,
          0.13068654585614145,
          0.1306865447357817,
          0.13068654363463916,
          0.13068654255238396,
          0.13068654148869238,
          0.13068654044324585,
          0.13068653941573155,
          0.13068653840584182,
          0.13068653741327424,
          0.1306865364377319,
          0.13068653547892262,
          0.13068653453655943,
          0.13068653361036026,
          0.13068653270004785,
          0.13068653180534967,
          0.1306865309259979,
          0.13068653006172937,
          0.13068652921228527,
          0.1306865283774114,
          0.13068652755685778,
          0.13068652675037884,
          0.13068652595773309,
          0.13068652517868332,
          0.13068652441299627,
          0.13068652366044278,
          0.13068652292079758,
          0.1306865221938392,
          0.1306865214793501,
          0.13068652077711632,
          0.13068652008692777,
          0.13068651940857767,
          0.1306865187418631,
          0.13068651808658446,
          0.1306865174425455,
          0.13068651680955357,
          0.13068651618741908,
          0.13068651557595584,
          0.1306865149749808,
          0.13068651438431403,
          0.1306865138037788,
          0.13068651323320124,
          0.13068651267241055,
          0.13068651212123894,
          0.13068651157952138,
          0.13068651104709567,
          0.13068651052380245,
          0.1306865100094851,
          0.13068650950398966,
          0.13068650900716478,
          0.13068650851886174,
          0.13068650803893442,
          0.13068650756723904,
          0.13068650710363452,
          0.130686506647982,
          0.13068650620014516,
          0.13068650575998986,
          0.1306865053273844,
          0.13068650490219924,
          0.13068650448430716,
          0.130686504073583,
          0.13068650366990386,
          0.13068650327314885,
          0.13068650288319927,
          0.1306865024999383,
          0.13068650212325128,
          0.13068650175302546,
          0.1306865013891499,
          0.13068650103151583,
          0.13068650068001614,
          0.13068650033454554,
          0.13068649999500068,
          0.13068649966127996,
          0.13068649933328336,
          0.1306864990109128,
          0.1306864986940717,
          0.13068649838266527,
          0.13068649807660032,
          0.13068649777578512,
          0.13068649748012978,
          0.13068649718954567,
          0.1306864969039458,
          0.13068649662324475,
          0.13068649634735843,
          0.1306864960762043,
          0.1306864958097012,
          0.1306864955477693,
          0.13068649529033025,
          0.13068649503730692,
          0.13068649478862363,
          0.1306864945442059,
          0.13068649430398058,
          0.13068649406787575,
          0.13068649383582068,
          0.13068649360774606,
          0.13068649338358349,
          0.13068649316326592,
          0.1306864929467273,
          0.13068649273390293,
          0.13068649252472903,
          0.13068649231914306,
          0.1306864921170834,
          0.1306864919184896,
          0.13068649172330218,
          0.1306864915314628,
          0.13068649134291388,
          0.13068649115759912,
          0.130686490975463,
          0.13068649079645098,
          0.13068649062050947,
          0.13068649044758587,
          0.13068649027762835,
          0.130686490110586,
          0.1306864899464089,
          0.13068648978504788,
          0.1306864896264546,
          0.13068648947058165,
          0.13068648931738222,
          0.13068648916681072,
          0.13068648901882182,
          0.1306864888733713,
          0.13068648873041572,
          0.13068648858991214,
          0.13068648845181854,
          0.13068648831609367,
          0.13068648818269685,
          0.13068648805158806,
          0.13068648792272822,
          0.13068648779607858,
          0.1306864876716014,
          0.1306864875492593,
          0.13068648742901562,
          0.1306864873108345,
          0.13068648719468046,
          0.1306864870805188,
          0.13068648696831534,
          0.1306864868580364,
          0.13068648674964908,
          0.13068648664312085,
          0.13068648653841988,
          0.1306864864355148,
          0.13068648633437482,
          0.13068648623496967,
          0.13068648613726958,
          0.13068648604124525,
          0.130686485946868,
          0.13068648585410958,
          0.13068648576294223,
          0.13068648567333863,
          0.13068648558527196,
          0.1306864854987159,
          0.13068648541364444,
          0.13068648533003221,
          0.13068648524785417,
          0.13068648516708564,
          0.1306864850877026,
          0.13068648500968114,
          0.1306864849329979,
          0.13068648485763007,
          0.13068648478355488,
          0.13068648471075042,
          0.1306864846391946,
          0.13068648456886622,
          0.13068648449974415,
          0.13068648443180775,
          0.1306864843650366,
          0.13068648429941077,
          0.13068648423491055,
          0.13068648417151668,
          0.13068648410921022,
          0.13068648404797248,
          0.1306864839877851,
          0.1306864839286301,
          0.13068648387048976,
          0.1306864838133467,
          0.13068648375718378,
          0.13068648370198419,
          0.13068648364773142,
          0.13068648359440926,
          0.13068648354200169,
          0.13068648349049303,
          0.1306864834398679
         ]
        }
       ],
       "layout": {
        "height": 500,
        "template": {
         "data": {
          "bar": [
           {
            "error_x": {
             "color": "#2a3f5f"
            },
            "error_y": {
             "color": "#2a3f5f"
            },
            "marker": {
             "line": {
              "color": "#E5ECF6",
              "width": 0.5
             }
            },
            "type": "bar"
           }
          ],
          "barpolar": [
           {
            "marker": {
             "line": {
              "color": "#E5ECF6",
              "width": 0.5
             }
            },
            "type": "barpolar"
           }
          ],
          "carpet": [
           {
            "aaxis": {
             "endlinecolor": "#2a3f5f",
             "gridcolor": "white",
             "linecolor": "white",
             "minorgridcolor": "white",
             "startlinecolor": "#2a3f5f"
            },
            "baxis": {
             "endlinecolor": "#2a3f5f",
             "gridcolor": "white",
             "linecolor": "white",
             "minorgridcolor": "white",
             "startlinecolor": "#2a3f5f"
            },
            "type": "carpet"
           }
          ],
          "choropleth": [
           {
            "colorbar": {
             "outlinewidth": 0,
             "ticks": ""
            },
            "type": "choropleth"
           }
          ],
          "contour": [
           {
            "colorbar": {
             "outlinewidth": 0,
             "ticks": ""
            },
            "colorscale": [
             [
              0,
              "#0d0887"
             ],
             [
              0.1111111111111111,
              "#46039f"
             ],
             [
              0.2222222222222222,
              "#7201a8"
             ],
             [
              0.3333333333333333,
              "#9c179e"
             ],
             [
              0.4444444444444444,
              "#bd3786"
             ],
             [
              0.5555555555555556,
              "#d8576b"
             ],
             [
              0.6666666666666666,
              "#ed7953"
             ],
             [
              0.7777777777777778,
              "#fb9f3a"
             ],
             [
              0.8888888888888888,
              "#fdca26"
             ],
             [
              1,
              "#f0f921"
             ]
            ],
            "type": "contour"
           }
          ],
          "contourcarpet": [
           {
            "colorbar": {
             "outlinewidth": 0,
             "ticks": ""
            },
            "type": "contourcarpet"
           }
          ],
          "heatmap": [
           {
            "colorbar": {
             "outlinewidth": 0,
             "ticks": ""
            },
            "colorscale": [
             [
              0,
              "#0d0887"
             ],
             [
              0.1111111111111111,
              "#46039f"
             ],
             [
              0.2222222222222222,
              "#7201a8"
             ],
             [
              0.3333333333333333,
              "#9c179e"
             ],
             [
              0.4444444444444444,
              "#bd3786"
             ],
             [
              0.5555555555555556,
              "#d8576b"
             ],
             [
              0.6666666666666666,
              "#ed7953"
             ],
             [
              0.7777777777777778,
              "#fb9f3a"
             ],
             [
              0.8888888888888888,
              "#fdca26"
             ],
             [
              1,
              "#f0f921"
             ]
            ],
            "type": "heatmap"
           }
          ],
          "heatmapgl": [
           {
            "colorbar": {
             "outlinewidth": 0,
             "ticks": ""
            },
            "colorscale": [
             [
              0,
              "#0d0887"
             ],
             [
              0.1111111111111111,
              "#46039f"
             ],
             [
              0.2222222222222222,
              "#7201a8"
             ],
             [
              0.3333333333333333,
              "#9c179e"
             ],
             [
              0.4444444444444444,
              "#bd3786"
             ],
             [
              0.5555555555555556,
              "#d8576b"
             ],
             [
              0.6666666666666666,
              "#ed7953"
             ],
             [
              0.7777777777777778,
              "#fb9f3a"
             ],
             [
              0.8888888888888888,
              "#fdca26"
             ],
             [
              1,
              "#f0f921"
             ]
            ],
            "type": "heatmapgl"
           }
          ],
          "histogram": [
           {
            "marker": {
             "colorbar": {
              "outlinewidth": 0,
              "ticks": ""
             }
            },
            "type": "histogram"
           }
          ],
          "histogram2d": [
           {
            "colorbar": {
             "outlinewidth": 0,
             "ticks": ""
            },
            "colorscale": [
             [
              0,
              "#0d0887"
             ],
             [
              0.1111111111111111,
              "#46039f"
             ],
             [
              0.2222222222222222,
              "#7201a8"
             ],
             [
              0.3333333333333333,
              "#9c179e"
             ],
             [
              0.4444444444444444,
              "#bd3786"
             ],
             [
              0.5555555555555556,
              "#d8576b"
             ],
             [
              0.6666666666666666,
              "#ed7953"
             ],
             [
              0.7777777777777778,
              "#fb9f3a"
             ],
             [
              0.8888888888888888,
              "#fdca26"
             ],
             [
              1,
              "#f0f921"
             ]
            ],
            "type": "histogram2d"
           }
          ],
          "histogram2dcontour": [
           {
            "colorbar": {
             "outlinewidth": 0,
             "ticks": ""
            },
            "colorscale": [
             [
              0,
              "#0d0887"
             ],
             [
              0.1111111111111111,
              "#46039f"
             ],
             [
              0.2222222222222222,
              "#7201a8"
             ],
             [
              0.3333333333333333,
              "#9c179e"
             ],
             [
              0.4444444444444444,
              "#bd3786"
             ],
             [
              0.5555555555555556,
              "#d8576b"
             ],
             [
              0.6666666666666666,
              "#ed7953"
             ],
             [
              0.7777777777777778,
              "#fb9f3a"
             ],
             [
              0.8888888888888888,
              "#fdca26"
             ],
             [
              1,
              "#f0f921"
             ]
            ],
            "type": "histogram2dcontour"
           }
          ],
          "mesh3d": [
           {
            "colorbar": {
             "outlinewidth": 0,
             "ticks": ""
            },
            "type": "mesh3d"
           }
          ],
          "parcoords": [
           {
            "line": {
             "colorbar": {
              "outlinewidth": 0,
              "ticks": ""
             }
            },
            "type": "parcoords"
           }
          ],
          "pie": [
           {
            "automargin": true,
            "type": "pie"
           }
          ],
          "scatter": [
           {
            "marker": {
             "colorbar": {
              "outlinewidth": 0,
              "ticks": ""
             }
            },
            "type": "scatter"
           }
          ],
          "scatter3d": [
           {
            "line": {
             "colorbar": {
              "outlinewidth": 0,
              "ticks": ""
             }
            },
            "marker": {
             "colorbar": {
              "outlinewidth": 0,
              "ticks": ""
             }
            },
            "type": "scatter3d"
           }
          ],
          "scattercarpet": [
           {
            "marker": {
             "colorbar": {
              "outlinewidth": 0,
              "ticks": ""
             }
            },
            "type": "scattercarpet"
           }
          ],
          "scattergeo": [
           {
            "marker": {
             "colorbar": {
              "outlinewidth": 0,
              "ticks": ""
             }
            },
            "type": "scattergeo"
           }
          ],
          "scattergl": [
           {
            "marker": {
             "colorbar": {
              "outlinewidth": 0,
              "ticks": ""
             }
            },
            "type": "scattergl"
           }
          ],
          "scattermapbox": [
           {
            "marker": {
             "colorbar": {
              "outlinewidth": 0,
              "ticks": ""
             }
            },
            "type": "scattermapbox"
           }
          ],
          "scatterpolar": [
           {
            "marker": {
             "colorbar": {
              "outlinewidth": 0,
              "ticks": ""
             }
            },
            "type": "scatterpolar"
           }
          ],
          "scatterpolargl": [
           {
            "marker": {
             "colorbar": {
              "outlinewidth": 0,
              "ticks": ""
             }
            },
            "type": "scatterpolargl"
           }
          ],
          "scatterternary": [
           {
            "marker": {
             "colorbar": {
              "outlinewidth": 0,
              "ticks": ""
             }
            },
            "type": "scatterternary"
           }
          ],
          "surface": [
           {
            "colorbar": {
             "outlinewidth": 0,
             "ticks": ""
            },
            "colorscale": [
             [
              0,
              "#0d0887"
             ],
             [
              0.1111111111111111,
              "#46039f"
             ],
             [
              0.2222222222222222,
              "#7201a8"
             ],
             [
              0.3333333333333333,
              "#9c179e"
             ],
             [
              0.4444444444444444,
              "#bd3786"
             ],
             [
              0.5555555555555556,
              "#d8576b"
             ],
             [
              0.6666666666666666,
              "#ed7953"
             ],
             [
              0.7777777777777778,
              "#fb9f3a"
             ],
             [
              0.8888888888888888,
              "#fdca26"
             ],
             [
              1,
              "#f0f921"
             ]
            ],
            "type": "surface"
           }
          ],
          "table": [
           {
            "cells": {
             "fill": {
              "color": "#EBF0F8"
             },
             "line": {
              "color": "white"
             }
            },
            "header": {
             "fill": {
              "color": "#C8D4E3"
             },
             "line": {
              "color": "white"
             }
            },
            "type": "table"
           }
          ]
         },
         "layout": {
          "annotationdefaults": {
           "arrowcolor": "#2a3f5f",
           "arrowhead": 0,
           "arrowwidth": 1
          },
          "coloraxis": {
           "colorbar": {
            "outlinewidth": 0,
            "ticks": ""
           }
          },
          "colorscale": {
           "diverging": [
            [
             0,
             "#8e0152"
            ],
            [
             0.1,
             "#c51b7d"
            ],
            [
             0.2,
             "#de77ae"
            ],
            [
             0.3,
             "#f1b6da"
            ],
            [
             0.4,
             "#fde0ef"
            ],
            [
             0.5,
             "#f7f7f7"
            ],
            [
             0.6,
             "#e6f5d0"
            ],
            [
             0.7,
             "#b8e186"
            ],
            [
             0.8,
             "#7fbc41"
            ],
            [
             0.9,
             "#4d9221"
            ],
            [
             1,
             "#276419"
            ]
           ],
           "sequential": [
            [
             0,
             "#0d0887"
            ],
            [
             0.1111111111111111,
             "#46039f"
            ],
            [
             0.2222222222222222,
             "#7201a8"
            ],
            [
             0.3333333333333333,
             "#9c179e"
            ],
            [
             0.4444444444444444,
             "#bd3786"
            ],
            [
             0.5555555555555556,
             "#d8576b"
            ],
            [
             0.6666666666666666,
             "#ed7953"
            ],
            [
             0.7777777777777778,
             "#fb9f3a"
            ],
            [
             0.8888888888888888,
             "#fdca26"
            ],
            [
             1,
             "#f0f921"
            ]
           ],
           "sequentialminus": [
            [
             0,
             "#0d0887"
            ],
            [
             0.1111111111111111,
             "#46039f"
            ],
            [
             0.2222222222222222,
             "#7201a8"
            ],
            [
             0.3333333333333333,
             "#9c179e"
            ],
            [
             0.4444444444444444,
             "#bd3786"
            ],
            [
             0.5555555555555556,
             "#d8576b"
            ],
            [
             0.6666666666666666,
             "#ed7953"
            ],
            [
             0.7777777777777778,
             "#fb9f3a"
            ],
            [
             0.8888888888888888,
             "#fdca26"
            ],
            [
             1,
             "#f0f921"
            ]
           ]
          },
          "colorway": [
           "#636efa",
           "#EF553B",
           "#00cc96",
           "#ab63fa",
           "#FFA15A",
           "#19d3f3",
           "#FF6692",
           "#B6E880",
           "#FF97FF",
           "#FECB52"
          ],
          "font": {
           "color": "#2a3f5f"
          },
          "geo": {
           "bgcolor": "white",
           "lakecolor": "white",
           "landcolor": "#E5ECF6",
           "showlakes": true,
           "showland": true,
           "subunitcolor": "white"
          },
          "hoverlabel": {
           "align": "left"
          },
          "hovermode": "closest",
          "mapbox": {
           "style": "light"
          },
          "paper_bgcolor": "white",
          "plot_bgcolor": "#E5ECF6",
          "polar": {
           "angularaxis": {
            "gridcolor": "white",
            "linecolor": "white",
            "ticks": ""
           },
           "bgcolor": "#E5ECF6",
           "radialaxis": {
            "gridcolor": "white",
            "linecolor": "white",
            "ticks": ""
           }
          },
          "scene": {
           "xaxis": {
            "backgroundcolor": "#E5ECF6",
            "gridcolor": "white",
            "gridwidth": 2,
            "linecolor": "white",
            "showbackground": true,
            "ticks": "",
            "zerolinecolor": "white"
           },
           "yaxis": {
            "backgroundcolor": "#E5ECF6",
            "gridcolor": "white",
            "gridwidth": 2,
            "linecolor": "white",
            "showbackground": true,
            "ticks": "",
            "zerolinecolor": "white"
           },
           "zaxis": {
            "backgroundcolor": "#E5ECF6",
            "gridcolor": "white",
            "gridwidth": 2,
            "linecolor": "white",
            "showbackground": true,
            "ticks": "",
            "zerolinecolor": "white"
           }
          },
          "shapedefaults": {
           "line": {
            "color": "#2a3f5f"
           }
          },
          "ternary": {
           "aaxis": {
            "gridcolor": "white",
            "linecolor": "white",
            "ticks": ""
           },
           "baxis": {
            "gridcolor": "white",
            "linecolor": "white",
            "ticks": ""
           },
           "bgcolor": "#E5ECF6",
           "caxis": {
            "gridcolor": "white",
            "linecolor": "white",
            "ticks": ""
           }
          },
          "title": {
           "x": 0.05
          },
          "xaxis": {
           "automargin": true,
           "gridcolor": "white",
           "linecolor": "white",
           "ticks": "",
           "title": {
            "standoff": 15
           },
           "zerolinecolor": "white",
           "zerolinewidth": 2
          },
          "yaxis": {
           "automargin": true,
           "gridcolor": "white",
           "linecolor": "white",
           "ticks": "",
           "title": {
            "standoff": 15
           },
           "zerolinecolor": "white",
           "zerolinewidth": 2
          }
         }
        },
        "title": {
         "text": "代价数据可视化"
        },
        "width": 500,
        "xaxis": {
         "title": {
          "text": "迭代次数"
         }
        },
        "yaxis": {
         "title": {
          "text": "代价函数"
         }
        }
       }
      },
      "text/html": [
       "<div>\n",
       "        \n",
       "        \n",
       "            <div id=\"35ab9beb-6c20-4a84-b847-e3ed734230e5\" class=\"plotly-graph-div\" style=\"height:500px; width:500px;\"></div>\n",
       "            <script type=\"text/javascript\">\n",
       "                require([\"plotly\"], function(Plotly) {\n",
       "                    window.PLOTLYENV=window.PLOTLYENV || {};\n",
       "                    window.PLOTLYENV.BASE_URL='https://plot.ly';\n",
       "                    \n",
       "                if (document.getElementById(\"35ab9beb-6c20-4a84-b847-e3ed734230e5\")) {\n",
       "                    Plotly.newPlot(\n",
       "                        '35ab9beb-6c20-4a84-b847-e3ed734230e5',\n",
       "                        [{\"line\": {\"color\": \"rgba(255, 153, 51, 1.0)\", \"dash\": \"solid\", \"shape\": \"linear\", \"width\": 1.3}, \"mode\": \"lines\", \"name\": \"0\", \"text\": \"\", \"type\": \"scatter\", \"x\": [0, 1, 2, 3, 4, 5, 6, 7, 8, 9, 10, 11, 12, 13, 14, 15, 16, 17, 18, 19, 20, 21, 22, 23, 24, 25, 26, 27, 28, 29, 30, 31, 32, 33, 34, 35, 36, 37, 38, 39, 40, 41, 42, 43, 44, 45, 46, 47, 48, 49, 50, 51, 52, 53, 54, 55, 56, 57, 58, 59, 60, 61, 62, 63, 64, 65, 66, 67, 68, 69, 70, 71, 72, 73, 74, 75, 76, 77, 78, 79, 80, 81, 82, 83, 84, 85, 86, 87, 88, 89, 90, 91, 92, 93, 94, 95, 96, 97, 98, 99, 100, 101, 102, 103, 104, 105, 106, 107, 108, 109, 110, 111, 112, 113, 114, 115, 116, 117, 118, 119, 120, 121, 122, 123, 124, 125, 126, 127, 128, 129, 130, 131, 132, 133, 134, 135, 136, 137, 138, 139, 140, 141, 142, 143, 144, 145, 146, 147, 148, 149, 150, 151, 152, 153, 154, 155, 156, 157, 158, 159, 160, 161, 162, 163, 164, 165, 166, 167, 168, 169, 170, 171, 172, 173, 174, 175, 176, 177, 178, 179, 180, 181, 182, 183, 184, 185, 186, 187, 188, 189, 190, 191, 192, 193, 194, 195, 196, 197, 198, 199, 200, 201, 202, 203, 204, 205, 206, 207, 208, 209, 210, 211, 212, 213, 214, 215, 216, 217, 218, 219, 220, 221, 222, 223, 224, 225, 226, 227, 228, 229, 230, 231, 232, 233, 234, 235, 236, 237, 238, 239, 240, 241, 242, 243, 244, 245, 246, 247, 248, 249, 250, 251, 252, 253, 254, 255, 256, 257, 258, 259, 260, 261, 262, 263, 264, 265, 266, 267, 268, 269, 270, 271, 272, 273, 274, 275, 276, 277, 278, 279, 280, 281, 282, 283, 284, 285, 286, 287, 288, 289, 290, 291, 292, 293, 294, 295, 296, 297, 298, 299, 300, 301, 302, 303, 304, 305, 306, 307, 308, 309, 310, 311, 312, 313, 314, 315, 316, 317, 318, 319, 320, 321, 322, 323, 324, 325, 326, 327, 328, 329, 330, 331, 332, 333, 334, 335, 336, 337, 338, 339, 340, 341, 342, 343, 344, 345, 346, 347, 348, 349, 350, 351, 352, 353, 354, 355, 356, 357, 358, 359, 360, 361, 362, 363, 364, 365, 366, 367, 368, 369, 370, 371, 372, 373, 374, 375, 376, 377, 378, 379, 380, 381, 382, 383, 384, 385, 386, 387, 388, 389, 390, 391, 392, 393, 394, 395, 396, 397, 398, 399, 400, 401, 402, 403, 404, 405, 406, 407, 408, 409, 410, 411, 412, 413, 414, 415, 416, 417, 418, 419, 420, 421, 422, 423, 424, 425, 426, 427, 428, 429, 430, 431, 432, 433, 434, 435, 436, 437, 438, 439, 440, 441, 442, 443, 444, 445, 446, 447, 448, 449, 450, 451, 452, 453, 454, 455, 456, 457, 458, 459, 460, 461, 462, 463, 464, 465, 466, 467, 468, 469, 470, 471, 472, 473, 474, 475, 476, 477, 478, 479, 480, 481, 482, 483, 484, 485, 486, 487, 488, 489, 490, 491, 492, 493, 494, 495, 496, 497, 498, 499, 500, 501, 502, 503, 504, 505, 506, 507, 508, 509, 510, 511, 512, 513, 514, 515, 516, 517, 518, 519, 520, 521, 522, 523, 524, 525, 526, 527, 528, 529, 530, 531, 532, 533, 534, 535, 536, 537, 538, 539, 540, 541, 542, 543, 544, 545, 546, 547, 548, 549, 550, 551, 552, 553, 554, 555, 556, 557, 558, 559, 560, 561, 562, 563, 564, 565, 566, 567, 568, 569, 570, 571, 572, 573, 574, 575, 576, 577, 578, 579, 580, 581, 582, 583, 584, 585, 586, 587, 588, 589, 590, 591, 592, 593, 594, 595, 596, 597, 598, 599, 600, 601, 602, 603, 604, 605, 606, 607, 608, 609, 610, 611, 612, 613, 614, 615, 616, 617, 618, 619, 620, 621, 622, 623, 624, 625, 626, 627, 628, 629, 630, 631, 632, 633, 634, 635, 636, 637, 638, 639, 640, 641, 642, 643, 644, 645, 646, 647, 648, 649, 650, 651, 652, 653, 654, 655, 656, 657, 658, 659, 660, 661, 662, 663, 664, 665, 666, 667, 668, 669, 670, 671, 672, 673, 674, 675, 676, 677, 678, 679, 680, 681, 682, 683, 684, 685, 686, 687, 688, 689, 690, 691, 692, 693, 694, 695, 696, 697, 698, 699, 700, 701, 702, 703, 704, 705, 706, 707, 708, 709, 710, 711, 712, 713, 714, 715, 716, 717, 718, 719, 720, 721, 722, 723, 724, 725, 726, 727, 728, 729, 730, 731, 732, 733, 734, 735, 736, 737, 738, 739, 740, 741, 742, 743, 744, 745, 746, 747, 748, 749, 750, 751, 752, 753, 754, 755, 756, 757, 758, 759, 760, 761, 762, 763, 764, 765, 766, 767, 768, 769, 770, 771, 772, 773, 774, 775, 776, 777, 778, 779, 780, 781, 782, 783, 784, 785, 786, 787, 788, 789, 790, 791, 792, 793, 794, 795, 796, 797, 798, 799, 800, 801, 802, 803, 804, 805, 806, 807, 808, 809, 810, 811, 812, 813, 814, 815, 816, 817, 818, 819, 820, 821, 822, 823, 824, 825, 826, 827, 828, 829, 830, 831, 832, 833, 834, 835, 836, 837, 838, 839, 840, 841, 842, 843, 844, 845, 846, 847, 848, 849, 850, 851, 852, 853, 854, 855, 856, 857, 858, 859, 860, 861, 862, 863, 864, 865, 866, 867, 868, 869, 870, 871, 872, 873, 874, 875, 876, 877, 878, 879, 880, 881, 882, 883, 884, 885, 886, 887, 888, 889, 890, 891, 892, 893, 894, 895, 896, 897, 898, 899, 900, 901, 902, 903, 904, 905, 906, 907, 908, 909, 910, 911, 912, 913, 914, 915, 916, 917, 918, 919, 920, 921, 922, 923, 924, 925, 926, 927, 928, 929, 930, 931, 932, 933, 934, 935, 936, 937, 938, 939, 940, 941, 942, 943, 944, 945, 946, 947, 948, 949, 950, 951, 952, 953, 954, 955, 956, 957, 958, 959, 960, 961, 962, 963, 964, 965, 966, 967, 968, 969, 970, 971, 972, 973, 974, 975, 976, 977, 978, 979, 980, 981, 982, 983, 984, 985, 986, 987, 988, 989, 990, 991, 992, 993, 994, 995, 996, 997, 998, 999], \"y\": [0.47186307832380503, 0.4553469590285932, 0.4397554556793869, 0.4250341405053846, 0.4111318387527551, 0.3980004333990266, 0.38559468160574306, 0.37387204220356823, 0.3627925135464615, 0.3523184811114423, 0.342414574257951, 0.33304753159605915, 0.3241860744458951, 0.31580078790178495, 0.30786400904385947, 0.30034972186737785, 0.29323345852586113, 0.2864922065084183, 0.280104321394472, 0.274049444850553, 0.26830842755399137, 0.2628632567472883, 0.2576969881447651, 0.252793681929826, 0.24813834259690515, 0.2437168624069628, 0.23951596823928448, 0.2355231716354104, 0.2317267218432946, 0.22811556168133232, 0.22467928605274248, 0.22140810295098393, 0.21829279680646274, 0.21532469403379537, 0.21249563064735133, 0.20979792182075632, 0.20722433327350875, 0.20476805437489204, 0.2024226728619641, 0.20018215107461693, 0.19804080361652687, 0.19599327635630331, 0.19403452668829066, 0.1921598049773285, 0.19036463711631813, 0.1886448081297283, 0.1869963467601893, 0.18541551097910536, 0.1838987743657659, 0.18244281330277579, 0.18104449493875843, 0.17970086587223916, 0.1784091415133826, 0.1771666960828666, 0.17597105320962037, 0.17481987709145674, 0.1737109641847898, 0.17264223539166426, 0.1716117287142281, 0.17061759234858162, 0.1696580781916178, 0.1687315357360588, 0.16783640633038124, 0.1669712177817259, 0.16613457928120293, 0.1653251766322408, 0.16454176776379262, 0.1637831785113036, 0.1630482986493729, 0.1623360781610077, 0.16164552372927699, 0.16097569543802115, 0.16032570366908133, 0.15969470618425968, 0.15908190538093547, 0.1584865457109234, 0.15790791125278872, 0.15734532342842006, 0.15679813885521568, 0.1562657473257551, 0.1557475699073197, 0.1552430571540818, 0.15475168742521583, 0.15427296530258672, 0.1538064201020568, 0.15335160447280485, 0.15290809307939215, 0.15247548136162395, 0.1520533843675533, 0.1516414356552531, 0.15123928625924463, 0.1508466037177188, 0.15046307115691704, 0.15008838642925718, 0.1497222613019954, 0.14936442069340652, 0.1490146019536477, 0.14867255418763897, 0.14833803761745545, 0.1480108229818755, 0.14769069097087117, 0.1473774316929585, 0.14707084417345284, 0.1467707358817885, 0.1464769222861747, 0.14618922643396226, 0.1459074785561932, 0.14563151569489732, 0.14536118135178475, 0.14509632515706644, 0.1448368025572076, 0.1445824745204944, 0.14433320725935714, 0.14408887196846004, 0.14384934457762488, 0.1436145055187115, 0.1433842395056329, 0.1431584353267284, 0.14293698564876806, 0.1427197868319022, 0.14250673875491385, 0.14229774465016717, 0.14209271094768355, 0.14189154712780988, 0.1416941655819758, 0.14150048148106673, 0.1413104126509675, 0.14112387945485835, 0.14094080468186973, 0.14076111344172565, 0.14058473306502794, 0.14041159300885372, 0.14024162476735852, 0.14007476178709544, 0.13991093938677807, 0.1397500946812311, 0.13959216650928763, 0.13943709536540685, 0.1392848233347982, 0.13913529403185262, 0.13898845254169137, 0.1388442453646549, 0.1387026203635657, 0.13856352671360694, 0.1384269148546701, 0.13829273644603113, 0.1381609443232264, 0.13803149245700264, 0.1379043359142272, 0.13777943082064822, 0.13765673432540254, 0.1375362045671746, 0.1374178006419151, 0.1373014825720343, 0.1371872112769886, 0.13707494854518512, 0.1369646570071323, 0.1368563001097696, 0.13674984209191215, 0.13664524796075186, 0.13654248346935718, 0.13644151509511995, 0.13634231001909836, 0.1362448361062093, 0.13614906188622625, 0.13605495653553995, 0.13596248985964327, 0.13587163227630264, 0.13578235479938164, 0.1356946290232826, 0.13560842710797671, 0.13552372176459154, 0.1354404862415296, 0.13535869431109102, 0.1352783202565762, 0.13519933885984464, 0.13512172538930847, 0.1350454555883394, 0.13497050566407034, 0.1348968522765719, 0.1348244725283877, 0.13475334395441088, 0.13468344451208708, 0.13461475257192795, 0.13454724690832293, 0.13448090669063412, 0.13441571147456363, 0.1343516411937804, 0.13428867615179552, 0.13422679701407592, 0.1341659848003859, 0.13410622087734753, 0.13404748695120994, 0.13398976506082047, 0.13393303757078817, 0.13387728716483313, 0.13382249683931294, 0.13376864989692167, 0.13371572994055192, 0.13366372086731637, 0.1336126068627211, 0.13356237239498622, 0.13351300220950763, 0.13346448132345523, 0.13341679502050302, 0.13336992884568596, 0.13332386860037923, 0.13327860033739666, 0.13323411035620253, 0.1331903851982351, 0.1331474116423365, 0.1331051767002866, 0.13306366761243682, 0.1330228718434418, 0.13298277707808423, 0.13294337121719182, 0.13290464237364258, 0.13286657886845565, 0.1328291692269659, 0.13279240217507957, 0.13275626663560808, 0.13272075172467873, 0.13268584674821976, 0.13265154119851727, 0.13261782475084272, 0.1325846872601489, 0.13255211875783265, 0.13252010944856177, 0.13248864970716612, 0.13245773007558953, 0.13242734125990235, 0.13239747412737182, 0.13236811970359022, 0.1323392691696586, 0.13231091385942445, 0.13228304525677279, 0.13225565499296926, 0.1322287348440533, 0.1322022767282811, 0.13217627270361698, 0.13215071496527153, 0.1321255958432862, 0.1321009078001633, 0.13207664342853917, 0.13205279544890167, 0.13202935670734922, 0.13200632017339112, 0.13198367893778848, 0.13196142621043505, 0.1319395553182758, 0.13191805970326492, 0.13189693292035923, 0.13187616863554982, 0.13185576062392768, 0.13183570276778514, 0.1318159890547517, 0.13179661357596248, 0.1317775705242606, 0.13175885419243094, 0.13174045897146594, 0.13172237934886216, 0.13170460990694718, 0.13168714532123654, 0.13166998035881947, 0.1316531098767734, 0.13163652882060678, 0.13162023222272906, 0.13160421520094803, 0.13158847295699344, 0.13157300077506665, 0.13155779402041612, 0.1315428481379375, 0.13152815865079842, 0.1315137211590877, 0.13149953133848807, 0.13148558493897186, 0.1314718777835198, 0.13145840576686238, 0.13144516485424276, 0.1314321510802014, 0.1314193605473823, 0.13140678942535944, 0.13139443394948402, 0.13138229041975166, 0.13137035519968931, 0.13135862471526163, 0.1313470954537962, 0.13133576396292715, 0.13132462684955792, 0.13131368077884137, 0.1313029224731773, 0.13129234871122827, 0.13128195632695194, 0.1312717422086496, 0.1312617032980325, 0.13125183658930295, 0.13124213912825236, 0.1312326080113743, 0.13122324038499292, 0.13121403344440674, 0.13120498443304696, 0.1311960906416504, 0.13118734940744642, 0.1311787581133586, 0.13117031418721956, 0.13116201510099923, 0.13115385837004692, 0.1311458415523464, 0.1311379622477833, 0.1311302180974256, 0.13112260678281654, 0.13111512602527942, 0.13110777358523448, 0.13110054726152778, 0.13109344489077115, 0.13108646434669405, 0.13107960353950618, 0.13107286041527116, 0.13106623295529118, 0.13105971917550202, 0.13105331712587842, 0.13104702488984987, 0.13104084058372645, 0.13103476235613432, 0.13102878838746118, 0.13102291688931114, 0.13101714610396878, 0.13101147430387292, 0.13100589979109867, 0.1310004208968494, 0.13099503598095633, 0.13098974343138758, 0.13098454166376527, 0.13097942912089086, 0.13097440427227897, 0.1309694656136987, 0.13096461166672346, 0.130959840978288, 0.13095515212025322, 0.1309505436889787, 0.13094601430490205, 0.13094156261212606, 0.1309371872780124, 0.13093288699278283, 0.1309286604691268, 0.130924506441816, 0.13092042366732562, 0.13091641092346185, 0.13091246700899592, 0.13090859074330455, 0.13090478096601632, 0.1309010365366642, 0.13089735633434432, 0.13089373925738004, 0.13089018422299226, 0.13088669016697516, 0.13088325604337775, 0.13087988082419036, 0.13087656349903723, 0.13087330307487371, 0.13087009857568926, 0.13086694904221474, 0.13086385353163588, 0.13086081111731027, 0.13085782088849063, 0.13085488195005163, 0.13085199342222223, 0.13084915444032208, 0.13084636415450274, 0.13084362172949326, 0.13084092634435007, 0.13083827719221133, 0.13083567348005518, 0.13083311442846238, 0.1308305992713833, 0.130828127255908, 0.13082569764204124, 0.130823309702481, 0.1308209627224004, 0.1308186559992339, 0.1308163888424672, 0.13081416057343004, 0.1308119705250934, 0.1308098180418697, 0.13080770247941662, 0.1308056232044439, 0.1308035795945242, 0.13080157103790654, 0.13079959693333307, 0.13079765668985927, 0.13079574972667699, 0.1307938754729404, 0.13079203336759543, 0.13079022285921155, 0.1307884434058168, 0.13078669447473557, 0.13078497554242893, 0.13078328609433842, 0.13078162562473128, 0.13077999363654969, 0.13077838964126165, 0.13077681315871478, 0.13077526371699275, 0.13077374085227367, 0.1307722441086916, 0.13077077303819992, 0.13076932720043719, 0.13076790616259545, 0.1307665094992903, 0.13076513679243418, 0.13076378763111055, 0.13076246161145144, 0.13076115833651605, 0.13075987741617245, 0.1307586184669803, 0.1307573811120764, 0.1307561649810618, 0.13075496970989062, 0.1307537949407617, 0.1307526403220109, 0.13075150550800613, 0.13075039015904377, 0.1307492939412471, 0.13074821652646615, 0.13074715759217967, 0.13074611682139858, 0.13074509390257086, 0.13074408852948852, 0.1307431004011958, 0.13074212922189923, 0.13074117470087884, 0.1307402365524014, 0.13073931449563475, 0.1307384082545636, 0.13073751755790725, 0.130736642139038, 0.1307357817359017, 0.130734936090939, 0.13073410495100837, 0.1307332880673105, 0.13073248519531336, 0.13073169609467952, 0.13073092052919388, 0.13073015826669301, 0.13072940907899583, 0.13072867274183503, 0.13072794903479013, 0.13072723774122152, 0.13072653864820535, 0.13072585154647015, 0.13072517623033392, 0.13072451249764272, 0.13072386014970994, 0.1307232189912571, 0.1307225888303552, 0.13072196947836742, 0.13072136074989238, 0.13072076246270894, 0.13072017443772166, 0.13071959649890674, 0.1307190284732599, 0.13071847019074428, 0.13071792148423958, 0.13071738218949205, 0.13071685214506532, 0.13071633119229215, 0.13071581917522676, 0.13071531594059824, 0.13071482133776485, 0.1307143352186686, 0.13071385743779101, 0.13071338785210976, 0.13071292632105586, 0.13071247270647118, 0.1307120268725675, 0.13071158868588575, 0.1307111580152559, 0.13071073473175804, 0.13071031870868333, 0.13070990982149658, 0.13070950794779845, 0.1307091129672893, 0.13070872476173281, 0.13070834321492067, 0.13070796821263803, 0.130707599642629, 0.1307072373945632, 0.13070688136000266, 0.13070653143236954, 0.13070618750691393, 0.13070584948068278, 0.13070551725248877, 0.1307051907228805, 0.13070486979411225, 0.1307045543701148, 0.13070424435646694, 0.13070393966036697, 0.13070364019060496, 0.13070334585753557, 0.13070305657305095, 0.13070277225055468, 0.13070249280493557, 0.13070221815254243, 0.1307019482111588, 0.1307016828999785, 0.13070142213958144, 0.13070116585190972, 0.1307009139602443, 0.13070066638918224, 0.13070042306461377, 0.13070018391370042, 0.130699948864853, 0.1306997178477104, 0.13069949079311813, 0.13069926763310818, 0.13069904830087822, 0.13069883273077176, 0.1306986208582586, 0.13069841261991508, 0.13069820795340592, 0.1306980067974646, 0.13069780909187576, 0.13069761477745667, 0.13069742379604002, 0.13069723609045603, 0.1306970516045155, 0.1306968702829931, 0.13069669207161086, 0.13069651691702158, 0.13069634476679334, 0.1306961755693934, 0.13069600927417305, 0.13069584583135224, 0.13069568519200483, 0.13069552730804398, 0.13069537213220747, 0.1306952196180439, 0.1306950697198986, 0.13069492239289995, 0.1306947775929461, 0.1306946352766916, 0.1306944954015344, 0.13069435792560335, 0.1306942228077454, 0.1306940900075134, 0.13069395948515394, 0.13069383120159558, 0.13069370511843703, 0.13069358119793564, 0.13069345940299612, 0.13069333969715952, 0.13069322204459224, 0.1306931064100754, 0.13069299275899401, 0.13069288105732704, 0.13069277127163684, 0.13069266336905944, 0.13069255731729448, 0.13069245308459565, 0.13069235063976128, 0.13069224995212475, 0.1306921509915455, 0.13069205372839987, 0.1306919581335726, 0.13069186417844753, 0.13069177183489944, 0.13069168107528564, 0.13069159187243745, 0.1306915041996523, 0.13069141803068562, 0.13069133333974275, 0.130691250101472, 0.1306911682909561, 0.13069108788370523, 0.13069100885564977, 0.130690931183133, 0.13069085484290377, 0.13069077981210983, 0.13069070606829095, 0.13069063358937216, 0.1306905623536571, 0.13069049233982158, 0.13069042352690707, 0.13069035589431466, 0.1306902894217988, 0.13069022408946113, 0.13069015987774443, 0.13069009676742735, 0.1306900347396178, 0.13068997377574804, 0.13068991385756865, 0.13068985496714333, 0.1306897970868434, 0.13068974019934254, 0.1306896842876117, 0.13068962933491374, 0.13068957532479886, 0.13068952224109925, 0.13068947006792436, 0.1306894187896564, 0.13068936839094536, 0.13068931885670448, 0.1306892701721059, 0.13068922232257602, 0.1306891752937911, 0.13068912907167335, 0.13068908364238624, 0.13068903899233061, 0.13068899510814072, 0.13068895197667985, 0.13068890958503673, 0.1306888679205216, 0.13068882697066225, 0.13068878672320053, 0.13068874716608836, 0.1306887082874846, 0.1306886700757508, 0.13068863251944868, 0.13068859560733567, 0.13068855932836235, 0.13068852367166858, 0.13068848862658078, 0.13068845418260816, 0.1306884203294401, 0.13068838705694277, 0.1306883543551561, 0.13068832221429091, 0.13068829062472592, 0.13068825957700494, 0.1306882290618338, 0.13068819907007798, 0.13068816959275956, 0.13068814062105447, 0.13068811214629017, 0.13068808415994287, 0.13068805665363484, 0.13068802961913223, 0.13068800304834227, 0.13068797693331116, 0.13068795126622135, 0.13068792603938947, 0.13068790124526405, 0.13068787687642294, 0.13068785292557145, 0.13068782938553988, 0.13068780624928164, 0.130687783509871, 0.130687761160501, 0.1306877391944813, 0.13068771760523645, 0.1306876963863039, 0.13068767553133176, 0.13068765503407703, 0.13068763488840413, 0.13068761508828233, 0.13068759562778462, 0.13068757650108553, 0.13068755770245957, 0.13068753922627935, 0.13068752106701417, 0.13068750321922804, 0.13068748567757824, 0.13068746843681384, 0.13068745149177383, 0.13068743483738565, 0.13068741846866402, 0.1306874023807089, 0.1306873865687045, 0.13068737102791736, 0.13068735575369558, 0.13068734074146682, 0.13068732598673716, 0.13068731148508986, 0.13068729723218392, 0.13068728322375261, 0.13068726945560277, 0.13068725592361286, 0.13068724262373205, 0.13068722955197912, 0.13068721670444106, 0.13068720407727202, 0.13068719166669204, 0.13068717946898614, 0.13068716748050285, 0.1306871556976536, 0.130687144116911, 0.1306871327348087, 0.13068712154793924, 0.130687110552954, 0.1306870997465616, 0.1306870891255272, 0.1306870786866714, 0.13068706842686945, 0.13068705834304994, 0.13068704843219445, 0.13068703869133616, 0.1306870291175591, 0.13068701970799754, 0.13068701045983463, 0.13068700137030193, 0.1306869924366786, 0.13068698365629047, 0.1306869750265089, 0.1306869665447508, 0.13068695820847714, 0.1306869500151924, 0.13068694196244407, 0.13068693404782145, 0.13068692626895542, 0.13068691862351733, 0.13068691110921862, 0.1306869037238098, 0.13068689646508014, 0.13068688933085676, 0.13068688231900408, 0.13068687542742305, 0.1306868686540507, 0.1306868619968595, 0.1306868554538566, 0.1306868490230833, 0.13068684270261474, 0.1306868364905588, 0.1306868303850559, 0.13068682438427842, 0.13068681848643, 0.1306868126897452, 0.13068680699248872, 0.1306868013929551, 0.13068679588946824, 0.13068679048038065, 0.1306867851640731, 0.13068677993895414, 0.1306867748034597, 0.1306867697560525, 0.1306867647952216, 0.13068675991948195, 0.13068675512737396, 0.13068675041746333, 0.13068674578833994, 0.1306867412386182, 0.13068673676693612, 0.1306867323719551, 0.13068672805235956, 0.13068672380685642, 0.13068671963417486, 0.13068671553306568, 0.13068671150230135, 0.13068670754067513, 0.13068670364700122, 0.1306866998201141, 0.13068669605886807, 0.1306866923621373, 0.1306866887288152, 0.13068668515781404, 0.130686681648065, 0.13068667819851737, 0.13068667480813845, 0.1306866714759135, 0.13068666820084496, 0.1306866649819524, 0.13068666181827227, 0.13068665870885765, 0.1306866556527776, 0.13068665264911736, 0.13068664969697777, 0.13068664679547515, 0.13068664394374088, 0.13068664114092135, 0.13068663838617753, 0.1306866356786848, 0.13068663301763273, 0.13068663040222459, 0.13068662783167762, 0.13068662530522224, 0.13068662282210228, 0.1306866203815743, 0.13068661798290776, 0.1306866156253847, 0.13068661330829928, 0.130686611030958, 0.1306866087926791, 0.13068660659279255, 0.1306866044306398, 0.1306866023055737, 0.13068660021695805, 0.13068659816416764, 0.13068659614658792, 0.13068659416361508, 0.1306865922146554, 0.13068659029912547, 0.13068658841645187, 0.1306865865660711, 0.13068658474742928, 0.1306865829599819, 0.1306865812031939, 0.13068657947653944, 0.13068657777950163, 0.1306865761115725, 0.1306865744722527, 0.13068657286105156, 0.13068657127748678, 0.13068656972108425, 0.1306865681913781, 0.13068656668791045, 0.13068656521023123, 0.13068656375789808, 0.13068656233047626, 0.13068656092753844, 0.1306865595486647, 0.13068655819344224, 0.13068655686146546, 0.13068655555233558, 0.1306865542656607, 0.13068655300105558, 0.13068655175814187, 0.13068655053654735, 0.13068654933590637, 0.13068654815585956, 0.13068654699605364, 0.13068654585614145, 0.1306865447357817, 0.13068654363463916, 0.13068654255238396, 0.13068654148869238, 0.13068654044324585, 0.13068653941573155, 0.13068653840584182, 0.13068653741327424, 0.1306865364377319, 0.13068653547892262, 0.13068653453655943, 0.13068653361036026, 0.13068653270004785, 0.13068653180534967, 0.1306865309259979, 0.13068653006172937, 0.13068652921228527, 0.1306865283774114, 0.13068652755685778, 0.13068652675037884, 0.13068652595773309, 0.13068652517868332, 0.13068652441299627, 0.13068652366044278, 0.13068652292079758, 0.1306865221938392, 0.1306865214793501, 0.13068652077711632, 0.13068652008692777, 0.13068651940857767, 0.1306865187418631, 0.13068651808658446, 0.1306865174425455, 0.13068651680955357, 0.13068651618741908, 0.13068651557595584, 0.1306865149749808, 0.13068651438431403, 0.1306865138037788, 0.13068651323320124, 0.13068651267241055, 0.13068651212123894, 0.13068651157952138, 0.13068651104709567, 0.13068651052380245, 0.1306865100094851, 0.13068650950398966, 0.13068650900716478, 0.13068650851886174, 0.13068650803893442, 0.13068650756723904, 0.13068650710363452, 0.130686506647982, 0.13068650620014516, 0.13068650575998986, 0.1306865053273844, 0.13068650490219924, 0.13068650448430716, 0.130686504073583, 0.13068650366990386, 0.13068650327314885, 0.13068650288319927, 0.1306865024999383, 0.13068650212325128, 0.13068650175302546, 0.1306865013891499, 0.13068650103151583, 0.13068650068001614, 0.13068650033454554, 0.13068649999500068, 0.13068649966127996, 0.13068649933328336, 0.1306864990109128, 0.1306864986940717, 0.13068649838266527, 0.13068649807660032, 0.13068649777578512, 0.13068649748012978, 0.13068649718954567, 0.1306864969039458, 0.13068649662324475, 0.13068649634735843, 0.1306864960762043, 0.1306864958097012, 0.1306864955477693, 0.13068649529033025, 0.13068649503730692, 0.13068649478862363, 0.1306864945442059, 0.13068649430398058, 0.13068649406787575, 0.13068649383582068, 0.13068649360774606, 0.13068649338358349, 0.13068649316326592, 0.1306864929467273, 0.13068649273390293, 0.13068649252472903, 0.13068649231914306, 0.1306864921170834, 0.1306864919184896, 0.13068649172330218, 0.1306864915314628, 0.13068649134291388, 0.13068649115759912, 0.130686490975463, 0.13068649079645098, 0.13068649062050947, 0.13068649044758587, 0.13068649027762835, 0.130686490110586, 0.1306864899464089, 0.13068648978504788, 0.1306864896264546, 0.13068648947058165, 0.13068648931738222, 0.13068648916681072, 0.13068648901882182, 0.1306864888733713, 0.13068648873041572, 0.13068648858991214, 0.13068648845181854, 0.13068648831609367, 0.13068648818269685, 0.13068648805158806, 0.13068648792272822, 0.13068648779607858, 0.1306864876716014, 0.1306864875492593, 0.13068648742901562, 0.1306864873108345, 0.13068648719468046, 0.1306864870805188, 0.13068648696831534, 0.1306864868580364, 0.13068648674964908, 0.13068648664312085, 0.13068648653841988, 0.1306864864355148, 0.13068648633437482, 0.13068648623496967, 0.13068648613726958, 0.13068648604124525, 0.130686485946868, 0.13068648585410958, 0.13068648576294223, 0.13068648567333863, 0.13068648558527196, 0.1306864854987159, 0.13068648541364444, 0.13068648533003221, 0.13068648524785417, 0.13068648516708564, 0.1306864850877026, 0.13068648500968114, 0.1306864849329979, 0.13068648485763007, 0.13068648478355488, 0.13068648471075042, 0.1306864846391946, 0.13068648456886622, 0.13068648449974415, 0.13068648443180775, 0.1306864843650366, 0.13068648429941077, 0.13068648423491055, 0.13068648417151668, 0.13068648410921022, 0.13068648404797248, 0.1306864839877851, 0.1306864839286301, 0.13068648387048976, 0.1306864838133467, 0.13068648375718378, 0.13068648370198419, 0.13068648364773142, 0.13068648359440926, 0.13068648354200169, 0.13068648349049303, 0.1306864834398679]}],\n",
       "                        {\"height\": 500, \"template\": {\"data\": {\"bar\": [{\"error_x\": {\"color\": \"#2a3f5f\"}, \"error_y\": {\"color\": \"#2a3f5f\"}, \"marker\": {\"line\": {\"color\": \"#E5ECF6\", \"width\": 0.5}}, \"type\": \"bar\"}], \"barpolar\": [{\"marker\": {\"line\": {\"color\": \"#E5ECF6\", \"width\": 0.5}}, \"type\": \"barpolar\"}], \"carpet\": [{\"aaxis\": {\"endlinecolor\": \"#2a3f5f\", \"gridcolor\": \"white\", \"linecolor\": \"white\", \"minorgridcolor\": \"white\", \"startlinecolor\": \"#2a3f5f\"}, \"baxis\": {\"endlinecolor\": \"#2a3f5f\", \"gridcolor\": \"white\", \"linecolor\": \"white\", \"minorgridcolor\": \"white\", \"startlinecolor\": \"#2a3f5f\"}, \"type\": \"carpet\"}], \"choropleth\": [{\"colorbar\": {\"outlinewidth\": 0, \"ticks\": \"\"}, \"type\": \"choropleth\"}], \"contour\": [{\"colorbar\": {\"outlinewidth\": 0, \"ticks\": \"\"}, \"colorscale\": [[0.0, \"#0d0887\"], [0.1111111111111111, \"#46039f\"], [0.2222222222222222, \"#7201a8\"], [0.3333333333333333, \"#9c179e\"], [0.4444444444444444, \"#bd3786\"], [0.5555555555555556, \"#d8576b\"], [0.6666666666666666, \"#ed7953\"], [0.7777777777777778, \"#fb9f3a\"], [0.8888888888888888, \"#fdca26\"], [1.0, \"#f0f921\"]], \"type\": \"contour\"}], \"contourcarpet\": [{\"colorbar\": {\"outlinewidth\": 0, \"ticks\": \"\"}, \"type\": \"contourcarpet\"}], \"heatmap\": [{\"colorbar\": {\"outlinewidth\": 0, \"ticks\": \"\"}, \"colorscale\": [[0.0, \"#0d0887\"], [0.1111111111111111, \"#46039f\"], [0.2222222222222222, \"#7201a8\"], [0.3333333333333333, \"#9c179e\"], [0.4444444444444444, \"#bd3786\"], [0.5555555555555556, \"#d8576b\"], [0.6666666666666666, \"#ed7953\"], [0.7777777777777778, \"#fb9f3a\"], [0.8888888888888888, \"#fdca26\"], [1.0, \"#f0f921\"]], \"type\": \"heatmap\"}], \"heatmapgl\": [{\"colorbar\": {\"outlinewidth\": 0, \"ticks\": \"\"}, \"colorscale\": [[0.0, \"#0d0887\"], [0.1111111111111111, \"#46039f\"], [0.2222222222222222, \"#7201a8\"], [0.3333333333333333, \"#9c179e\"], [0.4444444444444444, \"#bd3786\"], [0.5555555555555556, \"#d8576b\"], [0.6666666666666666, \"#ed7953\"], [0.7777777777777778, \"#fb9f3a\"], [0.8888888888888888, \"#fdca26\"], [1.0, \"#f0f921\"]], \"type\": \"heatmapgl\"}], \"histogram\": [{\"marker\": {\"colorbar\": {\"outlinewidth\": 0, \"ticks\": \"\"}}, \"type\": \"histogram\"}], \"histogram2d\": [{\"colorbar\": {\"outlinewidth\": 0, \"ticks\": \"\"}, \"colorscale\": [[0.0, \"#0d0887\"], [0.1111111111111111, \"#46039f\"], [0.2222222222222222, \"#7201a8\"], [0.3333333333333333, \"#9c179e\"], [0.4444444444444444, \"#bd3786\"], [0.5555555555555556, \"#d8576b\"], [0.6666666666666666, \"#ed7953\"], [0.7777777777777778, \"#fb9f3a\"], [0.8888888888888888, \"#fdca26\"], [1.0, \"#f0f921\"]], \"type\": \"histogram2d\"}], \"histogram2dcontour\": [{\"colorbar\": {\"outlinewidth\": 0, \"ticks\": \"\"}, \"colorscale\": [[0.0, \"#0d0887\"], [0.1111111111111111, \"#46039f\"], [0.2222222222222222, \"#7201a8\"], [0.3333333333333333, \"#9c179e\"], [0.4444444444444444, \"#bd3786\"], [0.5555555555555556, \"#d8576b\"], [0.6666666666666666, \"#ed7953\"], [0.7777777777777778, \"#fb9f3a\"], [0.8888888888888888, \"#fdca26\"], [1.0, \"#f0f921\"]], \"type\": \"histogram2dcontour\"}], \"mesh3d\": [{\"colorbar\": {\"outlinewidth\": 0, \"ticks\": \"\"}, \"type\": \"mesh3d\"}], \"parcoords\": [{\"line\": {\"colorbar\": {\"outlinewidth\": 0, \"ticks\": \"\"}}, \"type\": \"parcoords\"}], \"pie\": [{\"automargin\": true, \"type\": \"pie\"}], \"scatter\": [{\"marker\": {\"colorbar\": {\"outlinewidth\": 0, \"ticks\": \"\"}}, \"type\": \"scatter\"}], \"scatter3d\": [{\"line\": {\"colorbar\": {\"outlinewidth\": 0, \"ticks\": \"\"}}, \"marker\": {\"colorbar\": {\"outlinewidth\": 0, \"ticks\": \"\"}}, \"type\": \"scatter3d\"}], \"scattercarpet\": [{\"marker\": {\"colorbar\": {\"outlinewidth\": 0, \"ticks\": \"\"}}, \"type\": \"scattercarpet\"}], \"scattergeo\": [{\"marker\": {\"colorbar\": {\"outlinewidth\": 0, \"ticks\": \"\"}}, \"type\": \"scattergeo\"}], \"scattergl\": [{\"marker\": {\"colorbar\": {\"outlinewidth\": 0, \"ticks\": \"\"}}, \"type\": \"scattergl\"}], \"scattermapbox\": [{\"marker\": {\"colorbar\": {\"outlinewidth\": 0, \"ticks\": \"\"}}, \"type\": \"scattermapbox\"}], \"scatterpolar\": [{\"marker\": {\"colorbar\": {\"outlinewidth\": 0, \"ticks\": \"\"}}, \"type\": \"scatterpolar\"}], \"scatterpolargl\": [{\"marker\": {\"colorbar\": {\"outlinewidth\": 0, \"ticks\": \"\"}}, \"type\": \"scatterpolargl\"}], \"scatterternary\": [{\"marker\": {\"colorbar\": {\"outlinewidth\": 0, \"ticks\": \"\"}}, \"type\": \"scatterternary\"}], \"surface\": [{\"colorbar\": {\"outlinewidth\": 0, \"ticks\": \"\"}, \"colorscale\": [[0.0, \"#0d0887\"], [0.1111111111111111, \"#46039f\"], [0.2222222222222222, \"#7201a8\"], [0.3333333333333333, \"#9c179e\"], [0.4444444444444444, \"#bd3786\"], [0.5555555555555556, \"#d8576b\"], [0.6666666666666666, \"#ed7953\"], [0.7777777777777778, \"#fb9f3a\"], [0.8888888888888888, \"#fdca26\"], [1.0, \"#f0f921\"]], \"type\": \"surface\"}], \"table\": [{\"cells\": {\"fill\": {\"color\": \"#EBF0F8\"}, \"line\": {\"color\": \"white\"}}, \"header\": {\"fill\": {\"color\": \"#C8D4E3\"}, \"line\": {\"color\": \"white\"}}, \"type\": \"table\"}]}, \"layout\": {\"annotationdefaults\": {\"arrowcolor\": \"#2a3f5f\", \"arrowhead\": 0, \"arrowwidth\": 1}, \"coloraxis\": {\"colorbar\": {\"outlinewidth\": 0, \"ticks\": \"\"}}, \"colorscale\": {\"diverging\": [[0, \"#8e0152\"], [0.1, \"#c51b7d\"], [0.2, \"#de77ae\"], [0.3, \"#f1b6da\"], [0.4, \"#fde0ef\"], [0.5, \"#f7f7f7\"], [0.6, \"#e6f5d0\"], [0.7, \"#b8e186\"], [0.8, \"#7fbc41\"], [0.9, \"#4d9221\"], [1, \"#276419\"]], \"sequential\": [[0.0, \"#0d0887\"], [0.1111111111111111, \"#46039f\"], [0.2222222222222222, \"#7201a8\"], [0.3333333333333333, \"#9c179e\"], [0.4444444444444444, \"#bd3786\"], [0.5555555555555556, \"#d8576b\"], [0.6666666666666666, \"#ed7953\"], [0.7777777777777778, \"#fb9f3a\"], [0.8888888888888888, \"#fdca26\"], [1.0, \"#f0f921\"]], \"sequentialminus\": [[0.0, \"#0d0887\"], [0.1111111111111111, \"#46039f\"], [0.2222222222222222, \"#7201a8\"], [0.3333333333333333, \"#9c179e\"], [0.4444444444444444, \"#bd3786\"], [0.5555555555555556, \"#d8576b\"], [0.6666666666666666, \"#ed7953\"], [0.7777777777777778, \"#fb9f3a\"], [0.8888888888888888, \"#fdca26\"], [1.0, \"#f0f921\"]]}, \"colorway\": [\"#636efa\", \"#EF553B\", \"#00cc96\", \"#ab63fa\", \"#FFA15A\", \"#19d3f3\", \"#FF6692\", \"#B6E880\", \"#FF97FF\", \"#FECB52\"], \"font\": {\"color\": \"#2a3f5f\"}, \"geo\": {\"bgcolor\": \"white\", \"lakecolor\": \"white\", \"landcolor\": \"#E5ECF6\", \"showlakes\": true, \"showland\": true, \"subunitcolor\": \"white\"}, \"hoverlabel\": {\"align\": \"left\"}, \"hovermode\": \"closest\", \"mapbox\": {\"style\": \"light\"}, \"paper_bgcolor\": \"white\", \"plot_bgcolor\": \"#E5ECF6\", \"polar\": {\"angularaxis\": {\"gridcolor\": \"white\", \"linecolor\": \"white\", \"ticks\": \"\"}, \"bgcolor\": \"#E5ECF6\", \"radialaxis\": {\"gridcolor\": \"white\", \"linecolor\": \"white\", \"ticks\": \"\"}}, \"scene\": {\"xaxis\": {\"backgroundcolor\": \"#E5ECF6\", \"gridcolor\": \"white\", \"gridwidth\": 2, \"linecolor\": \"white\", \"showbackground\": true, \"ticks\": \"\", \"zerolinecolor\": \"white\"}, \"yaxis\": {\"backgroundcolor\": \"#E5ECF6\", \"gridcolor\": \"white\", \"gridwidth\": 2, \"linecolor\": \"white\", \"showbackground\": true, \"ticks\": \"\", \"zerolinecolor\": \"white\"}, \"zaxis\": {\"backgroundcolor\": \"#E5ECF6\", \"gridcolor\": \"white\", \"gridwidth\": 2, \"linecolor\": \"white\", \"showbackground\": true, \"ticks\": \"\", \"zerolinecolor\": \"white\"}}, \"shapedefaults\": {\"line\": {\"color\": \"#2a3f5f\"}}, \"ternary\": {\"aaxis\": {\"gridcolor\": \"white\", \"linecolor\": \"white\", \"ticks\": \"\"}, \"baxis\": {\"gridcolor\": \"white\", \"linecolor\": \"white\", \"ticks\": \"\"}, \"bgcolor\": \"#E5ECF6\", \"caxis\": {\"gridcolor\": \"white\", \"linecolor\": \"white\", \"ticks\": \"\"}}, \"title\": {\"x\": 0.05}, \"xaxis\": {\"automargin\": true, \"gridcolor\": \"white\", \"linecolor\": \"white\", \"ticks\": \"\", \"title\": {\"standoff\": 15}, \"zerolinecolor\": \"white\", \"zerolinewidth\": 2}, \"yaxis\": {\"automargin\": true, \"gridcolor\": \"white\", \"linecolor\": \"white\", \"ticks\": \"\", \"title\": {\"standoff\": 15}, \"zerolinecolor\": \"white\", \"zerolinewidth\": 2}}}, \"title\": {\"text\": \"\\u4ee3\\u4ef7\\u6570\\u636e\\u53ef\\u89c6\\u5316\"}, \"width\": 500, \"xaxis\": {\"title\": {\"text\": \"\\u8fed\\u4ee3\\u6b21\\u6570\"}}, \"yaxis\": {\"title\": {\"text\": \"\\u4ee3\\u4ef7\\u51fd\\u6570\"}}},\n",
       "                        {\"showLink\": true, \"linkText\": \"Export to plot.ly\", \"plotlyServerURL\": \"https://plot.ly\", \"responsive\": true}\n",
       "                    ).then(function(){\n",
       "                            \n",
       "var gd = document.getElementById('35ab9beb-6c20-4a84-b847-e3ed734230e5');\n",
       "var x = new MutationObserver(function (mutations, observer) {{\n",
       "        var display = window.getComputedStyle(gd).display;\n",
       "        if (!display || display === 'none') {{\n",
       "            console.log([gd, 'removed!']);\n",
       "            Plotly.purge(gd);\n",
       "            observer.disconnect();\n",
       "        }}\n",
       "}});\n",
       "\n",
       "// Listen for the removal of the full notebook cells\n",
       "var notebookContainer = gd.closest('#notebook-container');\n",
       "if (notebookContainer) {{\n",
       "    x.observe(notebookContainer, {childList: true});\n",
       "}}\n",
       "\n",
       "// Listen for the clearing of the current output cell\n",
       "var outputEl = gd.closest('.output');\n",
       "if (outputEl) {{\n",
       "    x.observe(outputEl, {childList: true});\n",
       "}}\n",
       "\n",
       "                        })\n",
       "                };\n",
       "                });\n",
       "            </script>\n",
       "        </div>"
      ]
     },
     "metadata": {},
     "output_type": "display_data"
    }
   ],
   "source": [
    "# 代价数据可视化\n",
    "cost=pd.DataFrame(gradientDescent(X2, y2, theta2, alpha2, iters2)[1])\n",
    "cost.iplot(mode='lines',\n",
    "           layout=dict(height=500,width=500,xaxis=dict(title='迭代次数'),\n",
    "                       yaxis=dict(title='代价函数'),title='代价数据可视化'))"
   ]
  },
  {
   "cell_type": "markdown",
   "metadata": {},
   "source": [
    "## 4）关于学习率（learning rate）"
   ]
  },
  {
   "cell_type": "code",
   "execution_count": 352,
   "metadata": {},
   "outputs": [],
   "source": [
    "iters3=200\n",
    "base=np.logspace(-5,-1,num=10,base=10)\n",
    "\n",
    "cost=pd.DataFrame(np.zeros((iters3,10)))\n",
    "\n",
    "for i in range(10):\n",
    "    for alpha3 in base:\n",
    "        cost[i] = gradientDescent(X2, y2, theta2, alpha3, iters3)[1].T\n",
    "        cost.rename(columns={i:alpha3},inplace=True)\n",
    "        i=i+1\n",
    "    if i==10:\n",
    "        break"
   ]
  },
  {
   "cell_type": "code",
   "execution_count": 353,
   "metadata": {},
   "outputs": [
    {
     "data": {
      "application/vnd.plotly.v1+json": {
       "config": {
        "linkText": "Export to plot.ly",
        "plotlyServerURL": "https://plot.ly",
        "showLink": false
       },
       "data": [
        {
         "mode": "lines",
         "name": "1e-05",
         "type": "scatter",
         "y": [
          0.48935282630680793,
          0.4893439507390966,
          0.48933507542451843,
          0.48932620036306596,
          0.48931732555473134,
          0.489308450999507,
          0.4892995766973856,
          0.48929070264835933,
          0.4892818288524208,
          0.4892729553095623,
          0.4892640820197763,
          0.48925520898305525,
          0.48924633619939156,
          0.4892374636687777,
          0.48922859139120606,
          0.4892197193666691,
          0.48921084759515915,
          0.4892019760766687,
          0.48919310481119027,
          0.48918423379871606,
          0.4891753630392387,
          0.4891664925327505,
          0.4891576222792442,
          0.4891487522787117,
          0.4891398825311458,
          0.48913101303653866,
          0.489122143794883,
          0.4891132748061713,
          0.48910440607039557,
          0.48909553758754876,
          0.48908666935762274,
          0.4890778013806104,
          0.489068933656504,
          0.48906006618529596,
          0.4890511989669786,
          0.48904233200154473,
          0.48903346528898634,
          0.4890245988292963,
          0.48901573262246645,
          0.4890068666684897,
          0.48899800096735857,
          0.4889891355190649,
          0.48898027032360164,
          0.4889714053809613,
          0.48896254069113587,
          0.48895367625411806,
          0.48894481206990015,
          0.48893594813847496,
          0.48892708445983457,
          0.48891822103397137,
          0.48890935786087797,
          0.48890049494054677,
          0.48889163227297006,
          0.4888827698581406,
          0.48887390769605044,
          0.4888650457866924,
          0.4888561841300586,
          0.4888473227261416,
          0.48883846157493405,
          0.4888296006764278,
          0.4888207400306158,
          0.48881187963749045,
          0.4888030194970441,
          0.48879415960926914,
          0.4887852999741579,
          0.4887764405917032,
          0.488767581461897,
          0.4887587225847322,
          0.48874986396020087,
          0.48874100558829586,
          0.4887321474690091,
          0.4887232896023333,
          0.4887144319882609,
          0.4887055746267844,
          0.4886967175178961,
          0.48868786066158854,
          0.4886790040578542,
          0.4886701477066853,
          0.4886612916080745,
          0.4886524357620141,
          0.4886435801684966,
          0.48863472482751463,
          0.48862586973906036,
          0.48861701490312626,
          0.48860816031970494,
          0.4885993059887887,
          0.4885904519103701,
          0.48858159808444146,
          0.4885727445109953,
          0.488563891190024,
          0.4885550381215201,
          0.4885461853054761,
          0.48853733274188427,
          0.48852848043073693,
          0.4885196283720269,
          0.48851077656574643,
          0.48850192501188794,
          0.488493073710444,
          0.48848422266140684,
          0.488475371864769,
          0.4884665213205232,
          0.48845767102866156,
          0.4884488209891765,
          0.4884399712020607,
          0.4884311216673065,
          0.48842227238490643,
          0.48841342335485255,
          0.488404574577138,
          0.4883957260517545,
          0.4883868777786952,
          0.4883780297579518,
          0.48836918198951734,
          0.48836033447338406,
          0.48835148720954447,
          0.48834264019799095,
          0.4883337934387158,
          0.48832494693171175,
          0.48831610067697123,
          0.4883072546744866,
          0.48829840892424997,
          0.48828956342625446,
          0.4882807181804922,
          0.48827187318695553,
          0.48826302844563707,
          0.48825418395652903,
          0.4882453397196243,
          0.48823649573491484,
          0.48822765200239343,
          0.4882188085220526,
          0.48820996529388444,
          0.4882011223178817,
          0.48819227959403666,
          0.4881834371223419,
          0.4881745949027898,
          0.48816575293537273,
          0.4881569112200833,
          0.48814806975691405,
          0.4881392285458573,
          0.4881303875869055,
          0.4881215468800509,
          0.4881127064252862,
          0.4881038662226041,
          0.48809502627199647,
          0.4880861865734563,
          0.4880773471269757,
          0.48806850793254736,
          0.4880596689901636,
          0.4880508302998169,
          0.48804199186149966,
          0.4880331536752044,
          0.48802431574092364,
          0.4880154780586497,
          0.48800664062837523,
          0.4879978034500924,
          0.487988966523794,
          0.4879801298494725,
          0.48797129342711987,
          0.48796245725672893,
          0.4879536213382923,
          0.4879447856718021,
          0.48793595025725095,
          0.48792711509463144,
          0.48791828018393557,
          0.4879094455251565,
          0.48790061111828625,
          0.4878917769633172,
          0.487882943060242,
          0.487874109409053,
          0.4878652760097428,
          0.48785644286230373,
          0.4878476099667284,
          0.4878387773230091,
          0.4878299449311384,
          0.4878211127911088,
          0.4878122809029129,
          0.4878034492665426,
          0.48779461788199086,
          0.48778578674925,
          0.4877769558683127,
          0.487768125239171,
          0.4877592948618178,
          0.4877504647362453,
          0.48774163486244587,
          0.4877328052404122,
          0.487723975870137,
          0.48771514675161204,
          0.48770631788483026,
          0.48769748926978396,
          0.48768866090646584,
          0.48767983279486815,
          0.4876710049349835,
          0.4876621773268042,
          0.4876533499703229,
          0.4876445228655318,
          0.48763569601242357,
          0.48762686941099065,
          0.4876180430612255,
          0.48760921696312065,
          0.4876003911166684,
          0.48759156552186156
         ]
        },
        {
         "mode": "lines",
         "name": "2.782559402207126e-05",
         "type": "scatter",
         "y": [
          0.4893370049427999,
          0.4893123097178643,
          0.4892876164526896,
          0.4892629251471124,
          0.48923823580096987,
          0.48921354841409875,
          0.4891888629863357,
          0.4891641795175178,
          0.48913949800748185,
          0.48911481845606464,
          0.48909014086310326,
          0.48906546522843464,
          0.4890407915518956,
          0.48901611983332294,
          0.48899145007255385,
          0.48896678226942514,
          0.488942116423774,
          0.48891745253543745,
          0.4888927906042522,
          0.4888681306300555,
          0.4888434726126844,
          0.4888188165519757,
          0.4887941624477668,
          0.48876951029989485,
          0.48874486010819645,
          0.4887202118725091,
          0.4886955655926698,
          0.48867092126851575,
          0.48864627889988405,
          0.4886216384866119,
          0.4885970000285365,
          0.4885723635254949,
          0.48854772897732457,
          0.4885230963838625,
          0.48849846574494593,
          0.48847383706041225,
          0.48844921033009864,
          0.4884245855538424,
          0.4883999627314809,
          0.48837534186285103,
          0.48835072294779075,
          0.48832610598613696,
          0.4883014909777272,
          0.48827687792239854,
          0.4882522668199887,
          0.48822765767033477,
          0.4882030504732746,
          0.488178445228645,
          0.48815384193628386,
          0.48812924059602825,
          0.4881046412077161,
          0.48808004377118425,
          0.48805544828627095,
          0.48803085475281305,
          0.4880062631706482,
          0.4879816735396142,
          0.4879570858595484,
          0.4879325001302883,
          0.4879079163516714,
          0.48788333452353555,
          0.4878587546457182,
          0.4878341767180568,
          0.48780960074038926,
          0.487785026712553,
          0.4877604546343857,
          0.4877358845057249,
          0.48771131632640874,
          0.4876867500962744,
          0.48766218581515985,
          0.48763762348290257,
          0.48761306309934077,
          0.4875885046643115,
          0.4875639481776532,
          0.487539393639203,
          0.4875148410487992,
          0.4874902904062793,
          0.48746574171148127,
          0.4874411949642429,
          0.4874166501644021,
          0.48739210731179644,
          0.4873675664062641,
          0.4873430274476427,
          0.4873184904357703,
          0.4872939553704849,
          0.4872694222516243,
          0.4872448910790261,
          0.48722036185252876,
          0.48719583457197024,
          0.4871713092371881,
          0.48714678584802057,
          0.48712226440430584,
          0.48709774490588154,
          0.48707322735258596,
          0.4870487117442571,
          0.487024198080733,
          0.4869996863618516,
          0.48697517658745115,
          0.48695066875736975,
          0.4869261628714454,
          0.4869016589295164,
          0.48687715693142075,
          0.48685265687699647,
          0.48682815876608215,
          0.4868036625985155,
          0.48677916837413504,
          0.4867546760927788,
          0.48673018575428506,
          0.4867056973584921,
          0.48668121090523814,
          0.4866567263943613,
          0.4866322438257002,
          0.48660776319909255,
          0.4865832845143774,
          0.4865588077713925,
          0.48653433296997634,
          0.4865098601099675,
          0.4864853891912038,
          0.4864609202135241,
          0.4864364531767668,
          0.48641198808076996,
          0.48638752492537196,
          0.4863630637104116,
          0.4863386044357273,
          0.48631414710115717,
          0.48628969170653985,
          0.4862652382517139,
          0.48624078673651766,
          0.4862163371607898,
          0.4861918895243687,
          0.4861674438270931,
          0.4861430000688013,
          0.48611855824933203,
          0.48609411836852384,
          0.48606968042621507,
          0.4860452444222448,
          0.48602081035645117,
          0.48599637822867314,
          0.48597194803874944,
          0.4859475197865183,
          0.4859230934718186,
          0.4858986690944891,
          0.4858742466543687,
          0.4858498261512955,
          0.48582540758510884,
          0.485800990955647,
          0.485776576262749,
          0.4857521635062535,
          0.48572775268599955,
          0.48570334380182556,
          0.48567893685357055,
          0.48565453184107327,
          0.48563012876417244,
          0.4856057276227071,
          0.48558132841651636,
          0.48555693114543846,
          0.4855325358093127,
          0.48550814240797796,
          0.48548375094127316,
          0.4854593614090371,
          0.48543497381110867,
          0.48541058814732724,
          0.48538620441753133,
          0.4853618226215601,
          0.4853374427592525,
          0.48531306483044756,
          0.4852886888349845,
          0.48526431477270204,
          0.48523994264343945,
          0.48521557244703567,
          0.48519120418332995,
          0.48516683785216125,
          0.48514247345336853,
          0.4851181109867912,
          0.48509375045226827,
          0.48506939184963893,
          0.4850450351787422,
          0.48502068043941754,
          0.4849963276315037,
          0.4849719767548402,
          0.4849476278092665,
          0.4849232807946211,
          0.4848989357107439,
          0.4848745925574739,
          0.4848502513346503,
          0.4848259120421127,
          0.4848015746796999,
          0.48477723924725175,
          0.484752905744607,
          0.48472857417160553,
          0.4847042445280864,
          0.4846799168138891,
          0.4846555910288529,
          0.4846312671728173,
          0.4846069452456215,
          0.484582625247105,
          0.48455830717710735,
          0.4845339910354683,
          0.48450967682202656,
          0.4844853645366221,
          0.48446105417909424
         ]
        },
        {
         "mode": "lines",
         "name": "7.742636826811278e-05",
         "type": "scatter",
         "y": [
          0.48929298317416514,
          0.48922427939452484,
          0.4891555907852228,
          0.4890869173427445,
          0.4890182590635756,
          0.4889496159442027,
          0.4888809879811137,
          0.4888123751707964,
          0.4887437775097404,
          0.4886751949944356,
          0.4886066276213728,
          0.4885380753870439,
          0.4884695382879409,
          0.4884010163205573,
          0.4883325094813875,
          0.488264017766926,
          0.488195541173669,
          0.48812707969811275,
          0.4880586333367548,
          0.4879902020860935,
          0.4879217859426279,
          0.48785338490285785,
          0.487784998963284,
          0.4877166281204079,
          0.487648272370732,
          0.4875799317107592,
          0.4875116061369941,
          0.487443295645941,
          0.4873750002341055,
          0.4873067198979945,
          0.487238454634115,
          0.4871702044389752,
          0.48710196930908406,
          0.4870337492409512,
          0.4869655442310872,
          0.4868973542760035,
          0.4868291793722124,
          0.48676101951622686,
          0.4866928747045608,
          0.4866247449337286,
          0.4865566302002461,
          0.4864885305006295,
          0.4864204458313959,
          0.4863523761890632,
          0.4862843215701504,
          0.48621628197117667,
          0.48614825738866274,
          0.4860802478191298,
          0.4860122532590997,
          0.48594427370509535,
          0.4858763091536408,
          0.48580835960125984,
          0.4857404250444784,
          0.48567250547982227,
          0.4856046009038185,
          0.485536711312995,
          0.4854688367038798,
          0.48540097707300295,
          0.4853331324168943,
          0.48526530273208485,
          0.48519748801510665,
          0.48512968826249203,
          0.4850619034707746,
          0.4849941336364888,
          0.4849263787561696,
          0.4848586388263529,
          0.48479091384357537,
          0.4847232038043747,
          0.484655508705289,
          0.48458782854285753,
          0.4845201633136204,
          0.48445251301411846,
          0.484384877640893,
          0.48431725719048657,
          0.4842496516594424,
          0.4841820610443046,
          0.48411448534161816,
          0.48404692454792847,
          0.48397937865978197,
          0.4839118476737262,
          0.48384433158630913,
          0.48377683039407954,
          0.4837093440935875,
          0.4836418726813833,
          0.48357441615401825,
          0.4835069745080446,
          0.48343954774001535,
          0.48337213584648414,
          0.48330473882400576,
          0.48323735666913537,
          0.48316998937842937,
          0.48310263694844474,
          0.4830352993757392,
          0.48296797665687136,
          0.48290066878840077,
          0.4828333757668878,
          0.4827660975888934,
          0.48269883425097915,
          0.48263158574970816,
          0.48256435208164333,
          0.4824971332433498,
          0.4824299292313921,
          0.48236274004233626,
          0.4822955656727489,
          0.48222840611919776,
          0.482161261378251,
          0.4820941314464776,
          0.48202701632044787,
          0.48195991599673244,
          0.48189283047190257,
          0.4818257597425309,
          0.4817587038051906,
          0.48169166265645563,
          0.4816246362929004,
          0.4815576247111011,
          0.4814906279076339,
          0.48142364587907555,
          0.48135667862200443,
          0.4812897261329994,
          0.48122278840864013,
          0.48115586544550654,
          0.4810889572401803,
          0.4810220637892432,
          0.4809551850892782,
          0.4808883211368688,
          0.48082147192859936,
          0.48075463746105535,
          0.4806878177308226,
          0.4806210127344881,
          0.48055422246863916,
          0.48048744692986456,
          0.48042068611475347,
          0.4803539400198957,
          0.48028720864188224,
          0.480220491977305,
          0.4801537900227558,
          0.48008710277482847,
          0.48002043023011653,
          0.47995377238521547,
          0.47988712923672033,
          0.47982050078122784,
          0.4797538870153355,
          0.47968728793564064,
          0.47962070353874275,
          0.47955413382124107,
          0.4794875787797362,
          0.4794210384108296,
          0.47935451271112306,
          0.4792880016772192,
          0.4792215053057221,
          0.47915502359323586,
          0.47908855653636595,
          0.47902210413171825,
          0.47895566637589976,
          0.4788892432655178,
          0.47882283479718113,
          0.4787564409674988,
          0.4786900617730806,
          0.4786236972105379,
          0.47855734727648186,
          0.4784910119675249,
          0.47842469128028037,
          0.4783583852113622,
          0.4782920937573854,
          0.47822581691496524,
          0.47815955468071825,
          0.4780933070512614,
          0.47802707402321326,
          0.47796085559319196,
          0.47789465175781753,
          0.47782846251370975,
          0.47776228785749014,
          0.47769612778578086,
          0.47762998229520437,
          0.47756385138238416,
          0.4774977350439446,
          0.477431633276511,
          0.47736554607670917,
          0.47729947344116563,
          0.47723341536650815,
          0.47716737184936475,
          0.477101342886365,
          0.47703532847413815,
          0.4769693286093154,
          0.47690334328852796,
          0.47683737250840774,
          0.47677141626558833,
          0.4767054745567037,
          0.4766395473783879,
          0.47657363472727643,
          0.47650773660000584,
          0.476441852993213,
          0.4763759839035356,
          0.4763101293276123,
          0.47624428926208245,
          0.476178463703586,
          0.47611265264876457,
          0.4760468560942591,
          0.4759810740367126,
          0.47591530647276825
         ]
        },
        {
         "mode": "lines",
         "name": "0.00021544346900318823",
         "type": "scatter",
         "y": [
          0.48917050637555654,
          0.4889794280848327,
          0.48878846717976704,
          0.48859762358468767,
          0.4884068972239724,
          0.48821628802204803,
          0.48802579590339185,
          0.4878354207925293,
          0.48764516261403573,
          0.487455021292536,
          0.48726499675270396,
          0.4870750889192627,
          0.48688529771698497,
          0.486695623070692,
          0.486506064905255,
          0.48631662314559376,
          0.48612729771667706,
          0.4859380885435232,
          0.4857489955511995,
          0.4855600186648218,
          0.4853711578095555,
          0.48518241291061415,
          0.4849937838932611,
          0.4848052706828082,
          0.48461687320461605,
          0.48442859138409405,
          0.4842404251467004,
          0.48405237441794235,
          0.4838644391233753,
          0.4836766191886041,
          0.4834889145392814,
          0.4833013251011089,
          0.483113850799837,
          0.48292649156126444,
          0.4827392473112385,
          0.4825521179756553,
          0.4823651034804587,
          0.48217820375164167,
          0.48199141871524503,
          0.48180474829735853,
          0.48161819242412013,
          0.4814317510217154,
          0.4812454240163792,
          0.48105921133439383,
          0.4808731129020903,
          0.48068712864584734,
          0.48050125849209213,
          0.4803155023673001,
          0.4801298601979944,
          0.4799443319107465,
          0.4797589174321757,
          0.47957361668894927,
          0.47938842960778266,
          0.4792033561154389,
          0.47901839613872926,
          0.4788335496045127,
          0.47864881643969615,
          0.478464196571234,
          0.47827968992612846,
          0.47809529643143,
          0.47791101601423636,
          0.47772684860169273,
          0.4775427941209924,
          0.47735885249937593,
          0.47717502366413184,
          0.47699130754259583,
          0.4768077040621511,
          0.4766242131502287,
          0.4764408347343068,
          0.47625756874191105,
          0.47607441510061466,
          0.475891373738038,
          0.47570844458184863,
          0.47552562755976185,
          0.47534292259953986,
          0.47516032962899246,
          0.4749778485759759,
          0.4747954793683947,
          0.47461322193419964,
          0.47443107620138886,
          0.4742490420980077,
          0.4740671195521483,
          0.4738853084919504,
          0.4737036088455997,
          0.4735220205413299,
          0.4733405435074211,
          0.4731591776722003,
          0.47297792296404145,
          0.4727967793113652,
          0.4726157466426395,
          0.47243482488637834,
          0.47225401397114286,
          0.472073313825541,
          0.4718927243782272,
          0.47171224555790237,
          0.4715318772933142,
          0.47135161951325755,
          0.47117147214657257,
          0.47099143512214714,
          0.47081150836891505,
          0.4706316918158565,
          0.4704519853919985,
          0.47027238902641405,
          0.4700929026482229,
          0.46991352618659077,
          0.46973425957073,
          0.469555102729899,
          0.4693760555934025,
          0.4691971180905915,
          0.46901829015086344,
          0.4688395717036609,
          0.4686609626784743,
          0.46848246300483853,
          0.4683040726123352,
          0.4681257914305924,
          0.4679476193892832,
          0.4677695564181276,
          0.46759160244689135,
          0.4674137574053857,
          0.46723602122346797,
          0.4670583938310414,
          0.4668808751580556,
          0.46670346513450456,
          0.4665261636904297,
          0.4663489707559168,
          0.46617188626109857,
          0.46599491013615224,
          0.4658180423113014,
          0.46564128271681515,
          0.465464631283008,
          0.4652880879402402,
          0.4651116526189173,
          0.46493532524949077,
          0.4647591057624571,
          0.4645829940883582,
          0.46440699015778175,
          0.4642310939013608,
          0.46405530524977334,
          0.46387962413374306,
          0.46370405048403873,
          0.4635285842314745,
          0.4633532253069096,
          0.4631779736412487,
          0.4630028291654414,
          0.46282779181048245,
          0.462652861507412,
          0.462478038187315,
          0.46230332178132155,
          0.4621287122206065,
          0.46195420943639026,
          0.46177981335993773,
          0.4616055239225591,
          0.4614313410556091,
          0.46125726469048745,
          0.46108329475863885,
          0.46090943119155275,
          0.4607356739207631,
          0.4605620228778493,
          0.4603884779944346,
          0.4602150392021878,
          0.46004170643282166,
          0.45986847961809413,
          0.45969535868980727,
          0.4595223435798081,
          0.4593494342199882,
          0.4591766305422833,
          0.45900393247867377,
          0.4588313399611847,
          0.45865885292188563,
          0.45848647129289,
          0.4583141950063562,
          0.45814202399448634,
          0.4579699581895277,
          0.45779799752377104,
          0.4576261419295517,
          0.4574543913392493,
          0.4572827456852878,
          0.45711120490013496,
          0.45693976891630284,
          0.4567684376663477,
          0.4565972110828701,
          0.4564260890985139,
          0.45625507164596785,
          0.45608415865796414,
          0.455913350067279,
          0.4557426458067331,
          0.4555720458091904,
          0.4554015500075591,
          0.45523115833479066,
          0.45506087072388157,
          0.45489068710787084,
          0.45472060741984205,
          0.4545506315929222,
          0.45438075956028184,
          0.45421099125513587,
          0.4540413266107422,
          0.4538717655604024,
          0.4537023080374619,
          0.4535329539753097,
          0.45336370330737813
         ]
        },
        {
         "mode": "lines",
         "name": "0.0005994842503189409",
         "type": "scatter",
         "y": [
          0.48882983429133403,
          0.48829887539317396,
          0.48776882380323966,
          0.48723967789455697,
          0.48671143604311096,
          0.4861840966278413,
          0.485657658030637,
          0.4851321186363301,
          0.48460747683269106,
          0.4840837310104237,
          0.48356087956315846,
          0.4830389208874484,
          0.4825178533827636,
          0.4819976754514852,
          0.481478385498901,
          0.4809599819331991,
          0.4804424631654635,
          0.4799258276096685,
          0.4794100736826732,
          0.47889519980421646,
          0.47838120439691195,
          0.4778680858862419,
          0.47735584270055315,
          0.4768444732710509,
          0.47633397603179384,
          0.4758243494196894,
          0.4753155918744876,
          0.4748077018387765,
          0.4743006777579771,
          0.4737945180803379,
          0.4732892212569295,
          0.47278478574164,
          0.47228120999116957,
          0.4717784924650254,
          0.47127663162551603,
          0.4707756259377473,
          0.47027547386961616,
          0.46977617389180637,
          0.46927772447778293,
          0.46878012410378767,
          0.4682833712488327,
          0.46778746439469726,
          0.4672924020259209,
          0.4667981826298001,
          0.46630480469638175,
          0.46581226671845916,
          0.46532056719156645,
          0.46482970461397405,
          0.46433967748668276,
          0.46385048431341996,
          0.4633621236006341,
          0.4628745938574894,
          0.4623878935958618,
          0.46190202133033237,
          0.4614169755781841,
          0.4609327548593963,
          0.46044935769663975,
          0.4599667826152707,
          0.45948502814332837,
          0.4590040928115276,
          0.45852397515325544,
          0.4580446737045654,
          0.45756618700417356,
          0.45708851359345276,
          0.4566116520164282,
          0.4561356008197726,
          0.45566035855280135,
          0.45518592376746725,
          0.4547122950183563,
          0.45423947086268285,
          0.4537674498602844,
          0.45329623057361695,
          0.4528258115677503,
          0.45235619141036354,
          0.4518873686717397,
          0.4514193419247613,
          0.4509521097449057,
          0.4504856707102401,
          0.4500200234014174,
          0.4495551664016705,
          0.44909109829680843,
          0.4486278176752115,
          0.4481653231278257,
          0.4477036132481597,
          0.44724268663227895,
          0.4467825418788009,
          0.4463231775888912,
          0.4458645923662583,
          0.4454067848171491,
          0.44494975355034455,
          0.4444934971771544,
          0.4440380143114134,
          0.44358330356947584,
          0.4431293635702117,
          0.44267619293500104,
          0.4422237902877312,
          0.4417721542547899,
          0.4413212834650626,
          0.440871176549927,
          0.440421832143249,
          0.43997324888137734,
          0.43952542540313977,
          0.4390783603498386,
          0.4386320523652456,
          0.438186500095598,
          0.4377417021895938,
          0.43729765729838693,
          0.4368543640755835,
          0.4364118211772368,
          0.43597002726184325,
          0.43552898099033654,
          0.4350886810260857,
          0.43464912603488853,
          0.4342103146849677,
          0.4337722456469672,
          0.4333349175939463,
          0.43289832920137655,
          0.43246247914713704,
          0.4320273661115097,
          0.4315929887771745,
          0.4311593458292064,
          0.43072643595507,
          0.43029425784461495,
          0.42986281019007255,
          0.42943209168605045,
          0.4290021010295292,
          0.42857283691985665,
          0.4281442980587452,
          0.42771648315026667,
          0.4272893909008474,
          0.42686302001926496,
          0.42643736921664355,
          0.4260124372064495,
          0.4255882227044872,
          0.42516472442889464,
          0.42474194110013946,
          0.4243198714410142,
          0.4238985141766328,
          0.42347786803442544,
          0.4230579317441347,
          0.42263870403781234,
          0.4222201836498132,
          0.4218023693167922,
          0.4213852597777002,
          0.42096885377377946,
          0.420553150048559,
          0.42013814734785104,
          0.41972384441974786,
          0.4193102400146146,
          0.41889733288508857,
          0.41848512178607294,
          0.418073605474733,
          0.41766278271049245,
          0.41725265225502906,
          0.4168432128722706,
          0.4164344633283904,
          0.41602640239180416,
          0.41561902883316415,
          0.4152123414253575,
          0.41480633894349955,
          0.41440102016493213,
          0.41399638386921755,
          0.41359242883813585,
          0.41318915385568056,
          0.41278655770805356,
          0.41238463918366264,
          0.4119833970731169,
          0.4115828301692216,
          0.4111829372669757,
          0.4107837171635676,
          0.41038516865837005,
          0.4099872905529374,
          0.40959008165100114,
          0.40919354075846553,
          0.4087976666834046,
          0.4084024582360569,
          0.4080079142288229,
          0.40761403347625996,
          0.40722081479507877,
          0.4068282570041403,
          0.40643635892445007,
          0.4060451193791554,
          0.4056545371935416,
          0.40526461119502794,
          0.4048753402131629,
          0.40448672307962164,
          0.4040987586282012,
          0.4037114456948168,
          0.4033247831174978,
          0.402938769736385,
          0.40255340439372467,
          0.40216868593386706,
          0.4017846132032604,
          0.40140118505044886,
          0.40101840032606745,
          0.4006362578828388,
          0.4002547565755693,
          0.3998738952611453,
          0.3994936727985291,
          0.3991140880487553
         ]
        },
        {
         "mode": "lines",
         "name": "0.0016681005372000592",
         "type": "scatter",
         "y": [
          0.4878828763916079,
          0.48641107698001756,
          0.48494626886231845,
          0.48348841718512126,
          0.4820374872713178,
          0.4805934446191859,
          0.47915625490149805,
          0.4777258839646363,
          0.47630229782770933,
          0.47488546268167625,
          0.4734753448884731,
          0.4720719109801447,
          0.47067512765798125,
          0.46928496179165813,
          0.46790138041838064,
          0.4665243507420344,
          0.46515384013233746,
          0.4637898161239984,
          0.4624322464158797,
          0.46108109887016246,
          0.45973634151151754,
          0.45839794252628147,
          0.4570658702616335,
          0.45574009322478054,
          0.4544205800821436,
          0.45310729965854935,
          0.451800220936426,
          0.4504993130550029,
          0.44920454530951415,
          0.4479158871504064,
          0.446633308182551,
          0.4453567781644592,
          0.4440862670075027,
          0.4428217447751368,
          0.44156318168212894,
          0.44031054809378933,
          0.4390638145252074,
          0.4378229516404907,
          0.4365879302520083,
          0.43535872131963876,
          0.4341352959500197,
          0.4329176253958037,
          0.43170568105491636,
          0.43049943446981964,
          0.4292988573267759,
          0.42810392145512016,
          0.42691459882653204,
          0.4257308615543134,
          0.42455268189267015,
          0.42338003223599513,
          0.4222128851181577,
          0.42105121321179534,
          0.41989498932760855,
          0.4187441864136604,
          0.41759877755467906,
          0.4164587359713636,
          0.415324035019694,
          0.4141946481902441,
          0.4130705491074984,
          0.4119517115291725,
          0.41083810934553544,
          0.4097297165787385,
          0.40862650738214445,
          0.4075284560396618,
          0.40643553696508217,
          0.40534772470141994,
          0.4042649939202584,
          0.40318731942109415,
          0.4021146761306902,
          0.4010470391024288,
          0.39998438351566845,
          0.3989266846751047,
          0.39787391801013455,
          0.39682605907422164,
          0.39578308354426855,
          0.3947449672199883,
          0.3937116860232824,
          0.39268321599761963,
          0.39165953330741965,
          0.3906406142374377,
          0.38962643519215573,
          0.3886169726951733,
          0.38761220338860297,
          0.3866121040324692,
          0.38561665150410956,
          0.3846258227975793,
          0.38363959502305894,
          0.382657945406265,
          0.3816808512878628,
          0.3807082901228838,
          0.37974023948014535,
          0.37877667704167206,
          0.37781758060212167,
          0.37686292806821386,
          0.37591269745816125,
          0.37496686690110287,
          0.37402541463654176,
          0.37308831901378486,
          0.3721555584913854,
          0.37122711163658845,
          0.3703029571247795,
          0.36938307373893575,
          0.36846744036907925,
          0.36755603601173464,
          0.36664883976938795,
          0.3657458308499489,
          0.36484698856621633,
          0.3639522923353457,
          0.3630617216783186,
          0.36217525621941754,
          0.36129287568569984,
          0.36041455990647764,
          0.35954028881279787,
          0.3586700424369267,
          0.3578038009118354,
          0.35694154447068954,
          0.3560832534463405,
          0.3552289082708194,
          0.35437848947483436,
          0.35353197768726874,
          0.35268935363468457,
          0.3518505981408249,
          0.35101569212612244,
          0.3501846166072077,
          0.3493573526964216,
          0.34853388160132937,
          0.3477141846242377,
          0.3468982431617137,
          0.3460860387041068,
          0.3452775528350732,
          0.3444727672311015,
          0.34367166366104235,
          0.3428742239856403,
          0.3420804301570664,
          0.3412902642184551,
          0.3405037083034425,
          0.33972074463570734,
          0.33894135552851373,
          0.3381655233842571,
          0.33739323069401156,
          0.33662446003708074,
          0.335859194080549,
          0.3350974155788372,
          0.3343391073732589,
          0.3335842523915799,
          0.33283283364757943,
          0.33208483424061386,
          0.3313402373551827,
          0.3305990262604964,
          0.32986118431004685,
          0.3291266949411794,
          0.3283955416746683,
          0.3276677081142924,
          0.326943177946415,
          0.3262219349395645,
          0.32550396294401757,
          0.3247892458913847,
          0.3240777677941973,
          0.3233695127454974,
          0.3226644649184295,
          0.3219626085658336,
          0.3212639280198417,
          0.32056840769147527,
          0.31987603207024484,
          0.3191867857237523,
          0.3185006532972947,
          0.31781761951347004,
          0.3171376691717851,
          0.3164607871482658,
          0.3157869583950687,
          0.31511616794009495,
          0.31444840088660625,
          0.31378364241284235,
          0.3131218777716413,
          0.3124630922900606,
          0.3118072713690007,
          0.31115440048283144,
          0.3105044651790182,
          0.3098574510777519,
          0.3092133438715803,
          0.30857212932504063,
          0.30793379327429465,
          0.3072983216267656,
          0.3066657003607765,
          0.306035915525191,
          0.3054089532390553,
          0.3047847996912426,
          0.3041634411400985,
          0.3035448639130895,
          0.30292905440645157,
          0.3023159990848422,
          0.30170568448099305,
          0.30109809719536496,
          0.3004932238958043,
          0.29989105131720156,
          0.29929156626115117,
          0.2986947555956134,
          0.2981006062545781,
          0.29750910523772933,
          0.2969202396101127
         ]
        },
        {
         "mode": "lines",
         "name": "0.004641588833612777",
         "type": "scatter",
         "y": [
          0.48525551623811414,
          0.48120349054674805,
          0.4772048754475572,
          0.47325893186018253,
          0.46936493108149924,
          0.4655221546393018,
          0.461729894148053,
          0.4579874511666703,
          0.4542941370583198,
          0.45064927285218787,
          0.44705218910720657,
          0.4435022257777004,
          0.439998732080931,
          0.43654106636651024,
          0.43312859598765935,
          0.42976069717428167,
          0.42643675490782984,
          0.423156162797938,
          0.41991832296079656,
          0.4167226458992425,
          0.41356855038454243,
          0.41045546333984545,
          0.4073828197252796,
          0.4043500624246721,
          0.40135664213386596,
          0.39840201725061525,
          0.39548565376603345,
          0.39260702515757456,
          0.3897656122835241,
          0.3869609032789798,
          0.38419239345329964,
          0.38145958518900003,
          0.37876198784207643,
          0.3760991176437355,
          0.37347049760351164,
          0.37087565741375106,
          0.36831413335544466,
          0.3657854682053905,
          0.3632892111446648,
          0.36082491766838637,
          0.358392149496754,
          0.35599047448733956,
          0.35361946654861837,
          0.3512787055547208,
          0.3489677772613872,
          0.34668627322310763,
          0.34443379071143176,
          0.34220993263443233,
          0.3400143074573044,
          0.3378465291240851,
          0.33570621698047876,
          0.3335929956977704,
          0.33150649519781394,
          0.32944635057907795,
          0.32741220204373633,
          0.32540369482578585,
          0.32342047912018096,
          0.3214622100129658,
          0.3195285474123945,
          0.31761915598102153,
          0.3157337050687521,
          0.3138718686468357,
          0.3120333252427927,
          0.310217757876258,
          0.3084248539957301,
          0.30665430541621375,
          0.3049058082577411,
          0.3031790628847613,
          0.3014737738463851,
          0.2997896498174727,
          0.2981264035405525,
          0.2964837517685597,
          0.2948614152083834,
          0.2932591184652089,
          0.2916765899876466,
          0.2901135620136344,
          0.2885697705171036,
          0.28704495515539763,
          0.2855388592174321,
          0.28405122957258633,
          0.2825818166203165,
          0.28113037424047926,
          0.27969665974435637,
          0.27828043382637013,
          0.2768814605164801,
          0.2754995071332516,
          0.27413434423758626,
          0.2727857455871052,
          0.2714534880911755,
          0.27013735176657194,
          0.26883711969376384,
          0.2675525779738177,
          0.26628351568590974,
          0.26502972484543574,
          0.2637910003627136,
          0.2625671400022666,
          0.2613579443426832,
          0.26016321673704124,
          0.2589827632738913,
          0.2578163927387901,
          0.2566639165763769,
          0.25552514885298444,
          0.25439990621977715,
          0.25328800787640987,
          0.25218927553519893,
          0.25110353338579794,
          0.250030608060373,
          0.24897032859926815,
          0.24792252641715568,
          0.2468870352696631,
          0.24586369122047197,
          0.24485233260887945,
          0.24385280001781834,
          0.24286493624232783,
          0.24188858625846857,
          0.24092359719267684,
          0.23996981829154987,
          0.23902710089205864,
          0.2380952983921794,
          0.23717426622194046,
          0.23626386181487605,
          0.235363944579884,
          0.23447437587347986,
          0.23359501897244123,
          0.23272573904683974,
          0.23186640313345153,
          0.23101688010954383,
          0.23017704066703043,
          0.22934675728699205,
          0.2285259042145559,
          0.2277143574341287,
          0.2269119946449802,
          0.22611869523716982,
          0.22533434026781335,
          0.2245588124376838,
          0.22379199606814265,
          0.22303377707839558,
          0.22228404296307014,
          0.2215426827701076,
          0.22080958707896864,
          0.22008464797914434,
          0.21936775904897132,
          0.21865881533474507,
          0.217957713330128,
          0.21726435095584723,
          0.21657862753967885,
          0.21590044379671458,
          0.215229701809906,
          0.21456630501088336,
          0.21391015816104492,
          0.2132611673329125,
          0.21261923989174975,
          0.21198428447743958,
          0.21135621098661744,
          0.21073493055505568,
          0.21012035554029634,
          0.20951239950452943,
          0.2089109771977111,
          0.20831600454092145,
          0.2077273986099547,
          0.2071450776191433,
          0.20656896090540686,
          0.2059989689125288,
          0.20543502317565224,
          0.20487704630599587,
          0.20432496197578442,
          0.2037786949033917,
          0.20323817083869242,
          0.2027033165486215,
          0.20217405980293576,
          0.20165032936017652,
          0.2011320549538303,
          0.20061916727868406,
          0.20011159797737282,
          0.19960927962711644,
          0.1991121457266442,
          0.19862013068330203,
          0.19813316980034293,
          0.19765119926439512,
          0.1971741561331074,
          0.19670197832296862,
          0.19623460459729797,
          0.19577197455440493,
          0.19531402861591612,
          0.1948607080152663,
          0.19441195478635084,
          0.19396771175233943,
          0.19352792251464576,
          0.1930925314420536,
          0.19266148365999536,
          0.19223472503998182,
          0.191812202189181,
          0.1913938624401431,
          0.19097965384067042,
          0.19056952514383024,
          0.19016342579810783,
          0.18976130593769755,
          0.1893631163729326,
          0.18896880858084714,
          0.18857833469587218
         ]
        },
        {
         "mode": "lines",
         "name": "0.012915496650148827",
         "type": "scatter",
         "y": [
          0.4780036245499867,
          0.4670596965694869,
          0.45651407181341114,
          0.4463515190836717,
          0.4365573983748042,
          0.42711763782796414,
          0.41801871158441645,
          0.40924761850339497,
          0.40079186171058345,
          0.3926394289447901,
          0.38477877367164964,
          0.3771987969344063,
          0.3698888299129992,
          0.3628386171637973,
          0.3560383005134074,
          0.34947840358102167,
          0.34314981690476143,
          0.33704378364843895,
          0.33115188586607497,
          0.32546603130239676,
          0.3199784407083918,
          0.3146816356518069,
          0.3095684268032725,
          0.3046319026794797,
          0.29986541882557094,
          0.2952625874195925,
          0.29081726728253576,
          0.28652355427813014,
          0.28237577208717435,
          0.2783684633417819,
          0.2744963811054928,
          0.27075448068574753,
          0.2671379117657488,
          0.2636420108432435,
          0.26026229396424316,
          0.2569944497401687,
          0.25383433263735655,
          0.25077795652829304,
          0.24782148849436125,
          0.2449612428702814,
          0.24219367552081128,
          0.23951537834063857,
          0.23692307396875553,
          0.2344136107089415,
          0.23198395764830984,
          0.22963119996618658,
          0.22735253442589323,
          0.22514526504229346,
          0.22300679891824451,
          0.2209346422433585,
          0.21892639644874104,
          0.21697975451161844,
          0.2150924974040027,
          0.21326249067977351,
          0.21148768119477468,
          0.20976609395473392,
          0.20809582908601748,
          0.20647505892442508,
          0.20490202521741932,
          0.20337503643536312,
          0.20189246518750967,
          0.20045274573865798,
          0.19905437162254722,
          0.19769589334821078,
          0.19637591619566802,
          0.19509309809746295,
          0.19384614760270294,
          0.19263382192037712,
          0.19145492503886227,
          0.19030830591864142,
          0.18919285675538186,
          0.18810751131062378,
          0.18705124330744546,
          0.1860230648885671,
          0.1850220251344586,
          0.18404720863911123,
          0.183097734141222,
          0.18217275320863063,
          0.1812714489739311,
          0.1803930349192618,
          0.17953675370835626,
          0.17870187606401045,
          0.17788769968919602,
          0.17709354823011744,
          0.17631877027957563,
          0.17556273841906817,
          0.17482484829811465,
          0.1741045177493543,
          0.1734011859380242,
          0.1727143125444732,
          0.17204337697842767,
          0.1713878776237679,
          0.17074733111262733,
          0.1701212716276713,
          0.16950925023145572,
          0.16891083422181177,
          0.16832560651224002,
          0.16775316503634174,
          0.1671931221753474,
          0.16664510420784537,
          0.1661087507808434,
          0.16558371440133224,
          0.1650696599475532,
          0.16456626419920045,
          0.16407321538582173,
          0.16359021275270783,
          0.1631169661435892,
          0.16265319559948585,
          0.1621986309730804,
          0.16175301155801086,
          0.16131608573250028,
          0.16088761061676726,
          0.16046735174367832,
          0.16005508274212882,
          0.15965058503265459,
          0.15925364753480054,
          0.15886406638578612,
          0.15848164467003018,
          0.1581061921591108,
          0.15773752506175526,
          0.15737546578346912,
          0.15701984269542985,
          0.15667048991228427,
          0.15632724707850337,
          0.15598995916296213,
          0.15565847626142432,
          0.1553326534066242,
          0.1550123503856509,
          0.1546974315643508,
          0.1543877657184752,
          0.15408322587131135,
          0.15378368913754464,
          0.15348903657311025,
          0.15319915303080095,
          0.15291392702140807,
          0.1526332505801803,
          0.15235701913839408,
          0.1520851313998371,
          0.15181748922201396,
          0.15155399750189102,
          0.15129456406600403,
          0.15103909956475958,
          0.15078751737076734,
          0.1505397334810469,
          0.15029566642295925,
          0.15005523716371771,
          0.149818369023341,
          0.14958498759091293,
          0.14935502064402312,
          0.14912839807126324,
          0.14890505179766214,
          0.14868491571294487,
          0.14846792560250732,
          0.1482540190810004,
          0.14804313552842369,
          0.14783521602863103,
          0.14763020331015458,
          0.1474280416892585,
          0.14722867701513503,
          0.14703205661716182,
          0.1468381292541381,
          0.1466468450654273,
          0.14645815552392838,
          0.14627201339080845,
          0.14608837267192695,
          0.145907188575887,
          0.14572841747365095,
          0.14555201685965988,
          0.1453779453143992,
          0.1452061624683545,
          0.14503662896730443,
          0.1448693064388989,
          0.1447041574604736,
          0.14454114552805264,
          0.14438023502649436,
          0.14422139120073624,
          0.14406458012809617,
          0.14390976869159053,
          0.14375692455422936,
          0.14360601613425159,
          0.14345701258126375,
          0.14330988375324827,
          0.14316460019440833,
          0.1430211331138156,
          0.1428794543648321,
          0.14273953642527645,
          0.14260135237830404,
          0.14246487589397713,
          0.14233008121149504,
          0.14219694312206282,
          0.14206543695237145,
          0.14193553854866725,
          0.14180722426138856,
          0.14168047093034733,
          0.1415552558704354,
          0.14143155685783607,
          0.14130935211671997,
          0.14118862030640983,
          0.14106934050899336,
          0.1409514922173698
         ]
        },
        {
         "mode": "lines",
         "name": "0.03593813663804626",
         "type": "scatter",
         "y": [
          0.45828080007980526,
          0.43029596274569615,
          0.40508354495220317,
          0.3823542349976097,
          0.3618493967057694,
          0.3433378016899006,
          0.32661271018563925,
          0.31148926325699083,
          0.29780215314855335,
          0.285403542103425,
          0.2741612031338074,
          0.2639568590608309,
          0.25468469866767585,
          0.24625005106783962,
          0.23856820140722057,
          0.23156333282026365,
          0.22516758116970506,
          0.21932019053700116,
          0.2139667587146461,
          0.20905856309865717,
          0.2045519584041569,
          0.2004078385422801,
          0.19659115581424408,
          0.19307049130877305,
          0.18981767104147826,
          0.18680742295757044,
          0.18401707043987148,
          0.18142625842911309,
          0.1790167086789131,
          0.17677200103888246,
          0.17467737799078337,
          0.1727195699587521,
          0.17088663917909044,
          0.1691678401513983,
          0.16755349490387253,
          0.16603488149412782,
          0.16460413433530485,
          0.1632541550876716,
          0.16197853299030823,
          0.16077147362751043,
          0.15962773523178117,
          0.1585425717210723,
          0.15751168175350677,
          0.15653116315925278,
          0.15559747217750217,
          0.1547073869875036,
          0.1538579750770896,
          0.15304656404080902,
          0.15227071544326184,
          0.15152820142207138,
          0.15081698373963048,
          0.15013519502375228,
          0.14948112196504745,
          0.14885319026358543,
          0.1482499511394929,
          0.1476700692418852,
          0.14711231180815876,
          0.1465755389414277,
          0.14605869488796047,
          0.14556080020904552,
          0.14508094475294628,
          0.14461828134264132,
          0.14417202010400748,
          0.1437414233671154,
          0.1433258010804593,
          0.1429245066843356,
          0.14253693339529763,
          0.14216251085871348,
          0.1418007021310138,
          0.1414510009572904,
          0.14111292931354258,
          0.14078603518612348,
          0.14046989056384052,
          0.14016408962076188,
          0.1398682470700997,
          0.1395819966716144,
          0.13930498987683484,
          0.1390368945980465,
          0.1387773940884767,
          0.13852618592243024,
          0.13828298106530815,
          0.13804750302449828,
          0.1378194870730734,
          0.1375986795390704,
          0.13738483715388455,
          0.1371777264539815,
          0.1369771232307362,
          0.1367828120237456,
          0.1365945856534417,
          0.13641224478926645,
          0.13623559755005152,
          0.13606445913359327,
          0.1358986514727189,
          0.13573800291541846,
          0.1355823479268618,
          0.13543152681134113,
          0.1352853854523771,
          0.1351437750694046,
          0.1350065519896102,
          0.13487357743363682,
          0.13474471731399787,
          0.13461984204515656,
          0.13449882636432722,
          0.13438154916214834,
          0.1342678933224577,
          0.1341577455704735,
          0.1340509963287516,
          0.13394753958034752,
          0.13384727273866573,
          0.13375009652352482,
          0.13365591484301154,
          0.13356463468073446,
          0.13347616598812145,
          0.1333904215814387,
          0.13330731704323417,
          0.13322677062793598,
          0.1331487031713565,
          0.13307303800387674,
          0.1329997008670993,
          0.13292861983378057,
          0.13285972523086195,
          0.13279294956543888,
          0.13272822745351495,
          0.1326654955514011,
          0.13260469248963055,
          0.13254575880926794,
          0.13248863690050044,
          0.13243327094340598,
          0.1323796068508011,
          0.13232759221307577,
          0.13227717624493046,
          0.13222830973393446,
          0.13218094499082925,
          0.13213503580150693,
          0.13209053738059473,
          0.13204740632658415,
          0.13200560057844285,
          0.13196507937365368,
          0.13192580320762687,
          0.13188773379443341,
          0.13185083402881217,
          0.13181506794940342,
          0.13178040070316574,
          0.13174679851093302,
          0.13171422863407273,
          0.13168265934220602,
          0.13165205988195353,
          0.1316224004466718,
          0.13159365214714608,
          0.1315657869832078,
          0.13153877781624582,
          0.1315125983425806,
          0.13148722306767457,
          0.13146262728114907,
          0.13143878703258324,
          0.13141567910806803,
          0.13139328100749206,
          0.13137157092253413,
          0.13135052771534134,
          0.13133013089786935,
          0.13131036061186468,
          0.13129119760946778,
          0.1312726232344177,
          0.13125461940383917,
          0.13123716859059312,
          0.1312202538061737,
          0.13120385858413425,
          0.13118796696402515,
          0.13117256347582829,
          0.1311576331248717,
          0.13114316137721024,
          0.13112913414545754,
          0.13111553777505383,
          0.1311023590309587,
          0.1310895850847528,
          0.13107720350213778,
          0.13106520223082077,
          0.13105356958877254,
          0.13104229425284683,
          0.13103136524775036,
          0.131020771935352,
          0.13101050400432157,
          0.1310005514600868,
          0.13099090461509946,
          0.13098155407940162,
          0.13097249075148099,
          0.13096370580940844,
          0.13095519070224731,
          0.13094693714172778,
          0.13093893709417612,
          0.1309311827726933,
          0.13092366662957292,
          0.1309163813489529,
          0.13090931983969303,
          0.13090247522847084,
          0.13089584085309072,
          0.13088941025599748,
          0.13088317717799014,
          0.13087713555212857,
          0.13087127949782723
         ]
        },
        {
         "mode": "lines",
         "name": "0.1",
         "type": "scatter",
         "y": [
          0.40693147255321493,
          0.3461715204357295,
          0.30110291153342433,
          0.26742182523256763,
          0.24202804251695087,
          0.22268634181164298,
          0.20778332343648237,
          0.19615275367143406,
          0.18695010846132995,
          0.17956244541125593,
          0.1735436446314807,
          0.16856786760177225,
          0.1643960997152646,
          0.16085208994239972,
          0.1578050405250008,
          0.15515714592880717,
          0.1528346161294508,
          0.15078120404231962,
          0.1489535331493404,
          0.1473177197236164,
          0.14584692647433434,
          0.14451958670177384,
          0.14331811148957826,
          0.14222794519888146,
          0.1412368724036571,
          0.1403345066097216,
          0.13951191064017346,
          0.13876131260810468,
          0.1380758914843023,
          0.1374496135171002,
          0.1368771059731828,
          0.1363535584161642,
          0.1358746444364412,
          0.13543645868718682,
          0.13503546547999898,
          0.13466845620231332,
          0.13433251354686318,
          0.13402498106998212,
          0.13374343697694893,
          0.133485671309525,
          0.13324966591251336,
          0.1330335767035834,
          0.1328357178788233,
          0.1326545477663742,
          0.13248865609985472,
          0.13233675252774058,
          0.13219765620845617,
          0.1320702863665938,
          0.13195365370550663,
          0.13184685258704978,
          0.13174905390156966,
          0.13165949856118184,
          0.13157749155749346,
          0.1315023965316702,
          0.13143363081041454,
          0.13137066086625304,
          0.13131299816469538,
          0.13126019536445666,
          0.13121184284012222,
          0.1311675654994594,
          0.13112701987009812,
          0.1310898914325579,
          0.13105589217863078,
          0.1310247583759609,
          0.13099624852132566,
          0.13097014146662897,
          0.13094623470298997,
          0.13092434278955878,
          0.13090429591483124,
          0.13088593857927178,
          0.1308691283890057,
          0.13085373495120758,
          0.13083963886260727,
          0.1308267307832586,
          0.13081491058838157,
          0.13080408659169449,
          0.1307941748342089,
          0.1307850984329681,
          0.1307767869846766,
          0.13076917601959387,
          0.13076220650145406,
          0.13075582436953423,
          0.13074998011931666,
          0.13074462841849388,
          0.1307397277553365,
          0.13073524011669693,
          0.13073113069315073,
          0.1307273676089886,
          0.1307239216749648,
          0.13072076616188344,
          0.1307178765932672,
          0.1307152305554996,
          0.13071280752396855,
          0.13071058870386207,
          0.13070855688438213,
          0.13070669630524495,
          0.13070499253443255,
          0.13070343235624754,
          0.13070200366880244,
          0.1307006953901485,
          0.13069949737231587,
          0.13069840032259877,
          0.13069739573147404,
          0.13069647580659546,
          0.13069563341235022,
          0.13069486201451005,
          0.13069415562954706,
          0.13069350877822083,
          0.13069291644307754,
          0.13069237402953102,
          0.13069187733022347,
          0.13069142249239052,
          0.13069100598797595,
          0.1306906245862657,
          0.1306902753288282,
          0.13068995550656623,
          0.13068966263870363,
          0.1306893944535422,
          0.13068914887084088,
          0.13068892398568,
          0.13068871805368515,
          0.1306885294774966,
          0.13068835679437893,
          0.13068819866487513,
          0.13068805386241675,
          0.13068792126380946,
          0.13068779984052126,
          0.1306876886507039,
          0.13068758683188753,
          0.1306874935942907,
          0.13068740821469407,
          0.1306873300308309,
          0.13068725843624973,
          0.1306871928756104,
          0.13068713284037647,
          0.1306870778648706,
          0.1306870275226623,
          0.13068698142326066,
          0.1306869392090847,
          0.13068690055269033,
          0.13068686515423017,
          0.13068683273912776,
          0.1306868030559478,
          0.1306867758744458,
          0.13068675098378196,
          0.13068672819088606,
          0.13068670731895973,
          0.13068668820610493,
          0.13068667070406828,
          0.13068665467709126,
          0.13068664000085675,
          0.13068662656152516,
          0.13068661425485115,
          0.13068660298537507,
          0.13068659266568275,
          0.13068658321572693,
          0.13068657456220684,
          0.13068656663799944,
          0.13068655938163878,
          0.1306865527368392,
          0.1306865466520587,
          0.13068654108009936,
          0.13068653597774083,
          0.1306865313054056,
          0.13068652702685152,
          0.13068652310889103,
          0.1306865195211336,
          0.1306865162357498,
          0.13068651322725597,
          0.1306865104723159,
          0.13068650794956024,
          0.13068650563942066,
          0.13068650352397812,
          0.13068650158682357,
          0.13068649981293107,
          0.13068649818854103,
          0.13068649670105342,
          0.1306864953389303,
          0.1306864940916059,
          0.13068649294940518,
          0.13068649190346837,
          0.13068649094568238,
          0.13068649006861793,
          0.13068648926547183,
          0.13068648853001436,
          0.13068648785654072,
          0.130686487239827,
          0.13068648667508947,
          0.13068648615794762,
          0.13068648568439015,
          0.13068648525074378,
          0.13068648485364479,
          0.13068648449001302,
          0.13068648415702797,
          0.1306864838521066,
          0.13068648357288376,
          0.13068648331719368,
          0.13068648308305297,
          0.1306864828686455,
          0.13068648267230812
         ]
        }
       ],
       "layout": {
        "template": {
         "data": {
          "bar": [
           {
            "error_x": {
             "color": "#2a3f5f"
            },
            "error_y": {
             "color": "#2a3f5f"
            },
            "marker": {
             "line": {
              "color": "#E5ECF6",
              "width": 0.5
             }
            },
            "type": "bar"
           }
          ],
          "barpolar": [
           {
            "marker": {
             "line": {
              "color": "#E5ECF6",
              "width": 0.5
             }
            },
            "type": "barpolar"
           }
          ],
          "carpet": [
           {
            "aaxis": {
             "endlinecolor": "#2a3f5f",
             "gridcolor": "white",
             "linecolor": "white",
             "minorgridcolor": "white",
             "startlinecolor": "#2a3f5f"
            },
            "baxis": {
             "endlinecolor": "#2a3f5f",
             "gridcolor": "white",
             "linecolor": "white",
             "minorgridcolor": "white",
             "startlinecolor": "#2a3f5f"
            },
            "type": "carpet"
           }
          ],
          "choropleth": [
           {
            "colorbar": {
             "outlinewidth": 0,
             "ticks": ""
            },
            "type": "choropleth"
           }
          ],
          "contour": [
           {
            "colorbar": {
             "outlinewidth": 0,
             "ticks": ""
            },
            "colorscale": [
             [
              0,
              "#0d0887"
             ],
             [
              0.1111111111111111,
              "#46039f"
             ],
             [
              0.2222222222222222,
              "#7201a8"
             ],
             [
              0.3333333333333333,
              "#9c179e"
             ],
             [
              0.4444444444444444,
              "#bd3786"
             ],
             [
              0.5555555555555556,
              "#d8576b"
             ],
             [
              0.6666666666666666,
              "#ed7953"
             ],
             [
              0.7777777777777778,
              "#fb9f3a"
             ],
             [
              0.8888888888888888,
              "#fdca26"
             ],
             [
              1,
              "#f0f921"
             ]
            ],
            "type": "contour"
           }
          ],
          "contourcarpet": [
           {
            "colorbar": {
             "outlinewidth": 0,
             "ticks": ""
            },
            "type": "contourcarpet"
           }
          ],
          "heatmap": [
           {
            "colorbar": {
             "outlinewidth": 0,
             "ticks": ""
            },
            "colorscale": [
             [
              0,
              "#0d0887"
             ],
             [
              0.1111111111111111,
              "#46039f"
             ],
             [
              0.2222222222222222,
              "#7201a8"
             ],
             [
              0.3333333333333333,
              "#9c179e"
             ],
             [
              0.4444444444444444,
              "#bd3786"
             ],
             [
              0.5555555555555556,
              "#d8576b"
             ],
             [
              0.6666666666666666,
              "#ed7953"
             ],
             [
              0.7777777777777778,
              "#fb9f3a"
             ],
             [
              0.8888888888888888,
              "#fdca26"
             ],
             [
              1,
              "#f0f921"
             ]
            ],
            "type": "heatmap"
           }
          ],
          "heatmapgl": [
           {
            "colorbar": {
             "outlinewidth": 0,
             "ticks": ""
            },
            "colorscale": [
             [
              0,
              "#0d0887"
             ],
             [
              0.1111111111111111,
              "#46039f"
             ],
             [
              0.2222222222222222,
              "#7201a8"
             ],
             [
              0.3333333333333333,
              "#9c179e"
             ],
             [
              0.4444444444444444,
              "#bd3786"
             ],
             [
              0.5555555555555556,
              "#d8576b"
             ],
             [
              0.6666666666666666,
              "#ed7953"
             ],
             [
              0.7777777777777778,
              "#fb9f3a"
             ],
             [
              0.8888888888888888,
              "#fdca26"
             ],
             [
              1,
              "#f0f921"
             ]
            ],
            "type": "heatmapgl"
           }
          ],
          "histogram": [
           {
            "marker": {
             "colorbar": {
              "outlinewidth": 0,
              "ticks": ""
             }
            },
            "type": "histogram"
           }
          ],
          "histogram2d": [
           {
            "colorbar": {
             "outlinewidth": 0,
             "ticks": ""
            },
            "colorscale": [
             [
              0,
              "#0d0887"
             ],
             [
              0.1111111111111111,
              "#46039f"
             ],
             [
              0.2222222222222222,
              "#7201a8"
             ],
             [
              0.3333333333333333,
              "#9c179e"
             ],
             [
              0.4444444444444444,
              "#bd3786"
             ],
             [
              0.5555555555555556,
              "#d8576b"
             ],
             [
              0.6666666666666666,
              "#ed7953"
             ],
             [
              0.7777777777777778,
              "#fb9f3a"
             ],
             [
              0.8888888888888888,
              "#fdca26"
             ],
             [
              1,
              "#f0f921"
             ]
            ],
            "type": "histogram2d"
           }
          ],
          "histogram2dcontour": [
           {
            "colorbar": {
             "outlinewidth": 0,
             "ticks": ""
            },
            "colorscale": [
             [
              0,
              "#0d0887"
             ],
             [
              0.1111111111111111,
              "#46039f"
             ],
             [
              0.2222222222222222,
              "#7201a8"
             ],
             [
              0.3333333333333333,
              "#9c179e"
             ],
             [
              0.4444444444444444,
              "#bd3786"
             ],
             [
              0.5555555555555556,
              "#d8576b"
             ],
             [
              0.6666666666666666,
              "#ed7953"
             ],
             [
              0.7777777777777778,
              "#fb9f3a"
             ],
             [
              0.8888888888888888,
              "#fdca26"
             ],
             [
              1,
              "#f0f921"
             ]
            ],
            "type": "histogram2dcontour"
           }
          ],
          "mesh3d": [
           {
            "colorbar": {
             "outlinewidth": 0,
             "ticks": ""
            },
            "type": "mesh3d"
           }
          ],
          "parcoords": [
           {
            "line": {
             "colorbar": {
              "outlinewidth": 0,
              "ticks": ""
             }
            },
            "type": "parcoords"
           }
          ],
          "pie": [
           {
            "automargin": true,
            "type": "pie"
           }
          ],
          "scatter": [
           {
            "marker": {
             "colorbar": {
              "outlinewidth": 0,
              "ticks": ""
             }
            },
            "type": "scatter"
           }
          ],
          "scatter3d": [
           {
            "line": {
             "colorbar": {
              "outlinewidth": 0,
              "ticks": ""
             }
            },
            "marker": {
             "colorbar": {
              "outlinewidth": 0,
              "ticks": ""
             }
            },
            "type": "scatter3d"
           }
          ],
          "scattercarpet": [
           {
            "marker": {
             "colorbar": {
              "outlinewidth": 0,
              "ticks": ""
             }
            },
            "type": "scattercarpet"
           }
          ],
          "scattergeo": [
           {
            "marker": {
             "colorbar": {
              "outlinewidth": 0,
              "ticks": ""
             }
            },
            "type": "scattergeo"
           }
          ],
          "scattergl": [
           {
            "marker": {
             "colorbar": {
              "outlinewidth": 0,
              "ticks": ""
             }
            },
            "type": "scattergl"
           }
          ],
          "scattermapbox": [
           {
            "marker": {
             "colorbar": {
              "outlinewidth": 0,
              "ticks": ""
             }
            },
            "type": "scattermapbox"
           }
          ],
          "scatterpolar": [
           {
            "marker": {
             "colorbar": {
              "outlinewidth": 0,
              "ticks": ""
             }
            },
            "type": "scatterpolar"
           }
          ],
          "scatterpolargl": [
           {
            "marker": {
             "colorbar": {
              "outlinewidth": 0,
              "ticks": ""
             }
            },
            "type": "scatterpolargl"
           }
          ],
          "scatterternary": [
           {
            "marker": {
             "colorbar": {
              "outlinewidth": 0,
              "ticks": ""
             }
            },
            "type": "scatterternary"
           }
          ],
          "surface": [
           {
            "colorbar": {
             "outlinewidth": 0,
             "ticks": ""
            },
            "colorscale": [
             [
              0,
              "#0d0887"
             ],
             [
              0.1111111111111111,
              "#46039f"
             ],
             [
              0.2222222222222222,
              "#7201a8"
             ],
             [
              0.3333333333333333,
              "#9c179e"
             ],
             [
              0.4444444444444444,
              "#bd3786"
             ],
             [
              0.5555555555555556,
              "#d8576b"
             ],
             [
              0.6666666666666666,
              "#ed7953"
             ],
             [
              0.7777777777777778,
              "#fb9f3a"
             ],
             [
              0.8888888888888888,
              "#fdca26"
             ],
             [
              1,
              "#f0f921"
             ]
            ],
            "type": "surface"
           }
          ],
          "table": [
           {
            "cells": {
             "fill": {
              "color": "#EBF0F8"
             },
             "line": {
              "color": "white"
             }
            },
            "header": {
             "fill": {
              "color": "#C8D4E3"
             },
             "line": {
              "color": "white"
             }
            },
            "type": "table"
           }
          ]
         },
         "layout": {
          "annotationdefaults": {
           "arrowcolor": "#2a3f5f",
           "arrowhead": 0,
           "arrowwidth": 1
          },
          "coloraxis": {
           "colorbar": {
            "outlinewidth": 0,
            "ticks": ""
           }
          },
          "colorscale": {
           "diverging": [
            [
             0,
             "#8e0152"
            ],
            [
             0.1,
             "#c51b7d"
            ],
            [
             0.2,
             "#de77ae"
            ],
            [
             0.3,
             "#f1b6da"
            ],
            [
             0.4,
             "#fde0ef"
            ],
            [
             0.5,
             "#f7f7f7"
            ],
            [
             0.6,
             "#e6f5d0"
            ],
            [
             0.7,
             "#b8e186"
            ],
            [
             0.8,
             "#7fbc41"
            ],
            [
             0.9,
             "#4d9221"
            ],
            [
             1,
             "#276419"
            ]
           ],
           "sequential": [
            [
             0,
             "#0d0887"
            ],
            [
             0.1111111111111111,
             "#46039f"
            ],
            [
             0.2222222222222222,
             "#7201a8"
            ],
            [
             0.3333333333333333,
             "#9c179e"
            ],
            [
             0.4444444444444444,
             "#bd3786"
            ],
            [
             0.5555555555555556,
             "#d8576b"
            ],
            [
             0.6666666666666666,
             "#ed7953"
            ],
            [
             0.7777777777777778,
             "#fb9f3a"
            ],
            [
             0.8888888888888888,
             "#fdca26"
            ],
            [
             1,
             "#f0f921"
            ]
           ],
           "sequentialminus": [
            [
             0,
             "#0d0887"
            ],
            [
             0.1111111111111111,
             "#46039f"
            ],
            [
             0.2222222222222222,
             "#7201a8"
            ],
            [
             0.3333333333333333,
             "#9c179e"
            ],
            [
             0.4444444444444444,
             "#bd3786"
            ],
            [
             0.5555555555555556,
             "#d8576b"
            ],
            [
             0.6666666666666666,
             "#ed7953"
            ],
            [
             0.7777777777777778,
             "#fb9f3a"
            ],
            [
             0.8888888888888888,
             "#fdca26"
            ],
            [
             1,
             "#f0f921"
            ]
           ]
          },
          "colorway": [
           "#636efa",
           "#EF553B",
           "#00cc96",
           "#ab63fa",
           "#FFA15A",
           "#19d3f3",
           "#FF6692",
           "#B6E880",
           "#FF97FF",
           "#FECB52"
          ],
          "font": {
           "color": "#2a3f5f"
          },
          "geo": {
           "bgcolor": "white",
           "lakecolor": "white",
           "landcolor": "#E5ECF6",
           "showlakes": true,
           "showland": true,
           "subunitcolor": "white"
          },
          "hoverlabel": {
           "align": "left"
          },
          "hovermode": "closest",
          "mapbox": {
           "style": "light"
          },
          "paper_bgcolor": "white",
          "plot_bgcolor": "#E5ECF6",
          "polar": {
           "angularaxis": {
            "gridcolor": "white",
            "linecolor": "white",
            "ticks": ""
           },
           "bgcolor": "#E5ECF6",
           "radialaxis": {
            "gridcolor": "white",
            "linecolor": "white",
            "ticks": ""
           }
          },
          "scene": {
           "xaxis": {
            "backgroundcolor": "#E5ECF6",
            "gridcolor": "white",
            "gridwidth": 2,
            "linecolor": "white",
            "showbackground": true,
            "ticks": "",
            "zerolinecolor": "white"
           },
           "yaxis": {
            "backgroundcolor": "#E5ECF6",
            "gridcolor": "white",
            "gridwidth": 2,
            "linecolor": "white",
            "showbackground": true,
            "ticks": "",
            "zerolinecolor": "white"
           },
           "zaxis": {
            "backgroundcolor": "#E5ECF6",
            "gridcolor": "white",
            "gridwidth": 2,
            "linecolor": "white",
            "showbackground": true,
            "ticks": "",
            "zerolinecolor": "white"
           }
          },
          "shapedefaults": {
           "line": {
            "color": "#2a3f5f"
           }
          },
          "ternary": {
           "aaxis": {
            "gridcolor": "white",
            "linecolor": "white",
            "ticks": ""
           },
           "baxis": {
            "gridcolor": "white",
            "linecolor": "white",
            "ticks": ""
           },
           "bgcolor": "#E5ECF6",
           "caxis": {
            "gridcolor": "white",
            "linecolor": "white",
            "ticks": ""
           }
          },
          "title": {
           "x": 0.05
          },
          "xaxis": {
           "automargin": true,
           "gridcolor": "white",
           "linecolor": "white",
           "ticks": "",
           "title": {
            "standoff": 15
           },
           "zerolinecolor": "white",
           "zerolinewidth": 2
          },
          "yaxis": {
           "automargin": true,
           "gridcolor": "white",
           "linecolor": "white",
           "ticks": "",
           "title": {
            "standoff": 15
           },
           "zerolinecolor": "white",
           "zerolinewidth": 2
          }
         }
        }
       }
      },
      "text/html": [
       "<div>\n",
       "        \n",
       "        \n",
       "            <div id=\"6d154843-75fc-425a-8531-e7c91d38012f\" class=\"plotly-graph-div\" style=\"height:525px; width:100%;\"></div>\n",
       "            <script type=\"text/javascript\">\n",
       "                require([\"plotly\"], function(Plotly) {\n",
       "                    window.PLOTLYENV=window.PLOTLYENV || {};\n",
       "                    \n",
       "                if (document.getElementById(\"6d154843-75fc-425a-8531-e7c91d38012f\")) {\n",
       "                    Plotly.newPlot(\n",
       "                        '6d154843-75fc-425a-8531-e7c91d38012f',\n",
       "                        [{\"mode\": \"lines\", \"name\": \"1e-05\", \"type\": \"scatter\", \"y\": [0.48935282630680793, 0.4893439507390966, 0.48933507542451843, 0.48932620036306596, 0.48931732555473134, 0.489308450999507, 0.4892995766973856, 0.48929070264835933, 0.4892818288524208, 0.4892729553095623, 0.4892640820197763, 0.48925520898305525, 0.48924633619939156, 0.4892374636687777, 0.48922859139120606, 0.4892197193666691, 0.48921084759515915, 0.4892019760766687, 0.48919310481119027, 0.48918423379871606, 0.4891753630392387, 0.4891664925327505, 0.4891576222792442, 0.4891487522787117, 0.4891398825311458, 0.48913101303653866, 0.489122143794883, 0.4891132748061713, 0.48910440607039557, 0.48909553758754876, 0.48908666935762274, 0.4890778013806104, 0.489068933656504, 0.48906006618529596, 0.4890511989669786, 0.48904233200154473, 0.48903346528898634, 0.4890245988292963, 0.48901573262246645, 0.4890068666684897, 0.48899800096735857, 0.4889891355190649, 0.48898027032360164, 0.4889714053809613, 0.48896254069113587, 0.48895367625411806, 0.48894481206990015, 0.48893594813847496, 0.48892708445983457, 0.48891822103397137, 0.48890935786087797, 0.48890049494054677, 0.48889163227297006, 0.4888827698581406, 0.48887390769605044, 0.4888650457866924, 0.4888561841300586, 0.4888473227261416, 0.48883846157493405, 0.4888296006764278, 0.4888207400306158, 0.48881187963749045, 0.4888030194970441, 0.48879415960926914, 0.4887852999741579, 0.4887764405917032, 0.488767581461897, 0.4887587225847322, 0.48874986396020087, 0.48874100558829586, 0.4887321474690091, 0.4887232896023333, 0.4887144319882609, 0.4887055746267844, 0.4886967175178961, 0.48868786066158854, 0.4886790040578542, 0.4886701477066853, 0.4886612916080745, 0.4886524357620141, 0.4886435801684966, 0.48863472482751463, 0.48862586973906036, 0.48861701490312626, 0.48860816031970494, 0.4885993059887887, 0.4885904519103701, 0.48858159808444146, 0.4885727445109953, 0.488563891190024, 0.4885550381215201, 0.4885461853054761, 0.48853733274188427, 0.48852848043073693, 0.4885196283720269, 0.48851077656574643, 0.48850192501188794, 0.488493073710444, 0.48848422266140684, 0.488475371864769, 0.4884665213205232, 0.48845767102866156, 0.4884488209891765, 0.4884399712020607, 0.4884311216673065, 0.48842227238490643, 0.48841342335485255, 0.488404574577138, 0.4883957260517545, 0.4883868777786952, 0.4883780297579518, 0.48836918198951734, 0.48836033447338406, 0.48835148720954447, 0.48834264019799095, 0.4883337934387158, 0.48832494693171175, 0.48831610067697123, 0.4883072546744866, 0.48829840892424997, 0.48828956342625446, 0.4882807181804922, 0.48827187318695553, 0.48826302844563707, 0.48825418395652903, 0.4882453397196243, 0.48823649573491484, 0.48822765200239343, 0.4882188085220526, 0.48820996529388444, 0.4882011223178817, 0.48819227959403666, 0.4881834371223419, 0.4881745949027898, 0.48816575293537273, 0.4881569112200833, 0.48814806975691405, 0.4881392285458573, 0.4881303875869055, 0.4881215468800509, 0.4881127064252862, 0.4881038662226041, 0.48809502627199647, 0.4880861865734563, 0.4880773471269757, 0.48806850793254736, 0.4880596689901636, 0.4880508302998169, 0.48804199186149966, 0.4880331536752044, 0.48802431574092364, 0.4880154780586497, 0.48800664062837523, 0.4879978034500924, 0.487988966523794, 0.4879801298494725, 0.48797129342711987, 0.48796245725672893, 0.4879536213382923, 0.4879447856718021, 0.48793595025725095, 0.48792711509463144, 0.48791828018393557, 0.4879094455251565, 0.48790061111828625, 0.4878917769633172, 0.487882943060242, 0.487874109409053, 0.4878652760097428, 0.48785644286230373, 0.4878476099667284, 0.4878387773230091, 0.4878299449311384, 0.4878211127911088, 0.4878122809029129, 0.4878034492665426, 0.48779461788199086, 0.48778578674925, 0.4877769558683127, 0.487768125239171, 0.4877592948618178, 0.4877504647362453, 0.48774163486244587, 0.4877328052404122, 0.487723975870137, 0.48771514675161204, 0.48770631788483026, 0.48769748926978396, 0.48768866090646584, 0.48767983279486815, 0.4876710049349835, 0.4876621773268042, 0.4876533499703229, 0.4876445228655318, 0.48763569601242357, 0.48762686941099065, 0.4876180430612255, 0.48760921696312065, 0.4876003911166684, 0.48759156552186156]}, {\"mode\": \"lines\", \"name\": \"2.782559402207126e-05\", \"type\": \"scatter\", \"y\": [0.4893370049427999, 0.4893123097178643, 0.4892876164526896, 0.4892629251471124, 0.48923823580096987, 0.48921354841409875, 0.4891888629863357, 0.4891641795175178, 0.48913949800748185, 0.48911481845606464, 0.48909014086310326, 0.48906546522843464, 0.4890407915518956, 0.48901611983332294, 0.48899145007255385, 0.48896678226942514, 0.488942116423774, 0.48891745253543745, 0.4888927906042522, 0.4888681306300555, 0.4888434726126844, 0.4888188165519757, 0.4887941624477668, 0.48876951029989485, 0.48874486010819645, 0.4887202118725091, 0.4886955655926698, 0.48867092126851575, 0.48864627889988405, 0.4886216384866119, 0.4885970000285365, 0.4885723635254949, 0.48854772897732457, 0.4885230963838625, 0.48849846574494593, 0.48847383706041225, 0.48844921033009864, 0.4884245855538424, 0.4883999627314809, 0.48837534186285103, 0.48835072294779075, 0.48832610598613696, 0.4883014909777272, 0.48827687792239854, 0.4882522668199887, 0.48822765767033477, 0.4882030504732746, 0.488178445228645, 0.48815384193628386, 0.48812924059602825, 0.4881046412077161, 0.48808004377118425, 0.48805544828627095, 0.48803085475281305, 0.4880062631706482, 0.4879816735396142, 0.4879570858595484, 0.4879325001302883, 0.4879079163516714, 0.48788333452353555, 0.4878587546457182, 0.4878341767180568, 0.48780960074038926, 0.487785026712553, 0.4877604546343857, 0.4877358845057249, 0.48771131632640874, 0.4876867500962744, 0.48766218581515985, 0.48763762348290257, 0.48761306309934077, 0.4875885046643115, 0.4875639481776532, 0.487539393639203, 0.4875148410487992, 0.4874902904062793, 0.48746574171148127, 0.4874411949642429, 0.4874166501644021, 0.48739210731179644, 0.4873675664062641, 0.4873430274476427, 0.4873184904357703, 0.4872939553704849, 0.4872694222516243, 0.4872448910790261, 0.48722036185252876, 0.48719583457197024, 0.4871713092371881, 0.48714678584802057, 0.48712226440430584, 0.48709774490588154, 0.48707322735258596, 0.4870487117442571, 0.487024198080733, 0.4869996863618516, 0.48697517658745115, 0.48695066875736975, 0.4869261628714454, 0.4869016589295164, 0.48687715693142075, 0.48685265687699647, 0.48682815876608215, 0.4868036625985155, 0.48677916837413504, 0.4867546760927788, 0.48673018575428506, 0.4867056973584921, 0.48668121090523814, 0.4866567263943613, 0.4866322438257002, 0.48660776319909255, 0.4865832845143774, 0.4865588077713925, 0.48653433296997634, 0.4865098601099675, 0.4864853891912038, 0.4864609202135241, 0.4864364531767668, 0.48641198808076996, 0.48638752492537196, 0.4863630637104116, 0.4863386044357273, 0.48631414710115717, 0.48628969170653985, 0.4862652382517139, 0.48624078673651766, 0.4862163371607898, 0.4861918895243687, 0.4861674438270931, 0.4861430000688013, 0.48611855824933203, 0.48609411836852384, 0.48606968042621507, 0.4860452444222448, 0.48602081035645117, 0.48599637822867314, 0.48597194803874944, 0.4859475197865183, 0.4859230934718186, 0.4858986690944891, 0.4858742466543687, 0.4858498261512955, 0.48582540758510884, 0.485800990955647, 0.485776576262749, 0.4857521635062535, 0.48572775268599955, 0.48570334380182556, 0.48567893685357055, 0.48565453184107327, 0.48563012876417244, 0.4856057276227071, 0.48558132841651636, 0.48555693114543846, 0.4855325358093127, 0.48550814240797796, 0.48548375094127316, 0.4854593614090371, 0.48543497381110867, 0.48541058814732724, 0.48538620441753133, 0.4853618226215601, 0.4853374427592525, 0.48531306483044756, 0.4852886888349845, 0.48526431477270204, 0.48523994264343945, 0.48521557244703567, 0.48519120418332995, 0.48516683785216125, 0.48514247345336853, 0.4851181109867912, 0.48509375045226827, 0.48506939184963893, 0.4850450351787422, 0.48502068043941754, 0.4849963276315037, 0.4849719767548402, 0.4849476278092665, 0.4849232807946211, 0.4848989357107439, 0.4848745925574739, 0.4848502513346503, 0.4848259120421127, 0.4848015746796999, 0.48477723924725175, 0.484752905744607, 0.48472857417160553, 0.4847042445280864, 0.4846799168138891, 0.4846555910288529, 0.4846312671728173, 0.4846069452456215, 0.484582625247105, 0.48455830717710735, 0.4845339910354683, 0.48450967682202656, 0.4844853645366221, 0.48446105417909424]}, {\"mode\": \"lines\", \"name\": \"7.742636826811278e-05\", \"type\": \"scatter\", \"y\": [0.48929298317416514, 0.48922427939452484, 0.4891555907852228, 0.4890869173427445, 0.4890182590635756, 0.4889496159442027, 0.4888809879811137, 0.4888123751707964, 0.4887437775097404, 0.4886751949944356, 0.4886066276213728, 0.4885380753870439, 0.4884695382879409, 0.4884010163205573, 0.4883325094813875, 0.488264017766926, 0.488195541173669, 0.48812707969811275, 0.4880586333367548, 0.4879902020860935, 0.4879217859426279, 0.48785338490285785, 0.487784998963284, 0.4877166281204079, 0.487648272370732, 0.4875799317107592, 0.4875116061369941, 0.487443295645941, 0.4873750002341055, 0.4873067198979945, 0.487238454634115, 0.4871702044389752, 0.48710196930908406, 0.4870337492409512, 0.4869655442310872, 0.4868973542760035, 0.4868291793722124, 0.48676101951622686, 0.4866928747045608, 0.4866247449337286, 0.4865566302002461, 0.4864885305006295, 0.4864204458313959, 0.4863523761890632, 0.4862843215701504, 0.48621628197117667, 0.48614825738866274, 0.4860802478191298, 0.4860122532590997, 0.48594427370509535, 0.4858763091536408, 0.48580835960125984, 0.4857404250444784, 0.48567250547982227, 0.4856046009038185, 0.485536711312995, 0.4854688367038798, 0.48540097707300295, 0.4853331324168943, 0.48526530273208485, 0.48519748801510665, 0.48512968826249203, 0.4850619034707746, 0.4849941336364888, 0.4849263787561696, 0.4848586388263529, 0.48479091384357537, 0.4847232038043747, 0.484655508705289, 0.48458782854285753, 0.4845201633136204, 0.48445251301411846, 0.484384877640893, 0.48431725719048657, 0.4842496516594424, 0.4841820610443046, 0.48411448534161816, 0.48404692454792847, 0.48397937865978197, 0.4839118476737262, 0.48384433158630913, 0.48377683039407954, 0.4837093440935875, 0.4836418726813833, 0.48357441615401825, 0.4835069745080446, 0.48343954774001535, 0.48337213584648414, 0.48330473882400576, 0.48323735666913537, 0.48316998937842937, 0.48310263694844474, 0.4830352993757392, 0.48296797665687136, 0.48290066878840077, 0.4828333757668878, 0.4827660975888934, 0.48269883425097915, 0.48263158574970816, 0.48256435208164333, 0.4824971332433498, 0.4824299292313921, 0.48236274004233626, 0.4822955656727489, 0.48222840611919776, 0.482161261378251, 0.4820941314464776, 0.48202701632044787, 0.48195991599673244, 0.48189283047190257, 0.4818257597425309, 0.4817587038051906, 0.48169166265645563, 0.4816246362929004, 0.4815576247111011, 0.4814906279076339, 0.48142364587907555, 0.48135667862200443, 0.4812897261329994, 0.48122278840864013, 0.48115586544550654, 0.4810889572401803, 0.4810220637892432, 0.4809551850892782, 0.4808883211368688, 0.48082147192859936, 0.48075463746105535, 0.4806878177308226, 0.4806210127344881, 0.48055422246863916, 0.48048744692986456, 0.48042068611475347, 0.4803539400198957, 0.48028720864188224, 0.480220491977305, 0.4801537900227558, 0.48008710277482847, 0.48002043023011653, 0.47995377238521547, 0.47988712923672033, 0.47982050078122784, 0.4797538870153355, 0.47968728793564064, 0.47962070353874275, 0.47955413382124107, 0.4794875787797362, 0.4794210384108296, 0.47935451271112306, 0.4792880016772192, 0.4792215053057221, 0.47915502359323586, 0.47908855653636595, 0.47902210413171825, 0.47895566637589976, 0.4788892432655178, 0.47882283479718113, 0.4787564409674988, 0.4786900617730806, 0.4786236972105379, 0.47855734727648186, 0.4784910119675249, 0.47842469128028037, 0.4783583852113622, 0.4782920937573854, 0.47822581691496524, 0.47815955468071825, 0.4780933070512614, 0.47802707402321326, 0.47796085559319196, 0.47789465175781753, 0.47782846251370975, 0.47776228785749014, 0.47769612778578086, 0.47762998229520437, 0.47756385138238416, 0.4774977350439446, 0.477431633276511, 0.47736554607670917, 0.47729947344116563, 0.47723341536650815, 0.47716737184936475, 0.477101342886365, 0.47703532847413815, 0.4769693286093154, 0.47690334328852796, 0.47683737250840774, 0.47677141626558833, 0.4767054745567037, 0.4766395473783879, 0.47657363472727643, 0.47650773660000584, 0.476441852993213, 0.4763759839035356, 0.4763101293276123, 0.47624428926208245, 0.476178463703586, 0.47611265264876457, 0.4760468560942591, 0.4759810740367126, 0.47591530647276825]}, {\"mode\": \"lines\", \"name\": \"0.00021544346900318823\", \"type\": \"scatter\", \"y\": [0.48917050637555654, 0.4889794280848327, 0.48878846717976704, 0.48859762358468767, 0.4884068972239724, 0.48821628802204803, 0.48802579590339185, 0.4878354207925293, 0.48764516261403573, 0.487455021292536, 0.48726499675270396, 0.4870750889192627, 0.48688529771698497, 0.486695623070692, 0.486506064905255, 0.48631662314559376, 0.48612729771667706, 0.4859380885435232, 0.4857489955511995, 0.4855600186648218, 0.4853711578095555, 0.48518241291061415, 0.4849937838932611, 0.4848052706828082, 0.48461687320461605, 0.48442859138409405, 0.4842404251467004, 0.48405237441794235, 0.4838644391233753, 0.4836766191886041, 0.4834889145392814, 0.4833013251011089, 0.483113850799837, 0.48292649156126444, 0.4827392473112385, 0.4825521179756553, 0.4823651034804587, 0.48217820375164167, 0.48199141871524503, 0.48180474829735853, 0.48161819242412013, 0.4814317510217154, 0.4812454240163792, 0.48105921133439383, 0.4808731129020903, 0.48068712864584734, 0.48050125849209213, 0.4803155023673001, 0.4801298601979944, 0.4799443319107465, 0.4797589174321757, 0.47957361668894927, 0.47938842960778266, 0.4792033561154389, 0.47901839613872926, 0.4788335496045127, 0.47864881643969615, 0.478464196571234, 0.47827968992612846, 0.47809529643143, 0.47791101601423636, 0.47772684860169273, 0.4775427941209924, 0.47735885249937593, 0.47717502366413184, 0.47699130754259583, 0.4768077040621511, 0.4766242131502287, 0.4764408347343068, 0.47625756874191105, 0.47607441510061466, 0.475891373738038, 0.47570844458184863, 0.47552562755976185, 0.47534292259953986, 0.47516032962899246, 0.4749778485759759, 0.4747954793683947, 0.47461322193419964, 0.47443107620138886, 0.4742490420980077, 0.4740671195521483, 0.4738853084919504, 0.4737036088455997, 0.4735220205413299, 0.4733405435074211, 0.4731591776722003, 0.47297792296404145, 0.4727967793113652, 0.4726157466426395, 0.47243482488637834, 0.47225401397114286, 0.472073313825541, 0.4718927243782272, 0.47171224555790237, 0.4715318772933142, 0.47135161951325755, 0.47117147214657257, 0.47099143512214714, 0.47081150836891505, 0.4706316918158565, 0.4704519853919985, 0.47027238902641405, 0.4700929026482229, 0.46991352618659077, 0.46973425957073, 0.469555102729899, 0.4693760555934025, 0.4691971180905915, 0.46901829015086344, 0.4688395717036609, 0.4686609626784743, 0.46848246300483853, 0.4683040726123352, 0.4681257914305924, 0.4679476193892832, 0.4677695564181276, 0.46759160244689135, 0.4674137574053857, 0.46723602122346797, 0.4670583938310414, 0.4668808751580556, 0.46670346513450456, 0.4665261636904297, 0.4663489707559168, 0.46617188626109857, 0.46599491013615224, 0.4658180423113014, 0.46564128271681515, 0.465464631283008, 0.4652880879402402, 0.4651116526189173, 0.46493532524949077, 0.4647591057624571, 0.4645829940883582, 0.46440699015778175, 0.4642310939013608, 0.46405530524977334, 0.46387962413374306, 0.46370405048403873, 0.4635285842314745, 0.4633532253069096, 0.4631779736412487, 0.4630028291654414, 0.46282779181048245, 0.462652861507412, 0.462478038187315, 0.46230332178132155, 0.4621287122206065, 0.46195420943639026, 0.46177981335993773, 0.4616055239225591, 0.4614313410556091, 0.46125726469048745, 0.46108329475863885, 0.46090943119155275, 0.4607356739207631, 0.4605620228778493, 0.4603884779944346, 0.4602150392021878, 0.46004170643282166, 0.45986847961809413, 0.45969535868980727, 0.4595223435798081, 0.4593494342199882, 0.4591766305422833, 0.45900393247867377, 0.4588313399611847, 0.45865885292188563, 0.45848647129289, 0.4583141950063562, 0.45814202399448634, 0.4579699581895277, 0.45779799752377104, 0.4576261419295517, 0.4574543913392493, 0.4572827456852878, 0.45711120490013496, 0.45693976891630284, 0.4567684376663477, 0.4565972110828701, 0.4564260890985139, 0.45625507164596785, 0.45608415865796414, 0.455913350067279, 0.4557426458067331, 0.4555720458091904, 0.4554015500075591, 0.45523115833479066, 0.45506087072388157, 0.45489068710787084, 0.45472060741984205, 0.4545506315929222, 0.45438075956028184, 0.45421099125513587, 0.4540413266107422, 0.4538717655604024, 0.4537023080374619, 0.4535329539753097, 0.45336370330737813]}, {\"mode\": \"lines\", \"name\": \"0.0005994842503189409\", \"type\": \"scatter\", \"y\": [0.48882983429133403, 0.48829887539317396, 0.48776882380323966, 0.48723967789455697, 0.48671143604311096, 0.4861840966278413, 0.485657658030637, 0.4851321186363301, 0.48460747683269106, 0.4840837310104237, 0.48356087956315846, 0.4830389208874484, 0.4825178533827636, 0.4819976754514852, 0.481478385498901, 0.4809599819331991, 0.4804424631654635, 0.4799258276096685, 0.4794100736826732, 0.47889519980421646, 0.47838120439691195, 0.4778680858862419, 0.47735584270055315, 0.4768444732710509, 0.47633397603179384, 0.4758243494196894, 0.4753155918744876, 0.4748077018387765, 0.4743006777579771, 0.4737945180803379, 0.4732892212569295, 0.47278478574164, 0.47228120999116957, 0.4717784924650254, 0.47127663162551603, 0.4707756259377473, 0.47027547386961616, 0.46977617389180637, 0.46927772447778293, 0.46878012410378767, 0.4682833712488327, 0.46778746439469726, 0.4672924020259209, 0.4667981826298001, 0.46630480469638175, 0.46581226671845916, 0.46532056719156645, 0.46482970461397405, 0.46433967748668276, 0.46385048431341996, 0.4633621236006341, 0.4628745938574894, 0.4623878935958618, 0.46190202133033237, 0.4614169755781841, 0.4609327548593963, 0.46044935769663975, 0.4599667826152707, 0.45948502814332837, 0.4590040928115276, 0.45852397515325544, 0.4580446737045654, 0.45756618700417356, 0.45708851359345276, 0.4566116520164282, 0.4561356008197726, 0.45566035855280135, 0.45518592376746725, 0.4547122950183563, 0.45423947086268285, 0.4537674498602844, 0.45329623057361695, 0.4528258115677503, 0.45235619141036354, 0.4518873686717397, 0.4514193419247613, 0.4509521097449057, 0.4504856707102401, 0.4500200234014174, 0.4495551664016705, 0.44909109829680843, 0.4486278176752115, 0.4481653231278257, 0.4477036132481597, 0.44724268663227895, 0.4467825418788009, 0.4463231775888912, 0.4458645923662583, 0.4454067848171491, 0.44494975355034455, 0.4444934971771544, 0.4440380143114134, 0.44358330356947584, 0.4431293635702117, 0.44267619293500104, 0.4422237902877312, 0.4417721542547899, 0.4413212834650626, 0.440871176549927, 0.440421832143249, 0.43997324888137734, 0.43952542540313977, 0.4390783603498386, 0.4386320523652456, 0.438186500095598, 0.4377417021895938, 0.43729765729838693, 0.4368543640755835, 0.4364118211772368, 0.43597002726184325, 0.43552898099033654, 0.4350886810260857, 0.43464912603488853, 0.4342103146849677, 0.4337722456469672, 0.4333349175939463, 0.43289832920137655, 0.43246247914713704, 0.4320273661115097, 0.4315929887771745, 0.4311593458292064, 0.43072643595507, 0.43029425784461495, 0.42986281019007255, 0.42943209168605045, 0.4290021010295292, 0.42857283691985665, 0.4281442980587452, 0.42771648315026667, 0.4272893909008474, 0.42686302001926496, 0.42643736921664355, 0.4260124372064495, 0.4255882227044872, 0.42516472442889464, 0.42474194110013946, 0.4243198714410142, 0.4238985141766328, 0.42347786803442544, 0.4230579317441347, 0.42263870403781234, 0.4222201836498132, 0.4218023693167922, 0.4213852597777002, 0.42096885377377946, 0.420553150048559, 0.42013814734785104, 0.41972384441974786, 0.4193102400146146, 0.41889733288508857, 0.41848512178607294, 0.418073605474733, 0.41766278271049245, 0.41725265225502906, 0.4168432128722706, 0.4164344633283904, 0.41602640239180416, 0.41561902883316415, 0.4152123414253575, 0.41480633894349955, 0.41440102016493213, 0.41399638386921755, 0.41359242883813585, 0.41318915385568056, 0.41278655770805356, 0.41238463918366264, 0.4119833970731169, 0.4115828301692216, 0.4111829372669757, 0.4107837171635676, 0.41038516865837005, 0.4099872905529374, 0.40959008165100114, 0.40919354075846553, 0.4087976666834046, 0.4084024582360569, 0.4080079142288229, 0.40761403347625996, 0.40722081479507877, 0.4068282570041403, 0.40643635892445007, 0.4060451193791554, 0.4056545371935416, 0.40526461119502794, 0.4048753402131629, 0.40448672307962164, 0.4040987586282012, 0.4037114456948168, 0.4033247831174978, 0.402938769736385, 0.40255340439372467, 0.40216868593386706, 0.4017846132032604, 0.40140118505044886, 0.40101840032606745, 0.4006362578828388, 0.4002547565755693, 0.3998738952611453, 0.3994936727985291, 0.3991140880487553]}, {\"mode\": \"lines\", \"name\": \"0.0016681005372000592\", \"type\": \"scatter\", \"y\": [0.4878828763916079, 0.48641107698001756, 0.48494626886231845, 0.48348841718512126, 0.4820374872713178, 0.4805934446191859, 0.47915625490149805, 0.4777258839646363, 0.47630229782770933, 0.47488546268167625, 0.4734753448884731, 0.4720719109801447, 0.47067512765798125, 0.46928496179165813, 0.46790138041838064, 0.4665243507420344, 0.46515384013233746, 0.4637898161239984, 0.4624322464158797, 0.46108109887016246, 0.45973634151151754, 0.45839794252628147, 0.4570658702616335, 0.45574009322478054, 0.4544205800821436, 0.45310729965854935, 0.451800220936426, 0.4504993130550029, 0.44920454530951415, 0.4479158871504064, 0.446633308182551, 0.4453567781644592, 0.4440862670075027, 0.4428217447751368, 0.44156318168212894, 0.44031054809378933, 0.4390638145252074, 0.4378229516404907, 0.4365879302520083, 0.43535872131963876, 0.4341352959500197, 0.4329176253958037, 0.43170568105491636, 0.43049943446981964, 0.4292988573267759, 0.42810392145512016, 0.42691459882653204, 0.4257308615543134, 0.42455268189267015, 0.42338003223599513, 0.4222128851181577, 0.42105121321179534, 0.41989498932760855, 0.4187441864136604, 0.41759877755467906, 0.4164587359713636, 0.415324035019694, 0.4141946481902441, 0.4130705491074984, 0.4119517115291725, 0.41083810934553544, 0.4097297165787385, 0.40862650738214445, 0.4075284560396618, 0.40643553696508217, 0.40534772470141994, 0.4042649939202584, 0.40318731942109415, 0.4021146761306902, 0.4010470391024288, 0.39998438351566845, 0.3989266846751047, 0.39787391801013455, 0.39682605907422164, 0.39578308354426855, 0.3947449672199883, 0.3937116860232824, 0.39268321599761963, 0.39165953330741965, 0.3906406142374377, 0.38962643519215573, 0.3886169726951733, 0.38761220338860297, 0.3866121040324692, 0.38561665150410956, 0.3846258227975793, 0.38363959502305894, 0.382657945406265, 0.3816808512878628, 0.3807082901228838, 0.37974023948014535, 0.37877667704167206, 0.37781758060212167, 0.37686292806821386, 0.37591269745816125, 0.37496686690110287, 0.37402541463654176, 0.37308831901378486, 0.3721555584913854, 0.37122711163658845, 0.3703029571247795, 0.36938307373893575, 0.36846744036907925, 0.36755603601173464, 0.36664883976938795, 0.3657458308499489, 0.36484698856621633, 0.3639522923353457, 0.3630617216783186, 0.36217525621941754, 0.36129287568569984, 0.36041455990647764, 0.35954028881279787, 0.3586700424369267, 0.3578038009118354, 0.35694154447068954, 0.3560832534463405, 0.3552289082708194, 0.35437848947483436, 0.35353197768726874, 0.35268935363468457, 0.3518505981408249, 0.35101569212612244, 0.3501846166072077, 0.3493573526964216, 0.34853388160132937, 0.3477141846242377, 0.3468982431617137, 0.3460860387041068, 0.3452775528350732, 0.3444727672311015, 0.34367166366104235, 0.3428742239856403, 0.3420804301570664, 0.3412902642184551, 0.3405037083034425, 0.33972074463570734, 0.33894135552851373, 0.3381655233842571, 0.33739323069401156, 0.33662446003708074, 0.335859194080549, 0.3350974155788372, 0.3343391073732589, 0.3335842523915799, 0.33283283364757943, 0.33208483424061386, 0.3313402373551827, 0.3305990262604964, 0.32986118431004685, 0.3291266949411794, 0.3283955416746683, 0.3276677081142924, 0.326943177946415, 0.3262219349395645, 0.32550396294401757, 0.3247892458913847, 0.3240777677941973, 0.3233695127454974, 0.3226644649184295, 0.3219626085658336, 0.3212639280198417, 0.32056840769147527, 0.31987603207024484, 0.3191867857237523, 0.3185006532972947, 0.31781761951347004, 0.3171376691717851, 0.3164607871482658, 0.3157869583950687, 0.31511616794009495, 0.31444840088660625, 0.31378364241284235, 0.3131218777716413, 0.3124630922900606, 0.3118072713690007, 0.31115440048283144, 0.3105044651790182, 0.3098574510777519, 0.3092133438715803, 0.30857212932504063, 0.30793379327429465, 0.3072983216267656, 0.3066657003607765, 0.306035915525191, 0.3054089532390553, 0.3047847996912426, 0.3041634411400985, 0.3035448639130895, 0.30292905440645157, 0.3023159990848422, 0.30170568448099305, 0.30109809719536496, 0.3004932238958043, 0.29989105131720156, 0.29929156626115117, 0.2986947555956134, 0.2981006062545781, 0.29750910523772933, 0.2969202396101127]}, {\"mode\": \"lines\", \"name\": \"0.004641588833612777\", \"type\": \"scatter\", \"y\": [0.48525551623811414, 0.48120349054674805, 0.4772048754475572, 0.47325893186018253, 0.46936493108149924, 0.4655221546393018, 0.461729894148053, 0.4579874511666703, 0.4542941370583198, 0.45064927285218787, 0.44705218910720657, 0.4435022257777004, 0.439998732080931, 0.43654106636651024, 0.43312859598765935, 0.42976069717428167, 0.42643675490782984, 0.423156162797938, 0.41991832296079656, 0.4167226458992425, 0.41356855038454243, 0.41045546333984545, 0.4073828197252796, 0.4043500624246721, 0.40135664213386596, 0.39840201725061525, 0.39548565376603345, 0.39260702515757456, 0.3897656122835241, 0.3869609032789798, 0.38419239345329964, 0.38145958518900003, 0.37876198784207643, 0.3760991176437355, 0.37347049760351164, 0.37087565741375106, 0.36831413335544466, 0.3657854682053905, 0.3632892111446648, 0.36082491766838637, 0.358392149496754, 0.35599047448733956, 0.35361946654861837, 0.3512787055547208, 0.3489677772613872, 0.34668627322310763, 0.34443379071143176, 0.34220993263443233, 0.3400143074573044, 0.3378465291240851, 0.33570621698047876, 0.3335929956977704, 0.33150649519781394, 0.32944635057907795, 0.32741220204373633, 0.32540369482578585, 0.32342047912018096, 0.3214622100129658, 0.3195285474123945, 0.31761915598102153, 0.3157337050687521, 0.3138718686468357, 0.3120333252427927, 0.310217757876258, 0.3084248539957301, 0.30665430541621375, 0.3049058082577411, 0.3031790628847613, 0.3014737738463851, 0.2997896498174727, 0.2981264035405525, 0.2964837517685597, 0.2948614152083834, 0.2932591184652089, 0.2916765899876466, 0.2901135620136344, 0.2885697705171036, 0.28704495515539763, 0.2855388592174321, 0.28405122957258633, 0.2825818166203165, 0.28113037424047926, 0.27969665974435637, 0.27828043382637013, 0.2768814605164801, 0.2754995071332516, 0.27413434423758626, 0.2727857455871052, 0.2714534880911755, 0.27013735176657194, 0.26883711969376384, 0.2675525779738177, 0.26628351568590974, 0.26502972484543574, 0.2637910003627136, 0.2625671400022666, 0.2613579443426832, 0.26016321673704124, 0.2589827632738913, 0.2578163927387901, 0.2566639165763769, 0.25552514885298444, 0.25439990621977715, 0.25328800787640987, 0.25218927553519893, 0.25110353338579794, 0.250030608060373, 0.24897032859926815, 0.24792252641715568, 0.2468870352696631, 0.24586369122047197, 0.24485233260887945, 0.24385280001781834, 0.24286493624232783, 0.24188858625846857, 0.24092359719267684, 0.23996981829154987, 0.23902710089205864, 0.2380952983921794, 0.23717426622194046, 0.23626386181487605, 0.235363944579884, 0.23447437587347986, 0.23359501897244123, 0.23272573904683974, 0.23186640313345153, 0.23101688010954383, 0.23017704066703043, 0.22934675728699205, 0.2285259042145559, 0.2277143574341287, 0.2269119946449802, 0.22611869523716982, 0.22533434026781335, 0.2245588124376838, 0.22379199606814265, 0.22303377707839558, 0.22228404296307014, 0.2215426827701076, 0.22080958707896864, 0.22008464797914434, 0.21936775904897132, 0.21865881533474507, 0.217957713330128, 0.21726435095584723, 0.21657862753967885, 0.21590044379671458, 0.215229701809906, 0.21456630501088336, 0.21391015816104492, 0.2132611673329125, 0.21261923989174975, 0.21198428447743958, 0.21135621098661744, 0.21073493055505568, 0.21012035554029634, 0.20951239950452943, 0.2089109771977111, 0.20831600454092145, 0.2077273986099547, 0.2071450776191433, 0.20656896090540686, 0.2059989689125288, 0.20543502317565224, 0.20487704630599587, 0.20432496197578442, 0.2037786949033917, 0.20323817083869242, 0.2027033165486215, 0.20217405980293576, 0.20165032936017652, 0.2011320549538303, 0.20061916727868406, 0.20011159797737282, 0.19960927962711644, 0.1991121457266442, 0.19862013068330203, 0.19813316980034293, 0.19765119926439512, 0.1971741561331074, 0.19670197832296862, 0.19623460459729797, 0.19577197455440493, 0.19531402861591612, 0.1948607080152663, 0.19441195478635084, 0.19396771175233943, 0.19352792251464576, 0.1930925314420536, 0.19266148365999536, 0.19223472503998182, 0.191812202189181, 0.1913938624401431, 0.19097965384067042, 0.19056952514383024, 0.19016342579810783, 0.18976130593769755, 0.1893631163729326, 0.18896880858084714, 0.18857833469587218]}, {\"mode\": \"lines\", \"name\": \"0.012915496650148827\", \"type\": \"scatter\", \"y\": [0.4780036245499867, 0.4670596965694869, 0.45651407181341114, 0.4463515190836717, 0.4365573983748042, 0.42711763782796414, 0.41801871158441645, 0.40924761850339497, 0.40079186171058345, 0.3926394289447901, 0.38477877367164964, 0.3771987969344063, 0.3698888299129992, 0.3628386171637973, 0.3560383005134074, 0.34947840358102167, 0.34314981690476143, 0.33704378364843895, 0.33115188586607497, 0.32546603130239676, 0.3199784407083918, 0.3146816356518069, 0.3095684268032725, 0.3046319026794797, 0.29986541882557094, 0.2952625874195925, 0.29081726728253576, 0.28652355427813014, 0.28237577208717435, 0.2783684633417819, 0.2744963811054928, 0.27075448068574753, 0.2671379117657488, 0.2636420108432435, 0.26026229396424316, 0.2569944497401687, 0.25383433263735655, 0.25077795652829304, 0.24782148849436125, 0.2449612428702814, 0.24219367552081128, 0.23951537834063857, 0.23692307396875553, 0.2344136107089415, 0.23198395764830984, 0.22963119996618658, 0.22735253442589323, 0.22514526504229346, 0.22300679891824451, 0.2209346422433585, 0.21892639644874104, 0.21697975451161844, 0.2150924974040027, 0.21326249067977351, 0.21148768119477468, 0.20976609395473392, 0.20809582908601748, 0.20647505892442508, 0.20490202521741932, 0.20337503643536312, 0.20189246518750967, 0.20045274573865798, 0.19905437162254722, 0.19769589334821078, 0.19637591619566802, 0.19509309809746295, 0.19384614760270294, 0.19263382192037712, 0.19145492503886227, 0.19030830591864142, 0.18919285675538186, 0.18810751131062378, 0.18705124330744546, 0.1860230648885671, 0.1850220251344586, 0.18404720863911123, 0.183097734141222, 0.18217275320863063, 0.1812714489739311, 0.1803930349192618, 0.17953675370835626, 0.17870187606401045, 0.17788769968919602, 0.17709354823011744, 0.17631877027957563, 0.17556273841906817, 0.17482484829811465, 0.1741045177493543, 0.1734011859380242, 0.1727143125444732, 0.17204337697842767, 0.1713878776237679, 0.17074733111262733, 0.1701212716276713, 0.16950925023145572, 0.16891083422181177, 0.16832560651224002, 0.16775316503634174, 0.1671931221753474, 0.16664510420784537, 0.1661087507808434, 0.16558371440133224, 0.1650696599475532, 0.16456626419920045, 0.16407321538582173, 0.16359021275270783, 0.1631169661435892, 0.16265319559948585, 0.1621986309730804, 0.16175301155801086, 0.16131608573250028, 0.16088761061676726, 0.16046735174367832, 0.16005508274212882, 0.15965058503265459, 0.15925364753480054, 0.15886406638578612, 0.15848164467003018, 0.1581061921591108, 0.15773752506175526, 0.15737546578346912, 0.15701984269542985, 0.15667048991228427, 0.15632724707850337, 0.15598995916296213, 0.15565847626142432, 0.1553326534066242, 0.1550123503856509, 0.1546974315643508, 0.1543877657184752, 0.15408322587131135, 0.15378368913754464, 0.15348903657311025, 0.15319915303080095, 0.15291392702140807, 0.1526332505801803, 0.15235701913839408, 0.1520851313998371, 0.15181748922201396, 0.15155399750189102, 0.15129456406600403, 0.15103909956475958, 0.15078751737076734, 0.1505397334810469, 0.15029566642295925, 0.15005523716371771, 0.149818369023341, 0.14958498759091293, 0.14935502064402312, 0.14912839807126324, 0.14890505179766214, 0.14868491571294487, 0.14846792560250732, 0.1482540190810004, 0.14804313552842369, 0.14783521602863103, 0.14763020331015458, 0.1474280416892585, 0.14722867701513503, 0.14703205661716182, 0.1468381292541381, 0.1466468450654273, 0.14645815552392838, 0.14627201339080845, 0.14608837267192695, 0.145907188575887, 0.14572841747365095, 0.14555201685965988, 0.1453779453143992, 0.1452061624683545, 0.14503662896730443, 0.1448693064388989, 0.1447041574604736, 0.14454114552805264, 0.14438023502649436, 0.14422139120073624, 0.14406458012809617, 0.14390976869159053, 0.14375692455422936, 0.14360601613425159, 0.14345701258126375, 0.14330988375324827, 0.14316460019440833, 0.1430211331138156, 0.1428794543648321, 0.14273953642527645, 0.14260135237830404, 0.14246487589397713, 0.14233008121149504, 0.14219694312206282, 0.14206543695237145, 0.14193553854866725, 0.14180722426138856, 0.14168047093034733, 0.1415552558704354, 0.14143155685783607, 0.14130935211671997, 0.14118862030640983, 0.14106934050899336, 0.1409514922173698]}, {\"mode\": \"lines\", \"name\": \"0.03593813663804626\", \"type\": \"scatter\", \"y\": [0.45828080007980526, 0.43029596274569615, 0.40508354495220317, 0.3823542349976097, 0.3618493967057694, 0.3433378016899006, 0.32661271018563925, 0.31148926325699083, 0.29780215314855335, 0.285403542103425, 0.2741612031338074, 0.2639568590608309, 0.25468469866767585, 0.24625005106783962, 0.23856820140722057, 0.23156333282026365, 0.22516758116970506, 0.21932019053700116, 0.2139667587146461, 0.20905856309865717, 0.2045519584041569, 0.2004078385422801, 0.19659115581424408, 0.19307049130877305, 0.18981767104147826, 0.18680742295757044, 0.18401707043987148, 0.18142625842911309, 0.1790167086789131, 0.17677200103888246, 0.17467737799078337, 0.1727195699587521, 0.17088663917909044, 0.1691678401513983, 0.16755349490387253, 0.16603488149412782, 0.16460413433530485, 0.1632541550876716, 0.16197853299030823, 0.16077147362751043, 0.15962773523178117, 0.1585425717210723, 0.15751168175350677, 0.15653116315925278, 0.15559747217750217, 0.1547073869875036, 0.1538579750770896, 0.15304656404080902, 0.15227071544326184, 0.15152820142207138, 0.15081698373963048, 0.15013519502375228, 0.14948112196504745, 0.14885319026358543, 0.1482499511394929, 0.1476700692418852, 0.14711231180815876, 0.1465755389414277, 0.14605869488796047, 0.14556080020904552, 0.14508094475294628, 0.14461828134264132, 0.14417202010400748, 0.1437414233671154, 0.1433258010804593, 0.1429245066843356, 0.14253693339529763, 0.14216251085871348, 0.1418007021310138, 0.1414510009572904, 0.14111292931354258, 0.14078603518612348, 0.14046989056384052, 0.14016408962076188, 0.1398682470700997, 0.1395819966716144, 0.13930498987683484, 0.1390368945980465, 0.1387773940884767, 0.13852618592243024, 0.13828298106530815, 0.13804750302449828, 0.1378194870730734, 0.1375986795390704, 0.13738483715388455, 0.1371777264539815, 0.1369771232307362, 0.1367828120237456, 0.1365945856534417, 0.13641224478926645, 0.13623559755005152, 0.13606445913359327, 0.1358986514727189, 0.13573800291541846, 0.1355823479268618, 0.13543152681134113, 0.1352853854523771, 0.1351437750694046, 0.1350065519896102, 0.13487357743363682, 0.13474471731399787, 0.13461984204515656, 0.13449882636432722, 0.13438154916214834, 0.1342678933224577, 0.1341577455704735, 0.1340509963287516, 0.13394753958034752, 0.13384727273866573, 0.13375009652352482, 0.13365591484301154, 0.13356463468073446, 0.13347616598812145, 0.1333904215814387, 0.13330731704323417, 0.13322677062793598, 0.1331487031713565, 0.13307303800387674, 0.1329997008670993, 0.13292861983378057, 0.13285972523086195, 0.13279294956543888, 0.13272822745351495, 0.1326654955514011, 0.13260469248963055, 0.13254575880926794, 0.13248863690050044, 0.13243327094340598, 0.1323796068508011, 0.13232759221307577, 0.13227717624493046, 0.13222830973393446, 0.13218094499082925, 0.13213503580150693, 0.13209053738059473, 0.13204740632658415, 0.13200560057844285, 0.13196507937365368, 0.13192580320762687, 0.13188773379443341, 0.13185083402881217, 0.13181506794940342, 0.13178040070316574, 0.13174679851093302, 0.13171422863407273, 0.13168265934220602, 0.13165205988195353, 0.1316224004466718, 0.13159365214714608, 0.1315657869832078, 0.13153877781624582, 0.1315125983425806, 0.13148722306767457, 0.13146262728114907, 0.13143878703258324, 0.13141567910806803, 0.13139328100749206, 0.13137157092253413, 0.13135052771534134, 0.13133013089786935, 0.13131036061186468, 0.13129119760946778, 0.1312726232344177, 0.13125461940383917, 0.13123716859059312, 0.1312202538061737, 0.13120385858413425, 0.13118796696402515, 0.13117256347582829, 0.1311576331248717, 0.13114316137721024, 0.13112913414545754, 0.13111553777505383, 0.1311023590309587, 0.1310895850847528, 0.13107720350213778, 0.13106520223082077, 0.13105356958877254, 0.13104229425284683, 0.13103136524775036, 0.131020771935352, 0.13101050400432157, 0.1310005514600868, 0.13099090461509946, 0.13098155407940162, 0.13097249075148099, 0.13096370580940844, 0.13095519070224731, 0.13094693714172778, 0.13093893709417612, 0.1309311827726933, 0.13092366662957292, 0.1309163813489529, 0.13090931983969303, 0.13090247522847084, 0.13089584085309072, 0.13088941025599748, 0.13088317717799014, 0.13087713555212857, 0.13087127949782723]}, {\"mode\": \"lines\", \"name\": \"0.1\", \"type\": \"scatter\", \"y\": [0.40693147255321493, 0.3461715204357295, 0.30110291153342433, 0.26742182523256763, 0.24202804251695087, 0.22268634181164298, 0.20778332343648237, 0.19615275367143406, 0.18695010846132995, 0.17956244541125593, 0.1735436446314807, 0.16856786760177225, 0.1643960997152646, 0.16085208994239972, 0.1578050405250008, 0.15515714592880717, 0.1528346161294508, 0.15078120404231962, 0.1489535331493404, 0.1473177197236164, 0.14584692647433434, 0.14451958670177384, 0.14331811148957826, 0.14222794519888146, 0.1412368724036571, 0.1403345066097216, 0.13951191064017346, 0.13876131260810468, 0.1380758914843023, 0.1374496135171002, 0.1368771059731828, 0.1363535584161642, 0.1358746444364412, 0.13543645868718682, 0.13503546547999898, 0.13466845620231332, 0.13433251354686318, 0.13402498106998212, 0.13374343697694893, 0.133485671309525, 0.13324966591251336, 0.1330335767035834, 0.1328357178788233, 0.1326545477663742, 0.13248865609985472, 0.13233675252774058, 0.13219765620845617, 0.1320702863665938, 0.13195365370550663, 0.13184685258704978, 0.13174905390156966, 0.13165949856118184, 0.13157749155749346, 0.1315023965316702, 0.13143363081041454, 0.13137066086625304, 0.13131299816469538, 0.13126019536445666, 0.13121184284012222, 0.1311675654994594, 0.13112701987009812, 0.1310898914325579, 0.13105589217863078, 0.1310247583759609, 0.13099624852132566, 0.13097014146662897, 0.13094623470298997, 0.13092434278955878, 0.13090429591483124, 0.13088593857927178, 0.1308691283890057, 0.13085373495120758, 0.13083963886260727, 0.1308267307832586, 0.13081491058838157, 0.13080408659169449, 0.1307941748342089, 0.1307850984329681, 0.1307767869846766, 0.13076917601959387, 0.13076220650145406, 0.13075582436953423, 0.13074998011931666, 0.13074462841849388, 0.1307397277553365, 0.13073524011669693, 0.13073113069315073, 0.1307273676089886, 0.1307239216749648, 0.13072076616188344, 0.1307178765932672, 0.1307152305554996, 0.13071280752396855, 0.13071058870386207, 0.13070855688438213, 0.13070669630524495, 0.13070499253443255, 0.13070343235624754, 0.13070200366880244, 0.1307006953901485, 0.13069949737231587, 0.13069840032259877, 0.13069739573147404, 0.13069647580659546, 0.13069563341235022, 0.13069486201451005, 0.13069415562954706, 0.13069350877822083, 0.13069291644307754, 0.13069237402953102, 0.13069187733022347, 0.13069142249239052, 0.13069100598797595, 0.1306906245862657, 0.1306902753288282, 0.13068995550656623, 0.13068966263870363, 0.1306893944535422, 0.13068914887084088, 0.13068892398568, 0.13068871805368515, 0.1306885294774966, 0.13068835679437893, 0.13068819866487513, 0.13068805386241675, 0.13068792126380946, 0.13068779984052126, 0.1306876886507039, 0.13068758683188753, 0.1306874935942907, 0.13068740821469407, 0.1306873300308309, 0.13068725843624973, 0.1306871928756104, 0.13068713284037647, 0.1306870778648706, 0.1306870275226623, 0.13068698142326066, 0.1306869392090847, 0.13068690055269033, 0.13068686515423017, 0.13068683273912776, 0.1306868030559478, 0.1306867758744458, 0.13068675098378196, 0.13068672819088606, 0.13068670731895973, 0.13068668820610493, 0.13068667070406828, 0.13068665467709126, 0.13068664000085675, 0.13068662656152516, 0.13068661425485115, 0.13068660298537507, 0.13068659266568275, 0.13068658321572693, 0.13068657456220684, 0.13068656663799944, 0.13068655938163878, 0.1306865527368392, 0.1306865466520587, 0.13068654108009936, 0.13068653597774083, 0.1306865313054056, 0.13068652702685152, 0.13068652310889103, 0.1306865195211336, 0.1306865162357498, 0.13068651322725597, 0.1306865104723159, 0.13068650794956024, 0.13068650563942066, 0.13068650352397812, 0.13068650158682357, 0.13068649981293107, 0.13068649818854103, 0.13068649670105342, 0.1306864953389303, 0.1306864940916059, 0.13068649294940518, 0.13068649190346837, 0.13068649094568238, 0.13068649006861793, 0.13068648926547183, 0.13068648853001436, 0.13068648785654072, 0.130686487239827, 0.13068648667508947, 0.13068648615794762, 0.13068648568439015, 0.13068648525074378, 0.13068648485364479, 0.13068648449001302, 0.13068648415702797, 0.1306864838521066, 0.13068648357288376, 0.13068648331719368, 0.13068648308305297, 0.1306864828686455, 0.13068648267230812]}],\n",
       "                        {\"template\": {\"data\": {\"bar\": [{\"error_x\": {\"color\": \"#2a3f5f\"}, \"error_y\": {\"color\": \"#2a3f5f\"}, \"marker\": {\"line\": {\"color\": \"#E5ECF6\", \"width\": 0.5}}, \"type\": \"bar\"}], \"barpolar\": [{\"marker\": {\"line\": {\"color\": \"#E5ECF6\", \"width\": 0.5}}, \"type\": \"barpolar\"}], \"carpet\": [{\"aaxis\": {\"endlinecolor\": \"#2a3f5f\", \"gridcolor\": \"white\", \"linecolor\": \"white\", \"minorgridcolor\": \"white\", \"startlinecolor\": \"#2a3f5f\"}, \"baxis\": {\"endlinecolor\": \"#2a3f5f\", \"gridcolor\": \"white\", \"linecolor\": \"white\", \"minorgridcolor\": \"white\", \"startlinecolor\": \"#2a3f5f\"}, \"type\": \"carpet\"}], \"choropleth\": [{\"colorbar\": {\"outlinewidth\": 0, \"ticks\": \"\"}, \"type\": \"choropleth\"}], \"contour\": [{\"colorbar\": {\"outlinewidth\": 0, \"ticks\": \"\"}, \"colorscale\": [[0.0, \"#0d0887\"], [0.1111111111111111, \"#46039f\"], [0.2222222222222222, \"#7201a8\"], [0.3333333333333333, \"#9c179e\"], [0.4444444444444444, \"#bd3786\"], [0.5555555555555556, \"#d8576b\"], [0.6666666666666666, \"#ed7953\"], [0.7777777777777778, \"#fb9f3a\"], [0.8888888888888888, \"#fdca26\"], [1.0, \"#f0f921\"]], \"type\": \"contour\"}], \"contourcarpet\": [{\"colorbar\": {\"outlinewidth\": 0, \"ticks\": \"\"}, \"type\": \"contourcarpet\"}], \"heatmap\": [{\"colorbar\": {\"outlinewidth\": 0, \"ticks\": \"\"}, \"colorscale\": [[0.0, \"#0d0887\"], [0.1111111111111111, \"#46039f\"], [0.2222222222222222, \"#7201a8\"], [0.3333333333333333, \"#9c179e\"], [0.4444444444444444, \"#bd3786\"], [0.5555555555555556, \"#d8576b\"], [0.6666666666666666, \"#ed7953\"], [0.7777777777777778, \"#fb9f3a\"], [0.8888888888888888, \"#fdca26\"], [1.0, \"#f0f921\"]], \"type\": \"heatmap\"}], \"heatmapgl\": [{\"colorbar\": {\"outlinewidth\": 0, \"ticks\": \"\"}, \"colorscale\": [[0.0, \"#0d0887\"], [0.1111111111111111, \"#46039f\"], [0.2222222222222222, \"#7201a8\"], [0.3333333333333333, \"#9c179e\"], [0.4444444444444444, \"#bd3786\"], [0.5555555555555556, \"#d8576b\"], [0.6666666666666666, \"#ed7953\"], [0.7777777777777778, \"#fb9f3a\"], [0.8888888888888888, \"#fdca26\"], [1.0, \"#f0f921\"]], \"type\": \"heatmapgl\"}], \"histogram\": [{\"marker\": {\"colorbar\": {\"outlinewidth\": 0, \"ticks\": \"\"}}, \"type\": \"histogram\"}], \"histogram2d\": [{\"colorbar\": {\"outlinewidth\": 0, \"ticks\": \"\"}, \"colorscale\": [[0.0, \"#0d0887\"], [0.1111111111111111, \"#46039f\"], [0.2222222222222222, \"#7201a8\"], [0.3333333333333333, \"#9c179e\"], [0.4444444444444444, \"#bd3786\"], [0.5555555555555556, \"#d8576b\"], [0.6666666666666666, \"#ed7953\"], [0.7777777777777778, \"#fb9f3a\"], [0.8888888888888888, \"#fdca26\"], [1.0, \"#f0f921\"]], \"type\": \"histogram2d\"}], \"histogram2dcontour\": [{\"colorbar\": {\"outlinewidth\": 0, \"ticks\": \"\"}, \"colorscale\": [[0.0, \"#0d0887\"], [0.1111111111111111, \"#46039f\"], [0.2222222222222222, \"#7201a8\"], [0.3333333333333333, \"#9c179e\"], [0.4444444444444444, \"#bd3786\"], [0.5555555555555556, \"#d8576b\"], [0.6666666666666666, \"#ed7953\"], [0.7777777777777778, \"#fb9f3a\"], [0.8888888888888888, \"#fdca26\"], [1.0, \"#f0f921\"]], \"type\": \"histogram2dcontour\"}], \"mesh3d\": [{\"colorbar\": {\"outlinewidth\": 0, \"ticks\": \"\"}, \"type\": \"mesh3d\"}], \"parcoords\": [{\"line\": {\"colorbar\": {\"outlinewidth\": 0, \"ticks\": \"\"}}, \"type\": \"parcoords\"}], \"pie\": [{\"automargin\": true, \"type\": \"pie\"}], \"scatter\": [{\"marker\": {\"colorbar\": {\"outlinewidth\": 0, \"ticks\": \"\"}}, \"type\": \"scatter\"}], \"scatter3d\": [{\"line\": {\"colorbar\": {\"outlinewidth\": 0, \"ticks\": \"\"}}, \"marker\": {\"colorbar\": {\"outlinewidth\": 0, \"ticks\": \"\"}}, \"type\": \"scatter3d\"}], \"scattercarpet\": [{\"marker\": {\"colorbar\": {\"outlinewidth\": 0, \"ticks\": \"\"}}, \"type\": \"scattercarpet\"}], \"scattergeo\": [{\"marker\": {\"colorbar\": {\"outlinewidth\": 0, \"ticks\": \"\"}}, \"type\": \"scattergeo\"}], \"scattergl\": [{\"marker\": {\"colorbar\": {\"outlinewidth\": 0, \"ticks\": \"\"}}, \"type\": \"scattergl\"}], \"scattermapbox\": [{\"marker\": {\"colorbar\": {\"outlinewidth\": 0, \"ticks\": \"\"}}, \"type\": \"scattermapbox\"}], \"scatterpolar\": [{\"marker\": {\"colorbar\": {\"outlinewidth\": 0, \"ticks\": \"\"}}, \"type\": \"scatterpolar\"}], \"scatterpolargl\": [{\"marker\": {\"colorbar\": {\"outlinewidth\": 0, \"ticks\": \"\"}}, \"type\": \"scatterpolargl\"}], \"scatterternary\": [{\"marker\": {\"colorbar\": {\"outlinewidth\": 0, \"ticks\": \"\"}}, \"type\": \"scatterternary\"}], \"surface\": [{\"colorbar\": {\"outlinewidth\": 0, \"ticks\": \"\"}, \"colorscale\": [[0.0, \"#0d0887\"], [0.1111111111111111, \"#46039f\"], [0.2222222222222222, \"#7201a8\"], [0.3333333333333333, \"#9c179e\"], [0.4444444444444444, \"#bd3786\"], [0.5555555555555556, \"#d8576b\"], [0.6666666666666666, \"#ed7953\"], [0.7777777777777778, \"#fb9f3a\"], [0.8888888888888888, \"#fdca26\"], [1.0, \"#f0f921\"]], \"type\": \"surface\"}], \"table\": [{\"cells\": {\"fill\": {\"color\": \"#EBF0F8\"}, \"line\": {\"color\": \"white\"}}, \"header\": {\"fill\": {\"color\": \"#C8D4E3\"}, \"line\": {\"color\": \"white\"}}, \"type\": \"table\"}]}, \"layout\": {\"annotationdefaults\": {\"arrowcolor\": \"#2a3f5f\", \"arrowhead\": 0, \"arrowwidth\": 1}, \"coloraxis\": {\"colorbar\": {\"outlinewidth\": 0, \"ticks\": \"\"}}, \"colorscale\": {\"diverging\": [[0, \"#8e0152\"], [0.1, \"#c51b7d\"], [0.2, \"#de77ae\"], [0.3, \"#f1b6da\"], [0.4, \"#fde0ef\"], [0.5, \"#f7f7f7\"], [0.6, \"#e6f5d0\"], [0.7, \"#b8e186\"], [0.8, \"#7fbc41\"], [0.9, \"#4d9221\"], [1, \"#276419\"]], \"sequential\": [[0.0, \"#0d0887\"], [0.1111111111111111, \"#46039f\"], [0.2222222222222222, \"#7201a8\"], [0.3333333333333333, \"#9c179e\"], [0.4444444444444444, \"#bd3786\"], [0.5555555555555556, \"#d8576b\"], [0.6666666666666666, \"#ed7953\"], [0.7777777777777778, \"#fb9f3a\"], [0.8888888888888888, \"#fdca26\"], [1.0, \"#f0f921\"]], \"sequentialminus\": [[0.0, \"#0d0887\"], [0.1111111111111111, \"#46039f\"], [0.2222222222222222, \"#7201a8\"], [0.3333333333333333, \"#9c179e\"], [0.4444444444444444, \"#bd3786\"], [0.5555555555555556, \"#d8576b\"], [0.6666666666666666, \"#ed7953\"], [0.7777777777777778, \"#fb9f3a\"], [0.8888888888888888, \"#fdca26\"], [1.0, \"#f0f921\"]]}, \"colorway\": [\"#636efa\", \"#EF553B\", \"#00cc96\", \"#ab63fa\", \"#FFA15A\", \"#19d3f3\", \"#FF6692\", \"#B6E880\", \"#FF97FF\", \"#FECB52\"], \"font\": {\"color\": \"#2a3f5f\"}, \"geo\": {\"bgcolor\": \"white\", \"lakecolor\": \"white\", \"landcolor\": \"#E5ECF6\", \"showlakes\": true, \"showland\": true, \"subunitcolor\": \"white\"}, \"hoverlabel\": {\"align\": \"left\"}, \"hovermode\": \"closest\", \"mapbox\": {\"style\": \"light\"}, \"paper_bgcolor\": \"white\", \"plot_bgcolor\": \"#E5ECF6\", \"polar\": {\"angularaxis\": {\"gridcolor\": \"white\", \"linecolor\": \"white\", \"ticks\": \"\"}, \"bgcolor\": \"#E5ECF6\", \"radialaxis\": {\"gridcolor\": \"white\", \"linecolor\": \"white\", \"ticks\": \"\"}}, \"scene\": {\"xaxis\": {\"backgroundcolor\": \"#E5ECF6\", \"gridcolor\": \"white\", \"gridwidth\": 2, \"linecolor\": \"white\", \"showbackground\": true, \"ticks\": \"\", \"zerolinecolor\": \"white\"}, \"yaxis\": {\"backgroundcolor\": \"#E5ECF6\", \"gridcolor\": \"white\", \"gridwidth\": 2, \"linecolor\": \"white\", \"showbackground\": true, \"ticks\": \"\", \"zerolinecolor\": \"white\"}, \"zaxis\": {\"backgroundcolor\": \"#E5ECF6\", \"gridcolor\": \"white\", \"gridwidth\": 2, \"linecolor\": \"white\", \"showbackground\": true, \"ticks\": \"\", \"zerolinecolor\": \"white\"}}, \"shapedefaults\": {\"line\": {\"color\": \"#2a3f5f\"}}, \"ternary\": {\"aaxis\": {\"gridcolor\": \"white\", \"linecolor\": \"white\", \"ticks\": \"\"}, \"baxis\": {\"gridcolor\": \"white\", \"linecolor\": \"white\", \"ticks\": \"\"}, \"bgcolor\": \"#E5ECF6\", \"caxis\": {\"gridcolor\": \"white\", \"linecolor\": \"white\", \"ticks\": \"\"}}, \"title\": {\"x\": 0.05}, \"xaxis\": {\"automargin\": true, \"gridcolor\": \"white\", \"linecolor\": \"white\", \"ticks\": \"\", \"title\": {\"standoff\": 15}, \"zerolinecolor\": \"white\", \"zerolinewidth\": 2}, \"yaxis\": {\"automargin\": true, \"gridcolor\": \"white\", \"linecolor\": \"white\", \"ticks\": \"\", \"title\": {\"standoff\": 15}, \"zerolinecolor\": \"white\", \"zerolinewidth\": 2}}}},\n",
       "                        {\"responsive\": true}\n",
       "                    ).then(function(){\n",
       "                            \n",
       "var gd = document.getElementById('6d154843-75fc-425a-8531-e7c91d38012f');\n",
       "var x = new MutationObserver(function (mutations, observer) {{\n",
       "        var display = window.getComputedStyle(gd).display;\n",
       "        if (!display || display === 'none') {{\n",
       "            console.log([gd, 'removed!']);\n",
       "            Plotly.purge(gd);\n",
       "            observer.disconnect();\n",
       "        }}\n",
       "}});\n",
       "\n",
       "// Listen for the removal of the full notebook cells\n",
       "var notebookContainer = gd.closest('#notebook-container');\n",
       "if (notebookContainer) {{\n",
       "    x.observe(notebookContainer, {childList: true});\n",
       "}}\n",
       "\n",
       "// Listen for the clearing of the current output cell\n",
       "var outputEl = gd.closest('.output');\n",
       "if (outputEl) {{\n",
       "    x.observe(outputEl, {childList: true});\n",
       "}}\n",
       "\n",
       "                        })\n",
       "                };\n",
       "                });\n",
       "            </script>\n",
       "        </div>"
      ]
     },
     "metadata": {},
     "output_type": "display_data"
    }
   ],
   "source": [
    "data=[]\n",
    "for i in cost.columns.values:\n",
    "    line=go.Scatter(y=cost[i].tolist(),mode='lines',name=str(i))\n",
    "    data.append(line)\n",
    "    \n",
    "py.offline.iplot(data)"
   ]
  },
  {
   "cell_type": "markdown",
   "metadata": {},
   "source": [
    "* 从图中可以看出：不同的学习率，下降速度不同。学习率大，下降速度快。"
   ]
  },
  {
   "cell_type": "markdown",
   "metadata": {},
   "source": [
    "## 5）关于标准方程（Normal Equation）\n",
    "* 除了使用梯度下降解决线性回归问题外，还有一个更便捷的、不需要任何迭代的方法，那就是标准方程。\n",
    "$$\\theta ={{\\left( {{X}^{T}}X \\right)}^{-1}}{{X}^{T}}y$$\n",
    "* 不过基于标准方程的计算公式，其不适用特征数过多的回归分析。"
   ]
  },
  {
   "cell_type": "code",
   "execution_count": 354,
   "metadata": {},
   "outputs": [],
   "source": [
    "import numpy as np\n",
    "def normalEqn(X, y):\n",
    "   theta = np.linalg.inv(X.T@X)@X.T@y #X.T@X等价于X.T.dot(X)\n",
    "   return theta"
   ]
  },
  {
   "cell_type": "code",
   "execution_count": 355,
   "metadata": {
    "scrolled": true
   },
   "outputs": [
    {
     "data": {
      "text/plain": [
       "matrix([[-5.55111512e-17],\n",
       "        [ 8.84765988e-01],\n",
       "        [-5.31788197e-02]])"
      ]
     },
     "execution_count": 355,
     "metadata": {},
     "output_type": "execute_result"
    }
   ],
   "source": [
    "normalEqn(X2, y2)"
   ]
  },
  {
   "cell_type": "markdown",
   "metadata": {},
   "source": [
    "## 鸣谢：\n",
    "感谢黄海广博士提供的读书笔记及各项资料，我会在机器学习路上继续加油！"
   ]
  }
 ],
 "metadata": {
  "kernelspec": {
   "display_name": "Python 3",
   "language": "python",
   "name": "python3"
  },
  "language_info": {
   "codemirror_mode": {
    "name": "ipython",
    "version": 3
   },
   "file_extension": ".py",
   "mimetype": "text/x-python",
   "name": "python",
   "nbconvert_exporter": "python",
   "pygments_lexer": "ipython3",
   "version": "3.7.4"
  }
 },
 "nbformat": 4,
 "nbformat_minor": 2
}
