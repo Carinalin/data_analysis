{
 "cells": [
  {
   "cell_type": "markdown",
   "metadata": {},
   "source": [
    "# 逻辑回归练习（logistic regression practice）"
   ]
  },
  {
   "cell_type": "markdown",
   "metadata": {},
   "source": [
    "## 项目背景"
   ]
  },
  {
   "cell_type": "markdown",
   "metadata": {},
   "source": [
    "#### 项目背景：\n",
    "* 1.项目基于吴达恩教授的《机器学习》课程。\n",
    "* 2.数据均来源于课程配套资料。\n",
    "\n",
    "\n",
    "#### 项目目的：\n",
    "* 1、使用二分类逻辑回归预测学生能否录取。\n",
    "* 2、使用正则化逻辑回归预测工厂的芯片能否通过质检。\n",
    "* 3、熟悉逻辑回归的代价函数、梯度下降函数。\n",
    "* 4、熟练运用正规化避免过度拟合的问题。\n",
    "\n",
    "\n",
    "#### 二分类逻辑回归：\n",
    "* 1、分析目的：通过学生两场考试的成绩和过往的录取情况预测学生能否录取。\n",
    "* 2、数据说明：ex2data1\n",
    "    * 第1列：第一场考试成绩\n",
    "    * 第2列：第二场考试成绩\n",
    "    * 第3列：学生的录取情况\n",
    "\n",
    "\n",
    "#### 正则化逻辑回归：\n",
    "* 1、分析目的：通过工厂芯片的两个检查结果和是否通过质检获得决策模型和边界。\n",
    "* 2、数据说明：ex2data2\n",
    "    * 第1列：第一个检查结果\n",
    "    * 第2列：第二个检查结果\n",
    "    * 第3列：是否通过质检"
   ]
  },
  {
   "cell_type": "markdown",
   "metadata": {},
   "source": [
    "# 导入相关的库"
   ]
  },
  {
   "cell_type": "code",
   "execution_count": 356,
   "metadata": {},
   "outputs": [
    {
     "data": {
      "text/html": [
       "        <script type=\"text/javascript\">\n",
       "        window.PlotlyConfig = {MathJaxConfig: 'local'};\n",
       "        if (window.MathJax) {MathJax.Hub.Config({SVG: {font: \"STIX-Web\"}});}\n",
       "        if (typeof require !== 'undefined') {\n",
       "        require.undef(\"plotly\");\n",
       "        requirejs.config({\n",
       "            paths: {\n",
       "                'plotly': ['https://cdn.plot.ly/plotly-latest.min']\n",
       "            }\n",
       "        });\n",
       "        require(['plotly'], function(Plotly) {\n",
       "            window._Plotly = Plotly;\n",
       "        });\n",
       "        }\n",
       "        </script>\n",
       "        "
      ]
     },
     "metadata": {},
     "output_type": "display_data"
    },
    {
     "data": {
      "text/html": [
       "        <script type=\"text/javascript\">\n",
       "        window.PlotlyConfig = {MathJaxConfig: 'local'};\n",
       "        if (window.MathJax) {MathJax.Hub.Config({SVG: {font: \"STIX-Web\"}});}\n",
       "        if (typeof require !== 'undefined') {\n",
       "        require.undef(\"plotly\");\n",
       "        requirejs.config({\n",
       "            paths: {\n",
       "                'plotly': ['https://cdn.plot.ly/plotly-latest.min']\n",
       "            }\n",
       "        });\n",
       "        require(['plotly'], function(Plotly) {\n",
       "            window._Plotly = Plotly;\n",
       "        });\n",
       "        }\n",
       "        </script>\n",
       "        "
      ]
     },
     "metadata": {},
     "output_type": "display_data"
    }
   ],
   "source": [
    "import numpy as np\n",
    "import pandas as pd\n",
    "import tensorflow as tf\n",
    "import plotly as py\n",
    "import plotly.graph_objs as go\n",
    "import cufflinks as cf\n",
    "from plotly.offline import iplot,init_notebook_mode\n",
    "cf.go_offline(connected=True)\n",
    "init_notebook_mode(connected=True)\n",
    "cf.set_config_file(theme='pearl') #设置一下制图颜色"
   ]
  },
  {
   "cell_type": "markdown",
   "metadata": {},
   "source": [
    "# 1.二分类逻辑回归"
   ]
  },
  {
   "cell_type": "markdown",
   "metadata": {},
   "source": [
    "## 1）读取数据并理解"
   ]
  },
  {
   "cell_type": "code",
   "execution_count": 357,
   "metadata": {},
   "outputs": [],
   "source": [
    "#读取数据并赋予列名\n",
    "df = pd.read_csv('D:\\Learning\\python\\ML\\code\\ex2-logistic regression\\ex2data1.txt',names=['first_score','second_score','application_result'])"
   ]
  },
  {
   "cell_type": "code",
   "execution_count": 358,
   "metadata": {},
   "outputs": [
    {
     "data": {
      "text/html": [
       "<div>\n",
       "<style scoped>\n",
       "    .dataframe tbody tr th:only-of-type {\n",
       "        vertical-align: middle;\n",
       "    }\n",
       "\n",
       "    .dataframe tbody tr th {\n",
       "        vertical-align: top;\n",
       "    }\n",
       "\n",
       "    .dataframe thead th {\n",
       "        text-align: right;\n",
       "    }\n",
       "</style>\n",
       "<table border=\"1\" class=\"dataframe\">\n",
       "  <thead>\n",
       "    <tr style=\"text-align: right;\">\n",
       "      <th></th>\n",
       "      <th>first_score</th>\n",
       "      <th>second_score</th>\n",
       "      <th>application_result</th>\n",
       "    </tr>\n",
       "  </thead>\n",
       "  <tbody>\n",
       "    <tr>\n",
       "      <th>0</th>\n",
       "      <td>34.623660</td>\n",
       "      <td>78.024693</td>\n",
       "      <td>0</td>\n",
       "    </tr>\n",
       "    <tr>\n",
       "      <th>1</th>\n",
       "      <td>30.286711</td>\n",
       "      <td>43.894998</td>\n",
       "      <td>0</td>\n",
       "    </tr>\n",
       "    <tr>\n",
       "      <th>2</th>\n",
       "      <td>35.847409</td>\n",
       "      <td>72.902198</td>\n",
       "      <td>0</td>\n",
       "    </tr>\n",
       "    <tr>\n",
       "      <th>3</th>\n",
       "      <td>60.182599</td>\n",
       "      <td>86.308552</td>\n",
       "      <td>1</td>\n",
       "    </tr>\n",
       "    <tr>\n",
       "      <th>4</th>\n",
       "      <td>79.032736</td>\n",
       "      <td>75.344376</td>\n",
       "      <td>1</td>\n",
       "    </tr>\n",
       "  </tbody>\n",
       "</table>\n",
       "</div>"
      ],
      "text/plain": [
       "   first_score  second_score  application_result\n",
       "0    34.623660     78.024693                   0\n",
       "1    30.286711     43.894998                   0\n",
       "2    35.847409     72.902198                   0\n",
       "3    60.182599     86.308552                   1\n",
       "4    79.032736     75.344376                   1"
      ]
     },
     "execution_count": 358,
     "metadata": {},
     "output_type": "execute_result"
    }
   ],
   "source": [
    "df.head()"
   ]
  },
  {
   "cell_type": "code",
   "execution_count": 359,
   "metadata": {},
   "outputs": [
    {
     "name": "stdout",
     "output_type": "stream",
     "text": [
      "<class 'pandas.core.frame.DataFrame'>\n",
      "RangeIndex: 100 entries, 0 to 99\n",
      "Data columns (total 3 columns):\n",
      " #   Column              Non-Null Count  Dtype  \n",
      "---  ------              --------------  -----  \n",
      " 0   first_score         100 non-null    float64\n",
      " 1   second_score        100 non-null    float64\n",
      " 2   application_result  100 non-null    int64  \n",
      "dtypes: float64(2), int64(1)\n",
      "memory usage: 2.5 KB\n"
     ]
    }
   ],
   "source": [
    "df.info()\n",
    "# 数据共100行，无null值，分数均为浮点型，是否录取为整数型"
   ]
  },
  {
   "cell_type": "code",
   "execution_count": 360,
   "metadata": {},
   "outputs": [
    {
     "data": {
      "text/html": [
       "<div>\n",
       "<style scoped>\n",
       "    .dataframe tbody tr th:only-of-type {\n",
       "        vertical-align: middle;\n",
       "    }\n",
       "\n",
       "    .dataframe tbody tr th {\n",
       "        vertical-align: top;\n",
       "    }\n",
       "\n",
       "    .dataframe thead th {\n",
       "        text-align: right;\n",
       "    }\n",
       "</style>\n",
       "<table border=\"1\" class=\"dataframe\">\n",
       "  <thead>\n",
       "    <tr style=\"text-align: right;\">\n",
       "      <th></th>\n",
       "      <th>first_score</th>\n",
       "      <th>second_score</th>\n",
       "      <th>application_result</th>\n",
       "    </tr>\n",
       "  </thead>\n",
       "  <tbody>\n",
       "    <tr>\n",
       "      <th>count</th>\n",
       "      <td>100.000000</td>\n",
       "      <td>100.000000</td>\n",
       "      <td>100.000000</td>\n",
       "    </tr>\n",
       "    <tr>\n",
       "      <th>mean</th>\n",
       "      <td>65.644274</td>\n",
       "      <td>66.221998</td>\n",
       "      <td>0.600000</td>\n",
       "    </tr>\n",
       "    <tr>\n",
       "      <th>std</th>\n",
       "      <td>19.458222</td>\n",
       "      <td>18.582783</td>\n",
       "      <td>0.492366</td>\n",
       "    </tr>\n",
       "    <tr>\n",
       "      <th>min</th>\n",
       "      <td>30.058822</td>\n",
       "      <td>30.603263</td>\n",
       "      <td>0.000000</td>\n",
       "    </tr>\n",
       "    <tr>\n",
       "      <th>25%</th>\n",
       "      <td>50.919511</td>\n",
       "      <td>48.179205</td>\n",
       "      <td>0.000000</td>\n",
       "    </tr>\n",
       "    <tr>\n",
       "      <th>50%</th>\n",
       "      <td>67.032988</td>\n",
       "      <td>67.682381</td>\n",
       "      <td>1.000000</td>\n",
       "    </tr>\n",
       "    <tr>\n",
       "      <th>75%</th>\n",
       "      <td>80.212529</td>\n",
       "      <td>79.360605</td>\n",
       "      <td>1.000000</td>\n",
       "    </tr>\n",
       "    <tr>\n",
       "      <th>max</th>\n",
       "      <td>99.827858</td>\n",
       "      <td>98.869436</td>\n",
       "      <td>1.000000</td>\n",
       "    </tr>\n",
       "  </tbody>\n",
       "</table>\n",
       "</div>"
      ],
      "text/plain": [
       "       first_score  second_score  application_result\n",
       "count   100.000000    100.000000          100.000000\n",
       "mean     65.644274     66.221998            0.600000\n",
       "std      19.458222     18.582783            0.492366\n",
       "min      30.058822     30.603263            0.000000\n",
       "25%      50.919511     48.179205            0.000000\n",
       "50%      67.032988     67.682381            1.000000\n",
       "75%      80.212529     79.360605            1.000000\n",
       "max      99.827858     98.869436            1.000000"
      ]
     },
     "execution_count": 360,
     "metadata": {},
     "output_type": "execute_result"
    }
   ],
   "source": [
    "df.describe()\n",
    "# 数据无异常值"
   ]
  },
  {
   "cell_type": "code",
   "execution_count": 361,
   "metadata": {},
   "outputs": [
    {
     "data": {
      "text/plain": [
       "0"
      ]
     },
     "execution_count": 361,
     "metadata": {},
     "output_type": "execute_result"
    }
   ],
   "source": [
    "np.sum(df.duplicated())\n",
    "# 数据无重复值"
   ]
  },
  {
   "cell_type": "markdown",
   "metadata": {},
   "source": [
    "## 2）数据可视化（data visualization）"
   ]
  },
  {
   "cell_type": "code",
   "execution_count": 362,
   "metadata": {},
   "outputs": [
    {
     "data": {
      "application/vnd.plotly.v1+json": {
       "config": {
        "linkText": "Export to plot.ly",
        "plotlyServerURL": "https://plot.ly",
        "showLink": false
       },
       "data": [
        {
         "marker": {
          "color": [
           0,
           0,
           0,
           1,
           1,
           0,
           1,
           1,
           1,
           1,
           0,
           0,
           1,
           1,
           0,
           1,
           1,
           0,
           1,
           1,
           0,
           1,
           0,
           0,
           1,
           1,
           1,
           0,
           0,
           0,
           1,
           1,
           0,
           1,
           0,
           0,
           0,
           1,
           0,
           0,
           1,
           0,
           1,
           0,
           0,
           0,
           1,
           1,
           1,
           1,
           1,
           1,
           1,
           0,
           0,
           0,
           1,
           0,
           1,
           1,
           1,
           0,
           0,
           0,
           0,
           0,
           1,
           0,
           1,
           1,
           0,
           1,
           1,
           1,
           1,
           1,
           1,
           1,
           0,
           0,
           1,
           1,
           1,
           1,
           1,
           1,
           0,
           1,
           1,
           0,
           1,
           1,
           0,
           1,
           1,
           1,
           1,
           1,
           1,
           1
          ],
          "line": {
           "color": "black",
           "width": 1.2
          },
          "sizemin": 10,
          "symbol": [
           0,
           0,
           0,
           1,
           1,
           0,
           1,
           1,
           1,
           1,
           0,
           0,
           1,
           1,
           0,
           1,
           1,
           0,
           1,
           1,
           0,
           1,
           0,
           0,
           1,
           1,
           1,
           0,
           0,
           0,
           1,
           1,
           0,
           1,
           0,
           0,
           0,
           1,
           0,
           0,
           1,
           0,
           1,
           0,
           0,
           0,
           1,
           1,
           1,
           1,
           1,
           1,
           1,
           0,
           0,
           0,
           1,
           0,
           1,
           1,
           1,
           0,
           0,
           0,
           0,
           0,
           1,
           0,
           1,
           1,
           0,
           1,
           1,
           1,
           1,
           1,
           1,
           1,
           0,
           0,
           1,
           1,
           1,
           1,
           1,
           1,
           0,
           1,
           1,
           0,
           1,
           1,
           0,
           1,
           1,
           1,
           1,
           1,
           1,
           1
          ]
         },
         "mode": "markers",
         "type": "scatter",
         "x": [
          34.62365962451697,
          30.28671076822607,
          35.84740876993872,
          60.18259938620975,
          79.0327360507101,
          45.083277476683385,
          61.10666453684766,
          75.02474556738889,
          76.09878670226256,
          84.43281996120034,
          95.86155507093572,
          75.01365838958247,
          82.3070533739948,
          69.36458875970939,
          39.538339143672225,
          53.9710521485623,
          69.07014406283025,
          67.94685547711617,
          70.66150955499434,
          76.97878372747499,
          67.37202754570876,
          89.67677575072081,
          50.534788289883004,
          34.21206097786789,
          77.9240914545704,
          62.27101367004632,
          80.19018075095659,
          93.114388797442,
          61.83020602312595,
          38.78580379679423,
          61.379289447425,
          85.40451939411645,
          52.10797973193984,
          52.04540476831827,
          40.236893735451105,
          54.63510555424817,
          33.91550010906887,
          64.17698887494485,
          74.78925295941542,
          34.1836400264419,
          83.90239366249155,
          51.54772026906181,
          94.44336776917852,
          82.36875375713919,
          51.04775177128865,
          62.222675761201884,
          77.19303492601364,
          97.7715992800023,
          62.073063796676465,
          91.56497449807442,
          79.94481794066932,
          99.2725269292572,
          90.5467141139985,
          34.52451385320009,
          50.286496118990705,
          49.58667721632031,
          97.64563396007769,
          32.57720016809309,
          74.24869136721598,
          71.7964620586338,
          75.39561146568029,
          35.28611281526193,
          56.253817497116245,
          30.05882244669796,
          44.66826172480893,
          66.56089447242954,
          40.45755098375164,
          49.07256321908844,
          80.27957401466998,
          66.74671856944039,
          32.722833040603234,
          64.0393204150601,
          72.34649422579923,
          60.4578857391896,
          58.840956217268015,
          99.82785779692128,
          47.26426910848174,
          50.45815980285988,
          60.45555629271532,
          82.2266615778557,
          88.91389641665329,
          94.83450672430195,
          67.31925746917527,
          57.238706315698614,
          80.36675600171273,
          68.46852178591112,
          42.0754545384731,
          75.47770200533905,
          78.6354243489802,
          52.34800398794108,
          94.09433112516793,
          90.44855097096365,
          55.48216114069585,
          74.49269241843041,
          89.8458067072098,
          83.48916274498238,
          42.261700809981704,
          99.31500880510393,
          55.34001756003703,
          74.77589300092767
         ],
         "y": [
          78.0246928153624,
          43.894997524001006,
          72.90219802708364,
          86.30855209546827,
          75.3443764369103,
          56.316371781530506,
          96.51142588489624,
          46.55401354116538,
          87.42056971926803,
          43.533393310721095,
          38.22527805795094,
          30.60326323428011,
          76.48196330235605,
          97.71869196188608,
          76.0368108511588,
          89.20735013750205,
          52.740469730167646,
          46.67857410673128,
          92.92713789364832,
          47.575963649755316,
          42.83843832029179,
          65.79936592745237,
          48.85581152764205,
          44.209528598662885,
          68.9723599933059,
          69.95445795447587,
          44.821628932183536,
          38.80067033713209,
          50.25610789244621,
          64.99568095539578,
          72.80788731317097,
          57.05198397627122,
          63.127623768817145,
          69.43286012045222,
          71.16774802184875,
          52.21388588061123,
          98.86943574220612,
          80.90806058670817,
          41.57341522824434,
          75.2377203360134,
          56.30804621605328,
          46.85629026349976,
          65.56892160559052,
          40.61825515970618,
          45.82270145776001,
          52.060991948366784,
          70.4582000018096,
          86.7278223300282,
          96.76882412413984,
          88.69629254546598,
          74.16311935043757,
          60.99903099844988,
          43.39060180650027,
          60.39634245837173,
          49.80453881323059,
          59.80895099453265,
          68.86157272420604,
          95.59854761387876,
          69.82457122657193,
          78.45356224515052,
          85.75993667331619,
          47.02051394723416,
          39.261472510580184,
          49.59297386723685,
          66.45008614558913,
          41.09209807936973,
          97.53518548909935,
          51.88321182073966,
          92.11606081344084,
          60.99139402740989,
          43.307173064300635,
          78.03168802018232,
          96.22759296761404,
          73.09499809758037,
          75.85844831279043,
          72.36925193383884,
          88.47586499559782,
          75.80985952982456,
          42.50840943572217,
          42.719878537164576,
          69.80378889835472,
          45.69430680250754,
          66.58935317747915,
          59.51428198012957,
          90.96014789746954,
          85.59430710452014,
          78.84478600148044,
          90.42453899753963,
          96.64742716885642,
          60.76950525602592,
          77.15910509073893,
          87.50879176484702,
          35.570703472288656,
          84.84513684930135,
          45.35828361091658,
          48.38028579728175,
          87.10385094025456,
          68.77540947206617,
          64.9319380069486,
          89.52981289513276
         ]
        }
       ],
       "layout": {
        "height": 500,
        "template": {
         "data": {
          "bar": [
           {
            "error_x": {
             "color": "#2a3f5f"
            },
            "error_y": {
             "color": "#2a3f5f"
            },
            "marker": {
             "line": {
              "color": "#E5ECF6",
              "width": 0.5
             }
            },
            "type": "bar"
           }
          ],
          "barpolar": [
           {
            "marker": {
             "line": {
              "color": "#E5ECF6",
              "width": 0.5
             }
            },
            "type": "barpolar"
           }
          ],
          "carpet": [
           {
            "aaxis": {
             "endlinecolor": "#2a3f5f",
             "gridcolor": "white",
             "linecolor": "white",
             "minorgridcolor": "white",
             "startlinecolor": "#2a3f5f"
            },
            "baxis": {
             "endlinecolor": "#2a3f5f",
             "gridcolor": "white",
             "linecolor": "white",
             "minorgridcolor": "white",
             "startlinecolor": "#2a3f5f"
            },
            "type": "carpet"
           }
          ],
          "choropleth": [
           {
            "colorbar": {
             "outlinewidth": 0,
             "ticks": ""
            },
            "type": "choropleth"
           }
          ],
          "contour": [
           {
            "colorbar": {
             "outlinewidth": 0,
             "ticks": ""
            },
            "colorscale": [
             [
              0,
              "#0d0887"
             ],
             [
              0.1111111111111111,
              "#46039f"
             ],
             [
              0.2222222222222222,
              "#7201a8"
             ],
             [
              0.3333333333333333,
              "#9c179e"
             ],
             [
              0.4444444444444444,
              "#bd3786"
             ],
             [
              0.5555555555555556,
              "#d8576b"
             ],
             [
              0.6666666666666666,
              "#ed7953"
             ],
             [
              0.7777777777777778,
              "#fb9f3a"
             ],
             [
              0.8888888888888888,
              "#fdca26"
             ],
             [
              1,
              "#f0f921"
             ]
            ],
            "type": "contour"
           }
          ],
          "contourcarpet": [
           {
            "colorbar": {
             "outlinewidth": 0,
             "ticks": ""
            },
            "type": "contourcarpet"
           }
          ],
          "heatmap": [
           {
            "colorbar": {
             "outlinewidth": 0,
             "ticks": ""
            },
            "colorscale": [
             [
              0,
              "#0d0887"
             ],
             [
              0.1111111111111111,
              "#46039f"
             ],
             [
              0.2222222222222222,
              "#7201a8"
             ],
             [
              0.3333333333333333,
              "#9c179e"
             ],
             [
              0.4444444444444444,
              "#bd3786"
             ],
             [
              0.5555555555555556,
              "#d8576b"
             ],
             [
              0.6666666666666666,
              "#ed7953"
             ],
             [
              0.7777777777777778,
              "#fb9f3a"
             ],
             [
              0.8888888888888888,
              "#fdca26"
             ],
             [
              1,
              "#f0f921"
             ]
            ],
            "type": "heatmap"
           }
          ],
          "heatmapgl": [
           {
            "colorbar": {
             "outlinewidth": 0,
             "ticks": ""
            },
            "colorscale": [
             [
              0,
              "#0d0887"
             ],
             [
              0.1111111111111111,
              "#46039f"
             ],
             [
              0.2222222222222222,
              "#7201a8"
             ],
             [
              0.3333333333333333,
              "#9c179e"
             ],
             [
              0.4444444444444444,
              "#bd3786"
             ],
             [
              0.5555555555555556,
              "#d8576b"
             ],
             [
              0.6666666666666666,
              "#ed7953"
             ],
             [
              0.7777777777777778,
              "#fb9f3a"
             ],
             [
              0.8888888888888888,
              "#fdca26"
             ],
             [
              1,
              "#f0f921"
             ]
            ],
            "type": "heatmapgl"
           }
          ],
          "histogram": [
           {
            "marker": {
             "colorbar": {
              "outlinewidth": 0,
              "ticks": ""
             }
            },
            "type": "histogram"
           }
          ],
          "histogram2d": [
           {
            "colorbar": {
             "outlinewidth": 0,
             "ticks": ""
            },
            "colorscale": [
             [
              0,
              "#0d0887"
             ],
             [
              0.1111111111111111,
              "#46039f"
             ],
             [
              0.2222222222222222,
              "#7201a8"
             ],
             [
              0.3333333333333333,
              "#9c179e"
             ],
             [
              0.4444444444444444,
              "#bd3786"
             ],
             [
              0.5555555555555556,
              "#d8576b"
             ],
             [
              0.6666666666666666,
              "#ed7953"
             ],
             [
              0.7777777777777778,
              "#fb9f3a"
             ],
             [
              0.8888888888888888,
              "#fdca26"
             ],
             [
              1,
              "#f0f921"
             ]
            ],
            "type": "histogram2d"
           }
          ],
          "histogram2dcontour": [
           {
            "colorbar": {
             "outlinewidth": 0,
             "ticks": ""
            },
            "colorscale": [
             [
              0,
              "#0d0887"
             ],
             [
              0.1111111111111111,
              "#46039f"
             ],
             [
              0.2222222222222222,
              "#7201a8"
             ],
             [
              0.3333333333333333,
              "#9c179e"
             ],
             [
              0.4444444444444444,
              "#bd3786"
             ],
             [
              0.5555555555555556,
              "#d8576b"
             ],
             [
              0.6666666666666666,
              "#ed7953"
             ],
             [
              0.7777777777777778,
              "#fb9f3a"
             ],
             [
              0.8888888888888888,
              "#fdca26"
             ],
             [
              1,
              "#f0f921"
             ]
            ],
            "type": "histogram2dcontour"
           }
          ],
          "mesh3d": [
           {
            "colorbar": {
             "outlinewidth": 0,
             "ticks": ""
            },
            "type": "mesh3d"
           }
          ],
          "parcoords": [
           {
            "line": {
             "colorbar": {
              "outlinewidth": 0,
              "ticks": ""
             }
            },
            "type": "parcoords"
           }
          ],
          "pie": [
           {
            "automargin": true,
            "type": "pie"
           }
          ],
          "scatter": [
           {
            "marker": {
             "colorbar": {
              "outlinewidth": 0,
              "ticks": ""
             }
            },
            "type": "scatter"
           }
          ],
          "scatter3d": [
           {
            "line": {
             "colorbar": {
              "outlinewidth": 0,
              "ticks": ""
             }
            },
            "marker": {
             "colorbar": {
              "outlinewidth": 0,
              "ticks": ""
             }
            },
            "type": "scatter3d"
           }
          ],
          "scattercarpet": [
           {
            "marker": {
             "colorbar": {
              "outlinewidth": 0,
              "ticks": ""
             }
            },
            "type": "scattercarpet"
           }
          ],
          "scattergeo": [
           {
            "marker": {
             "colorbar": {
              "outlinewidth": 0,
              "ticks": ""
             }
            },
            "type": "scattergeo"
           }
          ],
          "scattergl": [
           {
            "marker": {
             "colorbar": {
              "outlinewidth": 0,
              "ticks": ""
             }
            },
            "type": "scattergl"
           }
          ],
          "scattermapbox": [
           {
            "marker": {
             "colorbar": {
              "outlinewidth": 0,
              "ticks": ""
             }
            },
            "type": "scattermapbox"
           }
          ],
          "scatterpolar": [
           {
            "marker": {
             "colorbar": {
              "outlinewidth": 0,
              "ticks": ""
             }
            },
            "type": "scatterpolar"
           }
          ],
          "scatterpolargl": [
           {
            "marker": {
             "colorbar": {
              "outlinewidth": 0,
              "ticks": ""
             }
            },
            "type": "scatterpolargl"
           }
          ],
          "scatterternary": [
           {
            "marker": {
             "colorbar": {
              "outlinewidth": 0,
              "ticks": ""
             }
            },
            "type": "scatterternary"
           }
          ],
          "surface": [
           {
            "colorbar": {
             "outlinewidth": 0,
             "ticks": ""
            },
            "colorscale": [
             [
              0,
              "#0d0887"
             ],
             [
              0.1111111111111111,
              "#46039f"
             ],
             [
              0.2222222222222222,
              "#7201a8"
             ],
             [
              0.3333333333333333,
              "#9c179e"
             ],
             [
              0.4444444444444444,
              "#bd3786"
             ],
             [
              0.5555555555555556,
              "#d8576b"
             ],
             [
              0.6666666666666666,
              "#ed7953"
             ],
             [
              0.7777777777777778,
              "#fb9f3a"
             ],
             [
              0.8888888888888888,
              "#fdca26"
             ],
             [
              1,
              "#f0f921"
             ]
            ],
            "type": "surface"
           }
          ],
          "table": [
           {
            "cells": {
             "fill": {
              "color": "#EBF0F8"
             },
             "line": {
              "color": "white"
             }
            },
            "header": {
             "fill": {
              "color": "#C8D4E3"
             },
             "line": {
              "color": "white"
             }
            },
            "type": "table"
           }
          ]
         },
         "layout": {
          "annotationdefaults": {
           "arrowcolor": "#2a3f5f",
           "arrowhead": 0,
           "arrowwidth": 1
          },
          "coloraxis": {
           "colorbar": {
            "outlinewidth": 0,
            "ticks": ""
           }
          },
          "colorscale": {
           "diverging": [
            [
             0,
             "#8e0152"
            ],
            [
             0.1,
             "#c51b7d"
            ],
            [
             0.2,
             "#de77ae"
            ],
            [
             0.3,
             "#f1b6da"
            ],
            [
             0.4,
             "#fde0ef"
            ],
            [
             0.5,
             "#f7f7f7"
            ],
            [
             0.6,
             "#e6f5d0"
            ],
            [
             0.7,
             "#b8e186"
            ],
            [
             0.8,
             "#7fbc41"
            ],
            [
             0.9,
             "#4d9221"
            ],
            [
             1,
             "#276419"
            ]
           ],
           "sequential": [
            [
             0,
             "#0d0887"
            ],
            [
             0.1111111111111111,
             "#46039f"
            ],
            [
             0.2222222222222222,
             "#7201a8"
            ],
            [
             0.3333333333333333,
             "#9c179e"
            ],
            [
             0.4444444444444444,
             "#bd3786"
            ],
            [
             0.5555555555555556,
             "#d8576b"
            ],
            [
             0.6666666666666666,
             "#ed7953"
            ],
            [
             0.7777777777777778,
             "#fb9f3a"
            ],
            [
             0.8888888888888888,
             "#fdca26"
            ],
            [
             1,
             "#f0f921"
            ]
           ],
           "sequentialminus": [
            [
             0,
             "#0d0887"
            ],
            [
             0.1111111111111111,
             "#46039f"
            ],
            [
             0.2222222222222222,
             "#7201a8"
            ],
            [
             0.3333333333333333,
             "#9c179e"
            ],
            [
             0.4444444444444444,
             "#bd3786"
            ],
            [
             0.5555555555555556,
             "#d8576b"
            ],
            [
             0.6666666666666666,
             "#ed7953"
            ],
            [
             0.7777777777777778,
             "#fb9f3a"
            ],
            [
             0.8888888888888888,
             "#fdca26"
            ],
            [
             1,
             "#f0f921"
            ]
           ]
          },
          "colorway": [
           "#636efa",
           "#EF553B",
           "#00cc96",
           "#ab63fa",
           "#FFA15A",
           "#19d3f3",
           "#FF6692",
           "#B6E880",
           "#FF97FF",
           "#FECB52"
          ],
          "font": {
           "color": "#2a3f5f"
          },
          "geo": {
           "bgcolor": "white",
           "lakecolor": "white",
           "landcolor": "#E5ECF6",
           "showlakes": true,
           "showland": true,
           "subunitcolor": "white"
          },
          "hoverlabel": {
           "align": "left"
          },
          "hovermode": "closest",
          "mapbox": {
           "style": "light"
          },
          "paper_bgcolor": "white",
          "plot_bgcolor": "#E5ECF6",
          "polar": {
           "angularaxis": {
            "gridcolor": "white",
            "linecolor": "white",
            "ticks": ""
           },
           "bgcolor": "#E5ECF6",
           "radialaxis": {
            "gridcolor": "white",
            "linecolor": "white",
            "ticks": ""
           }
          },
          "scene": {
           "xaxis": {
            "backgroundcolor": "#E5ECF6",
            "gridcolor": "white",
            "gridwidth": 2,
            "linecolor": "white",
            "showbackground": true,
            "ticks": "",
            "zerolinecolor": "white"
           },
           "yaxis": {
            "backgroundcolor": "#E5ECF6",
            "gridcolor": "white",
            "gridwidth": 2,
            "linecolor": "white",
            "showbackground": true,
            "ticks": "",
            "zerolinecolor": "white"
           },
           "zaxis": {
            "backgroundcolor": "#E5ECF6",
            "gridcolor": "white",
            "gridwidth": 2,
            "linecolor": "white",
            "showbackground": true,
            "ticks": "",
            "zerolinecolor": "white"
           }
          },
          "shapedefaults": {
           "line": {
            "color": "#2a3f5f"
           }
          },
          "ternary": {
           "aaxis": {
            "gridcolor": "white",
            "linecolor": "white",
            "ticks": ""
           },
           "baxis": {
            "gridcolor": "white",
            "linecolor": "white",
            "ticks": ""
           },
           "bgcolor": "#E5ECF6",
           "caxis": {
            "gridcolor": "white",
            "linecolor": "white",
            "ticks": ""
           }
          },
          "title": {
           "x": 0.05
          },
          "xaxis": {
           "automargin": true,
           "gridcolor": "white",
           "linecolor": "white",
           "ticks": "",
           "title": {
            "standoff": 15
           },
           "zerolinecolor": "white",
           "zerolinewidth": 2
          },
          "yaxis": {
           "automargin": true,
           "gridcolor": "white",
           "linecolor": "white",
           "ticks": "",
           "title": {
            "standoff": 15
           },
           "zerolinecolor": "white",
           "zerolinewidth": 2
          }
         }
        },
        "width": 500,
        "xaxis": {
         "title": {
          "text": "first_score"
         }
        },
        "yaxis": {
         "title": {
          "text": "second_score"
         }
        }
       }
      },
      "text/html": [
       "<div>\n",
       "        \n",
       "        \n",
       "            <div id=\"6390b364-d8f7-486c-ae9d-ce7f80d486e2\" class=\"plotly-graph-div\" style=\"height:500px; width:500px;\"></div>\n",
       "            <script type=\"text/javascript\">\n",
       "                require([\"plotly\"], function(Plotly) {\n",
       "                    window.PLOTLYENV=window.PLOTLYENV || {};\n",
       "                    \n",
       "                if (document.getElementById(\"6390b364-d8f7-486c-ae9d-ce7f80d486e2\")) {\n",
       "                    Plotly.newPlot(\n",
       "                        '6390b364-d8f7-486c-ae9d-ce7f80d486e2',\n",
       "                        [{\"marker\": {\"color\": [0, 0, 0, 1, 1, 0, 1, 1, 1, 1, 0, 0, 1, 1, 0, 1, 1, 0, 1, 1, 0, 1, 0, 0, 1, 1, 1, 0, 0, 0, 1, 1, 0, 1, 0, 0, 0, 1, 0, 0, 1, 0, 1, 0, 0, 0, 1, 1, 1, 1, 1, 1, 1, 0, 0, 0, 1, 0, 1, 1, 1, 0, 0, 0, 0, 0, 1, 0, 1, 1, 0, 1, 1, 1, 1, 1, 1, 1, 0, 0, 1, 1, 1, 1, 1, 1, 0, 1, 1, 0, 1, 1, 0, 1, 1, 1, 1, 1, 1, 1], \"line\": {\"color\": \"black\", \"width\": 1.2}, \"sizemin\": 10, \"symbol\": [0, 0, 0, 1, 1, 0, 1, 1, 1, 1, 0, 0, 1, 1, 0, 1, 1, 0, 1, 1, 0, 1, 0, 0, 1, 1, 1, 0, 0, 0, 1, 1, 0, 1, 0, 0, 0, 1, 0, 0, 1, 0, 1, 0, 0, 0, 1, 1, 1, 1, 1, 1, 1, 0, 0, 0, 1, 0, 1, 1, 1, 0, 0, 0, 0, 0, 1, 0, 1, 1, 0, 1, 1, 1, 1, 1, 1, 1, 0, 0, 1, 1, 1, 1, 1, 1, 0, 1, 1, 0, 1, 1, 0, 1, 1, 1, 1, 1, 1, 1]}, \"mode\": \"markers\", \"type\": \"scatter\", \"x\": [34.62365962451697, 30.28671076822607, 35.84740876993872, 60.18259938620975, 79.0327360507101, 45.083277476683385, 61.10666453684766, 75.02474556738889, 76.09878670226256, 84.43281996120034, 95.86155507093572, 75.01365838958247, 82.3070533739948, 69.36458875970939, 39.538339143672225, 53.9710521485623, 69.07014406283025, 67.94685547711617, 70.66150955499434, 76.97878372747499, 67.37202754570876, 89.67677575072081, 50.534788289883004, 34.21206097786789, 77.9240914545704, 62.27101367004632, 80.19018075095659, 93.114388797442, 61.83020602312595, 38.78580379679423, 61.379289447425, 85.40451939411645, 52.10797973193984, 52.04540476831827, 40.236893735451105, 54.63510555424817, 33.91550010906887, 64.17698887494485, 74.78925295941542, 34.1836400264419, 83.90239366249155, 51.54772026906181, 94.44336776917852, 82.36875375713919, 51.04775177128865, 62.222675761201884, 77.19303492601364, 97.7715992800023, 62.073063796676465, 91.56497449807442, 79.94481794066932, 99.2725269292572, 90.5467141139985, 34.52451385320009, 50.286496118990705, 49.58667721632031, 97.64563396007769, 32.57720016809309, 74.24869136721598, 71.7964620586338, 75.39561146568029, 35.28611281526193, 56.253817497116245, 30.05882244669796, 44.66826172480893, 66.56089447242954, 40.45755098375164, 49.07256321908844, 80.27957401466998, 66.74671856944039, 32.722833040603234, 64.0393204150601, 72.34649422579923, 60.4578857391896, 58.840956217268015, 99.82785779692128, 47.26426910848174, 50.45815980285988, 60.45555629271532, 82.2266615778557, 88.91389641665329, 94.83450672430195, 67.31925746917527, 57.238706315698614, 80.36675600171273, 68.46852178591112, 42.0754545384731, 75.47770200533905, 78.6354243489802, 52.34800398794108, 94.09433112516793, 90.44855097096365, 55.48216114069585, 74.49269241843041, 89.8458067072098, 83.48916274498238, 42.261700809981704, 99.31500880510393, 55.34001756003703, 74.77589300092767], \"y\": [78.0246928153624, 43.894997524001006, 72.90219802708364, 86.30855209546827, 75.3443764369103, 56.316371781530506, 96.51142588489624, 46.55401354116538, 87.42056971926803, 43.533393310721095, 38.22527805795094, 30.60326323428011, 76.48196330235605, 97.71869196188608, 76.0368108511588, 89.20735013750205, 52.740469730167646, 46.67857410673128, 92.92713789364832, 47.575963649755316, 42.83843832029179, 65.79936592745237, 48.85581152764205, 44.209528598662885, 68.9723599933059, 69.95445795447587, 44.821628932183536, 38.80067033713209, 50.25610789244621, 64.99568095539578, 72.80788731317097, 57.05198397627122, 63.127623768817145, 69.43286012045222, 71.16774802184875, 52.21388588061123, 98.86943574220612, 80.90806058670817, 41.57341522824434, 75.2377203360134, 56.30804621605328, 46.85629026349976, 65.56892160559052, 40.61825515970618, 45.82270145776001, 52.060991948366784, 70.4582000018096, 86.7278223300282, 96.76882412413984, 88.69629254546598, 74.16311935043757, 60.99903099844988, 43.39060180650027, 60.39634245837173, 49.80453881323059, 59.80895099453265, 68.86157272420604, 95.59854761387876, 69.82457122657193, 78.45356224515052, 85.75993667331619, 47.02051394723416, 39.261472510580184, 49.59297386723685, 66.45008614558913, 41.09209807936973, 97.53518548909935, 51.88321182073966, 92.11606081344084, 60.99139402740989, 43.307173064300635, 78.03168802018232, 96.22759296761404, 73.09499809758037, 75.85844831279043, 72.36925193383884, 88.47586499559782, 75.80985952982456, 42.50840943572217, 42.719878537164576, 69.80378889835472, 45.69430680250754, 66.58935317747915, 59.51428198012957, 90.96014789746954, 85.59430710452014, 78.84478600148044, 90.42453899753963, 96.64742716885642, 60.76950525602592, 77.15910509073893, 87.50879176484702, 35.570703472288656, 84.84513684930135, 45.35828361091658, 48.38028579728175, 87.10385094025456, 68.77540947206617, 64.9319380069486, 89.52981289513276]}],\n",
       "                        {\"height\": 500, \"template\": {\"data\": {\"bar\": [{\"error_x\": {\"color\": \"#2a3f5f\"}, \"error_y\": {\"color\": \"#2a3f5f\"}, \"marker\": {\"line\": {\"color\": \"#E5ECF6\", \"width\": 0.5}}, \"type\": \"bar\"}], \"barpolar\": [{\"marker\": {\"line\": {\"color\": \"#E5ECF6\", \"width\": 0.5}}, \"type\": \"barpolar\"}], \"carpet\": [{\"aaxis\": {\"endlinecolor\": \"#2a3f5f\", \"gridcolor\": \"white\", \"linecolor\": \"white\", \"minorgridcolor\": \"white\", \"startlinecolor\": \"#2a3f5f\"}, \"baxis\": {\"endlinecolor\": \"#2a3f5f\", \"gridcolor\": \"white\", \"linecolor\": \"white\", \"minorgridcolor\": \"white\", \"startlinecolor\": \"#2a3f5f\"}, \"type\": \"carpet\"}], \"choropleth\": [{\"colorbar\": {\"outlinewidth\": 0, \"ticks\": \"\"}, \"type\": \"choropleth\"}], \"contour\": [{\"colorbar\": {\"outlinewidth\": 0, \"ticks\": \"\"}, \"colorscale\": [[0.0, \"#0d0887\"], [0.1111111111111111, \"#46039f\"], [0.2222222222222222, \"#7201a8\"], [0.3333333333333333, \"#9c179e\"], [0.4444444444444444, \"#bd3786\"], [0.5555555555555556, \"#d8576b\"], [0.6666666666666666, \"#ed7953\"], [0.7777777777777778, \"#fb9f3a\"], [0.8888888888888888, \"#fdca26\"], [1.0, \"#f0f921\"]], \"type\": \"contour\"}], \"contourcarpet\": [{\"colorbar\": {\"outlinewidth\": 0, \"ticks\": \"\"}, \"type\": \"contourcarpet\"}], \"heatmap\": [{\"colorbar\": {\"outlinewidth\": 0, \"ticks\": \"\"}, \"colorscale\": [[0.0, \"#0d0887\"], [0.1111111111111111, \"#46039f\"], [0.2222222222222222, \"#7201a8\"], [0.3333333333333333, \"#9c179e\"], [0.4444444444444444, \"#bd3786\"], [0.5555555555555556, \"#d8576b\"], [0.6666666666666666, \"#ed7953\"], [0.7777777777777778, \"#fb9f3a\"], [0.8888888888888888, \"#fdca26\"], [1.0, \"#f0f921\"]], \"type\": \"heatmap\"}], \"heatmapgl\": [{\"colorbar\": {\"outlinewidth\": 0, \"ticks\": \"\"}, \"colorscale\": [[0.0, \"#0d0887\"], [0.1111111111111111, \"#46039f\"], [0.2222222222222222, \"#7201a8\"], [0.3333333333333333, \"#9c179e\"], [0.4444444444444444, \"#bd3786\"], [0.5555555555555556, \"#d8576b\"], [0.6666666666666666, \"#ed7953\"], [0.7777777777777778, \"#fb9f3a\"], [0.8888888888888888, \"#fdca26\"], [1.0, \"#f0f921\"]], \"type\": \"heatmapgl\"}], \"histogram\": [{\"marker\": {\"colorbar\": {\"outlinewidth\": 0, \"ticks\": \"\"}}, \"type\": \"histogram\"}], \"histogram2d\": [{\"colorbar\": {\"outlinewidth\": 0, \"ticks\": \"\"}, \"colorscale\": [[0.0, \"#0d0887\"], [0.1111111111111111, \"#46039f\"], [0.2222222222222222, \"#7201a8\"], [0.3333333333333333, \"#9c179e\"], [0.4444444444444444, \"#bd3786\"], [0.5555555555555556, \"#d8576b\"], [0.6666666666666666, \"#ed7953\"], [0.7777777777777778, \"#fb9f3a\"], [0.8888888888888888, \"#fdca26\"], [1.0, \"#f0f921\"]], \"type\": \"histogram2d\"}], \"histogram2dcontour\": [{\"colorbar\": {\"outlinewidth\": 0, \"ticks\": \"\"}, \"colorscale\": [[0.0, \"#0d0887\"], [0.1111111111111111, \"#46039f\"], [0.2222222222222222, \"#7201a8\"], [0.3333333333333333, \"#9c179e\"], [0.4444444444444444, \"#bd3786\"], [0.5555555555555556, \"#d8576b\"], [0.6666666666666666, \"#ed7953\"], [0.7777777777777778, \"#fb9f3a\"], [0.8888888888888888, \"#fdca26\"], [1.0, \"#f0f921\"]], \"type\": \"histogram2dcontour\"}], \"mesh3d\": [{\"colorbar\": {\"outlinewidth\": 0, \"ticks\": \"\"}, \"type\": \"mesh3d\"}], \"parcoords\": [{\"line\": {\"colorbar\": {\"outlinewidth\": 0, \"ticks\": \"\"}}, \"type\": \"parcoords\"}], \"pie\": [{\"automargin\": true, \"type\": \"pie\"}], \"scatter\": [{\"marker\": {\"colorbar\": {\"outlinewidth\": 0, \"ticks\": \"\"}}, \"type\": \"scatter\"}], \"scatter3d\": [{\"line\": {\"colorbar\": {\"outlinewidth\": 0, \"ticks\": \"\"}}, \"marker\": {\"colorbar\": {\"outlinewidth\": 0, \"ticks\": \"\"}}, \"type\": \"scatter3d\"}], \"scattercarpet\": [{\"marker\": {\"colorbar\": {\"outlinewidth\": 0, \"ticks\": \"\"}}, \"type\": \"scattercarpet\"}], \"scattergeo\": [{\"marker\": {\"colorbar\": {\"outlinewidth\": 0, \"ticks\": \"\"}}, \"type\": \"scattergeo\"}], \"scattergl\": [{\"marker\": {\"colorbar\": {\"outlinewidth\": 0, \"ticks\": \"\"}}, \"type\": \"scattergl\"}], \"scattermapbox\": [{\"marker\": {\"colorbar\": {\"outlinewidth\": 0, \"ticks\": \"\"}}, \"type\": \"scattermapbox\"}], \"scatterpolar\": [{\"marker\": {\"colorbar\": {\"outlinewidth\": 0, \"ticks\": \"\"}}, \"type\": \"scatterpolar\"}], \"scatterpolargl\": [{\"marker\": {\"colorbar\": {\"outlinewidth\": 0, \"ticks\": \"\"}}, \"type\": \"scatterpolargl\"}], \"scatterternary\": [{\"marker\": {\"colorbar\": {\"outlinewidth\": 0, \"ticks\": \"\"}}, \"type\": \"scatterternary\"}], \"surface\": [{\"colorbar\": {\"outlinewidth\": 0, \"ticks\": \"\"}, \"colorscale\": [[0.0, \"#0d0887\"], [0.1111111111111111, \"#46039f\"], [0.2222222222222222, \"#7201a8\"], [0.3333333333333333, \"#9c179e\"], [0.4444444444444444, \"#bd3786\"], [0.5555555555555556, \"#d8576b\"], [0.6666666666666666, \"#ed7953\"], [0.7777777777777778, \"#fb9f3a\"], [0.8888888888888888, \"#fdca26\"], [1.0, \"#f0f921\"]], \"type\": \"surface\"}], \"table\": [{\"cells\": {\"fill\": {\"color\": \"#EBF0F8\"}, \"line\": {\"color\": \"white\"}}, \"header\": {\"fill\": {\"color\": \"#C8D4E3\"}, \"line\": {\"color\": \"white\"}}, \"type\": \"table\"}]}, \"layout\": {\"annotationdefaults\": {\"arrowcolor\": \"#2a3f5f\", \"arrowhead\": 0, \"arrowwidth\": 1}, \"coloraxis\": {\"colorbar\": {\"outlinewidth\": 0, \"ticks\": \"\"}}, \"colorscale\": {\"diverging\": [[0, \"#8e0152\"], [0.1, \"#c51b7d\"], [0.2, \"#de77ae\"], [0.3, \"#f1b6da\"], [0.4, \"#fde0ef\"], [0.5, \"#f7f7f7\"], [0.6, \"#e6f5d0\"], [0.7, \"#b8e186\"], [0.8, \"#7fbc41\"], [0.9, \"#4d9221\"], [1, \"#276419\"]], \"sequential\": [[0.0, \"#0d0887\"], [0.1111111111111111, \"#46039f\"], [0.2222222222222222, \"#7201a8\"], [0.3333333333333333, \"#9c179e\"], [0.4444444444444444, \"#bd3786\"], [0.5555555555555556, \"#d8576b\"], [0.6666666666666666, \"#ed7953\"], [0.7777777777777778, \"#fb9f3a\"], [0.8888888888888888, \"#fdca26\"], [1.0, \"#f0f921\"]], \"sequentialminus\": [[0.0, \"#0d0887\"], [0.1111111111111111, \"#46039f\"], [0.2222222222222222, \"#7201a8\"], [0.3333333333333333, \"#9c179e\"], [0.4444444444444444, \"#bd3786\"], [0.5555555555555556, \"#d8576b\"], [0.6666666666666666, \"#ed7953\"], [0.7777777777777778, \"#fb9f3a\"], [0.8888888888888888, \"#fdca26\"], [1.0, \"#f0f921\"]]}, \"colorway\": [\"#636efa\", \"#EF553B\", \"#00cc96\", \"#ab63fa\", \"#FFA15A\", \"#19d3f3\", \"#FF6692\", \"#B6E880\", \"#FF97FF\", \"#FECB52\"], \"font\": {\"color\": \"#2a3f5f\"}, \"geo\": {\"bgcolor\": \"white\", \"lakecolor\": \"white\", \"landcolor\": \"#E5ECF6\", \"showlakes\": true, \"showland\": true, \"subunitcolor\": \"white\"}, \"hoverlabel\": {\"align\": \"left\"}, \"hovermode\": \"closest\", \"mapbox\": {\"style\": \"light\"}, \"paper_bgcolor\": \"white\", \"plot_bgcolor\": \"#E5ECF6\", \"polar\": {\"angularaxis\": {\"gridcolor\": \"white\", \"linecolor\": \"white\", \"ticks\": \"\"}, \"bgcolor\": \"#E5ECF6\", \"radialaxis\": {\"gridcolor\": \"white\", \"linecolor\": \"white\", \"ticks\": \"\"}}, \"scene\": {\"xaxis\": {\"backgroundcolor\": \"#E5ECF6\", \"gridcolor\": \"white\", \"gridwidth\": 2, \"linecolor\": \"white\", \"showbackground\": true, \"ticks\": \"\", \"zerolinecolor\": \"white\"}, \"yaxis\": {\"backgroundcolor\": \"#E5ECF6\", \"gridcolor\": \"white\", \"gridwidth\": 2, \"linecolor\": \"white\", \"showbackground\": true, \"ticks\": \"\", \"zerolinecolor\": \"white\"}, \"zaxis\": {\"backgroundcolor\": \"#E5ECF6\", \"gridcolor\": \"white\", \"gridwidth\": 2, \"linecolor\": \"white\", \"showbackground\": true, \"ticks\": \"\", \"zerolinecolor\": \"white\"}}, \"shapedefaults\": {\"line\": {\"color\": \"#2a3f5f\"}}, \"ternary\": {\"aaxis\": {\"gridcolor\": \"white\", \"linecolor\": \"white\", \"ticks\": \"\"}, \"baxis\": {\"gridcolor\": \"white\", \"linecolor\": \"white\", \"ticks\": \"\"}, \"bgcolor\": \"#E5ECF6\", \"caxis\": {\"gridcolor\": \"white\", \"linecolor\": \"white\", \"ticks\": \"\"}}, \"title\": {\"x\": 0.05}, \"xaxis\": {\"automargin\": true, \"gridcolor\": \"white\", \"linecolor\": \"white\", \"ticks\": \"\", \"title\": {\"standoff\": 15}, \"zerolinecolor\": \"white\", \"zerolinewidth\": 2}, \"yaxis\": {\"automargin\": true, \"gridcolor\": \"white\", \"linecolor\": \"white\", \"ticks\": \"\", \"title\": {\"standoff\": 15}, \"zerolinecolor\": \"white\", \"zerolinewidth\": 2}}}, \"width\": 500, \"xaxis\": {\"title\": {\"text\": \"first_score\"}}, \"yaxis\": {\"title\": {\"text\": \"second_score\"}}},\n",
       "                        {\"responsive\": true}\n",
       "                    ).then(function(){\n",
       "                            \n",
       "var gd = document.getElementById('6390b364-d8f7-486c-ae9d-ce7f80d486e2');\n",
       "var x = new MutationObserver(function (mutations, observer) {{\n",
       "        var display = window.getComputedStyle(gd).display;\n",
       "        if (!display || display === 'none') {{\n",
       "            console.log([gd, 'removed!']);\n",
       "            Plotly.purge(gd);\n",
       "            observer.disconnect();\n",
       "        }}\n",
       "}});\n",
       "\n",
       "// Listen for the removal of the full notebook cells\n",
       "var notebookContainer = gd.closest('#notebook-container');\n",
       "if (notebookContainer) {{\n",
       "    x.observe(notebookContainer, {childList: true});\n",
       "}}\n",
       "\n",
       "// Listen for the clearing of the current output cell\n",
       "var outputEl = gd.closest('.output');\n",
       "if (outputEl) {{\n",
       "    x.observe(outputEl, {childList: true});\n",
       "}}\n",
       "\n",
       "                        })\n",
       "                };\n",
       "                });\n",
       "            </script>\n",
       "        </div>"
      ]
     },
     "metadata": {},
     "output_type": "display_data"
    }
   ],
   "source": [
    "data = [go.Scatter(\n",
    "        x=df['first_score'],\n",
    "        y=df['second_score'],\n",
    "        mode='markers',\n",
    "        marker=dict(\n",
    "            sizemin=10,\n",
    "            symbol=df['application_result'],#散点类型\n",
    "            color=df['application_result'],#散点颜色\n",
    "            line=dict(color='black', width=1.2)))]\n",
    "figure = go.Figure(\n",
    "    data=data,\n",
    "    layout=go.Layout(\n",
    "        height=500,\n",
    "        width=500,\n",
    "        xaxis=dict(title='first_score'),\n",
    "        yaxis=dict(title='second_score')))\n",
    "iplot(figure)"
   ]
  },
  {
   "cell_type": "markdown",
   "metadata": {},
   "source": [
    "* 从图中可以看出，录取与否两个分类当中有着清晰的决策边界。"
   ]
  },
  {
   "cell_type": "markdown",
   "metadata": {},
   "source": [
    "## 3）构建假设函数（Hypothesis）\n",
    "g 代表一个常用的逻辑函数（logistic function），为S形函数（Sigmoid function），公式为： \\\\[g\\left( z \\right)=\\frac{1}{1+{{e}^{-z}}}\\\\] \n",
    "合起来，逻辑回归模型的假设函数： \n",
    "\t\\\\[{{h}_{\\theta }}\\left( x \\right)=\\frac{1}{1+{{e}^{-{{\\theta }^{T}}X}}}\\\\] "
   ]
  },
  {
   "cell_type": "code",
   "execution_count": 363,
   "metadata": {},
   "outputs": [],
   "source": [
    "# 定义sigmoid function\n",
    "def sigmoid(z):\n",
    "    g=1 / (1 + np.exp(-z))\n",
    "    return g"
   ]
  },
  {
   "cell_type": "code",
   "execution_count": 364,
   "metadata": {},
   "outputs": [
    {
     "data": {
      "application/vnd.plotly.v1+json": {
       "config": {
        "linkText": "Export to plot.ly",
        "plotlyServerURL": "https://plot.ly",
        "showLink": false
       },
       "data": [
        {
         "mode": "lines",
         "type": "scatter",
         "x": [
          -10,
          -9,
          -8,
          -7,
          -6,
          -5,
          -4,
          -3,
          -2,
          -1,
          0,
          1,
          2,
          3,
          4,
          5,
          6,
          7,
          8,
          9
         ],
         "y": [
          4.5397868702434395e-05,
          0.00012339457598623172,
          0.0003353501304664781,
          0.0009110511944006454,
          0.0024726231566347743,
          0.0066928509242848554,
          0.01798620996209156,
          0.04742587317756678,
          0.11920292202211755,
          0.2689414213699951,
          0.5,
          0.7310585786300049,
          0.8807970779778823,
          0.9525741268224334,
          0.9820137900379085,
          0.9933071490757153,
          0.9975273768433653,
          0.9990889488055994,
          0.9996646498695336,
          0.9998766054240137
         ]
        }
       ],
       "layout": {
        "template": {
         "data": {
          "bar": [
           {
            "error_x": {
             "color": "#2a3f5f"
            },
            "error_y": {
             "color": "#2a3f5f"
            },
            "marker": {
             "line": {
              "color": "#E5ECF6",
              "width": 0.5
             }
            },
            "type": "bar"
           }
          ],
          "barpolar": [
           {
            "marker": {
             "line": {
              "color": "#E5ECF6",
              "width": 0.5
             }
            },
            "type": "barpolar"
           }
          ],
          "carpet": [
           {
            "aaxis": {
             "endlinecolor": "#2a3f5f",
             "gridcolor": "white",
             "linecolor": "white",
             "minorgridcolor": "white",
             "startlinecolor": "#2a3f5f"
            },
            "baxis": {
             "endlinecolor": "#2a3f5f",
             "gridcolor": "white",
             "linecolor": "white",
             "minorgridcolor": "white",
             "startlinecolor": "#2a3f5f"
            },
            "type": "carpet"
           }
          ],
          "choropleth": [
           {
            "colorbar": {
             "outlinewidth": 0,
             "ticks": ""
            },
            "type": "choropleth"
           }
          ],
          "contour": [
           {
            "colorbar": {
             "outlinewidth": 0,
             "ticks": ""
            },
            "colorscale": [
             [
              0,
              "#0d0887"
             ],
             [
              0.1111111111111111,
              "#46039f"
             ],
             [
              0.2222222222222222,
              "#7201a8"
             ],
             [
              0.3333333333333333,
              "#9c179e"
             ],
             [
              0.4444444444444444,
              "#bd3786"
             ],
             [
              0.5555555555555556,
              "#d8576b"
             ],
             [
              0.6666666666666666,
              "#ed7953"
             ],
             [
              0.7777777777777778,
              "#fb9f3a"
             ],
             [
              0.8888888888888888,
              "#fdca26"
             ],
             [
              1,
              "#f0f921"
             ]
            ],
            "type": "contour"
           }
          ],
          "contourcarpet": [
           {
            "colorbar": {
             "outlinewidth": 0,
             "ticks": ""
            },
            "type": "contourcarpet"
           }
          ],
          "heatmap": [
           {
            "colorbar": {
             "outlinewidth": 0,
             "ticks": ""
            },
            "colorscale": [
             [
              0,
              "#0d0887"
             ],
             [
              0.1111111111111111,
              "#46039f"
             ],
             [
              0.2222222222222222,
              "#7201a8"
             ],
             [
              0.3333333333333333,
              "#9c179e"
             ],
             [
              0.4444444444444444,
              "#bd3786"
             ],
             [
              0.5555555555555556,
              "#d8576b"
             ],
             [
              0.6666666666666666,
              "#ed7953"
             ],
             [
              0.7777777777777778,
              "#fb9f3a"
             ],
             [
              0.8888888888888888,
              "#fdca26"
             ],
             [
              1,
              "#f0f921"
             ]
            ],
            "type": "heatmap"
           }
          ],
          "heatmapgl": [
           {
            "colorbar": {
             "outlinewidth": 0,
             "ticks": ""
            },
            "colorscale": [
             [
              0,
              "#0d0887"
             ],
             [
              0.1111111111111111,
              "#46039f"
             ],
             [
              0.2222222222222222,
              "#7201a8"
             ],
             [
              0.3333333333333333,
              "#9c179e"
             ],
             [
              0.4444444444444444,
              "#bd3786"
             ],
             [
              0.5555555555555556,
              "#d8576b"
             ],
             [
              0.6666666666666666,
              "#ed7953"
             ],
             [
              0.7777777777777778,
              "#fb9f3a"
             ],
             [
              0.8888888888888888,
              "#fdca26"
             ],
             [
              1,
              "#f0f921"
             ]
            ],
            "type": "heatmapgl"
           }
          ],
          "histogram": [
           {
            "marker": {
             "colorbar": {
              "outlinewidth": 0,
              "ticks": ""
             }
            },
            "type": "histogram"
           }
          ],
          "histogram2d": [
           {
            "colorbar": {
             "outlinewidth": 0,
             "ticks": ""
            },
            "colorscale": [
             [
              0,
              "#0d0887"
             ],
             [
              0.1111111111111111,
              "#46039f"
             ],
             [
              0.2222222222222222,
              "#7201a8"
             ],
             [
              0.3333333333333333,
              "#9c179e"
             ],
             [
              0.4444444444444444,
              "#bd3786"
             ],
             [
              0.5555555555555556,
              "#d8576b"
             ],
             [
              0.6666666666666666,
              "#ed7953"
             ],
             [
              0.7777777777777778,
              "#fb9f3a"
             ],
             [
              0.8888888888888888,
              "#fdca26"
             ],
             [
              1,
              "#f0f921"
             ]
            ],
            "type": "histogram2d"
           }
          ],
          "histogram2dcontour": [
           {
            "colorbar": {
             "outlinewidth": 0,
             "ticks": ""
            },
            "colorscale": [
             [
              0,
              "#0d0887"
             ],
             [
              0.1111111111111111,
              "#46039f"
             ],
             [
              0.2222222222222222,
              "#7201a8"
             ],
             [
              0.3333333333333333,
              "#9c179e"
             ],
             [
              0.4444444444444444,
              "#bd3786"
             ],
             [
              0.5555555555555556,
              "#d8576b"
             ],
             [
              0.6666666666666666,
              "#ed7953"
             ],
             [
              0.7777777777777778,
              "#fb9f3a"
             ],
             [
              0.8888888888888888,
              "#fdca26"
             ],
             [
              1,
              "#f0f921"
             ]
            ],
            "type": "histogram2dcontour"
           }
          ],
          "mesh3d": [
           {
            "colorbar": {
             "outlinewidth": 0,
             "ticks": ""
            },
            "type": "mesh3d"
           }
          ],
          "parcoords": [
           {
            "line": {
             "colorbar": {
              "outlinewidth": 0,
              "ticks": ""
             }
            },
            "type": "parcoords"
           }
          ],
          "pie": [
           {
            "automargin": true,
            "type": "pie"
           }
          ],
          "scatter": [
           {
            "marker": {
             "colorbar": {
              "outlinewidth": 0,
              "ticks": ""
             }
            },
            "type": "scatter"
           }
          ],
          "scatter3d": [
           {
            "line": {
             "colorbar": {
              "outlinewidth": 0,
              "ticks": ""
             }
            },
            "marker": {
             "colorbar": {
              "outlinewidth": 0,
              "ticks": ""
             }
            },
            "type": "scatter3d"
           }
          ],
          "scattercarpet": [
           {
            "marker": {
             "colorbar": {
              "outlinewidth": 0,
              "ticks": ""
             }
            },
            "type": "scattercarpet"
           }
          ],
          "scattergeo": [
           {
            "marker": {
             "colorbar": {
              "outlinewidth": 0,
              "ticks": ""
             }
            },
            "type": "scattergeo"
           }
          ],
          "scattergl": [
           {
            "marker": {
             "colorbar": {
              "outlinewidth": 0,
              "ticks": ""
             }
            },
            "type": "scattergl"
           }
          ],
          "scattermapbox": [
           {
            "marker": {
             "colorbar": {
              "outlinewidth": 0,
              "ticks": ""
             }
            },
            "type": "scattermapbox"
           }
          ],
          "scatterpolar": [
           {
            "marker": {
             "colorbar": {
              "outlinewidth": 0,
              "ticks": ""
             }
            },
            "type": "scatterpolar"
           }
          ],
          "scatterpolargl": [
           {
            "marker": {
             "colorbar": {
              "outlinewidth": 0,
              "ticks": ""
             }
            },
            "type": "scatterpolargl"
           }
          ],
          "scatterternary": [
           {
            "marker": {
             "colorbar": {
              "outlinewidth": 0,
              "ticks": ""
             }
            },
            "type": "scatterternary"
           }
          ],
          "surface": [
           {
            "colorbar": {
             "outlinewidth": 0,
             "ticks": ""
            },
            "colorscale": [
             [
              0,
              "#0d0887"
             ],
             [
              0.1111111111111111,
              "#46039f"
             ],
             [
              0.2222222222222222,
              "#7201a8"
             ],
             [
              0.3333333333333333,
              "#9c179e"
             ],
             [
              0.4444444444444444,
              "#bd3786"
             ],
             [
              0.5555555555555556,
              "#d8576b"
             ],
             [
              0.6666666666666666,
              "#ed7953"
             ],
             [
              0.7777777777777778,
              "#fb9f3a"
             ],
             [
              0.8888888888888888,
              "#fdca26"
             ],
             [
              1,
              "#f0f921"
             ]
            ],
            "type": "surface"
           }
          ],
          "table": [
           {
            "cells": {
             "fill": {
              "color": "#EBF0F8"
             },
             "line": {
              "color": "white"
             }
            },
            "header": {
             "fill": {
              "color": "#C8D4E3"
             },
             "line": {
              "color": "white"
             }
            },
            "type": "table"
           }
          ]
         },
         "layout": {
          "annotationdefaults": {
           "arrowcolor": "#2a3f5f",
           "arrowhead": 0,
           "arrowwidth": 1
          },
          "coloraxis": {
           "colorbar": {
            "outlinewidth": 0,
            "ticks": ""
           }
          },
          "colorscale": {
           "diverging": [
            [
             0,
             "#8e0152"
            ],
            [
             0.1,
             "#c51b7d"
            ],
            [
             0.2,
             "#de77ae"
            ],
            [
             0.3,
             "#f1b6da"
            ],
            [
             0.4,
             "#fde0ef"
            ],
            [
             0.5,
             "#f7f7f7"
            ],
            [
             0.6,
             "#e6f5d0"
            ],
            [
             0.7,
             "#b8e186"
            ],
            [
             0.8,
             "#7fbc41"
            ],
            [
             0.9,
             "#4d9221"
            ],
            [
             1,
             "#276419"
            ]
           ],
           "sequential": [
            [
             0,
             "#0d0887"
            ],
            [
             0.1111111111111111,
             "#46039f"
            ],
            [
             0.2222222222222222,
             "#7201a8"
            ],
            [
             0.3333333333333333,
             "#9c179e"
            ],
            [
             0.4444444444444444,
             "#bd3786"
            ],
            [
             0.5555555555555556,
             "#d8576b"
            ],
            [
             0.6666666666666666,
             "#ed7953"
            ],
            [
             0.7777777777777778,
             "#fb9f3a"
            ],
            [
             0.8888888888888888,
             "#fdca26"
            ],
            [
             1,
             "#f0f921"
            ]
           ],
           "sequentialminus": [
            [
             0,
             "#0d0887"
            ],
            [
             0.1111111111111111,
             "#46039f"
            ],
            [
             0.2222222222222222,
             "#7201a8"
            ],
            [
             0.3333333333333333,
             "#9c179e"
            ],
            [
             0.4444444444444444,
             "#bd3786"
            ],
            [
             0.5555555555555556,
             "#d8576b"
            ],
            [
             0.6666666666666666,
             "#ed7953"
            ],
            [
             0.7777777777777778,
             "#fb9f3a"
            ],
            [
             0.8888888888888888,
             "#fdca26"
            ],
            [
             1,
             "#f0f921"
            ]
           ]
          },
          "colorway": [
           "#636efa",
           "#EF553B",
           "#00cc96",
           "#ab63fa",
           "#FFA15A",
           "#19d3f3",
           "#FF6692",
           "#B6E880",
           "#FF97FF",
           "#FECB52"
          ],
          "font": {
           "color": "#2a3f5f"
          },
          "geo": {
           "bgcolor": "white",
           "lakecolor": "white",
           "landcolor": "#E5ECF6",
           "showlakes": true,
           "showland": true,
           "subunitcolor": "white"
          },
          "hoverlabel": {
           "align": "left"
          },
          "hovermode": "closest",
          "mapbox": {
           "style": "light"
          },
          "paper_bgcolor": "white",
          "plot_bgcolor": "#E5ECF6",
          "polar": {
           "angularaxis": {
            "gridcolor": "white",
            "linecolor": "white",
            "ticks": ""
           },
           "bgcolor": "#E5ECF6",
           "radialaxis": {
            "gridcolor": "white",
            "linecolor": "white",
            "ticks": ""
           }
          },
          "scene": {
           "xaxis": {
            "backgroundcolor": "#E5ECF6",
            "gridcolor": "white",
            "gridwidth": 2,
            "linecolor": "white",
            "showbackground": true,
            "ticks": "",
            "zerolinecolor": "white"
           },
           "yaxis": {
            "backgroundcolor": "#E5ECF6",
            "gridcolor": "white",
            "gridwidth": 2,
            "linecolor": "white",
            "showbackground": true,
            "ticks": "",
            "zerolinecolor": "white"
           },
           "zaxis": {
            "backgroundcolor": "#E5ECF6",
            "gridcolor": "white",
            "gridwidth": 2,
            "linecolor": "white",
            "showbackground": true,
            "ticks": "",
            "zerolinecolor": "white"
           }
          },
          "shapedefaults": {
           "line": {
            "color": "#2a3f5f"
           }
          },
          "ternary": {
           "aaxis": {
            "gridcolor": "white",
            "linecolor": "white",
            "ticks": ""
           },
           "baxis": {
            "gridcolor": "white",
            "linecolor": "white",
            "ticks": ""
           },
           "bgcolor": "#E5ECF6",
           "caxis": {
            "gridcolor": "white",
            "linecolor": "white",
            "ticks": ""
           }
          },
          "title": {
           "x": 0.05
          },
          "xaxis": {
           "automargin": true,
           "gridcolor": "white",
           "linecolor": "white",
           "ticks": "",
           "title": {
            "standoff": 15
           },
           "zerolinecolor": "white",
           "zerolinewidth": 2
          },
          "yaxis": {
           "automargin": true,
           "gridcolor": "white",
           "linecolor": "white",
           "ticks": "",
           "title": {
            "standoff": 15
           },
           "zerolinecolor": "white",
           "zerolinewidth": 2
          }
         }
        }
       }
      },
      "text/html": [
       "<div>\n",
       "        \n",
       "        \n",
       "            <div id=\"96978372-c487-4f34-9b11-108ceb01cc17\" class=\"plotly-graph-div\" style=\"height:525px; width:100%;\"></div>\n",
       "            <script type=\"text/javascript\">\n",
       "                require([\"plotly\"], function(Plotly) {\n",
       "                    window.PLOTLYENV=window.PLOTLYENV || {};\n",
       "                    \n",
       "                if (document.getElementById(\"96978372-c487-4f34-9b11-108ceb01cc17\")) {\n",
       "                    Plotly.newPlot(\n",
       "                        '96978372-c487-4f34-9b11-108ceb01cc17',\n",
       "                        [{\"mode\": \"lines\", \"type\": \"scatter\", \"x\": [-10, -9, -8, -7, -6, -5, -4, -3, -2, -1, 0, 1, 2, 3, 4, 5, 6, 7, 8, 9], \"y\": [4.5397868702434395e-05, 0.00012339457598623172, 0.0003353501304664781, 0.0009110511944006454, 0.0024726231566347743, 0.0066928509242848554, 0.01798620996209156, 0.04742587317756678, 0.11920292202211755, 0.2689414213699951, 0.5, 0.7310585786300049, 0.8807970779778823, 0.9525741268224334, 0.9820137900379085, 0.9933071490757153, 0.9975273768433653, 0.9990889488055994, 0.9996646498695336, 0.9998766054240137]}],\n",
       "                        {\"template\": {\"data\": {\"bar\": [{\"error_x\": {\"color\": \"#2a3f5f\"}, \"error_y\": {\"color\": \"#2a3f5f\"}, \"marker\": {\"line\": {\"color\": \"#E5ECF6\", \"width\": 0.5}}, \"type\": \"bar\"}], \"barpolar\": [{\"marker\": {\"line\": {\"color\": \"#E5ECF6\", \"width\": 0.5}}, \"type\": \"barpolar\"}], \"carpet\": [{\"aaxis\": {\"endlinecolor\": \"#2a3f5f\", \"gridcolor\": \"white\", \"linecolor\": \"white\", \"minorgridcolor\": \"white\", \"startlinecolor\": \"#2a3f5f\"}, \"baxis\": {\"endlinecolor\": \"#2a3f5f\", \"gridcolor\": \"white\", \"linecolor\": \"white\", \"minorgridcolor\": \"white\", \"startlinecolor\": \"#2a3f5f\"}, \"type\": \"carpet\"}], \"choropleth\": [{\"colorbar\": {\"outlinewidth\": 0, \"ticks\": \"\"}, \"type\": \"choropleth\"}], \"contour\": [{\"colorbar\": {\"outlinewidth\": 0, \"ticks\": \"\"}, \"colorscale\": [[0.0, \"#0d0887\"], [0.1111111111111111, \"#46039f\"], [0.2222222222222222, \"#7201a8\"], [0.3333333333333333, \"#9c179e\"], [0.4444444444444444, \"#bd3786\"], [0.5555555555555556, \"#d8576b\"], [0.6666666666666666, \"#ed7953\"], [0.7777777777777778, \"#fb9f3a\"], [0.8888888888888888, \"#fdca26\"], [1.0, \"#f0f921\"]], \"type\": \"contour\"}], \"contourcarpet\": [{\"colorbar\": {\"outlinewidth\": 0, \"ticks\": \"\"}, \"type\": \"contourcarpet\"}], \"heatmap\": [{\"colorbar\": {\"outlinewidth\": 0, \"ticks\": \"\"}, \"colorscale\": [[0.0, \"#0d0887\"], [0.1111111111111111, \"#46039f\"], [0.2222222222222222, \"#7201a8\"], [0.3333333333333333, \"#9c179e\"], [0.4444444444444444, \"#bd3786\"], [0.5555555555555556, \"#d8576b\"], [0.6666666666666666, \"#ed7953\"], [0.7777777777777778, \"#fb9f3a\"], [0.8888888888888888, \"#fdca26\"], [1.0, \"#f0f921\"]], \"type\": \"heatmap\"}], \"heatmapgl\": [{\"colorbar\": {\"outlinewidth\": 0, \"ticks\": \"\"}, \"colorscale\": [[0.0, \"#0d0887\"], [0.1111111111111111, \"#46039f\"], [0.2222222222222222, \"#7201a8\"], [0.3333333333333333, \"#9c179e\"], [0.4444444444444444, \"#bd3786\"], [0.5555555555555556, \"#d8576b\"], [0.6666666666666666, \"#ed7953\"], [0.7777777777777778, \"#fb9f3a\"], [0.8888888888888888, \"#fdca26\"], [1.0, \"#f0f921\"]], \"type\": \"heatmapgl\"}], \"histogram\": [{\"marker\": {\"colorbar\": {\"outlinewidth\": 0, \"ticks\": \"\"}}, \"type\": \"histogram\"}], \"histogram2d\": [{\"colorbar\": {\"outlinewidth\": 0, \"ticks\": \"\"}, \"colorscale\": [[0.0, \"#0d0887\"], [0.1111111111111111, \"#46039f\"], [0.2222222222222222, \"#7201a8\"], [0.3333333333333333, \"#9c179e\"], [0.4444444444444444, \"#bd3786\"], [0.5555555555555556, \"#d8576b\"], [0.6666666666666666, \"#ed7953\"], [0.7777777777777778, \"#fb9f3a\"], [0.8888888888888888, \"#fdca26\"], [1.0, \"#f0f921\"]], \"type\": \"histogram2d\"}], \"histogram2dcontour\": [{\"colorbar\": {\"outlinewidth\": 0, \"ticks\": \"\"}, \"colorscale\": [[0.0, \"#0d0887\"], [0.1111111111111111, \"#46039f\"], [0.2222222222222222, \"#7201a8\"], [0.3333333333333333, \"#9c179e\"], [0.4444444444444444, \"#bd3786\"], [0.5555555555555556, \"#d8576b\"], [0.6666666666666666, \"#ed7953\"], [0.7777777777777778, \"#fb9f3a\"], [0.8888888888888888, \"#fdca26\"], [1.0, \"#f0f921\"]], \"type\": \"histogram2dcontour\"}], \"mesh3d\": [{\"colorbar\": {\"outlinewidth\": 0, \"ticks\": \"\"}, \"type\": \"mesh3d\"}], \"parcoords\": [{\"line\": {\"colorbar\": {\"outlinewidth\": 0, \"ticks\": \"\"}}, \"type\": \"parcoords\"}], \"pie\": [{\"automargin\": true, \"type\": \"pie\"}], \"scatter\": [{\"marker\": {\"colorbar\": {\"outlinewidth\": 0, \"ticks\": \"\"}}, \"type\": \"scatter\"}], \"scatter3d\": [{\"line\": {\"colorbar\": {\"outlinewidth\": 0, \"ticks\": \"\"}}, \"marker\": {\"colorbar\": {\"outlinewidth\": 0, \"ticks\": \"\"}}, \"type\": \"scatter3d\"}], \"scattercarpet\": [{\"marker\": {\"colorbar\": {\"outlinewidth\": 0, \"ticks\": \"\"}}, \"type\": \"scattercarpet\"}], \"scattergeo\": [{\"marker\": {\"colorbar\": {\"outlinewidth\": 0, \"ticks\": \"\"}}, \"type\": \"scattergeo\"}], \"scattergl\": [{\"marker\": {\"colorbar\": {\"outlinewidth\": 0, \"ticks\": \"\"}}, \"type\": \"scattergl\"}], \"scattermapbox\": [{\"marker\": {\"colorbar\": {\"outlinewidth\": 0, \"ticks\": \"\"}}, \"type\": \"scattermapbox\"}], \"scatterpolar\": [{\"marker\": {\"colorbar\": {\"outlinewidth\": 0, \"ticks\": \"\"}}, \"type\": \"scatterpolar\"}], \"scatterpolargl\": [{\"marker\": {\"colorbar\": {\"outlinewidth\": 0, \"ticks\": \"\"}}, \"type\": \"scatterpolargl\"}], \"scatterternary\": [{\"marker\": {\"colorbar\": {\"outlinewidth\": 0, \"ticks\": \"\"}}, \"type\": \"scatterternary\"}], \"surface\": [{\"colorbar\": {\"outlinewidth\": 0, \"ticks\": \"\"}, \"colorscale\": [[0.0, \"#0d0887\"], [0.1111111111111111, \"#46039f\"], [0.2222222222222222, \"#7201a8\"], [0.3333333333333333, \"#9c179e\"], [0.4444444444444444, \"#bd3786\"], [0.5555555555555556, \"#d8576b\"], [0.6666666666666666, \"#ed7953\"], [0.7777777777777778, \"#fb9f3a\"], [0.8888888888888888, \"#fdca26\"], [1.0, \"#f0f921\"]], \"type\": \"surface\"}], \"table\": [{\"cells\": {\"fill\": {\"color\": \"#EBF0F8\"}, \"line\": {\"color\": \"white\"}}, \"header\": {\"fill\": {\"color\": \"#C8D4E3\"}, \"line\": {\"color\": \"white\"}}, \"type\": \"table\"}]}, \"layout\": {\"annotationdefaults\": {\"arrowcolor\": \"#2a3f5f\", \"arrowhead\": 0, \"arrowwidth\": 1}, \"coloraxis\": {\"colorbar\": {\"outlinewidth\": 0, \"ticks\": \"\"}}, \"colorscale\": {\"diverging\": [[0, \"#8e0152\"], [0.1, \"#c51b7d\"], [0.2, \"#de77ae\"], [0.3, \"#f1b6da\"], [0.4, \"#fde0ef\"], [0.5, \"#f7f7f7\"], [0.6, \"#e6f5d0\"], [0.7, \"#b8e186\"], [0.8, \"#7fbc41\"], [0.9, \"#4d9221\"], [1, \"#276419\"]], \"sequential\": [[0.0, \"#0d0887\"], [0.1111111111111111, \"#46039f\"], [0.2222222222222222, \"#7201a8\"], [0.3333333333333333, \"#9c179e\"], [0.4444444444444444, \"#bd3786\"], [0.5555555555555556, \"#d8576b\"], [0.6666666666666666, \"#ed7953\"], [0.7777777777777778, \"#fb9f3a\"], [0.8888888888888888, \"#fdca26\"], [1.0, \"#f0f921\"]], \"sequentialminus\": [[0.0, \"#0d0887\"], [0.1111111111111111, \"#46039f\"], [0.2222222222222222, \"#7201a8\"], [0.3333333333333333, \"#9c179e\"], [0.4444444444444444, \"#bd3786\"], [0.5555555555555556, \"#d8576b\"], [0.6666666666666666, \"#ed7953\"], [0.7777777777777778, \"#fb9f3a\"], [0.8888888888888888, \"#fdca26\"], [1.0, \"#f0f921\"]]}, \"colorway\": [\"#636efa\", \"#EF553B\", \"#00cc96\", \"#ab63fa\", \"#FFA15A\", \"#19d3f3\", \"#FF6692\", \"#B6E880\", \"#FF97FF\", \"#FECB52\"], \"font\": {\"color\": \"#2a3f5f\"}, \"geo\": {\"bgcolor\": \"white\", \"lakecolor\": \"white\", \"landcolor\": \"#E5ECF6\", \"showlakes\": true, \"showland\": true, \"subunitcolor\": \"white\"}, \"hoverlabel\": {\"align\": \"left\"}, \"hovermode\": \"closest\", \"mapbox\": {\"style\": \"light\"}, \"paper_bgcolor\": \"white\", \"plot_bgcolor\": \"#E5ECF6\", \"polar\": {\"angularaxis\": {\"gridcolor\": \"white\", \"linecolor\": \"white\", \"ticks\": \"\"}, \"bgcolor\": \"#E5ECF6\", \"radialaxis\": {\"gridcolor\": \"white\", \"linecolor\": \"white\", \"ticks\": \"\"}}, \"scene\": {\"xaxis\": {\"backgroundcolor\": \"#E5ECF6\", \"gridcolor\": \"white\", \"gridwidth\": 2, \"linecolor\": \"white\", \"showbackground\": true, \"ticks\": \"\", \"zerolinecolor\": \"white\"}, \"yaxis\": {\"backgroundcolor\": \"#E5ECF6\", \"gridcolor\": \"white\", \"gridwidth\": 2, \"linecolor\": \"white\", \"showbackground\": true, \"ticks\": \"\", \"zerolinecolor\": \"white\"}, \"zaxis\": {\"backgroundcolor\": \"#E5ECF6\", \"gridcolor\": \"white\", \"gridwidth\": 2, \"linecolor\": \"white\", \"showbackground\": true, \"ticks\": \"\", \"zerolinecolor\": \"white\"}}, \"shapedefaults\": {\"line\": {\"color\": \"#2a3f5f\"}}, \"ternary\": {\"aaxis\": {\"gridcolor\": \"white\", \"linecolor\": \"white\", \"ticks\": \"\"}, \"baxis\": {\"gridcolor\": \"white\", \"linecolor\": \"white\", \"ticks\": \"\"}, \"bgcolor\": \"#E5ECF6\", \"caxis\": {\"gridcolor\": \"white\", \"linecolor\": \"white\", \"ticks\": \"\"}}, \"title\": {\"x\": 0.05}, \"xaxis\": {\"automargin\": true, \"gridcolor\": \"white\", \"linecolor\": \"white\", \"ticks\": \"\", \"title\": {\"standoff\": 15}, \"zerolinecolor\": \"white\", \"zerolinewidth\": 2}, \"yaxis\": {\"automargin\": true, \"gridcolor\": \"white\", \"linecolor\": \"white\", \"ticks\": \"\", \"title\": {\"standoff\": 15}, \"zerolinecolor\": \"white\", \"zerolinewidth\": 2}}}},\n",
       "                        {\"responsive\": true}\n",
       "                    ).then(function(){\n",
       "                            \n",
       "var gd = document.getElementById('96978372-c487-4f34-9b11-108ceb01cc17');\n",
       "var x = new MutationObserver(function (mutations, observer) {{\n",
       "        var display = window.getComputedStyle(gd).display;\n",
       "        if (!display || display === 'none') {{\n",
       "            console.log([gd, 'removed!']);\n",
       "            Plotly.purge(gd);\n",
       "            observer.disconnect();\n",
       "        }}\n",
       "}});\n",
       "\n",
       "// Listen for the removal of the full notebook cells\n",
       "var notebookContainer = gd.closest('#notebook-container');\n",
       "if (notebookContainer) {{\n",
       "    x.observe(notebookContainer, {childList: true});\n",
       "}}\n",
       "\n",
       "// Listen for the clearing of the current output cell\n",
       "var outputEl = gd.closest('.output');\n",
       "if (outputEl) {{\n",
       "    x.observe(outputEl, {childList: true});\n",
       "}}\n",
       "\n",
       "                        })\n",
       "                };\n",
       "                });\n",
       "            </script>\n",
       "        </div>"
      ]
     },
     "metadata": {},
     "output_type": "display_data"
    }
   ],
   "source": [
    "# 我们来看一下S函数长啥样\n",
    "n = np.arange(-10, 10, step=1)\n",
    "s = sigmoid(n)\n",
    "\n",
    "data=[go.Scatter(x=n.tolist(),y=s.tolist(),mode='lines')]\n",
    "iplot(data)"
   ]
  },
  {
   "cell_type": "markdown",
   "metadata": {},
   "source": [
    "## 4）构建代价函数（Cost Function）\n",
    "> * $max(\\ell(\\theta)) = min(-\\ell(\\theta))$  \n",
    "> * choose $-\\ell(\\theta)$ as the cost function\n",
    "\n",
    "$$\\begin{align}\n",
    "  & J\\left( \\theta  \\right)=-\\frac{1}{m}\\sum\\limits_{i=1}^{m}{[{{y}^{(i)}}\\log \\left( {{h}_{\\theta }}\\left( {{x}^{(i)}} \\right) \\right)+\\left( 1-{{y}^{(i)}} \\right)\\log \\left( 1-{{h}_{\\theta }}\\left( {{x}^{(i)}} \\right) \\right)]} \\\\ \n",
    " & =\\frac{1}{m}\\sum\\limits_{i=1}^{m}{[-{{y}^{(i)}}\\log \\left( {{h}_{\\theta }}\\left( {{x}^{(i)}} \\right) \\right)-\\left( 1-{{y}^{(i)}} \\right)\\log \\left( 1-{{h}_{\\theta }}\\left( {{x}^{(i)}} \\right) \\right)]} \\\\ \n",
    "\\end{align}$$"
   ]
  },
  {
   "cell_type": "code",
   "execution_count": 365,
   "metadata": {
    "scrolled": true
   },
   "outputs": [
    {
     "name": "stdout",
     "output_type": "stream",
     "text": [
      "(100, 3) (100, 1) (3,)\n"
     ]
    }
   ],
   "source": [
    "# 定义theta、X、theta\n",
    "df.insert(0, 'Ones', 1)\n",
    "\n",
    "cols = df.shape[1]\n",
    "X = df.iloc[:,0:cols-1]\n",
    "y = df.iloc[:,cols-1:cols]\n",
    "\n",
    "# convert to numpy arrays and initalize the parameter array theta\n",
    "X = np.array(X.values)\n",
    "y = np.array(y.values)\n",
    "theta = np.zeros(3)\n",
    "print(X.shape,y.shape,theta.shape)"
   ]
  },
  {
   "cell_type": "code",
   "execution_count": 368,
   "metadata": {},
   "outputs": [
    {
     "data": {
      "text/plain": [
       "matrix([[0., 0., 0.]])"
      ]
     },
     "execution_count": 368,
     "metadata": {},
     "output_type": "execute_result"
    }
   ],
   "source": [
    "np.matrix(theta)"
   ]
  },
  {
   "cell_type": "code",
   "execution_count": 369,
   "metadata": {},
   "outputs": [],
   "source": [
    "def cost(theta, X, y):\n",
    "    theta = np.matrix(theta)\n",
    "    X = np.matrix(X)\n",
    "    y = np.matrix(y)\n",
    "    first = np.multiply(-y, np.log(sigmoid(X * theta.T)))\n",
    "    second = np.multiply((1 - y), np.log(1 - sigmoid(X * theta.T)))\n",
    "    return np.sum(first - second) / (len(X))"
   ]
  },
  {
   "cell_type": "code",
   "execution_count": 370,
   "metadata": {},
   "outputs": [
    {
     "data": {
      "text/plain": [
       "0.6931471805599453"
      ]
     },
     "execution_count": 370,
     "metadata": {},
     "output_type": "execute_result"
    }
   ],
   "source": [
    "# 算出theta为（0,0,0）时的代价函数\n",
    "cost(theta,X,y)"
   ]
  },
  {
   "cell_type": "markdown",
   "metadata": {},
   "source": [
    "## 5）梯度下降算法（Gradient Descent）\n",
    "* 本项目使用批量梯度下降（batch gradient descent）  \n",
    "* 转化为向量化计算： $\\frac{1}{m} X^T( Sigmoid(X\\theta) - y )$\n",
    "$$\\frac{\\partial J\\left( \\theta  \\right)}{\\partial {{\\theta }_{j}}}=\\frac{1}{m}\\sum\\limits_{i=1}^{m}{({{h}_{\\theta }}\\left( {{x}^{(i)}} \\right)-{{y}^{(i)}})x_{_{j}}^{(i)}}$$"
   ]
  },
  {
   "cell_type": "code",
   "execution_count": 371,
   "metadata": {},
   "outputs": [],
   "source": [
    "def gradient(theta, X, y):\n",
    "    theta = np.matrix(theta)\n",
    "    X = np.matrix(X)\n",
    "    y = np.matrix(y)\n",
    "    \n",
    "    parameters = int(theta.ravel().shape[1])\n",
    "    grad = np.zeros(parameters)\n",
    "    \n",
    "    error = sigmoid(X * theta.T) - y\n",
    "    \n",
    "    for i in range(parameters):\n",
    "        term = np.multiply(error, X[:,i])\n",
    "        grad[i] = np.sum(term) / len(X)\n",
    "    \n",
    "    return grad"
   ]
  },
  {
   "cell_type": "markdown",
   "metadata": {},
   "source": [
    "* 这是梯度下降的偏导数计算函数，实际上我们得到的仅是一个步长。"
   ]
  },
  {
   "cell_type": "code",
   "execution_count": 372,
   "metadata": {},
   "outputs": [
    {
     "data": {
      "text/plain": [
       "array([ -0.1       , -12.00921659, -11.26284221])"
      ]
     },
     "execution_count": 372,
     "metadata": {},
     "output_type": "execute_result"
    }
   ],
   "source": [
    "# 算出theta为（0,0,0）时的偏导数（步长）\n",
    "grad=gradient(theta, X, y)\n",
    "grad"
   ]
  },
  {
   "cell_type": "markdown",
   "metadata": {},
   "source": [
    "* 实际上我们可以使用SciPy的“optimize”寻求最优参数，而不需要设置alpha。"
   ]
  },
  {
   "cell_type": "code",
   "execution_count": 373,
   "metadata": {
    "scrolled": true
   },
   "outputs": [],
   "source": [
    "import scipy.optimize as opt"
   ]
  },
  {
   "cell_type": "code",
   "execution_count": 374,
   "metadata": {},
   "outputs": [
    {
     "data": {
      "text/plain": [
       "(array([-25.16131872,   0.20623159,   0.20147149]), 36, 0)"
      ]
     },
     "execution_count": 374,
     "metadata": {},
     "output_type": "execute_result"
    }
   ],
   "source": [
    "result = opt.fmin_tnc(func=cost, x0=theta, fprime=gradient, args=(X, y))\n",
    "result"
   ]
  },
  {
   "cell_type": "code",
   "execution_count": 375,
   "metadata": {},
   "outputs": [
    {
     "data": {
      "text/plain": [
       "0.20349770158947425"
      ]
     },
     "execution_count": 375,
     "metadata": {},
     "output_type": "execute_result"
    }
   ],
   "source": [
    "# 我们来看一下最小代价函数是多少\n",
    "cost(result[0], X, y)"
   ]
  },
  {
   "cell_type": "markdown",
   "metadata": {},
   "source": [
    "## 6）预测函数\n",
    "\\\\[{{h}_{\\theta }}\\left( x \\right)=\\frac{1}{1+{{e}^{-{{\\theta }^{T}}X}}}\\\\] \n",
    "当${{h}_{\\theta }}$大于等于0.5时，预测 y=1\n",
    "\n",
    "当${{h}_{\\theta }}$小于0.5时，预测 y=0 。"
   ]
  },
  {
   "cell_type": "code",
   "execution_count": 376,
   "metadata": {},
   "outputs": [],
   "source": [
    "def predict(theta, X):\n",
    "    probability = sigmoid(X * theta.T)\n",
    "    return [1 if x >= 0.5 else 0 for x in probability]"
   ]
  },
  {
   "cell_type": "code",
   "execution_count": 377,
   "metadata": {},
   "outputs": [
    {
     "name": "stdout",
     "output_type": "stream",
     "text": [
      "accuracy = 89%\n"
     ]
    }
   ],
   "source": [
    "# 通过训练样本检测预测的准确性\n",
    "final_theta = np.matrix(result[0])\n",
    "predictions = predict(final_theta, X)\n",
    "correct = [1 if ((a == 1 and b == 1) or (a == 0 and b == 0)) else 0 for (a, b) in zip(predictions, y)]\n",
    "accuracy = (sum(map(int, correct)) % len(correct))\n",
    "print ('accuracy = {0}%'.format(accuracy))"
   ]
  },
  {
   "cell_type": "markdown",
   "metadata": {},
   "source": [
    "* 说明运用这个假设预测学生能否被录取，准确了达到89%。\n",
    "* 但实际上这是训练样本的准确性，实际预测的准确率可能要低一些。"
   ]
  },
  {
   "cell_type": "markdown",
   "metadata": {},
   "source": [
    "## 7）决策边界\n",
    "http://stats.stackexchange.com/questions/93569/why-is-logistic-regression-a-linear-classifier\n",
    "> $X \\times {{\\theta }^{T}}= 0$  (this is the line)"
   ]
  },
  {
   "cell_type": "code",
   "execution_count": 474,
   "metadata": {},
   "outputs": [],
   "source": [
    "coef=-(final_theta / final_theta[:,2])\n",
    "x = np.arange(130, step=0.1)\n",
    "y = coef[:,0] + coef[:,1]*x"
   ]
  },
  {
   "cell_type": "code",
   "execution_count": 475,
   "metadata": {},
   "outputs": [
    {
     "data": {
      "application/vnd.plotly.v1+json": {
       "config": {
        "linkText": "Export to plot.ly",
        "plotlyServerURL": "https://plot.ly",
        "showLink": false
       },
       "data": [
        {
         "marker": {
          "color": [
           0,
           0,
           0,
           1,
           1,
           0,
           1,
           1,
           1,
           1,
           0,
           0,
           1,
           1,
           0,
           1,
           1,
           0,
           1,
           1,
           0,
           1,
           0,
           0,
           1,
           1,
           1,
           0,
           0,
           0,
           1,
           1,
           0,
           1,
           0,
           0,
           0,
           1,
           0,
           0,
           1,
           0,
           1,
           0,
           0,
           0,
           1,
           1,
           1,
           1,
           1,
           1,
           1,
           0,
           0,
           0,
           1,
           0,
           1,
           1,
           1,
           0,
           0,
           0,
           0,
           0,
           1,
           0,
           1,
           1,
           0,
           1,
           1,
           1,
           1,
           1,
           1,
           1,
           0,
           0,
           1,
           1,
           1,
           1,
           1,
           1,
           0,
           1,
           1,
           0,
           1,
           1,
           0,
           1,
           1,
           1,
           1,
           1,
           1,
           1
          ],
          "line": {
           "color": "black",
           "width": 1.2
          },
          "sizemin": 10,
          "symbol": [
           0,
           0,
           0,
           1,
           1,
           0,
           1,
           1,
           1,
           1,
           0,
           0,
           1,
           1,
           0,
           1,
           1,
           0,
           1,
           1,
           0,
           1,
           0,
           0,
           1,
           1,
           1,
           0,
           0,
           0,
           1,
           1,
           0,
           1,
           0,
           0,
           0,
           1,
           0,
           0,
           1,
           0,
           1,
           0,
           0,
           0,
           1,
           1,
           1,
           1,
           1,
           1,
           1,
           0,
           0,
           0,
           1,
           0,
           1,
           1,
           1,
           0,
           0,
           0,
           0,
           0,
           1,
           0,
           1,
           1,
           0,
           1,
           1,
           1,
           1,
           1,
           1,
           1,
           0,
           0,
           1,
           1,
           1,
           1,
           1,
           1,
           0,
           1,
           1,
           0,
           1,
           1,
           0,
           1,
           1,
           1,
           1,
           1,
           1,
           1
          ]
         },
         "mode": "markers",
         "name": "training data",
         "type": "scatter",
         "x": [
          34.62365962451697,
          30.28671076822607,
          35.84740876993872,
          60.18259938620975,
          79.0327360507101,
          45.083277476683385,
          61.10666453684766,
          75.02474556738889,
          76.09878670226256,
          84.43281996120034,
          95.86155507093572,
          75.01365838958247,
          82.3070533739948,
          69.36458875970939,
          39.538339143672225,
          53.9710521485623,
          69.07014406283025,
          67.94685547711617,
          70.66150955499434,
          76.97878372747499,
          67.37202754570876,
          89.67677575072081,
          50.534788289883004,
          34.21206097786789,
          77.9240914545704,
          62.27101367004632,
          80.19018075095659,
          93.114388797442,
          61.83020602312595,
          38.78580379679423,
          61.379289447425,
          85.40451939411645,
          52.10797973193984,
          52.04540476831827,
          40.236893735451105,
          54.63510555424817,
          33.91550010906887,
          64.17698887494485,
          74.78925295941542,
          34.1836400264419,
          83.90239366249155,
          51.54772026906181,
          94.44336776917852,
          82.36875375713919,
          51.04775177128865,
          62.222675761201884,
          77.19303492601364,
          97.7715992800023,
          62.073063796676465,
          91.56497449807442,
          79.94481794066932,
          99.2725269292572,
          90.5467141139985,
          34.52451385320009,
          50.286496118990705,
          49.58667721632031,
          97.64563396007769,
          32.57720016809309,
          74.24869136721598,
          71.7964620586338,
          75.39561146568029,
          35.28611281526193,
          56.253817497116245,
          30.05882244669796,
          44.66826172480893,
          66.56089447242954,
          40.45755098375164,
          49.07256321908844,
          80.27957401466998,
          66.74671856944039,
          32.722833040603234,
          64.0393204150601,
          72.34649422579923,
          60.4578857391896,
          58.840956217268015,
          99.82785779692128,
          47.26426910848174,
          50.45815980285988,
          60.45555629271532,
          82.2266615778557,
          88.91389641665329,
          94.83450672430195,
          67.31925746917527,
          57.238706315698614,
          80.36675600171273,
          68.46852178591112,
          42.0754545384731,
          75.47770200533905,
          78.6354243489802,
          52.34800398794108,
          94.09433112516793,
          90.44855097096365,
          55.48216114069585,
          74.49269241843041,
          89.8458067072098,
          83.48916274498238,
          42.261700809981704,
          99.31500880510393,
          55.34001756003703,
          74.77589300092767
         ],
         "y": [
          78.0246928153624,
          43.894997524001006,
          72.90219802708364,
          86.30855209546827,
          75.3443764369103,
          56.316371781530506,
          96.51142588489624,
          46.55401354116538,
          87.42056971926803,
          43.533393310721095,
          38.22527805795094,
          30.60326323428011,
          76.48196330235605,
          97.71869196188608,
          76.0368108511588,
          89.20735013750205,
          52.740469730167646,
          46.67857410673128,
          92.92713789364832,
          47.575963649755316,
          42.83843832029179,
          65.79936592745237,
          48.85581152764205,
          44.209528598662885,
          68.9723599933059,
          69.95445795447587,
          44.821628932183536,
          38.80067033713209,
          50.25610789244621,
          64.99568095539578,
          72.80788731317097,
          57.05198397627122,
          63.127623768817145,
          69.43286012045222,
          71.16774802184875,
          52.21388588061123,
          98.86943574220612,
          80.90806058670817,
          41.57341522824434,
          75.2377203360134,
          56.30804621605328,
          46.85629026349976,
          65.56892160559052,
          40.61825515970618,
          45.82270145776001,
          52.060991948366784,
          70.4582000018096,
          86.7278223300282,
          96.76882412413984,
          88.69629254546598,
          74.16311935043757,
          60.99903099844988,
          43.39060180650027,
          60.39634245837173,
          49.80453881323059,
          59.80895099453265,
          68.86157272420604,
          95.59854761387876,
          69.82457122657193,
          78.45356224515052,
          85.75993667331619,
          47.02051394723416,
          39.261472510580184,
          49.59297386723685,
          66.45008614558913,
          41.09209807936973,
          97.53518548909935,
          51.88321182073966,
          92.11606081344084,
          60.99139402740989,
          43.307173064300635,
          78.03168802018232,
          96.22759296761404,
          73.09499809758037,
          75.85844831279043,
          72.36925193383884,
          88.47586499559782,
          75.80985952982456,
          42.50840943572217,
          42.719878537164576,
          69.80378889835472,
          45.69430680250754,
          66.58935317747915,
          59.51428198012957,
          90.96014789746954,
          85.59430710452014,
          78.84478600148044,
          90.42453899753963,
          96.64742716885642,
          60.76950525602592,
          77.15910509073893,
          87.50879176484702,
          35.570703472288656,
          84.84513684930135,
          45.35828361091658,
          48.38028579728175,
          87.10385094025456,
          68.77540947206617,
          64.9319380069486,
          89.52981289513276
         ]
        },
        {
         "mode": "lines",
         "name": "descision boundary",
         "type": "scatter",
         "x": [
          0,
          0.1,
          0.2,
          0.30000000000000004,
          0.4,
          0.5,
          0.6000000000000001,
          0.7000000000000001,
          0.8,
          0.9,
          1,
          1.1,
          1.2000000000000002,
          1.3,
          1.4000000000000001,
          1.5,
          1.6,
          1.7000000000000002,
          1.8,
          1.9000000000000001,
          2,
          2.1,
          2.2,
          2.3000000000000003,
          2.4000000000000004,
          2.5,
          2.6,
          2.7,
          2.8000000000000003,
          2.9000000000000004,
          3,
          3.1,
          3.2,
          3.3000000000000003,
          3.4000000000000004,
          3.5,
          3.6,
          3.7,
          3.8000000000000003,
          3.9000000000000004,
          4,
          4.1000000000000005,
          4.2,
          4.3,
          4.4,
          4.5,
          4.6000000000000005,
          4.7,
          4.800000000000001,
          4.9,
          5,
          5.1000000000000005,
          5.2,
          5.300000000000001,
          5.4,
          5.5,
          5.6000000000000005,
          5.7,
          5.800000000000001,
          5.9,
          6,
          6.1000000000000005,
          6.2,
          6.300000000000001,
          6.4,
          6.5,
          6.6000000000000005,
          6.7,
          6.800000000000001,
          6.9,
          7,
          7.1000000000000005,
          7.2,
          7.300000000000001,
          7.4,
          7.5,
          7.6000000000000005,
          7.7,
          7.800000000000001,
          7.9,
          8,
          8.1,
          8.200000000000001,
          8.3,
          8.4,
          8.5,
          8.6,
          8.700000000000001,
          8.8,
          8.9,
          9,
          9.1,
          9.200000000000001,
          9.3,
          9.4,
          9.5,
          9.600000000000001,
          9.700000000000001,
          9.8,
          9.9,
          10,
          10.100000000000001,
          10.200000000000001,
          10.3,
          10.4,
          10.5,
          10.600000000000001,
          10.700000000000001,
          10.8,
          10.9,
          11,
          11.100000000000001,
          11.200000000000001,
          11.3,
          11.4,
          11.5,
          11.600000000000001,
          11.700000000000001,
          11.8,
          11.9,
          12,
          12.100000000000001,
          12.200000000000001,
          12.3,
          12.4,
          12.5,
          12.600000000000001,
          12.700000000000001,
          12.8,
          12.9,
          13,
          13.100000000000001,
          13.200000000000001,
          13.3,
          13.4,
          13.5,
          13.600000000000001,
          13.700000000000001,
          13.8,
          13.9,
          14,
          14.100000000000001,
          14.200000000000001,
          14.3,
          14.4,
          14.5,
          14.600000000000001,
          14.700000000000001,
          14.8,
          14.9,
          15,
          15.100000000000001,
          15.200000000000001,
          15.3,
          15.4,
          15.5,
          15.600000000000001,
          15.700000000000001,
          15.8,
          15.9,
          16,
          16.1,
          16.2,
          16.3,
          16.400000000000002,
          16.5,
          16.6,
          16.7,
          16.8,
          16.900000000000002,
          17,
          17.1,
          17.2,
          17.3,
          17.400000000000002,
          17.5,
          17.6,
          17.7,
          17.8,
          17.900000000000002,
          18,
          18.1,
          18.2,
          18.3,
          18.400000000000002,
          18.5,
          18.6,
          18.7,
          18.8,
          18.900000000000002,
          19,
          19.1,
          19.200000000000003,
          19.3,
          19.400000000000002,
          19.5,
          19.6,
          19.700000000000003,
          19.8,
          19.900000000000002,
          20,
          20.1,
          20.200000000000003,
          20.3,
          20.400000000000002,
          20.5,
          20.6,
          20.700000000000003,
          20.8,
          20.900000000000002,
          21,
          21.1,
          21.200000000000003,
          21.3,
          21.400000000000002,
          21.5,
          21.6,
          21.700000000000003,
          21.8,
          21.900000000000002,
          22,
          22.1,
          22.200000000000003,
          22.3,
          22.400000000000002,
          22.5,
          22.6,
          22.700000000000003,
          22.8,
          22.900000000000002,
          23,
          23.1,
          23.200000000000003,
          23.3,
          23.400000000000002,
          23.5,
          23.6,
          23.700000000000003,
          23.8,
          23.900000000000002,
          24,
          24.1,
          24.200000000000003,
          24.3,
          24.400000000000002,
          24.5,
          24.6,
          24.700000000000003,
          24.8,
          24.900000000000002,
          25,
          25.1,
          25.200000000000003,
          25.3,
          25.400000000000002,
          25.5,
          25.6,
          25.700000000000003,
          25.8,
          25.900000000000002,
          26,
          26.1,
          26.200000000000003,
          26.3,
          26.400000000000002,
          26.5,
          26.6,
          26.700000000000003,
          26.8,
          26.900000000000002,
          27,
          27.1,
          27.200000000000003,
          27.3,
          27.400000000000002,
          27.5,
          27.6,
          27.700000000000003,
          27.8,
          27.900000000000002,
          28,
          28.1,
          28.200000000000003,
          28.3,
          28.400000000000002,
          28.5,
          28.6,
          28.700000000000003,
          28.8,
          28.900000000000002,
          29,
          29.1,
          29.200000000000003,
          29.3,
          29.400000000000002,
          29.5,
          29.6,
          29.700000000000003,
          29.8,
          29.900000000000002,
          30,
          30.1,
          30.200000000000003,
          30.3,
          30.400000000000002,
          30.5,
          30.6,
          30.700000000000003,
          30.8,
          30.900000000000002,
          31,
          31.1,
          31.200000000000003,
          31.3,
          31.400000000000002,
          31.5,
          31.6,
          31.700000000000003,
          31.8,
          31.900000000000002,
          32,
          32.1,
          32.2,
          32.300000000000004,
          32.4,
          32.5,
          32.6,
          32.7,
          32.800000000000004,
          32.9,
          33,
          33.1,
          33.2,
          33.300000000000004,
          33.4,
          33.5,
          33.6,
          33.7,
          33.800000000000004,
          33.9,
          34,
          34.1,
          34.2,
          34.300000000000004,
          34.4,
          34.5,
          34.6,
          34.7,
          34.800000000000004,
          34.9,
          35,
          35.1,
          35.2,
          35.300000000000004,
          35.4,
          35.5,
          35.6,
          35.7,
          35.800000000000004,
          35.9,
          36,
          36.1,
          36.2,
          36.300000000000004,
          36.4,
          36.5,
          36.6,
          36.7,
          36.800000000000004,
          36.9,
          37,
          37.1,
          37.2,
          37.300000000000004,
          37.4,
          37.5,
          37.6,
          37.7,
          37.800000000000004,
          37.9,
          38,
          38.1,
          38.2,
          38.300000000000004,
          38.400000000000006,
          38.5,
          38.6,
          38.7,
          38.800000000000004,
          38.900000000000006,
          39,
          39.1,
          39.2,
          39.300000000000004,
          39.400000000000006,
          39.5,
          39.6,
          39.7,
          39.800000000000004,
          39.900000000000006,
          40,
          40.1,
          40.2,
          40.300000000000004,
          40.400000000000006,
          40.5,
          40.6,
          40.7,
          40.800000000000004,
          40.900000000000006,
          41,
          41.1,
          41.2,
          41.300000000000004,
          41.400000000000006,
          41.5,
          41.6,
          41.7,
          41.800000000000004,
          41.900000000000006,
          42,
          42.1,
          42.2,
          42.300000000000004,
          42.400000000000006,
          42.5,
          42.6,
          42.7,
          42.800000000000004,
          42.900000000000006,
          43,
          43.1,
          43.2,
          43.300000000000004,
          43.400000000000006,
          43.5,
          43.6,
          43.7,
          43.800000000000004,
          43.900000000000006,
          44,
          44.1,
          44.2,
          44.300000000000004,
          44.400000000000006,
          44.5,
          44.6,
          44.7,
          44.800000000000004,
          44.900000000000006,
          45,
          45.1,
          45.2,
          45.300000000000004,
          45.400000000000006,
          45.5,
          45.6,
          45.7,
          45.800000000000004,
          45.900000000000006,
          46,
          46.1,
          46.2,
          46.300000000000004,
          46.400000000000006,
          46.5,
          46.6,
          46.7,
          46.800000000000004,
          46.900000000000006,
          47,
          47.1,
          47.2,
          47.300000000000004,
          47.400000000000006,
          47.5,
          47.6,
          47.7,
          47.800000000000004,
          47.900000000000006,
          48,
          48.1,
          48.2,
          48.300000000000004,
          48.400000000000006,
          48.5,
          48.6,
          48.7,
          48.800000000000004,
          48.900000000000006,
          49,
          49.1,
          49.2,
          49.300000000000004,
          49.400000000000006,
          49.5,
          49.6,
          49.7,
          49.800000000000004,
          49.900000000000006,
          50,
          50.1,
          50.2,
          50.300000000000004,
          50.400000000000006,
          50.5,
          50.6,
          50.7,
          50.800000000000004,
          50.900000000000006,
          51,
          51.1,
          51.2,
          51.300000000000004,
          51.400000000000006,
          51.5,
          51.6,
          51.7,
          51.800000000000004,
          51.900000000000006,
          52,
          52.1,
          52.2,
          52.300000000000004,
          52.400000000000006,
          52.5,
          52.6,
          52.7,
          52.800000000000004,
          52.900000000000006,
          53,
          53.1,
          53.2,
          53.300000000000004,
          53.400000000000006,
          53.5,
          53.6,
          53.7,
          53.800000000000004,
          53.900000000000006,
          54,
          54.1,
          54.2,
          54.300000000000004,
          54.400000000000006,
          54.5,
          54.6,
          54.7,
          54.800000000000004,
          54.900000000000006,
          55,
          55.1,
          55.2,
          55.300000000000004,
          55.400000000000006,
          55.5,
          55.6,
          55.7,
          55.800000000000004,
          55.900000000000006,
          56,
          56.1,
          56.2,
          56.300000000000004,
          56.400000000000006,
          56.5,
          56.6,
          56.7,
          56.800000000000004,
          56.900000000000006,
          57,
          57.1,
          57.2,
          57.300000000000004,
          57.400000000000006,
          57.5,
          57.6,
          57.7,
          57.800000000000004,
          57.900000000000006,
          58,
          58.1,
          58.2,
          58.300000000000004,
          58.400000000000006,
          58.5,
          58.6,
          58.7,
          58.800000000000004,
          58.900000000000006,
          59,
          59.1,
          59.2,
          59.300000000000004,
          59.400000000000006,
          59.5,
          59.6,
          59.7,
          59.800000000000004,
          59.900000000000006,
          60,
          60.1,
          60.2,
          60.300000000000004,
          60.400000000000006,
          60.5,
          60.6,
          60.7,
          60.800000000000004,
          60.900000000000006,
          61,
          61.1,
          61.2,
          61.300000000000004,
          61.400000000000006,
          61.5,
          61.6,
          61.7,
          61.800000000000004,
          61.900000000000006,
          62,
          62.1,
          62.2,
          62.300000000000004,
          62.400000000000006,
          62.5,
          62.6,
          62.7,
          62.800000000000004,
          62.900000000000006,
          63,
          63.1,
          63.2,
          63.300000000000004,
          63.400000000000006,
          63.5,
          63.6,
          63.7,
          63.800000000000004,
          63.900000000000006,
          64,
          64.10000000000001,
          64.2,
          64.3,
          64.4,
          64.5,
          64.60000000000001,
          64.7,
          64.8,
          64.9,
          65,
          65.10000000000001,
          65.2,
          65.3,
          65.4,
          65.5,
          65.60000000000001,
          65.7,
          65.8,
          65.9,
          66,
          66.10000000000001,
          66.2,
          66.3,
          66.4,
          66.5,
          66.60000000000001,
          66.7,
          66.8,
          66.9,
          67,
          67.10000000000001,
          67.2,
          67.3,
          67.4,
          67.5,
          67.60000000000001,
          67.7,
          67.8,
          67.9,
          68,
          68.10000000000001,
          68.2,
          68.3,
          68.4,
          68.5,
          68.60000000000001,
          68.7,
          68.8,
          68.9,
          69,
          69.10000000000001,
          69.2,
          69.3,
          69.4,
          69.5,
          69.60000000000001,
          69.7,
          69.8,
          69.9,
          70,
          70.10000000000001,
          70.2,
          70.3,
          70.4,
          70.5,
          70.60000000000001,
          70.7,
          70.8,
          70.9,
          71,
          71.10000000000001,
          71.2,
          71.3,
          71.4,
          71.5,
          71.60000000000001,
          71.7,
          71.8,
          71.9,
          72,
          72.10000000000001,
          72.2,
          72.3,
          72.4,
          72.5,
          72.60000000000001,
          72.7,
          72.8,
          72.9,
          73,
          73.10000000000001,
          73.2,
          73.3,
          73.4,
          73.5,
          73.60000000000001,
          73.7,
          73.8,
          73.9,
          74,
          74.10000000000001,
          74.2,
          74.3,
          74.4,
          74.5,
          74.60000000000001,
          74.7,
          74.8,
          74.9,
          75,
          75.10000000000001,
          75.2,
          75.3,
          75.4,
          75.5,
          75.60000000000001,
          75.7,
          75.8,
          75.9,
          76,
          76.10000000000001,
          76.2,
          76.3,
          76.4,
          76.5,
          76.60000000000001,
          76.7,
          76.80000000000001,
          76.9,
          77,
          77.10000000000001,
          77.2,
          77.30000000000001,
          77.4,
          77.5,
          77.60000000000001,
          77.7,
          77.80000000000001,
          77.9,
          78,
          78.10000000000001,
          78.2,
          78.30000000000001,
          78.4,
          78.5,
          78.60000000000001,
          78.7,
          78.80000000000001,
          78.9,
          79,
          79.10000000000001,
          79.2,
          79.30000000000001,
          79.4,
          79.5,
          79.60000000000001,
          79.7,
          79.80000000000001,
          79.9,
          80,
          80.10000000000001,
          80.2,
          80.30000000000001,
          80.4,
          80.5,
          80.60000000000001,
          80.7,
          80.80000000000001,
          80.9,
          81,
          81.10000000000001,
          81.2,
          81.30000000000001,
          81.4,
          81.5,
          81.60000000000001,
          81.7,
          81.80000000000001,
          81.9,
          82,
          82.10000000000001,
          82.2,
          82.30000000000001,
          82.4,
          82.5,
          82.60000000000001,
          82.7,
          82.80000000000001,
          82.9,
          83,
          83.10000000000001,
          83.2,
          83.30000000000001,
          83.4,
          83.5,
          83.60000000000001,
          83.7,
          83.80000000000001,
          83.9,
          84,
          84.10000000000001,
          84.2,
          84.30000000000001,
          84.4,
          84.5,
          84.60000000000001,
          84.7,
          84.80000000000001,
          84.9,
          85,
          85.10000000000001,
          85.2,
          85.30000000000001,
          85.4,
          85.5,
          85.60000000000001,
          85.7,
          85.80000000000001,
          85.9,
          86,
          86.10000000000001,
          86.2,
          86.30000000000001,
          86.4,
          86.5,
          86.60000000000001,
          86.7,
          86.80000000000001,
          86.9,
          87,
          87.10000000000001,
          87.2,
          87.30000000000001,
          87.4,
          87.5,
          87.60000000000001,
          87.7,
          87.80000000000001,
          87.9,
          88,
          88.10000000000001,
          88.2,
          88.30000000000001,
          88.4,
          88.5,
          88.60000000000001,
          88.7,
          88.80000000000001,
          88.9,
          89,
          89.10000000000001,
          89.2,
          89.30000000000001,
          89.4,
          89.5,
          89.60000000000001,
          89.7,
          89.80000000000001,
          89.9,
          90,
          90.10000000000001,
          90.2,
          90.30000000000001,
          90.4,
          90.5,
          90.60000000000001,
          90.7,
          90.80000000000001,
          90.9,
          91,
          91.10000000000001,
          91.2,
          91.30000000000001,
          91.4,
          91.5,
          91.60000000000001,
          91.7,
          91.80000000000001,
          91.9,
          92,
          92.10000000000001,
          92.2,
          92.30000000000001,
          92.4,
          92.5,
          92.60000000000001,
          92.7,
          92.80000000000001,
          92.9,
          93,
          93.10000000000001,
          93.2,
          93.30000000000001,
          93.4,
          93.5,
          93.60000000000001,
          93.7,
          93.80000000000001,
          93.9,
          94,
          94.10000000000001,
          94.2,
          94.30000000000001,
          94.4,
          94.5,
          94.60000000000001,
          94.7,
          94.80000000000001,
          94.9,
          95,
          95.10000000000001,
          95.2,
          95.30000000000001,
          95.4,
          95.5,
          95.60000000000001,
          95.7,
          95.80000000000001,
          95.9,
          96,
          96.10000000000001,
          96.2,
          96.30000000000001,
          96.4,
          96.5,
          96.60000000000001,
          96.7,
          96.80000000000001,
          96.9,
          97,
          97.10000000000001,
          97.2,
          97.30000000000001,
          97.4,
          97.5,
          97.60000000000001,
          97.7,
          97.80000000000001,
          97.9,
          98,
          98.10000000000001,
          98.2,
          98.30000000000001,
          98.4,
          98.5,
          98.60000000000001,
          98.7,
          98.80000000000001,
          98.9,
          99,
          99.10000000000001,
          99.2,
          99.30000000000001,
          99.4,
          99.5,
          99.60000000000001,
          99.7,
          99.80000000000001,
          99.9,
          100,
          100.10000000000001,
          100.2,
          100.30000000000001,
          100.4,
          100.5,
          100.60000000000001,
          100.7,
          100.80000000000001,
          100.9,
          101,
          101.10000000000001,
          101.2,
          101.30000000000001,
          101.4,
          101.5,
          101.60000000000001,
          101.7,
          101.80000000000001,
          101.9,
          102,
          102.10000000000001,
          102.2,
          102.30000000000001,
          102.4,
          102.5,
          102.60000000000001,
          102.7,
          102.80000000000001,
          102.9,
          103,
          103.10000000000001,
          103.2,
          103.30000000000001,
          103.4,
          103.5,
          103.60000000000001,
          103.7,
          103.80000000000001,
          103.9,
          104,
          104.10000000000001,
          104.2,
          104.30000000000001,
          104.4,
          104.5,
          104.60000000000001,
          104.7,
          104.80000000000001,
          104.9,
          105,
          105.10000000000001,
          105.2,
          105.30000000000001,
          105.4,
          105.5,
          105.60000000000001,
          105.7,
          105.80000000000001,
          105.9,
          106,
          106.10000000000001,
          106.2,
          106.30000000000001,
          106.4,
          106.5,
          106.60000000000001,
          106.7,
          106.80000000000001,
          106.9,
          107,
          107.10000000000001,
          107.2,
          107.30000000000001,
          107.4,
          107.5,
          107.60000000000001,
          107.7,
          107.80000000000001,
          107.9,
          108,
          108.10000000000001,
          108.2,
          108.30000000000001,
          108.4,
          108.5,
          108.60000000000001,
          108.7,
          108.80000000000001,
          108.9,
          109,
          109.10000000000001,
          109.2,
          109.30000000000001,
          109.4,
          109.5,
          109.60000000000001,
          109.7,
          109.80000000000001,
          109.9,
          110,
          110.10000000000001,
          110.2,
          110.30000000000001,
          110.4,
          110.5,
          110.60000000000001,
          110.7,
          110.80000000000001,
          110.9,
          111,
          111.10000000000001,
          111.2,
          111.30000000000001,
          111.4,
          111.5,
          111.60000000000001,
          111.7,
          111.80000000000001,
          111.9,
          112,
          112.10000000000001,
          112.2,
          112.30000000000001,
          112.4,
          112.5,
          112.60000000000001,
          112.7,
          112.80000000000001,
          112.9,
          113,
          113.10000000000001,
          113.2,
          113.30000000000001,
          113.4,
          113.5,
          113.60000000000001,
          113.7,
          113.80000000000001,
          113.9,
          114,
          114.10000000000001,
          114.2,
          114.30000000000001,
          114.4,
          114.5,
          114.60000000000001,
          114.7,
          114.80000000000001,
          114.9,
          115,
          115.10000000000001,
          115.2,
          115.30000000000001,
          115.4,
          115.5,
          115.60000000000001,
          115.7,
          115.80000000000001,
          115.9,
          116,
          116.10000000000001,
          116.2,
          116.30000000000001,
          116.4,
          116.5,
          116.60000000000001,
          116.7,
          116.80000000000001,
          116.9,
          117,
          117.10000000000001,
          117.2,
          117.30000000000001,
          117.4,
          117.5,
          117.60000000000001,
          117.7,
          117.80000000000001,
          117.9,
          118,
          118.10000000000001,
          118.2,
          118.30000000000001,
          118.4,
          118.5,
          118.60000000000001,
          118.7,
          118.80000000000001,
          118.9,
          119,
          119.10000000000001,
          119.2,
          119.30000000000001,
          119.4,
          119.5,
          119.60000000000001,
          119.7,
          119.80000000000001,
          119.9,
          120,
          120.10000000000001,
          120.2,
          120.30000000000001,
          120.4,
          120.5,
          120.60000000000001,
          120.7,
          120.80000000000001,
          120.9,
          121,
          121.10000000000001,
          121.2,
          121.30000000000001,
          121.4,
          121.5,
          121.60000000000001,
          121.7,
          121.80000000000001,
          121.9,
          122,
          122.10000000000001,
          122.2,
          122.30000000000001,
          122.4,
          122.5,
          122.60000000000001,
          122.7,
          122.80000000000001,
          122.9,
          123,
          123.10000000000001,
          123.2,
          123.30000000000001,
          123.4,
          123.5,
          123.60000000000001,
          123.7,
          123.80000000000001,
          123.9,
          124,
          124.10000000000001,
          124.2,
          124.30000000000001,
          124.4,
          124.5,
          124.60000000000001,
          124.7,
          124.80000000000001,
          124.9,
          125,
          125.10000000000001,
          125.2,
          125.30000000000001,
          125.4,
          125.5,
          125.60000000000001,
          125.7,
          125.80000000000001,
          125.9,
          126,
          126.10000000000001,
          126.2,
          126.30000000000001,
          126.4,
          126.5,
          126.60000000000001,
          126.7,
          126.80000000000001,
          126.9,
          127,
          127.10000000000001,
          127.2,
          127.30000000000001,
          127.4,
          127.5,
          127.60000000000001,
          127.7,
          127.80000000000001,
          127.9,
          128,
          128.1,
          128.20000000000002,
          128.3,
          128.4,
          128.5,
          128.6,
          128.70000000000002,
          128.8,
          128.9,
          129,
          129.1,
          129.20000000000002,
          129.3,
          129.4,
          129.5,
          129.6,
          129.70000000000002,
          129.8,
          129.9
         ],
         "y": [
          124.88774011781179,
          124.78537744995894,
          124.68301478210611,
          124.58065211425327,
          124.47828944640042,
          124.3759267785476,
          124.27356411069475,
          124.1712014428419,
          124.06883877498908,
          123.96647610713623,
          123.86411343928339,
          123.76175077143056,
          123.65938810357771,
          123.55702543572487,
          123.45466276787204,
          123.35230010001919,
          123.24993743216635,
          123.14757476431352,
          123.04521209646067,
          122.94284942860783,
          122.840486760755,
          122.73812409290215,
          122.63576142504931,
          122.53339875719648,
          122.43103608934364,
          122.32867342149079,
          122.22631075363796,
          122.12394808578512,
          122.02158541793227,
          121.91922275007944,
          121.8168600822266,
          121.71449741437375,
          121.61213474652092,
          121.50977207866808,
          121.40740941081523,
          121.3050467429624,
          121.20268407510956,
          121.10032140725671,
          120.99795873940388,
          120.89559607155104,
          120.7932334036982,
          120.69087073584537,
          120.58850806799252,
          120.48614540013968,
          120.38378273228685,
          120.281420064434,
          120.17905739658116,
          120.07669472872833,
          119.97433206087548,
          119.87196939302264,
          119.76960672516981,
          119.66724405731696,
          119.56488138946412,
          119.46251872161129,
          119.36015605375844,
          119.25779338590561,
          119.15543071805277,
          119.05306805019993,
          118.95070538234708,
          118.84834271449425,
          118.7459800466414,
          118.64361737878856,
          118.54125471093573,
          118.43889204308289,
          118.33652937523004,
          118.23416670737721,
          118.13180403952437,
          118.02944137167154,
          117.9270787038187,
          117.82471603596585,
          117.722353368113,
          117.61999070026017,
          117.51762803240733,
          117.4152653645545,
          117.31290269670166,
          117.21054002884881,
          117.10817736099597,
          117.00581469314314,
          116.90345202529029,
          116.80108935743746,
          116.69872668958462,
          116.59636402173177,
          116.49400135387893,
          116.3916386860261,
          116.28927601817325,
          116.18691335032042,
          116.08455068246758,
          115.98218801461474,
          115.87982534676189,
          115.77746267890906,
          115.67510001105622,
          115.57273734320339,
          115.47037467535054,
          115.3680120074977,
          115.26564933964485,
          115.16328667179202,
          115.06092400393918,
          114.95856133608635,
          114.8561986682335,
          114.75383600038066,
          114.65147333252783,
          114.54911066467498,
          114.44674799682214,
          114.34438532896931,
          114.24202266111647,
          114.13965999326362,
          114.03729732541078,
          113.93493465755795,
          113.8325719897051,
          113.73020932185227,
          113.62784665399943,
          113.52548398614658,
          113.42312131829374,
          113.32075865044091,
          113.21839598258806,
          113.11603331473523,
          113.01367064688239,
          112.91130797902954,
          112.80894531117671,
          112.70658264332387,
          112.60421997547103,
          112.5018573076182,
          112.39949463976535,
          112.2971319719125,
          112.19476930405968,
          112.09240663620683,
          111.99004396835399,
          111.88768130050116,
          111.78531863264831,
          111.68295596479547,
          111.58059329694264,
          111.4782306290898,
          111.37586796123695,
          111.27350529338412,
          111.17114262553127,
          111.06877995767843,
          110.9664172898256,
          110.86405462197276,
          110.76169195411991,
          110.65932928626708,
          110.55696661841424,
          110.45460395056139,
          110.35224128270856,
          110.24987861485572,
          110.14751594700287,
          110.04515327915004,
          109.9427906112972,
          109.84042794344435,
          109.73806527559152,
          109.63570260773868,
          109.53333993988583,
          109.430977272033,
          109.32861460418016,
          109.22625193632732,
          109.12388926847449,
          109.02152660062164,
          108.9191639327688,
          108.81680126491597,
          108.71443859706312,
          108.61207592921028,
          108.50971326135745,
          108.4073505935046,
          108.30498792565177,
          108.20262525779893,
          108.10026258994608,
          107.99789992209324,
          107.89553725424041,
          107.79317458638756,
          107.69081191853473,
          107.58844925068189,
          107.48608658282905,
          107.3837239149762,
          107.28136124712337,
          107.17899857927053,
          107.07663591141768,
          106.97427324356485,
          106.87191057571201,
          106.76954790785916,
          106.66718524000633,
          106.56482257215349,
          106.46245990430066,
          106.36009723644781,
          106.25773456859497,
          106.15537190074213,
          106.0530092328893,
          105.95064656503645,
          105.84828389718362,
          105.74592122933078,
          105.64355856147793,
          105.54119589362509,
          105.43883322577226,
          105.33647055791941,
          105.23410789006657,
          105.13174522221374,
          105.0293825543609,
          104.92701988650805,
          104.82465721865522,
          104.72229455080237,
          104.61993188294954,
          104.5175692150967,
          104.41520654724386,
          104.31284387939101,
          104.21048121153818,
          104.10811854368534,
          104.0057558758325,
          103.90339320797966,
          103.80103054012682,
          103.69866787227397,
          103.59630520442114,
          103.4939425365683,
          103.39157986871547,
          103.28921720086262,
          103.18685453300978,
          103.08449186515693,
          102.9821291973041,
          102.87976652945126,
          102.77740386159843,
          102.67504119374559,
          102.57267852589274,
          102.4703158580399,
          102.36795319018707,
          102.26559052233422,
          102.16322785448138,
          102.06086518662855,
          101.9585025187757,
          101.85613985092286,
          101.75377718307003,
          101.65141451521718,
          101.54905184736435,
          101.44668917951151,
          101.34432651165866,
          101.24196384380582,
          101.13960117595299,
          101.03723850810015,
          100.93487584024732,
          100.83251317239447,
          100.73015050454163,
          100.62778783668878,
          100.52542516883595,
          100.42306250098311,
          100.32069983313028,
          100.21833716527743,
          100.11597449742459,
          100.01361182957174,
          99.91124916171891,
          99.80888649386607,
          99.70652382601324,
          99.6041611581604,
          99.50179849030755,
          99.3994358224547,
          99.29707315460188,
          99.19471048674903,
          99.0923478188962,
          98.98998515104336,
          98.88762248319051,
          98.78525981533768,
          98.68289714748484,
          98.580534479632,
          98.47817181177916,
          98.37580914392632,
          98.27344647607347,
          98.17108380822063,
          98.0687211403678,
          97.96635847251495,
          97.86399580466212,
          97.76163313680928,
          97.65927046895644,
          97.55690780110359,
          97.45454513325076,
          97.35218246539792,
          97.24981979754509,
          97.14745712969224,
          97.0450944618394,
          96.94273179398657,
          96.84036912613372,
          96.73800645828089,
          96.63564379042805,
          96.5332811225752,
          96.43091845472236,
          96.32855578686952,
          96.22619311901668,
          96.12383045116384,
          96.02146778331101,
          95.91910511545817,
          95.81674244760532,
          95.71437977975249,
          95.61201711189965,
          95.5096544440468,
          95.40729177619397,
          95.30492910834113,
          95.20256644048828,
          95.10020377263545,
          94.99784110478261,
          94.89547843692978,
          94.79311576907693,
          94.69075310122409,
          94.58839043337125,
          94.4860277655184,
          94.38366509766557,
          94.28130242981273,
          94.1789397619599,
          94.07657709410705,
          93.9742144262542,
          93.87185175840138,
          93.76948909054853,
          93.6671264226957,
          93.56476375484286,
          93.46240108699001,
          93.36003841913717,
          93.25767575128434,
          93.1553130834315,
          93.05295041557865,
          92.95058774772582,
          92.84822507987298,
          92.74586241202013,
          92.6434997441673,
          92.54113707631446,
          92.43877440846163,
          92.33641174060878,
          92.23404907275594,
          92.13168640490309,
          92.02932373705025,
          91.92696106919742,
          91.82459840134457,
          91.72223573349174,
          91.6198730656389,
          91.51751039778605,
          91.41514772993321,
          91.31278506208038,
          91.21042239422755,
          91.1080597263747,
          91.00569705852186,
          90.90333439066902,
          90.80097172281617,
          90.69860905496336,
          90.59624638711051,
          90.49388371925767,
          90.39152105140482,
          90.28915838355198,
          90.18679571569915,
          90.0844330478463,
          89.98207037999347,
          89.87970771214063,
          89.77734504428778,
          89.67498237643494,
          89.57261970858211,
          89.47025704072927,
          89.36789437287644,
          89.26553170502359,
          89.16316903717075,
          89.0608063693179,
          88.95844370146507,
          88.85608103361223,
          88.7537183657594,
          88.65135569790655,
          88.54899303005371,
          88.44663036220086,
          88.34426769434802,
          88.24190502649519,
          88.13954235864236,
          88.03717969078951,
          87.93481702293667,
          87.83245435508383,
          87.73009168723098,
          87.62772901937817,
          87.52536635152532,
          87.42300368367248,
          87.32064101581963,
          87.21827834796679,
          87.11591568011396,
          87.01355301226113,
          86.91119034440828,
          86.80882767655544,
          86.7064650087026,
          86.60410234084975,
          86.50173967299692,
          86.39937700514407,
          86.29701433729124,
          86.1946516694384,
          86.09228900158556,
          85.98992633373271,
          85.88756366587988,
          85.78520099802704,
          85.6828383301742,
          85.58047566232136,
          85.47811299446852,
          85.37575032661567,
          85.27338765876284,
          85.17102499091,
          85.06866232305717,
          84.96629965520432,
          84.86393698735148,
          84.76157431949864,
          84.65921165164579,
          84.55684898379296,
          84.45448631594013,
          84.35212364808729,
          84.24976098023444,
          84.1473983123816,
          84.04503564452875,
          83.94267297667594,
          83.84031030882309,
          83.73794764097025,
          83.6355849731174,
          83.53322230526456,
          83.43085963741173,
          83.3284969695589,
          83.22613430170605,
          83.12377163385321,
          83.02140896600037,
          82.91904629814752,
          82.81668363029469,
          82.71432096244185,
          82.61195829458902,
          82.50959562673617,
          82.40723295888333,
          82.30487029103048,
          82.20250762317765,
          82.10014495532481,
          81.99778228747198,
          81.89541961961913,
          81.79305695176629,
          81.69069428391344,
          81.58833161606061,
          81.48596894820777,
          81.38360628035494,
          81.2812436125021,
          81.17888094464925,
          81.0765182767964,
          80.97415560894356,
          80.87179294109075,
          80.7694302732379,
          80.66706760538506,
          80.56470493753221,
          80.46234226967937,
          80.35997960182654,
          80.25761693397371,
          80.15525426612086,
          80.05289159826802,
          79.95052893041517,
          79.84816626256234,
          79.7458035947095,
          79.64344092685667,
          79.54107825900383,
          79.43871559115098,
          79.33635292329814,
          79.23399025544529,
          79.13162758759246,
          79.02926491973962,
          78.92690225188679,
          78.82453958403394,
          78.7221769161811,
          78.61981424832825,
          78.51745158047542,
          78.41508891262258,
          78.31272624476975,
          78.2103635769169,
          78.10800090906406,
          78.00563824121122,
          77.90327557335839,
          77.80091290550556,
          77.69855023765271,
          77.59618756979987,
          77.49382490194702,
          77.39146223409418,
          77.28909956624135,
          77.18673689838852,
          77.08437423053567,
          76.98201156268283,
          76.87964889482998,
          76.77728622697715,
          76.67492355912431,
          76.57256089127148,
          76.47019822341863,
          76.36783555556579,
          76.26547288771295,
          76.16311021986012,
          76.06074755200727,
          75.95838488415444,
          75.8560222163016,
          75.75365954844875,
          75.65129688059591,
          75.54893421274306,
          75.44657154489023,
          75.34420887703739,
          75.24184620918456,
          75.13948354133171,
          75.03712087347887,
          74.93475820562603,
          74.8323955377732,
          74.73003286992036,
          74.62767020206752,
          74.52530753421468,
          74.42294486636183,
          74.32058219850899,
          74.21821953065617,
          74.11585686280333,
          74.01349419495048,
          73.91113152709764,
          73.8087688592448,
          73.70640619139196,
          73.60404352353912,
          73.50168085568629,
          73.39931818783344,
          73.2969555199806,
          73.19459285212776,
          73.09223018427492,
          72.98986751642208,
          72.88750484856925,
          72.7851421807164,
          72.68277951286356,
          72.58041684501072,
          72.47805417715789,
          72.37569150930504,
          72.27332884145221,
          72.17096617359937,
          72.06860350574652,
          71.96624083789368,
          71.86387817004083,
          71.761515502188,
          71.65915283433517,
          71.55679016648233,
          71.45442749862949,
          71.35206483077664,
          71.2497021629238,
          71.14733949507098,
          71.04497682721814,
          70.94261415936529,
          70.84025149151245,
          70.7378888236596,
          70.63552615580677,
          70.53316348795394,
          70.4308008201011,
          70.32843815224825,
          70.22607548439541,
          70.12371281654256,
          70.02135014868973,
          69.91898748083689,
          69.81662481298406,
          69.71426214513122,
          69.61189947727837,
          69.50953680942553,
          69.4071741415727,
          69.30481147371985,
          69.20244880586702,
          69.10008613801418,
          68.99772347016133,
          68.89536080230849,
          68.79299813445566,
          68.69063546660281,
          68.58827279874998,
          68.48591013089714,
          68.3835474630443,
          68.28118479519145,
          68.1788221273386,
          68.07645945948579,
          67.97409679163295,
          67.8717341237801,
          67.76937145592726,
          67.66700878807441,
          67.56464612022158,
          67.46228345236875,
          67.35992078451591,
          67.25755811666306,
          67.15519544881022,
          67.05283278095739,
          66.95047011310454,
          66.84810744525171,
          66.74574477739887,
          66.64338210954602,
          66.54101944169318,
          66.43865677384034,
          66.3362941059875,
          66.23393143813466,
          66.13156877028183,
          66.02920610242899,
          65.92684343457614,
          65.8244807667233,
          65.72211809887047,
          65.61975543101762,
          65.51739276316479,
          65.41503009531195,
          65.3126674274591,
          65.21030475960626,
          65.10794209175343,
          65.0055794239006,
          64.90321675604775,
          64.80085408819491,
          64.69849142034207,
          64.59612875248922,
          64.49376608463639,
          64.39140341678356,
          64.28904074893072,
          64.18667808107787,
          64.08431541322503,
          63.9819527453722,
          63.87959007751935,
          63.777227409666516,
          63.67486474181367,
          63.572502073960834,
          63.470139406108,
          63.36777673825516,
          63.265414070402315,
          63.16305140254948,
          63.06068873469663,
          62.958326066843796,
          62.85596339899096,
          62.753600731138114,
          62.65123806328528,
          62.54887539543243,
          62.4465127275796,
          62.34415005972676,
          62.24178739187392,
          62.139424724021076,
          62.03706205616824,
          61.9346993883154,
          61.832336720462564,
          61.72997405260972,
          61.62761138475688,
          61.52524871690404,
          61.42288604905121,
          61.32052338119836,
          61.21816071334552,
          61.11579804549268,
          61.01343537763984,
          60.91107270978701,
          60.80871004193416,
          60.70634737408132,
          60.60398470622849,
          60.50162203837564,
          60.39925937052281,
          60.29689670266997,
          60.194534034817124,
          60.09217136696428,
          59.98980869911145,
          59.887446031258605,
          59.785083363405775,
          59.68272069555293,
          59.580358027700086,
          59.47799535984724,
          59.37563269199441,
          59.27327002414157,
          59.17090735628872,
          59.06854468843589,
          58.96618202058305,
          58.86381935273022,
          58.76145668487736,
          58.65909401702453,
          58.5567313491717,
          58.454368681318854,
          58.35200601346601,
          58.249643345613165,
          58.147280677760335,
          58.044918009907505,
          57.942555342054646,
          57.840192674201816,
          57.73783000634897,
          57.63546733849614,
          57.5331046706433,
          57.43074200279045,
          57.32837933493762,
          57.226016667084764,
          57.123653999231934,
          57.0212913313791,
          56.91892866352626,
          56.816565995673415,
          56.71420332782057,
          56.61184065996774,
          56.50947799211491,
          56.40711532426205,
          56.30475265640922,
          56.20238998855638,
          56.100027320703546,
          55.9976646528507,
          55.89530198499786,
          55.79293931714503,
          55.69057664929217,
          55.58821398143934,
          55.48585131358651,
          55.383488645733664,
          55.28112597788082,
          55.178763310027975,
          55.076400642175145,
          54.974037974322314,
          54.871675306469456,
          54.769312638616626,
          54.66694997076378,
          54.56458730291095,
          54.46222463505811,
          54.35986196720526,
          54.25749929935243,
          54.15513663149959,
          54.05277396364674,
          53.95041129579391,
          53.84804862794107,
          53.745685960088224,
          53.64332329223538,
          53.54096062438255,
          53.43859795652972,
          53.33623528867686,
          53.23387262082403,
          53.131509952971186,
          53.029147285118356,
          52.92678461726551,
          52.82442194941267,
          52.72205928155984,
          52.61969661370699,
          52.51733394585415,
          52.41497127800132,
          52.31260861014847,
          52.21024594229564,
          52.107883274442784,
          52.005520606589954,
          51.903157938737124,
          51.800795270884265,
          51.698432603031435,
          51.59606993517859,
          51.49370726732576,
          51.391344599472916,
          51.28898193162007,
          51.18661926376724,
          51.0842565959144,
          50.98189392806155,
          50.87953126020872,
          50.77716859235588,
          50.67480592450305,
          50.57244325665019,
          50.47008058879736,
          50.36771792094453,
          50.26535525309167,
          50.16299258523884,
          50.060629917385995,
          49.958267249533165,
          49.85590458168032,
          49.753541913827476,
          49.651179245974646,
          49.5488165781218,
          49.44645391026896,
          49.34409124241613,
          49.24172857456328,
          49.13936590671045,
          49.037003238857594,
          48.93464057100476,
          48.83227790315193,
          48.72991523529909,
          48.627552567446244,
          48.5251898995934,
          48.42282723174057,
          48.320464563887725,
          48.21810189603488,
          48.11573922818205,
          48.013376560329206,
          47.91101389247636,
          47.80865122462353,
          47.70628855677069,
          47.60392588891786,
          47.501563221065,
          47.39920055321217,
          47.29683788535934,
          47.19447521750649,
          47.09211254965365,
          46.989749881800805,
          46.887387213947974,
          46.785024546095144,
          46.682661878242286,
          46.580299210389455,
          46.47793654253661,
          46.37557387468377,
          46.27321120683092,
          46.17084853897809,
          46.06848587112526,
          45.9661232032724,
          45.86376053541957,
          45.76139786756673,
          45.6590351997139,
          45.556672531861054,
          45.45430986400821,
          45.35194719615538,
          45.249584528302535,
          45.14722186044969,
          45.04485919259686,
          44.942496524744016,
          44.84013385689117,
          44.73777118903833,
          44.6354085211855,
          44.533045853332666,
          44.43068318547981,
          44.32832051762698,
          44.22595784977413,
          44.1235951819213,
          44.02123251406846,
          43.918869846215614,
          43.816507178362784,
          43.71414451050994,
          43.611781842657095,
          43.509419174804265,
          43.40705650695142,
          43.30469383909859,
          43.20233117124573,
          43.0999685033929,
          42.99760583554007,
          42.89524316768721,
          42.79288049983438,
          42.69051783198154,
          42.58815516412871,
          42.48579249627586,
          42.38342982842302,
          42.28106716057019,
          42.178704492717344,
          42.0763418248645,
          41.97397915701167,
          41.871616489158825,
          41.769253821305995,
          41.666891153453136,
          41.564528485600306,
          41.462165817747476,
          41.35980314989463,
          41.25744048204179,
          41.15507781418894,
          41.05271514633611,
          40.95035247848327,
          40.84798981063042,
          40.74562714277759,
          40.64326447492475,
          40.540901807071904,
          40.438539139219074,
          40.33617647136623,
          40.2338138035134,
          40.13145113566054,
          40.02908846780771,
          39.92672579995488,
          39.824363132102036,
          39.72200046424919,
          39.61963779639635,
          39.51727512854352,
          39.41491246069069,
          39.31254979283783,
          39.210187124985,
          39.10782445713215,
          39.00546178927931,
          38.90309912142648,
          38.800736453573634,
          38.698373785720804,
          38.596011117867945,
          38.493648450015115,
          38.391285782162285,
          38.28892311430944,
          38.186560446456596,
          38.08419777860375,
          37.98183511075092,
          37.87947244289809,
          37.77710977504523,
          37.6747471071924,
          37.57238443933956,
          37.470021771486714,
          37.36765910363388,
          37.26529643578104,
          37.16293376792821,
          37.06057110007535,
          36.95820843222252,
          36.85584576436969,
          36.753483096516845,
          36.651120428664,
          36.54875776081116,
          36.446395092958326,
          36.344032425105496,
          36.24166975725264,
          36.13930708939981,
          36.03694442154696,
          35.93458175369413,
          35.83221908584129,
          35.729856417988444,
          35.62749375013561,
          35.525131082282755,
          35.422768414429925,
          35.320405746577094,
          35.21804307872425,
          35.115680410871406,
          35.01331774301856,
          34.91095507516573,
          34.8085924073129,
          34.70622973946004,
          34.60386707160721,
          34.50150440375437,
          34.39914173590154,
          34.29677906804869,
          34.19441640019585,
          34.09205373234302,
          33.98969106449016,
          33.88732839663733,
          33.7849657287845,
          33.682603060931655,
          33.58024039307881,
          33.477877725225966,
          33.375515057373136,
          33.273152389520305,
          33.17078972166745,
          33.06842705381462,
          32.96606438596177,
          32.86370171810894,
          32.7613390502561,
          32.65897638240325,
          32.55661371455042,
          32.45425104669758,
          32.351888378844734,
          32.249525710991904,
          32.14716304313906,
          32.044800375286215,
          31.94243770743337,
          31.84007503958054,
          31.73771237172771,
          31.63534970387485,
          31.53298703602202,
          31.430624368169177,
          31.328261700316347,
          31.225899032463502,
          31.123536364610658,
          31.021173696757828,
          30.918811028904983,
          30.81644836105214,
          30.71408569319931,
          30.611723025346464,
          30.509360357493634,
          30.406997689640775,
          30.304635021787945,
          30.202272353935115,
          30.099909686082256,
          29.997547018229426,
          29.89518435037658,
          29.79282168252375,
          29.690459014670907,
          29.588096346818062,
          29.485733678965232,
          29.383371011112388,
          29.281008343259543,
          29.178645675406713,
          29.07628300755387,
          28.97392033970104,
          28.87155767184818,
          28.76919500399535,
          28.66683233614252,
          28.564469668289675,
          28.46210700043683,
          28.359744332583986,
          28.257381664731156,
          28.15501899687831,
          28.052656329025467,
          27.950293661172637,
          27.847930993319792,
          27.745568325466948,
          27.643205657614118,
          27.540842989761273,
          27.438480321908443,
          27.336117654055585,
          27.233754986202754,
          27.131392318349924,
          27.02902965049708,
          26.926666982644235,
          26.82430431479139,
          26.72194164693856,
          26.619578979085716,
          26.517216311232872,
          26.41485364338004,
          26.312490975527197,
          26.210128307674353,
          26.107765639821523,
          26.005402971968678,
          25.903040304115848,
          25.80067763626299,
          25.69831496841016,
          25.59595230055733,
          25.493589632704484,
          25.39122696485164,
          25.288864296998796,
          25.186501629145965,
          25.084138961293135,
          24.981776293440277,
          24.879413625587446,
          24.777050957734602,
          24.674688289881757,
          24.572325622028927,
          24.469962954176083,
          24.367600286323253,
          24.265237618470394,
          24.162874950617564,
          24.060512282764734,
          23.95814961491189,
          23.855786947059045,
          23.7534242792062,
          23.65106161135337,
          23.54869894350054,
          23.44633627564768,
          23.34397360779485,
          23.241610939942007,
          23.139248272089176,
          23.036885604236332,
          22.934522936383487,
          22.832160268530657,
          22.7297976006778,
          22.62743493282497,
          22.525072264972138,
          22.422709597119294,
          22.32034692926645,
          22.217984261413605,
          22.115621593560775,
          22.013258925707945,
          21.910896257855086,
          21.808533590002256,
          21.70617092214941,
          21.60380825429658,
          21.501445586443737,
          21.399082918590892,
          21.296720250738062,
          21.194357582885203,
          21.091994915032373,
          20.989632247179543,
          20.8872695793267,
          20.784906911473854,
          20.68254424362101,
          20.58018157576818,
          20.47781890791535,
          20.37545624006249,
          20.27309357220966,
          20.170730904356816,
          20.068368236503986,
          19.96600556865114,
          19.863642900798297,
          19.761280232945467,
          19.658917565092622,
          19.556554897239778,
          19.454192229386948,
          19.351829561534103,
          19.24946689368126,
          19.147104225828414,
          19.044741557975584,
          18.942378890122754,
          18.840016222269895,
          18.737653554417065,
          18.63529088656422,
          18.53292821871139,
          18.430565550858546,
          18.3282028830057,
          18.22584021515287,
          18.123477547300027,
          18.021114879447182,
          17.918752211594352,
          17.816389543741508,
          17.714026875888678,
          17.61166420803582,
          17.50930154018299,
          17.40693887233016,
          17.3045762044773,
          17.20221353662447,
          17.099850868771625,
          16.997488200918795,
          16.89512553306595,
          16.792762865213106,
          16.690400197360276,
          16.58803752950743,
          16.485674861654587,
          16.383312193801757,
          16.280949525948913,
          16.178586858096082,
          16.076224190243224,
          15.973861522390393,
          15.871498854537563,
          15.769136186684705,
          15.666773518831874,
          15.56441085097903,
          15.4620481831262,
          15.359685515273355,
          15.257322847420511,
          15.15496017956768,
          15.052597511714836,
          14.950234843861992,
          14.847872176009162,
          14.745509508156317,
          14.643146840303487,
          14.540784172450628,
          14.438421504597798,
          14.336058836744968,
          14.233696168892124,
          14.131333501039279,
          14.028970833186435,
          13.926608165333604,
          13.82424549748076,
          13.721882829627916,
          13.619520161775085,
          13.517157493922241,
          13.414794826069397,
          13.312432158216566,
          13.210069490363722,
          13.107706822510892,
          13.005344154658033,
          12.902981486805203,
          12.800618818952373,
          12.698256151099528,
          12.595893483246684,
          12.49353081539384,
          12.39116814754101,
          12.288805479688179,
          12.18644281183532,
          12.08408014398249,
          11.981717476129646,
          11.879354808276801,
          11.776992140423971,
          11.674629472571127,
          11.572266804718296,
          11.469904136865438,
          11.367541469012608,
          11.265178801159777,
          11.162816133306933,
          11.060453465454088,
          10.958090797601244,
          10.855728129748414,
          10.753365461895584,
          10.651002794042725,
          10.548640126189895,
          10.44627745833705,
          10.34391479048422,
          10.241552122631376,
          10.139189454778531,
          10.036826786925701,
          9.934464119072842,
          9.832101451220012,
          9.729738783367182,
          9.627376115514338,
          9.525013447661493,
          9.422650779808649,
          9.320288111955819,
          9.217925444102988,
          9.11556277625013,
          9.0132001083973,
          8.910837440544455,
          8.808474772691625,
          8.70611210483878,
          8.603749436985936,
          8.501386769133106,
          8.399024101280247,
          8.296661433427417,
          8.194298765574587,
          8.091936097721742,
          7.989573429868898,
          7.887210762016053,
          7.784848094163223,
          7.682485426310393,
          7.580122758457534,
          7.477760090604704,
          7.37539742275186,
          7.2730347548990295,
          7.170672087046185,
          7.068309419193341,
          6.9659467513405104,
          6.863584083487666,
          6.761221415634822,
          6.658858747781991,
          6.556496079929147,
          6.4541334120763025,
          6.351770744223458,
          6.249408076370628,
          6.147045408517798,
          6.044682740664939,
          5.942320072812109,
          5.839957404959264,
          5.737594737106434,
          5.63523206925359,
          5.532869401400745,
          5.430506733547915,
          5.328144065695071,
          5.225781397842226,
          5.123418729989396,
          5.021056062136552,
          4.918693394283721,
          4.816330726430863,
          4.713968058578033,
          4.611605390725202,
          4.509242722872344,
          4.4068800550195135,
          4.304517387166669,
          4.202154719313839,
          4.0997920514609945,
          3.99742938360815,
          3.89506671575532,
          3.7927040479024754,
          3.690341380049631,
          3.5879787121968008,
          3.4856160443439563,
          3.383253376491126,
          3.2808907086382675,
          3.1785280407854373,
          3.076165372932607,
          2.9738027050797484,
          2.871440037226918,
          2.769077369374074,
          2.6667147015212436,
          2.564352033668399,
          2.4619893658155547,
          2.3596266979627245,
          2.25726403010988,
          2.1549013622570357,
          2.0525386944042054,
          1.950176026551361,
          1.8478133586985308,
          1.7454506908456722,
          1.643088022992842,
          1.5407253551400117,
          1.4383626872871673,
          1.336000019434323,
          1.2336373515814785,
          1.1312746837286483,
          1.0289120158758038,
          0.9265493480229594,
          0.8241866801701292,
          0.7218240123172848,
          0.6194613444644403,
          0.5170986766116101,
          0.4147360087587657,
          0.3123733409059355,
          0.21001067305307686,
          0.10764800520024664,
          0.00528533734741643,
          -0.097077330505428,
          -0.19943999835827242,
          -0.30180266621111684,
          -0.40416533406394706,
          -0.5065280019167773,
          -0.6088906697696359,
          -0.7112533376224661,
          -0.8136160054753105,
          -0.915978673328155,
          -1.0183413411809852,
          -1.1207040090338296,
          -1.2230666768866598,
          -1.3254293447395185,
          -1.4277920125923487,
          -1.5301546804451789,
          -1.6325173482980233,
          -1.7348800161508677,
          -1.8372426840037122,
          -1.9396053518565424,
          -2.0419680197093726,
          -2.144330687562231,
          -2.2466933554150614,
          -2.349056023267906,
          -2.4514186911207503,
          -2.5537813589735805,
          -2.656144026826425,
          -2.758506694679255,
          -2.8608693625321138,
          -2.963232030384944,
          -3.065594698237774,
          -3.1679573660906186,
          -3.270320033943463,
          -3.3726827017963075,
          -3.475045369649152,
          -3.577408037501968,
          -3.6797707053548123,
          -3.7821333732076567,
          -3.884496041060501,
          -3.9868587089133456,
          -4.089221376766162,
          -4.191584044619006,
          -4.2939467124718504,
          -4.396309380324695,
          -4.498672048177539,
          -4.601034716030384,
          -4.703397383883228,
          -4.805760051736044,
          -4.908122719588889,
          -5.010485387441733,
          -5.112848055294577,
          -5.215210723147422,
          -5.317573391000238,
          -5.419936058853111,
          -5.522298726705927,
          -5.624661394558771,
          -5.7270240624116155,
          -5.82938673026446,
          -5.931749398117304,
          -6.03411206597012,
          -6.136474733822965,
          -6.238837401675809,
          -6.341200069528654,
          -6.443562737381498,
          -6.5459254052343425,
          -6.6482880730871585,
          -6.750650740940003,
          -6.853013408792847,
          -6.955376076645692,
          -7.057738744498536,
          -7.160101412351352,
          -7.262464080204197,
          -7.3648267480570695,
          -7.4671894159098855,
          -7.56955208376273,
          -7.671914751615546,
          -7.77427741946839,
          -7.876640087321263,
          -7.979002755174079,
          -8.081365423026924
         ]
        }
       ],
       "layout": {
        "height": 500,
        "template": {
         "data": {
          "bar": [
           {
            "error_x": {
             "color": "#2a3f5f"
            },
            "error_y": {
             "color": "#2a3f5f"
            },
            "marker": {
             "line": {
              "color": "#E5ECF6",
              "width": 0.5
             }
            },
            "type": "bar"
           }
          ],
          "barpolar": [
           {
            "marker": {
             "line": {
              "color": "#E5ECF6",
              "width": 0.5
             }
            },
            "type": "barpolar"
           }
          ],
          "carpet": [
           {
            "aaxis": {
             "endlinecolor": "#2a3f5f",
             "gridcolor": "white",
             "linecolor": "white",
             "minorgridcolor": "white",
             "startlinecolor": "#2a3f5f"
            },
            "baxis": {
             "endlinecolor": "#2a3f5f",
             "gridcolor": "white",
             "linecolor": "white",
             "minorgridcolor": "white",
             "startlinecolor": "#2a3f5f"
            },
            "type": "carpet"
           }
          ],
          "choropleth": [
           {
            "colorbar": {
             "outlinewidth": 0,
             "ticks": ""
            },
            "type": "choropleth"
           }
          ],
          "contour": [
           {
            "colorbar": {
             "outlinewidth": 0,
             "ticks": ""
            },
            "colorscale": [
             [
              0,
              "#0d0887"
             ],
             [
              0.1111111111111111,
              "#46039f"
             ],
             [
              0.2222222222222222,
              "#7201a8"
             ],
             [
              0.3333333333333333,
              "#9c179e"
             ],
             [
              0.4444444444444444,
              "#bd3786"
             ],
             [
              0.5555555555555556,
              "#d8576b"
             ],
             [
              0.6666666666666666,
              "#ed7953"
             ],
             [
              0.7777777777777778,
              "#fb9f3a"
             ],
             [
              0.8888888888888888,
              "#fdca26"
             ],
             [
              1,
              "#f0f921"
             ]
            ],
            "type": "contour"
           }
          ],
          "contourcarpet": [
           {
            "colorbar": {
             "outlinewidth": 0,
             "ticks": ""
            },
            "type": "contourcarpet"
           }
          ],
          "heatmap": [
           {
            "colorbar": {
             "outlinewidth": 0,
             "ticks": ""
            },
            "colorscale": [
             [
              0,
              "#0d0887"
             ],
             [
              0.1111111111111111,
              "#46039f"
             ],
             [
              0.2222222222222222,
              "#7201a8"
             ],
             [
              0.3333333333333333,
              "#9c179e"
             ],
             [
              0.4444444444444444,
              "#bd3786"
             ],
             [
              0.5555555555555556,
              "#d8576b"
             ],
             [
              0.6666666666666666,
              "#ed7953"
             ],
             [
              0.7777777777777778,
              "#fb9f3a"
             ],
             [
              0.8888888888888888,
              "#fdca26"
             ],
             [
              1,
              "#f0f921"
             ]
            ],
            "type": "heatmap"
           }
          ],
          "heatmapgl": [
           {
            "colorbar": {
             "outlinewidth": 0,
             "ticks": ""
            },
            "colorscale": [
             [
              0,
              "#0d0887"
             ],
             [
              0.1111111111111111,
              "#46039f"
             ],
             [
              0.2222222222222222,
              "#7201a8"
             ],
             [
              0.3333333333333333,
              "#9c179e"
             ],
             [
              0.4444444444444444,
              "#bd3786"
             ],
             [
              0.5555555555555556,
              "#d8576b"
             ],
             [
              0.6666666666666666,
              "#ed7953"
             ],
             [
              0.7777777777777778,
              "#fb9f3a"
             ],
             [
              0.8888888888888888,
              "#fdca26"
             ],
             [
              1,
              "#f0f921"
             ]
            ],
            "type": "heatmapgl"
           }
          ],
          "histogram": [
           {
            "marker": {
             "colorbar": {
              "outlinewidth": 0,
              "ticks": ""
             }
            },
            "type": "histogram"
           }
          ],
          "histogram2d": [
           {
            "colorbar": {
             "outlinewidth": 0,
             "ticks": ""
            },
            "colorscale": [
             [
              0,
              "#0d0887"
             ],
             [
              0.1111111111111111,
              "#46039f"
             ],
             [
              0.2222222222222222,
              "#7201a8"
             ],
             [
              0.3333333333333333,
              "#9c179e"
             ],
             [
              0.4444444444444444,
              "#bd3786"
             ],
             [
              0.5555555555555556,
              "#d8576b"
             ],
             [
              0.6666666666666666,
              "#ed7953"
             ],
             [
              0.7777777777777778,
              "#fb9f3a"
             ],
             [
              0.8888888888888888,
              "#fdca26"
             ],
             [
              1,
              "#f0f921"
             ]
            ],
            "type": "histogram2d"
           }
          ],
          "histogram2dcontour": [
           {
            "colorbar": {
             "outlinewidth": 0,
             "ticks": ""
            },
            "colorscale": [
             [
              0,
              "#0d0887"
             ],
             [
              0.1111111111111111,
              "#46039f"
             ],
             [
              0.2222222222222222,
              "#7201a8"
             ],
             [
              0.3333333333333333,
              "#9c179e"
             ],
             [
              0.4444444444444444,
              "#bd3786"
             ],
             [
              0.5555555555555556,
              "#d8576b"
             ],
             [
              0.6666666666666666,
              "#ed7953"
             ],
             [
              0.7777777777777778,
              "#fb9f3a"
             ],
             [
              0.8888888888888888,
              "#fdca26"
             ],
             [
              1,
              "#f0f921"
             ]
            ],
            "type": "histogram2dcontour"
           }
          ],
          "mesh3d": [
           {
            "colorbar": {
             "outlinewidth": 0,
             "ticks": ""
            },
            "type": "mesh3d"
           }
          ],
          "parcoords": [
           {
            "line": {
             "colorbar": {
              "outlinewidth": 0,
              "ticks": ""
             }
            },
            "type": "parcoords"
           }
          ],
          "pie": [
           {
            "automargin": true,
            "type": "pie"
           }
          ],
          "scatter": [
           {
            "marker": {
             "colorbar": {
              "outlinewidth": 0,
              "ticks": ""
             }
            },
            "type": "scatter"
           }
          ],
          "scatter3d": [
           {
            "line": {
             "colorbar": {
              "outlinewidth": 0,
              "ticks": ""
             }
            },
            "marker": {
             "colorbar": {
              "outlinewidth": 0,
              "ticks": ""
             }
            },
            "type": "scatter3d"
           }
          ],
          "scattercarpet": [
           {
            "marker": {
             "colorbar": {
              "outlinewidth": 0,
              "ticks": ""
             }
            },
            "type": "scattercarpet"
           }
          ],
          "scattergeo": [
           {
            "marker": {
             "colorbar": {
              "outlinewidth": 0,
              "ticks": ""
             }
            },
            "type": "scattergeo"
           }
          ],
          "scattergl": [
           {
            "marker": {
             "colorbar": {
              "outlinewidth": 0,
              "ticks": ""
             }
            },
            "type": "scattergl"
           }
          ],
          "scattermapbox": [
           {
            "marker": {
             "colorbar": {
              "outlinewidth": 0,
              "ticks": ""
             }
            },
            "type": "scattermapbox"
           }
          ],
          "scatterpolar": [
           {
            "marker": {
             "colorbar": {
              "outlinewidth": 0,
              "ticks": ""
             }
            },
            "type": "scatterpolar"
           }
          ],
          "scatterpolargl": [
           {
            "marker": {
             "colorbar": {
              "outlinewidth": 0,
              "ticks": ""
             }
            },
            "type": "scatterpolargl"
           }
          ],
          "scatterternary": [
           {
            "marker": {
             "colorbar": {
              "outlinewidth": 0,
              "ticks": ""
             }
            },
            "type": "scatterternary"
           }
          ],
          "surface": [
           {
            "colorbar": {
             "outlinewidth": 0,
             "ticks": ""
            },
            "colorscale": [
             [
              0,
              "#0d0887"
             ],
             [
              0.1111111111111111,
              "#46039f"
             ],
             [
              0.2222222222222222,
              "#7201a8"
             ],
             [
              0.3333333333333333,
              "#9c179e"
             ],
             [
              0.4444444444444444,
              "#bd3786"
             ],
             [
              0.5555555555555556,
              "#d8576b"
             ],
             [
              0.6666666666666666,
              "#ed7953"
             ],
             [
              0.7777777777777778,
              "#fb9f3a"
             ],
             [
              0.8888888888888888,
              "#fdca26"
             ],
             [
              1,
              "#f0f921"
             ]
            ],
            "type": "surface"
           }
          ],
          "table": [
           {
            "cells": {
             "fill": {
              "color": "#EBF0F8"
             },
             "line": {
              "color": "white"
             }
            },
            "header": {
             "fill": {
              "color": "#C8D4E3"
             },
             "line": {
              "color": "white"
             }
            },
            "type": "table"
           }
          ]
         },
         "layout": {
          "annotationdefaults": {
           "arrowcolor": "#2a3f5f",
           "arrowhead": 0,
           "arrowwidth": 1
          },
          "coloraxis": {
           "colorbar": {
            "outlinewidth": 0,
            "ticks": ""
           }
          },
          "colorscale": {
           "diverging": [
            [
             0,
             "#8e0152"
            ],
            [
             0.1,
             "#c51b7d"
            ],
            [
             0.2,
             "#de77ae"
            ],
            [
             0.3,
             "#f1b6da"
            ],
            [
             0.4,
             "#fde0ef"
            ],
            [
             0.5,
             "#f7f7f7"
            ],
            [
             0.6,
             "#e6f5d0"
            ],
            [
             0.7,
             "#b8e186"
            ],
            [
             0.8,
             "#7fbc41"
            ],
            [
             0.9,
             "#4d9221"
            ],
            [
             1,
             "#276419"
            ]
           ],
           "sequential": [
            [
             0,
             "#0d0887"
            ],
            [
             0.1111111111111111,
             "#46039f"
            ],
            [
             0.2222222222222222,
             "#7201a8"
            ],
            [
             0.3333333333333333,
             "#9c179e"
            ],
            [
             0.4444444444444444,
             "#bd3786"
            ],
            [
             0.5555555555555556,
             "#d8576b"
            ],
            [
             0.6666666666666666,
             "#ed7953"
            ],
            [
             0.7777777777777778,
             "#fb9f3a"
            ],
            [
             0.8888888888888888,
             "#fdca26"
            ],
            [
             1,
             "#f0f921"
            ]
           ],
           "sequentialminus": [
            [
             0,
             "#0d0887"
            ],
            [
             0.1111111111111111,
             "#46039f"
            ],
            [
             0.2222222222222222,
             "#7201a8"
            ],
            [
             0.3333333333333333,
             "#9c179e"
            ],
            [
             0.4444444444444444,
             "#bd3786"
            ],
            [
             0.5555555555555556,
             "#d8576b"
            ],
            [
             0.6666666666666666,
             "#ed7953"
            ],
            [
             0.7777777777777778,
             "#fb9f3a"
            ],
            [
             0.8888888888888888,
             "#fdca26"
            ],
            [
             1,
             "#f0f921"
            ]
           ]
          },
          "colorway": [
           "#636efa",
           "#EF553B",
           "#00cc96",
           "#ab63fa",
           "#FFA15A",
           "#19d3f3",
           "#FF6692",
           "#B6E880",
           "#FF97FF",
           "#FECB52"
          ],
          "font": {
           "color": "#2a3f5f"
          },
          "geo": {
           "bgcolor": "white",
           "lakecolor": "white",
           "landcolor": "#E5ECF6",
           "showlakes": true,
           "showland": true,
           "subunitcolor": "white"
          },
          "hoverlabel": {
           "align": "left"
          },
          "hovermode": "closest",
          "mapbox": {
           "style": "light"
          },
          "paper_bgcolor": "white",
          "plot_bgcolor": "#E5ECF6",
          "polar": {
           "angularaxis": {
            "gridcolor": "white",
            "linecolor": "white",
            "ticks": ""
           },
           "bgcolor": "#E5ECF6",
           "radialaxis": {
            "gridcolor": "white",
            "linecolor": "white",
            "ticks": ""
           }
          },
          "scene": {
           "xaxis": {
            "backgroundcolor": "#E5ECF6",
            "gridcolor": "white",
            "gridwidth": 2,
            "linecolor": "white",
            "showbackground": true,
            "ticks": "",
            "zerolinecolor": "white"
           },
           "yaxis": {
            "backgroundcolor": "#E5ECF6",
            "gridcolor": "white",
            "gridwidth": 2,
            "linecolor": "white",
            "showbackground": true,
            "ticks": "",
            "zerolinecolor": "white"
           },
           "zaxis": {
            "backgroundcolor": "#E5ECF6",
            "gridcolor": "white",
            "gridwidth": 2,
            "linecolor": "white",
            "showbackground": true,
            "ticks": "",
            "zerolinecolor": "white"
           }
          },
          "shapedefaults": {
           "line": {
            "color": "#2a3f5f"
           }
          },
          "ternary": {
           "aaxis": {
            "gridcolor": "white",
            "linecolor": "white",
            "ticks": ""
           },
           "baxis": {
            "gridcolor": "white",
            "linecolor": "white",
            "ticks": ""
           },
           "bgcolor": "#E5ECF6",
           "caxis": {
            "gridcolor": "white",
            "linecolor": "white",
            "ticks": ""
           }
          },
          "title": {
           "x": 0.05
          },
          "xaxis": {
           "automargin": true,
           "gridcolor": "white",
           "linecolor": "white",
           "ticks": "",
           "title": {
            "standoff": 15
           },
           "zerolinecolor": "white",
           "zerolinewidth": 2
          },
          "yaxis": {
           "automargin": true,
           "gridcolor": "white",
           "linecolor": "white",
           "ticks": "",
           "title": {
            "standoff": 15
           },
           "zerolinecolor": "white",
           "zerolinewidth": 2
          }
         }
        },
        "width": 500
       }
      },
      "text/html": [
       "<div>\n",
       "        \n",
       "        \n",
       "            <div id=\"fca04f6a-cb39-43f5-8518-65c9346da124\" class=\"plotly-graph-div\" style=\"height:500px; width:500px;\"></div>\n",
       "            <script type=\"text/javascript\">\n",
       "                require([\"plotly\"], function(Plotly) {\n",
       "                    window.PLOTLYENV=window.PLOTLYENV || {};\n",
       "                    \n",
       "                if (document.getElementById(\"fca04f6a-cb39-43f5-8518-65c9346da124\")) {\n",
       "                    Plotly.newPlot(\n",
       "                        'fca04f6a-cb39-43f5-8518-65c9346da124',\n",
       "                        [{\"marker\": {\"color\": [0, 0, 0, 1, 1, 0, 1, 1, 1, 1, 0, 0, 1, 1, 0, 1, 1, 0, 1, 1, 0, 1, 0, 0, 1, 1, 1, 0, 0, 0, 1, 1, 0, 1, 0, 0, 0, 1, 0, 0, 1, 0, 1, 0, 0, 0, 1, 1, 1, 1, 1, 1, 1, 0, 0, 0, 1, 0, 1, 1, 1, 0, 0, 0, 0, 0, 1, 0, 1, 1, 0, 1, 1, 1, 1, 1, 1, 1, 0, 0, 1, 1, 1, 1, 1, 1, 0, 1, 1, 0, 1, 1, 0, 1, 1, 1, 1, 1, 1, 1], \"line\": {\"color\": \"black\", \"width\": 1.2}, \"sizemin\": 10, \"symbol\": [0, 0, 0, 1, 1, 0, 1, 1, 1, 1, 0, 0, 1, 1, 0, 1, 1, 0, 1, 1, 0, 1, 0, 0, 1, 1, 1, 0, 0, 0, 1, 1, 0, 1, 0, 0, 0, 1, 0, 0, 1, 0, 1, 0, 0, 0, 1, 1, 1, 1, 1, 1, 1, 0, 0, 0, 1, 0, 1, 1, 1, 0, 0, 0, 0, 0, 1, 0, 1, 1, 0, 1, 1, 1, 1, 1, 1, 1, 0, 0, 1, 1, 1, 1, 1, 1, 0, 1, 1, 0, 1, 1, 0, 1, 1, 1, 1, 1, 1, 1]}, \"mode\": \"markers\", \"name\": \"training data\", \"type\": \"scatter\", \"x\": [34.62365962451697, 30.28671076822607, 35.84740876993872, 60.18259938620975, 79.0327360507101, 45.083277476683385, 61.10666453684766, 75.02474556738889, 76.09878670226256, 84.43281996120034, 95.86155507093572, 75.01365838958247, 82.3070533739948, 69.36458875970939, 39.538339143672225, 53.9710521485623, 69.07014406283025, 67.94685547711617, 70.66150955499434, 76.97878372747499, 67.37202754570876, 89.67677575072081, 50.534788289883004, 34.21206097786789, 77.9240914545704, 62.27101367004632, 80.19018075095659, 93.114388797442, 61.83020602312595, 38.78580379679423, 61.379289447425, 85.40451939411645, 52.10797973193984, 52.04540476831827, 40.236893735451105, 54.63510555424817, 33.91550010906887, 64.17698887494485, 74.78925295941542, 34.1836400264419, 83.90239366249155, 51.54772026906181, 94.44336776917852, 82.36875375713919, 51.04775177128865, 62.222675761201884, 77.19303492601364, 97.7715992800023, 62.073063796676465, 91.56497449807442, 79.94481794066932, 99.2725269292572, 90.5467141139985, 34.52451385320009, 50.286496118990705, 49.58667721632031, 97.64563396007769, 32.57720016809309, 74.24869136721598, 71.7964620586338, 75.39561146568029, 35.28611281526193, 56.253817497116245, 30.05882244669796, 44.66826172480893, 66.56089447242954, 40.45755098375164, 49.07256321908844, 80.27957401466998, 66.74671856944039, 32.722833040603234, 64.0393204150601, 72.34649422579923, 60.4578857391896, 58.840956217268015, 99.82785779692128, 47.26426910848174, 50.45815980285988, 60.45555629271532, 82.2266615778557, 88.91389641665329, 94.83450672430195, 67.31925746917527, 57.238706315698614, 80.36675600171273, 68.46852178591112, 42.0754545384731, 75.47770200533905, 78.6354243489802, 52.34800398794108, 94.09433112516793, 90.44855097096365, 55.48216114069585, 74.49269241843041, 89.8458067072098, 83.48916274498238, 42.261700809981704, 99.31500880510393, 55.34001756003703, 74.77589300092767], \"y\": [78.0246928153624, 43.894997524001006, 72.90219802708364, 86.30855209546827, 75.3443764369103, 56.316371781530506, 96.51142588489624, 46.55401354116538, 87.42056971926803, 43.533393310721095, 38.22527805795094, 30.60326323428011, 76.48196330235605, 97.71869196188608, 76.0368108511588, 89.20735013750205, 52.740469730167646, 46.67857410673128, 92.92713789364832, 47.575963649755316, 42.83843832029179, 65.79936592745237, 48.85581152764205, 44.209528598662885, 68.9723599933059, 69.95445795447587, 44.821628932183536, 38.80067033713209, 50.25610789244621, 64.99568095539578, 72.80788731317097, 57.05198397627122, 63.127623768817145, 69.43286012045222, 71.16774802184875, 52.21388588061123, 98.86943574220612, 80.90806058670817, 41.57341522824434, 75.2377203360134, 56.30804621605328, 46.85629026349976, 65.56892160559052, 40.61825515970618, 45.82270145776001, 52.060991948366784, 70.4582000018096, 86.7278223300282, 96.76882412413984, 88.69629254546598, 74.16311935043757, 60.99903099844988, 43.39060180650027, 60.39634245837173, 49.80453881323059, 59.80895099453265, 68.86157272420604, 95.59854761387876, 69.82457122657193, 78.45356224515052, 85.75993667331619, 47.02051394723416, 39.261472510580184, 49.59297386723685, 66.45008614558913, 41.09209807936973, 97.53518548909935, 51.88321182073966, 92.11606081344084, 60.99139402740989, 43.307173064300635, 78.03168802018232, 96.22759296761404, 73.09499809758037, 75.85844831279043, 72.36925193383884, 88.47586499559782, 75.80985952982456, 42.50840943572217, 42.719878537164576, 69.80378889835472, 45.69430680250754, 66.58935317747915, 59.51428198012957, 90.96014789746954, 85.59430710452014, 78.84478600148044, 90.42453899753963, 96.64742716885642, 60.76950525602592, 77.15910509073893, 87.50879176484702, 35.570703472288656, 84.84513684930135, 45.35828361091658, 48.38028579728175, 87.10385094025456, 68.77540947206617, 64.9319380069486, 89.52981289513276]}, {\"mode\": \"lines\", \"name\": \"descision boundary\", \"type\": \"scatter\", \"x\": [0.0, 0.1, 0.2, 0.30000000000000004, 0.4, 0.5, 0.6000000000000001, 0.7000000000000001, 0.8, 0.9, 1.0, 1.1, 1.2000000000000002, 1.3, 1.4000000000000001, 1.5, 1.6, 1.7000000000000002, 1.8, 1.9000000000000001, 2.0, 2.1, 2.2, 2.3000000000000003, 2.4000000000000004, 2.5, 2.6, 2.7, 2.8000000000000003, 2.9000000000000004, 3.0, 3.1, 3.2, 3.3000000000000003, 3.4000000000000004, 3.5, 3.6, 3.7, 3.8000000000000003, 3.9000000000000004, 4.0, 4.1000000000000005, 4.2, 4.3, 4.4, 4.5, 4.6000000000000005, 4.7, 4.800000000000001, 4.9, 5.0, 5.1000000000000005, 5.2, 5.300000000000001, 5.4, 5.5, 5.6000000000000005, 5.7, 5.800000000000001, 5.9, 6.0, 6.1000000000000005, 6.2, 6.300000000000001, 6.4, 6.5, 6.6000000000000005, 6.7, 6.800000000000001, 6.9, 7.0, 7.1000000000000005, 7.2, 7.300000000000001, 7.4, 7.5, 7.6000000000000005, 7.7, 7.800000000000001, 7.9, 8.0, 8.1, 8.200000000000001, 8.3, 8.4, 8.5, 8.6, 8.700000000000001, 8.8, 8.9, 9.0, 9.1, 9.200000000000001, 9.3, 9.4, 9.5, 9.600000000000001, 9.700000000000001, 9.8, 9.9, 10.0, 10.100000000000001, 10.200000000000001, 10.3, 10.4, 10.5, 10.600000000000001, 10.700000000000001, 10.8, 10.9, 11.0, 11.100000000000001, 11.200000000000001, 11.3, 11.4, 11.5, 11.600000000000001, 11.700000000000001, 11.8, 11.9, 12.0, 12.100000000000001, 12.200000000000001, 12.3, 12.4, 12.5, 12.600000000000001, 12.700000000000001, 12.8, 12.9, 13.0, 13.100000000000001, 13.200000000000001, 13.3, 13.4, 13.5, 13.600000000000001, 13.700000000000001, 13.8, 13.9, 14.0, 14.100000000000001, 14.200000000000001, 14.3, 14.4, 14.5, 14.600000000000001, 14.700000000000001, 14.8, 14.9, 15.0, 15.100000000000001, 15.200000000000001, 15.3, 15.4, 15.5, 15.600000000000001, 15.700000000000001, 15.8, 15.9, 16.0, 16.1, 16.2, 16.3, 16.400000000000002, 16.5, 16.6, 16.7, 16.8, 16.900000000000002, 17.0, 17.1, 17.2, 17.3, 17.400000000000002, 17.5, 17.6, 17.7, 17.8, 17.900000000000002, 18.0, 18.1, 18.2, 18.3, 18.400000000000002, 18.5, 18.6, 18.7, 18.8, 18.900000000000002, 19.0, 19.1, 19.200000000000003, 19.3, 19.400000000000002, 19.5, 19.6, 19.700000000000003, 19.8, 19.900000000000002, 20.0, 20.1, 20.200000000000003, 20.3, 20.400000000000002, 20.5, 20.6, 20.700000000000003, 20.8, 20.900000000000002, 21.0, 21.1, 21.200000000000003, 21.3, 21.400000000000002, 21.5, 21.6, 21.700000000000003, 21.8, 21.900000000000002, 22.0, 22.1, 22.200000000000003, 22.3, 22.400000000000002, 22.5, 22.6, 22.700000000000003, 22.8, 22.900000000000002, 23.0, 23.1, 23.200000000000003, 23.3, 23.400000000000002, 23.5, 23.6, 23.700000000000003, 23.8, 23.900000000000002, 24.0, 24.1, 24.200000000000003, 24.3, 24.400000000000002, 24.5, 24.6, 24.700000000000003, 24.8, 24.900000000000002, 25.0, 25.1, 25.200000000000003, 25.3, 25.400000000000002, 25.5, 25.6, 25.700000000000003, 25.8, 25.900000000000002, 26.0, 26.1, 26.200000000000003, 26.3, 26.400000000000002, 26.5, 26.6, 26.700000000000003, 26.8, 26.900000000000002, 27.0, 27.1, 27.200000000000003, 27.3, 27.400000000000002, 27.5, 27.6, 27.700000000000003, 27.8, 27.900000000000002, 28.0, 28.1, 28.200000000000003, 28.3, 28.400000000000002, 28.5, 28.6, 28.700000000000003, 28.8, 28.900000000000002, 29.0, 29.1, 29.200000000000003, 29.3, 29.400000000000002, 29.5, 29.6, 29.700000000000003, 29.8, 29.900000000000002, 30.0, 30.1, 30.200000000000003, 30.3, 30.400000000000002, 30.5, 30.6, 30.700000000000003, 30.8, 30.900000000000002, 31.0, 31.1, 31.200000000000003, 31.3, 31.400000000000002, 31.5, 31.6, 31.700000000000003, 31.8, 31.900000000000002, 32.0, 32.1, 32.2, 32.300000000000004, 32.4, 32.5, 32.6, 32.7, 32.800000000000004, 32.9, 33.0, 33.1, 33.2, 33.300000000000004, 33.4, 33.5, 33.6, 33.7, 33.800000000000004, 33.9, 34.0, 34.1, 34.2, 34.300000000000004, 34.4, 34.5, 34.6, 34.7, 34.800000000000004, 34.9, 35.0, 35.1, 35.2, 35.300000000000004, 35.4, 35.5, 35.6, 35.7, 35.800000000000004, 35.9, 36.0, 36.1, 36.2, 36.300000000000004, 36.4, 36.5, 36.6, 36.7, 36.800000000000004, 36.9, 37.0, 37.1, 37.2, 37.300000000000004, 37.4, 37.5, 37.6, 37.7, 37.800000000000004, 37.9, 38.0, 38.1, 38.2, 38.300000000000004, 38.400000000000006, 38.5, 38.6, 38.7, 38.800000000000004, 38.900000000000006, 39.0, 39.1, 39.2, 39.300000000000004, 39.400000000000006, 39.5, 39.6, 39.7, 39.800000000000004, 39.900000000000006, 40.0, 40.1, 40.2, 40.300000000000004, 40.400000000000006, 40.5, 40.6, 40.7, 40.800000000000004, 40.900000000000006, 41.0, 41.1, 41.2, 41.300000000000004, 41.400000000000006, 41.5, 41.6, 41.7, 41.800000000000004, 41.900000000000006, 42.0, 42.1, 42.2, 42.300000000000004, 42.400000000000006, 42.5, 42.6, 42.7, 42.800000000000004, 42.900000000000006, 43.0, 43.1, 43.2, 43.300000000000004, 43.400000000000006, 43.5, 43.6, 43.7, 43.800000000000004, 43.900000000000006, 44.0, 44.1, 44.2, 44.300000000000004, 44.400000000000006, 44.5, 44.6, 44.7, 44.800000000000004, 44.900000000000006, 45.0, 45.1, 45.2, 45.300000000000004, 45.400000000000006, 45.5, 45.6, 45.7, 45.800000000000004, 45.900000000000006, 46.0, 46.1, 46.2, 46.300000000000004, 46.400000000000006, 46.5, 46.6, 46.7, 46.800000000000004, 46.900000000000006, 47.0, 47.1, 47.2, 47.300000000000004, 47.400000000000006, 47.5, 47.6, 47.7, 47.800000000000004, 47.900000000000006, 48.0, 48.1, 48.2, 48.300000000000004, 48.400000000000006, 48.5, 48.6, 48.7, 48.800000000000004, 48.900000000000006, 49.0, 49.1, 49.2, 49.300000000000004, 49.400000000000006, 49.5, 49.6, 49.7, 49.800000000000004, 49.900000000000006, 50.0, 50.1, 50.2, 50.300000000000004, 50.400000000000006, 50.5, 50.6, 50.7, 50.800000000000004, 50.900000000000006, 51.0, 51.1, 51.2, 51.300000000000004, 51.400000000000006, 51.5, 51.6, 51.7, 51.800000000000004, 51.900000000000006, 52.0, 52.1, 52.2, 52.300000000000004, 52.400000000000006, 52.5, 52.6, 52.7, 52.800000000000004, 52.900000000000006, 53.0, 53.1, 53.2, 53.300000000000004, 53.400000000000006, 53.5, 53.6, 53.7, 53.800000000000004, 53.900000000000006, 54.0, 54.1, 54.2, 54.300000000000004, 54.400000000000006, 54.5, 54.6, 54.7, 54.800000000000004, 54.900000000000006, 55.0, 55.1, 55.2, 55.300000000000004, 55.400000000000006, 55.5, 55.6, 55.7, 55.800000000000004, 55.900000000000006, 56.0, 56.1, 56.2, 56.300000000000004, 56.400000000000006, 56.5, 56.6, 56.7, 56.800000000000004, 56.900000000000006, 57.0, 57.1, 57.2, 57.300000000000004, 57.400000000000006, 57.5, 57.6, 57.7, 57.800000000000004, 57.900000000000006, 58.0, 58.1, 58.2, 58.300000000000004, 58.400000000000006, 58.5, 58.6, 58.7, 58.800000000000004, 58.900000000000006, 59.0, 59.1, 59.2, 59.300000000000004, 59.400000000000006, 59.5, 59.6, 59.7, 59.800000000000004, 59.900000000000006, 60.0, 60.1, 60.2, 60.300000000000004, 60.400000000000006, 60.5, 60.6, 60.7, 60.800000000000004, 60.900000000000006, 61.0, 61.1, 61.2, 61.300000000000004, 61.400000000000006, 61.5, 61.6, 61.7, 61.800000000000004, 61.900000000000006, 62.0, 62.1, 62.2, 62.300000000000004, 62.400000000000006, 62.5, 62.6, 62.7, 62.800000000000004, 62.900000000000006, 63.0, 63.1, 63.2, 63.300000000000004, 63.400000000000006, 63.5, 63.6, 63.7, 63.800000000000004, 63.900000000000006, 64.0, 64.10000000000001, 64.2, 64.3, 64.4, 64.5, 64.60000000000001, 64.7, 64.8, 64.9, 65.0, 65.10000000000001, 65.2, 65.3, 65.4, 65.5, 65.60000000000001, 65.7, 65.8, 65.9, 66.0, 66.10000000000001, 66.2, 66.3, 66.4, 66.5, 66.60000000000001, 66.7, 66.8, 66.9, 67.0, 67.10000000000001, 67.2, 67.3, 67.4, 67.5, 67.60000000000001, 67.7, 67.8, 67.9, 68.0, 68.10000000000001, 68.2, 68.3, 68.4, 68.5, 68.60000000000001, 68.7, 68.8, 68.9, 69.0, 69.10000000000001, 69.2, 69.3, 69.4, 69.5, 69.60000000000001, 69.7, 69.8, 69.9, 70.0, 70.10000000000001, 70.2, 70.3, 70.4, 70.5, 70.60000000000001, 70.7, 70.8, 70.9, 71.0, 71.10000000000001, 71.2, 71.3, 71.4, 71.5, 71.60000000000001, 71.7, 71.8, 71.9, 72.0, 72.10000000000001, 72.2, 72.3, 72.4, 72.5, 72.60000000000001, 72.7, 72.8, 72.9, 73.0, 73.10000000000001, 73.2, 73.3, 73.4, 73.5, 73.60000000000001, 73.7, 73.8, 73.9, 74.0, 74.10000000000001, 74.2, 74.3, 74.4, 74.5, 74.60000000000001, 74.7, 74.8, 74.9, 75.0, 75.10000000000001, 75.2, 75.3, 75.4, 75.5, 75.60000000000001, 75.7, 75.8, 75.9, 76.0, 76.10000000000001, 76.2, 76.3, 76.4, 76.5, 76.60000000000001, 76.7, 76.80000000000001, 76.9, 77.0, 77.10000000000001, 77.2, 77.30000000000001, 77.4, 77.5, 77.60000000000001, 77.7, 77.80000000000001, 77.9, 78.0, 78.10000000000001, 78.2, 78.30000000000001, 78.4, 78.5, 78.60000000000001, 78.7, 78.80000000000001, 78.9, 79.0, 79.10000000000001, 79.2, 79.30000000000001, 79.4, 79.5, 79.60000000000001, 79.7, 79.80000000000001, 79.9, 80.0, 80.10000000000001, 80.2, 80.30000000000001, 80.4, 80.5, 80.60000000000001, 80.7, 80.80000000000001, 80.9, 81.0, 81.10000000000001, 81.2, 81.30000000000001, 81.4, 81.5, 81.60000000000001, 81.7, 81.80000000000001, 81.9, 82.0, 82.10000000000001, 82.2, 82.30000000000001, 82.4, 82.5, 82.60000000000001, 82.7, 82.80000000000001, 82.9, 83.0, 83.10000000000001, 83.2, 83.30000000000001, 83.4, 83.5, 83.60000000000001, 83.7, 83.80000000000001, 83.9, 84.0, 84.10000000000001, 84.2, 84.30000000000001, 84.4, 84.5, 84.60000000000001, 84.7, 84.80000000000001, 84.9, 85.0, 85.10000000000001, 85.2, 85.30000000000001, 85.4, 85.5, 85.60000000000001, 85.7, 85.80000000000001, 85.9, 86.0, 86.10000000000001, 86.2, 86.30000000000001, 86.4, 86.5, 86.60000000000001, 86.7, 86.80000000000001, 86.9, 87.0, 87.10000000000001, 87.2, 87.30000000000001, 87.4, 87.5, 87.60000000000001, 87.7, 87.80000000000001, 87.9, 88.0, 88.10000000000001, 88.2, 88.30000000000001, 88.4, 88.5, 88.60000000000001, 88.7, 88.80000000000001, 88.9, 89.0, 89.10000000000001, 89.2, 89.30000000000001, 89.4, 89.5, 89.60000000000001, 89.7, 89.80000000000001, 89.9, 90.0, 90.10000000000001, 90.2, 90.30000000000001, 90.4, 90.5, 90.60000000000001, 90.7, 90.80000000000001, 90.9, 91.0, 91.10000000000001, 91.2, 91.30000000000001, 91.4, 91.5, 91.60000000000001, 91.7, 91.80000000000001, 91.9, 92.0, 92.10000000000001, 92.2, 92.30000000000001, 92.4, 92.5, 92.60000000000001, 92.7, 92.80000000000001, 92.9, 93.0, 93.10000000000001, 93.2, 93.30000000000001, 93.4, 93.5, 93.60000000000001, 93.7, 93.80000000000001, 93.9, 94.0, 94.10000000000001, 94.2, 94.30000000000001, 94.4, 94.5, 94.60000000000001, 94.7, 94.80000000000001, 94.9, 95.0, 95.10000000000001, 95.2, 95.30000000000001, 95.4, 95.5, 95.60000000000001, 95.7, 95.80000000000001, 95.9, 96.0, 96.10000000000001, 96.2, 96.30000000000001, 96.4, 96.5, 96.60000000000001, 96.7, 96.80000000000001, 96.9, 97.0, 97.10000000000001, 97.2, 97.30000000000001, 97.4, 97.5, 97.60000000000001, 97.7, 97.80000000000001, 97.9, 98.0, 98.10000000000001, 98.2, 98.30000000000001, 98.4, 98.5, 98.60000000000001, 98.7, 98.80000000000001, 98.9, 99.0, 99.10000000000001, 99.2, 99.30000000000001, 99.4, 99.5, 99.60000000000001, 99.7, 99.80000000000001, 99.9, 100.0, 100.10000000000001, 100.2, 100.30000000000001, 100.4, 100.5, 100.60000000000001, 100.7, 100.80000000000001, 100.9, 101.0, 101.10000000000001, 101.2, 101.30000000000001, 101.4, 101.5, 101.60000000000001, 101.7, 101.80000000000001, 101.9, 102.0, 102.10000000000001, 102.2, 102.30000000000001, 102.4, 102.5, 102.60000000000001, 102.7, 102.80000000000001, 102.9, 103.0, 103.10000000000001, 103.2, 103.30000000000001, 103.4, 103.5, 103.60000000000001, 103.7, 103.80000000000001, 103.9, 104.0, 104.10000000000001, 104.2, 104.30000000000001, 104.4, 104.5, 104.60000000000001, 104.7, 104.80000000000001, 104.9, 105.0, 105.10000000000001, 105.2, 105.30000000000001, 105.4, 105.5, 105.60000000000001, 105.7, 105.80000000000001, 105.9, 106.0, 106.10000000000001, 106.2, 106.30000000000001, 106.4, 106.5, 106.60000000000001, 106.7, 106.80000000000001, 106.9, 107.0, 107.10000000000001, 107.2, 107.30000000000001, 107.4, 107.5, 107.60000000000001, 107.7, 107.80000000000001, 107.9, 108.0, 108.10000000000001, 108.2, 108.30000000000001, 108.4, 108.5, 108.60000000000001, 108.7, 108.80000000000001, 108.9, 109.0, 109.10000000000001, 109.2, 109.30000000000001, 109.4, 109.5, 109.60000000000001, 109.7, 109.80000000000001, 109.9, 110.0, 110.10000000000001, 110.2, 110.30000000000001, 110.4, 110.5, 110.60000000000001, 110.7, 110.80000000000001, 110.9, 111.0, 111.10000000000001, 111.2, 111.30000000000001, 111.4, 111.5, 111.60000000000001, 111.7, 111.80000000000001, 111.9, 112.0, 112.10000000000001, 112.2, 112.30000000000001, 112.4, 112.5, 112.60000000000001, 112.7, 112.80000000000001, 112.9, 113.0, 113.10000000000001, 113.2, 113.30000000000001, 113.4, 113.5, 113.60000000000001, 113.7, 113.80000000000001, 113.9, 114.0, 114.10000000000001, 114.2, 114.30000000000001, 114.4, 114.5, 114.60000000000001, 114.7, 114.80000000000001, 114.9, 115.0, 115.10000000000001, 115.2, 115.30000000000001, 115.4, 115.5, 115.60000000000001, 115.7, 115.80000000000001, 115.9, 116.0, 116.10000000000001, 116.2, 116.30000000000001, 116.4, 116.5, 116.60000000000001, 116.7, 116.80000000000001, 116.9, 117.0, 117.10000000000001, 117.2, 117.30000000000001, 117.4, 117.5, 117.60000000000001, 117.7, 117.80000000000001, 117.9, 118.0, 118.10000000000001, 118.2, 118.30000000000001, 118.4, 118.5, 118.60000000000001, 118.7, 118.80000000000001, 118.9, 119.0, 119.10000000000001, 119.2, 119.30000000000001, 119.4, 119.5, 119.60000000000001, 119.7, 119.80000000000001, 119.9, 120.0, 120.10000000000001, 120.2, 120.30000000000001, 120.4, 120.5, 120.60000000000001, 120.7, 120.80000000000001, 120.9, 121.0, 121.10000000000001, 121.2, 121.30000000000001, 121.4, 121.5, 121.60000000000001, 121.7, 121.80000000000001, 121.9, 122.0, 122.10000000000001, 122.2, 122.30000000000001, 122.4, 122.5, 122.60000000000001, 122.7, 122.80000000000001, 122.9, 123.0, 123.10000000000001, 123.2, 123.30000000000001, 123.4, 123.5, 123.60000000000001, 123.7, 123.80000000000001, 123.9, 124.0, 124.10000000000001, 124.2, 124.30000000000001, 124.4, 124.5, 124.60000000000001, 124.7, 124.80000000000001, 124.9, 125.0, 125.10000000000001, 125.2, 125.30000000000001, 125.4, 125.5, 125.60000000000001, 125.7, 125.80000000000001, 125.9, 126.0, 126.10000000000001, 126.2, 126.30000000000001, 126.4, 126.5, 126.60000000000001, 126.7, 126.80000000000001, 126.9, 127.0, 127.10000000000001, 127.2, 127.30000000000001, 127.4, 127.5, 127.60000000000001, 127.7, 127.80000000000001, 127.9, 128.0, 128.1, 128.20000000000002, 128.3, 128.4, 128.5, 128.6, 128.70000000000002, 128.8, 128.9, 129.0, 129.1, 129.20000000000002, 129.3, 129.4, 129.5, 129.6, 129.70000000000002, 129.8, 129.9], \"y\": [124.88774011781179, 124.78537744995894, 124.68301478210611, 124.58065211425327, 124.47828944640042, 124.3759267785476, 124.27356411069475, 124.1712014428419, 124.06883877498908, 123.96647610713623, 123.86411343928339, 123.76175077143056, 123.65938810357771, 123.55702543572487, 123.45466276787204, 123.35230010001919, 123.24993743216635, 123.14757476431352, 123.04521209646067, 122.94284942860783, 122.840486760755, 122.73812409290215, 122.63576142504931, 122.53339875719648, 122.43103608934364, 122.32867342149079, 122.22631075363796, 122.12394808578512, 122.02158541793227, 121.91922275007944, 121.8168600822266, 121.71449741437375, 121.61213474652092, 121.50977207866808, 121.40740941081523, 121.3050467429624, 121.20268407510956, 121.10032140725671, 120.99795873940388, 120.89559607155104, 120.7932334036982, 120.69087073584537, 120.58850806799252, 120.48614540013968, 120.38378273228685, 120.281420064434, 120.17905739658116, 120.07669472872833, 119.97433206087548, 119.87196939302264, 119.76960672516981, 119.66724405731696, 119.56488138946412, 119.46251872161129, 119.36015605375844, 119.25779338590561, 119.15543071805277, 119.05306805019993, 118.95070538234708, 118.84834271449425, 118.7459800466414, 118.64361737878856, 118.54125471093573, 118.43889204308289, 118.33652937523004, 118.23416670737721, 118.13180403952437, 118.02944137167154, 117.9270787038187, 117.82471603596585, 117.722353368113, 117.61999070026017, 117.51762803240733, 117.4152653645545, 117.31290269670166, 117.21054002884881, 117.10817736099597, 117.00581469314314, 116.90345202529029, 116.80108935743746, 116.69872668958462, 116.59636402173177, 116.49400135387893, 116.3916386860261, 116.28927601817325, 116.18691335032042, 116.08455068246758, 115.98218801461474, 115.87982534676189, 115.77746267890906, 115.67510001105622, 115.57273734320339, 115.47037467535054, 115.3680120074977, 115.26564933964485, 115.16328667179202, 115.06092400393918, 114.95856133608635, 114.8561986682335, 114.75383600038066, 114.65147333252783, 114.54911066467498, 114.44674799682214, 114.34438532896931, 114.24202266111647, 114.13965999326362, 114.03729732541078, 113.93493465755795, 113.8325719897051, 113.73020932185227, 113.62784665399943, 113.52548398614658, 113.42312131829374, 113.32075865044091, 113.21839598258806, 113.11603331473523, 113.01367064688239, 112.91130797902954, 112.80894531117671, 112.70658264332387, 112.60421997547103, 112.5018573076182, 112.39949463976535, 112.2971319719125, 112.19476930405968, 112.09240663620683, 111.99004396835399, 111.88768130050116, 111.78531863264831, 111.68295596479547, 111.58059329694264, 111.4782306290898, 111.37586796123695, 111.27350529338412, 111.17114262553127, 111.06877995767843, 110.9664172898256, 110.86405462197276, 110.76169195411991, 110.65932928626708, 110.55696661841424, 110.45460395056139, 110.35224128270856, 110.24987861485572, 110.14751594700287, 110.04515327915004, 109.9427906112972, 109.84042794344435, 109.73806527559152, 109.63570260773868, 109.53333993988583, 109.430977272033, 109.32861460418016, 109.22625193632732, 109.12388926847449, 109.02152660062164, 108.9191639327688, 108.81680126491597, 108.71443859706312, 108.61207592921028, 108.50971326135745, 108.4073505935046, 108.30498792565177, 108.20262525779893, 108.10026258994608, 107.99789992209324, 107.89553725424041, 107.79317458638756, 107.69081191853473, 107.58844925068189, 107.48608658282905, 107.3837239149762, 107.28136124712337, 107.17899857927053, 107.07663591141768, 106.97427324356485, 106.87191057571201, 106.76954790785916, 106.66718524000633, 106.56482257215349, 106.46245990430066, 106.36009723644781, 106.25773456859497, 106.15537190074213, 106.0530092328893, 105.95064656503645, 105.84828389718362, 105.74592122933078, 105.64355856147793, 105.54119589362509, 105.43883322577226, 105.33647055791941, 105.23410789006657, 105.13174522221374, 105.0293825543609, 104.92701988650805, 104.82465721865522, 104.72229455080237, 104.61993188294954, 104.5175692150967, 104.41520654724386, 104.31284387939101, 104.21048121153818, 104.10811854368534, 104.0057558758325, 103.90339320797966, 103.80103054012682, 103.69866787227397, 103.59630520442114, 103.4939425365683, 103.39157986871547, 103.28921720086262, 103.18685453300978, 103.08449186515693, 102.9821291973041, 102.87976652945126, 102.77740386159843, 102.67504119374559, 102.57267852589274, 102.4703158580399, 102.36795319018707, 102.26559052233422, 102.16322785448138, 102.06086518662855, 101.9585025187757, 101.85613985092286, 101.75377718307003, 101.65141451521718, 101.54905184736435, 101.44668917951151, 101.34432651165866, 101.24196384380582, 101.13960117595299, 101.03723850810015, 100.93487584024732, 100.83251317239447, 100.73015050454163, 100.62778783668878, 100.52542516883595, 100.42306250098311, 100.32069983313028, 100.21833716527743, 100.11597449742459, 100.01361182957174, 99.91124916171891, 99.80888649386607, 99.70652382601324, 99.6041611581604, 99.50179849030755, 99.3994358224547, 99.29707315460188, 99.19471048674903, 99.0923478188962, 98.98998515104336, 98.88762248319051, 98.78525981533768, 98.68289714748484, 98.580534479632, 98.47817181177916, 98.37580914392632, 98.27344647607347, 98.17108380822063, 98.0687211403678, 97.96635847251495, 97.86399580466212, 97.76163313680928, 97.65927046895644, 97.55690780110359, 97.45454513325076, 97.35218246539792, 97.24981979754509, 97.14745712969224, 97.0450944618394, 96.94273179398657, 96.84036912613372, 96.73800645828089, 96.63564379042805, 96.5332811225752, 96.43091845472236, 96.32855578686952, 96.22619311901668, 96.12383045116384, 96.02146778331101, 95.91910511545817, 95.81674244760532, 95.71437977975249, 95.61201711189965, 95.5096544440468, 95.40729177619397, 95.30492910834113, 95.20256644048828, 95.10020377263545, 94.99784110478261, 94.89547843692978, 94.79311576907693, 94.69075310122409, 94.58839043337125, 94.4860277655184, 94.38366509766557, 94.28130242981273, 94.1789397619599, 94.07657709410705, 93.9742144262542, 93.87185175840138, 93.76948909054853, 93.6671264226957, 93.56476375484286, 93.46240108699001, 93.36003841913717, 93.25767575128434, 93.1553130834315, 93.05295041557865, 92.95058774772582, 92.84822507987298, 92.74586241202013, 92.6434997441673, 92.54113707631446, 92.43877440846163, 92.33641174060878, 92.23404907275594, 92.13168640490309, 92.02932373705025, 91.92696106919742, 91.82459840134457, 91.72223573349174, 91.6198730656389, 91.51751039778605, 91.41514772993321, 91.31278506208038, 91.21042239422755, 91.1080597263747, 91.00569705852186, 90.90333439066902, 90.80097172281617, 90.69860905496336, 90.59624638711051, 90.49388371925767, 90.39152105140482, 90.28915838355198, 90.18679571569915, 90.0844330478463, 89.98207037999347, 89.87970771214063, 89.77734504428778, 89.67498237643494, 89.57261970858211, 89.47025704072927, 89.36789437287644, 89.26553170502359, 89.16316903717075, 89.0608063693179, 88.95844370146507, 88.85608103361223, 88.7537183657594, 88.65135569790655, 88.54899303005371, 88.44663036220086, 88.34426769434802, 88.24190502649519, 88.13954235864236, 88.03717969078951, 87.93481702293667, 87.83245435508383, 87.73009168723098, 87.62772901937817, 87.52536635152532, 87.42300368367248, 87.32064101581963, 87.21827834796679, 87.11591568011396, 87.01355301226113, 86.91119034440828, 86.80882767655544, 86.7064650087026, 86.60410234084975, 86.50173967299692, 86.39937700514407, 86.29701433729124, 86.1946516694384, 86.09228900158556, 85.98992633373271, 85.88756366587988, 85.78520099802704, 85.6828383301742, 85.58047566232136, 85.47811299446852, 85.37575032661567, 85.27338765876284, 85.17102499091, 85.06866232305717, 84.96629965520432, 84.86393698735148, 84.76157431949864, 84.65921165164579, 84.55684898379296, 84.45448631594013, 84.35212364808729, 84.24976098023444, 84.1473983123816, 84.04503564452875, 83.94267297667594, 83.84031030882309, 83.73794764097025, 83.6355849731174, 83.53322230526456, 83.43085963741173, 83.3284969695589, 83.22613430170605, 83.12377163385321, 83.02140896600037, 82.91904629814752, 82.81668363029469, 82.71432096244185, 82.61195829458902, 82.50959562673617, 82.40723295888333, 82.30487029103048, 82.20250762317765, 82.10014495532481, 81.99778228747198, 81.89541961961913, 81.79305695176629, 81.69069428391344, 81.58833161606061, 81.48596894820777, 81.38360628035494, 81.2812436125021, 81.17888094464925, 81.0765182767964, 80.97415560894356, 80.87179294109075, 80.7694302732379, 80.66706760538506, 80.56470493753221, 80.46234226967937, 80.35997960182654, 80.25761693397371, 80.15525426612086, 80.05289159826802, 79.95052893041517, 79.84816626256234, 79.7458035947095, 79.64344092685667, 79.54107825900383, 79.43871559115098, 79.33635292329814, 79.23399025544529, 79.13162758759246, 79.02926491973962, 78.92690225188679, 78.82453958403394, 78.7221769161811, 78.61981424832825, 78.51745158047542, 78.41508891262258, 78.31272624476975, 78.2103635769169, 78.10800090906406, 78.00563824121122, 77.90327557335839, 77.80091290550556, 77.69855023765271, 77.59618756979987, 77.49382490194702, 77.39146223409418, 77.28909956624135, 77.18673689838852, 77.08437423053567, 76.98201156268283, 76.87964889482998, 76.77728622697715, 76.67492355912431, 76.57256089127148, 76.47019822341863, 76.36783555556579, 76.26547288771295, 76.16311021986012, 76.06074755200727, 75.95838488415444, 75.8560222163016, 75.75365954844875, 75.65129688059591, 75.54893421274306, 75.44657154489023, 75.34420887703739, 75.24184620918456, 75.13948354133171, 75.03712087347887, 74.93475820562603, 74.8323955377732, 74.73003286992036, 74.62767020206752, 74.52530753421468, 74.42294486636183, 74.32058219850899, 74.21821953065617, 74.11585686280333, 74.01349419495048, 73.91113152709764, 73.8087688592448, 73.70640619139196, 73.60404352353912, 73.50168085568629, 73.39931818783344, 73.2969555199806, 73.19459285212776, 73.09223018427492, 72.98986751642208, 72.88750484856925, 72.7851421807164, 72.68277951286356, 72.58041684501072, 72.47805417715789, 72.37569150930504, 72.27332884145221, 72.17096617359937, 72.06860350574652, 71.96624083789368, 71.86387817004083, 71.761515502188, 71.65915283433517, 71.55679016648233, 71.45442749862949, 71.35206483077664, 71.2497021629238, 71.14733949507098, 71.04497682721814, 70.94261415936529, 70.84025149151245, 70.7378888236596, 70.63552615580677, 70.53316348795394, 70.4308008201011, 70.32843815224825, 70.22607548439541, 70.12371281654256, 70.02135014868973, 69.91898748083689, 69.81662481298406, 69.71426214513122, 69.61189947727837, 69.50953680942553, 69.4071741415727, 69.30481147371985, 69.20244880586702, 69.10008613801418, 68.99772347016133, 68.89536080230849, 68.79299813445566, 68.69063546660281, 68.58827279874998, 68.48591013089714, 68.3835474630443, 68.28118479519145, 68.1788221273386, 68.07645945948579, 67.97409679163295, 67.8717341237801, 67.76937145592726, 67.66700878807441, 67.56464612022158, 67.46228345236875, 67.35992078451591, 67.25755811666306, 67.15519544881022, 67.05283278095739, 66.95047011310454, 66.84810744525171, 66.74574477739887, 66.64338210954602, 66.54101944169318, 66.43865677384034, 66.3362941059875, 66.23393143813466, 66.13156877028183, 66.02920610242899, 65.92684343457614, 65.8244807667233, 65.72211809887047, 65.61975543101762, 65.51739276316479, 65.41503009531195, 65.3126674274591, 65.21030475960626, 65.10794209175343, 65.0055794239006, 64.90321675604775, 64.80085408819491, 64.69849142034207, 64.59612875248922, 64.49376608463639, 64.39140341678356, 64.28904074893072, 64.18667808107787, 64.08431541322503, 63.9819527453722, 63.87959007751935, 63.777227409666516, 63.67486474181367, 63.572502073960834, 63.470139406108, 63.36777673825516, 63.265414070402315, 63.16305140254948, 63.06068873469663, 62.958326066843796, 62.85596339899096, 62.753600731138114, 62.65123806328528, 62.54887539543243, 62.4465127275796, 62.34415005972676, 62.24178739187392, 62.139424724021076, 62.03706205616824, 61.9346993883154, 61.832336720462564, 61.72997405260972, 61.62761138475688, 61.52524871690404, 61.42288604905121, 61.32052338119836, 61.21816071334552, 61.11579804549268, 61.01343537763984, 60.91107270978701, 60.80871004193416, 60.70634737408132, 60.60398470622849, 60.50162203837564, 60.39925937052281, 60.29689670266997, 60.194534034817124, 60.09217136696428, 59.98980869911145, 59.887446031258605, 59.785083363405775, 59.68272069555293, 59.580358027700086, 59.47799535984724, 59.37563269199441, 59.27327002414157, 59.17090735628872, 59.06854468843589, 58.96618202058305, 58.86381935273022, 58.76145668487736, 58.65909401702453, 58.5567313491717, 58.454368681318854, 58.35200601346601, 58.249643345613165, 58.147280677760335, 58.044918009907505, 57.942555342054646, 57.840192674201816, 57.73783000634897, 57.63546733849614, 57.5331046706433, 57.43074200279045, 57.32837933493762, 57.226016667084764, 57.123653999231934, 57.0212913313791, 56.91892866352626, 56.816565995673415, 56.71420332782057, 56.61184065996774, 56.50947799211491, 56.40711532426205, 56.30475265640922, 56.20238998855638, 56.100027320703546, 55.9976646528507, 55.89530198499786, 55.79293931714503, 55.69057664929217, 55.58821398143934, 55.48585131358651, 55.383488645733664, 55.28112597788082, 55.178763310027975, 55.076400642175145, 54.974037974322314, 54.871675306469456, 54.769312638616626, 54.66694997076378, 54.56458730291095, 54.46222463505811, 54.35986196720526, 54.25749929935243, 54.15513663149959, 54.05277396364674, 53.95041129579391, 53.84804862794107, 53.745685960088224, 53.64332329223538, 53.54096062438255, 53.43859795652972, 53.33623528867686, 53.23387262082403, 53.131509952971186, 53.029147285118356, 52.92678461726551, 52.82442194941267, 52.72205928155984, 52.61969661370699, 52.51733394585415, 52.41497127800132, 52.31260861014847, 52.21024594229564, 52.107883274442784, 52.005520606589954, 51.903157938737124, 51.800795270884265, 51.698432603031435, 51.59606993517859, 51.49370726732576, 51.391344599472916, 51.28898193162007, 51.18661926376724, 51.0842565959144, 50.98189392806155, 50.87953126020872, 50.77716859235588, 50.67480592450305, 50.57244325665019, 50.47008058879736, 50.36771792094453, 50.26535525309167, 50.16299258523884, 50.060629917385995, 49.958267249533165, 49.85590458168032, 49.753541913827476, 49.651179245974646, 49.5488165781218, 49.44645391026896, 49.34409124241613, 49.24172857456328, 49.13936590671045, 49.037003238857594, 48.93464057100476, 48.83227790315193, 48.72991523529909, 48.627552567446244, 48.5251898995934, 48.42282723174057, 48.320464563887725, 48.21810189603488, 48.11573922818205, 48.013376560329206, 47.91101389247636, 47.80865122462353, 47.70628855677069, 47.60392588891786, 47.501563221065, 47.39920055321217, 47.29683788535934, 47.19447521750649, 47.09211254965365, 46.989749881800805, 46.887387213947974, 46.785024546095144, 46.682661878242286, 46.580299210389455, 46.47793654253661, 46.37557387468377, 46.27321120683092, 46.17084853897809, 46.06848587112526, 45.9661232032724, 45.86376053541957, 45.76139786756673, 45.6590351997139, 45.556672531861054, 45.45430986400821, 45.35194719615538, 45.249584528302535, 45.14722186044969, 45.04485919259686, 44.942496524744016, 44.84013385689117, 44.73777118903833, 44.6354085211855, 44.533045853332666, 44.43068318547981, 44.32832051762698, 44.22595784977413, 44.1235951819213, 44.02123251406846, 43.918869846215614, 43.816507178362784, 43.71414451050994, 43.611781842657095, 43.509419174804265, 43.40705650695142, 43.30469383909859, 43.20233117124573, 43.0999685033929, 42.99760583554007, 42.89524316768721, 42.79288049983438, 42.69051783198154, 42.58815516412871, 42.48579249627586, 42.38342982842302, 42.28106716057019, 42.178704492717344, 42.0763418248645, 41.97397915701167, 41.871616489158825, 41.769253821305995, 41.666891153453136, 41.564528485600306, 41.462165817747476, 41.35980314989463, 41.25744048204179, 41.15507781418894, 41.05271514633611, 40.95035247848327, 40.84798981063042, 40.74562714277759, 40.64326447492475, 40.540901807071904, 40.438539139219074, 40.33617647136623, 40.2338138035134, 40.13145113566054, 40.02908846780771, 39.92672579995488, 39.824363132102036, 39.72200046424919, 39.61963779639635, 39.51727512854352, 39.41491246069069, 39.31254979283783, 39.210187124985, 39.10782445713215, 39.00546178927931, 38.90309912142648, 38.800736453573634, 38.698373785720804, 38.596011117867945, 38.493648450015115, 38.391285782162285, 38.28892311430944, 38.186560446456596, 38.08419777860375, 37.98183511075092, 37.87947244289809, 37.77710977504523, 37.6747471071924, 37.57238443933956, 37.470021771486714, 37.36765910363388, 37.26529643578104, 37.16293376792821, 37.06057110007535, 36.95820843222252, 36.85584576436969, 36.753483096516845, 36.651120428664, 36.54875776081116, 36.446395092958326, 36.344032425105496, 36.24166975725264, 36.13930708939981, 36.03694442154696, 35.93458175369413, 35.83221908584129, 35.729856417988444, 35.62749375013561, 35.525131082282755, 35.422768414429925, 35.320405746577094, 35.21804307872425, 35.115680410871406, 35.01331774301856, 34.91095507516573, 34.8085924073129, 34.70622973946004, 34.60386707160721, 34.50150440375437, 34.39914173590154, 34.29677906804869, 34.19441640019585, 34.09205373234302, 33.98969106449016, 33.88732839663733, 33.7849657287845, 33.682603060931655, 33.58024039307881, 33.477877725225966, 33.375515057373136, 33.273152389520305, 33.17078972166745, 33.06842705381462, 32.96606438596177, 32.86370171810894, 32.7613390502561, 32.65897638240325, 32.55661371455042, 32.45425104669758, 32.351888378844734, 32.249525710991904, 32.14716304313906, 32.044800375286215, 31.94243770743337, 31.84007503958054, 31.73771237172771, 31.63534970387485, 31.53298703602202, 31.430624368169177, 31.328261700316347, 31.225899032463502, 31.123536364610658, 31.021173696757828, 30.918811028904983, 30.81644836105214, 30.71408569319931, 30.611723025346464, 30.509360357493634, 30.406997689640775, 30.304635021787945, 30.202272353935115, 30.099909686082256, 29.997547018229426, 29.89518435037658, 29.79282168252375, 29.690459014670907, 29.588096346818062, 29.485733678965232, 29.383371011112388, 29.281008343259543, 29.178645675406713, 29.07628300755387, 28.97392033970104, 28.87155767184818, 28.76919500399535, 28.66683233614252, 28.564469668289675, 28.46210700043683, 28.359744332583986, 28.257381664731156, 28.15501899687831, 28.052656329025467, 27.950293661172637, 27.847930993319792, 27.745568325466948, 27.643205657614118, 27.540842989761273, 27.438480321908443, 27.336117654055585, 27.233754986202754, 27.131392318349924, 27.02902965049708, 26.926666982644235, 26.82430431479139, 26.72194164693856, 26.619578979085716, 26.517216311232872, 26.41485364338004, 26.312490975527197, 26.210128307674353, 26.107765639821523, 26.005402971968678, 25.903040304115848, 25.80067763626299, 25.69831496841016, 25.59595230055733, 25.493589632704484, 25.39122696485164, 25.288864296998796, 25.186501629145965, 25.084138961293135, 24.981776293440277, 24.879413625587446, 24.777050957734602, 24.674688289881757, 24.572325622028927, 24.469962954176083, 24.367600286323253, 24.265237618470394, 24.162874950617564, 24.060512282764734, 23.95814961491189, 23.855786947059045, 23.7534242792062, 23.65106161135337, 23.54869894350054, 23.44633627564768, 23.34397360779485, 23.241610939942007, 23.139248272089176, 23.036885604236332, 22.934522936383487, 22.832160268530657, 22.7297976006778, 22.62743493282497, 22.525072264972138, 22.422709597119294, 22.32034692926645, 22.217984261413605, 22.115621593560775, 22.013258925707945, 21.910896257855086, 21.808533590002256, 21.70617092214941, 21.60380825429658, 21.501445586443737, 21.399082918590892, 21.296720250738062, 21.194357582885203, 21.091994915032373, 20.989632247179543, 20.8872695793267, 20.784906911473854, 20.68254424362101, 20.58018157576818, 20.47781890791535, 20.37545624006249, 20.27309357220966, 20.170730904356816, 20.068368236503986, 19.96600556865114, 19.863642900798297, 19.761280232945467, 19.658917565092622, 19.556554897239778, 19.454192229386948, 19.351829561534103, 19.24946689368126, 19.147104225828414, 19.044741557975584, 18.942378890122754, 18.840016222269895, 18.737653554417065, 18.63529088656422, 18.53292821871139, 18.430565550858546, 18.3282028830057, 18.22584021515287, 18.123477547300027, 18.021114879447182, 17.918752211594352, 17.816389543741508, 17.714026875888678, 17.61166420803582, 17.50930154018299, 17.40693887233016, 17.3045762044773, 17.20221353662447, 17.099850868771625, 16.997488200918795, 16.89512553306595, 16.792762865213106, 16.690400197360276, 16.58803752950743, 16.485674861654587, 16.383312193801757, 16.280949525948913, 16.178586858096082, 16.076224190243224, 15.973861522390393, 15.871498854537563, 15.769136186684705, 15.666773518831874, 15.56441085097903, 15.4620481831262, 15.359685515273355, 15.257322847420511, 15.15496017956768, 15.052597511714836, 14.950234843861992, 14.847872176009162, 14.745509508156317, 14.643146840303487, 14.540784172450628, 14.438421504597798, 14.336058836744968, 14.233696168892124, 14.131333501039279, 14.028970833186435, 13.926608165333604, 13.82424549748076, 13.721882829627916, 13.619520161775085, 13.517157493922241, 13.414794826069397, 13.312432158216566, 13.210069490363722, 13.107706822510892, 13.005344154658033, 12.902981486805203, 12.800618818952373, 12.698256151099528, 12.595893483246684, 12.49353081539384, 12.39116814754101, 12.288805479688179, 12.18644281183532, 12.08408014398249, 11.981717476129646, 11.879354808276801, 11.776992140423971, 11.674629472571127, 11.572266804718296, 11.469904136865438, 11.367541469012608, 11.265178801159777, 11.162816133306933, 11.060453465454088, 10.958090797601244, 10.855728129748414, 10.753365461895584, 10.651002794042725, 10.548640126189895, 10.44627745833705, 10.34391479048422, 10.241552122631376, 10.139189454778531, 10.036826786925701, 9.934464119072842, 9.832101451220012, 9.729738783367182, 9.627376115514338, 9.525013447661493, 9.422650779808649, 9.320288111955819, 9.217925444102988, 9.11556277625013, 9.0132001083973, 8.910837440544455, 8.808474772691625, 8.70611210483878, 8.603749436985936, 8.501386769133106, 8.399024101280247, 8.296661433427417, 8.194298765574587, 8.091936097721742, 7.989573429868898, 7.887210762016053, 7.784848094163223, 7.682485426310393, 7.580122758457534, 7.477760090604704, 7.37539742275186, 7.2730347548990295, 7.170672087046185, 7.068309419193341, 6.9659467513405104, 6.863584083487666, 6.761221415634822, 6.658858747781991, 6.556496079929147, 6.4541334120763025, 6.351770744223458, 6.249408076370628, 6.147045408517798, 6.044682740664939, 5.942320072812109, 5.839957404959264, 5.737594737106434, 5.63523206925359, 5.532869401400745, 5.430506733547915, 5.328144065695071, 5.225781397842226, 5.123418729989396, 5.021056062136552, 4.918693394283721, 4.816330726430863, 4.713968058578033, 4.611605390725202, 4.509242722872344, 4.4068800550195135, 4.304517387166669, 4.202154719313839, 4.0997920514609945, 3.99742938360815, 3.89506671575532, 3.7927040479024754, 3.690341380049631, 3.5879787121968008, 3.4856160443439563, 3.383253376491126, 3.2808907086382675, 3.1785280407854373, 3.076165372932607, 2.9738027050797484, 2.871440037226918, 2.769077369374074, 2.6667147015212436, 2.564352033668399, 2.4619893658155547, 2.3596266979627245, 2.25726403010988, 2.1549013622570357, 2.0525386944042054, 1.950176026551361, 1.8478133586985308, 1.7454506908456722, 1.643088022992842, 1.5407253551400117, 1.4383626872871673, 1.336000019434323, 1.2336373515814785, 1.1312746837286483, 1.0289120158758038, 0.9265493480229594, 0.8241866801701292, 0.7218240123172848, 0.6194613444644403, 0.5170986766116101, 0.4147360087587657, 0.3123733409059355, 0.21001067305307686, 0.10764800520024664, 0.00528533734741643, -0.097077330505428, -0.19943999835827242, -0.30180266621111684, -0.40416533406394706, -0.5065280019167773, -0.6088906697696359, -0.7112533376224661, -0.8136160054753105, -0.915978673328155, -1.0183413411809852, -1.1207040090338296, -1.2230666768866598, -1.3254293447395185, -1.4277920125923487, -1.5301546804451789, -1.6325173482980233, -1.7348800161508677, -1.8372426840037122, -1.9396053518565424, -2.0419680197093726, -2.144330687562231, -2.2466933554150614, -2.349056023267906, -2.4514186911207503, -2.5537813589735805, -2.656144026826425, -2.758506694679255, -2.8608693625321138, -2.963232030384944, -3.065594698237774, -3.1679573660906186, -3.270320033943463, -3.3726827017963075, -3.475045369649152, -3.577408037501968, -3.6797707053548123, -3.7821333732076567, -3.884496041060501, -3.9868587089133456, -4.089221376766162, -4.191584044619006, -4.2939467124718504, -4.396309380324695, -4.498672048177539, -4.601034716030384, -4.703397383883228, -4.805760051736044, -4.908122719588889, -5.010485387441733, -5.112848055294577, -5.215210723147422, -5.317573391000238, -5.419936058853111, -5.522298726705927, -5.624661394558771, -5.7270240624116155, -5.82938673026446, -5.931749398117304, -6.03411206597012, -6.136474733822965, -6.238837401675809, -6.341200069528654, -6.443562737381498, -6.5459254052343425, -6.6482880730871585, -6.750650740940003, -6.853013408792847, -6.955376076645692, -7.057738744498536, -7.160101412351352, -7.262464080204197, -7.3648267480570695, -7.4671894159098855, -7.56955208376273, -7.671914751615546, -7.77427741946839, -7.876640087321263, -7.979002755174079, -8.081365423026924]}],\n",
       "                        {\"height\": 500, \"template\": {\"data\": {\"bar\": [{\"error_x\": {\"color\": \"#2a3f5f\"}, \"error_y\": {\"color\": \"#2a3f5f\"}, \"marker\": {\"line\": {\"color\": \"#E5ECF6\", \"width\": 0.5}}, \"type\": \"bar\"}], \"barpolar\": [{\"marker\": {\"line\": {\"color\": \"#E5ECF6\", \"width\": 0.5}}, \"type\": \"barpolar\"}], \"carpet\": [{\"aaxis\": {\"endlinecolor\": \"#2a3f5f\", \"gridcolor\": \"white\", \"linecolor\": \"white\", \"minorgridcolor\": \"white\", \"startlinecolor\": \"#2a3f5f\"}, \"baxis\": {\"endlinecolor\": \"#2a3f5f\", \"gridcolor\": \"white\", \"linecolor\": \"white\", \"minorgridcolor\": \"white\", \"startlinecolor\": \"#2a3f5f\"}, \"type\": \"carpet\"}], \"choropleth\": [{\"colorbar\": {\"outlinewidth\": 0, \"ticks\": \"\"}, \"type\": \"choropleth\"}], \"contour\": [{\"colorbar\": {\"outlinewidth\": 0, \"ticks\": \"\"}, \"colorscale\": [[0.0, \"#0d0887\"], [0.1111111111111111, \"#46039f\"], [0.2222222222222222, \"#7201a8\"], [0.3333333333333333, \"#9c179e\"], [0.4444444444444444, \"#bd3786\"], [0.5555555555555556, \"#d8576b\"], [0.6666666666666666, \"#ed7953\"], [0.7777777777777778, \"#fb9f3a\"], [0.8888888888888888, \"#fdca26\"], [1.0, \"#f0f921\"]], \"type\": \"contour\"}], \"contourcarpet\": [{\"colorbar\": {\"outlinewidth\": 0, \"ticks\": \"\"}, \"type\": \"contourcarpet\"}], \"heatmap\": [{\"colorbar\": {\"outlinewidth\": 0, \"ticks\": \"\"}, \"colorscale\": [[0.0, \"#0d0887\"], [0.1111111111111111, \"#46039f\"], [0.2222222222222222, \"#7201a8\"], [0.3333333333333333, \"#9c179e\"], [0.4444444444444444, \"#bd3786\"], [0.5555555555555556, \"#d8576b\"], [0.6666666666666666, \"#ed7953\"], [0.7777777777777778, \"#fb9f3a\"], [0.8888888888888888, \"#fdca26\"], [1.0, \"#f0f921\"]], \"type\": \"heatmap\"}], \"heatmapgl\": [{\"colorbar\": {\"outlinewidth\": 0, \"ticks\": \"\"}, \"colorscale\": [[0.0, \"#0d0887\"], [0.1111111111111111, \"#46039f\"], [0.2222222222222222, \"#7201a8\"], [0.3333333333333333, \"#9c179e\"], [0.4444444444444444, \"#bd3786\"], [0.5555555555555556, \"#d8576b\"], [0.6666666666666666, \"#ed7953\"], [0.7777777777777778, \"#fb9f3a\"], [0.8888888888888888, \"#fdca26\"], [1.0, \"#f0f921\"]], \"type\": \"heatmapgl\"}], \"histogram\": [{\"marker\": {\"colorbar\": {\"outlinewidth\": 0, \"ticks\": \"\"}}, \"type\": \"histogram\"}], \"histogram2d\": [{\"colorbar\": {\"outlinewidth\": 0, \"ticks\": \"\"}, \"colorscale\": [[0.0, \"#0d0887\"], [0.1111111111111111, \"#46039f\"], [0.2222222222222222, \"#7201a8\"], [0.3333333333333333, \"#9c179e\"], [0.4444444444444444, \"#bd3786\"], [0.5555555555555556, \"#d8576b\"], [0.6666666666666666, \"#ed7953\"], [0.7777777777777778, \"#fb9f3a\"], [0.8888888888888888, \"#fdca26\"], [1.0, \"#f0f921\"]], \"type\": \"histogram2d\"}], \"histogram2dcontour\": [{\"colorbar\": {\"outlinewidth\": 0, \"ticks\": \"\"}, \"colorscale\": [[0.0, \"#0d0887\"], [0.1111111111111111, \"#46039f\"], [0.2222222222222222, \"#7201a8\"], [0.3333333333333333, \"#9c179e\"], [0.4444444444444444, \"#bd3786\"], [0.5555555555555556, \"#d8576b\"], [0.6666666666666666, \"#ed7953\"], [0.7777777777777778, \"#fb9f3a\"], [0.8888888888888888, \"#fdca26\"], [1.0, \"#f0f921\"]], \"type\": \"histogram2dcontour\"}], \"mesh3d\": [{\"colorbar\": {\"outlinewidth\": 0, \"ticks\": \"\"}, \"type\": \"mesh3d\"}], \"parcoords\": [{\"line\": {\"colorbar\": {\"outlinewidth\": 0, \"ticks\": \"\"}}, \"type\": \"parcoords\"}], \"pie\": [{\"automargin\": true, \"type\": \"pie\"}], \"scatter\": [{\"marker\": {\"colorbar\": {\"outlinewidth\": 0, \"ticks\": \"\"}}, \"type\": \"scatter\"}], \"scatter3d\": [{\"line\": {\"colorbar\": {\"outlinewidth\": 0, \"ticks\": \"\"}}, \"marker\": {\"colorbar\": {\"outlinewidth\": 0, \"ticks\": \"\"}}, \"type\": \"scatter3d\"}], \"scattercarpet\": [{\"marker\": {\"colorbar\": {\"outlinewidth\": 0, \"ticks\": \"\"}}, \"type\": \"scattercarpet\"}], \"scattergeo\": [{\"marker\": {\"colorbar\": {\"outlinewidth\": 0, \"ticks\": \"\"}}, \"type\": \"scattergeo\"}], \"scattergl\": [{\"marker\": {\"colorbar\": {\"outlinewidth\": 0, \"ticks\": \"\"}}, \"type\": \"scattergl\"}], \"scattermapbox\": [{\"marker\": {\"colorbar\": {\"outlinewidth\": 0, \"ticks\": \"\"}}, \"type\": \"scattermapbox\"}], \"scatterpolar\": [{\"marker\": {\"colorbar\": {\"outlinewidth\": 0, \"ticks\": \"\"}}, \"type\": \"scatterpolar\"}], \"scatterpolargl\": [{\"marker\": {\"colorbar\": {\"outlinewidth\": 0, \"ticks\": \"\"}}, \"type\": \"scatterpolargl\"}], \"scatterternary\": [{\"marker\": {\"colorbar\": {\"outlinewidth\": 0, \"ticks\": \"\"}}, \"type\": \"scatterternary\"}], \"surface\": [{\"colorbar\": {\"outlinewidth\": 0, \"ticks\": \"\"}, \"colorscale\": [[0.0, \"#0d0887\"], [0.1111111111111111, \"#46039f\"], [0.2222222222222222, \"#7201a8\"], [0.3333333333333333, \"#9c179e\"], [0.4444444444444444, \"#bd3786\"], [0.5555555555555556, \"#d8576b\"], [0.6666666666666666, \"#ed7953\"], [0.7777777777777778, \"#fb9f3a\"], [0.8888888888888888, \"#fdca26\"], [1.0, \"#f0f921\"]], \"type\": \"surface\"}], \"table\": [{\"cells\": {\"fill\": {\"color\": \"#EBF0F8\"}, \"line\": {\"color\": \"white\"}}, \"header\": {\"fill\": {\"color\": \"#C8D4E3\"}, \"line\": {\"color\": \"white\"}}, \"type\": \"table\"}]}, \"layout\": {\"annotationdefaults\": {\"arrowcolor\": \"#2a3f5f\", \"arrowhead\": 0, \"arrowwidth\": 1}, \"coloraxis\": {\"colorbar\": {\"outlinewidth\": 0, \"ticks\": \"\"}}, \"colorscale\": {\"diverging\": [[0, \"#8e0152\"], [0.1, \"#c51b7d\"], [0.2, \"#de77ae\"], [0.3, \"#f1b6da\"], [0.4, \"#fde0ef\"], [0.5, \"#f7f7f7\"], [0.6, \"#e6f5d0\"], [0.7, \"#b8e186\"], [0.8, \"#7fbc41\"], [0.9, \"#4d9221\"], [1, \"#276419\"]], \"sequential\": [[0.0, \"#0d0887\"], [0.1111111111111111, \"#46039f\"], [0.2222222222222222, \"#7201a8\"], [0.3333333333333333, \"#9c179e\"], [0.4444444444444444, \"#bd3786\"], [0.5555555555555556, \"#d8576b\"], [0.6666666666666666, \"#ed7953\"], [0.7777777777777778, \"#fb9f3a\"], [0.8888888888888888, \"#fdca26\"], [1.0, \"#f0f921\"]], \"sequentialminus\": [[0.0, \"#0d0887\"], [0.1111111111111111, \"#46039f\"], [0.2222222222222222, \"#7201a8\"], [0.3333333333333333, \"#9c179e\"], [0.4444444444444444, \"#bd3786\"], [0.5555555555555556, \"#d8576b\"], [0.6666666666666666, \"#ed7953\"], [0.7777777777777778, \"#fb9f3a\"], [0.8888888888888888, \"#fdca26\"], [1.0, \"#f0f921\"]]}, \"colorway\": [\"#636efa\", \"#EF553B\", \"#00cc96\", \"#ab63fa\", \"#FFA15A\", \"#19d3f3\", \"#FF6692\", \"#B6E880\", \"#FF97FF\", \"#FECB52\"], \"font\": {\"color\": \"#2a3f5f\"}, \"geo\": {\"bgcolor\": \"white\", \"lakecolor\": \"white\", \"landcolor\": \"#E5ECF6\", \"showlakes\": true, \"showland\": true, \"subunitcolor\": \"white\"}, \"hoverlabel\": {\"align\": \"left\"}, \"hovermode\": \"closest\", \"mapbox\": {\"style\": \"light\"}, \"paper_bgcolor\": \"white\", \"plot_bgcolor\": \"#E5ECF6\", \"polar\": {\"angularaxis\": {\"gridcolor\": \"white\", \"linecolor\": \"white\", \"ticks\": \"\"}, \"bgcolor\": \"#E5ECF6\", \"radialaxis\": {\"gridcolor\": \"white\", \"linecolor\": \"white\", \"ticks\": \"\"}}, \"scene\": {\"xaxis\": {\"backgroundcolor\": \"#E5ECF6\", \"gridcolor\": \"white\", \"gridwidth\": 2, \"linecolor\": \"white\", \"showbackground\": true, \"ticks\": \"\", \"zerolinecolor\": \"white\"}, \"yaxis\": {\"backgroundcolor\": \"#E5ECF6\", \"gridcolor\": \"white\", \"gridwidth\": 2, \"linecolor\": \"white\", \"showbackground\": true, \"ticks\": \"\", \"zerolinecolor\": \"white\"}, \"zaxis\": {\"backgroundcolor\": \"#E5ECF6\", \"gridcolor\": \"white\", \"gridwidth\": 2, \"linecolor\": \"white\", \"showbackground\": true, \"ticks\": \"\", \"zerolinecolor\": \"white\"}}, \"shapedefaults\": {\"line\": {\"color\": \"#2a3f5f\"}}, \"ternary\": {\"aaxis\": {\"gridcolor\": \"white\", \"linecolor\": \"white\", \"ticks\": \"\"}, \"baxis\": {\"gridcolor\": \"white\", \"linecolor\": \"white\", \"ticks\": \"\"}, \"bgcolor\": \"#E5ECF6\", \"caxis\": {\"gridcolor\": \"white\", \"linecolor\": \"white\", \"ticks\": \"\"}}, \"title\": {\"x\": 0.05}, \"xaxis\": {\"automargin\": true, \"gridcolor\": \"white\", \"linecolor\": \"white\", \"ticks\": \"\", \"title\": {\"standoff\": 15}, \"zerolinecolor\": \"white\", \"zerolinewidth\": 2}, \"yaxis\": {\"automargin\": true, \"gridcolor\": \"white\", \"linecolor\": \"white\", \"ticks\": \"\", \"title\": {\"standoff\": 15}, \"zerolinecolor\": \"white\", \"zerolinewidth\": 2}}}, \"width\": 500},\n",
       "                        {\"responsive\": true}\n",
       "                    ).then(function(){\n",
       "                            \n",
       "var gd = document.getElementById('fca04f6a-cb39-43f5-8518-65c9346da124');\n",
       "var x = new MutationObserver(function (mutations, observer) {{\n",
       "        var display = window.getComputedStyle(gd).display;\n",
       "        if (!display || display === 'none') {{\n",
       "            console.log([gd, 'removed!']);\n",
       "            Plotly.purge(gd);\n",
       "            observer.disconnect();\n",
       "        }}\n",
       "}});\n",
       "\n",
       "// Listen for the removal of the full notebook cells\n",
       "var notebookContainer = gd.closest('#notebook-container');\n",
       "if (notebookContainer) {{\n",
       "    x.observe(notebookContainer, {childList: true});\n",
       "}}\n",
       "\n",
       "// Listen for the clearing of the current output cell\n",
       "var outputEl = gd.closest('.output');\n",
       "if (outputEl) {{\n",
       "    x.observe(outputEl, {childList: true});\n",
       "}}\n",
       "\n",
       "                        })\n",
       "                };\n",
       "                });\n",
       "            </script>\n",
       "        </div>"
      ]
     },
     "metadata": {},
     "output_type": "display_data"
    }
   ],
   "source": [
    "scatter = go.Scatter(\n",
    "        x=df['first_score'],\n",
    "        y=df['second_score'],\n",
    "        mode='markers',\n",
    "        name='training data',\n",
    "        marker=dict(\n",
    "            sizemin=10,\n",
    "            symbol=df['application_result'],#散点类型\n",
    "            color=df['application_result'],#散点颜色\n",
    "            line=dict(color='black', width=1.2)))\n",
    "line=go.Scatter(x=x.tolist(),y=y.tolist()[0],mode='lines',name='descision boundary')\n",
    "data=[scatter,line]\n",
    "layout=go.Layout(height=500,width=500)\n",
    "figure=go.Figure(data,layout)\n",
    "py.offline.iplot(figure)"
   ]
  },
  {
   "cell_type": "markdown",
   "metadata": {},
   "source": [
    "# 2.正则化逻辑回归\n",
    "正则化是成本函数中的一个术语，它使算法更倾向于“更简单”的模型（在这种情况下，模型将更小的系数）,避免过度拟合。"
   ]
  },
  {
   "cell_type": "markdown",
   "metadata": {},
   "source": [
    "## 1）读取数据并理解"
   ]
  },
  {
   "cell_type": "code",
   "execution_count": 447,
   "metadata": {},
   "outputs": [
    {
     "data": {
      "text/html": [
       "<div>\n",
       "<style scoped>\n",
       "    .dataframe tbody tr th:only-of-type {\n",
       "        vertical-align: middle;\n",
       "    }\n",
       "\n",
       "    .dataframe tbody tr th {\n",
       "        vertical-align: top;\n",
       "    }\n",
       "\n",
       "    .dataframe thead th {\n",
       "        text-align: right;\n",
       "    }\n",
       "</style>\n",
       "<table border=\"1\" class=\"dataframe\">\n",
       "  <thead>\n",
       "    <tr style=\"text-align: right;\">\n",
       "      <th></th>\n",
       "      <th>test1</th>\n",
       "      <th>test2</th>\n",
       "      <th>accepted</th>\n",
       "    </tr>\n",
       "  </thead>\n",
       "  <tbody>\n",
       "    <tr>\n",
       "      <th>0</th>\n",
       "      <td>0.051267</td>\n",
       "      <td>0.69956</td>\n",
       "      <td>1</td>\n",
       "    </tr>\n",
       "    <tr>\n",
       "      <th>1</th>\n",
       "      <td>-0.092742</td>\n",
       "      <td>0.68494</td>\n",
       "      <td>1</td>\n",
       "    </tr>\n",
       "    <tr>\n",
       "      <th>2</th>\n",
       "      <td>-0.213710</td>\n",
       "      <td>0.69225</td>\n",
       "      <td>1</td>\n",
       "    </tr>\n",
       "    <tr>\n",
       "      <th>3</th>\n",
       "      <td>-0.375000</td>\n",
       "      <td>0.50219</td>\n",
       "      <td>1</td>\n",
       "    </tr>\n",
       "    <tr>\n",
       "      <th>4</th>\n",
       "      <td>-0.513250</td>\n",
       "      <td>0.46564</td>\n",
       "      <td>1</td>\n",
       "    </tr>\n",
       "  </tbody>\n",
       "</table>\n",
       "</div>"
      ],
      "text/plain": [
       "      test1    test2  accepted\n",
       "0  0.051267  0.69956         1\n",
       "1 -0.092742  0.68494         1\n",
       "2 -0.213710  0.69225         1\n",
       "3 -0.375000  0.50219         1\n",
       "4 -0.513250  0.46564         1"
      ]
     },
     "execution_count": 447,
     "metadata": {},
     "output_type": "execute_result"
    }
   ],
   "source": [
    "df2 = pd.read_csv('D:\\Learning\\python\\ML\\code\\ex2-logistic regression\\ex2data2.txt', names=['test1', 'test2', 'accepted'])\n",
    "df2.head()"
   ]
  },
  {
   "cell_type": "code",
   "execution_count": 448,
   "metadata": {},
   "outputs": [
    {
     "name": "stdout",
     "output_type": "stream",
     "text": [
      "<class 'pandas.core.frame.DataFrame'>\n",
      "RangeIndex: 118 entries, 0 to 117\n",
      "Data columns (total 3 columns):\n",
      " #   Column    Non-Null Count  Dtype  \n",
      "---  ------    --------------  -----  \n",
      " 0   test1     118 non-null    float64\n",
      " 1   test2     118 non-null    float64\n",
      " 2   accepted  118 non-null    int64  \n",
      "dtypes: float64(2), int64(1)\n",
      "memory usage: 2.9 KB\n"
     ]
    }
   ],
   "source": [
    "df2.info()"
   ]
  },
  {
   "cell_type": "code",
   "execution_count": 449,
   "metadata": {},
   "outputs": [
    {
     "data": {
      "text/html": [
       "<div>\n",
       "<style scoped>\n",
       "    .dataframe tbody tr th:only-of-type {\n",
       "        vertical-align: middle;\n",
       "    }\n",
       "\n",
       "    .dataframe tbody tr th {\n",
       "        vertical-align: top;\n",
       "    }\n",
       "\n",
       "    .dataframe thead th {\n",
       "        text-align: right;\n",
       "    }\n",
       "</style>\n",
       "<table border=\"1\" class=\"dataframe\">\n",
       "  <thead>\n",
       "    <tr style=\"text-align: right;\">\n",
       "      <th></th>\n",
       "      <th>test1</th>\n",
       "      <th>test2</th>\n",
       "      <th>accepted</th>\n",
       "    </tr>\n",
       "  </thead>\n",
       "  <tbody>\n",
       "    <tr>\n",
       "      <th>count</th>\n",
       "      <td>118.000000</td>\n",
       "      <td>118.000000</td>\n",
       "      <td>118.000000</td>\n",
       "    </tr>\n",
       "    <tr>\n",
       "      <th>mean</th>\n",
       "      <td>0.054779</td>\n",
       "      <td>0.183102</td>\n",
       "      <td>0.491525</td>\n",
       "    </tr>\n",
       "    <tr>\n",
       "      <th>std</th>\n",
       "      <td>0.496654</td>\n",
       "      <td>0.519743</td>\n",
       "      <td>0.502060</td>\n",
       "    </tr>\n",
       "    <tr>\n",
       "      <th>min</th>\n",
       "      <td>-0.830070</td>\n",
       "      <td>-0.769740</td>\n",
       "      <td>0.000000</td>\n",
       "    </tr>\n",
       "    <tr>\n",
       "      <th>25%</th>\n",
       "      <td>-0.372120</td>\n",
       "      <td>-0.254385</td>\n",
       "      <td>0.000000</td>\n",
       "    </tr>\n",
       "    <tr>\n",
       "      <th>50%</th>\n",
       "      <td>-0.006336</td>\n",
       "      <td>0.213455</td>\n",
       "      <td>0.000000</td>\n",
       "    </tr>\n",
       "    <tr>\n",
       "      <th>75%</th>\n",
       "      <td>0.478970</td>\n",
       "      <td>0.646562</td>\n",
       "      <td>1.000000</td>\n",
       "    </tr>\n",
       "    <tr>\n",
       "      <th>max</th>\n",
       "      <td>1.070900</td>\n",
       "      <td>1.108900</td>\n",
       "      <td>1.000000</td>\n",
       "    </tr>\n",
       "  </tbody>\n",
       "</table>\n",
       "</div>"
      ],
      "text/plain": [
       "            test1       test2    accepted\n",
       "count  118.000000  118.000000  118.000000\n",
       "mean     0.054779    0.183102    0.491525\n",
       "std      0.496654    0.519743    0.502060\n",
       "min     -0.830070   -0.769740    0.000000\n",
       "25%     -0.372120   -0.254385    0.000000\n",
       "50%     -0.006336    0.213455    0.000000\n",
       "75%      0.478970    0.646562    1.000000\n",
       "max      1.070900    1.108900    1.000000"
      ]
     },
     "execution_count": 449,
     "metadata": {},
     "output_type": "execute_result"
    }
   ],
   "source": [
    "df2.describe()"
   ]
  },
  {
   "cell_type": "markdown",
   "metadata": {},
   "source": [
    "## 2）数据可视化"
   ]
  },
  {
   "cell_type": "code",
   "execution_count": 450,
   "metadata": {},
   "outputs": [
    {
     "data": {
      "application/vnd.plotly.v1+json": {
       "config": {
        "linkText": "Export to plot.ly",
        "plotlyServerURL": "https://plot.ly",
        "showLink": false
       },
       "data": [
        {
         "marker": {
          "color": [
           1,
           1,
           1,
           1,
           1,
           1,
           1,
           1,
           1,
           1,
           1,
           1,
           1,
           1,
           1,
           1,
           1,
           1,
           1,
           1,
           1,
           1,
           1,
           1,
           1,
           1,
           1,
           1,
           1,
           1,
           1,
           1,
           1,
           1,
           1,
           1,
           1,
           1,
           1,
           1,
           1,
           1,
           1,
           1,
           1,
           1,
           1,
           1,
           1,
           1,
           1,
           1,
           1,
           1,
           1,
           1,
           1,
           1,
           0,
           0,
           0,
           0,
           0,
           0,
           0,
           0,
           0,
           0,
           0,
           0,
           0,
           0,
           0,
           0,
           0,
           0,
           0,
           0,
           0,
           0,
           0,
           0,
           0,
           0,
           0,
           0,
           0,
           0,
           0,
           0,
           0,
           0,
           0,
           0,
           0,
           0,
           0,
           0,
           0,
           0,
           0,
           0,
           0,
           0,
           0,
           0,
           0,
           0,
           0,
           0,
           0,
           0,
           0,
           0,
           0,
           0,
           0,
           0
          ],
          "line": {
           "color": "black",
           "width": 1.2
          },
          "sizemin": 10,
          "symbol": [
           1,
           1,
           1,
           1,
           1,
           1,
           1,
           1,
           1,
           1,
           1,
           1,
           1,
           1,
           1,
           1,
           1,
           1,
           1,
           1,
           1,
           1,
           1,
           1,
           1,
           1,
           1,
           1,
           1,
           1,
           1,
           1,
           1,
           1,
           1,
           1,
           1,
           1,
           1,
           1,
           1,
           1,
           1,
           1,
           1,
           1,
           1,
           1,
           1,
           1,
           1,
           1,
           1,
           1,
           1,
           1,
           1,
           1,
           0,
           0,
           0,
           0,
           0,
           0,
           0,
           0,
           0,
           0,
           0,
           0,
           0,
           0,
           0,
           0,
           0,
           0,
           0,
           0,
           0,
           0,
           0,
           0,
           0,
           0,
           0,
           0,
           0,
           0,
           0,
           0,
           0,
           0,
           0,
           0,
           0,
           0,
           0,
           0,
           0,
           0,
           0,
           0,
           0,
           0,
           0,
           0,
           0,
           0,
           0,
           0,
           0,
           0,
           0,
           0,
           0,
           0,
           0,
           0
          ]
         },
         "mode": "markers",
         "type": "scatter",
         "x": [
          0.05126699999999999,
          -0.09274199999999999,
          -0.21370999999999998,
          -0.375,
          -0.51325,
          -0.52477,
          -0.39804,
          -0.30588000000000004,
          0.016705,
          0.13191,
          0.38537,
          0.5293800000000001,
          0.6388199999999999,
          0.73675,
          0.54666,
          0.322,
          0.16647,
          -0.046659,
          -0.17339000000000002,
          -0.47868999999999995,
          -0.60541,
          -0.62846,
          -0.5938899999999999,
          -0.42108,
          -0.11578,
          0.20104,
          0.46601000000000004,
          0.6733899999999999,
          -0.13882,
          -0.29435,
          -0.26555,
          -0.16187,
          -0.17339000000000002,
          -0.28283,
          -0.36348,
          -0.30012,
          -0.23675,
          -0.06394,
          0.062788,
          0.22984000000000002,
          0.2932,
          0.48328999999999994,
          0.64459,
          0.46025,
          0.6273,
          0.5754600000000001,
          0.72523,
          0.22408000000000003,
          0.44297,
          0.322,
          0.13767000000000001,
          -0.0063364,
          -0.09274199999999999,
          -0.20795,
          -0.20795,
          -0.43836,
          -0.21946999999999997,
          -0.13882,
          0.18375999999999998,
          0.22408000000000003,
          0.29896,
          0.50634,
          0.61578,
          0.60426,
          0.76555,
          0.92684,
          0.82316,
          0.96141,
          0.9383600000000001,
          0.8634799999999999,
          0.89804,
          0.85196,
          0.8289200000000001,
          0.79435,
          0.5927399999999999,
          0.51786,
          0.46601000000000004,
          0.35081,
          0.28744000000000003,
          0.085829,
          0.14919000000000002,
          -0.13305999999999998,
          -0.40956,
          -0.39228,
          -0.74366,
          -0.69758,
          -0.7551800000000001,
          -0.69758,
          -0.4038,
          -0.38076,
          -0.50749,
          -0.54781,
          0.10311,
          0.057027999999999995,
          -0.10425999999999999,
          -0.081221,
          0.28744000000000003,
          0.39689,
          0.6388199999999999,
          0.82316,
          0.6733899999999999,
          1.0709,
          -0.046659,
          -0.23675,
          -0.15035,
          -0.49021000000000003,
          -0.46717,
          -0.28859,
          -0.6111800000000001,
          -0.6630199999999999,
          -0.59965,
          -0.72638,
          -0.8300700000000001,
          -0.7206199999999999,
          -0.5938899999999999,
          -0.48445,
          -0.0063364,
          0.63265
         ],
         "y": [
          0.6995600000000001,
          0.68494,
          0.69225,
          0.5021899999999999,
          0.46563999999999994,
          0.2098,
          0.034357,
          -0.19225,
          -0.40424,
          -0.51389,
          -0.56506,
          -0.5212,
          -0.24341999999999997,
          -0.18494000000000002,
          0.48757,
          0.5826,
          0.53874,
          0.81652,
          0.6995600000000001,
          0.63377,
          0.59722,
          0.33405999999999997,
          0.005117,
          -0.27266,
          -0.39693,
          -0.6016100000000001,
          -0.53582,
          -0.53582,
          0.54605,
          0.7799699999999999,
          0.96272,
          0.8019,
          0.6483899999999999,
          0.47295,
          0.31213,
          0.027047,
          -0.21418,
          -0.18494000000000002,
          -0.16301,
          -0.41155,
          -0.2288,
          -0.18494000000000002,
          -0.14107999999999998,
          0.012426999999999999,
          0.15863,
          0.26827,
          0.44371000000000005,
          0.52412,
          0.67032,
          0.69225,
          0.57529,
          0.39985,
          0.5533600000000001,
          0.35599000000000003,
          0.17325,
          0.21711,
          -0.016812999999999998,
          -0.27266,
          0.93348,
          0.7799699999999999,
          0.61915,
          0.7580399999999999,
          0.7288,
          0.59722,
          0.5021899999999999,
          0.3633,
          0.27558,
          0.085526,
          0.012426999999999999,
          -0.082602,
          -0.20686999999999997,
          -0.36769,
          -0.5212,
          -0.55775,
          -0.7405,
          -0.5943,
          -0.41886,
          -0.57968,
          -0.76974,
          -0.75512,
          -0.57968,
          -0.4481,
          -0.41155,
          -0.25804,
          -0.25804,
          0.041667,
          0.2902,
          0.68494,
          0.70687,
          0.91886,
          0.9042399999999999,
          0.70687,
          0.7799699999999999,
          0.91886,
          0.9919600000000001,
          1.1089,
          1.087,
          0.82383,
          0.8896200000000001,
          0.66301,
          0.64108,
          0.10015,
          -0.57968,
          -0.6381600000000001,
          -0.36769,
          -0.3019,
          -0.13377,
          -0.060673000000000005,
          -0.067982,
          -0.21418,
          -0.41886,
          -0.082602,
          0.31213,
          0.53874,
          0.49488000000000004,
          0.9992700000000001,
          0.9992700000000001,
          -0.030612
         ]
        }
       ],
       "layout": {
        "height": 500,
        "template": {
         "data": {
          "bar": [
           {
            "error_x": {
             "color": "#2a3f5f"
            },
            "error_y": {
             "color": "#2a3f5f"
            },
            "marker": {
             "line": {
              "color": "#E5ECF6",
              "width": 0.5
             }
            },
            "type": "bar"
           }
          ],
          "barpolar": [
           {
            "marker": {
             "line": {
              "color": "#E5ECF6",
              "width": 0.5
             }
            },
            "type": "barpolar"
           }
          ],
          "carpet": [
           {
            "aaxis": {
             "endlinecolor": "#2a3f5f",
             "gridcolor": "white",
             "linecolor": "white",
             "minorgridcolor": "white",
             "startlinecolor": "#2a3f5f"
            },
            "baxis": {
             "endlinecolor": "#2a3f5f",
             "gridcolor": "white",
             "linecolor": "white",
             "minorgridcolor": "white",
             "startlinecolor": "#2a3f5f"
            },
            "type": "carpet"
           }
          ],
          "choropleth": [
           {
            "colorbar": {
             "outlinewidth": 0,
             "ticks": ""
            },
            "type": "choropleth"
           }
          ],
          "contour": [
           {
            "colorbar": {
             "outlinewidth": 0,
             "ticks": ""
            },
            "colorscale": [
             [
              0,
              "#0d0887"
             ],
             [
              0.1111111111111111,
              "#46039f"
             ],
             [
              0.2222222222222222,
              "#7201a8"
             ],
             [
              0.3333333333333333,
              "#9c179e"
             ],
             [
              0.4444444444444444,
              "#bd3786"
             ],
             [
              0.5555555555555556,
              "#d8576b"
             ],
             [
              0.6666666666666666,
              "#ed7953"
             ],
             [
              0.7777777777777778,
              "#fb9f3a"
             ],
             [
              0.8888888888888888,
              "#fdca26"
             ],
             [
              1,
              "#f0f921"
             ]
            ],
            "type": "contour"
           }
          ],
          "contourcarpet": [
           {
            "colorbar": {
             "outlinewidth": 0,
             "ticks": ""
            },
            "type": "contourcarpet"
           }
          ],
          "heatmap": [
           {
            "colorbar": {
             "outlinewidth": 0,
             "ticks": ""
            },
            "colorscale": [
             [
              0,
              "#0d0887"
             ],
             [
              0.1111111111111111,
              "#46039f"
             ],
             [
              0.2222222222222222,
              "#7201a8"
             ],
             [
              0.3333333333333333,
              "#9c179e"
             ],
             [
              0.4444444444444444,
              "#bd3786"
             ],
             [
              0.5555555555555556,
              "#d8576b"
             ],
             [
              0.6666666666666666,
              "#ed7953"
             ],
             [
              0.7777777777777778,
              "#fb9f3a"
             ],
             [
              0.8888888888888888,
              "#fdca26"
             ],
             [
              1,
              "#f0f921"
             ]
            ],
            "type": "heatmap"
           }
          ],
          "heatmapgl": [
           {
            "colorbar": {
             "outlinewidth": 0,
             "ticks": ""
            },
            "colorscale": [
             [
              0,
              "#0d0887"
             ],
             [
              0.1111111111111111,
              "#46039f"
             ],
             [
              0.2222222222222222,
              "#7201a8"
             ],
             [
              0.3333333333333333,
              "#9c179e"
             ],
             [
              0.4444444444444444,
              "#bd3786"
             ],
             [
              0.5555555555555556,
              "#d8576b"
             ],
             [
              0.6666666666666666,
              "#ed7953"
             ],
             [
              0.7777777777777778,
              "#fb9f3a"
             ],
             [
              0.8888888888888888,
              "#fdca26"
             ],
             [
              1,
              "#f0f921"
             ]
            ],
            "type": "heatmapgl"
           }
          ],
          "histogram": [
           {
            "marker": {
             "colorbar": {
              "outlinewidth": 0,
              "ticks": ""
             }
            },
            "type": "histogram"
           }
          ],
          "histogram2d": [
           {
            "colorbar": {
             "outlinewidth": 0,
             "ticks": ""
            },
            "colorscale": [
             [
              0,
              "#0d0887"
             ],
             [
              0.1111111111111111,
              "#46039f"
             ],
             [
              0.2222222222222222,
              "#7201a8"
             ],
             [
              0.3333333333333333,
              "#9c179e"
             ],
             [
              0.4444444444444444,
              "#bd3786"
             ],
             [
              0.5555555555555556,
              "#d8576b"
             ],
             [
              0.6666666666666666,
              "#ed7953"
             ],
             [
              0.7777777777777778,
              "#fb9f3a"
             ],
             [
              0.8888888888888888,
              "#fdca26"
             ],
             [
              1,
              "#f0f921"
             ]
            ],
            "type": "histogram2d"
           }
          ],
          "histogram2dcontour": [
           {
            "colorbar": {
             "outlinewidth": 0,
             "ticks": ""
            },
            "colorscale": [
             [
              0,
              "#0d0887"
             ],
             [
              0.1111111111111111,
              "#46039f"
             ],
             [
              0.2222222222222222,
              "#7201a8"
             ],
             [
              0.3333333333333333,
              "#9c179e"
             ],
             [
              0.4444444444444444,
              "#bd3786"
             ],
             [
              0.5555555555555556,
              "#d8576b"
             ],
             [
              0.6666666666666666,
              "#ed7953"
             ],
             [
              0.7777777777777778,
              "#fb9f3a"
             ],
             [
              0.8888888888888888,
              "#fdca26"
             ],
             [
              1,
              "#f0f921"
             ]
            ],
            "type": "histogram2dcontour"
           }
          ],
          "mesh3d": [
           {
            "colorbar": {
             "outlinewidth": 0,
             "ticks": ""
            },
            "type": "mesh3d"
           }
          ],
          "parcoords": [
           {
            "line": {
             "colorbar": {
              "outlinewidth": 0,
              "ticks": ""
             }
            },
            "type": "parcoords"
           }
          ],
          "pie": [
           {
            "automargin": true,
            "type": "pie"
           }
          ],
          "scatter": [
           {
            "marker": {
             "colorbar": {
              "outlinewidth": 0,
              "ticks": ""
             }
            },
            "type": "scatter"
           }
          ],
          "scatter3d": [
           {
            "line": {
             "colorbar": {
              "outlinewidth": 0,
              "ticks": ""
             }
            },
            "marker": {
             "colorbar": {
              "outlinewidth": 0,
              "ticks": ""
             }
            },
            "type": "scatter3d"
           }
          ],
          "scattercarpet": [
           {
            "marker": {
             "colorbar": {
              "outlinewidth": 0,
              "ticks": ""
             }
            },
            "type": "scattercarpet"
           }
          ],
          "scattergeo": [
           {
            "marker": {
             "colorbar": {
              "outlinewidth": 0,
              "ticks": ""
             }
            },
            "type": "scattergeo"
           }
          ],
          "scattergl": [
           {
            "marker": {
             "colorbar": {
              "outlinewidth": 0,
              "ticks": ""
             }
            },
            "type": "scattergl"
           }
          ],
          "scattermapbox": [
           {
            "marker": {
             "colorbar": {
              "outlinewidth": 0,
              "ticks": ""
             }
            },
            "type": "scattermapbox"
           }
          ],
          "scatterpolar": [
           {
            "marker": {
             "colorbar": {
              "outlinewidth": 0,
              "ticks": ""
             }
            },
            "type": "scatterpolar"
           }
          ],
          "scatterpolargl": [
           {
            "marker": {
             "colorbar": {
              "outlinewidth": 0,
              "ticks": ""
             }
            },
            "type": "scatterpolargl"
           }
          ],
          "scatterternary": [
           {
            "marker": {
             "colorbar": {
              "outlinewidth": 0,
              "ticks": ""
             }
            },
            "type": "scatterternary"
           }
          ],
          "surface": [
           {
            "colorbar": {
             "outlinewidth": 0,
             "ticks": ""
            },
            "colorscale": [
             [
              0,
              "#0d0887"
             ],
             [
              0.1111111111111111,
              "#46039f"
             ],
             [
              0.2222222222222222,
              "#7201a8"
             ],
             [
              0.3333333333333333,
              "#9c179e"
             ],
             [
              0.4444444444444444,
              "#bd3786"
             ],
             [
              0.5555555555555556,
              "#d8576b"
             ],
             [
              0.6666666666666666,
              "#ed7953"
             ],
             [
              0.7777777777777778,
              "#fb9f3a"
             ],
             [
              0.8888888888888888,
              "#fdca26"
             ],
             [
              1,
              "#f0f921"
             ]
            ],
            "type": "surface"
           }
          ],
          "table": [
           {
            "cells": {
             "fill": {
              "color": "#EBF0F8"
             },
             "line": {
              "color": "white"
             }
            },
            "header": {
             "fill": {
              "color": "#C8D4E3"
             },
             "line": {
              "color": "white"
             }
            },
            "type": "table"
           }
          ]
         },
         "layout": {
          "annotationdefaults": {
           "arrowcolor": "#2a3f5f",
           "arrowhead": 0,
           "arrowwidth": 1
          },
          "coloraxis": {
           "colorbar": {
            "outlinewidth": 0,
            "ticks": ""
           }
          },
          "colorscale": {
           "diverging": [
            [
             0,
             "#8e0152"
            ],
            [
             0.1,
             "#c51b7d"
            ],
            [
             0.2,
             "#de77ae"
            ],
            [
             0.3,
             "#f1b6da"
            ],
            [
             0.4,
             "#fde0ef"
            ],
            [
             0.5,
             "#f7f7f7"
            ],
            [
             0.6,
             "#e6f5d0"
            ],
            [
             0.7,
             "#b8e186"
            ],
            [
             0.8,
             "#7fbc41"
            ],
            [
             0.9,
             "#4d9221"
            ],
            [
             1,
             "#276419"
            ]
           ],
           "sequential": [
            [
             0,
             "#0d0887"
            ],
            [
             0.1111111111111111,
             "#46039f"
            ],
            [
             0.2222222222222222,
             "#7201a8"
            ],
            [
             0.3333333333333333,
             "#9c179e"
            ],
            [
             0.4444444444444444,
             "#bd3786"
            ],
            [
             0.5555555555555556,
             "#d8576b"
            ],
            [
             0.6666666666666666,
             "#ed7953"
            ],
            [
             0.7777777777777778,
             "#fb9f3a"
            ],
            [
             0.8888888888888888,
             "#fdca26"
            ],
            [
             1,
             "#f0f921"
            ]
           ],
           "sequentialminus": [
            [
             0,
             "#0d0887"
            ],
            [
             0.1111111111111111,
             "#46039f"
            ],
            [
             0.2222222222222222,
             "#7201a8"
            ],
            [
             0.3333333333333333,
             "#9c179e"
            ],
            [
             0.4444444444444444,
             "#bd3786"
            ],
            [
             0.5555555555555556,
             "#d8576b"
            ],
            [
             0.6666666666666666,
             "#ed7953"
            ],
            [
             0.7777777777777778,
             "#fb9f3a"
            ],
            [
             0.8888888888888888,
             "#fdca26"
            ],
            [
             1,
             "#f0f921"
            ]
           ]
          },
          "colorway": [
           "#636efa",
           "#EF553B",
           "#00cc96",
           "#ab63fa",
           "#FFA15A",
           "#19d3f3",
           "#FF6692",
           "#B6E880",
           "#FF97FF",
           "#FECB52"
          ],
          "font": {
           "color": "#2a3f5f"
          },
          "geo": {
           "bgcolor": "white",
           "lakecolor": "white",
           "landcolor": "#E5ECF6",
           "showlakes": true,
           "showland": true,
           "subunitcolor": "white"
          },
          "hoverlabel": {
           "align": "left"
          },
          "hovermode": "closest",
          "mapbox": {
           "style": "light"
          },
          "paper_bgcolor": "white",
          "plot_bgcolor": "#E5ECF6",
          "polar": {
           "angularaxis": {
            "gridcolor": "white",
            "linecolor": "white",
            "ticks": ""
           },
           "bgcolor": "#E5ECF6",
           "radialaxis": {
            "gridcolor": "white",
            "linecolor": "white",
            "ticks": ""
           }
          },
          "scene": {
           "xaxis": {
            "backgroundcolor": "#E5ECF6",
            "gridcolor": "white",
            "gridwidth": 2,
            "linecolor": "white",
            "showbackground": true,
            "ticks": "",
            "zerolinecolor": "white"
           },
           "yaxis": {
            "backgroundcolor": "#E5ECF6",
            "gridcolor": "white",
            "gridwidth": 2,
            "linecolor": "white",
            "showbackground": true,
            "ticks": "",
            "zerolinecolor": "white"
           },
           "zaxis": {
            "backgroundcolor": "#E5ECF6",
            "gridcolor": "white",
            "gridwidth": 2,
            "linecolor": "white",
            "showbackground": true,
            "ticks": "",
            "zerolinecolor": "white"
           }
          },
          "shapedefaults": {
           "line": {
            "color": "#2a3f5f"
           }
          },
          "ternary": {
           "aaxis": {
            "gridcolor": "white",
            "linecolor": "white",
            "ticks": ""
           },
           "baxis": {
            "gridcolor": "white",
            "linecolor": "white",
            "ticks": ""
           },
           "bgcolor": "#E5ECF6",
           "caxis": {
            "gridcolor": "white",
            "linecolor": "white",
            "ticks": ""
           }
          },
          "title": {
           "x": 0.05
          },
          "xaxis": {
           "automargin": true,
           "gridcolor": "white",
           "linecolor": "white",
           "ticks": "",
           "title": {
            "standoff": 15
           },
           "zerolinecolor": "white",
           "zerolinewidth": 2
          },
          "yaxis": {
           "automargin": true,
           "gridcolor": "white",
           "linecolor": "white",
           "ticks": "",
           "title": {
            "standoff": 15
           },
           "zerolinecolor": "white",
           "zerolinewidth": 2
          }
         }
        },
        "width": 500,
        "xaxis": {
         "title": {
          "text": "test1"
         }
        },
        "yaxis": {
         "title": {
          "text": "test2"
         }
        }
       }
      },
      "text/html": [
       "<div>\n",
       "        \n",
       "        \n",
       "            <div id=\"bacddf66-7258-4b43-af54-de9da40662f0\" class=\"plotly-graph-div\" style=\"height:500px; width:500px;\"></div>\n",
       "            <script type=\"text/javascript\">\n",
       "                require([\"plotly\"], function(Plotly) {\n",
       "                    window.PLOTLYENV=window.PLOTLYENV || {};\n",
       "                    \n",
       "                if (document.getElementById(\"bacddf66-7258-4b43-af54-de9da40662f0\")) {\n",
       "                    Plotly.newPlot(\n",
       "                        'bacddf66-7258-4b43-af54-de9da40662f0',\n",
       "                        [{\"marker\": {\"color\": [1, 1, 1, 1, 1, 1, 1, 1, 1, 1, 1, 1, 1, 1, 1, 1, 1, 1, 1, 1, 1, 1, 1, 1, 1, 1, 1, 1, 1, 1, 1, 1, 1, 1, 1, 1, 1, 1, 1, 1, 1, 1, 1, 1, 1, 1, 1, 1, 1, 1, 1, 1, 1, 1, 1, 1, 1, 1, 0, 0, 0, 0, 0, 0, 0, 0, 0, 0, 0, 0, 0, 0, 0, 0, 0, 0, 0, 0, 0, 0, 0, 0, 0, 0, 0, 0, 0, 0, 0, 0, 0, 0, 0, 0, 0, 0, 0, 0, 0, 0, 0, 0, 0, 0, 0, 0, 0, 0, 0, 0, 0, 0, 0, 0, 0, 0, 0, 0], \"line\": {\"color\": \"black\", \"width\": 1.2}, \"sizemin\": 10, \"symbol\": [1, 1, 1, 1, 1, 1, 1, 1, 1, 1, 1, 1, 1, 1, 1, 1, 1, 1, 1, 1, 1, 1, 1, 1, 1, 1, 1, 1, 1, 1, 1, 1, 1, 1, 1, 1, 1, 1, 1, 1, 1, 1, 1, 1, 1, 1, 1, 1, 1, 1, 1, 1, 1, 1, 1, 1, 1, 1, 0, 0, 0, 0, 0, 0, 0, 0, 0, 0, 0, 0, 0, 0, 0, 0, 0, 0, 0, 0, 0, 0, 0, 0, 0, 0, 0, 0, 0, 0, 0, 0, 0, 0, 0, 0, 0, 0, 0, 0, 0, 0, 0, 0, 0, 0, 0, 0, 0, 0, 0, 0, 0, 0, 0, 0, 0, 0, 0, 0]}, \"mode\": \"markers\", \"type\": \"scatter\", \"x\": [0.05126699999999999, -0.09274199999999999, -0.21370999999999998, -0.375, -0.51325, -0.52477, -0.39804, -0.30588000000000004, 0.016705, 0.13191, 0.38537, 0.5293800000000001, 0.6388199999999999, 0.73675, 0.54666, 0.322, 0.16647, -0.046659, -0.17339000000000002, -0.47868999999999995, -0.60541, -0.62846, -0.5938899999999999, -0.42108, -0.11578, 0.20104, 0.46601000000000004, 0.6733899999999999, -0.13882, -0.29435, -0.26555, -0.16187, -0.17339000000000002, -0.28283, -0.36348, -0.30012, -0.23675, -0.06394, 0.062788, 0.22984000000000002, 0.2932, 0.48328999999999994, 0.64459, 0.46025, 0.6273, 0.5754600000000001, 0.72523, 0.22408000000000003, 0.44297, 0.322, 0.13767000000000001, -0.0063364, -0.09274199999999999, -0.20795, -0.20795, -0.43836, -0.21946999999999997, -0.13882, 0.18375999999999998, 0.22408000000000003, 0.29896, 0.50634, 0.61578, 0.60426, 0.76555, 0.92684, 0.82316, 0.96141, 0.9383600000000001, 0.8634799999999999, 0.89804, 0.85196, 0.8289200000000001, 0.79435, 0.5927399999999999, 0.51786, 0.46601000000000004, 0.35081, 0.28744000000000003, 0.085829, 0.14919000000000002, -0.13305999999999998, -0.40956, -0.39228, -0.74366, -0.69758, -0.7551800000000001, -0.69758, -0.4038, -0.38076, -0.50749, -0.54781, 0.10311, 0.057027999999999995, -0.10425999999999999, -0.081221, 0.28744000000000003, 0.39689, 0.6388199999999999, 0.82316, 0.6733899999999999, 1.0709, -0.046659, -0.23675, -0.15035, -0.49021000000000003, -0.46717, -0.28859, -0.6111800000000001, -0.6630199999999999, -0.59965, -0.72638, -0.8300700000000001, -0.7206199999999999, -0.5938899999999999, -0.48445, -0.0063364, 0.63265], \"y\": [0.6995600000000001, 0.68494, 0.69225, 0.5021899999999999, 0.46563999999999994, 0.2098, 0.034357, -0.19225, -0.40424, -0.51389, -0.56506, -0.5212, -0.24341999999999997, -0.18494000000000002, 0.48757, 0.5826, 0.53874, 0.81652, 0.6995600000000001, 0.63377, 0.59722, 0.33405999999999997, 0.005117, -0.27266, -0.39693, -0.6016100000000001, -0.53582, -0.53582, 0.54605, 0.7799699999999999, 0.96272, 0.8019, 0.6483899999999999, 0.47295, 0.31213, 0.027047, -0.21418, -0.18494000000000002, -0.16301, -0.41155, -0.2288, -0.18494000000000002, -0.14107999999999998, 0.012426999999999999, 0.15863, 0.26827, 0.44371000000000005, 0.52412, 0.67032, 0.69225, 0.57529, 0.39985, 0.5533600000000001, 0.35599000000000003, 0.17325, 0.21711, -0.016812999999999998, -0.27266, 0.93348, 0.7799699999999999, 0.61915, 0.7580399999999999, 0.7288, 0.59722, 0.5021899999999999, 0.3633, 0.27558, 0.085526, 0.012426999999999999, -0.082602, -0.20686999999999997, -0.36769, -0.5212, -0.55775, -0.7405, -0.5943, -0.41886, -0.57968, -0.76974, -0.75512, -0.57968, -0.4481, -0.41155, -0.25804, -0.25804, 0.041667, 0.2902, 0.68494, 0.70687, 0.91886, 0.9042399999999999, 0.70687, 0.7799699999999999, 0.91886, 0.9919600000000001, 1.1089, 1.087, 0.82383, 0.8896200000000001, 0.66301, 0.64108, 0.10015, -0.57968, -0.6381600000000001, -0.36769, -0.3019, -0.13377, -0.060673000000000005, -0.067982, -0.21418, -0.41886, -0.082602, 0.31213, 0.53874, 0.49488000000000004, 0.9992700000000001, 0.9992700000000001, -0.030612]}],\n",
       "                        {\"height\": 500, \"template\": {\"data\": {\"bar\": [{\"error_x\": {\"color\": \"#2a3f5f\"}, \"error_y\": {\"color\": \"#2a3f5f\"}, \"marker\": {\"line\": {\"color\": \"#E5ECF6\", \"width\": 0.5}}, \"type\": \"bar\"}], \"barpolar\": [{\"marker\": {\"line\": {\"color\": \"#E5ECF6\", \"width\": 0.5}}, \"type\": \"barpolar\"}], \"carpet\": [{\"aaxis\": {\"endlinecolor\": \"#2a3f5f\", \"gridcolor\": \"white\", \"linecolor\": \"white\", \"minorgridcolor\": \"white\", \"startlinecolor\": \"#2a3f5f\"}, \"baxis\": {\"endlinecolor\": \"#2a3f5f\", \"gridcolor\": \"white\", \"linecolor\": \"white\", \"minorgridcolor\": \"white\", \"startlinecolor\": \"#2a3f5f\"}, \"type\": \"carpet\"}], \"choropleth\": [{\"colorbar\": {\"outlinewidth\": 0, \"ticks\": \"\"}, \"type\": \"choropleth\"}], \"contour\": [{\"colorbar\": {\"outlinewidth\": 0, \"ticks\": \"\"}, \"colorscale\": [[0.0, \"#0d0887\"], [0.1111111111111111, \"#46039f\"], [0.2222222222222222, \"#7201a8\"], [0.3333333333333333, \"#9c179e\"], [0.4444444444444444, \"#bd3786\"], [0.5555555555555556, \"#d8576b\"], [0.6666666666666666, \"#ed7953\"], [0.7777777777777778, \"#fb9f3a\"], [0.8888888888888888, \"#fdca26\"], [1.0, \"#f0f921\"]], \"type\": \"contour\"}], \"contourcarpet\": [{\"colorbar\": {\"outlinewidth\": 0, \"ticks\": \"\"}, \"type\": \"contourcarpet\"}], \"heatmap\": [{\"colorbar\": {\"outlinewidth\": 0, \"ticks\": \"\"}, \"colorscale\": [[0.0, \"#0d0887\"], [0.1111111111111111, \"#46039f\"], [0.2222222222222222, \"#7201a8\"], [0.3333333333333333, \"#9c179e\"], [0.4444444444444444, \"#bd3786\"], [0.5555555555555556, \"#d8576b\"], [0.6666666666666666, \"#ed7953\"], [0.7777777777777778, \"#fb9f3a\"], [0.8888888888888888, \"#fdca26\"], [1.0, \"#f0f921\"]], \"type\": \"heatmap\"}], \"heatmapgl\": [{\"colorbar\": {\"outlinewidth\": 0, \"ticks\": \"\"}, \"colorscale\": [[0.0, \"#0d0887\"], [0.1111111111111111, \"#46039f\"], [0.2222222222222222, \"#7201a8\"], [0.3333333333333333, \"#9c179e\"], [0.4444444444444444, \"#bd3786\"], [0.5555555555555556, \"#d8576b\"], [0.6666666666666666, \"#ed7953\"], [0.7777777777777778, \"#fb9f3a\"], [0.8888888888888888, \"#fdca26\"], [1.0, \"#f0f921\"]], \"type\": \"heatmapgl\"}], \"histogram\": [{\"marker\": {\"colorbar\": {\"outlinewidth\": 0, \"ticks\": \"\"}}, \"type\": \"histogram\"}], \"histogram2d\": [{\"colorbar\": {\"outlinewidth\": 0, \"ticks\": \"\"}, \"colorscale\": [[0.0, \"#0d0887\"], [0.1111111111111111, \"#46039f\"], [0.2222222222222222, \"#7201a8\"], [0.3333333333333333, \"#9c179e\"], [0.4444444444444444, \"#bd3786\"], [0.5555555555555556, \"#d8576b\"], [0.6666666666666666, \"#ed7953\"], [0.7777777777777778, \"#fb9f3a\"], [0.8888888888888888, \"#fdca26\"], [1.0, \"#f0f921\"]], \"type\": \"histogram2d\"}], \"histogram2dcontour\": [{\"colorbar\": {\"outlinewidth\": 0, \"ticks\": \"\"}, \"colorscale\": [[0.0, \"#0d0887\"], [0.1111111111111111, \"#46039f\"], [0.2222222222222222, \"#7201a8\"], [0.3333333333333333, \"#9c179e\"], [0.4444444444444444, \"#bd3786\"], [0.5555555555555556, \"#d8576b\"], [0.6666666666666666, \"#ed7953\"], [0.7777777777777778, \"#fb9f3a\"], [0.8888888888888888, \"#fdca26\"], [1.0, \"#f0f921\"]], \"type\": \"histogram2dcontour\"}], \"mesh3d\": [{\"colorbar\": {\"outlinewidth\": 0, \"ticks\": \"\"}, \"type\": \"mesh3d\"}], \"parcoords\": [{\"line\": {\"colorbar\": {\"outlinewidth\": 0, \"ticks\": \"\"}}, \"type\": \"parcoords\"}], \"pie\": [{\"automargin\": true, \"type\": \"pie\"}], \"scatter\": [{\"marker\": {\"colorbar\": {\"outlinewidth\": 0, \"ticks\": \"\"}}, \"type\": \"scatter\"}], \"scatter3d\": [{\"line\": {\"colorbar\": {\"outlinewidth\": 0, \"ticks\": \"\"}}, \"marker\": {\"colorbar\": {\"outlinewidth\": 0, \"ticks\": \"\"}}, \"type\": \"scatter3d\"}], \"scattercarpet\": [{\"marker\": {\"colorbar\": {\"outlinewidth\": 0, \"ticks\": \"\"}}, \"type\": \"scattercarpet\"}], \"scattergeo\": [{\"marker\": {\"colorbar\": {\"outlinewidth\": 0, \"ticks\": \"\"}}, \"type\": \"scattergeo\"}], \"scattergl\": [{\"marker\": {\"colorbar\": {\"outlinewidth\": 0, \"ticks\": \"\"}}, \"type\": \"scattergl\"}], \"scattermapbox\": [{\"marker\": {\"colorbar\": {\"outlinewidth\": 0, \"ticks\": \"\"}}, \"type\": \"scattermapbox\"}], \"scatterpolar\": [{\"marker\": {\"colorbar\": {\"outlinewidth\": 0, \"ticks\": \"\"}}, \"type\": \"scatterpolar\"}], \"scatterpolargl\": [{\"marker\": {\"colorbar\": {\"outlinewidth\": 0, \"ticks\": \"\"}}, \"type\": \"scatterpolargl\"}], \"scatterternary\": [{\"marker\": {\"colorbar\": {\"outlinewidth\": 0, \"ticks\": \"\"}}, \"type\": \"scatterternary\"}], \"surface\": [{\"colorbar\": {\"outlinewidth\": 0, \"ticks\": \"\"}, \"colorscale\": [[0.0, \"#0d0887\"], [0.1111111111111111, \"#46039f\"], [0.2222222222222222, \"#7201a8\"], [0.3333333333333333, \"#9c179e\"], [0.4444444444444444, \"#bd3786\"], [0.5555555555555556, \"#d8576b\"], [0.6666666666666666, \"#ed7953\"], [0.7777777777777778, \"#fb9f3a\"], [0.8888888888888888, \"#fdca26\"], [1.0, \"#f0f921\"]], \"type\": \"surface\"}], \"table\": [{\"cells\": {\"fill\": {\"color\": \"#EBF0F8\"}, \"line\": {\"color\": \"white\"}}, \"header\": {\"fill\": {\"color\": \"#C8D4E3\"}, \"line\": {\"color\": \"white\"}}, \"type\": \"table\"}]}, \"layout\": {\"annotationdefaults\": {\"arrowcolor\": \"#2a3f5f\", \"arrowhead\": 0, \"arrowwidth\": 1}, \"coloraxis\": {\"colorbar\": {\"outlinewidth\": 0, \"ticks\": \"\"}}, \"colorscale\": {\"diverging\": [[0, \"#8e0152\"], [0.1, \"#c51b7d\"], [0.2, \"#de77ae\"], [0.3, \"#f1b6da\"], [0.4, \"#fde0ef\"], [0.5, \"#f7f7f7\"], [0.6, \"#e6f5d0\"], [0.7, \"#b8e186\"], [0.8, \"#7fbc41\"], [0.9, \"#4d9221\"], [1, \"#276419\"]], \"sequential\": [[0.0, \"#0d0887\"], [0.1111111111111111, \"#46039f\"], [0.2222222222222222, \"#7201a8\"], [0.3333333333333333, \"#9c179e\"], [0.4444444444444444, \"#bd3786\"], [0.5555555555555556, \"#d8576b\"], [0.6666666666666666, \"#ed7953\"], [0.7777777777777778, \"#fb9f3a\"], [0.8888888888888888, \"#fdca26\"], [1.0, \"#f0f921\"]], \"sequentialminus\": [[0.0, \"#0d0887\"], [0.1111111111111111, \"#46039f\"], [0.2222222222222222, \"#7201a8\"], [0.3333333333333333, \"#9c179e\"], [0.4444444444444444, \"#bd3786\"], [0.5555555555555556, \"#d8576b\"], [0.6666666666666666, \"#ed7953\"], [0.7777777777777778, \"#fb9f3a\"], [0.8888888888888888, \"#fdca26\"], [1.0, \"#f0f921\"]]}, \"colorway\": [\"#636efa\", \"#EF553B\", \"#00cc96\", \"#ab63fa\", \"#FFA15A\", \"#19d3f3\", \"#FF6692\", \"#B6E880\", \"#FF97FF\", \"#FECB52\"], \"font\": {\"color\": \"#2a3f5f\"}, \"geo\": {\"bgcolor\": \"white\", \"lakecolor\": \"white\", \"landcolor\": \"#E5ECF6\", \"showlakes\": true, \"showland\": true, \"subunitcolor\": \"white\"}, \"hoverlabel\": {\"align\": \"left\"}, \"hovermode\": \"closest\", \"mapbox\": {\"style\": \"light\"}, \"paper_bgcolor\": \"white\", \"plot_bgcolor\": \"#E5ECF6\", \"polar\": {\"angularaxis\": {\"gridcolor\": \"white\", \"linecolor\": \"white\", \"ticks\": \"\"}, \"bgcolor\": \"#E5ECF6\", \"radialaxis\": {\"gridcolor\": \"white\", \"linecolor\": \"white\", \"ticks\": \"\"}}, \"scene\": {\"xaxis\": {\"backgroundcolor\": \"#E5ECF6\", \"gridcolor\": \"white\", \"gridwidth\": 2, \"linecolor\": \"white\", \"showbackground\": true, \"ticks\": \"\", \"zerolinecolor\": \"white\"}, \"yaxis\": {\"backgroundcolor\": \"#E5ECF6\", \"gridcolor\": \"white\", \"gridwidth\": 2, \"linecolor\": \"white\", \"showbackground\": true, \"ticks\": \"\", \"zerolinecolor\": \"white\"}, \"zaxis\": {\"backgroundcolor\": \"#E5ECF6\", \"gridcolor\": \"white\", \"gridwidth\": 2, \"linecolor\": \"white\", \"showbackground\": true, \"ticks\": \"\", \"zerolinecolor\": \"white\"}}, \"shapedefaults\": {\"line\": {\"color\": \"#2a3f5f\"}}, \"ternary\": {\"aaxis\": {\"gridcolor\": \"white\", \"linecolor\": \"white\", \"ticks\": \"\"}, \"baxis\": {\"gridcolor\": \"white\", \"linecolor\": \"white\", \"ticks\": \"\"}, \"bgcolor\": \"#E5ECF6\", \"caxis\": {\"gridcolor\": \"white\", \"linecolor\": \"white\", \"ticks\": \"\"}}, \"title\": {\"x\": 0.05}, \"xaxis\": {\"automargin\": true, \"gridcolor\": \"white\", \"linecolor\": \"white\", \"ticks\": \"\", \"title\": {\"standoff\": 15}, \"zerolinecolor\": \"white\", \"zerolinewidth\": 2}, \"yaxis\": {\"automargin\": true, \"gridcolor\": \"white\", \"linecolor\": \"white\", \"ticks\": \"\", \"title\": {\"standoff\": 15}, \"zerolinecolor\": \"white\", \"zerolinewidth\": 2}}}, \"width\": 500, \"xaxis\": {\"title\": {\"text\": \"test1\"}}, \"yaxis\": {\"title\": {\"text\": \"test2\"}}},\n",
       "                        {\"responsive\": true}\n",
       "                    ).then(function(){\n",
       "                            \n",
       "var gd = document.getElementById('bacddf66-7258-4b43-af54-de9da40662f0');\n",
       "var x = new MutationObserver(function (mutations, observer) {{\n",
       "        var display = window.getComputedStyle(gd).display;\n",
       "        if (!display || display === 'none') {{\n",
       "            console.log([gd, 'removed!']);\n",
       "            Plotly.purge(gd);\n",
       "            observer.disconnect();\n",
       "        }}\n",
       "}});\n",
       "\n",
       "// Listen for the removal of the full notebook cells\n",
       "var notebookContainer = gd.closest('#notebook-container');\n",
       "if (notebookContainer) {{\n",
       "    x.observe(notebookContainer, {childList: true});\n",
       "}}\n",
       "\n",
       "// Listen for the clearing of the current output cell\n",
       "var outputEl = gd.closest('.output');\n",
       "if (outputEl) {{\n",
       "    x.observe(outputEl, {childList: true});\n",
       "}}\n",
       "\n",
       "                        })\n",
       "                };\n",
       "                });\n",
       "            </script>\n",
       "        </div>"
      ]
     },
     "metadata": {},
     "output_type": "display_data"
    }
   ],
   "source": [
    "data = [go.Scatter(\n",
    "        x=df2['test1'],\n",
    "        y=df2['test2'],\n",
    "        mode='markers',\n",
    "        marker=dict(\n",
    "            sizemin=10,\n",
    "            symbol=df2['accepted'],#散点类型\n",
    "            color=df2['accepted'],#散点颜色\n",
    "            line=dict(color='black', width=1.2)))]\n",
    "figure = go.Figure(\n",
    "    data=data,\n",
    "    layout=go.Layout(\n",
    "        height=500,\n",
    "        width=500,\n",
    "        xaxis=dict(title='test1'),\n",
    "        yaxis=dict(title='test2')))\n",
    "iplot(figure)"
   ]
  },
  {
   "cell_type": "markdown",
   "metadata": {},
   "source": [
    "* 从图中可以看出，这个数据没有线性决策边界，本次逻辑回归我们采用多项式进行拟合。"
   ]
  },
  {
   "cell_type": "code",
   "execution_count": 451,
   "metadata": {},
   "outputs": [
    {
     "data": {
      "text/html": [
       "<div>\n",
       "<style scoped>\n",
       "    .dataframe tbody tr th:only-of-type {\n",
       "        vertical-align: middle;\n",
       "    }\n",
       "\n",
       "    .dataframe tbody tr th {\n",
       "        vertical-align: top;\n",
       "    }\n",
       "\n",
       "    .dataframe thead th {\n",
       "        text-align: right;\n",
       "    }\n",
       "</style>\n",
       "<table border=\"1\" class=\"dataframe\">\n",
       "  <thead>\n",
       "    <tr style=\"text-align: right;\">\n",
       "      <th></th>\n",
       "      <th>accepted</th>\n",
       "      <th>Ones</th>\n",
       "      <th>F10</th>\n",
       "      <th>F20</th>\n",
       "      <th>F21</th>\n",
       "      <th>F30</th>\n",
       "      <th>F31</th>\n",
       "      <th>F32</th>\n",
       "      <th>F40</th>\n",
       "      <th>F41</th>\n",
       "      <th>F42</th>\n",
       "      <th>F43</th>\n",
       "    </tr>\n",
       "  </thead>\n",
       "  <tbody>\n",
       "    <tr>\n",
       "      <th>0</th>\n",
       "      <td>1</td>\n",
       "      <td>1</td>\n",
       "      <td>0.051267</td>\n",
       "      <td>0.002628</td>\n",
       "      <td>0.035864</td>\n",
       "      <td>0.000135</td>\n",
       "      <td>0.001839</td>\n",
       "      <td>0.025089</td>\n",
       "      <td>0.000007</td>\n",
       "      <td>0.000094</td>\n",
       "      <td>0.001286</td>\n",
       "      <td>0.017551</td>\n",
       "    </tr>\n",
       "    <tr>\n",
       "      <th>1</th>\n",
       "      <td>1</td>\n",
       "      <td>1</td>\n",
       "      <td>-0.092742</td>\n",
       "      <td>0.008601</td>\n",
       "      <td>-0.063523</td>\n",
       "      <td>-0.000798</td>\n",
       "      <td>0.005891</td>\n",
       "      <td>-0.043509</td>\n",
       "      <td>0.000074</td>\n",
       "      <td>-0.000546</td>\n",
       "      <td>0.004035</td>\n",
       "      <td>-0.029801</td>\n",
       "    </tr>\n",
       "    <tr>\n",
       "      <th>2</th>\n",
       "      <td>1</td>\n",
       "      <td>1</td>\n",
       "      <td>-0.213710</td>\n",
       "      <td>0.045672</td>\n",
       "      <td>-0.147941</td>\n",
       "      <td>-0.009761</td>\n",
       "      <td>0.031616</td>\n",
       "      <td>-0.102412</td>\n",
       "      <td>0.002086</td>\n",
       "      <td>-0.006757</td>\n",
       "      <td>0.021886</td>\n",
       "      <td>-0.070895</td>\n",
       "    </tr>\n",
       "    <tr>\n",
       "      <th>3</th>\n",
       "      <td>1</td>\n",
       "      <td>1</td>\n",
       "      <td>-0.375000</td>\n",
       "      <td>0.140625</td>\n",
       "      <td>-0.188321</td>\n",
       "      <td>-0.052734</td>\n",
       "      <td>0.070620</td>\n",
       "      <td>-0.094573</td>\n",
       "      <td>0.019775</td>\n",
       "      <td>-0.026483</td>\n",
       "      <td>0.035465</td>\n",
       "      <td>-0.047494</td>\n",
       "    </tr>\n",
       "    <tr>\n",
       "      <th>4</th>\n",
       "      <td>1</td>\n",
       "      <td>1</td>\n",
       "      <td>-0.513250</td>\n",
       "      <td>0.263426</td>\n",
       "      <td>-0.238990</td>\n",
       "      <td>-0.135203</td>\n",
       "      <td>0.122661</td>\n",
       "      <td>-0.111283</td>\n",
       "      <td>0.069393</td>\n",
       "      <td>-0.062956</td>\n",
       "      <td>0.057116</td>\n",
       "      <td>-0.051818</td>\n",
       "    </tr>\n",
       "  </tbody>\n",
       "</table>\n",
       "</div>"
      ],
      "text/plain": [
       "   accepted  Ones       F10       F20       F21       F30       F31       F32  \\\n",
       "0         1     1  0.051267  0.002628  0.035864  0.000135  0.001839  0.025089   \n",
       "1         1     1 -0.092742  0.008601 -0.063523 -0.000798  0.005891 -0.043509   \n",
       "2         1     1 -0.213710  0.045672 -0.147941 -0.009761  0.031616 -0.102412   \n",
       "3         1     1 -0.375000  0.140625 -0.188321 -0.052734  0.070620 -0.094573   \n",
       "4         1     1 -0.513250  0.263426 -0.238990 -0.135203  0.122661 -0.111283   \n",
       "\n",
       "        F40       F41       F42       F43  \n",
       "0  0.000007  0.000094  0.001286  0.017551  \n",
       "1  0.000074 -0.000546  0.004035 -0.029801  \n",
       "2  0.002086 -0.006757  0.021886 -0.070895  \n",
       "3  0.019775 -0.026483  0.035465 -0.047494  \n",
       "4  0.069393 -0.062956  0.057116 -0.051818  "
      ]
     },
     "execution_count": 451,
     "metadata": {},
     "output_type": "execute_result"
    }
   ],
   "source": [
    "degree = 5\n",
    "x1 = df2['test1']\n",
    "x2 = df2['test2']\n",
    "\n",
    "df2.insert(3, 'Ones', 1)\n",
    "\n",
    "for i in range(1, degree):\n",
    "    for j in range(0, i):\n",
    "        df2['F' + str(i) + str(j)] = np.power(x1, i-j) * np.power(x2, j)\n",
    "\n",
    "df2.drop('test1', axis=1, inplace=True)\n",
    "df2.drop('test2', axis=1, inplace=True)\n",
    "\n",
    "df2.head()"
   ]
  },
  {
   "cell_type": "markdown",
   "metadata": {},
   "source": [
    "## 3）正则化代价函数（regularized cost）\n",
    "$$J\\left( \\theta  \\right)=\\frac{1}{m}\\sum\\limits_{i=1}^{m}{[-{{y}^{(i)}}\\log \\left( {{h}_{\\theta }}\\left( {{x}^{(i)}} \\right) \\right)-\\left( 1-{{y}^{(i)}} \\right)\\log \\left( 1-{{h}_{\\theta }}\\left( {{x}^{(i)}} \\right) \\right)]}+\\frac{\\lambda }{2m}\\sum\\limits_{j=1}^{n}{\\theta _{j}^{2}}$$"
   ]
  },
  {
   "cell_type": "code",
   "execution_count": 456,
   "metadata": {},
   "outputs": [],
   "source": [
    "# 定义正则化代价函数\n",
    "def costreg(theta, X, y, reg_para):\n",
    "    theta = np.matrix(theta)\n",
    "    X = np.matrix(X)\n",
    "    y = np.matrix(y)\n",
    "    first = np.multiply(-y, np.log(sigmoid(X * theta.T)))\n",
    "    second = np.multiply((1 - y), np.log(1 - sigmoid(X * theta.T)))\n",
    "    reg = (reg_para / (2 * len(X))) * np.sum(np.power(theta[:,1:theta.shape[1]], 2))\n",
    "    return np.sum(first - second) / len(X) + reg"
   ]
  },
  {
   "cell_type": "markdown",
   "metadata": {},
   "source": [
    "## 4）正则化梯度下降（regularized gradient descent）\n",
    "\\begin{align}\n",
    "  & Repeat\\text{ }until\\text{ }convergence\\text{ }\\!\\!\\{\\!\\!\\text{ } \\\\ \n",
    " & \\text{     }{{\\theta }_{0}}:={{\\theta }_{0}}-a\\frac{1}{m}\\sum\\limits_{i=1}^{m}{[{{h}_{\\theta }}\\left( {{x}^{(i)}} \\right)-{{y}^{(i)}}]x_{_{0}}^{(i)}} \\\\ \n",
    " & \\text{     }{{\\theta }_{j}}:={{\\theta }_{j}}-a\\frac{1}{m}\\sum\\limits_{i=1}^{m}{[{{h}_{\\theta }}\\left( {{x}^{(i)}} \\right)-{{y}^{(i)}}]x_{j}^{(i)}}+\\frac{\\lambda }{m}{{\\theta }_{j}} \\\\ \n",
    " & \\text{          }\\!\\!\\}\\!\\!\\text{ } \\\\ \n",
    " & Repeat \\\\ \n",
    "\\end{align}\n",
    "\n",
    "对上面的算法中 j=1,2,...,n 时的更新式子进行调整可得： \n",
    "${{\\theta }_{j}}:={{\\theta }_{j}}(1-a\\frac{\\lambda }{m})-a\\frac{1}{m}\\sum\\limits_{i=1}^{m}{({{h}_{\\theta }}\\left( {{x}^{(i)}} \\right)-{{y}^{(i)}})x_{j}^{(i)}}$\n"
   ]
  },
  {
   "cell_type": "code",
   "execution_count": 457,
   "metadata": {},
   "outputs": [],
   "source": [
    "# 定义正则化梯度下降函数\n",
    "def gradientreg(theta, X, y, reg_para):\n",
    "    theta = np.matrix(theta)\n",
    "    X = np.matrix(X)\n",
    "    y = np.matrix(y)\n",
    "    \n",
    "    parameters = int(theta.ravel().shape[1])\n",
    "    grad = np.zeros(parameters)\n",
    "    \n",
    "    error = sigmoid(X * theta.T) - y\n",
    "    \n",
    "    for i in range(parameters):\n",
    "        term = np.multiply(error, X[:,i])\n",
    "        \n",
    "        if (i == 0):\n",
    "            grad[i] = np.sum(term) / len(X)\n",
    "        else:\n",
    "            grad[i] = (np.sum(term) / len(X)) + ((reg_para / len(X)) * theta[:,i])\n",
    "    \n",
    "    return grad"
   ]
  },
  {
   "cell_type": "code",
   "execution_count": 458,
   "metadata": {},
   "outputs": [],
   "source": [
    "# 定义X，y，theta，reg_para\n",
    "cols = df2.shape[1]\n",
    "X2 = df2.iloc[:,1:cols]\n",
    "y2 = df2.iloc[:,0:1]\n",
    "\n",
    "X2 = np.array(X2.values)\n",
    "y2 = np.array(y2.values)\n",
    "theta2 = np.zeros(11)\n",
    "reg_para=1"
   ]
  },
  {
   "cell_type": "code",
   "execution_count": 459,
   "metadata": {},
   "outputs": [
    {
     "data": {
      "text/plain": [
       "0.6931471805599454"
      ]
     },
     "execution_count": 459,
     "metadata": {},
     "output_type": "execute_result"
    }
   ],
   "source": [
    "# 计算theta为0时的代价\n",
    "costreg(theta2,X2,y2,reg_para)"
   ]
  },
  {
   "cell_type": "code",
   "execution_count": 461,
   "metadata": {},
   "outputs": [
    {
     "data": {
      "text/plain": [
       "array([0.00847458, 0.01878809, 0.05034464, 0.01150133, 0.01835599,\n",
       "       0.00732393, 0.00819244, 0.03934862, 0.00223924, 0.01286005,\n",
       "       0.00309594])"
      ]
     },
     "execution_count": 461,
     "metadata": {},
     "output_type": "execute_result"
    }
   ],
   "source": [
    "# 计算theta为0时的步长\n",
    "gradientReg(theta2, X2, y2, reg_para)"
   ]
  },
  {
   "cell_type": "code",
   "execution_count": 467,
   "metadata": {},
   "outputs": [
    {
     "data": {
      "text/plain": [
       "matrix([[ 0.53010248,  0.29075567, -1.60725764, -0.58213819,  0.01781027,\n",
       "         -0.21329508, -0.40024142, -1.37144139,  0.02264304, -0.9503358 ,\n",
       "          0.0344085 ]])"
      ]
     },
     "execution_count": 467,
     "metadata": {},
     "output_type": "execute_result"
    }
   ],
   "source": [
    "# 使用优化函数计算最佳的theta\n",
    "result2 = opt.fmin_tnc(func=costreg, x0=theta2, fprime=gradientreg, args=(X2, y2, reg_para))\n",
    "final_theta2=np.matrix(result2[0])\n",
    "final_theta2"
   ]
  },
  {
   "cell_type": "markdown",
   "metadata": {},
   "source": [
    "## 5）预测函数"
   ]
  },
  {
   "cell_type": "code",
   "execution_count": 468,
   "metadata": {},
   "outputs": [
    {
     "name": "stdout",
     "output_type": "stream",
     "text": [
      "accuracy = 78%\n"
     ]
    }
   ],
   "source": [
    "# 预测准确率\n",
    "predictions = predict(final_theta2, X2)\n",
    "correct = [1 if ((a == 1 and b == 1) or (a == 0 and b == 0)) else 0 for (a, b) in zip(predictions, y2)]\n",
    "accuracy = (sum(map(int, correct)) % len(correct))\n",
    "print ('accuracy = {0}%'.format(accuracy))"
   ]
  },
  {
   "cell_type": "markdown",
   "metadata": {},
   "source": [
    "## 鸣谢：\n",
    "感谢黄海广博士提供的读书笔记及各项资料，我会在机器学习路上继续加油！"
   ]
  }
 ],
 "metadata": {
  "kernelspec": {
   "display_name": "Python 3",
   "language": "python",
   "name": "python3"
  },
  "language_info": {
   "codemirror_mode": {
    "name": "ipython",
    "version": 3
   },
   "file_extension": ".py",
   "mimetype": "text/x-python",
   "name": "python",
   "nbconvert_exporter": "python",
   "pygments_lexer": "ipython3",
   "version": "3.7.4"
  }
 },
 "nbformat": 4,
 "nbformat_minor": 2
}
