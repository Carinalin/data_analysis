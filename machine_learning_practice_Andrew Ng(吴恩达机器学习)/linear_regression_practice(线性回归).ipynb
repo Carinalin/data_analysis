{
 "cells": [
  {
   "cell_type": "markdown",
   "metadata": {},
   "source": [
    "# 线性回归练习（Linear Regression Practice）"
   ]
  },
  {
   "cell_type": "markdown",
   "metadata": {},
   "source": [
    "## 项目说明"
   ]
  },
  {
   "cell_type": "markdown",
   "metadata": {},
   "source": [
    "#### 项目背景：\n",
    "* 1.项目基于吴恩达教授的《机器学习》课程。\n",
    "* 2.数据均来源于课程配套资料。\n",
    "\n",
    "\n",
    "#### 项目目的：\n",
    "* 1、使用单变量线性回归分析ex1data1并预测。\n",
    "* 2、使用多变量线性回归分析ex1data2并预测。\n",
    "* 3、熟悉线性回归的假设函数、代价函数。\n",
    "* 4、熟练运用梯度下降和正规方程解决线性回归问题。\n",
    "\n",
    "\n",
    "#### 单变量线性回归：\n",
    "* 1、分析目的：通过城市人口预测快餐车的收益，帮助老板选择合适的城市进行扩张。\n",
    "* 2、数据说明：ex1data1\n",
    "    * 第1列：城市人口数\n",
    "    * 第2列：快餐车收益，为负则表示快餐车亏本。\n",
    "\n",
    "\n",
    "#### 多变量线性回归：\n",
    "* 1、分析目的：通过分析俄勒冈州波特兰市的房价与房子大小、房间数量的关系，得出房价预测模型。\n",
    "* 2、数据说明：ex1data2\n",
    "    * 第1列：房子面积，单位：平方英尺\n",
    "    * 第2列：房间数量\n",
    "    * 第3列：房子售卖价格"
   ]
  },
  {
   "cell_type": "markdown",
   "metadata": {},
   "source": [
    "# 导入相关数据库"
   ]
  },
  {
   "cell_type": "code",
   "execution_count": 4,
   "metadata": {},
   "outputs": [
    {
     "data": {
      "text/html": [
       "        <script type=\"text/javascript\">\n",
       "        window.PlotlyConfig = {MathJaxConfig: 'local'};\n",
       "        if (window.MathJax) {MathJax.Hub.Config({SVG: {font: \"STIX-Web\"}});}\n",
       "        if (typeof require !== 'undefined') {\n",
       "        require.undef(\"plotly\");\n",
       "        requirejs.config({\n",
       "            paths: {\n",
       "                'plotly': ['https://cdn.plot.ly/plotly-latest.min']\n",
       "            }\n",
       "        });\n",
       "        require(['plotly'], function(Plotly) {\n",
       "            window._Plotly = Plotly;\n",
       "        });\n",
       "        }\n",
       "        </script>\n",
       "        "
      ]
     },
     "metadata": {},
     "output_type": "display_data"
    },
    {
     "data": {
      "text/html": [
       "        <script type=\"text/javascript\">\n",
       "        window.PlotlyConfig = {MathJaxConfig: 'local'};\n",
       "        if (window.MathJax) {MathJax.Hub.Config({SVG: {font: \"STIX-Web\"}});}\n",
       "        if (typeof require !== 'undefined') {\n",
       "        require.undef(\"plotly\");\n",
       "        requirejs.config({\n",
       "            paths: {\n",
       "                'plotly': ['https://cdn.plot.ly/plotly-latest.min']\n",
       "            }\n",
       "        });\n",
       "        require(['plotly'], function(Plotly) {\n",
       "            window._Plotly = Plotly;\n",
       "        });\n",
       "        }\n",
       "        </script>\n",
       "        "
      ]
     },
     "metadata": {},
     "output_type": "display_data"
    }
   ],
   "source": [
    "import numpy as np\n",
    "import pandas as pd\n",
    "import tensorflow as tf\n",
    "import plotly as py\n",
    "import plotly.graph_objs as go\n",
    "import cufflinks as cf\n",
    "from plotly.offline import iplot,init_notebook_mode\n",
    "cf.go_offline(connected=True)\n",
    "init_notebook_mode(connected=True)\n",
    "cf.set_config_file(theme='pearl') #设置一下制图颜色"
   ]
  },
  {
   "cell_type": "markdown",
   "metadata": {},
   "source": [
    "# 1.单变量线性回归"
   ]
  },
  {
   "cell_type": "markdown",
   "metadata": {},
   "source": [
    "## 1）读取数据并理解"
   ]
  },
  {
   "cell_type": "code",
   "execution_count": 5,
   "metadata": {},
   "outputs": [],
   "source": [
    "#读取数据并赋予列名\n",
    "df = pd.read_csv('E:\\Learning\\python\\ML\\code\\ex1-linear regression\\ex1data1.txt',names=['population','profit'])"
   ]
  },
  {
   "cell_type": "code",
   "execution_count": 6,
   "metadata": {},
   "outputs": [
    {
     "data": {
      "text/html": [
       "<div>\n",
       "<style scoped>\n",
       "    .dataframe tbody tr th:only-of-type {\n",
       "        vertical-align: middle;\n",
       "    }\n",
       "\n",
       "    .dataframe tbody tr th {\n",
       "        vertical-align: top;\n",
       "    }\n",
       "\n",
       "    .dataframe thead th {\n",
       "        text-align: right;\n",
       "    }\n",
       "</style>\n",
       "<table border=\"1\" class=\"dataframe\">\n",
       "  <thead>\n",
       "    <tr style=\"text-align: right;\">\n",
       "      <th></th>\n",
       "      <th>population</th>\n",
       "      <th>profit</th>\n",
       "    </tr>\n",
       "  </thead>\n",
       "  <tbody>\n",
       "    <tr>\n",
       "      <th>0</th>\n",
       "      <td>6.1101</td>\n",
       "      <td>17.5920</td>\n",
       "    </tr>\n",
       "    <tr>\n",
       "      <th>1</th>\n",
       "      <td>5.5277</td>\n",
       "      <td>9.1302</td>\n",
       "    </tr>\n",
       "    <tr>\n",
       "      <th>2</th>\n",
       "      <td>8.5186</td>\n",
       "      <td>13.6620</td>\n",
       "    </tr>\n",
       "    <tr>\n",
       "      <th>3</th>\n",
       "      <td>7.0032</td>\n",
       "      <td>11.8540</td>\n",
       "    </tr>\n",
       "    <tr>\n",
       "      <th>4</th>\n",
       "      <td>5.8598</td>\n",
       "      <td>6.8233</td>\n",
       "    </tr>\n",
       "  </tbody>\n",
       "</table>\n",
       "</div>"
      ],
      "text/plain": [
       "   population   profit\n",
       "0      6.1101  17.5920\n",
       "1      5.5277   9.1302\n",
       "2      8.5186  13.6620\n",
       "3      7.0032  11.8540\n",
       "4      5.8598   6.8233"
      ]
     },
     "execution_count": 6,
     "metadata": {},
     "output_type": "execute_result"
    }
   ],
   "source": [
    "df.head()"
   ]
  },
  {
   "cell_type": "code",
   "execution_count": 7,
   "metadata": {},
   "outputs": [
    {
     "name": "stdout",
     "output_type": "stream",
     "text": [
      "<class 'pandas.core.frame.DataFrame'>\n",
      "RangeIndex: 97 entries, 0 to 96\n",
      "Data columns (total 2 columns):\n",
      " #   Column      Non-Null Count  Dtype  \n",
      "---  ------      --------------  -----  \n",
      " 0   population  97 non-null     float64\n",
      " 1   profit      97 non-null     float64\n",
      "dtypes: float64(2)\n",
      "memory usage: 1.6 KB\n"
     ]
    }
   ],
   "source": [
    "df.info()\n",
    "#可知两个字段均为浮点型，无null值。"
   ]
  },
  {
   "cell_type": "code",
   "execution_count": 8,
   "metadata": {},
   "outputs": [
    {
     "data": {
      "text/html": [
       "<div>\n",
       "<style scoped>\n",
       "    .dataframe tbody tr th:only-of-type {\n",
       "        vertical-align: middle;\n",
       "    }\n",
       "\n",
       "    .dataframe tbody tr th {\n",
       "        vertical-align: top;\n",
       "    }\n",
       "\n",
       "    .dataframe thead th {\n",
       "        text-align: right;\n",
       "    }\n",
       "</style>\n",
       "<table border=\"1\" class=\"dataframe\">\n",
       "  <thead>\n",
       "    <tr style=\"text-align: right;\">\n",
       "      <th></th>\n",
       "      <th>population</th>\n",
       "      <th>profit</th>\n",
       "    </tr>\n",
       "  </thead>\n",
       "  <tbody>\n",
       "    <tr>\n",
       "      <th>count</th>\n",
       "      <td>97.000000</td>\n",
       "      <td>97.000000</td>\n",
       "    </tr>\n",
       "    <tr>\n",
       "      <th>mean</th>\n",
       "      <td>8.159800</td>\n",
       "      <td>5.839135</td>\n",
       "    </tr>\n",
       "    <tr>\n",
       "      <th>std</th>\n",
       "      <td>3.869884</td>\n",
       "      <td>5.510262</td>\n",
       "    </tr>\n",
       "    <tr>\n",
       "      <th>min</th>\n",
       "      <td>5.026900</td>\n",
       "      <td>-2.680700</td>\n",
       "    </tr>\n",
       "    <tr>\n",
       "      <th>25%</th>\n",
       "      <td>5.707700</td>\n",
       "      <td>1.986900</td>\n",
       "    </tr>\n",
       "    <tr>\n",
       "      <th>50%</th>\n",
       "      <td>6.589400</td>\n",
       "      <td>4.562300</td>\n",
       "    </tr>\n",
       "    <tr>\n",
       "      <th>75%</th>\n",
       "      <td>8.578100</td>\n",
       "      <td>7.046700</td>\n",
       "    </tr>\n",
       "    <tr>\n",
       "      <th>max</th>\n",
       "      <td>22.203000</td>\n",
       "      <td>24.147000</td>\n",
       "    </tr>\n",
       "  </tbody>\n",
       "</table>\n",
       "</div>"
      ],
      "text/plain": [
       "       population     profit\n",
       "count   97.000000  97.000000\n",
       "mean     8.159800   5.839135\n",
       "std      3.869884   5.510262\n",
       "min      5.026900  -2.680700\n",
       "25%      5.707700   1.986900\n",
       "50%      6.589400   4.562300\n",
       "75%      8.578100   7.046700\n",
       "max     22.203000  24.147000"
      ]
     },
     "execution_count": 8,
     "metadata": {},
     "output_type": "execute_result"
    }
   ],
   "source": [
    "df.describe()\n",
    "#profit存在负值，数据未看出异常。"
   ]
  },
  {
   "cell_type": "code",
   "execution_count": 9,
   "metadata": {},
   "outputs": [
    {
     "data": {
      "text/plain": [
       "0"
      ]
     },
     "execution_count": 9,
     "metadata": {},
     "output_type": "execute_result"
    }
   ],
   "source": [
    "np.sum(df.duplicated(subset=['population','profit']))\n",
    "#数据无重复值，无需进行重复值处理。"
   ]
  },
  {
   "cell_type": "markdown",
   "metadata": {},
   "source": [
    "## 2）数据可视化（Visualization）"
   ]
  },
  {
   "cell_type": "code",
   "execution_count": 10,
   "metadata": {},
   "outputs": [
    {
     "data": {
      "application/vnd.plotly.v1+json": {
       "config": {
        "linkText": "Export to plot.ly",
        "plotlyServerURL": "https://plot.ly",
        "showLink": true
       },
       "data": [
        {
         "line": {
          "color": "rgba(255, 153, 51, 1.0)",
          "dash": "solid",
          "shape": "linear",
          "width": 1.3
         },
         "marker": {
          "size": 5,
          "symbol": "circle"
         },
         "mode": "markers",
         "name": "profit",
         "text": "",
         "type": "scatter",
         "x": [
          6.1101,
          5.5277,
          8.5186,
          7.0032,
          5.8598,
          8.3829,
          7.4764,
          8.5781,
          6.4862,
          5.0546,
          5.7107,
          14.164000000000001,
          5.734,
          8.4084,
          5.6407,
          5.3794,
          6.3654,
          5.1301,
          6.4296,
          7.0708,
          6.1891,
          20.27,
          5.4901,
          6.3261,
          5.5649,
          18.945,
          12.828,
          10.957,
          13.175999999999998,
          22.203000000000003,
          5.2524,
          6.5894,
          9.2482,
          5.8918,
          8.2111,
          7.9334,
          8.0959,
          5.6063,
          12.835999999999999,
          6.3534,
          5.4069,
          6.8825,
          11.708,
          5.7737,
          7.8247,
          7.0931,
          5.0702,
          5.8014,
          11.7,
          5.5416,
          7.5402,
          5.3077,
          7.4239,
          7.6031,
          6.3328,
          6.3589,
          6.2742,
          5.6397,
          9.3102,
          9.4536,
          8.8254,
          5.1793,
          21.279,
          14.908,
          18.959,
          7.2182,
          8.2951,
          10.236,
          5.4994,
          20.340999999999998,
          10.136000000000001,
          7.3345,
          6.0062,
          7.2259,
          5.0269,
          6.5479,
          7.5386,
          5.0365,
          10.274000000000001,
          5.1077,
          5.7292,
          5.1884,
          6.3557,
          9.7687,
          6.5159,
          8.5172,
          9.1802,
          6.002000000000001,
          5.5204,
          5.0594,
          5.7077,
          7.6366,
          5.8707,
          5.3054,
          8.2934,
          13.394,
          5.4369
         ],
         "y": [
          17.592,
          9.1302,
          13.662,
          11.854000000000001,
          6.8233,
          11.886,
          4.3483,
          12,
          6.5987,
          3.8166,
          3.2522,
          15.505,
          3.1551,
          7.2258,
          0.71618,
          3.5129,
          5.3048,
          0.56077,
          3.6518,
          5.3893,
          3.1386,
          21.767,
          4.263,
          5.1875,
          3.0825,
          22.638,
          13.501,
          7.0467,
          14.692,
          24.147,
          -1.22,
          5.9966,
          12.134,
          1.8495,
          6.5426,
          4.5623,
          4.1164,
          3.3928,
          10.117,
          5.4974,
          0.55657,
          3.9115,
          5.3854,
          2.4406,
          6.7318,
          1.0463,
          5.1337,
          1.844,
          8.0043,
          1.0179,
          6.7504,
          1.8396,
          4.2885,
          4.9981,
          1.4233,
          -1.4211,
          2.4756,
          4.6042,
          3.9624,
          5.4141,
          5.1694,
          -0.74279,
          17.929000000000002,
          12.054,
          17.054000000000002,
          4.8852,
          5.7442,
          7.7754,
          1.0173,
          20.991999999999997,
          6.6799,
          4.0259,
          1.2784,
          3.3411,
          -2.6807,
          0.29678000000000004,
          3.8845,
          5.7014,
          6.7526,
          2.0576,
          0.47953,
          0.20421,
          0.67861,
          7.5435,
          5.3436,
          4.2415,
          6.7981,
          0.92695,
          0.152,
          2.8214,
          1.8451,
          4.2959,
          7.2029,
          1.9869,
          0.14454,
          9.0551,
          0.61705
         ]
        }
       ],
       "layout": {
        "height": 500,
        "template": {
         "data": {
          "bar": [
           {
            "error_x": {
             "color": "#2a3f5f"
            },
            "error_y": {
             "color": "#2a3f5f"
            },
            "marker": {
             "line": {
              "color": "#E5ECF6",
              "width": 0.5
             }
            },
            "type": "bar"
           }
          ],
          "barpolar": [
           {
            "marker": {
             "line": {
              "color": "#E5ECF6",
              "width": 0.5
             }
            },
            "type": "barpolar"
           }
          ],
          "carpet": [
           {
            "aaxis": {
             "endlinecolor": "#2a3f5f",
             "gridcolor": "white",
             "linecolor": "white",
             "minorgridcolor": "white",
             "startlinecolor": "#2a3f5f"
            },
            "baxis": {
             "endlinecolor": "#2a3f5f",
             "gridcolor": "white",
             "linecolor": "white",
             "minorgridcolor": "white",
             "startlinecolor": "#2a3f5f"
            },
            "type": "carpet"
           }
          ],
          "choropleth": [
           {
            "colorbar": {
             "outlinewidth": 0,
             "ticks": ""
            },
            "type": "choropleth"
           }
          ],
          "contour": [
           {
            "colorbar": {
             "outlinewidth": 0,
             "ticks": ""
            },
            "colorscale": [
             [
              0,
              "#0d0887"
             ],
             [
              0.1111111111111111,
              "#46039f"
             ],
             [
              0.2222222222222222,
              "#7201a8"
             ],
             [
              0.3333333333333333,
              "#9c179e"
             ],
             [
              0.4444444444444444,
              "#bd3786"
             ],
             [
              0.5555555555555556,
              "#d8576b"
             ],
             [
              0.6666666666666666,
              "#ed7953"
             ],
             [
              0.7777777777777778,
              "#fb9f3a"
             ],
             [
              0.8888888888888888,
              "#fdca26"
             ],
             [
              1,
              "#f0f921"
             ]
            ],
            "type": "contour"
           }
          ],
          "contourcarpet": [
           {
            "colorbar": {
             "outlinewidth": 0,
             "ticks": ""
            },
            "type": "contourcarpet"
           }
          ],
          "heatmap": [
           {
            "colorbar": {
             "outlinewidth": 0,
             "ticks": ""
            },
            "colorscale": [
             [
              0,
              "#0d0887"
             ],
             [
              0.1111111111111111,
              "#46039f"
             ],
             [
              0.2222222222222222,
              "#7201a8"
             ],
             [
              0.3333333333333333,
              "#9c179e"
             ],
             [
              0.4444444444444444,
              "#bd3786"
             ],
             [
              0.5555555555555556,
              "#d8576b"
             ],
             [
              0.6666666666666666,
              "#ed7953"
             ],
             [
              0.7777777777777778,
              "#fb9f3a"
             ],
             [
              0.8888888888888888,
              "#fdca26"
             ],
             [
              1,
              "#f0f921"
             ]
            ],
            "type": "heatmap"
           }
          ],
          "heatmapgl": [
           {
            "colorbar": {
             "outlinewidth": 0,
             "ticks": ""
            },
            "colorscale": [
             [
              0,
              "#0d0887"
             ],
             [
              0.1111111111111111,
              "#46039f"
             ],
             [
              0.2222222222222222,
              "#7201a8"
             ],
             [
              0.3333333333333333,
              "#9c179e"
             ],
             [
              0.4444444444444444,
              "#bd3786"
             ],
             [
              0.5555555555555556,
              "#d8576b"
             ],
             [
              0.6666666666666666,
              "#ed7953"
             ],
             [
              0.7777777777777778,
              "#fb9f3a"
             ],
             [
              0.8888888888888888,
              "#fdca26"
             ],
             [
              1,
              "#f0f921"
             ]
            ],
            "type": "heatmapgl"
           }
          ],
          "histogram": [
           {
            "marker": {
             "colorbar": {
              "outlinewidth": 0,
              "ticks": ""
             }
            },
            "type": "histogram"
           }
          ],
          "histogram2d": [
           {
            "colorbar": {
             "outlinewidth": 0,
             "ticks": ""
            },
            "colorscale": [
             [
              0,
              "#0d0887"
             ],
             [
              0.1111111111111111,
              "#46039f"
             ],
             [
              0.2222222222222222,
              "#7201a8"
             ],
             [
              0.3333333333333333,
              "#9c179e"
             ],
             [
              0.4444444444444444,
              "#bd3786"
             ],
             [
              0.5555555555555556,
              "#d8576b"
             ],
             [
              0.6666666666666666,
              "#ed7953"
             ],
             [
              0.7777777777777778,
              "#fb9f3a"
             ],
             [
              0.8888888888888888,
              "#fdca26"
             ],
             [
              1,
              "#f0f921"
             ]
            ],
            "type": "histogram2d"
           }
          ],
          "histogram2dcontour": [
           {
            "colorbar": {
             "outlinewidth": 0,
             "ticks": ""
            },
            "colorscale": [
             [
              0,
              "#0d0887"
             ],
             [
              0.1111111111111111,
              "#46039f"
             ],
             [
              0.2222222222222222,
              "#7201a8"
             ],
             [
              0.3333333333333333,
              "#9c179e"
             ],
             [
              0.4444444444444444,
              "#bd3786"
             ],
             [
              0.5555555555555556,
              "#d8576b"
             ],
             [
              0.6666666666666666,
              "#ed7953"
             ],
             [
              0.7777777777777778,
              "#fb9f3a"
             ],
             [
              0.8888888888888888,
              "#fdca26"
             ],
             [
              1,
              "#f0f921"
             ]
            ],
            "type": "histogram2dcontour"
           }
          ],
          "mesh3d": [
           {
            "colorbar": {
             "outlinewidth": 0,
             "ticks": ""
            },
            "type": "mesh3d"
           }
          ],
          "parcoords": [
           {
            "line": {
             "colorbar": {
              "outlinewidth": 0,
              "ticks": ""
             }
            },
            "type": "parcoords"
           }
          ],
          "pie": [
           {
            "automargin": true,
            "type": "pie"
           }
          ],
          "scatter": [
           {
            "marker": {
             "colorbar": {
              "outlinewidth": 0,
              "ticks": ""
             }
            },
            "type": "scatter"
           }
          ],
          "scatter3d": [
           {
            "line": {
             "colorbar": {
              "outlinewidth": 0,
              "ticks": ""
             }
            },
            "marker": {
             "colorbar": {
              "outlinewidth": 0,
              "ticks": ""
             }
            },
            "type": "scatter3d"
           }
          ],
          "scattercarpet": [
           {
            "marker": {
             "colorbar": {
              "outlinewidth": 0,
              "ticks": ""
             }
            },
            "type": "scattercarpet"
           }
          ],
          "scattergeo": [
           {
            "marker": {
             "colorbar": {
              "outlinewidth": 0,
              "ticks": ""
             }
            },
            "type": "scattergeo"
           }
          ],
          "scattergl": [
           {
            "marker": {
             "colorbar": {
              "outlinewidth": 0,
              "ticks": ""
             }
            },
            "type": "scattergl"
           }
          ],
          "scattermapbox": [
           {
            "marker": {
             "colorbar": {
              "outlinewidth": 0,
              "ticks": ""
             }
            },
            "type": "scattermapbox"
           }
          ],
          "scatterpolar": [
           {
            "marker": {
             "colorbar": {
              "outlinewidth": 0,
              "ticks": ""
             }
            },
            "type": "scatterpolar"
           }
          ],
          "scatterpolargl": [
           {
            "marker": {
             "colorbar": {
              "outlinewidth": 0,
              "ticks": ""
             }
            },
            "type": "scatterpolargl"
           }
          ],
          "scatterternary": [
           {
            "marker": {
             "colorbar": {
              "outlinewidth": 0,
              "ticks": ""
             }
            },
            "type": "scatterternary"
           }
          ],
          "surface": [
           {
            "colorbar": {
             "outlinewidth": 0,
             "ticks": ""
            },
            "colorscale": [
             [
              0,
              "#0d0887"
             ],
             [
              0.1111111111111111,
              "#46039f"
             ],
             [
              0.2222222222222222,
              "#7201a8"
             ],
             [
              0.3333333333333333,
              "#9c179e"
             ],
             [
              0.4444444444444444,
              "#bd3786"
             ],
             [
              0.5555555555555556,
              "#d8576b"
             ],
             [
              0.6666666666666666,
              "#ed7953"
             ],
             [
              0.7777777777777778,
              "#fb9f3a"
             ],
             [
              0.8888888888888888,
              "#fdca26"
             ],
             [
              1,
              "#f0f921"
             ]
            ],
            "type": "surface"
           }
          ],
          "table": [
           {
            "cells": {
             "fill": {
              "color": "#EBF0F8"
             },
             "line": {
              "color": "white"
             }
            },
            "header": {
             "fill": {
              "color": "#C8D4E3"
             },
             "line": {
              "color": "white"
             }
            },
            "type": "table"
           }
          ]
         },
         "layout": {
          "annotationdefaults": {
           "arrowcolor": "#2a3f5f",
           "arrowhead": 0,
           "arrowwidth": 1
          },
          "coloraxis": {
           "colorbar": {
            "outlinewidth": 0,
            "ticks": ""
           }
          },
          "colorscale": {
           "diverging": [
            [
             0,
             "#8e0152"
            ],
            [
             0.1,
             "#c51b7d"
            ],
            [
             0.2,
             "#de77ae"
            ],
            [
             0.3,
             "#f1b6da"
            ],
            [
             0.4,
             "#fde0ef"
            ],
            [
             0.5,
             "#f7f7f7"
            ],
            [
             0.6,
             "#e6f5d0"
            ],
            [
             0.7,
             "#b8e186"
            ],
            [
             0.8,
             "#7fbc41"
            ],
            [
             0.9,
             "#4d9221"
            ],
            [
             1,
             "#276419"
            ]
           ],
           "sequential": [
            [
             0,
             "#0d0887"
            ],
            [
             0.1111111111111111,
             "#46039f"
            ],
            [
             0.2222222222222222,
             "#7201a8"
            ],
            [
             0.3333333333333333,
             "#9c179e"
            ],
            [
             0.4444444444444444,
             "#bd3786"
            ],
            [
             0.5555555555555556,
             "#d8576b"
            ],
            [
             0.6666666666666666,
             "#ed7953"
            ],
            [
             0.7777777777777778,
             "#fb9f3a"
            ],
            [
             0.8888888888888888,
             "#fdca26"
            ],
            [
             1,
             "#f0f921"
            ]
           ],
           "sequentialminus": [
            [
             0,
             "#0d0887"
            ],
            [
             0.1111111111111111,
             "#46039f"
            ],
            [
             0.2222222222222222,
             "#7201a8"
            ],
            [
             0.3333333333333333,
             "#9c179e"
            ],
            [
             0.4444444444444444,
             "#bd3786"
            ],
            [
             0.5555555555555556,
             "#d8576b"
            ],
            [
             0.6666666666666666,
             "#ed7953"
            ],
            [
             0.7777777777777778,
             "#fb9f3a"
            ],
            [
             0.8888888888888888,
             "#fdca26"
            ],
            [
             1,
             "#f0f921"
            ]
           ]
          },
          "colorway": [
           "#636efa",
           "#EF553B",
           "#00cc96",
           "#ab63fa",
           "#FFA15A",
           "#19d3f3",
           "#FF6692",
           "#B6E880",
           "#FF97FF",
           "#FECB52"
          ],
          "font": {
           "color": "#2a3f5f"
          },
          "geo": {
           "bgcolor": "white",
           "lakecolor": "white",
           "landcolor": "#E5ECF6",
           "showlakes": true,
           "showland": true,
           "subunitcolor": "white"
          },
          "hoverlabel": {
           "align": "left"
          },
          "hovermode": "closest",
          "mapbox": {
           "style": "light"
          },
          "paper_bgcolor": "white",
          "plot_bgcolor": "#E5ECF6",
          "polar": {
           "angularaxis": {
            "gridcolor": "white",
            "linecolor": "white",
            "ticks": ""
           },
           "bgcolor": "#E5ECF6",
           "radialaxis": {
            "gridcolor": "white",
            "linecolor": "white",
            "ticks": ""
           }
          },
          "scene": {
           "xaxis": {
            "backgroundcolor": "#E5ECF6",
            "gridcolor": "white",
            "gridwidth": 2,
            "linecolor": "white",
            "showbackground": true,
            "ticks": "",
            "zerolinecolor": "white"
           },
           "yaxis": {
            "backgroundcolor": "#E5ECF6",
            "gridcolor": "white",
            "gridwidth": 2,
            "linecolor": "white",
            "showbackground": true,
            "ticks": "",
            "zerolinecolor": "white"
           },
           "zaxis": {
            "backgroundcolor": "#E5ECF6",
            "gridcolor": "white",
            "gridwidth": 2,
            "linecolor": "white",
            "showbackground": true,
            "ticks": "",
            "zerolinecolor": "white"
           }
          },
          "shapedefaults": {
           "line": {
            "color": "#2a3f5f"
           }
          },
          "ternary": {
           "aaxis": {
            "gridcolor": "white",
            "linecolor": "white",
            "ticks": ""
           },
           "baxis": {
            "gridcolor": "white",
            "linecolor": "white",
            "ticks": ""
           },
           "bgcolor": "#E5ECF6",
           "caxis": {
            "gridcolor": "white",
            "linecolor": "white",
            "ticks": ""
           }
          },
          "title": {
           "x": 0.05
          },
          "xaxis": {
           "automargin": true,
           "gridcolor": "white",
           "linecolor": "white",
           "ticks": "",
           "title": {
            "standoff": 15
           },
           "zerolinecolor": "white",
           "zerolinewidth": 2
          },
          "yaxis": {
           "automargin": true,
           "gridcolor": "white",
           "linecolor": "white",
           "ticks": "",
           "title": {
            "standoff": 15
           },
           "zerolinecolor": "white",
           "zerolinewidth": 2
          }
         }
        },
        "width": 500
       }
      },
      "text/html": [
       "<div>\n",
       "        \n",
       "        \n",
       "            <div id=\"08801cd1-d470-4ea4-828a-9b4d5a8cc718\" class=\"plotly-graph-div\" style=\"height:500px; width:500px;\"></div>\n",
       "            <script type=\"text/javascript\">\n",
       "                require([\"plotly\"], function(Plotly) {\n",
       "                    window.PLOTLYENV=window.PLOTLYENV || {};\n",
       "                    window.PLOTLYENV.BASE_URL='https://plot.ly';\n",
       "                    \n",
       "                if (document.getElementById(\"08801cd1-d470-4ea4-828a-9b4d5a8cc718\")) {\n",
       "                    Plotly.newPlot(\n",
       "                        '08801cd1-d470-4ea4-828a-9b4d5a8cc718',\n",
       "                        [{\"line\": {\"color\": \"rgba(255, 153, 51, 1.0)\", \"dash\": \"solid\", \"shape\": \"linear\", \"width\": 1.3}, \"marker\": {\"size\": 5, \"symbol\": \"circle\"}, \"mode\": \"markers\", \"name\": \"profit\", \"text\": \"\", \"type\": \"scatter\", \"x\": [6.1101, 5.5277, 8.5186, 7.0032, 5.8598, 8.3829, 7.4764, 8.5781, 6.4862, 5.0546, 5.7107, 14.164000000000001, 5.734, 8.4084, 5.6407, 5.3794, 6.3654, 5.1301, 6.4296, 7.0708, 6.1891, 20.27, 5.4901, 6.3261, 5.5649, 18.945, 12.828, 10.957, 13.175999999999998, 22.203000000000003, 5.2524, 6.5894, 9.2482, 5.8918, 8.2111, 7.9334, 8.0959, 5.6063, 12.835999999999999, 6.3534, 5.4069, 6.8825, 11.708, 5.7737, 7.8247, 7.0931, 5.0702, 5.8014, 11.7, 5.5416, 7.5402, 5.3077, 7.4239, 7.6031, 6.3328, 6.3589, 6.2742, 5.6397, 9.3102, 9.4536, 8.8254, 5.1793, 21.279, 14.908, 18.959, 7.2182, 8.2951, 10.236, 5.4994, 20.340999999999998, 10.136000000000001, 7.3345, 6.0062, 7.2259, 5.0269, 6.5479, 7.5386, 5.0365, 10.274000000000001, 5.1077, 5.7292, 5.1884, 6.3557, 9.7687, 6.5159, 8.5172, 9.1802, 6.002000000000001, 5.5204, 5.0594, 5.7077, 7.6366, 5.8707, 5.3054, 8.2934, 13.394, 5.4369], \"y\": [17.592, 9.1302, 13.662, 11.854000000000001, 6.8233, 11.886, 4.3483, 12.0, 6.5987, 3.8166, 3.2522, 15.505, 3.1551, 7.2258, 0.71618, 3.5129, 5.3048, 0.56077, 3.6518, 5.3893, 3.1386, 21.767, 4.263, 5.1875, 3.0825, 22.638, 13.501, 7.0467, 14.692, 24.147, -1.22, 5.9966, 12.134, 1.8495, 6.5426, 4.5623, 4.1164, 3.3928, 10.117, 5.4974, 0.55657, 3.9115, 5.3854, 2.4406, 6.7318, 1.0463, 5.1337, 1.844, 8.0043, 1.0179, 6.7504, 1.8396, 4.2885, 4.9981, 1.4233, -1.4211, 2.4756, 4.6042, 3.9624, 5.4141, 5.1694, -0.74279, 17.929000000000002, 12.054, 17.054000000000002, 4.8852, 5.7442, 7.7754, 1.0173, 20.991999999999997, 6.6799, 4.0259, 1.2784, 3.3411, -2.6807, 0.29678000000000004, 3.8845, 5.7014, 6.7526, 2.0576, 0.47953, 0.20421, 0.67861, 7.5435, 5.3436, 4.2415, 6.7981, 0.92695, 0.152, 2.8214, 1.8451, 4.2959, 7.2029, 1.9869, 0.14454, 9.0551, 0.61705]}],\n",
       "                        {\"height\": 500, \"template\": {\"data\": {\"bar\": [{\"error_x\": {\"color\": \"#2a3f5f\"}, \"error_y\": {\"color\": \"#2a3f5f\"}, \"marker\": {\"line\": {\"color\": \"#E5ECF6\", \"width\": 0.5}}, \"type\": \"bar\"}], \"barpolar\": [{\"marker\": {\"line\": {\"color\": \"#E5ECF6\", \"width\": 0.5}}, \"type\": \"barpolar\"}], \"carpet\": [{\"aaxis\": {\"endlinecolor\": \"#2a3f5f\", \"gridcolor\": \"white\", \"linecolor\": \"white\", \"minorgridcolor\": \"white\", \"startlinecolor\": \"#2a3f5f\"}, \"baxis\": {\"endlinecolor\": \"#2a3f5f\", \"gridcolor\": \"white\", \"linecolor\": \"white\", \"minorgridcolor\": \"white\", \"startlinecolor\": \"#2a3f5f\"}, \"type\": \"carpet\"}], \"choropleth\": [{\"colorbar\": {\"outlinewidth\": 0, \"ticks\": \"\"}, \"type\": \"choropleth\"}], \"contour\": [{\"colorbar\": {\"outlinewidth\": 0, \"ticks\": \"\"}, \"colorscale\": [[0.0, \"#0d0887\"], [0.1111111111111111, \"#46039f\"], [0.2222222222222222, \"#7201a8\"], [0.3333333333333333, \"#9c179e\"], [0.4444444444444444, \"#bd3786\"], [0.5555555555555556, \"#d8576b\"], [0.6666666666666666, \"#ed7953\"], [0.7777777777777778, \"#fb9f3a\"], [0.8888888888888888, \"#fdca26\"], [1.0, \"#f0f921\"]], \"type\": \"contour\"}], \"contourcarpet\": [{\"colorbar\": {\"outlinewidth\": 0, \"ticks\": \"\"}, \"type\": \"contourcarpet\"}], \"heatmap\": [{\"colorbar\": {\"outlinewidth\": 0, \"ticks\": \"\"}, \"colorscale\": [[0.0, \"#0d0887\"], [0.1111111111111111, \"#46039f\"], [0.2222222222222222, \"#7201a8\"], [0.3333333333333333, \"#9c179e\"], [0.4444444444444444, \"#bd3786\"], [0.5555555555555556, \"#d8576b\"], [0.6666666666666666, \"#ed7953\"], [0.7777777777777778, \"#fb9f3a\"], [0.8888888888888888, \"#fdca26\"], [1.0, \"#f0f921\"]], \"type\": \"heatmap\"}], \"heatmapgl\": [{\"colorbar\": {\"outlinewidth\": 0, \"ticks\": \"\"}, \"colorscale\": [[0.0, \"#0d0887\"], [0.1111111111111111, \"#46039f\"], [0.2222222222222222, \"#7201a8\"], [0.3333333333333333, \"#9c179e\"], [0.4444444444444444, \"#bd3786\"], [0.5555555555555556, \"#d8576b\"], [0.6666666666666666, \"#ed7953\"], [0.7777777777777778, \"#fb9f3a\"], [0.8888888888888888, \"#fdca26\"], [1.0, \"#f0f921\"]], \"type\": \"heatmapgl\"}], \"histogram\": [{\"marker\": {\"colorbar\": {\"outlinewidth\": 0, \"ticks\": \"\"}}, \"type\": \"histogram\"}], \"histogram2d\": [{\"colorbar\": {\"outlinewidth\": 0, \"ticks\": \"\"}, \"colorscale\": [[0.0, \"#0d0887\"], [0.1111111111111111, \"#46039f\"], [0.2222222222222222, \"#7201a8\"], [0.3333333333333333, \"#9c179e\"], [0.4444444444444444, \"#bd3786\"], [0.5555555555555556, \"#d8576b\"], [0.6666666666666666, \"#ed7953\"], [0.7777777777777778, \"#fb9f3a\"], [0.8888888888888888, \"#fdca26\"], [1.0, \"#f0f921\"]], \"type\": \"histogram2d\"}], \"histogram2dcontour\": [{\"colorbar\": {\"outlinewidth\": 0, \"ticks\": \"\"}, \"colorscale\": [[0.0, \"#0d0887\"], [0.1111111111111111, \"#46039f\"], [0.2222222222222222, \"#7201a8\"], [0.3333333333333333, \"#9c179e\"], [0.4444444444444444, \"#bd3786\"], [0.5555555555555556, \"#d8576b\"], [0.6666666666666666, \"#ed7953\"], [0.7777777777777778, \"#fb9f3a\"], [0.8888888888888888, \"#fdca26\"], [1.0, \"#f0f921\"]], \"type\": \"histogram2dcontour\"}], \"mesh3d\": [{\"colorbar\": {\"outlinewidth\": 0, \"ticks\": \"\"}, \"type\": \"mesh3d\"}], \"parcoords\": [{\"line\": {\"colorbar\": {\"outlinewidth\": 0, \"ticks\": \"\"}}, \"type\": \"parcoords\"}], \"pie\": [{\"automargin\": true, \"type\": \"pie\"}], \"scatter\": [{\"marker\": {\"colorbar\": {\"outlinewidth\": 0, \"ticks\": \"\"}}, \"type\": \"scatter\"}], \"scatter3d\": [{\"line\": {\"colorbar\": {\"outlinewidth\": 0, \"ticks\": \"\"}}, \"marker\": {\"colorbar\": {\"outlinewidth\": 0, \"ticks\": \"\"}}, \"type\": \"scatter3d\"}], \"scattercarpet\": [{\"marker\": {\"colorbar\": {\"outlinewidth\": 0, \"ticks\": \"\"}}, \"type\": \"scattercarpet\"}], \"scattergeo\": [{\"marker\": {\"colorbar\": {\"outlinewidth\": 0, \"ticks\": \"\"}}, \"type\": \"scattergeo\"}], \"scattergl\": [{\"marker\": {\"colorbar\": {\"outlinewidth\": 0, \"ticks\": \"\"}}, \"type\": \"scattergl\"}], \"scattermapbox\": [{\"marker\": {\"colorbar\": {\"outlinewidth\": 0, \"ticks\": \"\"}}, \"type\": \"scattermapbox\"}], \"scatterpolar\": [{\"marker\": {\"colorbar\": {\"outlinewidth\": 0, \"ticks\": \"\"}}, \"type\": \"scatterpolar\"}], \"scatterpolargl\": [{\"marker\": {\"colorbar\": {\"outlinewidth\": 0, \"ticks\": \"\"}}, \"type\": \"scatterpolargl\"}], \"scatterternary\": [{\"marker\": {\"colorbar\": {\"outlinewidth\": 0, \"ticks\": \"\"}}, \"type\": \"scatterternary\"}], \"surface\": [{\"colorbar\": {\"outlinewidth\": 0, \"ticks\": \"\"}, \"colorscale\": [[0.0, \"#0d0887\"], [0.1111111111111111, \"#46039f\"], [0.2222222222222222, \"#7201a8\"], [0.3333333333333333, \"#9c179e\"], [0.4444444444444444, \"#bd3786\"], [0.5555555555555556, \"#d8576b\"], [0.6666666666666666, \"#ed7953\"], [0.7777777777777778, \"#fb9f3a\"], [0.8888888888888888, \"#fdca26\"], [1.0, \"#f0f921\"]], \"type\": \"surface\"}], \"table\": [{\"cells\": {\"fill\": {\"color\": \"#EBF0F8\"}, \"line\": {\"color\": \"white\"}}, \"header\": {\"fill\": {\"color\": \"#C8D4E3\"}, \"line\": {\"color\": \"white\"}}, \"type\": \"table\"}]}, \"layout\": {\"annotationdefaults\": {\"arrowcolor\": \"#2a3f5f\", \"arrowhead\": 0, \"arrowwidth\": 1}, \"coloraxis\": {\"colorbar\": {\"outlinewidth\": 0, \"ticks\": \"\"}}, \"colorscale\": {\"diverging\": [[0, \"#8e0152\"], [0.1, \"#c51b7d\"], [0.2, \"#de77ae\"], [0.3, \"#f1b6da\"], [0.4, \"#fde0ef\"], [0.5, \"#f7f7f7\"], [0.6, \"#e6f5d0\"], [0.7, \"#b8e186\"], [0.8, \"#7fbc41\"], [0.9, \"#4d9221\"], [1, \"#276419\"]], \"sequential\": [[0.0, \"#0d0887\"], [0.1111111111111111, \"#46039f\"], [0.2222222222222222, \"#7201a8\"], [0.3333333333333333, \"#9c179e\"], [0.4444444444444444, \"#bd3786\"], [0.5555555555555556, \"#d8576b\"], [0.6666666666666666, \"#ed7953\"], [0.7777777777777778, \"#fb9f3a\"], [0.8888888888888888, \"#fdca26\"], [1.0, \"#f0f921\"]], \"sequentialminus\": [[0.0, \"#0d0887\"], [0.1111111111111111, \"#46039f\"], [0.2222222222222222, \"#7201a8\"], [0.3333333333333333, \"#9c179e\"], [0.4444444444444444, \"#bd3786\"], [0.5555555555555556, \"#d8576b\"], [0.6666666666666666, \"#ed7953\"], [0.7777777777777778, \"#fb9f3a\"], [0.8888888888888888, \"#fdca26\"], [1.0, \"#f0f921\"]]}, \"colorway\": [\"#636efa\", \"#EF553B\", \"#00cc96\", \"#ab63fa\", \"#FFA15A\", \"#19d3f3\", \"#FF6692\", \"#B6E880\", \"#FF97FF\", \"#FECB52\"], \"font\": {\"color\": \"#2a3f5f\"}, \"geo\": {\"bgcolor\": \"white\", \"lakecolor\": \"white\", \"landcolor\": \"#E5ECF6\", \"showlakes\": true, \"showland\": true, \"subunitcolor\": \"white\"}, \"hoverlabel\": {\"align\": \"left\"}, \"hovermode\": \"closest\", \"mapbox\": {\"style\": \"light\"}, \"paper_bgcolor\": \"white\", \"plot_bgcolor\": \"#E5ECF6\", \"polar\": {\"angularaxis\": {\"gridcolor\": \"white\", \"linecolor\": \"white\", \"ticks\": \"\"}, \"bgcolor\": \"#E5ECF6\", \"radialaxis\": {\"gridcolor\": \"white\", \"linecolor\": \"white\", \"ticks\": \"\"}}, \"scene\": {\"xaxis\": {\"backgroundcolor\": \"#E5ECF6\", \"gridcolor\": \"white\", \"gridwidth\": 2, \"linecolor\": \"white\", \"showbackground\": true, \"ticks\": \"\", \"zerolinecolor\": \"white\"}, \"yaxis\": {\"backgroundcolor\": \"#E5ECF6\", \"gridcolor\": \"white\", \"gridwidth\": 2, \"linecolor\": \"white\", \"showbackground\": true, \"ticks\": \"\", \"zerolinecolor\": \"white\"}, \"zaxis\": {\"backgroundcolor\": \"#E5ECF6\", \"gridcolor\": \"white\", \"gridwidth\": 2, \"linecolor\": \"white\", \"showbackground\": true, \"ticks\": \"\", \"zerolinecolor\": \"white\"}}, \"shapedefaults\": {\"line\": {\"color\": \"#2a3f5f\"}}, \"ternary\": {\"aaxis\": {\"gridcolor\": \"white\", \"linecolor\": \"white\", \"ticks\": \"\"}, \"baxis\": {\"gridcolor\": \"white\", \"linecolor\": \"white\", \"ticks\": \"\"}, \"bgcolor\": \"#E5ECF6\", \"caxis\": {\"gridcolor\": \"white\", \"linecolor\": \"white\", \"ticks\": \"\"}}, \"title\": {\"x\": 0.05}, \"xaxis\": {\"automargin\": true, \"gridcolor\": \"white\", \"linecolor\": \"white\", \"ticks\": \"\", \"title\": {\"standoff\": 15}, \"zerolinecolor\": \"white\", \"zerolinewidth\": 2}, \"yaxis\": {\"automargin\": true, \"gridcolor\": \"white\", \"linecolor\": \"white\", \"ticks\": \"\", \"title\": {\"standoff\": 15}, \"zerolinecolor\": \"white\", \"zerolinewidth\": 2}}}, \"width\": 500},\n",
       "                        {\"showLink\": true, \"linkText\": \"Export to plot.ly\", \"plotlyServerURL\": \"https://plot.ly\", \"responsive\": true}\n",
       "                    ).then(function(){\n",
       "                            \n",
       "var gd = document.getElementById('08801cd1-d470-4ea4-828a-9b4d5a8cc718');\n",
       "var x = new MutationObserver(function (mutations, observer) {{\n",
       "        var display = window.getComputedStyle(gd).display;\n",
       "        if (!display || display === 'none') {{\n",
       "            console.log([gd, 'removed!']);\n",
       "            Plotly.purge(gd);\n",
       "            observer.disconnect();\n",
       "        }}\n",
       "}});\n",
       "\n",
       "// Listen for the removal of the full notebook cells\n",
       "var notebookContainer = gd.closest('#notebook-container');\n",
       "if (notebookContainer) {{\n",
       "    x.observe(notebookContainer, {childList: true});\n",
       "}}\n",
       "\n",
       "// Listen for the clearing of the current output cell\n",
       "var outputEl = gd.closest('.output');\n",
       "if (outputEl) {{\n",
       "    x.observe(outputEl, {childList: true});\n",
       "}}\n",
       "\n",
       "                        })\n",
       "                };\n",
       "                });\n",
       "            </script>\n",
       "        </div>"
      ]
     },
     "metadata": {},
     "output_type": "display_data"
    }
   ],
   "source": [
    "df.iplot(\n",
    "    x='population',\n",
    "    y='profit',\n",
    "    xTitle='城市人口',\n",
    "    yTitle='快餐车收益',\n",
    "    layout=dict(height=500,width=500),\n",
    "    mode='markers',size=5)"
   ]
  },
  {
   "cell_type": "markdown",
   "metadata": {},
   "source": [
    "## 3）构建假设函数（Hypothesis）"
   ]
  },
  {
   "cell_type": "markdown",
   "metadata": {},
   "source": [
    "单变量回归的假设 h 表示为：\\\\[{{h}_{\\theta }}\\left( x \\right)={{\\theta }_{0}}+{{\\theta }_{1}}{x}\\\\] \n",
    "这个公式中有2个参数和1个变量，引入${{x}_{0}}=1$，则公式转化为：  \n",
    "$${{h}_{\\theta }}\\left( x \\right)={{\\theta }^{T}}X$$其中上标T代表矩阵转置。\n"
   ]
  },
  {
   "cell_type": "code",
   "execution_count": 11,
   "metadata": {},
   "outputs": [],
   "source": [
    "# 定义X矩阵函数\n",
    "def get_X(df):\n",
    "    # 引入变量x0，创建含有x0和x1的矩阵\n",
    "    x_zero=pd.DataFrame(data=np.ones(len(df)))\n",
    "    x=df.iloc[:, :-1]\n",
    "    X=np.matrix(pd.concat([x_zero, x], axis=1))\n",
    "    return X\n",
    "\n",
    "# 定义y矩阵函数，用于之后正规方程的计算\n",
    "def get_y(df):\n",
    "    y=np.matrix(df.iloc[:, -1]).T\n",
    "    return y"
   ]
  },
  {
   "cell_type": "markdown",
   "metadata": {},
   "source": [
    "## 4）计算代价函数（Cost Function）\n",
    "$$J\\left( \\theta  \\right)=\\frac{1}{2m}\\sum\\limits_{i=1}^{m}{{{\\left( {{h}_{\\theta }}\\left( {{x}^{(i)}} \\right)-{{y}^{(i)}} \\right)}^{2}}}$$\n",
    "其中：\\\\[{{h}_{\\theta }}\\left( x \\right)={{\\theta }^{T}}X={{\\theta }_{0}}{{x}_{0}}+{{\\theta }_{1}}{{x}_{1}}+{{\\theta }_{2}}{{x}_{2}}+...+{{\\theta }_{n}}{{x}_{n}}\\\\] "
   ]
  },
  {
   "cell_type": "code",
   "execution_count": 12,
   "metadata": {},
   "outputs": [
    {
     "name": "stdout",
     "output_type": "stream",
     "text": [
      "(97, 2) (1, 2) (97, 1)\n"
     ]
    }
   ],
   "source": [
    "# 定义代价函数的计算\n",
    "def computecost(X,y,theta):\n",
    "    inner=np.power(((X@theta.T)-y),2)\n",
    "    cost=np.sum(inner)/(2 * y.size)\n",
    "    return cost\n",
    "\n",
    "# 赋值X,y，theta初始值设为（0,0）\n",
    "X=get_X(df)\n",
    "y=get_y(df)\n",
    "theta=np.matrix(np.zeros((1,2)))\n",
    "print(X.shape, theta.shape, y.shape)"
   ]
  },
  {
   "cell_type": "code",
   "execution_count": 13,
   "metadata": {},
   "outputs": [
    {
     "data": {
      "text/plain": [
       "32.072733877455676"
      ]
     },
     "execution_count": 13,
     "metadata": {},
     "output_type": "execute_result"
    }
   ],
   "source": [
    "# 计算theta为初始值（0,0）时的代价函数\n",
    "computecost(X, y, theta)"
   ]
  },
  {
   "cell_type": "markdown",
   "metadata": {},
   "source": [
    "## 5）梯度下降算法（Gradient Descent）\n",
    "$${{\\theta }_{j}}:={{\\theta }_{j}}-\\alpha \\frac{\\partial }{\\partial {{\\theta }_{j}}}J\\left( \\theta  \\right)$$\n",
    "简化之后得到\n",
    "$${{\\theta }_{j}}:={{\\theta }_{j}}-\\alpha \\frac{1}{m}\\sum\\limits_{i=1}^{m}{{{\\left( {{h}_{\\theta }}\\left( {{x}^{(i)}} \\right)-{{y}^{(i)}} \\right){{x}^{(i)}}}}}$$\n",
    "* 本次我们采用批量梯度下降（Batch Gradient Descent）"
   ]
  },
  {
   "cell_type": "code",
   "execution_count": 14,
   "metadata": {},
   "outputs": [],
   "source": [
    "# 定义梯度下降函数,iters表示迭代次数\n",
    "def gradientDescent(X, y, theta, alpha, iters):\n",
    "    temp = np.matrix(np.zeros(theta.shape))#设置temp作为theta的转换\n",
    "    parameters = int(theta.ravel().shape[1])#2\n",
    "    cost = np.zeros(iters)\n",
    "    \n",
    "    # 设置迭代循环\n",
    "    for i in range(iters):\n",
    "        error = (X * theta.T) - y\n",
    "        \n",
    "        for j in range(parameters):\n",
    "            term = np.multiply(error, X[:,j])\n",
    "            temp[0,j] = theta[0,j] - ((alpha / len(X)) * np.sum(term))\n",
    "            \n",
    "        theta = temp\n",
    "        cost[i] = computecost(X, y, theta)\n",
    "        \n",
    "    return theta, cost\n",
    "# 设置alpha为0.02，iters为1000次\n",
    "alpha=0.02\n",
    "iters=1000\n"
   ]
  },
  {
   "cell_type": "code",
   "execution_count": 15,
   "metadata": {},
   "outputs": [
    {
     "name": "stdout",
     "output_type": "stream",
     "text": [
      "[[-3.78841926  1.18224801]]\n",
      "4.478020743321126\n"
     ]
    }
   ],
   "source": [
    "# 得到最终的theta\n",
    "print(gradientDescent(X, y, theta, alpha, iters)[0])\n",
    "# 最小的代价函数\n",
    "print(gradientDescent(X, y, theta, alpha, iters)[1].min())\n"
   ]
  },
  {
   "cell_type": "markdown",
   "metadata": {},
   "source": [
    "## 6）代价数据可视化（visualize cost data）"
   ]
  },
  {
   "cell_type": "code",
   "execution_count": 16,
   "metadata": {
    "scrolled": false
   },
   "outputs": [
    {
     "data": {
      "application/vnd.plotly.v1+json": {
       "config": {
        "linkText": "Export to plot.ly",
        "plotlyServerURL": "https://plot.ly",
        "showLink": true
       },
       "data": [
        {
         "line": {
          "color": "rgba(255, 153, 51, 1.0)",
          "dash": "solid",
          "shape": "linear",
          "width": 1.3
         },
         "mode": "lines",
         "name": "0",
         "text": "",
         "type": "scatter",
         "x": [
          0,
          1,
          2,
          3,
          4,
          5,
          6,
          7,
          8,
          9,
          10,
          11,
          12,
          13,
          14,
          15,
          16,
          17,
          18,
          19,
          20,
          21,
          22,
          23,
          24,
          25,
          26,
          27,
          28,
          29,
          30,
          31,
          32,
          33,
          34,
          35,
          36,
          37,
          38,
          39,
          40,
          41,
          42,
          43,
          44,
          45,
          46,
          47,
          48,
          49,
          50,
          51,
          52,
          53,
          54,
          55,
          56,
          57,
          58,
          59,
          60,
          61,
          62,
          63,
          64,
          65,
          66,
          67,
          68,
          69,
          70,
          71,
          72,
          73,
          74,
          75,
          76,
          77,
          78,
          79,
          80,
          81,
          82,
          83,
          84,
          85,
          86,
          87,
          88,
          89,
          90,
          91,
          92,
          93,
          94,
          95,
          96,
          97,
          98,
          99,
          100,
          101,
          102,
          103,
          104,
          105,
          106,
          107,
          108,
          109,
          110,
          111,
          112,
          113,
          114,
          115,
          116,
          117,
          118,
          119,
          120,
          121,
          122,
          123,
          124,
          125,
          126,
          127,
          128,
          129,
          130,
          131,
          132,
          133,
          134,
          135,
          136,
          137,
          138,
          139,
          140,
          141,
          142,
          143,
          144,
          145,
          146,
          147,
          148,
          149,
          150,
          151,
          152,
          153,
          154,
          155,
          156,
          157,
          158,
          159,
          160,
          161,
          162,
          163,
          164,
          165,
          166,
          167,
          168,
          169,
          170,
          171,
          172,
          173,
          174,
          175,
          176,
          177,
          178,
          179,
          180,
          181,
          182,
          183,
          184,
          185,
          186,
          187,
          188,
          189,
          190,
          191,
          192,
          193,
          194,
          195,
          196,
          197,
          198,
          199,
          200,
          201,
          202,
          203,
          204,
          205,
          206,
          207,
          208,
          209,
          210,
          211,
          212,
          213,
          214,
          215,
          216,
          217,
          218,
          219,
          220,
          221,
          222,
          223,
          224,
          225,
          226,
          227,
          228,
          229,
          230,
          231,
          232,
          233,
          234,
          235,
          236,
          237,
          238,
          239,
          240,
          241,
          242,
          243,
          244,
          245,
          246,
          247,
          248,
          249,
          250,
          251,
          252,
          253,
          254,
          255,
          256,
          257,
          258,
          259,
          260,
          261,
          262,
          263,
          264,
          265,
          266,
          267,
          268,
          269,
          270,
          271,
          272,
          273,
          274,
          275,
          276,
          277,
          278,
          279,
          280,
          281,
          282,
          283,
          284,
          285,
          286,
          287,
          288,
          289,
          290,
          291,
          292,
          293,
          294,
          295,
          296,
          297,
          298,
          299,
          300,
          301,
          302,
          303,
          304,
          305,
          306,
          307,
          308,
          309,
          310,
          311,
          312,
          313,
          314,
          315,
          316,
          317,
          318,
          319,
          320,
          321,
          322,
          323,
          324,
          325,
          326,
          327,
          328,
          329,
          330,
          331,
          332,
          333,
          334,
          335,
          336,
          337,
          338,
          339,
          340,
          341,
          342,
          343,
          344,
          345,
          346,
          347,
          348,
          349,
          350,
          351,
          352,
          353,
          354,
          355,
          356,
          357,
          358,
          359,
          360,
          361,
          362,
          363,
          364,
          365,
          366,
          367,
          368,
          369,
          370,
          371,
          372,
          373,
          374,
          375,
          376,
          377,
          378,
          379,
          380,
          381,
          382,
          383,
          384,
          385,
          386,
          387,
          388,
          389,
          390,
          391,
          392,
          393,
          394,
          395,
          396,
          397,
          398,
          399,
          400,
          401,
          402,
          403,
          404,
          405,
          406,
          407,
          408,
          409,
          410,
          411,
          412,
          413,
          414,
          415,
          416,
          417,
          418,
          419,
          420,
          421,
          422,
          423,
          424,
          425,
          426,
          427,
          428,
          429,
          430,
          431,
          432,
          433,
          434,
          435,
          436,
          437,
          438,
          439,
          440,
          441,
          442,
          443,
          444,
          445,
          446,
          447,
          448,
          449,
          450,
          451,
          452,
          453,
          454,
          455,
          456,
          457,
          458,
          459,
          460,
          461,
          462,
          463,
          464,
          465,
          466,
          467,
          468,
          469,
          470,
          471,
          472,
          473,
          474,
          475,
          476,
          477,
          478,
          479,
          480,
          481,
          482,
          483,
          484,
          485,
          486,
          487,
          488,
          489,
          490,
          491,
          492,
          493,
          494,
          495,
          496,
          497,
          498,
          499,
          500,
          501,
          502,
          503,
          504,
          505,
          506,
          507,
          508,
          509,
          510,
          511,
          512,
          513,
          514,
          515,
          516,
          517,
          518,
          519,
          520,
          521,
          522,
          523,
          524,
          525,
          526,
          527,
          528,
          529,
          530,
          531,
          532,
          533,
          534,
          535,
          536,
          537,
          538,
          539,
          540,
          541,
          542,
          543,
          544,
          545,
          546,
          547,
          548,
          549,
          550,
          551,
          552,
          553,
          554,
          555,
          556,
          557,
          558,
          559,
          560,
          561,
          562,
          563,
          564,
          565,
          566,
          567,
          568,
          569,
          570,
          571,
          572,
          573,
          574,
          575,
          576,
          577,
          578,
          579,
          580,
          581,
          582,
          583,
          584,
          585,
          586,
          587,
          588,
          589,
          590,
          591,
          592,
          593,
          594,
          595,
          596,
          597,
          598,
          599,
          600,
          601,
          602,
          603,
          604,
          605,
          606,
          607,
          608,
          609,
          610,
          611,
          612,
          613,
          614,
          615,
          616,
          617,
          618,
          619,
          620,
          621,
          622,
          623,
          624,
          625,
          626,
          627,
          628,
          629,
          630,
          631,
          632,
          633,
          634,
          635,
          636,
          637,
          638,
          639,
          640,
          641,
          642,
          643,
          644,
          645,
          646,
          647,
          648,
          649,
          650,
          651,
          652,
          653,
          654,
          655,
          656,
          657,
          658,
          659,
          660,
          661,
          662,
          663,
          664,
          665,
          666,
          667,
          668,
          669,
          670,
          671,
          672,
          673,
          674,
          675,
          676,
          677,
          678,
          679,
          680,
          681,
          682,
          683,
          684,
          685,
          686,
          687,
          688,
          689,
          690,
          691,
          692,
          693,
          694,
          695,
          696,
          697,
          698,
          699,
          700,
          701,
          702,
          703,
          704,
          705,
          706,
          707,
          708,
          709,
          710,
          711,
          712,
          713,
          714,
          715,
          716,
          717,
          718,
          719,
          720,
          721,
          722,
          723,
          724,
          725,
          726,
          727,
          728,
          729,
          730,
          731,
          732,
          733,
          734,
          735,
          736,
          737,
          738,
          739,
          740,
          741,
          742,
          743,
          744,
          745,
          746,
          747,
          748,
          749,
          750,
          751,
          752,
          753,
          754,
          755,
          756,
          757,
          758,
          759,
          760,
          761,
          762,
          763,
          764,
          765,
          766,
          767,
          768,
          769,
          770,
          771,
          772,
          773,
          774,
          775,
          776,
          777,
          778,
          779,
          780,
          781,
          782,
          783,
          784,
          785,
          786,
          787,
          788,
          789,
          790,
          791,
          792,
          793,
          794,
          795,
          796,
          797,
          798,
          799,
          800,
          801,
          802,
          803,
          804,
          805,
          806,
          807,
          808,
          809,
          810,
          811,
          812,
          813,
          814,
          815,
          816,
          817,
          818,
          819,
          820,
          821,
          822,
          823,
          824,
          825,
          826,
          827,
          828,
          829,
          830,
          831,
          832,
          833,
          834,
          835,
          836,
          837,
          838,
          839,
          840,
          841,
          842,
          843,
          844,
          845,
          846,
          847,
          848,
          849,
          850,
          851,
          852,
          853,
          854,
          855,
          856,
          857,
          858,
          859,
          860,
          861,
          862,
          863,
          864,
          865,
          866,
          867,
          868,
          869,
          870,
          871,
          872,
          873,
          874,
          875,
          876,
          877,
          878,
          879,
          880,
          881,
          882,
          883,
          884,
          885,
          886,
          887,
          888,
          889,
          890,
          891,
          892,
          893,
          894,
          895,
          896,
          897,
          898,
          899,
          900,
          901,
          902,
          903,
          904,
          905,
          906,
          907,
          908,
          909,
          910,
          911,
          912,
          913,
          914,
          915,
          916,
          917,
          918,
          919,
          920,
          921,
          922,
          923,
          924,
          925,
          926,
          927,
          928,
          929,
          930,
          931,
          932,
          933,
          934,
          935,
          936,
          937,
          938,
          939,
          940,
          941,
          942,
          943,
          944,
          945,
          946,
          947,
          948,
          949,
          950,
          951,
          952,
          953,
          954,
          955,
          956,
          957,
          958,
          959,
          960,
          961,
          962,
          963,
          964,
          965,
          966,
          967,
          968,
          969,
          970,
          971,
          972,
          973,
          974,
          975,
          976,
          977,
          978,
          979,
          980,
          981,
          982,
          983,
          984,
          985,
          986,
          987,
          988,
          989,
          990,
          991,
          992,
          993,
          994,
          995,
          996,
          997,
          998,
          999
         ],
         "y": [
          16.76964237166747,
          10.407579751768978,
          7.759183480302341,
          6.653287534646751,
          6.188105823037991,
          5.989084519364202,
          5.900653772925786,
          5.858197920163226,
          5.834878785201405,
          5.819548934223245,
          5.807578027277277,
          5.797042577385664,
          5.787143381054755,
          5.777548203870704,
          5.768118767375578,
          5.758797354060333,
          5.749559709152846,
          5.740395478534908,
          5.731300083688729,
          5.7222713469714925,
          5.713308089921204,
          5.704409551053921,
          5.695575144033777,
          5.686804357215719,
          5.678096711906953,
          5.669451745017106,
          5.660869001838244,
          5.6523480330323945,
          5.643888393366726,
          5.635489641174721,
          5.6271513381189795,
          5.618873049079403,
          5.6106543420935395,
          5.602494788318711,
          5.59439396200325,
          5.586351440461656,
          5.578366804051419,
          5.570439636150689,
          5.562569523136332,
          5.554756054362274,
          5.546998822138042,
          5.539297421707482,
          5.531651451227627,
          5.5240605117477335,
          5.5165242071884535,
          5.509042144321186,
          5.501613932747542,
          5.494239184878978,
          5.486917515916582,
          5.479648543830982,
          5.472431889342422,
          5.465267175900967,
          5.458154029666859,
          5.4510920794910085,
          5.444080956895625,
          5.437120296055004,
          5.4302097337764215,
          5.423348909481195,
          5.416537465185866,
          5.409775045483519,
          5.403061297525241,
          5.396395871001712,
          5.389778418124915,
          5.383208593610006,
          5.376686054657283,
          5.3702104609343095,
          5.363781474558154,
          5.357398760077755,
          5.351061984456422,
          5.344770817054462,
          5.33852492961192,
          5.3323239962314535,
          5.326167693361334,
          5.320055699778554,
          5.313987696572079,
          5.30796336712619,
          5.301982397103983,
          5.296044474430953,
          5.290149289278716,
          5.284296534048845,
          5.278485903356815,
          5.272717094016074,
          5.266989805022217,
          5.261303737537286,
          5.255658594874174,
          5.2500540824811495,
          5.244489907926477,
          5.238965780883169,
          5.233481413113833,
          5.2280365184556326,
          5.222630812805355,
          5.217264014104588,
          5.211935842325,
          5.206646019453738,
          5.201394269478911,
          5.196180318375187,
          5.1910038940895085,
          5.185864726526886,
          5.180762547536304,
          5.1756970908967395,
          5.170668092303259,
          5.165675289353239,
          5.160718421532666,
          5.155797230202545,
          5.1509114585854086,
          5.146060851751914,
          5.141245156607544,
          5.136464121879404,
          5.1317174981030975,
          5.127005037609731,
          5.12232649451297,
          5.117681624696227,
          5.113070185799911,
          5.108491937208786,
          5.103946640039418,
          5.09943405712771,
          5.094953953016527,
          5.090506093943406,
          5.08609024782837,
          5.081706184261801,
          5.077353674492437,
          5.073032491415424,
          5.068742409560468,
          5.06448320508007,
          5.060254655737853,
          5.056056540896959,
          5.051888641508537,
          5.047750740100315,
          5.043642620765256,
          5.039564069150285,
          5.0355148724451135,
          5.031494819371125,
          5.027503700170363,
          5.023541306594575,
          5.0196074318943555,
          5.015701870808349,
          5.0118244195525525,
          5.0079748758096665,
          5.004153038718556,
          5.000358708863753,
          4.996591688265067,
          4.99285178036724,
          4.989138790029705,
          4.985452523516392,
          4.981792788485625,
          4.978159393980087,
          4.974552150416855,
          4.9709708695775054,
          4.9674153645982955,
          4.963885449960413,
          4.960380941480297,
          4.956901656300029,
          4.953447412877782,
          4.950018030978364,
          4.9466133316638015,
          4.943233137284004,
          4.939877271467502,
          4.93654555911224,
          4.933237826376433,
          4.929953900669509,
          4.926693610643094,
          4.923456786182074,
          4.920243258395721,
          4.917052859608877,
          4.913885423353209,
          4.910740784358518,
          4.90761877854412,
          4.9045192430102835,
          4.901442016029728,
          4.898386937039186,
          4.89535384663103,
          4.892342586544944,
          4.889352999659677,
          4.8863849299848425,
          4.883438222652771,
          4.8805127239104396,
          4.877608281111444,
          4.874724742708034,
          4.871861958243208,
          4.869019778342863,
          4.866198054707997,
          4.863396640106973,
          4.860615388367838,
          4.8578541543706955,
          4.85511279404013,
          4.852391164337695,
          4.849689123254447,
          4.847006529803536,
          4.844343244012846,
          4.841699126917694,
          4.8390740405535855,
          4.836467847949003,
          4.83388041311827,
          4.8313116010544475,
          4.828761277722299,
          4.826229310051286,
          4.823715565928633,
          4.821219914192431,
          4.818742224624793,
          4.816282367945059,
          4.813840215803055,
          4.811415640772391,
          4.809008516343814,
          4.8066187169186065,
          4.804246117802036,
          4.8018905951968405,
          4.799552026196781,
          4.797230288780218,
          4.79492526180375,
          4.792636824995891,
          4.790364858950799,
          4.788109245122034,
          4.785869865816388,
          4.783646604187734,
          4.78143934423093,
          4.779247970775768,
          4.777072369480967,
          4.774912426828203,
          4.772768030116184,
          4.77063906745478,
          4.7685254277591715,
          4.766427000744059,
          4.764343676917911,
          4.76227534757725,
          4.76022190480098,
          4.758183241444749,
          4.756159251135367,
          4.754149828265257,
          4.7521548679869365,
          4.7501742662075515,
          4.748207919583443,
          4.746255725514761,
          4.7443175821401,
          4.742393388331193,
          4.740483043687634,
          4.7385864485316365,
          4.736703503902831,
          4.734834111553107,
          4.732978173941483,
          4.731135594229015,
          4.729306276273751,
          4.727490124625704,
          4.725687044521882,
          4.723896941881337,
          4.722119723300258,
          4.720355296047097,
          4.718603568057733,
          4.716864447930661,
          4.715137844922232,
          4.713423668941915,
          4.711721830547592,
          4.710032240940894,
          4.708354811962573,
          4.706689456087892,
          4.705036086422067,
          4.703394616695726,
          4.701764961260412,
          4.700147035084117,
          4.698540753746834,
          4.6969460334361655,
          4.695362790942941,
          4.693790943656879,
          4.692230409562277,
          4.690681107233732,
          4.689142955831886,
          4.687615875099218,
          4.686099785355851,
          4.684594607495395,
          4.683100262980815,
          4.681616673840342,
          4.6801437626633975,
          4.678681452596559,
          4.677229667339545,
          4.675788331141239,
          4.674357368795731,
          4.672936705638404,
          4.671526267542021,
          4.670125980912876,
          4.668735772686941,
          4.667355570326061,
          4.665985301814161,
          4.664624895653501,
          4.663274280860929,
          4.66193338696419,
          4.660602143998251,
          4.659280482501633,
          4.657968333512809,
          4.656665628566587,
          4.655372299690549,
          4.654088279401498,
          4.652813500701945,
          4.6515478970766,
          4.650291402488918,
          4.649043951377638,
          4.6478054786533685,
          4.646575919695197,
          4.645355210347307,
          4.644143286915639,
          4.642940086164565,
          4.641745545313585,
          4.640559602034057,
          4.6393821944459415,
          4.638213261114575,
          4.637052741047459,
          4.635900573691086,
          4.634756698927774,
          4.633621057072529,
          4.632493588869937,
          4.631374235491064,
          4.630262938530394,
          4.629159640002776,
          4.628064282340398,
          4.626976808389793,
          4.625897161408843,
          4.624825285063827,
          4.62376112342648,
          4.622704620971073,
          4.6216557225715205,
          4.620614373498497,
          4.619580519416586,
          4.618554106381445,
          4.617535080836987,
          4.616523389612593,
          4.615518979920331,
          4.614521799352205,
          4.613531795877417,
          4.612548917839658,
          4.611573113954409,
          4.610604333306265,
          4.609642525346276,
          4.608687639889315,
          4.607739627111459,
          4.606798437547382,
          4.605864022087783,
          4.604936331976818,
          4.604015318809556,
          4.603100934529458,
          4.6021931314258655,
          4.601291862131512,
          4.600397079620049,
          4.599508737203599,
          4.5986267885303125,
          4.597751187581952,
          4.596881888671492,
          4.596018846440735,
          4.595162015857943,
          4.594311352215486,
          4.5934668111275165,
          4.59262834852765,
          4.591795920666657,
          4.590969484110198,
          4.590148995736537,
          4.58933441273431,
          4.588525692600281,
          4.587722793137125,
          4.586925672451227,
          4.586134288950497,
          4.585348601342197,
          4.584568568630796,
          4.583794150115818,
          4.5830253053897225,
          4.5822619943358,
          4.581504177126079,
          4.580751814219242,
          4.580004866358567,
          4.579263294569874,
          4.578527060159502,
          4.577796124712278,
          4.57707045008952,
          4.576349998427045,
          4.575634732133191,
          4.57492461388686,
          4.574219606635567,
          4.573519673593507,
          4.572824778239643,
          4.572134884315783,
          4.57144995582471,
          4.570769957028286,
          4.570094852445597,
          4.569424606851098,
          4.568759185272775,
          4.568098552990324,
          4.567442675533333,
          4.566791518679489,
          4.566145048452789,
          4.56550323112177,
          4.564866033197746,
          4.56423342143306,
          4.5636053628193585,
          4.562981824585854,
          4.562362774197625,
          4.561748179353919,
          4.56113800798646,
          4.560532228257787,
          4.559930808559578,
          4.559333717511011,
          4.558740923957126,
          4.558152396967194,
          4.557568105833109,
          4.556988020067781,
          4.556412109403548,
          4.555840343790598,
          4.555272693395397,
          4.554709128599133,
          4.554149619996176,
          4.553594138392537,
          4.553042654804346,
          4.552495140456346,
          4.5519515667803825,
          4.551411905413918,
          4.550876128198552,
          4.550344207178551,
          4.549816114599386,
          4.5492918229062935,
          4.5487713047428295,
          4.548254532949444,
          4.547741480562067,
          4.547232120810698,
          4.546726427118009,
          4.546224373097964,
          4.545725932554434,
          4.54523107947983,
          4.54473978805376,
          4.544252032641661,
          4.5437677877934775,
          4.543287028242326,
          4.542809728903179,
          4.542335864871554,
          4.54186541142222,
          4.541398344007899,
          4.54093463825799,
          4.540474269977296,
          4.540017215144766,
          4.53956344991223,
          4.539112950603175,
          4.538665693711483,
          4.5382216559002275,
          4.5377808140004445,
          4.537343145009926,
          4.536908626092019,
          4.536477234574434,
          4.536048947948069,
          4.535623743865819,
          4.535201600141424,
          4.534782494748312,
          4.534366405818438,
          4.533953311641151,
          4.533543190662064,
          4.533136021481918,
          4.53273178285548,
          4.532330453690422,
          4.531932013046231,
          4.531536440133107,
          4.53114371431088,
          4.530753815087941,
          4.530366722120163,
          4.529982415209844,
          4.529600874304655,
          4.52922207949659,
          4.528846011020925,
          4.528472649255199,
          4.528101974718171,
          4.527733968068821,
          4.527368610105334,
          4.527005881764093,
          4.526645764118693,
          4.526288238378949,
          4.525933285889915,
          4.525580888130913,
          4.525231026714565,
          4.524883683385835,
          4.524538840021075,
          4.5241964786270765,
          4.523856581340143,
          4.52351913042514,
          4.52318410827459,
          4.522851497407734,
          4.522521280469633,
          4.522193440230261,
          4.521867959583598,
          4.521544821546745,
          4.521224009259034,
          4.520905505981154,
          4.520589295094267,
          4.520275360099151,
          4.519963684615338,
          4.519654252380249,
          4.51934704724836,
          4.519042053190349,
          4.518739254292265,
          4.518438634754693,
          4.518140178891936,
          4.517843871131191,
          4.517549696011738,
          4.517257638184136,
          4.516967682409417,
          4.516679813558298,
          4.5163940166103815,
          4.516110276653383,
          4.515828578882345,
          4.5155489085988645,
          4.515271251210334,
          4.5149955922291705,
          4.514721917272065,
          4.514450212059231,
          4.51418046241366,
          4.513912654260378,
          4.513646773625716,
          4.513382806636581,
          4.5131207395197235,
          4.512860558601035,
          4.5126022503048135,
          4.512345801153076,
          4.512091197764844,
          4.511838426855442,
          4.511587475235814,
          4.511338329811828,
          4.511090977583599,
          4.510845405644805,
          4.510601601182015,
          4.510359551474021,
          4.51011924389118,
          4.509880665894741,
          4.509643805036204,
          4.509408648956667,
          4.509175185386174,
          4.508943402143087,
          4.508713287133441,
          4.508484828350316,
          4.50825801387321,
          4.5080328318674185,
          4.507809270583417,
          4.507587318356243,
          4.507366963604894,
          4.50714819483172,
          4.506931000621827,
          4.506715369642471,
          4.506501290642482,
          4.506288752451664,
          4.506077743980219,
          4.505868254218166,
          4.50566027223477,
          4.505453787177963,
          4.5052487882737875,
          4.5050452648258315,
          4.504843206214665,
          4.5046426018972925,
          4.504443441406602,
          4.504245714350813,
          4.504049410412946,
          4.503854519350266,
          4.503661030993771,
          4.50346893524764,
          4.503278222088719,
          4.503088881565995,
          4.502900903800075,
          4.502714278982674,
          4.502528997376097,
          4.50234504931274,
          4.5021624251945775,
          4.5019811154926614,
          4.5018011107466345,
          4.501622401564226,
          4.5014449786207615,
          4.501268832658686,
          4.501093954487071,
          4.500920334981137,
          4.500747965081784,
          4.50057683579511,
          4.500406938191949,
          4.500238263407397,
          4.500070802640357,
          4.499904547153076,
          4.499739488270693,
          4.499575617380779,
          4.4994129259328925,
          4.4992514054381365,
          4.499091047468709,
          4.4989318436574655,
          4.498773785697485,
          4.498616865341633,
          4.498461074402136,
          4.498306404750146,
          4.498152848315325,
          4.498000397085419,
          4.497849043105842,
          4.497698778479262,
          4.497549595365181,
          4.497401485979542,
          4.4972544425943,
          4.497108457537045,
          4.496963523190578,
          4.49681963199253,
          4.49667677643496,
          4.496534949063961,
          4.4963941424792795,
          4.496254349333923,
          4.496115562333777,
          4.495977774237225,
          4.495840977854773,
          4.4957051660486735,
          4.495570331732549,
          4.495436467871027,
          4.495303567479372,
          4.495171623623119,
          4.495040629417714,
          4.494910578028152,
          4.494781462668627,
          4.494653276602165,
          4.494526013140287,
          4.494399665642654,
          4.4942742275167165,
          4.494149692217374,
          4.494026053246638,
          4.493903304153283,
          4.493781438532519,
          4.4936604500256525,
          4.493540332319758,
          4.493421079147343,
          4.493302684286027,
          4.4931851415582145,
          4.49306844483077,
          4.492952588014705,
          4.4928375650648515,
          4.492723369979553,
          4.492609996800348,
          4.492497439611663,
          4.4923856925404975,
          4.492274749756125,
          4.492164605469782,
          4.492055253934368,
          4.491946689444154,
          4.491838906334466,
          4.491731898981412,
          4.491625661801567,
          4.491520189251702,
          4.491415475828478,
          4.4913115160681665,
          4.491208304546366,
          4.491105835877716,
          4.491004104715613,
          4.490903105751941,
          4.490802833716784,
          4.490703283378156,
          4.49060444954173,
          4.4905063270505625,
          4.4904089107848275,
          4.490312195661548,
          4.49021617663433,
          4.4901208486931035,
          4.4900262068638535,
          4.48993224620837,
          4.489838961823982,
          4.489746348843304,
          4.4896544024339855,
          4.489563117798455,
          4.489472490173671,
          4.489382514830874,
          4.489293187075338,
          4.489204502246129,
          4.489116455715857,
          4.48902904289044,
          4.488942259208857,
          4.488856100142918,
          4.4887705611970246,
          4.488685637907931,
          4.48860132584452,
          4.488517620607563,
          4.488434517829497,
          4.488352013174193,
          4.488270102336728,
          4.48818878104317,
          4.48810804505034,
          4.488027890145607,
          4.487948312146651,
          4.487869306901262,
          4.48779087028711,
          4.487712998211538,
          4.487635686611342,
          4.487558931452566,
          4.487482728730286,
          4.487407074468403,
          4.487331964719436,
          4.487257395564316,
          4.48718336311218,
          4.487109863500169,
          4.487036892893229,
          4.486964447483904,
          4.486892523492144,
          4.486821117165108,
          4.486750224776961,
          4.486679842628687,
          4.486609967047894,
          4.486540594388619,
          4.486471721031143,
          4.486403343381796,
          4.486335457872778,
          4.486268060961964,
          4.486201149132724,
          4.486134718893739,
          4.486068766778817,
          4.486003289346716,
          4.48593828318096,
          4.485873744889664,
          4.485809671105355,
          4.485746058484795,
          4.485682903708813,
          4.4856202034821235,
          4.485557954533159,
          4.485496153613902,
          4.485434797499709,
          4.485373882989144,
          4.485313406903819,
          4.485253366088215,
          4.485193757409531,
          4.485134577757508,
          4.4850758240442765,
          4.485017493204191,
          4.484959582193671,
          4.484902087991039,
          4.4848450075963715,
          4.484788338031329,
          4.484732076339013,
          4.4846762195838075,
          4.484620764851225,
          4.4845657092477476,
          4.484511049900696,
          4.484456783958057,
          4.484402908588347,
          4.484349420980461,
          4.48429631834353,
          4.484243597906768,
          4.484191256919332,
          4.48413929265018,
          4.484087702387925,
          4.484036483440697,
          4.483985633135995,
          4.4839351488205565,
          4.483885027860219,
          4.483835267639774,
          4.483785865562836,
          4.483736819051709,
          4.483688125547249,
          4.483639782508729,
          4.4835917874137134,
          4.4835441377579155,
          4.483496831055079,
          4.483449864836836,
          4.483403236652589,
          4.483356944069378,
          4.483310984671751,
          4.483265356061643,
          4.483220055858251,
          4.483175081697901,
          4.4831304312339375,
          4.4830861021365935,
          4.4830420920928695,
          4.482998398806412,
          4.482955019997397,
          4.48291195340241,
          4.482869196774325,
          4.482826747882192,
          4.4827846045111155,
          4.4827427644621425,
          4.482701225552148,
          4.482659985613717,
          4.4826190424950365,
          4.4825783940597805,
          4.482538038186998,
          4.482497972771005,
          4.482458195721271,
          4.4824187049623125,
          4.482379498433586,
          4.482340574089374,
          4.482301929898689,
          4.482263563845156,
          4.482225473926914,
          4.482187658156512,
          4.482150114560802,
          4.482112841180838,
          4.482075836071771,
          4.482039097302755,
          4.482002622956837,
          4.481966411130861,
          4.481930459935368,
          4.481894767494503,
          4.481859331945907,
          4.48182415144063,
          4.481789224143023,
          4.481754548230655,
          4.4817201218942095,
          4.481685943337393,
          4.481652010776837,
          4.481618322442012,
          4.481584876575135,
          4.481551671431066,
          4.4815187052772325,
          4.48148597639353,
          4.481453483072232,
          4.481421223617906,
          4.481389196347322,
          4.481357399589361,
          4.481325831684938,
          4.481294490986905,
          4.481263375859967,
          4.481232484680606,
          4.481201815836984,
          4.481171367728863,
          4.481141138767525,
          4.481111127375687,
          4.481081331987417,
          4.481051751048053,
          4.481022383014126,
          4.48099322635327,
          4.480964279544153,
          4.480935541076392,
          4.480907009450473,
          4.480878683177674,
          4.480850560779992,
          4.480822640790058,
          4.480794921751065,
          4.480767402216693,
          4.480740080751028,
          4.480712955928494,
          4.4806860263337756,
          4.480659290561742,
          4.480632747217374,
          4.480606394915701,
          4.480580232281711,
          4.480554257950291,
          4.480528470566161,
          4.480502868783783,
          4.480477451267313,
          4.480452216690516,
          4.480427163736707,
          4.480402291098673,
          4.480377597478613,
          4.480353081588064,
          4.480328742147841,
          4.480304577887963,
          4.480280587547584,
          4.480256769874945,
          4.480233123627286,
          4.480209647570795,
          4.480186340480542,
          4.480163201140412,
          4.480140228343041,
          4.480117420889758,
          4.480094777590517,
          4.480072297263838,
          4.480049978736745,
          4.480027820844704,
          4.48000582243156,
          4.479983982349487,
          4.479962299458911,
          4.479940772628466,
          4.479919400734926,
          4.479898182663152,
          4.479877117306026,
          4.479856203564405,
          4.479835440347053,
          4.479814826570586,
          4.479794361159426,
          4.479774043045726,
          4.479753871169331,
          4.479733844477714,
          4.479713961925924,
          4.479694222476531,
          4.479674625099574,
          4.479655168772499,
          4.4796358524801185,
          4.479616675214549,
          4.47959763597516,
          4.4795787337685224,
          4.479559967608361,
          4.479541336515496,
          4.479522839517793,
          4.479504475650122,
          4.479486243954294,
          4.479468143479014,
          4.479450173279841,
          4.479432332419124,
          4.479414619965968,
          4.479397034996171,
          4.479379576592186,
          4.479362243843075,
          4.479345035844444,
          4.479327951698421,
          4.479310990513589,
          4.479294151404949,
          4.479277433493872,
          4.479260835908052,
          4.479244357781462,
          4.479227998254308,
          4.479211756472983,
          4.479195631590026,
          4.479179622764073,
          4.479163729159819,
          4.479147949947968,
          4.479132284305192,
          4.479116731414092,
          4.479101290463152,
          4.479085960646696,
          4.479070741164841,
          4.4790556312234715,
          4.479040630034181,
          4.479025736814238,
          4.479010950786544,
          4.4789962711796,
          4.478981697227449,
          4.478967228169658,
          4.478952863251258,
          4.478938601722719,
          4.4789244428399035,
          4.478910385864032,
          4.478896430061639,
          4.478882574704542,
          4.478868819069796,
          4.478855162439662,
          4.478841604101564,
          4.478828143348058,
          4.478814779476789,
          4.478801511790458,
          4.478788339596786,
          4.478775262208474,
          4.478762278943172,
          4.478749389123441,
          4.478736592076715,
          4.478723887135275,
          4.478711273636199,
          4.478698750921343,
          4.4786863183373,
          4.47867397523536,
          4.478661720971488,
          4.478649554906282,
          4.478637476404941,
          4.478625484837236,
          4.478613579577471,
          4.478601760004454,
          4.4785900255014655,
          4.478578375456223,
          4.478566809260851,
          4.4785553263118505,
          4.478543926010066,
          4.478532607760652,
          4.478521370973046,
          4.478510215060936,
          4.478499139442231,
          4.478488143539028,
          4.478477226777583,
          4.4784663885882825,
          4.478455628405614,
          4.47844494566813,
          4.478434339818432,
          4.478423810303126,
          4.478413356572803,
          4.4784029780820145,
          4.478392674289227,
          4.478382444656812,
          4.478372288651009,
          4.478362205741901,
          4.478352195403377,
          4.478342257113124,
          4.47833239035258,
          4.4783225946069205,
          4.478312869365021,
          4.478303214119441,
          4.478293628366389,
          4.478284111605702,
          4.478274663340812,
          4.4782652830787315,
          4.478255970330016,
          4.478246724608748,
          4.478237545432501,
          4.47822843232233,
          4.4782193848027285,
          4.478210402401617,
          4.478201484650312,
          4.4781926310835045,
          4.478183841239235,
          4.478175114658864,
          4.478166450887061,
          4.478157849471767,
          4.478149309964177,
          4.478140831918719,
          4.478132414893026,
          4.478124058447914,
          4.478115762147364,
          4.478107525558487,
          4.4780993482515195,
          4.478091229799787,
          4.478083169779684,
          4.4780751677706565,
          4.478067223355174,
          4.478059336118717,
          4.478051505649743,
          4.478043731539676,
          4.47803601338288,
          4.478028350776635,
          4.478020743321126
         ]
        }
       ],
       "layout": {
        "height": 500,
        "template": {
         "data": {
          "bar": [
           {
            "error_x": {
             "color": "#2a3f5f"
            },
            "error_y": {
             "color": "#2a3f5f"
            },
            "marker": {
             "line": {
              "color": "#E5ECF6",
              "width": 0.5
             }
            },
            "type": "bar"
           }
          ],
          "barpolar": [
           {
            "marker": {
             "line": {
              "color": "#E5ECF6",
              "width": 0.5
             }
            },
            "type": "barpolar"
           }
          ],
          "carpet": [
           {
            "aaxis": {
             "endlinecolor": "#2a3f5f",
             "gridcolor": "white",
             "linecolor": "white",
             "minorgridcolor": "white",
             "startlinecolor": "#2a3f5f"
            },
            "baxis": {
             "endlinecolor": "#2a3f5f",
             "gridcolor": "white",
             "linecolor": "white",
             "minorgridcolor": "white",
             "startlinecolor": "#2a3f5f"
            },
            "type": "carpet"
           }
          ],
          "choropleth": [
           {
            "colorbar": {
             "outlinewidth": 0,
             "ticks": ""
            },
            "type": "choropleth"
           }
          ],
          "contour": [
           {
            "colorbar": {
             "outlinewidth": 0,
             "ticks": ""
            },
            "colorscale": [
             [
              0,
              "#0d0887"
             ],
             [
              0.1111111111111111,
              "#46039f"
             ],
             [
              0.2222222222222222,
              "#7201a8"
             ],
             [
              0.3333333333333333,
              "#9c179e"
             ],
             [
              0.4444444444444444,
              "#bd3786"
             ],
             [
              0.5555555555555556,
              "#d8576b"
             ],
             [
              0.6666666666666666,
              "#ed7953"
             ],
             [
              0.7777777777777778,
              "#fb9f3a"
             ],
             [
              0.8888888888888888,
              "#fdca26"
             ],
             [
              1,
              "#f0f921"
             ]
            ],
            "type": "contour"
           }
          ],
          "contourcarpet": [
           {
            "colorbar": {
             "outlinewidth": 0,
             "ticks": ""
            },
            "type": "contourcarpet"
           }
          ],
          "heatmap": [
           {
            "colorbar": {
             "outlinewidth": 0,
             "ticks": ""
            },
            "colorscale": [
             [
              0,
              "#0d0887"
             ],
             [
              0.1111111111111111,
              "#46039f"
             ],
             [
              0.2222222222222222,
              "#7201a8"
             ],
             [
              0.3333333333333333,
              "#9c179e"
             ],
             [
              0.4444444444444444,
              "#bd3786"
             ],
             [
              0.5555555555555556,
              "#d8576b"
             ],
             [
              0.6666666666666666,
              "#ed7953"
             ],
             [
              0.7777777777777778,
              "#fb9f3a"
             ],
             [
              0.8888888888888888,
              "#fdca26"
             ],
             [
              1,
              "#f0f921"
             ]
            ],
            "type": "heatmap"
           }
          ],
          "heatmapgl": [
           {
            "colorbar": {
             "outlinewidth": 0,
             "ticks": ""
            },
            "colorscale": [
             [
              0,
              "#0d0887"
             ],
             [
              0.1111111111111111,
              "#46039f"
             ],
             [
              0.2222222222222222,
              "#7201a8"
             ],
             [
              0.3333333333333333,
              "#9c179e"
             ],
             [
              0.4444444444444444,
              "#bd3786"
             ],
             [
              0.5555555555555556,
              "#d8576b"
             ],
             [
              0.6666666666666666,
              "#ed7953"
             ],
             [
              0.7777777777777778,
              "#fb9f3a"
             ],
             [
              0.8888888888888888,
              "#fdca26"
             ],
             [
              1,
              "#f0f921"
             ]
            ],
            "type": "heatmapgl"
           }
          ],
          "histogram": [
           {
            "marker": {
             "colorbar": {
              "outlinewidth": 0,
              "ticks": ""
             }
            },
            "type": "histogram"
           }
          ],
          "histogram2d": [
           {
            "colorbar": {
             "outlinewidth": 0,
             "ticks": ""
            },
            "colorscale": [
             [
              0,
              "#0d0887"
             ],
             [
              0.1111111111111111,
              "#46039f"
             ],
             [
              0.2222222222222222,
              "#7201a8"
             ],
             [
              0.3333333333333333,
              "#9c179e"
             ],
             [
              0.4444444444444444,
              "#bd3786"
             ],
             [
              0.5555555555555556,
              "#d8576b"
             ],
             [
              0.6666666666666666,
              "#ed7953"
             ],
             [
              0.7777777777777778,
              "#fb9f3a"
             ],
             [
              0.8888888888888888,
              "#fdca26"
             ],
             [
              1,
              "#f0f921"
             ]
            ],
            "type": "histogram2d"
           }
          ],
          "histogram2dcontour": [
           {
            "colorbar": {
             "outlinewidth": 0,
             "ticks": ""
            },
            "colorscale": [
             [
              0,
              "#0d0887"
             ],
             [
              0.1111111111111111,
              "#46039f"
             ],
             [
              0.2222222222222222,
              "#7201a8"
             ],
             [
              0.3333333333333333,
              "#9c179e"
             ],
             [
              0.4444444444444444,
              "#bd3786"
             ],
             [
              0.5555555555555556,
              "#d8576b"
             ],
             [
              0.6666666666666666,
              "#ed7953"
             ],
             [
              0.7777777777777778,
              "#fb9f3a"
             ],
             [
              0.8888888888888888,
              "#fdca26"
             ],
             [
              1,
              "#f0f921"
             ]
            ],
            "type": "histogram2dcontour"
           }
          ],
          "mesh3d": [
           {
            "colorbar": {
             "outlinewidth": 0,
             "ticks": ""
            },
            "type": "mesh3d"
           }
          ],
          "parcoords": [
           {
            "line": {
             "colorbar": {
              "outlinewidth": 0,
              "ticks": ""
             }
            },
            "type": "parcoords"
           }
          ],
          "pie": [
           {
            "automargin": true,
            "type": "pie"
           }
          ],
          "scatter": [
           {
            "marker": {
             "colorbar": {
              "outlinewidth": 0,
              "ticks": ""
             }
            },
            "type": "scatter"
           }
          ],
          "scatter3d": [
           {
            "line": {
             "colorbar": {
              "outlinewidth": 0,
              "ticks": ""
             }
            },
            "marker": {
             "colorbar": {
              "outlinewidth": 0,
              "ticks": ""
             }
            },
            "type": "scatter3d"
           }
          ],
          "scattercarpet": [
           {
            "marker": {
             "colorbar": {
              "outlinewidth": 0,
              "ticks": ""
             }
            },
            "type": "scattercarpet"
           }
          ],
          "scattergeo": [
           {
            "marker": {
             "colorbar": {
              "outlinewidth": 0,
              "ticks": ""
             }
            },
            "type": "scattergeo"
           }
          ],
          "scattergl": [
           {
            "marker": {
             "colorbar": {
              "outlinewidth": 0,
              "ticks": ""
             }
            },
            "type": "scattergl"
           }
          ],
          "scattermapbox": [
           {
            "marker": {
             "colorbar": {
              "outlinewidth": 0,
              "ticks": ""
             }
            },
            "type": "scattermapbox"
           }
          ],
          "scatterpolar": [
           {
            "marker": {
             "colorbar": {
              "outlinewidth": 0,
              "ticks": ""
             }
            },
            "type": "scatterpolar"
           }
          ],
          "scatterpolargl": [
           {
            "marker": {
             "colorbar": {
              "outlinewidth": 0,
              "ticks": ""
             }
            },
            "type": "scatterpolargl"
           }
          ],
          "scatterternary": [
           {
            "marker": {
             "colorbar": {
              "outlinewidth": 0,
              "ticks": ""
             }
            },
            "type": "scatterternary"
           }
          ],
          "surface": [
           {
            "colorbar": {
             "outlinewidth": 0,
             "ticks": ""
            },
            "colorscale": [
             [
              0,
              "#0d0887"
             ],
             [
              0.1111111111111111,
              "#46039f"
             ],
             [
              0.2222222222222222,
              "#7201a8"
             ],
             [
              0.3333333333333333,
              "#9c179e"
             ],
             [
              0.4444444444444444,
              "#bd3786"
             ],
             [
              0.5555555555555556,
              "#d8576b"
             ],
             [
              0.6666666666666666,
              "#ed7953"
             ],
             [
              0.7777777777777778,
              "#fb9f3a"
             ],
             [
              0.8888888888888888,
              "#fdca26"
             ],
             [
              1,
              "#f0f921"
             ]
            ],
            "type": "surface"
           }
          ],
          "table": [
           {
            "cells": {
             "fill": {
              "color": "#EBF0F8"
             },
             "line": {
              "color": "white"
             }
            },
            "header": {
             "fill": {
              "color": "#C8D4E3"
             },
             "line": {
              "color": "white"
             }
            },
            "type": "table"
           }
          ]
         },
         "layout": {
          "annotationdefaults": {
           "arrowcolor": "#2a3f5f",
           "arrowhead": 0,
           "arrowwidth": 1
          },
          "coloraxis": {
           "colorbar": {
            "outlinewidth": 0,
            "ticks": ""
           }
          },
          "colorscale": {
           "diverging": [
            [
             0,
             "#8e0152"
            ],
            [
             0.1,
             "#c51b7d"
            ],
            [
             0.2,
             "#de77ae"
            ],
            [
             0.3,
             "#f1b6da"
            ],
            [
             0.4,
             "#fde0ef"
            ],
            [
             0.5,
             "#f7f7f7"
            ],
            [
             0.6,
             "#e6f5d0"
            ],
            [
             0.7,
             "#b8e186"
            ],
            [
             0.8,
             "#7fbc41"
            ],
            [
             0.9,
             "#4d9221"
            ],
            [
             1,
             "#276419"
            ]
           ],
           "sequential": [
            [
             0,
             "#0d0887"
            ],
            [
             0.1111111111111111,
             "#46039f"
            ],
            [
             0.2222222222222222,
             "#7201a8"
            ],
            [
             0.3333333333333333,
             "#9c179e"
            ],
            [
             0.4444444444444444,
             "#bd3786"
            ],
            [
             0.5555555555555556,
             "#d8576b"
            ],
            [
             0.6666666666666666,
             "#ed7953"
            ],
            [
             0.7777777777777778,
             "#fb9f3a"
            ],
            [
             0.8888888888888888,
             "#fdca26"
            ],
            [
             1,
             "#f0f921"
            ]
           ],
           "sequentialminus": [
            [
             0,
             "#0d0887"
            ],
            [
             0.1111111111111111,
             "#46039f"
            ],
            [
             0.2222222222222222,
             "#7201a8"
            ],
            [
             0.3333333333333333,
             "#9c179e"
            ],
            [
             0.4444444444444444,
             "#bd3786"
            ],
            [
             0.5555555555555556,
             "#d8576b"
            ],
            [
             0.6666666666666666,
             "#ed7953"
            ],
            [
             0.7777777777777778,
             "#fb9f3a"
            ],
            [
             0.8888888888888888,
             "#fdca26"
            ],
            [
             1,
             "#f0f921"
            ]
           ]
          },
          "colorway": [
           "#636efa",
           "#EF553B",
           "#00cc96",
           "#ab63fa",
           "#FFA15A",
           "#19d3f3",
           "#FF6692",
           "#B6E880",
           "#FF97FF",
           "#FECB52"
          ],
          "font": {
           "color": "#2a3f5f"
          },
          "geo": {
           "bgcolor": "white",
           "lakecolor": "white",
           "landcolor": "#E5ECF6",
           "showlakes": true,
           "showland": true,
           "subunitcolor": "white"
          },
          "hoverlabel": {
           "align": "left"
          },
          "hovermode": "closest",
          "mapbox": {
           "style": "light"
          },
          "paper_bgcolor": "white",
          "plot_bgcolor": "#E5ECF6",
          "polar": {
           "angularaxis": {
            "gridcolor": "white",
            "linecolor": "white",
            "ticks": ""
           },
           "bgcolor": "#E5ECF6",
           "radialaxis": {
            "gridcolor": "white",
            "linecolor": "white",
            "ticks": ""
           }
          },
          "scene": {
           "xaxis": {
            "backgroundcolor": "#E5ECF6",
            "gridcolor": "white",
            "gridwidth": 2,
            "linecolor": "white",
            "showbackground": true,
            "ticks": "",
            "zerolinecolor": "white"
           },
           "yaxis": {
            "backgroundcolor": "#E5ECF6",
            "gridcolor": "white",
            "gridwidth": 2,
            "linecolor": "white",
            "showbackground": true,
            "ticks": "",
            "zerolinecolor": "white"
           },
           "zaxis": {
            "backgroundcolor": "#E5ECF6",
            "gridcolor": "white",
            "gridwidth": 2,
            "linecolor": "white",
            "showbackground": true,
            "ticks": "",
            "zerolinecolor": "white"
           }
          },
          "shapedefaults": {
           "line": {
            "color": "#2a3f5f"
           }
          },
          "ternary": {
           "aaxis": {
            "gridcolor": "white",
            "linecolor": "white",
            "ticks": ""
           },
           "baxis": {
            "gridcolor": "white",
            "linecolor": "white",
            "ticks": ""
           },
           "bgcolor": "#E5ECF6",
           "caxis": {
            "gridcolor": "white",
            "linecolor": "white",
            "ticks": ""
           }
          },
          "title": {
           "x": 0.05
          },
          "xaxis": {
           "automargin": true,
           "gridcolor": "white",
           "linecolor": "white",
           "ticks": "",
           "title": {
            "standoff": 15
           },
           "zerolinecolor": "white",
           "zerolinewidth": 2
          },
          "yaxis": {
           "automargin": true,
           "gridcolor": "white",
           "linecolor": "white",
           "ticks": "",
           "title": {
            "standoff": 15
           },
           "zerolinecolor": "white",
           "zerolinewidth": 2
          }
         }
        },
        "title": {
         "text": "代价数据可视化"
        },
        "width": 500,
        "xaxis": {
         "title": {
          "text": "迭代次数"
         }
        },
        "yaxis": {
         "title": {
          "text": "代价函数"
         }
        }
       }
      },
      "text/html": [
       "<div>\n",
       "        \n",
       "        \n",
       "            <div id=\"36c6efea-2c60-4f34-86b6-7d81b54174b6\" class=\"plotly-graph-div\" style=\"height:500px; width:500px;\"></div>\n",
       "            <script type=\"text/javascript\">\n",
       "                require([\"plotly\"], function(Plotly) {\n",
       "                    window.PLOTLYENV=window.PLOTLYENV || {};\n",
       "                    window.PLOTLYENV.BASE_URL='https://plot.ly';\n",
       "                    \n",
       "                if (document.getElementById(\"36c6efea-2c60-4f34-86b6-7d81b54174b6\")) {\n",
       "                    Plotly.newPlot(\n",
       "                        '36c6efea-2c60-4f34-86b6-7d81b54174b6',\n",
       "                        [{\"line\": {\"color\": \"rgba(255, 153, 51, 1.0)\", \"dash\": \"solid\", \"shape\": \"linear\", \"width\": 1.3}, \"mode\": \"lines\", \"name\": \"0\", \"text\": \"\", \"type\": \"scatter\", \"x\": [0, 1, 2, 3, 4, 5, 6, 7, 8, 9, 10, 11, 12, 13, 14, 15, 16, 17, 18, 19, 20, 21, 22, 23, 24, 25, 26, 27, 28, 29, 30, 31, 32, 33, 34, 35, 36, 37, 38, 39, 40, 41, 42, 43, 44, 45, 46, 47, 48, 49, 50, 51, 52, 53, 54, 55, 56, 57, 58, 59, 60, 61, 62, 63, 64, 65, 66, 67, 68, 69, 70, 71, 72, 73, 74, 75, 76, 77, 78, 79, 80, 81, 82, 83, 84, 85, 86, 87, 88, 89, 90, 91, 92, 93, 94, 95, 96, 97, 98, 99, 100, 101, 102, 103, 104, 105, 106, 107, 108, 109, 110, 111, 112, 113, 114, 115, 116, 117, 118, 119, 120, 121, 122, 123, 124, 125, 126, 127, 128, 129, 130, 131, 132, 133, 134, 135, 136, 137, 138, 139, 140, 141, 142, 143, 144, 145, 146, 147, 148, 149, 150, 151, 152, 153, 154, 155, 156, 157, 158, 159, 160, 161, 162, 163, 164, 165, 166, 167, 168, 169, 170, 171, 172, 173, 174, 175, 176, 177, 178, 179, 180, 181, 182, 183, 184, 185, 186, 187, 188, 189, 190, 191, 192, 193, 194, 195, 196, 197, 198, 199, 200, 201, 202, 203, 204, 205, 206, 207, 208, 209, 210, 211, 212, 213, 214, 215, 216, 217, 218, 219, 220, 221, 222, 223, 224, 225, 226, 227, 228, 229, 230, 231, 232, 233, 234, 235, 236, 237, 238, 239, 240, 241, 242, 243, 244, 245, 246, 247, 248, 249, 250, 251, 252, 253, 254, 255, 256, 257, 258, 259, 260, 261, 262, 263, 264, 265, 266, 267, 268, 269, 270, 271, 272, 273, 274, 275, 276, 277, 278, 279, 280, 281, 282, 283, 284, 285, 286, 287, 288, 289, 290, 291, 292, 293, 294, 295, 296, 297, 298, 299, 300, 301, 302, 303, 304, 305, 306, 307, 308, 309, 310, 311, 312, 313, 314, 315, 316, 317, 318, 319, 320, 321, 322, 323, 324, 325, 326, 327, 328, 329, 330, 331, 332, 333, 334, 335, 336, 337, 338, 339, 340, 341, 342, 343, 344, 345, 346, 347, 348, 349, 350, 351, 352, 353, 354, 355, 356, 357, 358, 359, 360, 361, 362, 363, 364, 365, 366, 367, 368, 369, 370, 371, 372, 373, 374, 375, 376, 377, 378, 379, 380, 381, 382, 383, 384, 385, 386, 387, 388, 389, 390, 391, 392, 393, 394, 395, 396, 397, 398, 399, 400, 401, 402, 403, 404, 405, 406, 407, 408, 409, 410, 411, 412, 413, 414, 415, 416, 417, 418, 419, 420, 421, 422, 423, 424, 425, 426, 427, 428, 429, 430, 431, 432, 433, 434, 435, 436, 437, 438, 439, 440, 441, 442, 443, 444, 445, 446, 447, 448, 449, 450, 451, 452, 453, 454, 455, 456, 457, 458, 459, 460, 461, 462, 463, 464, 465, 466, 467, 468, 469, 470, 471, 472, 473, 474, 475, 476, 477, 478, 479, 480, 481, 482, 483, 484, 485, 486, 487, 488, 489, 490, 491, 492, 493, 494, 495, 496, 497, 498, 499, 500, 501, 502, 503, 504, 505, 506, 507, 508, 509, 510, 511, 512, 513, 514, 515, 516, 517, 518, 519, 520, 521, 522, 523, 524, 525, 526, 527, 528, 529, 530, 531, 532, 533, 534, 535, 536, 537, 538, 539, 540, 541, 542, 543, 544, 545, 546, 547, 548, 549, 550, 551, 552, 553, 554, 555, 556, 557, 558, 559, 560, 561, 562, 563, 564, 565, 566, 567, 568, 569, 570, 571, 572, 573, 574, 575, 576, 577, 578, 579, 580, 581, 582, 583, 584, 585, 586, 587, 588, 589, 590, 591, 592, 593, 594, 595, 596, 597, 598, 599, 600, 601, 602, 603, 604, 605, 606, 607, 608, 609, 610, 611, 612, 613, 614, 615, 616, 617, 618, 619, 620, 621, 622, 623, 624, 625, 626, 627, 628, 629, 630, 631, 632, 633, 634, 635, 636, 637, 638, 639, 640, 641, 642, 643, 644, 645, 646, 647, 648, 649, 650, 651, 652, 653, 654, 655, 656, 657, 658, 659, 660, 661, 662, 663, 664, 665, 666, 667, 668, 669, 670, 671, 672, 673, 674, 675, 676, 677, 678, 679, 680, 681, 682, 683, 684, 685, 686, 687, 688, 689, 690, 691, 692, 693, 694, 695, 696, 697, 698, 699, 700, 701, 702, 703, 704, 705, 706, 707, 708, 709, 710, 711, 712, 713, 714, 715, 716, 717, 718, 719, 720, 721, 722, 723, 724, 725, 726, 727, 728, 729, 730, 731, 732, 733, 734, 735, 736, 737, 738, 739, 740, 741, 742, 743, 744, 745, 746, 747, 748, 749, 750, 751, 752, 753, 754, 755, 756, 757, 758, 759, 760, 761, 762, 763, 764, 765, 766, 767, 768, 769, 770, 771, 772, 773, 774, 775, 776, 777, 778, 779, 780, 781, 782, 783, 784, 785, 786, 787, 788, 789, 790, 791, 792, 793, 794, 795, 796, 797, 798, 799, 800, 801, 802, 803, 804, 805, 806, 807, 808, 809, 810, 811, 812, 813, 814, 815, 816, 817, 818, 819, 820, 821, 822, 823, 824, 825, 826, 827, 828, 829, 830, 831, 832, 833, 834, 835, 836, 837, 838, 839, 840, 841, 842, 843, 844, 845, 846, 847, 848, 849, 850, 851, 852, 853, 854, 855, 856, 857, 858, 859, 860, 861, 862, 863, 864, 865, 866, 867, 868, 869, 870, 871, 872, 873, 874, 875, 876, 877, 878, 879, 880, 881, 882, 883, 884, 885, 886, 887, 888, 889, 890, 891, 892, 893, 894, 895, 896, 897, 898, 899, 900, 901, 902, 903, 904, 905, 906, 907, 908, 909, 910, 911, 912, 913, 914, 915, 916, 917, 918, 919, 920, 921, 922, 923, 924, 925, 926, 927, 928, 929, 930, 931, 932, 933, 934, 935, 936, 937, 938, 939, 940, 941, 942, 943, 944, 945, 946, 947, 948, 949, 950, 951, 952, 953, 954, 955, 956, 957, 958, 959, 960, 961, 962, 963, 964, 965, 966, 967, 968, 969, 970, 971, 972, 973, 974, 975, 976, 977, 978, 979, 980, 981, 982, 983, 984, 985, 986, 987, 988, 989, 990, 991, 992, 993, 994, 995, 996, 997, 998, 999], \"y\": [16.76964237166747, 10.407579751768978, 7.759183480302341, 6.653287534646751, 6.188105823037991, 5.989084519364202, 5.900653772925786, 5.858197920163226, 5.834878785201405, 5.819548934223245, 5.807578027277277, 5.797042577385664, 5.787143381054755, 5.777548203870704, 5.768118767375578, 5.758797354060333, 5.749559709152846, 5.740395478534908, 5.731300083688729, 5.7222713469714925, 5.713308089921204, 5.704409551053921, 5.695575144033777, 5.686804357215719, 5.678096711906953, 5.669451745017106, 5.660869001838244, 5.6523480330323945, 5.643888393366726, 5.635489641174721, 5.6271513381189795, 5.618873049079403, 5.6106543420935395, 5.602494788318711, 5.59439396200325, 5.586351440461656, 5.578366804051419, 5.570439636150689, 5.562569523136332, 5.554756054362274, 5.546998822138042, 5.539297421707482, 5.531651451227627, 5.5240605117477335, 5.5165242071884535, 5.509042144321186, 5.501613932747542, 5.494239184878978, 5.486917515916582, 5.479648543830982, 5.472431889342422, 5.465267175900967, 5.458154029666859, 5.4510920794910085, 5.444080956895625, 5.437120296055004, 5.4302097337764215, 5.423348909481195, 5.416537465185866, 5.409775045483519, 5.403061297525241, 5.396395871001712, 5.389778418124915, 5.383208593610006, 5.376686054657283, 5.3702104609343095, 5.363781474558154, 5.357398760077755, 5.351061984456422, 5.344770817054462, 5.33852492961192, 5.3323239962314535, 5.326167693361334, 5.320055699778554, 5.313987696572079, 5.30796336712619, 5.301982397103983, 5.296044474430953, 5.290149289278716, 5.284296534048845, 5.278485903356815, 5.272717094016074, 5.266989805022217, 5.261303737537286, 5.255658594874174, 5.2500540824811495, 5.244489907926477, 5.238965780883169, 5.233481413113833, 5.2280365184556326, 5.222630812805355, 5.217264014104588, 5.211935842325, 5.206646019453738, 5.201394269478911, 5.196180318375187, 5.1910038940895085, 5.185864726526886, 5.180762547536304, 5.1756970908967395, 5.170668092303259, 5.165675289353239, 5.160718421532666, 5.155797230202545, 5.1509114585854086, 5.146060851751914, 5.141245156607544, 5.136464121879404, 5.1317174981030975, 5.127005037609731, 5.12232649451297, 5.117681624696227, 5.113070185799911, 5.108491937208786, 5.103946640039418, 5.09943405712771, 5.094953953016527, 5.090506093943406, 5.08609024782837, 5.081706184261801, 5.077353674492437, 5.073032491415424, 5.068742409560468, 5.06448320508007, 5.060254655737853, 5.056056540896959, 5.051888641508537, 5.047750740100315, 5.043642620765256, 5.039564069150285, 5.0355148724451135, 5.031494819371125, 5.027503700170363, 5.023541306594575, 5.0196074318943555, 5.015701870808349, 5.0118244195525525, 5.0079748758096665, 5.004153038718556, 5.000358708863753, 4.996591688265067, 4.99285178036724, 4.989138790029705, 4.985452523516392, 4.981792788485625, 4.978159393980087, 4.974552150416855, 4.9709708695775054, 4.9674153645982955, 4.963885449960413, 4.960380941480297, 4.956901656300029, 4.953447412877782, 4.950018030978364, 4.9466133316638015, 4.943233137284004, 4.939877271467502, 4.93654555911224, 4.933237826376433, 4.929953900669509, 4.926693610643094, 4.923456786182074, 4.920243258395721, 4.917052859608877, 4.913885423353209, 4.910740784358518, 4.90761877854412, 4.9045192430102835, 4.901442016029728, 4.898386937039186, 4.89535384663103, 4.892342586544944, 4.889352999659677, 4.8863849299848425, 4.883438222652771, 4.8805127239104396, 4.877608281111444, 4.874724742708034, 4.871861958243208, 4.869019778342863, 4.866198054707997, 4.863396640106973, 4.860615388367838, 4.8578541543706955, 4.85511279404013, 4.852391164337695, 4.849689123254447, 4.847006529803536, 4.844343244012846, 4.841699126917694, 4.8390740405535855, 4.836467847949003, 4.83388041311827, 4.8313116010544475, 4.828761277722299, 4.826229310051286, 4.823715565928633, 4.821219914192431, 4.818742224624793, 4.816282367945059, 4.813840215803055, 4.811415640772391, 4.809008516343814, 4.8066187169186065, 4.804246117802036, 4.8018905951968405, 4.799552026196781, 4.797230288780218, 4.79492526180375, 4.792636824995891, 4.790364858950799, 4.788109245122034, 4.785869865816388, 4.783646604187734, 4.78143934423093, 4.779247970775768, 4.777072369480967, 4.774912426828203, 4.772768030116184, 4.77063906745478, 4.7685254277591715, 4.766427000744059, 4.764343676917911, 4.76227534757725, 4.76022190480098, 4.758183241444749, 4.756159251135367, 4.754149828265257, 4.7521548679869365, 4.7501742662075515, 4.748207919583443, 4.746255725514761, 4.7443175821401, 4.742393388331193, 4.740483043687634, 4.7385864485316365, 4.736703503902831, 4.734834111553107, 4.732978173941483, 4.731135594229015, 4.729306276273751, 4.727490124625704, 4.725687044521882, 4.723896941881337, 4.722119723300258, 4.720355296047097, 4.718603568057733, 4.716864447930661, 4.715137844922232, 4.713423668941915, 4.711721830547592, 4.710032240940894, 4.708354811962573, 4.706689456087892, 4.705036086422067, 4.703394616695726, 4.701764961260412, 4.700147035084117, 4.698540753746834, 4.6969460334361655, 4.695362790942941, 4.693790943656879, 4.692230409562277, 4.690681107233732, 4.689142955831886, 4.687615875099218, 4.686099785355851, 4.684594607495395, 4.683100262980815, 4.681616673840342, 4.6801437626633975, 4.678681452596559, 4.677229667339545, 4.675788331141239, 4.674357368795731, 4.672936705638404, 4.671526267542021, 4.670125980912876, 4.668735772686941, 4.667355570326061, 4.665985301814161, 4.664624895653501, 4.663274280860929, 4.66193338696419, 4.660602143998251, 4.659280482501633, 4.657968333512809, 4.656665628566587, 4.655372299690549, 4.654088279401498, 4.652813500701945, 4.6515478970766, 4.650291402488918, 4.649043951377638, 4.6478054786533685, 4.646575919695197, 4.645355210347307, 4.644143286915639, 4.642940086164565, 4.641745545313585, 4.640559602034057, 4.6393821944459415, 4.638213261114575, 4.637052741047459, 4.635900573691086, 4.634756698927774, 4.633621057072529, 4.632493588869937, 4.631374235491064, 4.630262938530394, 4.629159640002776, 4.628064282340398, 4.626976808389793, 4.625897161408843, 4.624825285063827, 4.62376112342648, 4.622704620971073, 4.6216557225715205, 4.620614373498497, 4.619580519416586, 4.618554106381445, 4.617535080836987, 4.616523389612593, 4.615518979920331, 4.614521799352205, 4.613531795877417, 4.612548917839658, 4.611573113954409, 4.610604333306265, 4.609642525346276, 4.608687639889315, 4.607739627111459, 4.606798437547382, 4.605864022087783, 4.604936331976818, 4.604015318809556, 4.603100934529458, 4.6021931314258655, 4.601291862131512, 4.600397079620049, 4.599508737203599, 4.5986267885303125, 4.597751187581952, 4.596881888671492, 4.596018846440735, 4.595162015857943, 4.594311352215486, 4.5934668111275165, 4.59262834852765, 4.591795920666657, 4.590969484110198, 4.590148995736537, 4.58933441273431, 4.588525692600281, 4.587722793137125, 4.586925672451227, 4.586134288950497, 4.585348601342197, 4.584568568630796, 4.583794150115818, 4.5830253053897225, 4.5822619943358, 4.581504177126079, 4.580751814219242, 4.580004866358567, 4.579263294569874, 4.578527060159502, 4.577796124712278, 4.57707045008952, 4.576349998427045, 4.575634732133191, 4.57492461388686, 4.574219606635567, 4.573519673593507, 4.572824778239643, 4.572134884315783, 4.57144995582471, 4.570769957028286, 4.570094852445597, 4.569424606851098, 4.568759185272775, 4.568098552990324, 4.567442675533333, 4.566791518679489, 4.566145048452789, 4.56550323112177, 4.564866033197746, 4.56423342143306, 4.5636053628193585, 4.562981824585854, 4.562362774197625, 4.561748179353919, 4.56113800798646, 4.560532228257787, 4.559930808559578, 4.559333717511011, 4.558740923957126, 4.558152396967194, 4.557568105833109, 4.556988020067781, 4.556412109403548, 4.555840343790598, 4.555272693395397, 4.554709128599133, 4.554149619996176, 4.553594138392537, 4.553042654804346, 4.552495140456346, 4.5519515667803825, 4.551411905413918, 4.550876128198552, 4.550344207178551, 4.549816114599386, 4.5492918229062935, 4.5487713047428295, 4.548254532949444, 4.547741480562067, 4.547232120810698, 4.546726427118009, 4.546224373097964, 4.545725932554434, 4.54523107947983, 4.54473978805376, 4.544252032641661, 4.5437677877934775, 4.543287028242326, 4.542809728903179, 4.542335864871554, 4.54186541142222, 4.541398344007899, 4.54093463825799, 4.540474269977296, 4.540017215144766, 4.53956344991223, 4.539112950603175, 4.538665693711483, 4.5382216559002275, 4.5377808140004445, 4.537343145009926, 4.536908626092019, 4.536477234574434, 4.536048947948069, 4.535623743865819, 4.535201600141424, 4.534782494748312, 4.534366405818438, 4.533953311641151, 4.533543190662064, 4.533136021481918, 4.53273178285548, 4.532330453690422, 4.531932013046231, 4.531536440133107, 4.53114371431088, 4.530753815087941, 4.530366722120163, 4.529982415209844, 4.529600874304655, 4.52922207949659, 4.528846011020925, 4.528472649255199, 4.528101974718171, 4.527733968068821, 4.527368610105334, 4.527005881764093, 4.526645764118693, 4.526288238378949, 4.525933285889915, 4.525580888130913, 4.525231026714565, 4.524883683385835, 4.524538840021075, 4.5241964786270765, 4.523856581340143, 4.52351913042514, 4.52318410827459, 4.522851497407734, 4.522521280469633, 4.522193440230261, 4.521867959583598, 4.521544821546745, 4.521224009259034, 4.520905505981154, 4.520589295094267, 4.520275360099151, 4.519963684615338, 4.519654252380249, 4.51934704724836, 4.519042053190349, 4.518739254292265, 4.518438634754693, 4.518140178891936, 4.517843871131191, 4.517549696011738, 4.517257638184136, 4.516967682409417, 4.516679813558298, 4.5163940166103815, 4.516110276653383, 4.515828578882345, 4.5155489085988645, 4.515271251210334, 4.5149955922291705, 4.514721917272065, 4.514450212059231, 4.51418046241366, 4.513912654260378, 4.513646773625716, 4.513382806636581, 4.5131207395197235, 4.512860558601035, 4.5126022503048135, 4.512345801153076, 4.512091197764844, 4.511838426855442, 4.511587475235814, 4.511338329811828, 4.511090977583599, 4.510845405644805, 4.510601601182015, 4.510359551474021, 4.51011924389118, 4.509880665894741, 4.509643805036204, 4.509408648956667, 4.509175185386174, 4.508943402143087, 4.508713287133441, 4.508484828350316, 4.50825801387321, 4.5080328318674185, 4.507809270583417, 4.507587318356243, 4.507366963604894, 4.50714819483172, 4.506931000621827, 4.506715369642471, 4.506501290642482, 4.506288752451664, 4.506077743980219, 4.505868254218166, 4.50566027223477, 4.505453787177963, 4.5052487882737875, 4.5050452648258315, 4.504843206214665, 4.5046426018972925, 4.504443441406602, 4.504245714350813, 4.504049410412946, 4.503854519350266, 4.503661030993771, 4.50346893524764, 4.503278222088719, 4.503088881565995, 4.502900903800075, 4.502714278982674, 4.502528997376097, 4.50234504931274, 4.5021624251945775, 4.5019811154926614, 4.5018011107466345, 4.501622401564226, 4.5014449786207615, 4.501268832658686, 4.501093954487071, 4.500920334981137, 4.500747965081784, 4.50057683579511, 4.500406938191949, 4.500238263407397, 4.500070802640357, 4.499904547153076, 4.499739488270693, 4.499575617380779, 4.4994129259328925, 4.4992514054381365, 4.499091047468709, 4.4989318436574655, 4.498773785697485, 4.498616865341633, 4.498461074402136, 4.498306404750146, 4.498152848315325, 4.498000397085419, 4.497849043105842, 4.497698778479262, 4.497549595365181, 4.497401485979542, 4.4972544425943, 4.497108457537045, 4.496963523190578, 4.49681963199253, 4.49667677643496, 4.496534949063961, 4.4963941424792795, 4.496254349333923, 4.496115562333777, 4.495977774237225, 4.495840977854773, 4.4957051660486735, 4.495570331732549, 4.495436467871027, 4.495303567479372, 4.495171623623119, 4.495040629417714, 4.494910578028152, 4.494781462668627, 4.494653276602165, 4.494526013140287, 4.494399665642654, 4.4942742275167165, 4.494149692217374, 4.494026053246638, 4.493903304153283, 4.493781438532519, 4.4936604500256525, 4.493540332319758, 4.493421079147343, 4.493302684286027, 4.4931851415582145, 4.49306844483077, 4.492952588014705, 4.4928375650648515, 4.492723369979553, 4.492609996800348, 4.492497439611663, 4.4923856925404975, 4.492274749756125, 4.492164605469782, 4.492055253934368, 4.491946689444154, 4.491838906334466, 4.491731898981412, 4.491625661801567, 4.491520189251702, 4.491415475828478, 4.4913115160681665, 4.491208304546366, 4.491105835877716, 4.491004104715613, 4.490903105751941, 4.490802833716784, 4.490703283378156, 4.49060444954173, 4.4905063270505625, 4.4904089107848275, 4.490312195661548, 4.49021617663433, 4.4901208486931035, 4.4900262068638535, 4.48993224620837, 4.489838961823982, 4.489746348843304, 4.4896544024339855, 4.489563117798455, 4.489472490173671, 4.489382514830874, 4.489293187075338, 4.489204502246129, 4.489116455715857, 4.48902904289044, 4.488942259208857, 4.488856100142918, 4.4887705611970246, 4.488685637907931, 4.48860132584452, 4.488517620607563, 4.488434517829497, 4.488352013174193, 4.488270102336728, 4.48818878104317, 4.48810804505034, 4.488027890145607, 4.487948312146651, 4.487869306901262, 4.48779087028711, 4.487712998211538, 4.487635686611342, 4.487558931452566, 4.487482728730286, 4.487407074468403, 4.487331964719436, 4.487257395564316, 4.48718336311218, 4.487109863500169, 4.487036892893229, 4.486964447483904, 4.486892523492144, 4.486821117165108, 4.486750224776961, 4.486679842628687, 4.486609967047894, 4.486540594388619, 4.486471721031143, 4.486403343381796, 4.486335457872778, 4.486268060961964, 4.486201149132724, 4.486134718893739, 4.486068766778817, 4.486003289346716, 4.48593828318096, 4.485873744889664, 4.485809671105355, 4.485746058484795, 4.485682903708813, 4.4856202034821235, 4.485557954533159, 4.485496153613902, 4.485434797499709, 4.485373882989144, 4.485313406903819, 4.485253366088215, 4.485193757409531, 4.485134577757508, 4.4850758240442765, 4.485017493204191, 4.484959582193671, 4.484902087991039, 4.4848450075963715, 4.484788338031329, 4.484732076339013, 4.4846762195838075, 4.484620764851225, 4.4845657092477476, 4.484511049900696, 4.484456783958057, 4.484402908588347, 4.484349420980461, 4.48429631834353, 4.484243597906768, 4.484191256919332, 4.48413929265018, 4.484087702387925, 4.484036483440697, 4.483985633135995, 4.4839351488205565, 4.483885027860219, 4.483835267639774, 4.483785865562836, 4.483736819051709, 4.483688125547249, 4.483639782508729, 4.4835917874137134, 4.4835441377579155, 4.483496831055079, 4.483449864836836, 4.483403236652589, 4.483356944069378, 4.483310984671751, 4.483265356061643, 4.483220055858251, 4.483175081697901, 4.4831304312339375, 4.4830861021365935, 4.4830420920928695, 4.482998398806412, 4.482955019997397, 4.48291195340241, 4.482869196774325, 4.482826747882192, 4.4827846045111155, 4.4827427644621425, 4.482701225552148, 4.482659985613717, 4.4826190424950365, 4.4825783940597805, 4.482538038186998, 4.482497972771005, 4.482458195721271, 4.4824187049623125, 4.482379498433586, 4.482340574089374, 4.482301929898689, 4.482263563845156, 4.482225473926914, 4.482187658156512, 4.482150114560802, 4.482112841180838, 4.482075836071771, 4.482039097302755, 4.482002622956837, 4.481966411130861, 4.481930459935368, 4.481894767494503, 4.481859331945907, 4.48182415144063, 4.481789224143023, 4.481754548230655, 4.4817201218942095, 4.481685943337393, 4.481652010776837, 4.481618322442012, 4.481584876575135, 4.481551671431066, 4.4815187052772325, 4.48148597639353, 4.481453483072232, 4.481421223617906, 4.481389196347322, 4.481357399589361, 4.481325831684938, 4.481294490986905, 4.481263375859967, 4.481232484680606, 4.481201815836984, 4.481171367728863, 4.481141138767525, 4.481111127375687, 4.481081331987417, 4.481051751048053, 4.481022383014126, 4.48099322635327, 4.480964279544153, 4.480935541076392, 4.480907009450473, 4.480878683177674, 4.480850560779992, 4.480822640790058, 4.480794921751065, 4.480767402216693, 4.480740080751028, 4.480712955928494, 4.4806860263337756, 4.480659290561742, 4.480632747217374, 4.480606394915701, 4.480580232281711, 4.480554257950291, 4.480528470566161, 4.480502868783783, 4.480477451267313, 4.480452216690516, 4.480427163736707, 4.480402291098673, 4.480377597478613, 4.480353081588064, 4.480328742147841, 4.480304577887963, 4.480280587547584, 4.480256769874945, 4.480233123627286, 4.480209647570795, 4.480186340480542, 4.480163201140412, 4.480140228343041, 4.480117420889758, 4.480094777590517, 4.480072297263838, 4.480049978736745, 4.480027820844704, 4.48000582243156, 4.479983982349487, 4.479962299458911, 4.479940772628466, 4.479919400734926, 4.479898182663152, 4.479877117306026, 4.479856203564405, 4.479835440347053, 4.479814826570586, 4.479794361159426, 4.479774043045726, 4.479753871169331, 4.479733844477714, 4.479713961925924, 4.479694222476531, 4.479674625099574, 4.479655168772499, 4.4796358524801185, 4.479616675214549, 4.47959763597516, 4.4795787337685224, 4.479559967608361, 4.479541336515496, 4.479522839517793, 4.479504475650122, 4.479486243954294, 4.479468143479014, 4.479450173279841, 4.479432332419124, 4.479414619965968, 4.479397034996171, 4.479379576592186, 4.479362243843075, 4.479345035844444, 4.479327951698421, 4.479310990513589, 4.479294151404949, 4.479277433493872, 4.479260835908052, 4.479244357781462, 4.479227998254308, 4.479211756472983, 4.479195631590026, 4.479179622764073, 4.479163729159819, 4.479147949947968, 4.479132284305192, 4.479116731414092, 4.479101290463152, 4.479085960646696, 4.479070741164841, 4.4790556312234715, 4.479040630034181, 4.479025736814238, 4.479010950786544, 4.4789962711796, 4.478981697227449, 4.478967228169658, 4.478952863251258, 4.478938601722719, 4.4789244428399035, 4.478910385864032, 4.478896430061639, 4.478882574704542, 4.478868819069796, 4.478855162439662, 4.478841604101564, 4.478828143348058, 4.478814779476789, 4.478801511790458, 4.478788339596786, 4.478775262208474, 4.478762278943172, 4.478749389123441, 4.478736592076715, 4.478723887135275, 4.478711273636199, 4.478698750921343, 4.4786863183373, 4.47867397523536, 4.478661720971488, 4.478649554906282, 4.478637476404941, 4.478625484837236, 4.478613579577471, 4.478601760004454, 4.4785900255014655, 4.478578375456223, 4.478566809260851, 4.4785553263118505, 4.478543926010066, 4.478532607760652, 4.478521370973046, 4.478510215060936, 4.478499139442231, 4.478488143539028, 4.478477226777583, 4.4784663885882825, 4.478455628405614, 4.47844494566813, 4.478434339818432, 4.478423810303126, 4.478413356572803, 4.4784029780820145, 4.478392674289227, 4.478382444656812, 4.478372288651009, 4.478362205741901, 4.478352195403377, 4.478342257113124, 4.47833239035258, 4.4783225946069205, 4.478312869365021, 4.478303214119441, 4.478293628366389, 4.478284111605702, 4.478274663340812, 4.4782652830787315, 4.478255970330016, 4.478246724608748, 4.478237545432501, 4.47822843232233, 4.4782193848027285, 4.478210402401617, 4.478201484650312, 4.4781926310835045, 4.478183841239235, 4.478175114658864, 4.478166450887061, 4.478157849471767, 4.478149309964177, 4.478140831918719, 4.478132414893026, 4.478124058447914, 4.478115762147364, 4.478107525558487, 4.4780993482515195, 4.478091229799787, 4.478083169779684, 4.4780751677706565, 4.478067223355174, 4.478059336118717, 4.478051505649743, 4.478043731539676, 4.47803601338288, 4.478028350776635, 4.478020743321126]}],\n",
       "                        {\"height\": 500, \"template\": {\"data\": {\"bar\": [{\"error_x\": {\"color\": \"#2a3f5f\"}, \"error_y\": {\"color\": \"#2a3f5f\"}, \"marker\": {\"line\": {\"color\": \"#E5ECF6\", \"width\": 0.5}}, \"type\": \"bar\"}], \"barpolar\": [{\"marker\": {\"line\": {\"color\": \"#E5ECF6\", \"width\": 0.5}}, \"type\": \"barpolar\"}], \"carpet\": [{\"aaxis\": {\"endlinecolor\": \"#2a3f5f\", \"gridcolor\": \"white\", \"linecolor\": \"white\", \"minorgridcolor\": \"white\", \"startlinecolor\": \"#2a3f5f\"}, \"baxis\": {\"endlinecolor\": \"#2a3f5f\", \"gridcolor\": \"white\", \"linecolor\": \"white\", \"minorgridcolor\": \"white\", \"startlinecolor\": \"#2a3f5f\"}, \"type\": \"carpet\"}], \"choropleth\": [{\"colorbar\": {\"outlinewidth\": 0, \"ticks\": \"\"}, \"type\": \"choropleth\"}], \"contour\": [{\"colorbar\": {\"outlinewidth\": 0, \"ticks\": \"\"}, \"colorscale\": [[0.0, \"#0d0887\"], [0.1111111111111111, \"#46039f\"], [0.2222222222222222, \"#7201a8\"], [0.3333333333333333, \"#9c179e\"], [0.4444444444444444, \"#bd3786\"], [0.5555555555555556, \"#d8576b\"], [0.6666666666666666, \"#ed7953\"], [0.7777777777777778, \"#fb9f3a\"], [0.8888888888888888, \"#fdca26\"], [1.0, \"#f0f921\"]], \"type\": \"contour\"}], \"contourcarpet\": [{\"colorbar\": {\"outlinewidth\": 0, \"ticks\": \"\"}, \"type\": \"contourcarpet\"}], \"heatmap\": [{\"colorbar\": {\"outlinewidth\": 0, \"ticks\": \"\"}, \"colorscale\": [[0.0, \"#0d0887\"], [0.1111111111111111, \"#46039f\"], [0.2222222222222222, \"#7201a8\"], [0.3333333333333333, \"#9c179e\"], [0.4444444444444444, \"#bd3786\"], [0.5555555555555556, \"#d8576b\"], [0.6666666666666666, \"#ed7953\"], [0.7777777777777778, \"#fb9f3a\"], [0.8888888888888888, \"#fdca26\"], [1.0, \"#f0f921\"]], \"type\": \"heatmap\"}], \"heatmapgl\": [{\"colorbar\": {\"outlinewidth\": 0, \"ticks\": \"\"}, \"colorscale\": [[0.0, \"#0d0887\"], [0.1111111111111111, \"#46039f\"], [0.2222222222222222, \"#7201a8\"], [0.3333333333333333, \"#9c179e\"], [0.4444444444444444, \"#bd3786\"], [0.5555555555555556, \"#d8576b\"], [0.6666666666666666, \"#ed7953\"], [0.7777777777777778, \"#fb9f3a\"], [0.8888888888888888, \"#fdca26\"], [1.0, \"#f0f921\"]], \"type\": \"heatmapgl\"}], \"histogram\": [{\"marker\": {\"colorbar\": {\"outlinewidth\": 0, \"ticks\": \"\"}}, \"type\": \"histogram\"}], \"histogram2d\": [{\"colorbar\": {\"outlinewidth\": 0, \"ticks\": \"\"}, \"colorscale\": [[0.0, \"#0d0887\"], [0.1111111111111111, \"#46039f\"], [0.2222222222222222, \"#7201a8\"], [0.3333333333333333, \"#9c179e\"], [0.4444444444444444, \"#bd3786\"], [0.5555555555555556, \"#d8576b\"], [0.6666666666666666, \"#ed7953\"], [0.7777777777777778, \"#fb9f3a\"], [0.8888888888888888, \"#fdca26\"], [1.0, \"#f0f921\"]], \"type\": \"histogram2d\"}], \"histogram2dcontour\": [{\"colorbar\": {\"outlinewidth\": 0, \"ticks\": \"\"}, \"colorscale\": [[0.0, \"#0d0887\"], [0.1111111111111111, \"#46039f\"], [0.2222222222222222, \"#7201a8\"], [0.3333333333333333, \"#9c179e\"], [0.4444444444444444, \"#bd3786\"], [0.5555555555555556, \"#d8576b\"], [0.6666666666666666, \"#ed7953\"], [0.7777777777777778, \"#fb9f3a\"], [0.8888888888888888, \"#fdca26\"], [1.0, \"#f0f921\"]], \"type\": \"histogram2dcontour\"}], \"mesh3d\": [{\"colorbar\": {\"outlinewidth\": 0, \"ticks\": \"\"}, \"type\": \"mesh3d\"}], \"parcoords\": [{\"line\": {\"colorbar\": {\"outlinewidth\": 0, \"ticks\": \"\"}}, \"type\": \"parcoords\"}], \"pie\": [{\"automargin\": true, \"type\": \"pie\"}], \"scatter\": [{\"marker\": {\"colorbar\": {\"outlinewidth\": 0, \"ticks\": \"\"}}, \"type\": \"scatter\"}], \"scatter3d\": [{\"line\": {\"colorbar\": {\"outlinewidth\": 0, \"ticks\": \"\"}}, \"marker\": {\"colorbar\": {\"outlinewidth\": 0, \"ticks\": \"\"}}, \"type\": \"scatter3d\"}], \"scattercarpet\": [{\"marker\": {\"colorbar\": {\"outlinewidth\": 0, \"ticks\": \"\"}}, \"type\": \"scattercarpet\"}], \"scattergeo\": [{\"marker\": {\"colorbar\": {\"outlinewidth\": 0, \"ticks\": \"\"}}, \"type\": \"scattergeo\"}], \"scattergl\": [{\"marker\": {\"colorbar\": {\"outlinewidth\": 0, \"ticks\": \"\"}}, \"type\": \"scattergl\"}], \"scattermapbox\": [{\"marker\": {\"colorbar\": {\"outlinewidth\": 0, \"ticks\": \"\"}}, \"type\": \"scattermapbox\"}], \"scatterpolar\": [{\"marker\": {\"colorbar\": {\"outlinewidth\": 0, \"ticks\": \"\"}}, \"type\": \"scatterpolar\"}], \"scatterpolargl\": [{\"marker\": {\"colorbar\": {\"outlinewidth\": 0, \"ticks\": \"\"}}, \"type\": \"scatterpolargl\"}], \"scatterternary\": [{\"marker\": {\"colorbar\": {\"outlinewidth\": 0, \"ticks\": \"\"}}, \"type\": \"scatterternary\"}], \"surface\": [{\"colorbar\": {\"outlinewidth\": 0, \"ticks\": \"\"}, \"colorscale\": [[0.0, \"#0d0887\"], [0.1111111111111111, \"#46039f\"], [0.2222222222222222, \"#7201a8\"], [0.3333333333333333, \"#9c179e\"], [0.4444444444444444, \"#bd3786\"], [0.5555555555555556, \"#d8576b\"], [0.6666666666666666, \"#ed7953\"], [0.7777777777777778, \"#fb9f3a\"], [0.8888888888888888, \"#fdca26\"], [1.0, \"#f0f921\"]], \"type\": \"surface\"}], \"table\": [{\"cells\": {\"fill\": {\"color\": \"#EBF0F8\"}, \"line\": {\"color\": \"white\"}}, \"header\": {\"fill\": {\"color\": \"#C8D4E3\"}, \"line\": {\"color\": \"white\"}}, \"type\": \"table\"}]}, \"layout\": {\"annotationdefaults\": {\"arrowcolor\": \"#2a3f5f\", \"arrowhead\": 0, \"arrowwidth\": 1}, \"coloraxis\": {\"colorbar\": {\"outlinewidth\": 0, \"ticks\": \"\"}}, \"colorscale\": {\"diverging\": [[0, \"#8e0152\"], [0.1, \"#c51b7d\"], [0.2, \"#de77ae\"], [0.3, \"#f1b6da\"], [0.4, \"#fde0ef\"], [0.5, \"#f7f7f7\"], [0.6, \"#e6f5d0\"], [0.7, \"#b8e186\"], [0.8, \"#7fbc41\"], [0.9, \"#4d9221\"], [1, \"#276419\"]], \"sequential\": [[0.0, \"#0d0887\"], [0.1111111111111111, \"#46039f\"], [0.2222222222222222, \"#7201a8\"], [0.3333333333333333, \"#9c179e\"], [0.4444444444444444, \"#bd3786\"], [0.5555555555555556, \"#d8576b\"], [0.6666666666666666, \"#ed7953\"], [0.7777777777777778, \"#fb9f3a\"], [0.8888888888888888, \"#fdca26\"], [1.0, \"#f0f921\"]], \"sequentialminus\": [[0.0, \"#0d0887\"], [0.1111111111111111, \"#46039f\"], [0.2222222222222222, \"#7201a8\"], [0.3333333333333333, \"#9c179e\"], [0.4444444444444444, \"#bd3786\"], [0.5555555555555556, \"#d8576b\"], [0.6666666666666666, \"#ed7953\"], [0.7777777777777778, \"#fb9f3a\"], [0.8888888888888888, \"#fdca26\"], [1.0, \"#f0f921\"]]}, \"colorway\": [\"#636efa\", \"#EF553B\", \"#00cc96\", \"#ab63fa\", \"#FFA15A\", \"#19d3f3\", \"#FF6692\", \"#B6E880\", \"#FF97FF\", \"#FECB52\"], \"font\": {\"color\": \"#2a3f5f\"}, \"geo\": {\"bgcolor\": \"white\", \"lakecolor\": \"white\", \"landcolor\": \"#E5ECF6\", \"showlakes\": true, \"showland\": true, \"subunitcolor\": \"white\"}, \"hoverlabel\": {\"align\": \"left\"}, \"hovermode\": \"closest\", \"mapbox\": {\"style\": \"light\"}, \"paper_bgcolor\": \"white\", \"plot_bgcolor\": \"#E5ECF6\", \"polar\": {\"angularaxis\": {\"gridcolor\": \"white\", \"linecolor\": \"white\", \"ticks\": \"\"}, \"bgcolor\": \"#E5ECF6\", \"radialaxis\": {\"gridcolor\": \"white\", \"linecolor\": \"white\", \"ticks\": \"\"}}, \"scene\": {\"xaxis\": {\"backgroundcolor\": \"#E5ECF6\", \"gridcolor\": \"white\", \"gridwidth\": 2, \"linecolor\": \"white\", \"showbackground\": true, \"ticks\": \"\", \"zerolinecolor\": \"white\"}, \"yaxis\": {\"backgroundcolor\": \"#E5ECF6\", \"gridcolor\": \"white\", \"gridwidth\": 2, \"linecolor\": \"white\", \"showbackground\": true, \"ticks\": \"\", \"zerolinecolor\": \"white\"}, \"zaxis\": {\"backgroundcolor\": \"#E5ECF6\", \"gridcolor\": \"white\", \"gridwidth\": 2, \"linecolor\": \"white\", \"showbackground\": true, \"ticks\": \"\", \"zerolinecolor\": \"white\"}}, \"shapedefaults\": {\"line\": {\"color\": \"#2a3f5f\"}}, \"ternary\": {\"aaxis\": {\"gridcolor\": \"white\", \"linecolor\": \"white\", \"ticks\": \"\"}, \"baxis\": {\"gridcolor\": \"white\", \"linecolor\": \"white\", \"ticks\": \"\"}, \"bgcolor\": \"#E5ECF6\", \"caxis\": {\"gridcolor\": \"white\", \"linecolor\": \"white\", \"ticks\": \"\"}}, \"title\": {\"x\": 0.05}, \"xaxis\": {\"automargin\": true, \"gridcolor\": \"white\", \"linecolor\": \"white\", \"ticks\": \"\", \"title\": {\"standoff\": 15}, \"zerolinecolor\": \"white\", \"zerolinewidth\": 2}, \"yaxis\": {\"automargin\": true, \"gridcolor\": \"white\", \"linecolor\": \"white\", \"ticks\": \"\", \"title\": {\"standoff\": 15}, \"zerolinecolor\": \"white\", \"zerolinewidth\": 2}}}, \"title\": {\"text\": \"\\u4ee3\\u4ef7\\u6570\\u636e\\u53ef\\u89c6\\u5316\"}, \"width\": 500, \"xaxis\": {\"title\": {\"text\": \"\\u8fed\\u4ee3\\u6b21\\u6570\"}}, \"yaxis\": {\"title\": {\"text\": \"\\u4ee3\\u4ef7\\u51fd\\u6570\"}}},\n",
       "                        {\"showLink\": true, \"linkText\": \"Export to plot.ly\", \"plotlyServerURL\": \"https://plot.ly\", \"responsive\": true}\n",
       "                    ).then(function(){\n",
       "                            \n",
       "var gd = document.getElementById('36c6efea-2c60-4f34-86b6-7d81b54174b6');\n",
       "var x = new MutationObserver(function (mutations, observer) {{\n",
       "        var display = window.getComputedStyle(gd).display;\n",
       "        if (!display || display === 'none') {{\n",
       "            console.log([gd, 'removed!']);\n",
       "            Plotly.purge(gd);\n",
       "            observer.disconnect();\n",
       "        }}\n",
       "}});\n",
       "\n",
       "// Listen for the removal of the full notebook cells\n",
       "var notebookContainer = gd.closest('#notebook-container');\n",
       "if (notebookContainer) {{\n",
       "    x.observe(notebookContainer, {childList: true});\n",
       "}}\n",
       "\n",
       "// Listen for the clearing of the current output cell\n",
       "var outputEl = gd.closest('.output');\n",
       "if (outputEl) {{\n",
       "    x.observe(outputEl, {childList: true});\n",
       "}}\n",
       "\n",
       "                        })\n",
       "                };\n",
       "                });\n",
       "            </script>\n",
       "        </div>"
      ]
     },
     "metadata": {},
     "output_type": "display_data"
    }
   ],
   "source": [
    "cost=pd.DataFrame(gradientDescent(X, y, theta, alpha, iters)[1])\n",
    "cost.iplot(mode='lines',\n",
    "           layout=dict(height=500,width=500,xaxis=dict(title='迭代次数'),\n",
    "                       yaxis=dict(title='代价函数'),title='代价数据可视化'))"
   ]
  },
  {
   "cell_type": "markdown",
   "metadata": {},
   "source": [
    "* 从图中可以看出，前5次迭代，代价垂直下降。\n",
    "* 迭代次数超过200次之后，代价曲线趋于平缓。"
   ]
  },
  {
   "cell_type": "markdown",
   "metadata": {},
   "source": [
    "## 7）输出最终回归预测"
   ]
  },
  {
   "cell_type": "code",
   "execution_count": 17,
   "metadata": {},
   "outputs": [
    {
     "data": {
      "application/vnd.plotly.v1+json": {
       "config": {
        "linkText": "Export to plot.ly",
        "plotlyServerURL": "https://plot.ly",
        "showLink": false
       },
       "data": [
        {
         "mode": "markers",
         "name": "profit",
         "type": "scatter",
         "x": [
          6.1101,
          5.5277,
          8.5186,
          7.0032,
          5.8598,
          8.3829,
          7.4764,
          8.5781,
          6.4862,
          5.0546,
          5.7107,
          14.164000000000001,
          5.734,
          8.4084,
          5.6407,
          5.3794,
          6.3654,
          5.1301,
          6.4296,
          7.0708,
          6.1891,
          20.27,
          5.4901,
          6.3261,
          5.5649,
          18.945,
          12.828,
          10.957,
          13.175999999999998,
          22.203000000000003,
          5.2524,
          6.5894,
          9.2482,
          5.8918,
          8.2111,
          7.9334,
          8.0959,
          5.6063,
          12.835999999999999,
          6.3534,
          5.4069,
          6.8825,
          11.708,
          5.7737,
          7.8247,
          7.0931,
          5.0702,
          5.8014,
          11.7,
          5.5416,
          7.5402,
          5.3077,
          7.4239,
          7.6031,
          6.3328,
          6.3589,
          6.2742,
          5.6397,
          9.3102,
          9.4536,
          8.8254,
          5.1793,
          21.279,
          14.908,
          18.959,
          7.2182,
          8.2951,
          10.236,
          5.4994,
          20.340999999999998,
          10.136000000000001,
          7.3345,
          6.0062,
          7.2259,
          5.0269,
          6.5479,
          7.5386,
          5.0365,
          10.274000000000001,
          5.1077,
          5.7292,
          5.1884,
          6.3557,
          9.7687,
          6.5159,
          8.5172,
          9.1802,
          6.002000000000001,
          5.5204,
          5.0594,
          5.7077,
          7.6366,
          5.8707,
          5.3054,
          8.2934,
          13.394,
          5.4369
         ],
         "y": [
          17.592,
          9.1302,
          13.662,
          11.854000000000001,
          6.8233,
          11.886,
          4.3483,
          12,
          6.5987,
          3.8166,
          3.2522,
          15.505,
          3.1551,
          7.2258,
          0.71618,
          3.5129,
          5.3048,
          0.56077,
          3.6518,
          5.3893,
          3.1386,
          21.767,
          4.263,
          5.1875,
          3.0825,
          22.638,
          13.501,
          7.0467,
          14.692,
          24.147,
          -1.22,
          5.9966,
          12.134,
          1.8495,
          6.5426,
          4.5623,
          4.1164,
          3.3928,
          10.117,
          5.4974,
          0.55657,
          3.9115,
          5.3854,
          2.4406,
          6.7318,
          1.0463,
          5.1337,
          1.844,
          8.0043,
          1.0179,
          6.7504,
          1.8396,
          4.2885,
          4.9981,
          1.4233,
          -1.4211,
          2.4756,
          4.6042,
          3.9624,
          5.4141,
          5.1694,
          -0.74279,
          17.929000000000002,
          12.054,
          17.054000000000002,
          4.8852,
          5.7442,
          7.7754,
          1.0173,
          20.991999999999997,
          6.6799,
          4.0259,
          1.2784,
          3.3411,
          -2.6807,
          0.29678000000000004,
          3.8845,
          5.7014,
          6.7526,
          2.0576,
          0.47953,
          0.20421,
          0.67861,
          7.5435,
          5.3436,
          4.2415,
          6.7981,
          0.92695,
          0.152,
          2.8214,
          1.8451,
          4.2959,
          7.2029,
          1.9869,
          0.14454,
          9.0551,
          0.61705
         ]
        },
        {
         "mode": "lines",
         "name": "prediction",
         "type": "scatter",
         "x": [
          6.1101,
          5.5277,
          8.5186,
          7.0032,
          5.8598,
          8.3829,
          7.4764,
          8.5781,
          6.4862,
          5.0546,
          5.7107,
          14.164000000000001,
          5.734,
          8.4084,
          5.6407,
          5.3794,
          6.3654,
          5.1301,
          6.4296,
          7.0708,
          6.1891,
          20.27,
          5.4901,
          6.3261,
          5.5649,
          18.945,
          12.828,
          10.957,
          13.175999999999998,
          22.203000000000003,
          5.2524,
          6.5894,
          9.2482,
          5.8918,
          8.2111,
          7.9334,
          8.0959,
          5.6063,
          12.835999999999999,
          6.3534,
          5.4069,
          6.8825,
          11.708,
          5.7737,
          7.8247,
          7.0931,
          5.0702,
          5.8014,
          11.7,
          5.5416,
          7.5402,
          5.3077,
          7.4239,
          7.6031,
          6.3328,
          6.3589,
          6.2742,
          5.6397,
          9.3102,
          9.4536,
          8.8254,
          5.1793,
          21.279,
          14.908,
          18.959,
          7.2182,
          8.2951,
          10.236,
          5.4994,
          20.340999999999998,
          10.136000000000001,
          7.3345,
          6.0062,
          7.2259,
          5.0269,
          6.5479,
          7.5386,
          5.0365,
          10.274000000000001,
          5.1077,
          5.7292,
          5.1884,
          6.3557,
          9.7687,
          6.5159,
          8.5172,
          9.1802,
          6.002000000000001,
          5.5204,
          5.0594,
          5.7077,
          7.6366,
          5.8707,
          5.3054,
          8.2934,
          13.394,
          5.4369
         ],
         "y": [
          3.435234275351374,
          2.746693037091436,
          6.282678596005667,
          4.491099968843734,
          3.1393175996362936,
          6.122247541692698,
          5.0505397249299335,
          6.3530223523182805,
          3.8798777501274087,
          2.1873715058057606,
          2.9630444220529206,
          12.956941484866684,
          2.9905908005753385,
          6.152394865826675,
          2.880287061685139,
          2.5713656579122652,
          3.7370621910927238,
          2.2766312302024385,
          3.8129625130300315,
          4.571019933998906,
          3.5286318677664408,
          20.175747804947697,
          2.7022405120938844,
          3.6905998444862416,
          2.7906726628868848,
          18.60926919798613,
          11.37745814984732,
          9.165472132017058,
          11.788880455675715,
          22.46103319910371,
          2.421220161245005,
          4.001885744269623,
          7.1452467406389975,
          3.177149535804422,
          5.919137334390058,
          5.590827063331018,
          5.782942364184796,
          2.8396177303044015,
          11.38691613388935,
          3.722875215029675,
          2.6038774780567504,
          4.348402634609576,
          10.053340383962823,
          3.037526046383923,
          5.462316705159907,
          4.597384064516071,
          2.2058145746877234,
          3.07027431612946,
          10.04388239992079,
          2.763126284364466,
          5.12596714766514,
          2.486598475935552,
          4.988471704654097,
          5.200330547195618,
          3.698520906121442,
          3.729377579058573,
          3.6292411730135576,
          2.879104813679886,
          7.218546116964747,
          7.3880804809181715,
          6.6453922840176,
          2.3347978320609366,
          21.368636042249,
          13.83653400077567,
          18.62582067005968,
          4.745283289973347,
          6.018446166831396,
          8.313071320228914,
          2.7132354185427463,
          20.259687413320727,
          8.194846519703512,
          4.88277873298439,
          3.312398707605481,
          4.754386599613804,
          2.1546232360602255,
          3.9528224520515813,
          5.124075550856734,
          2.1659728169106636,
          8.357996744428567,
          2.25014887488475,
          2.984916010150119,
          2.345556288908748,
          3.7255943854417595,
          7.760606827373714,
          3.914990515883453,
          6.281023448798313,
          7.064853876281724,
          3.3074332659834154,
          2.7380626266530816,
          2.193046296230981,
          2.959497678037158,
          5.239935855371627,
          3.1522041028935632,
          2.483879305523468,
          6.0164363452224645,
          12.046610520821092,
          2.6393449182143707
         ]
        }
       ],
       "layout": {
        "height": 500,
        "template": {
         "data": {
          "bar": [
           {
            "error_x": {
             "color": "#2a3f5f"
            },
            "error_y": {
             "color": "#2a3f5f"
            },
            "marker": {
             "line": {
              "color": "#E5ECF6",
              "width": 0.5
             }
            },
            "type": "bar"
           }
          ],
          "barpolar": [
           {
            "marker": {
             "line": {
              "color": "#E5ECF6",
              "width": 0.5
             }
            },
            "type": "barpolar"
           }
          ],
          "carpet": [
           {
            "aaxis": {
             "endlinecolor": "#2a3f5f",
             "gridcolor": "white",
             "linecolor": "white",
             "minorgridcolor": "white",
             "startlinecolor": "#2a3f5f"
            },
            "baxis": {
             "endlinecolor": "#2a3f5f",
             "gridcolor": "white",
             "linecolor": "white",
             "minorgridcolor": "white",
             "startlinecolor": "#2a3f5f"
            },
            "type": "carpet"
           }
          ],
          "choropleth": [
           {
            "colorbar": {
             "outlinewidth": 0,
             "ticks": ""
            },
            "type": "choropleth"
           }
          ],
          "contour": [
           {
            "colorbar": {
             "outlinewidth": 0,
             "ticks": ""
            },
            "colorscale": [
             [
              0,
              "#0d0887"
             ],
             [
              0.1111111111111111,
              "#46039f"
             ],
             [
              0.2222222222222222,
              "#7201a8"
             ],
             [
              0.3333333333333333,
              "#9c179e"
             ],
             [
              0.4444444444444444,
              "#bd3786"
             ],
             [
              0.5555555555555556,
              "#d8576b"
             ],
             [
              0.6666666666666666,
              "#ed7953"
             ],
             [
              0.7777777777777778,
              "#fb9f3a"
             ],
             [
              0.8888888888888888,
              "#fdca26"
             ],
             [
              1,
              "#f0f921"
             ]
            ],
            "type": "contour"
           }
          ],
          "contourcarpet": [
           {
            "colorbar": {
             "outlinewidth": 0,
             "ticks": ""
            },
            "type": "contourcarpet"
           }
          ],
          "heatmap": [
           {
            "colorbar": {
             "outlinewidth": 0,
             "ticks": ""
            },
            "colorscale": [
             [
              0,
              "#0d0887"
             ],
             [
              0.1111111111111111,
              "#46039f"
             ],
             [
              0.2222222222222222,
              "#7201a8"
             ],
             [
              0.3333333333333333,
              "#9c179e"
             ],
             [
              0.4444444444444444,
              "#bd3786"
             ],
             [
              0.5555555555555556,
              "#d8576b"
             ],
             [
              0.6666666666666666,
              "#ed7953"
             ],
             [
              0.7777777777777778,
              "#fb9f3a"
             ],
             [
              0.8888888888888888,
              "#fdca26"
             ],
             [
              1,
              "#f0f921"
             ]
            ],
            "type": "heatmap"
           }
          ],
          "heatmapgl": [
           {
            "colorbar": {
             "outlinewidth": 0,
             "ticks": ""
            },
            "colorscale": [
             [
              0,
              "#0d0887"
             ],
             [
              0.1111111111111111,
              "#46039f"
             ],
             [
              0.2222222222222222,
              "#7201a8"
             ],
             [
              0.3333333333333333,
              "#9c179e"
             ],
             [
              0.4444444444444444,
              "#bd3786"
             ],
             [
              0.5555555555555556,
              "#d8576b"
             ],
             [
              0.6666666666666666,
              "#ed7953"
             ],
             [
              0.7777777777777778,
              "#fb9f3a"
             ],
             [
              0.8888888888888888,
              "#fdca26"
             ],
             [
              1,
              "#f0f921"
             ]
            ],
            "type": "heatmapgl"
           }
          ],
          "histogram": [
           {
            "marker": {
             "colorbar": {
              "outlinewidth": 0,
              "ticks": ""
             }
            },
            "type": "histogram"
           }
          ],
          "histogram2d": [
           {
            "colorbar": {
             "outlinewidth": 0,
             "ticks": ""
            },
            "colorscale": [
             [
              0,
              "#0d0887"
             ],
             [
              0.1111111111111111,
              "#46039f"
             ],
             [
              0.2222222222222222,
              "#7201a8"
             ],
             [
              0.3333333333333333,
              "#9c179e"
             ],
             [
              0.4444444444444444,
              "#bd3786"
             ],
             [
              0.5555555555555556,
              "#d8576b"
             ],
             [
              0.6666666666666666,
              "#ed7953"
             ],
             [
              0.7777777777777778,
              "#fb9f3a"
             ],
             [
              0.8888888888888888,
              "#fdca26"
             ],
             [
              1,
              "#f0f921"
             ]
            ],
            "type": "histogram2d"
           }
          ],
          "histogram2dcontour": [
           {
            "colorbar": {
             "outlinewidth": 0,
             "ticks": ""
            },
            "colorscale": [
             [
              0,
              "#0d0887"
             ],
             [
              0.1111111111111111,
              "#46039f"
             ],
             [
              0.2222222222222222,
              "#7201a8"
             ],
             [
              0.3333333333333333,
              "#9c179e"
             ],
             [
              0.4444444444444444,
              "#bd3786"
             ],
             [
              0.5555555555555556,
              "#d8576b"
             ],
             [
              0.6666666666666666,
              "#ed7953"
             ],
             [
              0.7777777777777778,
              "#fb9f3a"
             ],
             [
              0.8888888888888888,
              "#fdca26"
             ],
             [
              1,
              "#f0f921"
             ]
            ],
            "type": "histogram2dcontour"
           }
          ],
          "mesh3d": [
           {
            "colorbar": {
             "outlinewidth": 0,
             "ticks": ""
            },
            "type": "mesh3d"
           }
          ],
          "parcoords": [
           {
            "line": {
             "colorbar": {
              "outlinewidth": 0,
              "ticks": ""
             }
            },
            "type": "parcoords"
           }
          ],
          "pie": [
           {
            "automargin": true,
            "type": "pie"
           }
          ],
          "scatter": [
           {
            "marker": {
             "colorbar": {
              "outlinewidth": 0,
              "ticks": ""
             }
            },
            "type": "scatter"
           }
          ],
          "scatter3d": [
           {
            "line": {
             "colorbar": {
              "outlinewidth": 0,
              "ticks": ""
             }
            },
            "marker": {
             "colorbar": {
              "outlinewidth": 0,
              "ticks": ""
             }
            },
            "type": "scatter3d"
           }
          ],
          "scattercarpet": [
           {
            "marker": {
             "colorbar": {
              "outlinewidth": 0,
              "ticks": ""
             }
            },
            "type": "scattercarpet"
           }
          ],
          "scattergeo": [
           {
            "marker": {
             "colorbar": {
              "outlinewidth": 0,
              "ticks": ""
             }
            },
            "type": "scattergeo"
           }
          ],
          "scattergl": [
           {
            "marker": {
             "colorbar": {
              "outlinewidth": 0,
              "ticks": ""
             }
            },
            "type": "scattergl"
           }
          ],
          "scattermapbox": [
           {
            "marker": {
             "colorbar": {
              "outlinewidth": 0,
              "ticks": ""
             }
            },
            "type": "scattermapbox"
           }
          ],
          "scatterpolar": [
           {
            "marker": {
             "colorbar": {
              "outlinewidth": 0,
              "ticks": ""
             }
            },
            "type": "scatterpolar"
           }
          ],
          "scatterpolargl": [
           {
            "marker": {
             "colorbar": {
              "outlinewidth": 0,
              "ticks": ""
             }
            },
            "type": "scatterpolargl"
           }
          ],
          "scatterternary": [
           {
            "marker": {
             "colorbar": {
              "outlinewidth": 0,
              "ticks": ""
             }
            },
            "type": "scatterternary"
           }
          ],
          "surface": [
           {
            "colorbar": {
             "outlinewidth": 0,
             "ticks": ""
            },
            "colorscale": [
             [
              0,
              "#0d0887"
             ],
             [
              0.1111111111111111,
              "#46039f"
             ],
             [
              0.2222222222222222,
              "#7201a8"
             ],
             [
              0.3333333333333333,
              "#9c179e"
             ],
             [
              0.4444444444444444,
              "#bd3786"
             ],
             [
              0.5555555555555556,
              "#d8576b"
             ],
             [
              0.6666666666666666,
              "#ed7953"
             ],
             [
              0.7777777777777778,
              "#fb9f3a"
             ],
             [
              0.8888888888888888,
              "#fdca26"
             ],
             [
              1,
              "#f0f921"
             ]
            ],
            "type": "surface"
           }
          ],
          "table": [
           {
            "cells": {
             "fill": {
              "color": "#EBF0F8"
             },
             "line": {
              "color": "white"
             }
            },
            "header": {
             "fill": {
              "color": "#C8D4E3"
             },
             "line": {
              "color": "white"
             }
            },
            "type": "table"
           }
          ]
         },
         "layout": {
          "annotationdefaults": {
           "arrowcolor": "#2a3f5f",
           "arrowhead": 0,
           "arrowwidth": 1
          },
          "coloraxis": {
           "colorbar": {
            "outlinewidth": 0,
            "ticks": ""
           }
          },
          "colorscale": {
           "diverging": [
            [
             0,
             "#8e0152"
            ],
            [
             0.1,
             "#c51b7d"
            ],
            [
             0.2,
             "#de77ae"
            ],
            [
             0.3,
             "#f1b6da"
            ],
            [
             0.4,
             "#fde0ef"
            ],
            [
             0.5,
             "#f7f7f7"
            ],
            [
             0.6,
             "#e6f5d0"
            ],
            [
             0.7,
             "#b8e186"
            ],
            [
             0.8,
             "#7fbc41"
            ],
            [
             0.9,
             "#4d9221"
            ],
            [
             1,
             "#276419"
            ]
           ],
           "sequential": [
            [
             0,
             "#0d0887"
            ],
            [
             0.1111111111111111,
             "#46039f"
            ],
            [
             0.2222222222222222,
             "#7201a8"
            ],
            [
             0.3333333333333333,
             "#9c179e"
            ],
            [
             0.4444444444444444,
             "#bd3786"
            ],
            [
             0.5555555555555556,
             "#d8576b"
            ],
            [
             0.6666666666666666,
             "#ed7953"
            ],
            [
             0.7777777777777778,
             "#fb9f3a"
            ],
            [
             0.8888888888888888,
             "#fdca26"
            ],
            [
             1,
             "#f0f921"
            ]
           ],
           "sequentialminus": [
            [
             0,
             "#0d0887"
            ],
            [
             0.1111111111111111,
             "#46039f"
            ],
            [
             0.2222222222222222,
             "#7201a8"
            ],
            [
             0.3333333333333333,
             "#9c179e"
            ],
            [
             0.4444444444444444,
             "#bd3786"
            ],
            [
             0.5555555555555556,
             "#d8576b"
            ],
            [
             0.6666666666666666,
             "#ed7953"
            ],
            [
             0.7777777777777778,
             "#fb9f3a"
            ],
            [
             0.8888888888888888,
             "#fdca26"
            ],
            [
             1,
             "#f0f921"
            ]
           ]
          },
          "colorway": [
           "#636efa",
           "#EF553B",
           "#00cc96",
           "#ab63fa",
           "#FFA15A",
           "#19d3f3",
           "#FF6692",
           "#B6E880",
           "#FF97FF",
           "#FECB52"
          ],
          "font": {
           "color": "#2a3f5f"
          },
          "geo": {
           "bgcolor": "white",
           "lakecolor": "white",
           "landcolor": "#E5ECF6",
           "showlakes": true,
           "showland": true,
           "subunitcolor": "white"
          },
          "hoverlabel": {
           "align": "left"
          },
          "hovermode": "closest",
          "mapbox": {
           "style": "light"
          },
          "paper_bgcolor": "white",
          "plot_bgcolor": "#E5ECF6",
          "polar": {
           "angularaxis": {
            "gridcolor": "white",
            "linecolor": "white",
            "ticks": ""
           },
           "bgcolor": "#E5ECF6",
           "radialaxis": {
            "gridcolor": "white",
            "linecolor": "white",
            "ticks": ""
           }
          },
          "scene": {
           "xaxis": {
            "backgroundcolor": "#E5ECF6",
            "gridcolor": "white",
            "gridwidth": 2,
            "linecolor": "white",
            "showbackground": true,
            "ticks": "",
            "zerolinecolor": "white"
           },
           "yaxis": {
            "backgroundcolor": "#E5ECF6",
            "gridcolor": "white",
            "gridwidth": 2,
            "linecolor": "white",
            "showbackground": true,
            "ticks": "",
            "zerolinecolor": "white"
           },
           "zaxis": {
            "backgroundcolor": "#E5ECF6",
            "gridcolor": "white",
            "gridwidth": 2,
            "linecolor": "white",
            "showbackground": true,
            "ticks": "",
            "zerolinecolor": "white"
           }
          },
          "shapedefaults": {
           "line": {
            "color": "#2a3f5f"
           }
          },
          "ternary": {
           "aaxis": {
            "gridcolor": "white",
            "linecolor": "white",
            "ticks": ""
           },
           "baxis": {
            "gridcolor": "white",
            "linecolor": "white",
            "ticks": ""
           },
           "bgcolor": "#E5ECF6",
           "caxis": {
            "gridcolor": "white",
            "linecolor": "white",
            "ticks": ""
           }
          },
          "title": {
           "x": 0.05
          },
          "xaxis": {
           "automargin": true,
           "gridcolor": "white",
           "linecolor": "white",
           "ticks": "",
           "title": {
            "standoff": 15
           },
           "zerolinecolor": "white",
           "zerolinewidth": 2
          },
          "yaxis": {
           "automargin": true,
           "gridcolor": "white",
           "linecolor": "white",
           "ticks": "",
           "title": {
            "standoff": 15
           },
           "zerolinecolor": "white",
           "zerolinewidth": 2
          }
         }
        },
        "width": 500,
        "xaxis": {
         "title": {
          "text": "城市人口数"
         }
        },
        "yaxis": {
         "title": {
          "text": "快餐车收益"
         }
        }
       }
      },
      "text/html": [
       "<div>\n",
       "        \n",
       "        \n",
       "            <div id=\"a2ba09e3-faae-4063-84b3-792e1765650e\" class=\"plotly-graph-div\" style=\"height:500px; width:500px;\"></div>\n",
       "            <script type=\"text/javascript\">\n",
       "                require([\"plotly\"], function(Plotly) {\n",
       "                    window.PLOTLYENV=window.PLOTLYENV || {};\n",
       "                    \n",
       "                if (document.getElementById(\"a2ba09e3-faae-4063-84b3-792e1765650e\")) {\n",
       "                    Plotly.newPlot(\n",
       "                        'a2ba09e3-faae-4063-84b3-792e1765650e',\n",
       "                        [{\"mode\": \"markers\", \"name\": \"profit\", \"type\": \"scatter\", \"x\": [6.1101, 5.5277, 8.5186, 7.0032, 5.8598, 8.3829, 7.4764, 8.5781, 6.4862, 5.0546, 5.7107, 14.164000000000001, 5.734, 8.4084, 5.6407, 5.3794, 6.3654, 5.1301, 6.4296, 7.0708, 6.1891, 20.27, 5.4901, 6.3261, 5.5649, 18.945, 12.828, 10.957, 13.175999999999998, 22.203000000000003, 5.2524, 6.5894, 9.2482, 5.8918, 8.2111, 7.9334, 8.0959, 5.6063, 12.835999999999999, 6.3534, 5.4069, 6.8825, 11.708, 5.7737, 7.8247, 7.0931, 5.0702, 5.8014, 11.7, 5.5416, 7.5402, 5.3077, 7.4239, 7.6031, 6.3328, 6.3589, 6.2742, 5.6397, 9.3102, 9.4536, 8.8254, 5.1793, 21.279, 14.908, 18.959, 7.2182, 8.2951, 10.236, 5.4994, 20.340999999999998, 10.136000000000001, 7.3345, 6.0062, 7.2259, 5.0269, 6.5479, 7.5386, 5.0365, 10.274000000000001, 5.1077, 5.7292, 5.1884, 6.3557, 9.7687, 6.5159, 8.5172, 9.1802, 6.002000000000001, 5.5204, 5.0594, 5.7077, 7.6366, 5.8707, 5.3054, 8.2934, 13.394, 5.4369], \"y\": [17.592, 9.1302, 13.662, 11.854000000000001, 6.8233, 11.886, 4.3483, 12.0, 6.5987, 3.8166, 3.2522, 15.505, 3.1551, 7.2258, 0.71618, 3.5129, 5.3048, 0.56077, 3.6518, 5.3893, 3.1386, 21.767, 4.263, 5.1875, 3.0825, 22.638, 13.501, 7.0467, 14.692, 24.147, -1.22, 5.9966, 12.134, 1.8495, 6.5426, 4.5623, 4.1164, 3.3928, 10.117, 5.4974, 0.55657, 3.9115, 5.3854, 2.4406, 6.7318, 1.0463, 5.1337, 1.844, 8.0043, 1.0179, 6.7504, 1.8396, 4.2885, 4.9981, 1.4233, -1.4211, 2.4756, 4.6042, 3.9624, 5.4141, 5.1694, -0.74279, 17.929000000000002, 12.054, 17.054000000000002, 4.8852, 5.7442, 7.7754, 1.0173, 20.991999999999997, 6.6799, 4.0259, 1.2784, 3.3411, -2.6807, 0.29678000000000004, 3.8845, 5.7014, 6.7526, 2.0576, 0.47953, 0.20421, 0.67861, 7.5435, 5.3436, 4.2415, 6.7981, 0.92695, 0.152, 2.8214, 1.8451, 4.2959, 7.2029, 1.9869, 0.14454, 9.0551, 0.61705]}, {\"mode\": \"lines\", \"name\": \"prediction\", \"type\": \"scatter\", \"x\": [6.1101, 5.5277, 8.5186, 7.0032, 5.8598, 8.3829, 7.4764, 8.5781, 6.4862, 5.0546, 5.7107, 14.164000000000001, 5.734, 8.4084, 5.6407, 5.3794, 6.3654, 5.1301, 6.4296, 7.0708, 6.1891, 20.27, 5.4901, 6.3261, 5.5649, 18.945, 12.828, 10.957, 13.175999999999998, 22.203000000000003, 5.2524, 6.5894, 9.2482, 5.8918, 8.2111, 7.9334, 8.0959, 5.6063, 12.835999999999999, 6.3534, 5.4069, 6.8825, 11.708, 5.7737, 7.8247, 7.0931, 5.0702, 5.8014, 11.7, 5.5416, 7.5402, 5.3077, 7.4239, 7.6031, 6.3328, 6.3589, 6.2742, 5.6397, 9.3102, 9.4536, 8.8254, 5.1793, 21.279, 14.908, 18.959, 7.2182, 8.2951, 10.236, 5.4994, 20.340999999999998, 10.136000000000001, 7.3345, 6.0062, 7.2259, 5.0269, 6.5479, 7.5386, 5.0365, 10.274000000000001, 5.1077, 5.7292, 5.1884, 6.3557, 9.7687, 6.5159, 8.5172, 9.1802, 6.002000000000001, 5.5204, 5.0594, 5.7077, 7.6366, 5.8707, 5.3054, 8.2934, 13.394, 5.4369], \"y\": [3.435234275351374, 2.746693037091436, 6.282678596005667, 4.491099968843734, 3.1393175996362936, 6.122247541692698, 5.0505397249299335, 6.3530223523182805, 3.8798777501274087, 2.1873715058057606, 2.9630444220529206, 12.956941484866684, 2.9905908005753385, 6.152394865826675, 2.880287061685139, 2.5713656579122652, 3.7370621910927238, 2.2766312302024385, 3.8129625130300315, 4.571019933998906, 3.5286318677664408, 20.175747804947697, 2.7022405120938844, 3.6905998444862416, 2.7906726628868848, 18.60926919798613, 11.37745814984732, 9.165472132017058, 11.788880455675715, 22.46103319910371, 2.421220161245005, 4.001885744269623, 7.1452467406389975, 3.177149535804422, 5.919137334390058, 5.590827063331018, 5.782942364184796, 2.8396177303044015, 11.38691613388935, 3.722875215029675, 2.6038774780567504, 4.348402634609576, 10.053340383962823, 3.037526046383923, 5.462316705159907, 4.597384064516071, 2.2058145746877234, 3.07027431612946, 10.04388239992079, 2.763126284364466, 5.12596714766514, 2.486598475935552, 4.988471704654097, 5.200330547195618, 3.698520906121442, 3.729377579058573, 3.6292411730135576, 2.879104813679886, 7.218546116964747, 7.3880804809181715, 6.6453922840176, 2.3347978320609366, 21.368636042249, 13.83653400077567, 18.62582067005968, 4.745283289973347, 6.018446166831396, 8.313071320228914, 2.7132354185427463, 20.259687413320727, 8.194846519703512, 4.88277873298439, 3.312398707605481, 4.754386599613804, 2.1546232360602255, 3.9528224520515813, 5.124075550856734, 2.1659728169106636, 8.357996744428567, 2.25014887488475, 2.984916010150119, 2.345556288908748, 3.7255943854417595, 7.760606827373714, 3.914990515883453, 6.281023448798313, 7.064853876281724, 3.3074332659834154, 2.7380626266530816, 2.193046296230981, 2.959497678037158, 5.239935855371627, 3.1522041028935632, 2.483879305523468, 6.0164363452224645, 12.046610520821092, 2.6393449182143707]}],\n",
       "                        {\"height\": 500, \"template\": {\"data\": {\"bar\": [{\"error_x\": {\"color\": \"#2a3f5f\"}, \"error_y\": {\"color\": \"#2a3f5f\"}, \"marker\": {\"line\": {\"color\": \"#E5ECF6\", \"width\": 0.5}}, \"type\": \"bar\"}], \"barpolar\": [{\"marker\": {\"line\": {\"color\": \"#E5ECF6\", \"width\": 0.5}}, \"type\": \"barpolar\"}], \"carpet\": [{\"aaxis\": {\"endlinecolor\": \"#2a3f5f\", \"gridcolor\": \"white\", \"linecolor\": \"white\", \"minorgridcolor\": \"white\", \"startlinecolor\": \"#2a3f5f\"}, \"baxis\": {\"endlinecolor\": \"#2a3f5f\", \"gridcolor\": \"white\", \"linecolor\": \"white\", \"minorgridcolor\": \"white\", \"startlinecolor\": \"#2a3f5f\"}, \"type\": \"carpet\"}], \"choropleth\": [{\"colorbar\": {\"outlinewidth\": 0, \"ticks\": \"\"}, \"type\": \"choropleth\"}], \"contour\": [{\"colorbar\": {\"outlinewidth\": 0, \"ticks\": \"\"}, \"colorscale\": [[0.0, \"#0d0887\"], [0.1111111111111111, \"#46039f\"], [0.2222222222222222, \"#7201a8\"], [0.3333333333333333, \"#9c179e\"], [0.4444444444444444, \"#bd3786\"], [0.5555555555555556, \"#d8576b\"], [0.6666666666666666, \"#ed7953\"], [0.7777777777777778, \"#fb9f3a\"], [0.8888888888888888, \"#fdca26\"], [1.0, \"#f0f921\"]], \"type\": \"contour\"}], \"contourcarpet\": [{\"colorbar\": {\"outlinewidth\": 0, \"ticks\": \"\"}, \"type\": \"contourcarpet\"}], \"heatmap\": [{\"colorbar\": {\"outlinewidth\": 0, \"ticks\": \"\"}, \"colorscale\": [[0.0, \"#0d0887\"], [0.1111111111111111, \"#46039f\"], [0.2222222222222222, \"#7201a8\"], [0.3333333333333333, \"#9c179e\"], [0.4444444444444444, \"#bd3786\"], [0.5555555555555556, \"#d8576b\"], [0.6666666666666666, \"#ed7953\"], [0.7777777777777778, \"#fb9f3a\"], [0.8888888888888888, \"#fdca26\"], [1.0, \"#f0f921\"]], \"type\": \"heatmap\"}], \"heatmapgl\": [{\"colorbar\": {\"outlinewidth\": 0, \"ticks\": \"\"}, \"colorscale\": [[0.0, \"#0d0887\"], [0.1111111111111111, \"#46039f\"], [0.2222222222222222, \"#7201a8\"], [0.3333333333333333, \"#9c179e\"], [0.4444444444444444, \"#bd3786\"], [0.5555555555555556, \"#d8576b\"], [0.6666666666666666, \"#ed7953\"], [0.7777777777777778, \"#fb9f3a\"], [0.8888888888888888, \"#fdca26\"], [1.0, \"#f0f921\"]], \"type\": \"heatmapgl\"}], \"histogram\": [{\"marker\": {\"colorbar\": {\"outlinewidth\": 0, \"ticks\": \"\"}}, \"type\": \"histogram\"}], \"histogram2d\": [{\"colorbar\": {\"outlinewidth\": 0, \"ticks\": \"\"}, \"colorscale\": [[0.0, \"#0d0887\"], [0.1111111111111111, \"#46039f\"], [0.2222222222222222, \"#7201a8\"], [0.3333333333333333, \"#9c179e\"], [0.4444444444444444, \"#bd3786\"], [0.5555555555555556, \"#d8576b\"], [0.6666666666666666, \"#ed7953\"], [0.7777777777777778, \"#fb9f3a\"], [0.8888888888888888, \"#fdca26\"], [1.0, \"#f0f921\"]], \"type\": \"histogram2d\"}], \"histogram2dcontour\": [{\"colorbar\": {\"outlinewidth\": 0, \"ticks\": \"\"}, \"colorscale\": [[0.0, \"#0d0887\"], [0.1111111111111111, \"#46039f\"], [0.2222222222222222, \"#7201a8\"], [0.3333333333333333, \"#9c179e\"], [0.4444444444444444, \"#bd3786\"], [0.5555555555555556, \"#d8576b\"], [0.6666666666666666, \"#ed7953\"], [0.7777777777777778, \"#fb9f3a\"], [0.8888888888888888, \"#fdca26\"], [1.0, \"#f0f921\"]], \"type\": \"histogram2dcontour\"}], \"mesh3d\": [{\"colorbar\": {\"outlinewidth\": 0, \"ticks\": \"\"}, \"type\": \"mesh3d\"}], \"parcoords\": [{\"line\": {\"colorbar\": {\"outlinewidth\": 0, \"ticks\": \"\"}}, \"type\": \"parcoords\"}], \"pie\": [{\"automargin\": true, \"type\": \"pie\"}], \"scatter\": [{\"marker\": {\"colorbar\": {\"outlinewidth\": 0, \"ticks\": \"\"}}, \"type\": \"scatter\"}], \"scatter3d\": [{\"line\": {\"colorbar\": {\"outlinewidth\": 0, \"ticks\": \"\"}}, \"marker\": {\"colorbar\": {\"outlinewidth\": 0, \"ticks\": \"\"}}, \"type\": \"scatter3d\"}], \"scattercarpet\": [{\"marker\": {\"colorbar\": {\"outlinewidth\": 0, \"ticks\": \"\"}}, \"type\": \"scattercarpet\"}], \"scattergeo\": [{\"marker\": {\"colorbar\": {\"outlinewidth\": 0, \"ticks\": \"\"}}, \"type\": \"scattergeo\"}], \"scattergl\": [{\"marker\": {\"colorbar\": {\"outlinewidth\": 0, \"ticks\": \"\"}}, \"type\": \"scattergl\"}], \"scattermapbox\": [{\"marker\": {\"colorbar\": {\"outlinewidth\": 0, \"ticks\": \"\"}}, \"type\": \"scattermapbox\"}], \"scatterpolar\": [{\"marker\": {\"colorbar\": {\"outlinewidth\": 0, \"ticks\": \"\"}}, \"type\": \"scatterpolar\"}], \"scatterpolargl\": [{\"marker\": {\"colorbar\": {\"outlinewidth\": 0, \"ticks\": \"\"}}, \"type\": \"scatterpolargl\"}], \"scatterternary\": [{\"marker\": {\"colorbar\": {\"outlinewidth\": 0, \"ticks\": \"\"}}, \"type\": \"scatterternary\"}], \"surface\": [{\"colorbar\": {\"outlinewidth\": 0, \"ticks\": \"\"}, \"colorscale\": [[0.0, \"#0d0887\"], [0.1111111111111111, \"#46039f\"], [0.2222222222222222, \"#7201a8\"], [0.3333333333333333, \"#9c179e\"], [0.4444444444444444, \"#bd3786\"], [0.5555555555555556, \"#d8576b\"], [0.6666666666666666, \"#ed7953\"], [0.7777777777777778, \"#fb9f3a\"], [0.8888888888888888, \"#fdca26\"], [1.0, \"#f0f921\"]], \"type\": \"surface\"}], \"table\": [{\"cells\": {\"fill\": {\"color\": \"#EBF0F8\"}, \"line\": {\"color\": \"white\"}}, \"header\": {\"fill\": {\"color\": \"#C8D4E3\"}, \"line\": {\"color\": \"white\"}}, \"type\": \"table\"}]}, \"layout\": {\"annotationdefaults\": {\"arrowcolor\": \"#2a3f5f\", \"arrowhead\": 0, \"arrowwidth\": 1}, \"coloraxis\": {\"colorbar\": {\"outlinewidth\": 0, \"ticks\": \"\"}}, \"colorscale\": {\"diverging\": [[0, \"#8e0152\"], [0.1, \"#c51b7d\"], [0.2, \"#de77ae\"], [0.3, \"#f1b6da\"], [0.4, \"#fde0ef\"], [0.5, \"#f7f7f7\"], [0.6, \"#e6f5d0\"], [0.7, \"#b8e186\"], [0.8, \"#7fbc41\"], [0.9, \"#4d9221\"], [1, \"#276419\"]], \"sequential\": [[0.0, \"#0d0887\"], [0.1111111111111111, \"#46039f\"], [0.2222222222222222, \"#7201a8\"], [0.3333333333333333, \"#9c179e\"], [0.4444444444444444, \"#bd3786\"], [0.5555555555555556, \"#d8576b\"], [0.6666666666666666, \"#ed7953\"], [0.7777777777777778, \"#fb9f3a\"], [0.8888888888888888, \"#fdca26\"], [1.0, \"#f0f921\"]], \"sequentialminus\": [[0.0, \"#0d0887\"], [0.1111111111111111, \"#46039f\"], [0.2222222222222222, \"#7201a8\"], [0.3333333333333333, \"#9c179e\"], [0.4444444444444444, \"#bd3786\"], [0.5555555555555556, \"#d8576b\"], [0.6666666666666666, \"#ed7953\"], [0.7777777777777778, \"#fb9f3a\"], [0.8888888888888888, \"#fdca26\"], [1.0, \"#f0f921\"]]}, \"colorway\": [\"#636efa\", \"#EF553B\", \"#00cc96\", \"#ab63fa\", \"#FFA15A\", \"#19d3f3\", \"#FF6692\", \"#B6E880\", \"#FF97FF\", \"#FECB52\"], \"font\": {\"color\": \"#2a3f5f\"}, \"geo\": {\"bgcolor\": \"white\", \"lakecolor\": \"white\", \"landcolor\": \"#E5ECF6\", \"showlakes\": true, \"showland\": true, \"subunitcolor\": \"white\"}, \"hoverlabel\": {\"align\": \"left\"}, \"hovermode\": \"closest\", \"mapbox\": {\"style\": \"light\"}, \"paper_bgcolor\": \"white\", \"plot_bgcolor\": \"#E5ECF6\", \"polar\": {\"angularaxis\": {\"gridcolor\": \"white\", \"linecolor\": \"white\", \"ticks\": \"\"}, \"bgcolor\": \"#E5ECF6\", \"radialaxis\": {\"gridcolor\": \"white\", \"linecolor\": \"white\", \"ticks\": \"\"}}, \"scene\": {\"xaxis\": {\"backgroundcolor\": \"#E5ECF6\", \"gridcolor\": \"white\", \"gridwidth\": 2, \"linecolor\": \"white\", \"showbackground\": true, \"ticks\": \"\", \"zerolinecolor\": \"white\"}, \"yaxis\": {\"backgroundcolor\": \"#E5ECF6\", \"gridcolor\": \"white\", \"gridwidth\": 2, \"linecolor\": \"white\", \"showbackground\": true, \"ticks\": \"\", \"zerolinecolor\": \"white\"}, \"zaxis\": {\"backgroundcolor\": \"#E5ECF6\", \"gridcolor\": \"white\", \"gridwidth\": 2, \"linecolor\": \"white\", \"showbackground\": true, \"ticks\": \"\", \"zerolinecolor\": \"white\"}}, \"shapedefaults\": {\"line\": {\"color\": \"#2a3f5f\"}}, \"ternary\": {\"aaxis\": {\"gridcolor\": \"white\", \"linecolor\": \"white\", \"ticks\": \"\"}, \"baxis\": {\"gridcolor\": \"white\", \"linecolor\": \"white\", \"ticks\": \"\"}, \"bgcolor\": \"#E5ECF6\", \"caxis\": {\"gridcolor\": \"white\", \"linecolor\": \"white\", \"ticks\": \"\"}}, \"title\": {\"x\": 0.05}, \"xaxis\": {\"automargin\": true, \"gridcolor\": \"white\", \"linecolor\": \"white\", \"ticks\": \"\", \"title\": {\"standoff\": 15}, \"zerolinecolor\": \"white\", \"zerolinewidth\": 2}, \"yaxis\": {\"automargin\": true, \"gridcolor\": \"white\", \"linecolor\": \"white\", \"ticks\": \"\", \"title\": {\"standoff\": 15}, \"zerolinecolor\": \"white\", \"zerolinewidth\": 2}}}, \"width\": 500, \"xaxis\": {\"title\": {\"text\": \"\\u57ce\\u5e02\\u4eba\\u53e3\\u6570\"}}, \"yaxis\": {\"title\": {\"text\": \"\\u5feb\\u9910\\u8f66\\u6536\\u76ca\"}}},\n",
       "                        {\"responsive\": true}\n",
       "                    ).then(function(){\n",
       "                            \n",
       "var gd = document.getElementById('a2ba09e3-faae-4063-84b3-792e1765650e');\n",
       "var x = new MutationObserver(function (mutations, observer) {{\n",
       "        var display = window.getComputedStyle(gd).display;\n",
       "        if (!display || display === 'none') {{\n",
       "            console.log([gd, 'removed!']);\n",
       "            Plotly.purge(gd);\n",
       "            observer.disconnect();\n",
       "        }}\n",
       "}});\n",
       "\n",
       "// Listen for the removal of the full notebook cells\n",
       "var notebookContainer = gd.closest('#notebook-container');\n",
       "if (notebookContainer) {{\n",
       "    x.observe(notebookContainer, {childList: true});\n",
       "}}\n",
       "\n",
       "// Listen for the clearing of the current output cell\n",
       "var outputEl = gd.closest('.output');\n",
       "if (outputEl) {{\n",
       "    x.observe(outputEl, {childList: true});\n",
       "}}\n",
       "\n",
       "                        })\n",
       "                };\n",
       "                });\n",
       "            </script>\n",
       "        </div>"
      ]
     },
     "metadata": {},
     "output_type": "display_data"
    }
   ],
   "source": [
    "final_theta_0=float(gradientDescent(X, y, theta, alpha, iters)[0][:,0])\n",
    "final_theta_1=float(gradientDescent(X, y, theta, alpha, iters)[0][:,1])\n",
    "df['prediction']=df['population']* final_theta_1+ final_theta_0\n",
    "\n",
    "scatter=go.Scatter(x=df['population'].tolist(),y=df['profit'].tolist(),mode='markers',name='profit')\n",
    "linear_line=go.Scatter(x=df['population'].tolist(),y=df['prediction'].tolist(),mode='lines',name='prediction')\n",
    "data=[scatter,linear_line]\n",
    "layout=go.Layout(height=500,width=500,xaxis=dict(title='城市人口数'),yaxis=dict(title='快餐车收益'))\n",
    "figure=go.Figure(data,layout)\n",
    "py.offline.iplot(figure)"
   ]
  },
  {
   "cell_type": "markdown",
   "metadata": {},
   "source": [
    "* 从回归模型可看出：收益随着城市人口数增加而递增。因此可以给到老板一定的洞察。\n",
    "* 可得到的业务建议：快餐车业务扩张优先选择城市人口基数大的城市。"
   ]
  },
  {
   "cell_type": "markdown",
   "metadata": {},
   "source": [
    "## 8）调用sklearn库进行计算\n",
    "* 实际工作中，市面上已经存在很多成熟的机器学习库供我们调用，我们并不需自行定义那么多函数。\n",
    "* https://sklearn.apachecn.org/ 可以查看sklearn的中文版官方文档。"
   ]
  },
  {
   "cell_type": "code",
   "execution_count": 34,
   "metadata": {},
   "outputs": [],
   "source": [
    "XX=df.iloc[:,0].values.reshape(-1, 1)\n",
    "yy=df.iloc[:,1].values.reshape(-1, 1)"
   ]
  },
  {
   "cell_type": "code",
   "execution_count": 35,
   "metadata": {},
   "outputs": [
    {
     "data": {
      "text/plain": [
       "LinearRegression(copy_X=True, fit_intercept=True, n_jobs=None, normalize=False)"
      ]
     },
     "execution_count": 35,
     "metadata": {},
     "output_type": "execute_result"
    }
   ],
   "source": [
    "# 调用LinearRegression库进行拟合\n",
    "from sklearn.linear_model import LinearRegression\n",
    "from sklearn.metrics import r2_score\n",
    "reg=LinearRegression()\n",
    "reg.fit(XX,yy)"
   ]
  },
  {
   "cell_type": "code",
   "execution_count": 44,
   "metadata": {
    "scrolled": true
   },
   "outputs": [
    {
     "name": "stdout",
     "output_type": "stream",
     "text": [
      "Coefficient of determination: 0.70\n"
     ]
    }
   ],
   "source": [
    "y_pred=reg.predict(XX)\n",
    "print('Coefficient of determination: %.2f'\n",
    "      % r2_score(yy, y_pred))"
   ]
  },
  {
   "cell_type": "code",
   "execution_count": 45,
   "metadata": {},
   "outputs": [
    {
     "data": {
      "application/vnd.plotly.v1+json": {
       "config": {
        "linkText": "Export to plot.ly",
        "plotlyServerURL": "https://plot.ly",
        "showLink": false
       },
       "data": [
        {
         "mode": "markers",
         "name": "profit",
         "type": "scatter",
         "x": [
          6.1101,
          5.5277,
          8.5186,
          7.0032,
          5.8598,
          8.3829,
          7.4764,
          8.5781,
          6.4862,
          5.0546,
          5.7107,
          14.164000000000001,
          5.734,
          8.4084,
          5.6407,
          5.3794,
          6.3654,
          5.1301,
          6.4296,
          7.0708,
          6.1891,
          20.27,
          5.4901,
          6.3261,
          5.5649,
          18.945,
          12.828,
          10.957,
          13.175999999999998,
          22.203000000000003,
          5.2524,
          6.5894,
          9.2482,
          5.8918,
          8.2111,
          7.9334,
          8.0959,
          5.6063,
          12.835999999999999,
          6.3534,
          5.4069,
          6.8825,
          11.708,
          5.7737,
          7.8247,
          7.0931,
          5.0702,
          5.8014,
          11.7,
          5.5416,
          7.5402,
          5.3077,
          7.4239,
          7.6031,
          6.3328,
          6.3589,
          6.2742,
          5.6397,
          9.3102,
          9.4536,
          8.8254,
          5.1793,
          21.279,
          14.908,
          18.959,
          7.2182,
          8.2951,
          10.236,
          5.4994,
          20.340999999999998,
          10.136000000000001,
          7.3345,
          6.0062,
          7.2259,
          5.0269,
          6.5479,
          7.5386,
          5.0365,
          10.274000000000001,
          5.1077,
          5.7292,
          5.1884,
          6.3557,
          9.7687,
          6.5159,
          8.5172,
          9.1802,
          6.002000000000001,
          5.5204,
          5.0594,
          5.7077,
          7.6366,
          5.8707,
          5.3054,
          8.2934,
          13.394,
          5.4369
         ],
         "y": [
          17.592,
          9.1302,
          13.662,
          11.854000000000001,
          6.8233,
          11.886,
          4.3483,
          12,
          6.5987,
          3.8166,
          3.2522,
          15.505,
          3.1551,
          7.2258,
          0.71618,
          3.5129,
          5.3048,
          0.56077,
          3.6518,
          5.3893,
          3.1386,
          21.767,
          4.263,
          5.1875,
          3.0825,
          22.638,
          13.501,
          7.0467,
          14.692,
          24.147,
          -1.22,
          5.9966,
          12.134,
          1.8495,
          6.5426,
          4.5623,
          4.1164,
          3.3928,
          10.117,
          5.4974,
          0.55657,
          3.9115,
          5.3854,
          2.4406,
          6.7318,
          1.0463,
          5.1337,
          1.844,
          8.0043,
          1.0179,
          6.7504,
          1.8396,
          4.2885,
          4.9981,
          1.4233,
          -1.4211,
          2.4756,
          4.6042,
          3.9624,
          5.4141,
          5.1694,
          -0.74279,
          17.929000000000002,
          12.054,
          17.054000000000002,
          4.8852,
          5.7442,
          7.7754,
          1.0173,
          20.991999999999997,
          6.6799,
          4.0259,
          1.2784,
          3.3411,
          -2.6807,
          0.29678000000000004,
          3.8845,
          5.7014,
          6.7526,
          2.0576,
          0.47953,
          0.20421,
          0.67861,
          7.5435,
          5.3436,
          4.2415,
          6.7981,
          0.92695,
          0.152,
          2.8214,
          1.8451,
          4.2959,
          7.2029,
          1.9869,
          0.14454,
          9.0551,
          0.61705
         ]
        },
        {
         "mode": "lines",
         "name": "prediction",
         "type": "scatter",
         "x": [
          6.1101,
          5.5277,
          8.5186,
          7.0032,
          5.8598,
          8.3829,
          7.4764,
          8.5781,
          6.4862,
          5.0546,
          5.7107,
          14.164000000000001,
          5.734,
          8.4084,
          5.6407,
          5.3794,
          6.3654,
          5.1301,
          6.4296,
          7.0708,
          6.1891,
          20.27,
          5.4901,
          6.3261,
          5.5649,
          18.945,
          12.828,
          10.957,
          13.175999999999998,
          22.203000000000003,
          5.2524,
          6.5894,
          9.2482,
          5.8918,
          8.2111,
          7.9334,
          8.0959,
          5.6063,
          12.835999999999999,
          6.3534,
          5.4069,
          6.8825,
          11.708,
          5.7737,
          7.8247,
          7.0931,
          5.0702,
          5.8014,
          11.7,
          5.5416,
          7.5402,
          5.3077,
          7.4239,
          7.6031,
          6.3328,
          6.3589,
          6.2742,
          5.6397,
          9.3102,
          9.4536,
          8.8254,
          5.1793,
          21.279,
          14.908,
          18.959,
          7.2182,
          8.2951,
          10.236,
          5.4994,
          20.340999999999998,
          10.136000000000001,
          7.3345,
          6.0062,
          7.2259,
          5.0269,
          6.5479,
          7.5386,
          5.0365,
          10.274000000000001,
          5.1077,
          5.7292,
          5.1884,
          6.3557,
          9.7687,
          6.5159,
          8.5172,
          9.1802,
          6.002000000000001,
          5.5204,
          5.0594,
          5.7077,
          7.6366,
          5.8707,
          5.3054,
          8.2934,
          13.394,
          5.4369
         ],
         "y": [
          3.3937739910509848,
          2.698951196674966,
          6.26719552308162,
          4.45927233867671,
          3.0951576699103294,
          6.105300857565092,
          5.023815859107227,
          6.3381810249109005,
          3.842473944630691,
          2.134526979608869,
          2.917276353561661,
          13.002347657989553,
          2.9450740374712785,
          6.135723215491927,
          2.833763998468389,
          2.522024307241649,
          3.698355480412588,
          2.224601019745183,
          3.77494824036956,
          4.539921413023928,
          3.4880236489419625,
          20.28701108941121,
          2.654093131653437,
          3.651469258195937,
          2.743332048238818,
          18.70624151086,
          11.408454709352254,
          9.176288761073526,
          11.82363041753023,
          22.593145123629697,
          2.3705090344295705,
          3.965595016711057,
          7.137632869882349,
          3.1333347465243966,
          5.9003376774933205,
          5.56903223450187,
          5.76290020168268,
          2.7927236411082674,
          11.41799897850577,
          3.6840390766823123,
          2.5548327324568634,
          4.315273177823027,
          10.07225702785991,
          2.992437473145605,
          5.439349477378462,
          4.566526063289356,
          2.153138304458226,
          3.0254845050896577,
          10.062712758706393,
          2.7155343643292005,
          5.099931405606522,
          2.4364837949532543,
          4.9611815927872716,
          5.174973221826049,
          3.659462583612007,
          3.6906007617253556,
          3.5895508120624973,
          2.8325709648242006,
          7.211600955822103,
          7.382681980398891,
          6.633218245118988,
          2.2832982750393107,
          21.49078203639851,
          13.889964689266609,
          18.72294398187865,
          4.715774572177473,
          6.000552503605245,
          8.316111503612829,
          2.6651883445444,
          20.371716478148667,
          8.19680813919387,
          4.854524384996724,
          3.2698177954196854,
          4.724960931237733,
          2.101479947664818,
          3.916084120477189,
          5.098022551775818,
          2.1129330706490377,
          8.361446782092035,
          2.1978770661153364,
          2.939347475979168,
          2.294154881201436,
          3.686783054063949,
          7.758606881683033,
          3.8779070438631225,
          6.265525275979757,
          7.056506582077455,
          3.2648070541140903,
          2.6902420510723823,
          2.1402535411009795,
          2.9136972526290927,
          5.214939848906399,
          3.1081617366319962,
          2.4337398175716185,
          5.998524346410125,
          12.083711751963564,
          2.59062374178255
         ]
        }
       ],
       "layout": {
        "height": 500,
        "template": {
         "data": {
          "bar": [
           {
            "error_x": {
             "color": "#2a3f5f"
            },
            "error_y": {
             "color": "#2a3f5f"
            },
            "marker": {
             "line": {
              "color": "#E5ECF6",
              "width": 0.5
             }
            },
            "type": "bar"
           }
          ],
          "barpolar": [
           {
            "marker": {
             "line": {
              "color": "#E5ECF6",
              "width": 0.5
             }
            },
            "type": "barpolar"
           }
          ],
          "carpet": [
           {
            "aaxis": {
             "endlinecolor": "#2a3f5f",
             "gridcolor": "white",
             "linecolor": "white",
             "minorgridcolor": "white",
             "startlinecolor": "#2a3f5f"
            },
            "baxis": {
             "endlinecolor": "#2a3f5f",
             "gridcolor": "white",
             "linecolor": "white",
             "minorgridcolor": "white",
             "startlinecolor": "#2a3f5f"
            },
            "type": "carpet"
           }
          ],
          "choropleth": [
           {
            "colorbar": {
             "outlinewidth": 0,
             "ticks": ""
            },
            "type": "choropleth"
           }
          ],
          "contour": [
           {
            "colorbar": {
             "outlinewidth": 0,
             "ticks": ""
            },
            "colorscale": [
             [
              0,
              "#0d0887"
             ],
             [
              0.1111111111111111,
              "#46039f"
             ],
             [
              0.2222222222222222,
              "#7201a8"
             ],
             [
              0.3333333333333333,
              "#9c179e"
             ],
             [
              0.4444444444444444,
              "#bd3786"
             ],
             [
              0.5555555555555556,
              "#d8576b"
             ],
             [
              0.6666666666666666,
              "#ed7953"
             ],
             [
              0.7777777777777778,
              "#fb9f3a"
             ],
             [
              0.8888888888888888,
              "#fdca26"
             ],
             [
              1,
              "#f0f921"
             ]
            ],
            "type": "contour"
           }
          ],
          "contourcarpet": [
           {
            "colorbar": {
             "outlinewidth": 0,
             "ticks": ""
            },
            "type": "contourcarpet"
           }
          ],
          "heatmap": [
           {
            "colorbar": {
             "outlinewidth": 0,
             "ticks": ""
            },
            "colorscale": [
             [
              0,
              "#0d0887"
             ],
             [
              0.1111111111111111,
              "#46039f"
             ],
             [
              0.2222222222222222,
              "#7201a8"
             ],
             [
              0.3333333333333333,
              "#9c179e"
             ],
             [
              0.4444444444444444,
              "#bd3786"
             ],
             [
              0.5555555555555556,
              "#d8576b"
             ],
             [
              0.6666666666666666,
              "#ed7953"
             ],
             [
              0.7777777777777778,
              "#fb9f3a"
             ],
             [
              0.8888888888888888,
              "#fdca26"
             ],
             [
              1,
              "#f0f921"
             ]
            ],
            "type": "heatmap"
           }
          ],
          "heatmapgl": [
           {
            "colorbar": {
             "outlinewidth": 0,
             "ticks": ""
            },
            "colorscale": [
             [
              0,
              "#0d0887"
             ],
             [
              0.1111111111111111,
              "#46039f"
             ],
             [
              0.2222222222222222,
              "#7201a8"
             ],
             [
              0.3333333333333333,
              "#9c179e"
             ],
             [
              0.4444444444444444,
              "#bd3786"
             ],
             [
              0.5555555555555556,
              "#d8576b"
             ],
             [
              0.6666666666666666,
              "#ed7953"
             ],
             [
              0.7777777777777778,
              "#fb9f3a"
             ],
             [
              0.8888888888888888,
              "#fdca26"
             ],
             [
              1,
              "#f0f921"
             ]
            ],
            "type": "heatmapgl"
           }
          ],
          "histogram": [
           {
            "marker": {
             "colorbar": {
              "outlinewidth": 0,
              "ticks": ""
             }
            },
            "type": "histogram"
           }
          ],
          "histogram2d": [
           {
            "colorbar": {
             "outlinewidth": 0,
             "ticks": ""
            },
            "colorscale": [
             [
              0,
              "#0d0887"
             ],
             [
              0.1111111111111111,
              "#46039f"
             ],
             [
              0.2222222222222222,
              "#7201a8"
             ],
             [
              0.3333333333333333,
              "#9c179e"
             ],
             [
              0.4444444444444444,
              "#bd3786"
             ],
             [
              0.5555555555555556,
              "#d8576b"
             ],
             [
              0.6666666666666666,
              "#ed7953"
             ],
             [
              0.7777777777777778,
              "#fb9f3a"
             ],
             [
              0.8888888888888888,
              "#fdca26"
             ],
             [
              1,
              "#f0f921"
             ]
            ],
            "type": "histogram2d"
           }
          ],
          "histogram2dcontour": [
           {
            "colorbar": {
             "outlinewidth": 0,
             "ticks": ""
            },
            "colorscale": [
             [
              0,
              "#0d0887"
             ],
             [
              0.1111111111111111,
              "#46039f"
             ],
             [
              0.2222222222222222,
              "#7201a8"
             ],
             [
              0.3333333333333333,
              "#9c179e"
             ],
             [
              0.4444444444444444,
              "#bd3786"
             ],
             [
              0.5555555555555556,
              "#d8576b"
             ],
             [
              0.6666666666666666,
              "#ed7953"
             ],
             [
              0.7777777777777778,
              "#fb9f3a"
             ],
             [
              0.8888888888888888,
              "#fdca26"
             ],
             [
              1,
              "#f0f921"
             ]
            ],
            "type": "histogram2dcontour"
           }
          ],
          "mesh3d": [
           {
            "colorbar": {
             "outlinewidth": 0,
             "ticks": ""
            },
            "type": "mesh3d"
           }
          ],
          "parcoords": [
           {
            "line": {
             "colorbar": {
              "outlinewidth": 0,
              "ticks": ""
             }
            },
            "type": "parcoords"
           }
          ],
          "pie": [
           {
            "automargin": true,
            "type": "pie"
           }
          ],
          "scatter": [
           {
            "marker": {
             "colorbar": {
              "outlinewidth": 0,
              "ticks": ""
             }
            },
            "type": "scatter"
           }
          ],
          "scatter3d": [
           {
            "line": {
             "colorbar": {
              "outlinewidth": 0,
              "ticks": ""
             }
            },
            "marker": {
             "colorbar": {
              "outlinewidth": 0,
              "ticks": ""
             }
            },
            "type": "scatter3d"
           }
          ],
          "scattercarpet": [
           {
            "marker": {
             "colorbar": {
              "outlinewidth": 0,
              "ticks": ""
             }
            },
            "type": "scattercarpet"
           }
          ],
          "scattergeo": [
           {
            "marker": {
             "colorbar": {
              "outlinewidth": 0,
              "ticks": ""
             }
            },
            "type": "scattergeo"
           }
          ],
          "scattergl": [
           {
            "marker": {
             "colorbar": {
              "outlinewidth": 0,
              "ticks": ""
             }
            },
            "type": "scattergl"
           }
          ],
          "scattermapbox": [
           {
            "marker": {
             "colorbar": {
              "outlinewidth": 0,
              "ticks": ""
             }
            },
            "type": "scattermapbox"
           }
          ],
          "scatterpolar": [
           {
            "marker": {
             "colorbar": {
              "outlinewidth": 0,
              "ticks": ""
             }
            },
            "type": "scatterpolar"
           }
          ],
          "scatterpolargl": [
           {
            "marker": {
             "colorbar": {
              "outlinewidth": 0,
              "ticks": ""
             }
            },
            "type": "scatterpolargl"
           }
          ],
          "scatterternary": [
           {
            "marker": {
             "colorbar": {
              "outlinewidth": 0,
              "ticks": ""
             }
            },
            "type": "scatterternary"
           }
          ],
          "surface": [
           {
            "colorbar": {
             "outlinewidth": 0,
             "ticks": ""
            },
            "colorscale": [
             [
              0,
              "#0d0887"
             ],
             [
              0.1111111111111111,
              "#46039f"
             ],
             [
              0.2222222222222222,
              "#7201a8"
             ],
             [
              0.3333333333333333,
              "#9c179e"
             ],
             [
              0.4444444444444444,
              "#bd3786"
             ],
             [
              0.5555555555555556,
              "#d8576b"
             ],
             [
              0.6666666666666666,
              "#ed7953"
             ],
             [
              0.7777777777777778,
              "#fb9f3a"
             ],
             [
              0.8888888888888888,
              "#fdca26"
             ],
             [
              1,
              "#f0f921"
             ]
            ],
            "type": "surface"
           }
          ],
          "table": [
           {
            "cells": {
             "fill": {
              "color": "#EBF0F8"
             },
             "line": {
              "color": "white"
             }
            },
            "header": {
             "fill": {
              "color": "#C8D4E3"
             },
             "line": {
              "color": "white"
             }
            },
            "type": "table"
           }
          ]
         },
         "layout": {
          "annotationdefaults": {
           "arrowcolor": "#2a3f5f",
           "arrowhead": 0,
           "arrowwidth": 1
          },
          "coloraxis": {
           "colorbar": {
            "outlinewidth": 0,
            "ticks": ""
           }
          },
          "colorscale": {
           "diverging": [
            [
             0,
             "#8e0152"
            ],
            [
             0.1,
             "#c51b7d"
            ],
            [
             0.2,
             "#de77ae"
            ],
            [
             0.3,
             "#f1b6da"
            ],
            [
             0.4,
             "#fde0ef"
            ],
            [
             0.5,
             "#f7f7f7"
            ],
            [
             0.6,
             "#e6f5d0"
            ],
            [
             0.7,
             "#b8e186"
            ],
            [
             0.8,
             "#7fbc41"
            ],
            [
             0.9,
             "#4d9221"
            ],
            [
             1,
             "#276419"
            ]
           ],
           "sequential": [
            [
             0,
             "#0d0887"
            ],
            [
             0.1111111111111111,
             "#46039f"
            ],
            [
             0.2222222222222222,
             "#7201a8"
            ],
            [
             0.3333333333333333,
             "#9c179e"
            ],
            [
             0.4444444444444444,
             "#bd3786"
            ],
            [
             0.5555555555555556,
             "#d8576b"
            ],
            [
             0.6666666666666666,
             "#ed7953"
            ],
            [
             0.7777777777777778,
             "#fb9f3a"
            ],
            [
             0.8888888888888888,
             "#fdca26"
            ],
            [
             1,
             "#f0f921"
            ]
           ],
           "sequentialminus": [
            [
             0,
             "#0d0887"
            ],
            [
             0.1111111111111111,
             "#46039f"
            ],
            [
             0.2222222222222222,
             "#7201a8"
            ],
            [
             0.3333333333333333,
             "#9c179e"
            ],
            [
             0.4444444444444444,
             "#bd3786"
            ],
            [
             0.5555555555555556,
             "#d8576b"
            ],
            [
             0.6666666666666666,
             "#ed7953"
            ],
            [
             0.7777777777777778,
             "#fb9f3a"
            ],
            [
             0.8888888888888888,
             "#fdca26"
            ],
            [
             1,
             "#f0f921"
            ]
           ]
          },
          "colorway": [
           "#636efa",
           "#EF553B",
           "#00cc96",
           "#ab63fa",
           "#FFA15A",
           "#19d3f3",
           "#FF6692",
           "#B6E880",
           "#FF97FF",
           "#FECB52"
          ],
          "font": {
           "color": "#2a3f5f"
          },
          "geo": {
           "bgcolor": "white",
           "lakecolor": "white",
           "landcolor": "#E5ECF6",
           "showlakes": true,
           "showland": true,
           "subunitcolor": "white"
          },
          "hoverlabel": {
           "align": "left"
          },
          "hovermode": "closest",
          "mapbox": {
           "style": "light"
          },
          "paper_bgcolor": "white",
          "plot_bgcolor": "#E5ECF6",
          "polar": {
           "angularaxis": {
            "gridcolor": "white",
            "linecolor": "white",
            "ticks": ""
           },
           "bgcolor": "#E5ECF6",
           "radialaxis": {
            "gridcolor": "white",
            "linecolor": "white",
            "ticks": ""
           }
          },
          "scene": {
           "xaxis": {
            "backgroundcolor": "#E5ECF6",
            "gridcolor": "white",
            "gridwidth": 2,
            "linecolor": "white",
            "showbackground": true,
            "ticks": "",
            "zerolinecolor": "white"
           },
           "yaxis": {
            "backgroundcolor": "#E5ECF6",
            "gridcolor": "white",
            "gridwidth": 2,
            "linecolor": "white",
            "showbackground": true,
            "ticks": "",
            "zerolinecolor": "white"
           },
           "zaxis": {
            "backgroundcolor": "#E5ECF6",
            "gridcolor": "white",
            "gridwidth": 2,
            "linecolor": "white",
            "showbackground": true,
            "ticks": "",
            "zerolinecolor": "white"
           }
          },
          "shapedefaults": {
           "line": {
            "color": "#2a3f5f"
           }
          },
          "ternary": {
           "aaxis": {
            "gridcolor": "white",
            "linecolor": "white",
            "ticks": ""
           },
           "baxis": {
            "gridcolor": "white",
            "linecolor": "white",
            "ticks": ""
           },
           "bgcolor": "#E5ECF6",
           "caxis": {
            "gridcolor": "white",
            "linecolor": "white",
            "ticks": ""
           }
          },
          "title": {
           "x": 0.05
          },
          "xaxis": {
           "automargin": true,
           "gridcolor": "white",
           "linecolor": "white",
           "ticks": "",
           "title": {
            "standoff": 15
           },
           "zerolinecolor": "white",
           "zerolinewidth": 2
          },
          "yaxis": {
           "automargin": true,
           "gridcolor": "white",
           "linecolor": "white",
           "ticks": "",
           "title": {
            "standoff": 15
           },
           "zerolinecolor": "white",
           "zerolinewidth": 2
          }
         }
        },
        "width": 500,
        "xaxis": {
         "title": {
          "text": "城市人口数"
         }
        },
        "yaxis": {
         "title": {
          "text": "快餐车收益"
         }
        }
       }
      },
      "text/html": [
       "<div>\n",
       "        \n",
       "        \n",
       "            <div id=\"9529c902-0f4c-408b-94ad-453a131794bf\" class=\"plotly-graph-div\" style=\"height:500px; width:500px;\"></div>\n",
       "            <script type=\"text/javascript\">\n",
       "                require([\"plotly\"], function(Plotly) {\n",
       "                    window.PLOTLYENV=window.PLOTLYENV || {};\n",
       "                    \n",
       "                if (document.getElementById(\"9529c902-0f4c-408b-94ad-453a131794bf\")) {\n",
       "                    Plotly.newPlot(\n",
       "                        '9529c902-0f4c-408b-94ad-453a131794bf',\n",
       "                        [{\"mode\": \"markers\", \"name\": \"profit\", \"type\": \"scatter\", \"x\": [6.1101, 5.5277, 8.5186, 7.0032, 5.8598, 8.3829, 7.4764, 8.5781, 6.4862, 5.0546, 5.7107, 14.164000000000001, 5.734, 8.4084, 5.6407, 5.3794, 6.3654, 5.1301, 6.4296, 7.0708, 6.1891, 20.27, 5.4901, 6.3261, 5.5649, 18.945, 12.828, 10.957, 13.175999999999998, 22.203000000000003, 5.2524, 6.5894, 9.2482, 5.8918, 8.2111, 7.9334, 8.0959, 5.6063, 12.835999999999999, 6.3534, 5.4069, 6.8825, 11.708, 5.7737, 7.8247, 7.0931, 5.0702, 5.8014, 11.7, 5.5416, 7.5402, 5.3077, 7.4239, 7.6031, 6.3328, 6.3589, 6.2742, 5.6397, 9.3102, 9.4536, 8.8254, 5.1793, 21.279, 14.908, 18.959, 7.2182, 8.2951, 10.236, 5.4994, 20.340999999999998, 10.136000000000001, 7.3345, 6.0062, 7.2259, 5.0269, 6.5479, 7.5386, 5.0365, 10.274000000000001, 5.1077, 5.7292, 5.1884, 6.3557, 9.7687, 6.5159, 8.5172, 9.1802, 6.002000000000001, 5.5204, 5.0594, 5.7077, 7.6366, 5.8707, 5.3054, 8.2934, 13.394, 5.4369], \"y\": [17.592, 9.1302, 13.662, 11.854000000000001, 6.8233, 11.886, 4.3483, 12.0, 6.5987, 3.8166, 3.2522, 15.505, 3.1551, 7.2258, 0.71618, 3.5129, 5.3048, 0.56077, 3.6518, 5.3893, 3.1386, 21.767, 4.263, 5.1875, 3.0825, 22.638, 13.501, 7.0467, 14.692, 24.147, -1.22, 5.9966, 12.134, 1.8495, 6.5426, 4.5623, 4.1164, 3.3928, 10.117, 5.4974, 0.55657, 3.9115, 5.3854, 2.4406, 6.7318, 1.0463, 5.1337, 1.844, 8.0043, 1.0179, 6.7504, 1.8396, 4.2885, 4.9981, 1.4233, -1.4211, 2.4756, 4.6042, 3.9624, 5.4141, 5.1694, -0.74279, 17.929000000000002, 12.054, 17.054000000000002, 4.8852, 5.7442, 7.7754, 1.0173, 20.991999999999997, 6.6799, 4.0259, 1.2784, 3.3411, -2.6807, 0.29678000000000004, 3.8845, 5.7014, 6.7526, 2.0576, 0.47953, 0.20421, 0.67861, 7.5435, 5.3436, 4.2415, 6.7981, 0.92695, 0.152, 2.8214, 1.8451, 4.2959, 7.2029, 1.9869, 0.14454, 9.0551, 0.61705]}, {\"mode\": \"lines\", \"name\": \"prediction\", \"type\": \"scatter\", \"x\": [6.1101, 5.5277, 8.5186, 7.0032, 5.8598, 8.3829, 7.4764, 8.5781, 6.4862, 5.0546, 5.7107, 14.164000000000001, 5.734, 8.4084, 5.6407, 5.3794, 6.3654, 5.1301, 6.4296, 7.0708, 6.1891, 20.27, 5.4901, 6.3261, 5.5649, 18.945, 12.828, 10.957, 13.175999999999998, 22.203000000000003, 5.2524, 6.5894, 9.2482, 5.8918, 8.2111, 7.9334, 8.0959, 5.6063, 12.835999999999999, 6.3534, 5.4069, 6.8825, 11.708, 5.7737, 7.8247, 7.0931, 5.0702, 5.8014, 11.7, 5.5416, 7.5402, 5.3077, 7.4239, 7.6031, 6.3328, 6.3589, 6.2742, 5.6397, 9.3102, 9.4536, 8.8254, 5.1793, 21.279, 14.908, 18.959, 7.2182, 8.2951, 10.236, 5.4994, 20.340999999999998, 10.136000000000001, 7.3345, 6.0062, 7.2259, 5.0269, 6.5479, 7.5386, 5.0365, 10.274000000000001, 5.1077, 5.7292, 5.1884, 6.3557, 9.7687, 6.5159, 8.5172, 9.1802, 6.002000000000001, 5.5204, 5.0594, 5.7077, 7.6366, 5.8707, 5.3054, 8.2934, 13.394, 5.4369], \"y\": [3.3937739910509848, 2.698951196674966, 6.26719552308162, 4.45927233867671, 3.0951576699103294, 6.105300857565092, 5.023815859107227, 6.3381810249109005, 3.842473944630691, 2.134526979608869, 2.917276353561661, 13.002347657989553, 2.9450740374712785, 6.135723215491927, 2.833763998468389, 2.522024307241649, 3.698355480412588, 2.224601019745183, 3.77494824036956, 4.539921413023928, 3.4880236489419625, 20.28701108941121, 2.654093131653437, 3.651469258195937, 2.743332048238818, 18.70624151086, 11.408454709352254, 9.176288761073526, 11.82363041753023, 22.593145123629697, 2.3705090344295705, 3.965595016711057, 7.137632869882349, 3.1333347465243966, 5.9003376774933205, 5.56903223450187, 5.76290020168268, 2.7927236411082674, 11.41799897850577, 3.6840390766823123, 2.5548327324568634, 4.315273177823027, 10.07225702785991, 2.992437473145605, 5.439349477378462, 4.566526063289356, 2.153138304458226, 3.0254845050896577, 10.062712758706393, 2.7155343643292005, 5.099931405606522, 2.4364837949532543, 4.9611815927872716, 5.174973221826049, 3.659462583612007, 3.6906007617253556, 3.5895508120624973, 2.8325709648242006, 7.211600955822103, 7.382681980398891, 6.633218245118988, 2.2832982750393107, 21.49078203639851, 13.889964689266609, 18.72294398187865, 4.715774572177473, 6.000552503605245, 8.316111503612829, 2.6651883445444, 20.371716478148667, 8.19680813919387, 4.854524384996724, 3.2698177954196854, 4.724960931237733, 2.101479947664818, 3.916084120477189, 5.098022551775818, 2.1129330706490377, 8.361446782092035, 2.1978770661153364, 2.939347475979168, 2.294154881201436, 3.686783054063949, 7.758606881683033, 3.8779070438631225, 6.265525275979757, 7.056506582077455, 3.2648070541140903, 2.6902420510723823, 2.1402535411009795, 2.9136972526290927, 5.214939848906399, 3.1081617366319962, 2.4337398175716185, 5.998524346410125, 12.083711751963564, 2.59062374178255]}],\n",
       "                        {\"height\": 500, \"template\": {\"data\": {\"bar\": [{\"error_x\": {\"color\": \"#2a3f5f\"}, \"error_y\": {\"color\": \"#2a3f5f\"}, \"marker\": {\"line\": {\"color\": \"#E5ECF6\", \"width\": 0.5}}, \"type\": \"bar\"}], \"barpolar\": [{\"marker\": {\"line\": {\"color\": \"#E5ECF6\", \"width\": 0.5}}, \"type\": \"barpolar\"}], \"carpet\": [{\"aaxis\": {\"endlinecolor\": \"#2a3f5f\", \"gridcolor\": \"white\", \"linecolor\": \"white\", \"minorgridcolor\": \"white\", \"startlinecolor\": \"#2a3f5f\"}, \"baxis\": {\"endlinecolor\": \"#2a3f5f\", \"gridcolor\": \"white\", \"linecolor\": \"white\", \"minorgridcolor\": \"white\", \"startlinecolor\": \"#2a3f5f\"}, \"type\": \"carpet\"}], \"choropleth\": [{\"colorbar\": {\"outlinewidth\": 0, \"ticks\": \"\"}, \"type\": \"choropleth\"}], \"contour\": [{\"colorbar\": {\"outlinewidth\": 0, \"ticks\": \"\"}, \"colorscale\": [[0.0, \"#0d0887\"], [0.1111111111111111, \"#46039f\"], [0.2222222222222222, \"#7201a8\"], [0.3333333333333333, \"#9c179e\"], [0.4444444444444444, \"#bd3786\"], [0.5555555555555556, \"#d8576b\"], [0.6666666666666666, \"#ed7953\"], [0.7777777777777778, \"#fb9f3a\"], [0.8888888888888888, \"#fdca26\"], [1.0, \"#f0f921\"]], \"type\": \"contour\"}], \"contourcarpet\": [{\"colorbar\": {\"outlinewidth\": 0, \"ticks\": \"\"}, \"type\": \"contourcarpet\"}], \"heatmap\": [{\"colorbar\": {\"outlinewidth\": 0, \"ticks\": \"\"}, \"colorscale\": [[0.0, \"#0d0887\"], [0.1111111111111111, \"#46039f\"], [0.2222222222222222, \"#7201a8\"], [0.3333333333333333, \"#9c179e\"], [0.4444444444444444, \"#bd3786\"], [0.5555555555555556, \"#d8576b\"], [0.6666666666666666, \"#ed7953\"], [0.7777777777777778, \"#fb9f3a\"], [0.8888888888888888, \"#fdca26\"], [1.0, \"#f0f921\"]], \"type\": \"heatmap\"}], \"heatmapgl\": [{\"colorbar\": {\"outlinewidth\": 0, \"ticks\": \"\"}, \"colorscale\": [[0.0, \"#0d0887\"], [0.1111111111111111, \"#46039f\"], [0.2222222222222222, \"#7201a8\"], [0.3333333333333333, \"#9c179e\"], [0.4444444444444444, \"#bd3786\"], [0.5555555555555556, \"#d8576b\"], [0.6666666666666666, \"#ed7953\"], [0.7777777777777778, \"#fb9f3a\"], [0.8888888888888888, \"#fdca26\"], [1.0, \"#f0f921\"]], \"type\": \"heatmapgl\"}], \"histogram\": [{\"marker\": {\"colorbar\": {\"outlinewidth\": 0, \"ticks\": \"\"}}, \"type\": \"histogram\"}], \"histogram2d\": [{\"colorbar\": {\"outlinewidth\": 0, \"ticks\": \"\"}, \"colorscale\": [[0.0, \"#0d0887\"], [0.1111111111111111, \"#46039f\"], [0.2222222222222222, \"#7201a8\"], [0.3333333333333333, \"#9c179e\"], [0.4444444444444444, \"#bd3786\"], [0.5555555555555556, \"#d8576b\"], [0.6666666666666666, \"#ed7953\"], [0.7777777777777778, \"#fb9f3a\"], [0.8888888888888888, \"#fdca26\"], [1.0, \"#f0f921\"]], \"type\": \"histogram2d\"}], \"histogram2dcontour\": [{\"colorbar\": {\"outlinewidth\": 0, \"ticks\": \"\"}, \"colorscale\": [[0.0, \"#0d0887\"], [0.1111111111111111, \"#46039f\"], [0.2222222222222222, \"#7201a8\"], [0.3333333333333333, \"#9c179e\"], [0.4444444444444444, \"#bd3786\"], [0.5555555555555556, \"#d8576b\"], [0.6666666666666666, \"#ed7953\"], [0.7777777777777778, \"#fb9f3a\"], [0.8888888888888888, \"#fdca26\"], [1.0, \"#f0f921\"]], \"type\": \"histogram2dcontour\"}], \"mesh3d\": [{\"colorbar\": {\"outlinewidth\": 0, \"ticks\": \"\"}, \"type\": \"mesh3d\"}], \"parcoords\": [{\"line\": {\"colorbar\": {\"outlinewidth\": 0, \"ticks\": \"\"}}, \"type\": \"parcoords\"}], \"pie\": [{\"automargin\": true, \"type\": \"pie\"}], \"scatter\": [{\"marker\": {\"colorbar\": {\"outlinewidth\": 0, \"ticks\": \"\"}}, \"type\": \"scatter\"}], \"scatter3d\": [{\"line\": {\"colorbar\": {\"outlinewidth\": 0, \"ticks\": \"\"}}, \"marker\": {\"colorbar\": {\"outlinewidth\": 0, \"ticks\": \"\"}}, \"type\": \"scatter3d\"}], \"scattercarpet\": [{\"marker\": {\"colorbar\": {\"outlinewidth\": 0, \"ticks\": \"\"}}, \"type\": \"scattercarpet\"}], \"scattergeo\": [{\"marker\": {\"colorbar\": {\"outlinewidth\": 0, \"ticks\": \"\"}}, \"type\": \"scattergeo\"}], \"scattergl\": [{\"marker\": {\"colorbar\": {\"outlinewidth\": 0, \"ticks\": \"\"}}, \"type\": \"scattergl\"}], \"scattermapbox\": [{\"marker\": {\"colorbar\": {\"outlinewidth\": 0, \"ticks\": \"\"}}, \"type\": \"scattermapbox\"}], \"scatterpolar\": [{\"marker\": {\"colorbar\": {\"outlinewidth\": 0, \"ticks\": \"\"}}, \"type\": \"scatterpolar\"}], \"scatterpolargl\": [{\"marker\": {\"colorbar\": {\"outlinewidth\": 0, \"ticks\": \"\"}}, \"type\": \"scatterpolargl\"}], \"scatterternary\": [{\"marker\": {\"colorbar\": {\"outlinewidth\": 0, \"ticks\": \"\"}}, \"type\": \"scatterternary\"}], \"surface\": [{\"colorbar\": {\"outlinewidth\": 0, \"ticks\": \"\"}, \"colorscale\": [[0.0, \"#0d0887\"], [0.1111111111111111, \"#46039f\"], [0.2222222222222222, \"#7201a8\"], [0.3333333333333333, \"#9c179e\"], [0.4444444444444444, \"#bd3786\"], [0.5555555555555556, \"#d8576b\"], [0.6666666666666666, \"#ed7953\"], [0.7777777777777778, \"#fb9f3a\"], [0.8888888888888888, \"#fdca26\"], [1.0, \"#f0f921\"]], \"type\": \"surface\"}], \"table\": [{\"cells\": {\"fill\": {\"color\": \"#EBF0F8\"}, \"line\": {\"color\": \"white\"}}, \"header\": {\"fill\": {\"color\": \"#C8D4E3\"}, \"line\": {\"color\": \"white\"}}, \"type\": \"table\"}]}, \"layout\": {\"annotationdefaults\": {\"arrowcolor\": \"#2a3f5f\", \"arrowhead\": 0, \"arrowwidth\": 1}, \"coloraxis\": {\"colorbar\": {\"outlinewidth\": 0, \"ticks\": \"\"}}, \"colorscale\": {\"diverging\": [[0, \"#8e0152\"], [0.1, \"#c51b7d\"], [0.2, \"#de77ae\"], [0.3, \"#f1b6da\"], [0.4, \"#fde0ef\"], [0.5, \"#f7f7f7\"], [0.6, \"#e6f5d0\"], [0.7, \"#b8e186\"], [0.8, \"#7fbc41\"], [0.9, \"#4d9221\"], [1, \"#276419\"]], \"sequential\": [[0.0, \"#0d0887\"], [0.1111111111111111, \"#46039f\"], [0.2222222222222222, \"#7201a8\"], [0.3333333333333333, \"#9c179e\"], [0.4444444444444444, \"#bd3786\"], [0.5555555555555556, \"#d8576b\"], [0.6666666666666666, \"#ed7953\"], [0.7777777777777778, \"#fb9f3a\"], [0.8888888888888888, \"#fdca26\"], [1.0, \"#f0f921\"]], \"sequentialminus\": [[0.0, \"#0d0887\"], [0.1111111111111111, \"#46039f\"], [0.2222222222222222, \"#7201a8\"], [0.3333333333333333, \"#9c179e\"], [0.4444444444444444, \"#bd3786\"], [0.5555555555555556, \"#d8576b\"], [0.6666666666666666, \"#ed7953\"], [0.7777777777777778, \"#fb9f3a\"], [0.8888888888888888, \"#fdca26\"], [1.0, \"#f0f921\"]]}, \"colorway\": [\"#636efa\", \"#EF553B\", \"#00cc96\", \"#ab63fa\", \"#FFA15A\", \"#19d3f3\", \"#FF6692\", \"#B6E880\", \"#FF97FF\", \"#FECB52\"], \"font\": {\"color\": \"#2a3f5f\"}, \"geo\": {\"bgcolor\": \"white\", \"lakecolor\": \"white\", \"landcolor\": \"#E5ECF6\", \"showlakes\": true, \"showland\": true, \"subunitcolor\": \"white\"}, \"hoverlabel\": {\"align\": \"left\"}, \"hovermode\": \"closest\", \"mapbox\": {\"style\": \"light\"}, \"paper_bgcolor\": \"white\", \"plot_bgcolor\": \"#E5ECF6\", \"polar\": {\"angularaxis\": {\"gridcolor\": \"white\", \"linecolor\": \"white\", \"ticks\": \"\"}, \"bgcolor\": \"#E5ECF6\", \"radialaxis\": {\"gridcolor\": \"white\", \"linecolor\": \"white\", \"ticks\": \"\"}}, \"scene\": {\"xaxis\": {\"backgroundcolor\": \"#E5ECF6\", \"gridcolor\": \"white\", \"gridwidth\": 2, \"linecolor\": \"white\", \"showbackground\": true, \"ticks\": \"\", \"zerolinecolor\": \"white\"}, \"yaxis\": {\"backgroundcolor\": \"#E5ECF6\", \"gridcolor\": \"white\", \"gridwidth\": 2, \"linecolor\": \"white\", \"showbackground\": true, \"ticks\": \"\", \"zerolinecolor\": \"white\"}, \"zaxis\": {\"backgroundcolor\": \"#E5ECF6\", \"gridcolor\": \"white\", \"gridwidth\": 2, \"linecolor\": \"white\", \"showbackground\": true, \"ticks\": \"\", \"zerolinecolor\": \"white\"}}, \"shapedefaults\": {\"line\": {\"color\": \"#2a3f5f\"}}, \"ternary\": {\"aaxis\": {\"gridcolor\": \"white\", \"linecolor\": \"white\", \"ticks\": \"\"}, \"baxis\": {\"gridcolor\": \"white\", \"linecolor\": \"white\", \"ticks\": \"\"}, \"bgcolor\": \"#E5ECF6\", \"caxis\": {\"gridcolor\": \"white\", \"linecolor\": \"white\", \"ticks\": \"\"}}, \"title\": {\"x\": 0.05}, \"xaxis\": {\"automargin\": true, \"gridcolor\": \"white\", \"linecolor\": \"white\", \"ticks\": \"\", \"title\": {\"standoff\": 15}, \"zerolinecolor\": \"white\", \"zerolinewidth\": 2}, \"yaxis\": {\"automargin\": true, \"gridcolor\": \"white\", \"linecolor\": \"white\", \"ticks\": \"\", \"title\": {\"standoff\": 15}, \"zerolinecolor\": \"white\", \"zerolinewidth\": 2}}}, \"width\": 500, \"xaxis\": {\"title\": {\"text\": \"\\u57ce\\u5e02\\u4eba\\u53e3\\u6570\"}}, \"yaxis\": {\"title\": {\"text\": \"\\u5feb\\u9910\\u8f66\\u6536\\u76ca\"}}},\n",
       "                        {\"responsive\": true}\n",
       "                    ).then(function(){\n",
       "                            \n",
       "var gd = document.getElementById('9529c902-0f4c-408b-94ad-453a131794bf');\n",
       "var x = new MutationObserver(function (mutations, observer) {{\n",
       "        var display = window.getComputedStyle(gd).display;\n",
       "        if (!display || display === 'none') {{\n",
       "            console.log([gd, 'removed!']);\n",
       "            Plotly.purge(gd);\n",
       "            observer.disconnect();\n",
       "        }}\n",
       "}});\n",
       "\n",
       "// Listen for the removal of the full notebook cells\n",
       "var notebookContainer = gd.closest('#notebook-container');\n",
       "if (notebookContainer) {{\n",
       "    x.observe(notebookContainer, {childList: true});\n",
       "}}\n",
       "\n",
       "// Listen for the clearing of the current output cell\n",
       "var outputEl = gd.closest('.output');\n",
       "if (outputEl) {{\n",
       "    x.observe(outputEl, {childList: true});\n",
       "}}\n",
       "\n",
       "                        })\n",
       "                };\n",
       "                });\n",
       "            </script>\n",
       "        </div>"
      ]
     },
     "metadata": {},
     "output_type": "display_data"
    }
   ],
   "source": [
    "scatter=go.Scatter(x=df['population'].tolist(),y=df['profit'].tolist(),mode='markers',name='profit')\n",
    "linear_line=go.Scatter(x=df['population'].tolist(),y=y_pred.ravel().tolist(),mode='lines',name='prediction')\n",
    "data=[scatter,linear_line]\n",
    "layout=go.Layout(height=500,width=500,xaxis=dict(title='城市人口数'),yaxis=dict(title='快餐车收益'))\n",
    "figure=go.Figure(data,layout)\n",
    "py.offline.iplot(figure)"
   ]
  },
  {
   "cell_type": "markdown",
   "metadata": {},
   "source": [
    "* 画在图上，又会觉得两条回归线的差别不大。"
   ]
  },
  {
   "cell_type": "markdown",
   "metadata": {},
   "source": [
    "# 2.多变量线性回归"
   ]
  },
  {
   "cell_type": "markdown",
   "metadata": {},
   "source": [
    "## 1)读取数据并理解"
   ]
  },
  {
   "cell_type": "code",
   "execution_count": 46,
   "metadata": {},
   "outputs": [],
   "source": [
    "df2 = pd.read_csv('E:\\Learning\\python\\ML\\code\\ex1-linear regression\\ex1data2.txt',names=['size of house','number of bedroom','house price'])"
   ]
  },
  {
   "cell_type": "code",
   "execution_count": 47,
   "metadata": {},
   "outputs": [
    {
     "data": {
      "text/html": [
       "<div>\n",
       "<style scoped>\n",
       "    .dataframe tbody tr th:only-of-type {\n",
       "        vertical-align: middle;\n",
       "    }\n",
       "\n",
       "    .dataframe tbody tr th {\n",
       "        vertical-align: top;\n",
       "    }\n",
       "\n",
       "    .dataframe thead th {\n",
       "        text-align: right;\n",
       "    }\n",
       "</style>\n",
       "<table border=\"1\" class=\"dataframe\">\n",
       "  <thead>\n",
       "    <tr style=\"text-align: right;\">\n",
       "      <th></th>\n",
       "      <th>size of house</th>\n",
       "      <th>number of bedroom</th>\n",
       "      <th>house price</th>\n",
       "    </tr>\n",
       "  </thead>\n",
       "  <tbody>\n",
       "    <tr>\n",
       "      <th>0</th>\n",
       "      <td>2104</td>\n",
       "      <td>3</td>\n",
       "      <td>399900</td>\n",
       "    </tr>\n",
       "    <tr>\n",
       "      <th>1</th>\n",
       "      <td>1600</td>\n",
       "      <td>3</td>\n",
       "      <td>329900</td>\n",
       "    </tr>\n",
       "    <tr>\n",
       "      <th>2</th>\n",
       "      <td>2400</td>\n",
       "      <td>3</td>\n",
       "      <td>369000</td>\n",
       "    </tr>\n",
       "    <tr>\n",
       "      <th>3</th>\n",
       "      <td>1416</td>\n",
       "      <td>2</td>\n",
       "      <td>232000</td>\n",
       "    </tr>\n",
       "    <tr>\n",
       "      <th>4</th>\n",
       "      <td>3000</td>\n",
       "      <td>4</td>\n",
       "      <td>539900</td>\n",
       "    </tr>\n",
       "  </tbody>\n",
       "</table>\n",
       "</div>"
      ],
      "text/plain": [
       "   size of house  number of bedroom  house price\n",
       "0           2104                  3       399900\n",
       "1           1600                  3       329900\n",
       "2           2400                  3       369000\n",
       "3           1416                  2       232000\n",
       "4           3000                  4       539900"
      ]
     },
     "execution_count": 47,
     "metadata": {},
     "output_type": "execute_result"
    }
   ],
   "source": [
    "df2.head()"
   ]
  },
  {
   "cell_type": "code",
   "execution_count": 48,
   "metadata": {},
   "outputs": [
    {
     "name": "stdout",
     "output_type": "stream",
     "text": [
      "<class 'pandas.core.frame.DataFrame'>\n",
      "RangeIndex: 47 entries, 0 to 46\n",
      "Data columns (total 3 columns):\n",
      " #   Column             Non-Null Count  Dtype\n",
      "---  ------             --------------  -----\n",
      " 0   size of house      47 non-null     int64\n",
      " 1   number of bedroom  47 non-null     int64\n",
      " 2   house price        47 non-null     int64\n",
      "dtypes: int64(3)\n",
      "memory usage: 1.2 KB\n"
     ]
    }
   ],
   "source": [
    "df2.info()\n",
    "#可知三个字段均为整数型，无null值。"
   ]
  },
  {
   "cell_type": "code",
   "execution_count": 49,
   "metadata": {},
   "outputs": [
    {
     "data": {
      "text/html": [
       "<div>\n",
       "<style scoped>\n",
       "    .dataframe tbody tr th:only-of-type {\n",
       "        vertical-align: middle;\n",
       "    }\n",
       "\n",
       "    .dataframe tbody tr th {\n",
       "        vertical-align: top;\n",
       "    }\n",
       "\n",
       "    .dataframe thead th {\n",
       "        text-align: right;\n",
       "    }\n",
       "</style>\n",
       "<table border=\"1\" class=\"dataframe\">\n",
       "  <thead>\n",
       "    <tr style=\"text-align: right;\">\n",
       "      <th></th>\n",
       "      <th>size of house</th>\n",
       "      <th>number of bedroom</th>\n",
       "      <th>house price</th>\n",
       "    </tr>\n",
       "  </thead>\n",
       "  <tbody>\n",
       "    <tr>\n",
       "      <th>count</th>\n",
       "      <td>47.000000</td>\n",
       "      <td>47.000000</td>\n",
       "      <td>47.000000</td>\n",
       "    </tr>\n",
       "    <tr>\n",
       "      <th>mean</th>\n",
       "      <td>2000.680851</td>\n",
       "      <td>3.170213</td>\n",
       "      <td>340412.659574</td>\n",
       "    </tr>\n",
       "    <tr>\n",
       "      <th>std</th>\n",
       "      <td>794.702354</td>\n",
       "      <td>0.760982</td>\n",
       "      <td>125039.899586</td>\n",
       "    </tr>\n",
       "    <tr>\n",
       "      <th>min</th>\n",
       "      <td>852.000000</td>\n",
       "      <td>1.000000</td>\n",
       "      <td>169900.000000</td>\n",
       "    </tr>\n",
       "    <tr>\n",
       "      <th>25%</th>\n",
       "      <td>1432.000000</td>\n",
       "      <td>3.000000</td>\n",
       "      <td>249900.000000</td>\n",
       "    </tr>\n",
       "    <tr>\n",
       "      <th>50%</th>\n",
       "      <td>1888.000000</td>\n",
       "      <td>3.000000</td>\n",
       "      <td>299900.000000</td>\n",
       "    </tr>\n",
       "    <tr>\n",
       "      <th>75%</th>\n",
       "      <td>2269.000000</td>\n",
       "      <td>4.000000</td>\n",
       "      <td>384450.000000</td>\n",
       "    </tr>\n",
       "    <tr>\n",
       "      <th>max</th>\n",
       "      <td>4478.000000</td>\n",
       "      <td>5.000000</td>\n",
       "      <td>699900.000000</td>\n",
       "    </tr>\n",
       "  </tbody>\n",
       "</table>\n",
       "</div>"
      ],
      "text/plain": [
       "       size of house  number of bedroom    house price\n",
       "count      47.000000          47.000000      47.000000\n",
       "mean     2000.680851           3.170213  340412.659574\n",
       "std       794.702354           0.760982  125039.899586\n",
       "min       852.000000           1.000000  169900.000000\n",
       "25%      1432.000000           3.000000  249900.000000\n",
       "50%      1888.000000           3.000000  299900.000000\n",
       "75%      2269.000000           4.000000  384450.000000\n",
       "max      4478.000000           5.000000  699900.000000"
      ]
     },
     "execution_count": 49,
     "metadata": {},
     "output_type": "execute_result"
    }
   ],
   "source": [
    "df2.describe()\n",
    "# 数据无异常"
   ]
  },
  {
   "cell_type": "code",
   "execution_count": 50,
   "metadata": {},
   "outputs": [
    {
     "data": {
      "text/plain": [
       "0"
      ]
     },
     "execution_count": 50,
     "metadata": {},
     "output_type": "execute_result"
    }
   ],
   "source": [
    "np.sum(df2.duplicated(subset=['size of house', 'number of bedroom', 'house price']))\n",
    "#数据无重复值，无需进行重复值处理。"
   ]
  },
  {
   "cell_type": "markdown",
   "metadata": {},
   "source": [
    "## 2）特征缩放（Feature Scaling）"
   ]
  },
  {
   "cell_type": "code",
   "execution_count": 51,
   "metadata": {},
   "outputs": [],
   "source": [
    "# 设置特征缩放的函数\n",
    "def normalize_feature(df2):\n",
    "    df2=df2.apply(lambda column: (column - column.mean()) / column.std())\n",
    "    return df2"
   ]
  },
  {
   "cell_type": "code",
   "execution_count": 52,
   "metadata": {},
   "outputs": [
    {
     "data": {
      "text/html": [
       "<div>\n",
       "<style scoped>\n",
       "    .dataframe tbody tr th:only-of-type {\n",
       "        vertical-align: middle;\n",
       "    }\n",
       "\n",
       "    .dataframe tbody tr th {\n",
       "        vertical-align: top;\n",
       "    }\n",
       "\n",
       "    .dataframe thead th {\n",
       "        text-align: right;\n",
       "    }\n",
       "</style>\n",
       "<table border=\"1\" class=\"dataframe\">\n",
       "  <thead>\n",
       "    <tr style=\"text-align: right;\">\n",
       "      <th></th>\n",
       "      <th>size of house</th>\n",
       "      <th>number of bedroom</th>\n",
       "      <th>house price</th>\n",
       "    </tr>\n",
       "  </thead>\n",
       "  <tbody>\n",
       "    <tr>\n",
       "      <th>0</th>\n",
       "      <td>0.130010</td>\n",
       "      <td>-0.223675</td>\n",
       "      <td>0.475747</td>\n",
       "    </tr>\n",
       "    <tr>\n",
       "      <th>1</th>\n",
       "      <td>-0.504190</td>\n",
       "      <td>-0.223675</td>\n",
       "      <td>-0.084074</td>\n",
       "    </tr>\n",
       "    <tr>\n",
       "      <th>2</th>\n",
       "      <td>0.502476</td>\n",
       "      <td>-0.223675</td>\n",
       "      <td>0.228626</td>\n",
       "    </tr>\n",
       "    <tr>\n",
       "      <th>3</th>\n",
       "      <td>-0.735723</td>\n",
       "      <td>-1.537767</td>\n",
       "      <td>-0.867025</td>\n",
       "    </tr>\n",
       "    <tr>\n",
       "      <th>4</th>\n",
       "      <td>1.257476</td>\n",
       "      <td>1.090417</td>\n",
       "      <td>1.595389</td>\n",
       "    </tr>\n",
       "  </tbody>\n",
       "</table>\n",
       "</div>"
      ],
      "text/plain": [
       "   size of house  number of bedroom  house price\n",
       "0       0.130010          -0.223675     0.475747\n",
       "1      -0.504190          -0.223675    -0.084074\n",
       "2       0.502476          -0.223675     0.228626\n",
       "3      -0.735723          -1.537767    -0.867025\n",
       "4       1.257476           1.090417     1.595389"
      ]
     },
     "execution_count": 52,
     "metadata": {},
     "output_type": "execute_result"
    }
   ],
   "source": [
    "df2=normalize_feature(df2)\n",
    "df2.head()"
   ]
  },
  {
   "cell_type": "markdown",
   "metadata": {},
   "source": [
    "## 3）梯度下降（gradient descent）"
   ]
  },
  {
   "cell_type": "code",
   "execution_count": 53,
   "metadata": {},
   "outputs": [
    {
     "name": "stdout",
     "output_type": "stream",
     "text": [
      "[[-1.00959430e-16  8.84683917e-01 -5.30967489e-02]]\n",
      "0.13068648343986788\n"
     ]
    }
   ],
   "source": [
    "# 所需要的函数已在前面定义过，我们直接调用即可\n",
    "X2=get_X(df2)\n",
    "y2=get_y(df2)\n",
    "theta2=np.matrix(np.zeros((1,3)))\n",
    "alpha2=0.02\n",
    "iters2=1000\n",
    "\n",
    "# 得到最终的theta\n",
    "print(gradientDescent(X2, y2, theta2, alpha2, iters2)[0])\n",
    "# 最小的代价函数\n",
    "print(gradientDescent(X2, y2, theta2, alpha2, iters2)[1].min())"
   ]
  },
  {
   "cell_type": "code",
   "execution_count": 54,
   "metadata": {},
   "outputs": [
    {
     "data": {
      "application/vnd.plotly.v1+json": {
       "config": {
        "linkText": "Export to plot.ly",
        "plotlyServerURL": "https://plot.ly",
        "showLink": true
       },
       "data": [
        {
         "line": {
          "color": "rgba(255, 153, 51, 1.0)",
          "dash": "solid",
          "shape": "linear",
          "width": 1.3
         },
         "mode": "lines",
         "name": "0",
         "text": "",
         "type": "scatter",
         "x": [
          0,
          1,
          2,
          3,
          4,
          5,
          6,
          7,
          8,
          9,
          10,
          11,
          12,
          13,
          14,
          15,
          16,
          17,
          18,
          19,
          20,
          21,
          22,
          23,
          24,
          25,
          26,
          27,
          28,
          29,
          30,
          31,
          32,
          33,
          34,
          35,
          36,
          37,
          38,
          39,
          40,
          41,
          42,
          43,
          44,
          45,
          46,
          47,
          48,
          49,
          50,
          51,
          52,
          53,
          54,
          55,
          56,
          57,
          58,
          59,
          60,
          61,
          62,
          63,
          64,
          65,
          66,
          67,
          68,
          69,
          70,
          71,
          72,
          73,
          74,
          75,
          76,
          77,
          78,
          79,
          80,
          81,
          82,
          83,
          84,
          85,
          86,
          87,
          88,
          89,
          90,
          91,
          92,
          93,
          94,
          95,
          96,
          97,
          98,
          99,
          100,
          101,
          102,
          103,
          104,
          105,
          106,
          107,
          108,
          109,
          110,
          111,
          112,
          113,
          114,
          115,
          116,
          117,
          118,
          119,
          120,
          121,
          122,
          123,
          124,
          125,
          126,
          127,
          128,
          129,
          130,
          131,
          132,
          133,
          134,
          135,
          136,
          137,
          138,
          139,
          140,
          141,
          142,
          143,
          144,
          145,
          146,
          147,
          148,
          149,
          150,
          151,
          152,
          153,
          154,
          155,
          156,
          157,
          158,
          159,
          160,
          161,
          162,
          163,
          164,
          165,
          166,
          167,
          168,
          169,
          170,
          171,
          172,
          173,
          174,
          175,
          176,
          177,
          178,
          179,
          180,
          181,
          182,
          183,
          184,
          185,
          186,
          187,
          188,
          189,
          190,
          191,
          192,
          193,
          194,
          195,
          196,
          197,
          198,
          199,
          200,
          201,
          202,
          203,
          204,
          205,
          206,
          207,
          208,
          209,
          210,
          211,
          212,
          213,
          214,
          215,
          216,
          217,
          218,
          219,
          220,
          221,
          222,
          223,
          224,
          225,
          226,
          227,
          228,
          229,
          230,
          231,
          232,
          233,
          234,
          235,
          236,
          237,
          238,
          239,
          240,
          241,
          242,
          243,
          244,
          245,
          246,
          247,
          248,
          249,
          250,
          251,
          252,
          253,
          254,
          255,
          256,
          257,
          258,
          259,
          260,
          261,
          262,
          263,
          264,
          265,
          266,
          267,
          268,
          269,
          270,
          271,
          272,
          273,
          274,
          275,
          276,
          277,
          278,
          279,
          280,
          281,
          282,
          283,
          284,
          285,
          286,
          287,
          288,
          289,
          290,
          291,
          292,
          293,
          294,
          295,
          296,
          297,
          298,
          299,
          300,
          301,
          302,
          303,
          304,
          305,
          306,
          307,
          308,
          309,
          310,
          311,
          312,
          313,
          314,
          315,
          316,
          317,
          318,
          319,
          320,
          321,
          322,
          323,
          324,
          325,
          326,
          327,
          328,
          329,
          330,
          331,
          332,
          333,
          334,
          335,
          336,
          337,
          338,
          339,
          340,
          341,
          342,
          343,
          344,
          345,
          346,
          347,
          348,
          349,
          350,
          351,
          352,
          353,
          354,
          355,
          356,
          357,
          358,
          359,
          360,
          361,
          362,
          363,
          364,
          365,
          366,
          367,
          368,
          369,
          370,
          371,
          372,
          373,
          374,
          375,
          376,
          377,
          378,
          379,
          380,
          381,
          382,
          383,
          384,
          385,
          386,
          387,
          388,
          389,
          390,
          391,
          392,
          393,
          394,
          395,
          396,
          397,
          398,
          399,
          400,
          401,
          402,
          403,
          404,
          405,
          406,
          407,
          408,
          409,
          410,
          411,
          412,
          413,
          414,
          415,
          416,
          417,
          418,
          419,
          420,
          421,
          422,
          423,
          424,
          425,
          426,
          427,
          428,
          429,
          430,
          431,
          432,
          433,
          434,
          435,
          436,
          437,
          438,
          439,
          440,
          441,
          442,
          443,
          444,
          445,
          446,
          447,
          448,
          449,
          450,
          451,
          452,
          453,
          454,
          455,
          456,
          457,
          458,
          459,
          460,
          461,
          462,
          463,
          464,
          465,
          466,
          467,
          468,
          469,
          470,
          471,
          472,
          473,
          474,
          475,
          476,
          477,
          478,
          479,
          480,
          481,
          482,
          483,
          484,
          485,
          486,
          487,
          488,
          489,
          490,
          491,
          492,
          493,
          494,
          495,
          496,
          497,
          498,
          499,
          500,
          501,
          502,
          503,
          504,
          505,
          506,
          507,
          508,
          509,
          510,
          511,
          512,
          513,
          514,
          515,
          516,
          517,
          518,
          519,
          520,
          521,
          522,
          523,
          524,
          525,
          526,
          527,
          528,
          529,
          530,
          531,
          532,
          533,
          534,
          535,
          536,
          537,
          538,
          539,
          540,
          541,
          542,
          543,
          544,
          545,
          546,
          547,
          548,
          549,
          550,
          551,
          552,
          553,
          554,
          555,
          556,
          557,
          558,
          559,
          560,
          561,
          562,
          563,
          564,
          565,
          566,
          567,
          568,
          569,
          570,
          571,
          572,
          573,
          574,
          575,
          576,
          577,
          578,
          579,
          580,
          581,
          582,
          583,
          584,
          585,
          586,
          587,
          588,
          589,
          590,
          591,
          592,
          593,
          594,
          595,
          596,
          597,
          598,
          599,
          600,
          601,
          602,
          603,
          604,
          605,
          606,
          607,
          608,
          609,
          610,
          611,
          612,
          613,
          614,
          615,
          616,
          617,
          618,
          619,
          620,
          621,
          622,
          623,
          624,
          625,
          626,
          627,
          628,
          629,
          630,
          631,
          632,
          633,
          634,
          635,
          636,
          637,
          638,
          639,
          640,
          641,
          642,
          643,
          644,
          645,
          646,
          647,
          648,
          649,
          650,
          651,
          652,
          653,
          654,
          655,
          656,
          657,
          658,
          659,
          660,
          661,
          662,
          663,
          664,
          665,
          666,
          667,
          668,
          669,
          670,
          671,
          672,
          673,
          674,
          675,
          676,
          677,
          678,
          679,
          680,
          681,
          682,
          683,
          684,
          685,
          686,
          687,
          688,
          689,
          690,
          691,
          692,
          693,
          694,
          695,
          696,
          697,
          698,
          699,
          700,
          701,
          702,
          703,
          704,
          705,
          706,
          707,
          708,
          709,
          710,
          711,
          712,
          713,
          714,
          715,
          716,
          717,
          718,
          719,
          720,
          721,
          722,
          723,
          724,
          725,
          726,
          727,
          728,
          729,
          730,
          731,
          732,
          733,
          734,
          735,
          736,
          737,
          738,
          739,
          740,
          741,
          742,
          743,
          744,
          745,
          746,
          747,
          748,
          749,
          750,
          751,
          752,
          753,
          754,
          755,
          756,
          757,
          758,
          759,
          760,
          761,
          762,
          763,
          764,
          765,
          766,
          767,
          768,
          769,
          770,
          771,
          772,
          773,
          774,
          775,
          776,
          777,
          778,
          779,
          780,
          781,
          782,
          783,
          784,
          785,
          786,
          787,
          788,
          789,
          790,
          791,
          792,
          793,
          794,
          795,
          796,
          797,
          798,
          799,
          800,
          801,
          802,
          803,
          804,
          805,
          806,
          807,
          808,
          809,
          810,
          811,
          812,
          813,
          814,
          815,
          816,
          817,
          818,
          819,
          820,
          821,
          822,
          823,
          824,
          825,
          826,
          827,
          828,
          829,
          830,
          831,
          832,
          833,
          834,
          835,
          836,
          837,
          838,
          839,
          840,
          841,
          842,
          843,
          844,
          845,
          846,
          847,
          848,
          849,
          850,
          851,
          852,
          853,
          854,
          855,
          856,
          857,
          858,
          859,
          860,
          861,
          862,
          863,
          864,
          865,
          866,
          867,
          868,
          869,
          870,
          871,
          872,
          873,
          874,
          875,
          876,
          877,
          878,
          879,
          880,
          881,
          882,
          883,
          884,
          885,
          886,
          887,
          888,
          889,
          890,
          891,
          892,
          893,
          894,
          895,
          896,
          897,
          898,
          899,
          900,
          901,
          902,
          903,
          904,
          905,
          906,
          907,
          908,
          909,
          910,
          911,
          912,
          913,
          914,
          915,
          916,
          917,
          918,
          919,
          920,
          921,
          922,
          923,
          924,
          925,
          926,
          927,
          928,
          929,
          930,
          931,
          932,
          933,
          934,
          935,
          936,
          937,
          938,
          939,
          940,
          941,
          942,
          943,
          944,
          945,
          946,
          947,
          948,
          949,
          950,
          951,
          952,
          953,
          954,
          955,
          956,
          957,
          958,
          959,
          960,
          961,
          962,
          963,
          964,
          965,
          966,
          967,
          968,
          969,
          970,
          971,
          972,
          973,
          974,
          975,
          976,
          977,
          978,
          979,
          980,
          981,
          982,
          983,
          984,
          985,
          986,
          987,
          988,
          989,
          990,
          991,
          992,
          993,
          994,
          995,
          996,
          997,
          998,
          999
         ],
         "y": [
          0.47186307832380486,
          0.4553469590285929,
          0.43975545567938673,
          0.4250341405053844,
          0.41113183875275494,
          0.3980004333990266,
          0.38559468160574295,
          0.3738720422035682,
          0.36279251354646125,
          0.35231848111144215,
          0.34241457425795097,
          0.333047531596059,
          0.3241860744458949,
          0.3158007879017849,
          0.3078640090438594,
          0.30034972186737774,
          0.293233458525861,
          0.28649220650841817,
          0.28010432139447183,
          0.2740494448505529,
          0.26830842755399126,
          0.26286325674728817,
          0.25769698814476505,
          0.2527936819298258,
          0.2481383425969051,
          0.24371686240696275,
          0.2395159682392843,
          0.23552317163541028,
          0.23172672184329454,
          0.2281155616813322,
          0.22467928605274243,
          0.22140810295098381,
          0.21829279680646263,
          0.21532469403379526,
          0.21249563064735122,
          0.2097979218207562,
          0.20722433327350864,
          0.20476805437489196,
          0.20242267286196394,
          0.20018215107461676,
          0.1980408036165268,
          0.1959932763563032,
          0.19403452668829055,
          0.19215980497732846,
          0.19036463711631807,
          0.18864480812972823,
          0.1869963467601892,
          0.18541551097910527,
          0.18389877436576582,
          0.18244281330277573,
          0.1810444949387584,
          0.17970086587223907,
          0.17840914151338252,
          0.17716669608286653,
          0.17597105320962028,
          0.17481987709145666,
          0.1737109641847898,
          0.1726422353916642,
          0.17161172871422806,
          0.1706175923485815,
          0.16965807819161774,
          0.16873153573605876,
          0.1678364063303812,
          0.16697121778172586,
          0.16613457928120287,
          0.16532517663224072,
          0.16454176776379253,
          0.16378317851130353,
          0.1630482986493728,
          0.16233607816100767,
          0.16164552372927696,
          0.1609756954380211,
          0.16032570366908128,
          0.15969470618425963,
          0.15908190538093542,
          0.15848654571092338,
          0.1579079112527886,
          0.15734532342842,
          0.15679813885521562,
          0.15626574732575504,
          0.1557475699073196,
          0.15524305715408174,
          0.15475168742521578,
          0.15427296530258666,
          0.15380642010205675,
          0.1533516044728048,
          0.1529080930793921,
          0.15247548136162384,
          0.15205338436755328,
          0.15164143565525304,
          0.15123928625924457,
          0.15084660371771874,
          0.15046307115691698,
          0.1500883864292571,
          0.1497222613019953,
          0.14936442069340647,
          0.14901460195364769,
          0.14867255418763892,
          0.14833803761745537,
          0.14801082298187546,
          0.14769069097087112,
          0.14737743169295844,
          0.14707084417345279,
          0.14677073588178843,
          0.14647692228617465,
          0.14618922643396215,
          0.14590747855619315,
          0.14563151569489727,
          0.14536118135178472,
          0.14509632515706639,
          0.14483680255720757,
          0.14458247452049433,
          0.14433320725935708,
          0.14408887196846001,
          0.14384934457762483,
          0.14361450551871144,
          0.14338423950563287,
          0.14315843532672837,
          0.142936985648768,
          0.14271978683190215,
          0.14250673875491382,
          0.14229774465016715,
          0.1420927109476835,
          0.14189154712780983,
          0.14169416558197576,
          0.1415004814810667,
          0.14131041265096744,
          0.14112387945485827,
          0.14094080468186965,
          0.14076111344172562,
          0.1405847330650279,
          0.14041159300885367,
          0.14024162476735846,
          0.14007476178709544,
          0.13991093938677804,
          0.13975009468123106,
          0.13959216650928757,
          0.13943709536540677,
          0.13928482333479814,
          0.13913529403185257,
          0.1389884525416913,
          0.13884424536465484,
          0.13870262036356568,
          0.1385635267136069,
          0.13842691485467004,
          0.13829273644603107,
          0.13816094432322634,
          0.1380314924570026,
          0.13790433591422718,
          0.13777943082064817,
          0.13765673432540249,
          0.13753620456717452,
          0.13741780064191506,
          0.13730148257203428,
          0.13718721127698857,
          0.13707494854518507,
          0.13696465700713226,
          0.1368563001097695,
          0.1367498420919121,
          0.13664524796075178,
          0.13654248346935713,
          0.1364415150951199,
          0.1363423100190983,
          0.13624483610620924,
          0.13614906188622622,
          0.1360549565355399,
          0.1359624898596432,
          0.1358716322763026,
          0.13578235479938158,
          0.13569462902328253,
          0.13560842710797666,
          0.1355237217645915,
          0.13544048624152957,
          0.13535869431109096,
          0.13527832025657616,
          0.1351993388598446,
          0.13512172538930842,
          0.13504545558833939,
          0.13497050566407032,
          0.13489685227657186,
          0.13482447252838764,
          0.13475334395441083,
          0.13468344451208702,
          0.13461475257192793,
          0.13454724690832284,
          0.13448090669063406,
          0.1344157114745636,
          0.13435164119378037,
          0.1342886761517955,
          0.13422679701407586,
          0.13416598480038586,
          0.1341062208773475,
          0.13404748695120985,
          0.13398976506082041,
          0.13393303757078814,
          0.13387728716483302,
          0.13382249683931294,
          0.1337686498969216,
          0.13371572994055184,
          0.1336637208673163,
          0.13361260686272108,
          0.13356237239498617,
          0.13351300220950757,
          0.13346448132345518,
          0.133416795020503,
          0.1333699288456859,
          0.13332386860037918,
          0.1332786003373966,
          0.1332341103562025,
          0.13319038519823506,
          0.13314741164233648,
          0.13310517670028654,
          0.13306366761243682,
          0.13302287184344175,
          0.13298277707808417,
          0.1329433712171918,
          0.13290464237364252,
          0.1328665788684556,
          0.13282916922696586,
          0.13279240217507954,
          0.13275626663560802,
          0.13272075172467868,
          0.1326858467482197,
          0.13265154119851721,
          0.13261782475084263,
          0.13258468726014885,
          0.1325521187578326,
          0.13252010944856174,
          0.132488649707166,
          0.13245773007558947,
          0.1324273412599023,
          0.13239747412737174,
          0.1323681197035902,
          0.13233926916965855,
          0.1323109138594244,
          0.1322830452567727,
          0.1322556549929692,
          0.13222873484405326,
          0.13220227672828105,
          0.13217627270361693,
          0.13215071496527148,
          0.13212559584328618,
          0.1321009078001632,
          0.13207664342853911,
          0.13205279544890164,
          0.1320293567073492,
          0.13200632017339106,
          0.13198367893778848,
          0.131961426210435,
          0.13193955531827575,
          0.13191805970326484,
          0.13189693292035917,
          0.13187616863554977,
          0.13185576062392762,
          0.13183570276778508,
          0.13181598905475161,
          0.13179661357596242,
          0.13177757052426053,
          0.1317588541924309,
          0.13174045897146588,
          0.1317223793488621,
          0.13170460990694713,
          0.13168714532123654,
          0.1316699803588194,
          0.13165310987677334,
          0.13163652882060672,
          0.131620232222729,
          0.13160421520094795,
          0.13158847295699339,
          0.13157300077506665,
          0.1315577940204161,
          0.13154284813793746,
          0.13152815865079837,
          0.13151372115908766,
          0.13149953133848802,
          0.13148558493897178,
          0.13147187778351976,
          0.13145840576686232,
          0.13144516485424268,
          0.13143215108020137,
          0.13141936054738224,
          0.1314067894253594,
          0.13139443394948397,
          0.1313822904197516,
          0.13137035519968931,
          0.1313586247152616,
          0.13134709545379614,
          0.1313357639629271,
          0.1313246268495579,
          0.1313136807788413,
          0.13130292247317724,
          0.13129234871122827,
          0.1312819563269519,
          0.13127174220864957,
          0.1312617032980324,
          0.1312518365893029,
          0.1312421391282523,
          0.13123260801137426,
          0.1312232403849929,
          0.1312140334444067,
          0.13120498443304696,
          0.13119609064165033,
          0.1311873494074464,
          0.1311787581133586,
          0.13117031418721953,
          0.1311620151009992,
          0.13115385837004687,
          0.13114584155234638,
          0.13113796224778324,
          0.13113021809742553,
          0.13112260678281648,
          0.1311151260252794,
          0.13110777358523448,
          0.13110054726152773,
          0.1310934448907711,
          0.13108646434669402,
          0.13107960353950612,
          0.13107286041527114,
          0.13106623295529116,
          0.131059719175502,
          0.13105331712587837,
          0.13104702488984982,
          0.1310408405837264,
          0.1310347623561343,
          0.13102878838746115,
          0.1310229168893111,
          0.13101714610396875,
          0.13101147430387283,
          0.13100589979109864,
          0.13100042089684935,
          0.13099503598095627,
          0.13098974343138756,
          0.13098454166376522,
          0.1309794291208908,
          0.13097440427227894,
          0.13096946561369868,
          0.13096461166672344,
          0.13095984097828794,
          0.1309551521202532,
          0.13095054368897868,
          0.13094601430490202,
          0.130941562612126,
          0.13093718727801237,
          0.1309328869927828,
          0.13092866046912674,
          0.13092450644181594,
          0.13092042366732562,
          0.13091641092346182,
          0.1309124670089959,
          0.1309085907433045,
          0.13090478096601624,
          0.13090103653666416,
          0.1308973563343443,
          0.13089373925738002,
          0.13089018422299217,
          0.13088669016697513,
          0.13088325604337767,
          0.13087988082419033,
          0.1308765634990372,
          0.1308733030748737,
          0.1308700985756892,
          0.13086694904221471,
          0.13086385353163582,
          0.13086081111731024,
          0.1308578208884906,
          0.13085488195005157,
          0.1308519934222222,
          0.13084915444032205,
          0.13084636415450268,
          0.13084362172949318,
          0.13084092634435004,
          0.13083827719221128,
          0.13083567348005512,
          0.13083311442846235,
          0.1308305992713832,
          0.13082812725590798,
          0.13082569764204122,
          0.13082330970248093,
          0.13082096272240037,
          0.13081865599923387,
          0.13081638884246716,
          0.13081416057343004,
          0.13081197052509336,
          0.1308098180418697,
          0.1308077024794166,
          0.1308056232044438,
          0.13080357959452418,
          0.13080157103790652,
          0.13079959693333304,
          0.13079765668985924,
          0.1307957497266769,
          0.13079387547294039,
          0.13079203336759537,
          0.13079022285921152,
          0.13078844340581677,
          0.1307866944747355,
          0.1307849755424289,
          0.13078328609433834,
          0.13078162562473125,
          0.13077999363654963,
          0.1307783896412616,
          0.13077681315871473,
          0.1307752637169927,
          0.13077374085227364,
          0.13077224410869154,
          0.1307707730381999,
          0.13076932720043716,
          0.1307679061625954,
          0.13076650949929028,
          0.13076513679243412,
          0.13076378763111052,
          0.13076246161145139,
          0.13076115833651603,
          0.13075987741617243,
          0.13075861846698028,
          0.13075738111207638,
          0.13075616498106174,
          0.1307549697098906,
          0.13075379494076167,
          0.1307526403220109,
          0.1307515055080061,
          0.13075039015904374,
          0.13074929394124704,
          0.1307482165264661,
          0.13074715759217964,
          0.13074611682139853,
          0.13074509390257083,
          0.13074408852948846,
          0.13074310040119577,
          0.1307421292218992,
          0.13074117470087881,
          0.13074023655240138,
          0.1307393144956347,
          0.13073840825456354,
          0.1307375175579072,
          0.13073664213903796,
          0.13073578173590167,
          0.13073493609093895,
          0.13073410495100837,
          0.13073328806731047,
          0.1307324851953133,
          0.1307316960946795,
          0.1307309205291938,
          0.13073015826669296,
          0.13072940907899577,
          0.130728672741835,
          0.13072794903479007,
          0.13072723774122147,
          0.13072653864820533,
          0.1307258515464701,
          0.13072517623033392,
          0.13072451249764266,
          0.13072386014970988,
          0.13072321899125705,
          0.13072258883035517,
          0.13072196947836737,
          0.1307213607498923,
          0.13072076246270892,
          0.13072017443772158,
          0.13071959649890671,
          0.13071902847325986,
          0.13071847019074426,
          0.13071792148423952,
          0.130717382189492,
          0.1307168521450653,
          0.13071633119229215,
          0.13071581917522673,
          0.13071531594059824,
          0.1307148213377648,
          0.13071433521866851,
          0.130713857437791,
          0.13071338785210973,
          0.13071292632105583,
          0.13071247270647116,
          0.13071202687256747,
          0.1307115886858857,
          0.13071115801525585,
          0.13071073473175798,
          0.1307103187086833,
          0.13070990982149655,
          0.13070950794779843,
          0.1307091129672893,
          0.13070872476173276,
          0.1307083432149206,
          0.130707968212638,
          0.13070759964262896,
          0.13070723739456314,
          0.13070688136000264,
          0.1307065314323695,
          0.1307061875069139,
          0.13070584948068267,
          0.13070551725248875,
          0.13070519072288048,
          0.1307048697941122,
          0.13070455437011472,
          0.13070424435646688,
          0.13070393966036695,
          0.13070364019060496,
          0.13070334585753557,
          0.1307030565730509,
          0.13070277225055463,
          0.1307024928049355,
          0.13070221815254238,
          0.13070194821115874,
          0.13070168289997847,
          0.13070142213958139,
          0.13070116585190966,
          0.13070091396024427,
          0.13070066638918224,
          0.1307004230646137,
          0.1307001839137004,
          0.13069994886485292,
          0.1306997178477103,
          0.13069949079311804,
          0.13069926763310816,
          0.13069904830087817,
          0.1306988327307717,
          0.1306986208582585,
          0.13069841261991508,
          0.1306982079534059,
          0.13069800679746452,
          0.1306978090918757,
          0.13069761477745662,
          0.13069742379604,
          0.130697236090456,
          0.13069705160451545,
          0.13069687028299307,
          0.13069669207161078,
          0.13069651691702155,
          0.1306963447667933,
          0.13069617556939336,
          0.13069600927417302,
          0.1306958458313522,
          0.13069568519200478,
          0.1306955273080439,
          0.13069537213220742,
          0.13069521961804387,
          0.13069506971989855,
          0.13069492239289993,
          0.1306947775929461,
          0.13069463527669153,
          0.13069449540153436,
          0.13069435792560333,
          0.13069422280774534,
          0.13069409000751336,
          0.1306939594851539,
          0.13069383120159553,
          0.13069370511843703,
          0.13069358119793562,
          0.13069345940299604,
          0.13069333969715946,
          0.13069322204459222,
          0.13069310641007537,
          0.130692992758994,
          0.13069288105732701,
          0.13069277127163678,
          0.13069266336905938,
          0.13069255731729443,
          0.13069245308459565,
          0.13069235063976126,
          0.1306922499521247,
          0.13069215099154544,
          0.13069205372839982,
          0.13069195813357254,
          0.1306918641784475,
          0.13069177183489938,
          0.13069168107528562,
          0.13069159187243742,
          0.13069150419965228,
          0.13069141803068557,
          0.13069133333974275,
          0.13069125010147195,
          0.13069116829095603,
          0.13069108788370518,
          0.13069100885564977,
          0.13069093118313296,
          0.13069085484290371,
          0.13069077981210978,
          0.13069070606829092,
          0.13069063358937213,
          0.13069056235365706,
          0.13069049233982152,
          0.13069042352690702,
          0.13069035589431463,
          0.13069028942179875,
          0.13069022408946104,
          0.1306901598777444,
          0.1306900967674273,
          0.13069003473961774,
          0.13068997377574798,
          0.1306899138575686,
          0.1306898549671433,
          0.13068979708684336,
          0.1306897401993425,
          0.13068968428761166,
          0.1306896293349137,
          0.13068957532479883,
          0.1306895222410992,
          0.1306894700679243,
          0.13068941878965637,
          0.1306893683909453,
          0.13068931885670446,
          0.13068927017210588,
          0.13068922232257593,
          0.13068917529379107,
          0.1306891290716733,
          0.13068908364238618,
          0.1306890389923306,
          0.13068899510814064,
          0.1306889519766798,
          0.13068890958503668,
          0.13068886792052153,
          0.13068882697066223,
          0.13068878672320047,
          0.13068874716608833,
          0.13068870828748455,
          0.13068867007575077,
          0.13068863251944865,
          0.13068859560733564,
          0.1306885593283623,
          0.13068852367166855,
          0.13068848862658072,
          0.13068845418260813,
          0.1306884203294401,
          0.13068838705694275,
          0.13068835435515605,
          0.13068832221429086,
          0.13068829062472587,
          0.1306882595770049,
          0.13068822906183378,
          0.13068819907007792,
          0.1306881695927595,
          0.1306881406210544,
          0.13068811214629014,
          0.13068808415994282,
          0.13068805665363478,
          0.1306880296191322,
          0.13068800304834224,
          0.1306879769333111,
          0.13068795126622132,
          0.13068792603938945,
          0.130687901245264,
          0.1306878768764229,
          0.13068785292557136,
          0.13068782938553986,
          0.1306878062492816,
          0.130687783509871,
          0.13068776116050093,
          0.13068773919448123,
          0.13068771760523643,
          0.13068769638630387,
          0.1306876755313317,
          0.13068765503407698,
          0.1306876348884041,
          0.13068761508828228,
          0.13068759562778462,
          0.1306875765010855,
          0.13068755770245954,
          0.13068753922627935,
          0.13068752106701415,
          0.130687503219228,
          0.13068748567757824,
          0.13068746843681378,
          0.13068745149177377,
          0.1306874348373856,
          0.13068741846866397,
          0.13068740238070886,
          0.1306873865687044,
          0.13068737102791733,
          0.13068735575369556,
          0.13068734074146676,
          0.1306873259867371,
          0.13068731148508977,
          0.13068729723218384,
          0.1306872832237526,
          0.13068726945560274,
          0.13068725592361283,
          0.130687242623732,
          0.13068722955197906,
          0.13068721670444103,
          0.13068720407727194,
          0.13068719166669202,
          0.1306871794689861,
          0.1306871674805028,
          0.13068715569765355,
          0.13068714411691099,
          0.13068713273480864,
          0.1306871215479392,
          0.13068711055295396,
          0.1306870997465615,
          0.13068708912552715,
          0.13068707868667132,
          0.1306870684268694,
          0.1306870583430499,
          0.13068704843219442,
          0.13068703869133608,
          0.13068702911755908,
          0.13068701970799748,
          0.13068701045983458,
          0.13068700137030193,
          0.13068699243667858,
          0.1306869836562904,
          0.13068697502650883,
          0.13068696654475073,
          0.13068695820847712,
          0.13068695001519237,
          0.13068694196244404,
          0.13068693404782136,
          0.13068692626895537,
          0.13068691862351728,
          0.1306869111092186,
          0.13068690372380976,
          0.13068689646508014,
          0.13068688933085673,
          0.13068688231900405,
          0.13068687542742302,
          0.13068686865405063,
          0.13068686199685944,
          0.13068685545385655,
          0.1306868490230833,
          0.1306868427026147,
          0.13068683649055873,
          0.13068683038505588,
          0.13068682438427837,
          0.13068681848643,
          0.13068681268974514,
          0.13068680699248866,
          0.1306868013929551,
          0.13068679588946824,
          0.13068679048038065,
          0.13068678516407303,
          0.13068677993895408,
          0.13068677480345967,
          0.1306867697560525,
          0.13068676479522154,
          0.13068675991948192,
          0.13068675512737393,
          0.13068675041746328,
          0.13068674578833991,
          0.13068674123861818,
          0.13068673676693607,
          0.13068673237195508,
          0.13068672805235954,
          0.1306867238068564,
          0.13068671963417483,
          0.13068671553306566,
          0.1306867115023013,
          0.1306867075406751,
          0.13068670364700116,
          0.13068669982011408,
          0.13068669605886804,
          0.13068669236213726,
          0.13068668872881514,
          0.130686685157814,
          0.130686681648065,
          0.1306866781985173,
          0.13068667480813842,
          0.13068667147591345,
          0.1306866682008449,
          0.13068666498195236,
          0.13068666181827227,
          0.13068665870885762,
          0.13068665565277757,
          0.13068665264911733,
          0.1306866496969777,
          0.1306866467954751,
          0.13068664394374085,
          0.13068664114092132,
          0.13068663838617747,
          0.13068663567868474,
          0.1306866330176327,
          0.13068663040222456,
          0.1306866278316776,
          0.1306866253052222,
          0.13068662282210222,
          0.13068662038157425,
          0.1306866179829077,
          0.13068661562538467,
          0.13068661330829923,
          0.13068661103095797,
          0.13068660879267904,
          0.1306866065927925,
          0.13068660443063979,
          0.13068660230557366,
          0.130686600216958,
          0.1306865981641676,
          0.1306865961465879,
          0.13068659416361503,
          0.13068659221465534,
          0.13068659029912544,
          0.13068658841645184,
          0.1306865865660711,
          0.13068658474742922,
          0.13068658295998187,
          0.1306865812031939,
          0.13068657947653942,
          0.1306865777795016,
          0.1306865761115725,
          0.13068657447225265,
          0.13068657286105156,
          0.13068657127748678,
          0.1306865697210842,
          0.1306865681913781,
          0.1306865666879104,
          0.13068656521023117,
          0.13068656375789803,
          0.13068656233047624,
          0.1306865609275384,
          0.1306865595486647,
          0.1306865581934422,
          0.13068655686146544,
          0.13068655555233552,
          0.13068655426566061,
          0.13068655300105556,
          0.1306865517581418,
          0.1306865505365473,
          0.13068654933590634,
          0.13068654815585956,
          0.13068654699605362,
          0.1306865458561414,
          0.13068654473578165,
          0.1306865436346391,
          0.13068654255238396,
          0.13068654148869235,
          0.13068654044324585,
          0.13068653941573152,
          0.13068653840584174,
          0.13068653741327418,
          0.13068653643773184,
          0.1306865354789226,
          0.1306865345365594,
          0.13068653361036023,
          0.13068653270004782,
          0.13068653180534961,
          0.13068653092599786,
          0.13068653006172934,
          0.13068652921228524,
          0.13068652837741135,
          0.13068652755685775,
          0.13068652675037878,
          0.13068652595773303,
          0.13068652517868323,
          0.13068652441299625,
          0.13068652366044275,
          0.13068652292079752,
          0.13068652219383917,
          0.13068652147935006,
          0.13068652077711632,
          0.13068652008692774,
          0.13068651940857767,
          0.13068651874186304,
          0.13068651808658444,
          0.13068651744254547,
          0.13068651680955357,
          0.13068651618741906,
          0.13068651557595581,
          0.13068651497498077,
          0.13068651438431397,
          0.13068651380377874,
          0.13068651323320118,
          0.13068651267241055,
          0.13068651212123894,
          0.13068651157952135,
          0.13068651104709564,
          0.13068651052380242,
          0.13068651000948506,
          0.1306865095039896,
          0.13068650900716475,
          0.1306865085188617,
          0.13068650803893436,
          0.130686507567239,
          0.13068650710363444,
          0.13068650664798198,
          0.1306865062001451,
          0.13068650575998983,
          0.13068650532738438,
          0.1306865049021992,
          0.1306865044843071,
          0.13068650407358295,
          0.13068650366990378,
          0.13068650327314882,
          0.13068650288319922,
          0.13068650249993827,
          0.13068650212325125,
          0.1306865017530254,
          0.13068650138914986,
          0.1306865010315158,
          0.13068650068001608,
          0.13068650033454549,
          0.13068649999500065,
          0.13068649966127988,
          0.1306864993332833,
          0.13068649901091275,
          0.13068649869407167,
          0.13068649838266522,
          0.1306864980766003,
          0.13068649777578512,
          0.13068649748012973,
          0.13068649718954561,
          0.1306864969039458,
          0.1306864966232447,
          0.1306864963473584,
          0.13068649607620425,
          0.13068649580970115,
          0.13068649554776923,
          0.1306864952903302,
          0.13068649503730687,
          0.1306864947886236,
          0.13068649454420583,
          0.13068649430398052,
          0.13068649406787572,
          0.13068649383582065,
          0.13068649360774603,
          0.13068649338358343,
          0.13068649316326586,
          0.13068649294672727,
          0.13068649273390287,
          0.130686492524729,
          0.130686492319143,
          0.13068649211708333,
          0.13068649191848958,
          0.13068649172330213,
          0.13068649153146272,
          0.13068649134291385,
          0.1306864911575991,
          0.13068649097546295,
          0.13068649079645095,
          0.13068649062050944,
          0.13068649044758585,
          0.1306864902776283,
          0.13068649011058595,
          0.13068648994640883,
          0.13068648978504785,
          0.13068648962645454,
          0.1306864894705816,
          0.13068648931738222,
          0.13068648916681064,
          0.1306864890188218,
          0.13068648887337128,
          0.1306864887304157,
          0.1306864885899121,
          0.13068648845181852,
          0.13068648831609364,
          0.13068648818269682,
          0.13068648805158806,
          0.1306864879227282,
          0.13068648779607855,
          0.13068648767160135,
          0.13068648754925924,
          0.13068648742901562,
          0.1306864873108345,
          0.13068648719468043,
          0.13068648708051878,
          0.13068648696831528,
          0.13068648685803635,
          0.13068648674964906,
          0.13068648664312082,
          0.13068648653841983,
          0.13068648643551475,
          0.13068648633437477,
          0.13068648623496956,
          0.13068648613726952,
          0.1306864860412452,
          0.13068648594686796,
          0.13068648585410958,
          0.1306864857629422,
          0.13068648567333857,
          0.13068648558527193,
          0.13068648549871584,
          0.13068648541364442,
          0.1306864853300322,
          0.13068648524785414,
          0.13068648516708561,
          0.13068648508770253,
          0.13068648500968108,
          0.13068648493299784,
          0.13068648485763001,
          0.13068648478355485,
          0.13068648471075037,
          0.13068648463919458,
          0.13068648456886617,
          0.1306864844997441,
          0.13068648443180775,
          0.13068648436503655,
          0.13068648429941068,
          0.13068648423491053,
          0.13068648417151668,
          0.1306864841092102,
          0.13068648404797245,
          0.130686483987785,
          0.13068648392863005,
          0.1306864838704897,
          0.13068648381334663,
          0.13068648375718372,
          0.13068648370198416,
          0.13068648364773142,
          0.13068648359440924,
          0.13068648354200166,
          0.13068648349049303,
          0.13068648343986788
         ]
        }
       ],
       "layout": {
        "height": 500,
        "template": {
         "data": {
          "bar": [
           {
            "error_x": {
             "color": "#2a3f5f"
            },
            "error_y": {
             "color": "#2a3f5f"
            },
            "marker": {
             "line": {
              "color": "#E5ECF6",
              "width": 0.5
             }
            },
            "type": "bar"
           }
          ],
          "barpolar": [
           {
            "marker": {
             "line": {
              "color": "#E5ECF6",
              "width": 0.5
             }
            },
            "type": "barpolar"
           }
          ],
          "carpet": [
           {
            "aaxis": {
             "endlinecolor": "#2a3f5f",
             "gridcolor": "white",
             "linecolor": "white",
             "minorgridcolor": "white",
             "startlinecolor": "#2a3f5f"
            },
            "baxis": {
             "endlinecolor": "#2a3f5f",
             "gridcolor": "white",
             "linecolor": "white",
             "minorgridcolor": "white",
             "startlinecolor": "#2a3f5f"
            },
            "type": "carpet"
           }
          ],
          "choropleth": [
           {
            "colorbar": {
             "outlinewidth": 0,
             "ticks": ""
            },
            "type": "choropleth"
           }
          ],
          "contour": [
           {
            "colorbar": {
             "outlinewidth": 0,
             "ticks": ""
            },
            "colorscale": [
             [
              0,
              "#0d0887"
             ],
             [
              0.1111111111111111,
              "#46039f"
             ],
             [
              0.2222222222222222,
              "#7201a8"
             ],
             [
              0.3333333333333333,
              "#9c179e"
             ],
             [
              0.4444444444444444,
              "#bd3786"
             ],
             [
              0.5555555555555556,
              "#d8576b"
             ],
             [
              0.6666666666666666,
              "#ed7953"
             ],
             [
              0.7777777777777778,
              "#fb9f3a"
             ],
             [
              0.8888888888888888,
              "#fdca26"
             ],
             [
              1,
              "#f0f921"
             ]
            ],
            "type": "contour"
           }
          ],
          "contourcarpet": [
           {
            "colorbar": {
             "outlinewidth": 0,
             "ticks": ""
            },
            "type": "contourcarpet"
           }
          ],
          "heatmap": [
           {
            "colorbar": {
             "outlinewidth": 0,
             "ticks": ""
            },
            "colorscale": [
             [
              0,
              "#0d0887"
             ],
             [
              0.1111111111111111,
              "#46039f"
             ],
             [
              0.2222222222222222,
              "#7201a8"
             ],
             [
              0.3333333333333333,
              "#9c179e"
             ],
             [
              0.4444444444444444,
              "#bd3786"
             ],
             [
              0.5555555555555556,
              "#d8576b"
             ],
             [
              0.6666666666666666,
              "#ed7953"
             ],
             [
              0.7777777777777778,
              "#fb9f3a"
             ],
             [
              0.8888888888888888,
              "#fdca26"
             ],
             [
              1,
              "#f0f921"
             ]
            ],
            "type": "heatmap"
           }
          ],
          "heatmapgl": [
           {
            "colorbar": {
             "outlinewidth": 0,
             "ticks": ""
            },
            "colorscale": [
             [
              0,
              "#0d0887"
             ],
             [
              0.1111111111111111,
              "#46039f"
             ],
             [
              0.2222222222222222,
              "#7201a8"
             ],
             [
              0.3333333333333333,
              "#9c179e"
             ],
             [
              0.4444444444444444,
              "#bd3786"
             ],
             [
              0.5555555555555556,
              "#d8576b"
             ],
             [
              0.6666666666666666,
              "#ed7953"
             ],
             [
              0.7777777777777778,
              "#fb9f3a"
             ],
             [
              0.8888888888888888,
              "#fdca26"
             ],
             [
              1,
              "#f0f921"
             ]
            ],
            "type": "heatmapgl"
           }
          ],
          "histogram": [
           {
            "marker": {
             "colorbar": {
              "outlinewidth": 0,
              "ticks": ""
             }
            },
            "type": "histogram"
           }
          ],
          "histogram2d": [
           {
            "colorbar": {
             "outlinewidth": 0,
             "ticks": ""
            },
            "colorscale": [
             [
              0,
              "#0d0887"
             ],
             [
              0.1111111111111111,
              "#46039f"
             ],
             [
              0.2222222222222222,
              "#7201a8"
             ],
             [
              0.3333333333333333,
              "#9c179e"
             ],
             [
              0.4444444444444444,
              "#bd3786"
             ],
             [
              0.5555555555555556,
              "#d8576b"
             ],
             [
              0.6666666666666666,
              "#ed7953"
             ],
             [
              0.7777777777777778,
              "#fb9f3a"
             ],
             [
              0.8888888888888888,
              "#fdca26"
             ],
             [
              1,
              "#f0f921"
             ]
            ],
            "type": "histogram2d"
           }
          ],
          "histogram2dcontour": [
           {
            "colorbar": {
             "outlinewidth": 0,
             "ticks": ""
            },
            "colorscale": [
             [
              0,
              "#0d0887"
             ],
             [
              0.1111111111111111,
              "#46039f"
             ],
             [
              0.2222222222222222,
              "#7201a8"
             ],
             [
              0.3333333333333333,
              "#9c179e"
             ],
             [
              0.4444444444444444,
              "#bd3786"
             ],
             [
              0.5555555555555556,
              "#d8576b"
             ],
             [
              0.6666666666666666,
              "#ed7953"
             ],
             [
              0.7777777777777778,
              "#fb9f3a"
             ],
             [
              0.8888888888888888,
              "#fdca26"
             ],
             [
              1,
              "#f0f921"
             ]
            ],
            "type": "histogram2dcontour"
           }
          ],
          "mesh3d": [
           {
            "colorbar": {
             "outlinewidth": 0,
             "ticks": ""
            },
            "type": "mesh3d"
           }
          ],
          "parcoords": [
           {
            "line": {
             "colorbar": {
              "outlinewidth": 0,
              "ticks": ""
             }
            },
            "type": "parcoords"
           }
          ],
          "pie": [
           {
            "automargin": true,
            "type": "pie"
           }
          ],
          "scatter": [
           {
            "marker": {
             "colorbar": {
              "outlinewidth": 0,
              "ticks": ""
             }
            },
            "type": "scatter"
           }
          ],
          "scatter3d": [
           {
            "line": {
             "colorbar": {
              "outlinewidth": 0,
              "ticks": ""
             }
            },
            "marker": {
             "colorbar": {
              "outlinewidth": 0,
              "ticks": ""
             }
            },
            "type": "scatter3d"
           }
          ],
          "scattercarpet": [
           {
            "marker": {
             "colorbar": {
              "outlinewidth": 0,
              "ticks": ""
             }
            },
            "type": "scattercarpet"
           }
          ],
          "scattergeo": [
           {
            "marker": {
             "colorbar": {
              "outlinewidth": 0,
              "ticks": ""
             }
            },
            "type": "scattergeo"
           }
          ],
          "scattergl": [
           {
            "marker": {
             "colorbar": {
              "outlinewidth": 0,
              "ticks": ""
             }
            },
            "type": "scattergl"
           }
          ],
          "scattermapbox": [
           {
            "marker": {
             "colorbar": {
              "outlinewidth": 0,
              "ticks": ""
             }
            },
            "type": "scattermapbox"
           }
          ],
          "scatterpolar": [
           {
            "marker": {
             "colorbar": {
              "outlinewidth": 0,
              "ticks": ""
             }
            },
            "type": "scatterpolar"
           }
          ],
          "scatterpolargl": [
           {
            "marker": {
             "colorbar": {
              "outlinewidth": 0,
              "ticks": ""
             }
            },
            "type": "scatterpolargl"
           }
          ],
          "scatterternary": [
           {
            "marker": {
             "colorbar": {
              "outlinewidth": 0,
              "ticks": ""
             }
            },
            "type": "scatterternary"
           }
          ],
          "surface": [
           {
            "colorbar": {
             "outlinewidth": 0,
             "ticks": ""
            },
            "colorscale": [
             [
              0,
              "#0d0887"
             ],
             [
              0.1111111111111111,
              "#46039f"
             ],
             [
              0.2222222222222222,
              "#7201a8"
             ],
             [
              0.3333333333333333,
              "#9c179e"
             ],
             [
              0.4444444444444444,
              "#bd3786"
             ],
             [
              0.5555555555555556,
              "#d8576b"
             ],
             [
              0.6666666666666666,
              "#ed7953"
             ],
             [
              0.7777777777777778,
              "#fb9f3a"
             ],
             [
              0.8888888888888888,
              "#fdca26"
             ],
             [
              1,
              "#f0f921"
             ]
            ],
            "type": "surface"
           }
          ],
          "table": [
           {
            "cells": {
             "fill": {
              "color": "#EBF0F8"
             },
             "line": {
              "color": "white"
             }
            },
            "header": {
             "fill": {
              "color": "#C8D4E3"
             },
             "line": {
              "color": "white"
             }
            },
            "type": "table"
           }
          ]
         },
         "layout": {
          "annotationdefaults": {
           "arrowcolor": "#2a3f5f",
           "arrowhead": 0,
           "arrowwidth": 1
          },
          "coloraxis": {
           "colorbar": {
            "outlinewidth": 0,
            "ticks": ""
           }
          },
          "colorscale": {
           "diverging": [
            [
             0,
             "#8e0152"
            ],
            [
             0.1,
             "#c51b7d"
            ],
            [
             0.2,
             "#de77ae"
            ],
            [
             0.3,
             "#f1b6da"
            ],
            [
             0.4,
             "#fde0ef"
            ],
            [
             0.5,
             "#f7f7f7"
            ],
            [
             0.6,
             "#e6f5d0"
            ],
            [
             0.7,
             "#b8e186"
            ],
            [
             0.8,
             "#7fbc41"
            ],
            [
             0.9,
             "#4d9221"
            ],
            [
             1,
             "#276419"
            ]
           ],
           "sequential": [
            [
             0,
             "#0d0887"
            ],
            [
             0.1111111111111111,
             "#46039f"
            ],
            [
             0.2222222222222222,
             "#7201a8"
            ],
            [
             0.3333333333333333,
             "#9c179e"
            ],
            [
             0.4444444444444444,
             "#bd3786"
            ],
            [
             0.5555555555555556,
             "#d8576b"
            ],
            [
             0.6666666666666666,
             "#ed7953"
            ],
            [
             0.7777777777777778,
             "#fb9f3a"
            ],
            [
             0.8888888888888888,
             "#fdca26"
            ],
            [
             1,
             "#f0f921"
            ]
           ],
           "sequentialminus": [
            [
             0,
             "#0d0887"
            ],
            [
             0.1111111111111111,
             "#46039f"
            ],
            [
             0.2222222222222222,
             "#7201a8"
            ],
            [
             0.3333333333333333,
             "#9c179e"
            ],
            [
             0.4444444444444444,
             "#bd3786"
            ],
            [
             0.5555555555555556,
             "#d8576b"
            ],
            [
             0.6666666666666666,
             "#ed7953"
            ],
            [
             0.7777777777777778,
             "#fb9f3a"
            ],
            [
             0.8888888888888888,
             "#fdca26"
            ],
            [
             1,
             "#f0f921"
            ]
           ]
          },
          "colorway": [
           "#636efa",
           "#EF553B",
           "#00cc96",
           "#ab63fa",
           "#FFA15A",
           "#19d3f3",
           "#FF6692",
           "#B6E880",
           "#FF97FF",
           "#FECB52"
          ],
          "font": {
           "color": "#2a3f5f"
          },
          "geo": {
           "bgcolor": "white",
           "lakecolor": "white",
           "landcolor": "#E5ECF6",
           "showlakes": true,
           "showland": true,
           "subunitcolor": "white"
          },
          "hoverlabel": {
           "align": "left"
          },
          "hovermode": "closest",
          "mapbox": {
           "style": "light"
          },
          "paper_bgcolor": "white",
          "plot_bgcolor": "#E5ECF6",
          "polar": {
           "angularaxis": {
            "gridcolor": "white",
            "linecolor": "white",
            "ticks": ""
           },
           "bgcolor": "#E5ECF6",
           "radialaxis": {
            "gridcolor": "white",
            "linecolor": "white",
            "ticks": ""
           }
          },
          "scene": {
           "xaxis": {
            "backgroundcolor": "#E5ECF6",
            "gridcolor": "white",
            "gridwidth": 2,
            "linecolor": "white",
            "showbackground": true,
            "ticks": "",
            "zerolinecolor": "white"
           },
           "yaxis": {
            "backgroundcolor": "#E5ECF6",
            "gridcolor": "white",
            "gridwidth": 2,
            "linecolor": "white",
            "showbackground": true,
            "ticks": "",
            "zerolinecolor": "white"
           },
           "zaxis": {
            "backgroundcolor": "#E5ECF6",
            "gridcolor": "white",
            "gridwidth": 2,
            "linecolor": "white",
            "showbackground": true,
            "ticks": "",
            "zerolinecolor": "white"
           }
          },
          "shapedefaults": {
           "line": {
            "color": "#2a3f5f"
           }
          },
          "ternary": {
           "aaxis": {
            "gridcolor": "white",
            "linecolor": "white",
            "ticks": ""
           },
           "baxis": {
            "gridcolor": "white",
            "linecolor": "white",
            "ticks": ""
           },
           "bgcolor": "#E5ECF6",
           "caxis": {
            "gridcolor": "white",
            "linecolor": "white",
            "ticks": ""
           }
          },
          "title": {
           "x": 0.05
          },
          "xaxis": {
           "automargin": true,
           "gridcolor": "white",
           "linecolor": "white",
           "ticks": "",
           "title": {
            "standoff": 15
           },
           "zerolinecolor": "white",
           "zerolinewidth": 2
          },
          "yaxis": {
           "automargin": true,
           "gridcolor": "white",
           "linecolor": "white",
           "ticks": "",
           "title": {
            "standoff": 15
           },
           "zerolinecolor": "white",
           "zerolinewidth": 2
          }
         }
        },
        "title": {
         "text": "代价数据可视化"
        },
        "width": 500,
        "xaxis": {
         "title": {
          "text": "迭代次数"
         }
        },
        "yaxis": {
         "title": {
          "text": "代价函数"
         }
        }
       }
      },
      "text/html": [
       "<div>\n",
       "        \n",
       "        \n",
       "            <div id=\"2ebacb42-b10a-42d6-8ac6-03a468d86f2e\" class=\"plotly-graph-div\" style=\"height:500px; width:500px;\"></div>\n",
       "            <script type=\"text/javascript\">\n",
       "                require([\"plotly\"], function(Plotly) {\n",
       "                    window.PLOTLYENV=window.PLOTLYENV || {};\n",
       "                    window.PLOTLYENV.BASE_URL='https://plot.ly';\n",
       "                    \n",
       "                if (document.getElementById(\"2ebacb42-b10a-42d6-8ac6-03a468d86f2e\")) {\n",
       "                    Plotly.newPlot(\n",
       "                        '2ebacb42-b10a-42d6-8ac6-03a468d86f2e',\n",
       "                        [{\"line\": {\"color\": \"rgba(255, 153, 51, 1.0)\", \"dash\": \"solid\", \"shape\": \"linear\", \"width\": 1.3}, \"mode\": \"lines\", \"name\": \"0\", \"text\": \"\", \"type\": \"scatter\", \"x\": [0, 1, 2, 3, 4, 5, 6, 7, 8, 9, 10, 11, 12, 13, 14, 15, 16, 17, 18, 19, 20, 21, 22, 23, 24, 25, 26, 27, 28, 29, 30, 31, 32, 33, 34, 35, 36, 37, 38, 39, 40, 41, 42, 43, 44, 45, 46, 47, 48, 49, 50, 51, 52, 53, 54, 55, 56, 57, 58, 59, 60, 61, 62, 63, 64, 65, 66, 67, 68, 69, 70, 71, 72, 73, 74, 75, 76, 77, 78, 79, 80, 81, 82, 83, 84, 85, 86, 87, 88, 89, 90, 91, 92, 93, 94, 95, 96, 97, 98, 99, 100, 101, 102, 103, 104, 105, 106, 107, 108, 109, 110, 111, 112, 113, 114, 115, 116, 117, 118, 119, 120, 121, 122, 123, 124, 125, 126, 127, 128, 129, 130, 131, 132, 133, 134, 135, 136, 137, 138, 139, 140, 141, 142, 143, 144, 145, 146, 147, 148, 149, 150, 151, 152, 153, 154, 155, 156, 157, 158, 159, 160, 161, 162, 163, 164, 165, 166, 167, 168, 169, 170, 171, 172, 173, 174, 175, 176, 177, 178, 179, 180, 181, 182, 183, 184, 185, 186, 187, 188, 189, 190, 191, 192, 193, 194, 195, 196, 197, 198, 199, 200, 201, 202, 203, 204, 205, 206, 207, 208, 209, 210, 211, 212, 213, 214, 215, 216, 217, 218, 219, 220, 221, 222, 223, 224, 225, 226, 227, 228, 229, 230, 231, 232, 233, 234, 235, 236, 237, 238, 239, 240, 241, 242, 243, 244, 245, 246, 247, 248, 249, 250, 251, 252, 253, 254, 255, 256, 257, 258, 259, 260, 261, 262, 263, 264, 265, 266, 267, 268, 269, 270, 271, 272, 273, 274, 275, 276, 277, 278, 279, 280, 281, 282, 283, 284, 285, 286, 287, 288, 289, 290, 291, 292, 293, 294, 295, 296, 297, 298, 299, 300, 301, 302, 303, 304, 305, 306, 307, 308, 309, 310, 311, 312, 313, 314, 315, 316, 317, 318, 319, 320, 321, 322, 323, 324, 325, 326, 327, 328, 329, 330, 331, 332, 333, 334, 335, 336, 337, 338, 339, 340, 341, 342, 343, 344, 345, 346, 347, 348, 349, 350, 351, 352, 353, 354, 355, 356, 357, 358, 359, 360, 361, 362, 363, 364, 365, 366, 367, 368, 369, 370, 371, 372, 373, 374, 375, 376, 377, 378, 379, 380, 381, 382, 383, 384, 385, 386, 387, 388, 389, 390, 391, 392, 393, 394, 395, 396, 397, 398, 399, 400, 401, 402, 403, 404, 405, 406, 407, 408, 409, 410, 411, 412, 413, 414, 415, 416, 417, 418, 419, 420, 421, 422, 423, 424, 425, 426, 427, 428, 429, 430, 431, 432, 433, 434, 435, 436, 437, 438, 439, 440, 441, 442, 443, 444, 445, 446, 447, 448, 449, 450, 451, 452, 453, 454, 455, 456, 457, 458, 459, 460, 461, 462, 463, 464, 465, 466, 467, 468, 469, 470, 471, 472, 473, 474, 475, 476, 477, 478, 479, 480, 481, 482, 483, 484, 485, 486, 487, 488, 489, 490, 491, 492, 493, 494, 495, 496, 497, 498, 499, 500, 501, 502, 503, 504, 505, 506, 507, 508, 509, 510, 511, 512, 513, 514, 515, 516, 517, 518, 519, 520, 521, 522, 523, 524, 525, 526, 527, 528, 529, 530, 531, 532, 533, 534, 535, 536, 537, 538, 539, 540, 541, 542, 543, 544, 545, 546, 547, 548, 549, 550, 551, 552, 553, 554, 555, 556, 557, 558, 559, 560, 561, 562, 563, 564, 565, 566, 567, 568, 569, 570, 571, 572, 573, 574, 575, 576, 577, 578, 579, 580, 581, 582, 583, 584, 585, 586, 587, 588, 589, 590, 591, 592, 593, 594, 595, 596, 597, 598, 599, 600, 601, 602, 603, 604, 605, 606, 607, 608, 609, 610, 611, 612, 613, 614, 615, 616, 617, 618, 619, 620, 621, 622, 623, 624, 625, 626, 627, 628, 629, 630, 631, 632, 633, 634, 635, 636, 637, 638, 639, 640, 641, 642, 643, 644, 645, 646, 647, 648, 649, 650, 651, 652, 653, 654, 655, 656, 657, 658, 659, 660, 661, 662, 663, 664, 665, 666, 667, 668, 669, 670, 671, 672, 673, 674, 675, 676, 677, 678, 679, 680, 681, 682, 683, 684, 685, 686, 687, 688, 689, 690, 691, 692, 693, 694, 695, 696, 697, 698, 699, 700, 701, 702, 703, 704, 705, 706, 707, 708, 709, 710, 711, 712, 713, 714, 715, 716, 717, 718, 719, 720, 721, 722, 723, 724, 725, 726, 727, 728, 729, 730, 731, 732, 733, 734, 735, 736, 737, 738, 739, 740, 741, 742, 743, 744, 745, 746, 747, 748, 749, 750, 751, 752, 753, 754, 755, 756, 757, 758, 759, 760, 761, 762, 763, 764, 765, 766, 767, 768, 769, 770, 771, 772, 773, 774, 775, 776, 777, 778, 779, 780, 781, 782, 783, 784, 785, 786, 787, 788, 789, 790, 791, 792, 793, 794, 795, 796, 797, 798, 799, 800, 801, 802, 803, 804, 805, 806, 807, 808, 809, 810, 811, 812, 813, 814, 815, 816, 817, 818, 819, 820, 821, 822, 823, 824, 825, 826, 827, 828, 829, 830, 831, 832, 833, 834, 835, 836, 837, 838, 839, 840, 841, 842, 843, 844, 845, 846, 847, 848, 849, 850, 851, 852, 853, 854, 855, 856, 857, 858, 859, 860, 861, 862, 863, 864, 865, 866, 867, 868, 869, 870, 871, 872, 873, 874, 875, 876, 877, 878, 879, 880, 881, 882, 883, 884, 885, 886, 887, 888, 889, 890, 891, 892, 893, 894, 895, 896, 897, 898, 899, 900, 901, 902, 903, 904, 905, 906, 907, 908, 909, 910, 911, 912, 913, 914, 915, 916, 917, 918, 919, 920, 921, 922, 923, 924, 925, 926, 927, 928, 929, 930, 931, 932, 933, 934, 935, 936, 937, 938, 939, 940, 941, 942, 943, 944, 945, 946, 947, 948, 949, 950, 951, 952, 953, 954, 955, 956, 957, 958, 959, 960, 961, 962, 963, 964, 965, 966, 967, 968, 969, 970, 971, 972, 973, 974, 975, 976, 977, 978, 979, 980, 981, 982, 983, 984, 985, 986, 987, 988, 989, 990, 991, 992, 993, 994, 995, 996, 997, 998, 999], \"y\": [0.47186307832380486, 0.4553469590285929, 0.43975545567938673, 0.4250341405053844, 0.41113183875275494, 0.3980004333990266, 0.38559468160574295, 0.3738720422035682, 0.36279251354646125, 0.35231848111144215, 0.34241457425795097, 0.333047531596059, 0.3241860744458949, 0.3158007879017849, 0.3078640090438594, 0.30034972186737774, 0.293233458525861, 0.28649220650841817, 0.28010432139447183, 0.2740494448505529, 0.26830842755399126, 0.26286325674728817, 0.25769698814476505, 0.2527936819298258, 0.2481383425969051, 0.24371686240696275, 0.2395159682392843, 0.23552317163541028, 0.23172672184329454, 0.2281155616813322, 0.22467928605274243, 0.22140810295098381, 0.21829279680646263, 0.21532469403379526, 0.21249563064735122, 0.2097979218207562, 0.20722433327350864, 0.20476805437489196, 0.20242267286196394, 0.20018215107461676, 0.1980408036165268, 0.1959932763563032, 0.19403452668829055, 0.19215980497732846, 0.19036463711631807, 0.18864480812972823, 0.1869963467601892, 0.18541551097910527, 0.18389877436576582, 0.18244281330277573, 0.1810444949387584, 0.17970086587223907, 0.17840914151338252, 0.17716669608286653, 0.17597105320962028, 0.17481987709145666, 0.1737109641847898, 0.1726422353916642, 0.17161172871422806, 0.1706175923485815, 0.16965807819161774, 0.16873153573605876, 0.1678364063303812, 0.16697121778172586, 0.16613457928120287, 0.16532517663224072, 0.16454176776379253, 0.16378317851130353, 0.1630482986493728, 0.16233607816100767, 0.16164552372927696, 0.1609756954380211, 0.16032570366908128, 0.15969470618425963, 0.15908190538093542, 0.15848654571092338, 0.1579079112527886, 0.15734532342842, 0.15679813885521562, 0.15626574732575504, 0.1557475699073196, 0.15524305715408174, 0.15475168742521578, 0.15427296530258666, 0.15380642010205675, 0.1533516044728048, 0.1529080930793921, 0.15247548136162384, 0.15205338436755328, 0.15164143565525304, 0.15123928625924457, 0.15084660371771874, 0.15046307115691698, 0.1500883864292571, 0.1497222613019953, 0.14936442069340647, 0.14901460195364769, 0.14867255418763892, 0.14833803761745537, 0.14801082298187546, 0.14769069097087112, 0.14737743169295844, 0.14707084417345279, 0.14677073588178843, 0.14647692228617465, 0.14618922643396215, 0.14590747855619315, 0.14563151569489727, 0.14536118135178472, 0.14509632515706639, 0.14483680255720757, 0.14458247452049433, 0.14433320725935708, 0.14408887196846001, 0.14384934457762483, 0.14361450551871144, 0.14338423950563287, 0.14315843532672837, 0.142936985648768, 0.14271978683190215, 0.14250673875491382, 0.14229774465016715, 0.1420927109476835, 0.14189154712780983, 0.14169416558197576, 0.1415004814810667, 0.14131041265096744, 0.14112387945485827, 0.14094080468186965, 0.14076111344172562, 0.1405847330650279, 0.14041159300885367, 0.14024162476735846, 0.14007476178709544, 0.13991093938677804, 0.13975009468123106, 0.13959216650928757, 0.13943709536540677, 0.13928482333479814, 0.13913529403185257, 0.1389884525416913, 0.13884424536465484, 0.13870262036356568, 0.1385635267136069, 0.13842691485467004, 0.13829273644603107, 0.13816094432322634, 0.1380314924570026, 0.13790433591422718, 0.13777943082064817, 0.13765673432540249, 0.13753620456717452, 0.13741780064191506, 0.13730148257203428, 0.13718721127698857, 0.13707494854518507, 0.13696465700713226, 0.1368563001097695, 0.1367498420919121, 0.13664524796075178, 0.13654248346935713, 0.1364415150951199, 0.1363423100190983, 0.13624483610620924, 0.13614906188622622, 0.1360549565355399, 0.1359624898596432, 0.1358716322763026, 0.13578235479938158, 0.13569462902328253, 0.13560842710797666, 0.1355237217645915, 0.13544048624152957, 0.13535869431109096, 0.13527832025657616, 0.1351993388598446, 0.13512172538930842, 0.13504545558833939, 0.13497050566407032, 0.13489685227657186, 0.13482447252838764, 0.13475334395441083, 0.13468344451208702, 0.13461475257192793, 0.13454724690832284, 0.13448090669063406, 0.1344157114745636, 0.13435164119378037, 0.1342886761517955, 0.13422679701407586, 0.13416598480038586, 0.1341062208773475, 0.13404748695120985, 0.13398976506082041, 0.13393303757078814, 0.13387728716483302, 0.13382249683931294, 0.1337686498969216, 0.13371572994055184, 0.1336637208673163, 0.13361260686272108, 0.13356237239498617, 0.13351300220950757, 0.13346448132345518, 0.133416795020503, 0.1333699288456859, 0.13332386860037918, 0.1332786003373966, 0.1332341103562025, 0.13319038519823506, 0.13314741164233648, 0.13310517670028654, 0.13306366761243682, 0.13302287184344175, 0.13298277707808417, 0.1329433712171918, 0.13290464237364252, 0.1328665788684556, 0.13282916922696586, 0.13279240217507954, 0.13275626663560802, 0.13272075172467868, 0.1326858467482197, 0.13265154119851721, 0.13261782475084263, 0.13258468726014885, 0.1325521187578326, 0.13252010944856174, 0.132488649707166, 0.13245773007558947, 0.1324273412599023, 0.13239747412737174, 0.1323681197035902, 0.13233926916965855, 0.1323109138594244, 0.1322830452567727, 0.1322556549929692, 0.13222873484405326, 0.13220227672828105, 0.13217627270361693, 0.13215071496527148, 0.13212559584328618, 0.1321009078001632, 0.13207664342853911, 0.13205279544890164, 0.1320293567073492, 0.13200632017339106, 0.13198367893778848, 0.131961426210435, 0.13193955531827575, 0.13191805970326484, 0.13189693292035917, 0.13187616863554977, 0.13185576062392762, 0.13183570276778508, 0.13181598905475161, 0.13179661357596242, 0.13177757052426053, 0.1317588541924309, 0.13174045897146588, 0.1317223793488621, 0.13170460990694713, 0.13168714532123654, 0.1316699803588194, 0.13165310987677334, 0.13163652882060672, 0.131620232222729, 0.13160421520094795, 0.13158847295699339, 0.13157300077506665, 0.1315577940204161, 0.13154284813793746, 0.13152815865079837, 0.13151372115908766, 0.13149953133848802, 0.13148558493897178, 0.13147187778351976, 0.13145840576686232, 0.13144516485424268, 0.13143215108020137, 0.13141936054738224, 0.1314067894253594, 0.13139443394948397, 0.1313822904197516, 0.13137035519968931, 0.1313586247152616, 0.13134709545379614, 0.1313357639629271, 0.1313246268495579, 0.1313136807788413, 0.13130292247317724, 0.13129234871122827, 0.1312819563269519, 0.13127174220864957, 0.1312617032980324, 0.1312518365893029, 0.1312421391282523, 0.13123260801137426, 0.1312232403849929, 0.1312140334444067, 0.13120498443304696, 0.13119609064165033, 0.1311873494074464, 0.1311787581133586, 0.13117031418721953, 0.1311620151009992, 0.13115385837004687, 0.13114584155234638, 0.13113796224778324, 0.13113021809742553, 0.13112260678281648, 0.1311151260252794, 0.13110777358523448, 0.13110054726152773, 0.1310934448907711, 0.13108646434669402, 0.13107960353950612, 0.13107286041527114, 0.13106623295529116, 0.131059719175502, 0.13105331712587837, 0.13104702488984982, 0.1310408405837264, 0.1310347623561343, 0.13102878838746115, 0.1310229168893111, 0.13101714610396875, 0.13101147430387283, 0.13100589979109864, 0.13100042089684935, 0.13099503598095627, 0.13098974343138756, 0.13098454166376522, 0.1309794291208908, 0.13097440427227894, 0.13096946561369868, 0.13096461166672344, 0.13095984097828794, 0.1309551521202532, 0.13095054368897868, 0.13094601430490202, 0.130941562612126, 0.13093718727801237, 0.1309328869927828, 0.13092866046912674, 0.13092450644181594, 0.13092042366732562, 0.13091641092346182, 0.1309124670089959, 0.1309085907433045, 0.13090478096601624, 0.13090103653666416, 0.1308973563343443, 0.13089373925738002, 0.13089018422299217, 0.13088669016697513, 0.13088325604337767, 0.13087988082419033, 0.1308765634990372, 0.1308733030748737, 0.1308700985756892, 0.13086694904221471, 0.13086385353163582, 0.13086081111731024, 0.1308578208884906, 0.13085488195005157, 0.1308519934222222, 0.13084915444032205, 0.13084636415450268, 0.13084362172949318, 0.13084092634435004, 0.13083827719221128, 0.13083567348005512, 0.13083311442846235, 0.1308305992713832, 0.13082812725590798, 0.13082569764204122, 0.13082330970248093, 0.13082096272240037, 0.13081865599923387, 0.13081638884246716, 0.13081416057343004, 0.13081197052509336, 0.1308098180418697, 0.1308077024794166, 0.1308056232044438, 0.13080357959452418, 0.13080157103790652, 0.13079959693333304, 0.13079765668985924, 0.1307957497266769, 0.13079387547294039, 0.13079203336759537, 0.13079022285921152, 0.13078844340581677, 0.1307866944747355, 0.1307849755424289, 0.13078328609433834, 0.13078162562473125, 0.13077999363654963, 0.1307783896412616, 0.13077681315871473, 0.1307752637169927, 0.13077374085227364, 0.13077224410869154, 0.1307707730381999, 0.13076932720043716, 0.1307679061625954, 0.13076650949929028, 0.13076513679243412, 0.13076378763111052, 0.13076246161145139, 0.13076115833651603, 0.13075987741617243, 0.13075861846698028, 0.13075738111207638, 0.13075616498106174, 0.1307549697098906, 0.13075379494076167, 0.1307526403220109, 0.1307515055080061, 0.13075039015904374, 0.13074929394124704, 0.1307482165264661, 0.13074715759217964, 0.13074611682139853, 0.13074509390257083, 0.13074408852948846, 0.13074310040119577, 0.1307421292218992, 0.13074117470087881, 0.13074023655240138, 0.1307393144956347, 0.13073840825456354, 0.1307375175579072, 0.13073664213903796, 0.13073578173590167, 0.13073493609093895, 0.13073410495100837, 0.13073328806731047, 0.1307324851953133, 0.1307316960946795, 0.1307309205291938, 0.13073015826669296, 0.13072940907899577, 0.130728672741835, 0.13072794903479007, 0.13072723774122147, 0.13072653864820533, 0.1307258515464701, 0.13072517623033392, 0.13072451249764266, 0.13072386014970988, 0.13072321899125705, 0.13072258883035517, 0.13072196947836737, 0.1307213607498923, 0.13072076246270892, 0.13072017443772158, 0.13071959649890671, 0.13071902847325986, 0.13071847019074426, 0.13071792148423952, 0.130717382189492, 0.1307168521450653, 0.13071633119229215, 0.13071581917522673, 0.13071531594059824, 0.1307148213377648, 0.13071433521866851, 0.130713857437791, 0.13071338785210973, 0.13071292632105583, 0.13071247270647116, 0.13071202687256747, 0.1307115886858857, 0.13071115801525585, 0.13071073473175798, 0.1307103187086833, 0.13070990982149655, 0.13070950794779843, 0.1307091129672893, 0.13070872476173276, 0.1307083432149206, 0.130707968212638, 0.13070759964262896, 0.13070723739456314, 0.13070688136000264, 0.1307065314323695, 0.1307061875069139, 0.13070584948068267, 0.13070551725248875, 0.13070519072288048, 0.1307048697941122, 0.13070455437011472, 0.13070424435646688, 0.13070393966036695, 0.13070364019060496, 0.13070334585753557, 0.1307030565730509, 0.13070277225055463, 0.1307024928049355, 0.13070221815254238, 0.13070194821115874, 0.13070168289997847, 0.13070142213958139, 0.13070116585190966, 0.13070091396024427, 0.13070066638918224, 0.1307004230646137, 0.1307001839137004, 0.13069994886485292, 0.1306997178477103, 0.13069949079311804, 0.13069926763310816, 0.13069904830087817, 0.1306988327307717, 0.1306986208582585, 0.13069841261991508, 0.1306982079534059, 0.13069800679746452, 0.1306978090918757, 0.13069761477745662, 0.13069742379604, 0.130697236090456, 0.13069705160451545, 0.13069687028299307, 0.13069669207161078, 0.13069651691702155, 0.1306963447667933, 0.13069617556939336, 0.13069600927417302, 0.1306958458313522, 0.13069568519200478, 0.1306955273080439, 0.13069537213220742, 0.13069521961804387, 0.13069506971989855, 0.13069492239289993, 0.1306947775929461, 0.13069463527669153, 0.13069449540153436, 0.13069435792560333, 0.13069422280774534, 0.13069409000751336, 0.1306939594851539, 0.13069383120159553, 0.13069370511843703, 0.13069358119793562, 0.13069345940299604, 0.13069333969715946, 0.13069322204459222, 0.13069310641007537, 0.130692992758994, 0.13069288105732701, 0.13069277127163678, 0.13069266336905938, 0.13069255731729443, 0.13069245308459565, 0.13069235063976126, 0.1306922499521247, 0.13069215099154544, 0.13069205372839982, 0.13069195813357254, 0.1306918641784475, 0.13069177183489938, 0.13069168107528562, 0.13069159187243742, 0.13069150419965228, 0.13069141803068557, 0.13069133333974275, 0.13069125010147195, 0.13069116829095603, 0.13069108788370518, 0.13069100885564977, 0.13069093118313296, 0.13069085484290371, 0.13069077981210978, 0.13069070606829092, 0.13069063358937213, 0.13069056235365706, 0.13069049233982152, 0.13069042352690702, 0.13069035589431463, 0.13069028942179875, 0.13069022408946104, 0.1306901598777444, 0.1306900967674273, 0.13069003473961774, 0.13068997377574798, 0.1306899138575686, 0.1306898549671433, 0.13068979708684336, 0.1306897401993425, 0.13068968428761166, 0.1306896293349137, 0.13068957532479883, 0.1306895222410992, 0.1306894700679243, 0.13068941878965637, 0.1306893683909453, 0.13068931885670446, 0.13068927017210588, 0.13068922232257593, 0.13068917529379107, 0.1306891290716733, 0.13068908364238618, 0.1306890389923306, 0.13068899510814064, 0.1306889519766798, 0.13068890958503668, 0.13068886792052153, 0.13068882697066223, 0.13068878672320047, 0.13068874716608833, 0.13068870828748455, 0.13068867007575077, 0.13068863251944865, 0.13068859560733564, 0.1306885593283623, 0.13068852367166855, 0.13068848862658072, 0.13068845418260813, 0.1306884203294401, 0.13068838705694275, 0.13068835435515605, 0.13068832221429086, 0.13068829062472587, 0.1306882595770049, 0.13068822906183378, 0.13068819907007792, 0.1306881695927595, 0.1306881406210544, 0.13068811214629014, 0.13068808415994282, 0.13068805665363478, 0.1306880296191322, 0.13068800304834224, 0.1306879769333111, 0.13068795126622132, 0.13068792603938945, 0.130687901245264, 0.1306878768764229, 0.13068785292557136, 0.13068782938553986, 0.1306878062492816, 0.130687783509871, 0.13068776116050093, 0.13068773919448123, 0.13068771760523643, 0.13068769638630387, 0.1306876755313317, 0.13068765503407698, 0.1306876348884041, 0.13068761508828228, 0.13068759562778462, 0.1306875765010855, 0.13068755770245954, 0.13068753922627935, 0.13068752106701415, 0.130687503219228, 0.13068748567757824, 0.13068746843681378, 0.13068745149177377, 0.1306874348373856, 0.13068741846866397, 0.13068740238070886, 0.1306873865687044, 0.13068737102791733, 0.13068735575369556, 0.13068734074146676, 0.1306873259867371, 0.13068731148508977, 0.13068729723218384, 0.1306872832237526, 0.13068726945560274, 0.13068725592361283, 0.130687242623732, 0.13068722955197906, 0.13068721670444103, 0.13068720407727194, 0.13068719166669202, 0.1306871794689861, 0.1306871674805028, 0.13068715569765355, 0.13068714411691099, 0.13068713273480864, 0.1306871215479392, 0.13068711055295396, 0.1306870997465615, 0.13068708912552715, 0.13068707868667132, 0.1306870684268694, 0.1306870583430499, 0.13068704843219442, 0.13068703869133608, 0.13068702911755908, 0.13068701970799748, 0.13068701045983458, 0.13068700137030193, 0.13068699243667858, 0.1306869836562904, 0.13068697502650883, 0.13068696654475073, 0.13068695820847712, 0.13068695001519237, 0.13068694196244404, 0.13068693404782136, 0.13068692626895537, 0.13068691862351728, 0.1306869111092186, 0.13068690372380976, 0.13068689646508014, 0.13068688933085673, 0.13068688231900405, 0.13068687542742302, 0.13068686865405063, 0.13068686199685944, 0.13068685545385655, 0.1306868490230833, 0.1306868427026147, 0.13068683649055873, 0.13068683038505588, 0.13068682438427837, 0.13068681848643, 0.13068681268974514, 0.13068680699248866, 0.1306868013929551, 0.13068679588946824, 0.13068679048038065, 0.13068678516407303, 0.13068677993895408, 0.13068677480345967, 0.1306867697560525, 0.13068676479522154, 0.13068675991948192, 0.13068675512737393, 0.13068675041746328, 0.13068674578833991, 0.13068674123861818, 0.13068673676693607, 0.13068673237195508, 0.13068672805235954, 0.1306867238068564, 0.13068671963417483, 0.13068671553306566, 0.1306867115023013, 0.1306867075406751, 0.13068670364700116, 0.13068669982011408, 0.13068669605886804, 0.13068669236213726, 0.13068668872881514, 0.130686685157814, 0.130686681648065, 0.1306866781985173, 0.13068667480813842, 0.13068667147591345, 0.1306866682008449, 0.13068666498195236, 0.13068666181827227, 0.13068665870885762, 0.13068665565277757, 0.13068665264911733, 0.1306866496969777, 0.1306866467954751, 0.13068664394374085, 0.13068664114092132, 0.13068663838617747, 0.13068663567868474, 0.1306866330176327, 0.13068663040222456, 0.1306866278316776, 0.1306866253052222, 0.13068662282210222, 0.13068662038157425, 0.1306866179829077, 0.13068661562538467, 0.13068661330829923, 0.13068661103095797, 0.13068660879267904, 0.1306866065927925, 0.13068660443063979, 0.13068660230557366, 0.130686600216958, 0.1306865981641676, 0.1306865961465879, 0.13068659416361503, 0.13068659221465534, 0.13068659029912544, 0.13068658841645184, 0.1306865865660711, 0.13068658474742922, 0.13068658295998187, 0.1306865812031939, 0.13068657947653942, 0.1306865777795016, 0.1306865761115725, 0.13068657447225265, 0.13068657286105156, 0.13068657127748678, 0.1306865697210842, 0.1306865681913781, 0.1306865666879104, 0.13068656521023117, 0.13068656375789803, 0.13068656233047624, 0.1306865609275384, 0.1306865595486647, 0.1306865581934422, 0.13068655686146544, 0.13068655555233552, 0.13068655426566061, 0.13068655300105556, 0.1306865517581418, 0.1306865505365473, 0.13068654933590634, 0.13068654815585956, 0.13068654699605362, 0.1306865458561414, 0.13068654473578165, 0.1306865436346391, 0.13068654255238396, 0.13068654148869235, 0.13068654044324585, 0.13068653941573152, 0.13068653840584174, 0.13068653741327418, 0.13068653643773184, 0.1306865354789226, 0.1306865345365594, 0.13068653361036023, 0.13068653270004782, 0.13068653180534961, 0.13068653092599786, 0.13068653006172934, 0.13068652921228524, 0.13068652837741135, 0.13068652755685775, 0.13068652675037878, 0.13068652595773303, 0.13068652517868323, 0.13068652441299625, 0.13068652366044275, 0.13068652292079752, 0.13068652219383917, 0.13068652147935006, 0.13068652077711632, 0.13068652008692774, 0.13068651940857767, 0.13068651874186304, 0.13068651808658444, 0.13068651744254547, 0.13068651680955357, 0.13068651618741906, 0.13068651557595581, 0.13068651497498077, 0.13068651438431397, 0.13068651380377874, 0.13068651323320118, 0.13068651267241055, 0.13068651212123894, 0.13068651157952135, 0.13068651104709564, 0.13068651052380242, 0.13068651000948506, 0.1306865095039896, 0.13068650900716475, 0.1306865085188617, 0.13068650803893436, 0.130686507567239, 0.13068650710363444, 0.13068650664798198, 0.1306865062001451, 0.13068650575998983, 0.13068650532738438, 0.1306865049021992, 0.1306865044843071, 0.13068650407358295, 0.13068650366990378, 0.13068650327314882, 0.13068650288319922, 0.13068650249993827, 0.13068650212325125, 0.1306865017530254, 0.13068650138914986, 0.1306865010315158, 0.13068650068001608, 0.13068650033454549, 0.13068649999500065, 0.13068649966127988, 0.1306864993332833, 0.13068649901091275, 0.13068649869407167, 0.13068649838266522, 0.1306864980766003, 0.13068649777578512, 0.13068649748012973, 0.13068649718954561, 0.1306864969039458, 0.1306864966232447, 0.1306864963473584, 0.13068649607620425, 0.13068649580970115, 0.13068649554776923, 0.1306864952903302, 0.13068649503730687, 0.1306864947886236, 0.13068649454420583, 0.13068649430398052, 0.13068649406787572, 0.13068649383582065, 0.13068649360774603, 0.13068649338358343, 0.13068649316326586, 0.13068649294672727, 0.13068649273390287, 0.130686492524729, 0.130686492319143, 0.13068649211708333, 0.13068649191848958, 0.13068649172330213, 0.13068649153146272, 0.13068649134291385, 0.1306864911575991, 0.13068649097546295, 0.13068649079645095, 0.13068649062050944, 0.13068649044758585, 0.1306864902776283, 0.13068649011058595, 0.13068648994640883, 0.13068648978504785, 0.13068648962645454, 0.1306864894705816, 0.13068648931738222, 0.13068648916681064, 0.1306864890188218, 0.13068648887337128, 0.1306864887304157, 0.1306864885899121, 0.13068648845181852, 0.13068648831609364, 0.13068648818269682, 0.13068648805158806, 0.1306864879227282, 0.13068648779607855, 0.13068648767160135, 0.13068648754925924, 0.13068648742901562, 0.1306864873108345, 0.13068648719468043, 0.13068648708051878, 0.13068648696831528, 0.13068648685803635, 0.13068648674964906, 0.13068648664312082, 0.13068648653841983, 0.13068648643551475, 0.13068648633437477, 0.13068648623496956, 0.13068648613726952, 0.1306864860412452, 0.13068648594686796, 0.13068648585410958, 0.1306864857629422, 0.13068648567333857, 0.13068648558527193, 0.13068648549871584, 0.13068648541364442, 0.1306864853300322, 0.13068648524785414, 0.13068648516708561, 0.13068648508770253, 0.13068648500968108, 0.13068648493299784, 0.13068648485763001, 0.13068648478355485, 0.13068648471075037, 0.13068648463919458, 0.13068648456886617, 0.1306864844997441, 0.13068648443180775, 0.13068648436503655, 0.13068648429941068, 0.13068648423491053, 0.13068648417151668, 0.1306864841092102, 0.13068648404797245, 0.130686483987785, 0.13068648392863005, 0.1306864838704897, 0.13068648381334663, 0.13068648375718372, 0.13068648370198416, 0.13068648364773142, 0.13068648359440924, 0.13068648354200166, 0.13068648349049303, 0.13068648343986788]}],\n",
       "                        {\"height\": 500, \"template\": {\"data\": {\"bar\": [{\"error_x\": {\"color\": \"#2a3f5f\"}, \"error_y\": {\"color\": \"#2a3f5f\"}, \"marker\": {\"line\": {\"color\": \"#E5ECF6\", \"width\": 0.5}}, \"type\": \"bar\"}], \"barpolar\": [{\"marker\": {\"line\": {\"color\": \"#E5ECF6\", \"width\": 0.5}}, \"type\": \"barpolar\"}], \"carpet\": [{\"aaxis\": {\"endlinecolor\": \"#2a3f5f\", \"gridcolor\": \"white\", \"linecolor\": \"white\", \"minorgridcolor\": \"white\", \"startlinecolor\": \"#2a3f5f\"}, \"baxis\": {\"endlinecolor\": \"#2a3f5f\", \"gridcolor\": \"white\", \"linecolor\": \"white\", \"minorgridcolor\": \"white\", \"startlinecolor\": \"#2a3f5f\"}, \"type\": \"carpet\"}], \"choropleth\": [{\"colorbar\": {\"outlinewidth\": 0, \"ticks\": \"\"}, \"type\": \"choropleth\"}], \"contour\": [{\"colorbar\": {\"outlinewidth\": 0, \"ticks\": \"\"}, \"colorscale\": [[0.0, \"#0d0887\"], [0.1111111111111111, \"#46039f\"], [0.2222222222222222, \"#7201a8\"], [0.3333333333333333, \"#9c179e\"], [0.4444444444444444, \"#bd3786\"], [0.5555555555555556, \"#d8576b\"], [0.6666666666666666, \"#ed7953\"], [0.7777777777777778, \"#fb9f3a\"], [0.8888888888888888, \"#fdca26\"], [1.0, \"#f0f921\"]], \"type\": \"contour\"}], \"contourcarpet\": [{\"colorbar\": {\"outlinewidth\": 0, \"ticks\": \"\"}, \"type\": \"contourcarpet\"}], \"heatmap\": [{\"colorbar\": {\"outlinewidth\": 0, \"ticks\": \"\"}, \"colorscale\": [[0.0, \"#0d0887\"], [0.1111111111111111, \"#46039f\"], [0.2222222222222222, \"#7201a8\"], [0.3333333333333333, \"#9c179e\"], [0.4444444444444444, \"#bd3786\"], [0.5555555555555556, \"#d8576b\"], [0.6666666666666666, \"#ed7953\"], [0.7777777777777778, \"#fb9f3a\"], [0.8888888888888888, \"#fdca26\"], [1.0, \"#f0f921\"]], \"type\": \"heatmap\"}], \"heatmapgl\": [{\"colorbar\": {\"outlinewidth\": 0, \"ticks\": \"\"}, \"colorscale\": [[0.0, \"#0d0887\"], [0.1111111111111111, \"#46039f\"], [0.2222222222222222, \"#7201a8\"], [0.3333333333333333, \"#9c179e\"], [0.4444444444444444, \"#bd3786\"], [0.5555555555555556, \"#d8576b\"], [0.6666666666666666, \"#ed7953\"], [0.7777777777777778, \"#fb9f3a\"], [0.8888888888888888, \"#fdca26\"], [1.0, \"#f0f921\"]], \"type\": \"heatmapgl\"}], \"histogram\": [{\"marker\": {\"colorbar\": {\"outlinewidth\": 0, \"ticks\": \"\"}}, \"type\": \"histogram\"}], \"histogram2d\": [{\"colorbar\": {\"outlinewidth\": 0, \"ticks\": \"\"}, \"colorscale\": [[0.0, \"#0d0887\"], [0.1111111111111111, \"#46039f\"], [0.2222222222222222, \"#7201a8\"], [0.3333333333333333, \"#9c179e\"], [0.4444444444444444, \"#bd3786\"], [0.5555555555555556, \"#d8576b\"], [0.6666666666666666, \"#ed7953\"], [0.7777777777777778, \"#fb9f3a\"], [0.8888888888888888, \"#fdca26\"], [1.0, \"#f0f921\"]], \"type\": \"histogram2d\"}], \"histogram2dcontour\": [{\"colorbar\": {\"outlinewidth\": 0, \"ticks\": \"\"}, \"colorscale\": [[0.0, \"#0d0887\"], [0.1111111111111111, \"#46039f\"], [0.2222222222222222, \"#7201a8\"], [0.3333333333333333, \"#9c179e\"], [0.4444444444444444, \"#bd3786\"], [0.5555555555555556, \"#d8576b\"], [0.6666666666666666, \"#ed7953\"], [0.7777777777777778, \"#fb9f3a\"], [0.8888888888888888, \"#fdca26\"], [1.0, \"#f0f921\"]], \"type\": \"histogram2dcontour\"}], \"mesh3d\": [{\"colorbar\": {\"outlinewidth\": 0, \"ticks\": \"\"}, \"type\": \"mesh3d\"}], \"parcoords\": [{\"line\": {\"colorbar\": {\"outlinewidth\": 0, \"ticks\": \"\"}}, \"type\": \"parcoords\"}], \"pie\": [{\"automargin\": true, \"type\": \"pie\"}], \"scatter\": [{\"marker\": {\"colorbar\": {\"outlinewidth\": 0, \"ticks\": \"\"}}, \"type\": \"scatter\"}], \"scatter3d\": [{\"line\": {\"colorbar\": {\"outlinewidth\": 0, \"ticks\": \"\"}}, \"marker\": {\"colorbar\": {\"outlinewidth\": 0, \"ticks\": \"\"}}, \"type\": \"scatter3d\"}], \"scattercarpet\": [{\"marker\": {\"colorbar\": {\"outlinewidth\": 0, \"ticks\": \"\"}}, \"type\": \"scattercarpet\"}], \"scattergeo\": [{\"marker\": {\"colorbar\": {\"outlinewidth\": 0, \"ticks\": \"\"}}, \"type\": \"scattergeo\"}], \"scattergl\": [{\"marker\": {\"colorbar\": {\"outlinewidth\": 0, \"ticks\": \"\"}}, \"type\": \"scattergl\"}], \"scattermapbox\": [{\"marker\": {\"colorbar\": {\"outlinewidth\": 0, \"ticks\": \"\"}}, \"type\": \"scattermapbox\"}], \"scatterpolar\": [{\"marker\": {\"colorbar\": {\"outlinewidth\": 0, \"ticks\": \"\"}}, \"type\": \"scatterpolar\"}], \"scatterpolargl\": [{\"marker\": {\"colorbar\": {\"outlinewidth\": 0, \"ticks\": \"\"}}, \"type\": \"scatterpolargl\"}], \"scatterternary\": [{\"marker\": {\"colorbar\": {\"outlinewidth\": 0, \"ticks\": \"\"}}, \"type\": \"scatterternary\"}], \"surface\": [{\"colorbar\": {\"outlinewidth\": 0, \"ticks\": \"\"}, \"colorscale\": [[0.0, \"#0d0887\"], [0.1111111111111111, \"#46039f\"], [0.2222222222222222, \"#7201a8\"], [0.3333333333333333, \"#9c179e\"], [0.4444444444444444, \"#bd3786\"], [0.5555555555555556, \"#d8576b\"], [0.6666666666666666, \"#ed7953\"], [0.7777777777777778, \"#fb9f3a\"], [0.8888888888888888, \"#fdca26\"], [1.0, \"#f0f921\"]], \"type\": \"surface\"}], \"table\": [{\"cells\": {\"fill\": {\"color\": \"#EBF0F8\"}, \"line\": {\"color\": \"white\"}}, \"header\": {\"fill\": {\"color\": \"#C8D4E3\"}, \"line\": {\"color\": \"white\"}}, \"type\": \"table\"}]}, \"layout\": {\"annotationdefaults\": {\"arrowcolor\": \"#2a3f5f\", \"arrowhead\": 0, \"arrowwidth\": 1}, \"coloraxis\": {\"colorbar\": {\"outlinewidth\": 0, \"ticks\": \"\"}}, \"colorscale\": {\"diverging\": [[0, \"#8e0152\"], [0.1, \"#c51b7d\"], [0.2, \"#de77ae\"], [0.3, \"#f1b6da\"], [0.4, \"#fde0ef\"], [0.5, \"#f7f7f7\"], [0.6, \"#e6f5d0\"], [0.7, \"#b8e186\"], [0.8, \"#7fbc41\"], [0.9, \"#4d9221\"], [1, \"#276419\"]], \"sequential\": [[0.0, \"#0d0887\"], [0.1111111111111111, \"#46039f\"], [0.2222222222222222, \"#7201a8\"], [0.3333333333333333, \"#9c179e\"], [0.4444444444444444, \"#bd3786\"], [0.5555555555555556, \"#d8576b\"], [0.6666666666666666, \"#ed7953\"], [0.7777777777777778, \"#fb9f3a\"], [0.8888888888888888, \"#fdca26\"], [1.0, \"#f0f921\"]], \"sequentialminus\": [[0.0, \"#0d0887\"], [0.1111111111111111, \"#46039f\"], [0.2222222222222222, \"#7201a8\"], [0.3333333333333333, \"#9c179e\"], [0.4444444444444444, \"#bd3786\"], [0.5555555555555556, \"#d8576b\"], [0.6666666666666666, \"#ed7953\"], [0.7777777777777778, \"#fb9f3a\"], [0.8888888888888888, \"#fdca26\"], [1.0, \"#f0f921\"]]}, \"colorway\": [\"#636efa\", \"#EF553B\", \"#00cc96\", \"#ab63fa\", \"#FFA15A\", \"#19d3f3\", \"#FF6692\", \"#B6E880\", \"#FF97FF\", \"#FECB52\"], \"font\": {\"color\": \"#2a3f5f\"}, \"geo\": {\"bgcolor\": \"white\", \"lakecolor\": \"white\", \"landcolor\": \"#E5ECF6\", \"showlakes\": true, \"showland\": true, \"subunitcolor\": \"white\"}, \"hoverlabel\": {\"align\": \"left\"}, \"hovermode\": \"closest\", \"mapbox\": {\"style\": \"light\"}, \"paper_bgcolor\": \"white\", \"plot_bgcolor\": \"#E5ECF6\", \"polar\": {\"angularaxis\": {\"gridcolor\": \"white\", \"linecolor\": \"white\", \"ticks\": \"\"}, \"bgcolor\": \"#E5ECF6\", \"radialaxis\": {\"gridcolor\": \"white\", \"linecolor\": \"white\", \"ticks\": \"\"}}, \"scene\": {\"xaxis\": {\"backgroundcolor\": \"#E5ECF6\", \"gridcolor\": \"white\", \"gridwidth\": 2, \"linecolor\": \"white\", \"showbackground\": true, \"ticks\": \"\", \"zerolinecolor\": \"white\"}, \"yaxis\": {\"backgroundcolor\": \"#E5ECF6\", \"gridcolor\": \"white\", \"gridwidth\": 2, \"linecolor\": \"white\", \"showbackground\": true, \"ticks\": \"\", \"zerolinecolor\": \"white\"}, \"zaxis\": {\"backgroundcolor\": \"#E5ECF6\", \"gridcolor\": \"white\", \"gridwidth\": 2, \"linecolor\": \"white\", \"showbackground\": true, \"ticks\": \"\", \"zerolinecolor\": \"white\"}}, \"shapedefaults\": {\"line\": {\"color\": \"#2a3f5f\"}}, \"ternary\": {\"aaxis\": {\"gridcolor\": \"white\", \"linecolor\": \"white\", \"ticks\": \"\"}, \"baxis\": {\"gridcolor\": \"white\", \"linecolor\": \"white\", \"ticks\": \"\"}, \"bgcolor\": \"#E5ECF6\", \"caxis\": {\"gridcolor\": \"white\", \"linecolor\": \"white\", \"ticks\": \"\"}}, \"title\": {\"x\": 0.05}, \"xaxis\": {\"automargin\": true, \"gridcolor\": \"white\", \"linecolor\": \"white\", \"ticks\": \"\", \"title\": {\"standoff\": 15}, \"zerolinecolor\": \"white\", \"zerolinewidth\": 2}, \"yaxis\": {\"automargin\": true, \"gridcolor\": \"white\", \"linecolor\": \"white\", \"ticks\": \"\", \"title\": {\"standoff\": 15}, \"zerolinecolor\": \"white\", \"zerolinewidth\": 2}}}, \"title\": {\"text\": \"\\u4ee3\\u4ef7\\u6570\\u636e\\u53ef\\u89c6\\u5316\"}, \"width\": 500, \"xaxis\": {\"title\": {\"text\": \"\\u8fed\\u4ee3\\u6b21\\u6570\"}}, \"yaxis\": {\"title\": {\"text\": \"\\u4ee3\\u4ef7\\u51fd\\u6570\"}}},\n",
       "                        {\"showLink\": true, \"linkText\": \"Export to plot.ly\", \"plotlyServerURL\": \"https://plot.ly\", \"responsive\": true}\n",
       "                    ).then(function(){\n",
       "                            \n",
       "var gd = document.getElementById('2ebacb42-b10a-42d6-8ac6-03a468d86f2e');\n",
       "var x = new MutationObserver(function (mutations, observer) {{\n",
       "        var display = window.getComputedStyle(gd).display;\n",
       "        if (!display || display === 'none') {{\n",
       "            console.log([gd, 'removed!']);\n",
       "            Plotly.purge(gd);\n",
       "            observer.disconnect();\n",
       "        }}\n",
       "}});\n",
       "\n",
       "// Listen for the removal of the full notebook cells\n",
       "var notebookContainer = gd.closest('#notebook-container');\n",
       "if (notebookContainer) {{\n",
       "    x.observe(notebookContainer, {childList: true});\n",
       "}}\n",
       "\n",
       "// Listen for the clearing of the current output cell\n",
       "var outputEl = gd.closest('.output');\n",
       "if (outputEl) {{\n",
       "    x.observe(outputEl, {childList: true});\n",
       "}}\n",
       "\n",
       "                        })\n",
       "                };\n",
       "                });\n",
       "            </script>\n",
       "        </div>"
      ]
     },
     "metadata": {},
     "output_type": "display_data"
    }
   ],
   "source": [
    "# 代价数据可视化\n",
    "cost=pd.DataFrame(gradientDescent(X2, y2, theta2, alpha2, iters2)[1])\n",
    "cost.iplot(mode='lines',\n",
    "           layout=dict(height=500,width=500,xaxis=dict(title='迭代次数'),\n",
    "                       yaxis=dict(title='代价函数'),title='代价数据可视化'))"
   ]
  },
  {
   "cell_type": "markdown",
   "metadata": {},
   "source": [
    "## 4）关于学习率（learning rate）"
   ]
  },
  {
   "cell_type": "code",
   "execution_count": 55,
   "metadata": {},
   "outputs": [],
   "source": [
    "iters3=200\n",
    "base=np.logspace(-5,-1,num=10,base=10)\n",
    "\n",
    "cost=pd.DataFrame(np.zeros((iters3,10)))\n",
    "\n",
    "for i in range(10):\n",
    "    for alpha3 in base:\n",
    "        cost[i] = gradientDescent(X2, y2, theta2, alpha3, iters3)[1].T\n",
    "        cost.rename(columns={i:alpha3},inplace=True)\n",
    "        i=i+1\n",
    "    if i==10:\n",
    "        break"
   ]
  },
  {
   "cell_type": "code",
   "execution_count": 56,
   "metadata": {},
   "outputs": [
    {
     "data": {
      "application/vnd.plotly.v1+json": {
       "config": {
        "linkText": "Export to plot.ly",
        "plotlyServerURL": "https://plot.ly",
        "showLink": false
       },
       "data": [
        {
         "mode": "lines",
         "name": "1e-05",
         "type": "scatter",
         "y": [
          0.48935282630680776,
          0.4893439507390965,
          0.4893350754245183,
          0.48932620036306584,
          0.4893173255547311,
          0.4893084509995068,
          0.48929957669738544,
          0.48929070264835917,
          0.48928182885242066,
          0.4892729553095621,
          0.4892640820197762,
          0.48925520898305513,
          0.4892463361993914,
          0.4892374636687776,
          0.489228591391206,
          0.48921971936666897,
          0.489210847595159,
          0.48920197607666854,
          0.4891931048111901,
          0.489184233798716,
          0.48917536303923864,
          0.48916649253275035,
          0.48915762227924403,
          0.4891487522787115,
          0.4891398825311456,
          0.4891310130365386,
          0.4891221437948828,
          0.4891132748061711,
          0.4891044060703955,
          0.4890955375875486,
          0.4890866693576227,
          0.48907780138061024,
          0.48906893365650383,
          0.4890600661852958,
          0.48905119896697846,
          0.4890423320015447,
          0.48903346528898634,
          0.4890245988292961,
          0.4890157326224663,
          0.4890068666684895,
          0.4889980009673584,
          0.4889891355190648,
          0.4889802703236015,
          0.4889714053809611,
          0.4889625406911357,
          0.48895367625411795,
          0.48894481206990015,
          0.48893594813847485,
          0.4889270844598344,
          0.4889182210339712,
          0.4889093578608778,
          0.4889004949405466,
          0.48889163227297,
          0.48888276985814044,
          0.4888739076960504,
          0.4888650457866923,
          0.48885618413005844,
          0.48884732272614156,
          0.4888384615749339,
          0.48882960067642756,
          0.48882074003061565,
          0.48881187963749034,
          0.4888030194970439,
          0.488794159609269,
          0.4887852999741578,
          0.48877644059170305,
          0.48876758146189697,
          0.488758722584732,
          0.4887498639602008,
          0.4887410055882957,
          0.48873214746900906,
          0.4887232896023332,
          0.48871443198826076,
          0.48870557462678416,
          0.488696717517896,
          0.48868786066158837,
          0.4886790040578541,
          0.4886701477066852,
          0.48866129160807437,
          0.488652435762014,
          0.4886435801684965,
          0.4886347248275146,
          0.48862586973906025,
          0.4886170149031262,
          0.48860816031970483,
          0.48859930598878853,
          0.48859045191037,
          0.4885815980844414,
          0.4885727445109952,
          0.4885638911900239,
          0.48855503812151996,
          0.488546185305476,
          0.48853733274188405,
          0.4885284804307369,
          0.48851962837202667,
          0.4885107765657463,
          0.4885019250118878,
          0.48849307371044376,
          0.48848422266140673,
          0.488475371864769,
          0.4884665213205231,
          0.48845767102866133,
          0.48844882098917647,
          0.4884399712020605,
          0.48843112166730634,
          0.48842227238490626,
          0.4884134233548525,
          0.4884045745771378,
          0.48839572605175435,
          0.48838687777869505,
          0.48837802975795175,
          0.4883691819895172,
          0.48836033447338406,
          0.4883514872095443,
          0.4883426401979908,
          0.48833379343871575,
          0.4883249469317117,
          0.48831610067697107,
          0.4883072546744864,
          0.4882984089242498,
          0.4882895634262544,
          0.48828071818049196,
          0.48827187318695536,
          0.488263028445637,
          0.488254183956529,
          0.4882453397196241,
          0.4882364957349147,
          0.4882276520023933,
          0.48821880852205246,
          0.4882099652938844,
          0.48820112231788154,
          0.4881922795940366,
          0.48818343712234163,
          0.48817459490278964,
          0.4881657529353727,
          0.4881569112200832,
          0.4881480697569139,
          0.4881392285458571,
          0.4881303875869054,
          0.4881215468800507,
          0.48811270642528615,
          0.48810386622260393,
          0.4880950262719964,
          0.48808618657345615,
          0.4880773471269756,
          0.4880685079325472,
          0.4880596689901635,
          0.4880508302998167,
          0.48804199186149955,
          0.4880331536752042,
          0.48802431574092353,
          0.4880154780586496,
          0.48800664062837507,
          0.4879978034500923,
          0.4879889665237938,
          0.4879801298494723,
          0.48797129342711976,
          0.4879624572567289,
          0.4879536213382922,
          0.48794478567180194,
          0.48793595025725084,
          0.4879271150946313,
          0.4879182801839355,
          0.48790944552515636,
          0.48790061111828603,
          0.48789177696331704,
          0.4878829430602418,
          0.48787410940905285,
          0.4878652760097426,
          0.4878564428623037,
          0.4878476099667284,
          0.48783877732300895,
          0.4878299449311383,
          0.4878211127911087,
          0.48781228090291273,
          0.48780344926654245,
          0.4877946178819908,
          0.48778578674925,
          0.48777695586831255,
          0.48776812523917085,
          0.4877592948618176,
          0.4877504647362451,
          0.4877416348624458,
          0.487732805240412,
          0.4877239758701368,
          0.48771514675161187,
          0.4877063178848301,
          0.48769748926978385,
          0.4876886609064658,
          0.487679832794868,
          0.48767100493498333,
          0.487662177326804,
          0.4876533499703228,
          0.48764452286553167,
          0.4876356960124234,
          0.4876268694109905,
          0.4876180430612254,
          0.48760921696312043,
          0.48760039111666836,
          0.4875915655218614
         ]
        },
        {
         "mode": "lines",
         "name": "2.782559402207126e-05",
         "type": "scatter",
         "y": [
          0.48933700494279975,
          0.48931230971786416,
          0.4892876164526895,
          0.48926292514711234,
          0.48923823580096976,
          0.4892135484140986,
          0.4891888629863356,
          0.4891641795175176,
          0.48913949800748174,
          0.4891148184560646,
          0.4890901408631031,
          0.4890654652284346,
          0.48904079155189556,
          0.48901611983332277,
          0.4889914500725537,
          0.4889667822694251,
          0.4889421164237739,
          0.4889174525354373,
          0.48889279060425206,
          0.48886813063005535,
          0.48884347261268435,
          0.48881881655197557,
          0.48879416244776663,
          0.4887695102998946,
          0.48874486010819634,
          0.488720211872509,
          0.48869556559266963,
          0.4886709212685156,
          0.4886462788998839,
          0.48862163848661166,
          0.48859700002853634,
          0.4885723635254948,
          0.4885477289773245,
          0.4885230963838624,
          0.4884984657449458,
          0.48847383706041214,
          0.48844921033009847,
          0.4884245855538422,
          0.4883999627314807,
          0.48837534186285086,
          0.48835072294779064,
          0.48832610598613674,
          0.488301490977727,
          0.48827687792239843,
          0.4882522668199886,
          0.4882276576703347,
          0.4882030504732744,
          0.48817844522864484,
          0.4881538419362837,
          0.48812924059602814,
          0.48810464120771585,
          0.48808004377118425,
          0.4880554482862708,
          0.4880308547528128,
          0.48800626317064816,
          0.48798167353961414,
          0.4879570858595483,
          0.48793250013028816,
          0.48790791635167124,
          0.4878833345235355,
          0.48785875464571804,
          0.4878341767180567,
          0.4878096007403892,
          0.48778502671255286,
          0.48776045463438555,
          0.48773588450572486,
          0.4877113163264086,
          0.48768675009627427,
          0.48766218581515974,
          0.48763762348290257,
          0.4876130630993406,
          0.4875885046643113,
          0.4875639481776531,
          0.4875393936392028,
          0.48751484104879905,
          0.48749029040627917,
          0.48746574171148116,
          0.4874411949642427,
          0.48741665016440194,
          0.4873921073117963,
          0.48736756640626394,
          0.48734302744764246,
          0.4873184904357702,
          0.48729395537048475,
          0.48726942225162406,
          0.48724489107902585,
          0.4872203618525286,
          0.4871958345719701,
          0.487171309237188,
          0.48714678584802035,
          0.48712226440430567,
          0.4870977449058815,
          0.48707322735258585,
          0.487048711744257,
          0.48702419808073283,
          0.4869996863618515,
          0.48697517658745115,
          0.4869506687573697,
          0.48692616287144513,
          0.48690165892951626,
          0.4868771569314207,
          0.48685265687699636,
          0.48682815876608204,
          0.4868036625985154,
          0.4867791683741349,
          0.4867546760927786,
          0.4867301857542849,
          0.48670569735849195,
          0.4866812109052381,
          0.48665672639436125,
          0.4866322438257,
          0.4866077631990924,
          0.48658328451437716,
          0.4865588077713924,
          0.48653433296997634,
          0.4865098601099674,
          0.48648538919120365,
          0.486460920213524,
          0.4864364531767667,
          0.48641198808076985,
          0.48638752492537185,
          0.48636306371041144,
          0.4863386044357271,
          0.486314147101157,
          0.48628969170653974,
          0.48626523825171375,
          0.4862407867365175,
          0.4862163371607897,
          0.48619188952436854,
          0.48616744382709304,
          0.4861430000688011,
          0.48611855824933187,
          0.4860941183685237,
          0.4860696804262149,
          0.4860452444222446,
          0.48602081035645106,
          0.4859963782286731,
          0.48597194803874927,
          0.4859475197865182,
          0.48592309347181856,
          0.48589866909448903,
          0.48587424665436857,
          0.48584982615129535,
          0.48582540758510867,
          0.4858009909556468,
          0.48577657626274895,
          0.48575216350625344,
          0.4857277526859995,
          0.4857033438018255,
          0.4856789368535704,
          0.4856545318410731,
          0.48563012876417233,
          0.48560572762270693,
          0.4855813284165162,
          0.4855569311454384,
          0.4855325358093126,
          0.48550814240797785,
          0.4854837509412731,
          0.48545936140903695,
          0.48543497381110845,
          0.48541058814732707,
          0.4853862044175312,
          0.48536182262156,
          0.48533744275925245,
          0.48531306483044745,
          0.4852886888349844,
          0.48526431477270193,
          0.4852399426434393,
          0.48521557244703556,
          0.4851912041833298,
          0.4851668378521611,
          0.4851424734533685,
          0.4851181109867911,
          0.48509375045226816,
          0.4850693918496388,
          0.48504503517874215,
          0.4850206804394174,
          0.4849963276315036,
          0.48497197675484005,
          0.4849476278092663,
          0.484923280794621,
          0.4848989357107437,
          0.4848745925574739,
          0.48485025133465026,
          0.48482591204211256,
          0.48480157467969986,
          0.4847772392472516,
          0.48475290574460694,
          0.48472857417160536,
          0.48470424452808625,
          0.48467991681388894,
          0.48465559102885275,
          0.4846312671728171,
          0.4846069452456213,
          0.48458262524710494,
          0.48455830717710724,
          0.4845339910354681,
          0.4845096768220264,
          0.48448536453662194,
          0.4844610541790941
         ]
        },
        {
         "mode": "lines",
         "name": "7.742636826811278e-05",
         "type": "scatter",
         "y": [
          0.489292983174165,
          0.4892242793945247,
          0.48915559078522275,
          0.4890869173427444,
          0.48901825906357554,
          0.48894961594420266,
          0.4888809879811135,
          0.48881237517079623,
          0.48874377750974024,
          0.48867519499443546,
          0.4886066276213728,
          0.4885380753870437,
          0.4884695382879407,
          0.48840101632055716,
          0.48833250948138734,
          0.48826401776692585,
          0.4881955411736688,
          0.48812707969811264,
          0.48805863333675464,
          0.4879902020860935,
          0.4879217859426278,
          0.48785338490285773,
          0.48778499896328387,
          0.4877166281204078,
          0.4876482723707318,
          0.4875799317107591,
          0.48751160613699385,
          0.48744329564594097,
          0.4873750002341054,
          0.48730671989799446,
          0.4872384546341149,
          0.48717020443897496,
          0.4871019693090839,
          0.48703374924095105,
          0.48696554423108707,
          0.48689735427600334,
          0.4868291793722123,
          0.4867610195162267,
          0.48669287470456063,
          0.48662474493372854,
          0.4865566302002459,
          0.4864885305006295,
          0.4864204458313957,
          0.48635237618906313,
          0.4862843215701502,
          0.4862162819711765,
          0.48614825738866263,
          0.4860802478191296,
          0.48601225325909964,
          0.48594427370509535,
          0.4858763091536406,
          0.48580835960125973,
          0.48574042504447823,
          0.4856725054798221,
          0.4856046009038184,
          0.4855367113129948,
          0.48546883670387964,
          0.4854009770730028,
          0.4853331324168942,
          0.48526530273208474,
          0.4851974880151065,
          0.4851296882624919,
          0.4850619034707745,
          0.48499413363648874,
          0.48492637875616945,
          0.4848586388263527,
          0.4847909138435753,
          0.4847232038043745,
          0.48465550870528884,
          0.4845878285428574,
          0.4845201633136203,
          0.48445251301411824,
          0.48438487764089294,
          0.4843172571904864,
          0.48424965165944234,
          0.48418206104430456,
          0.48411448534161794,
          0.4840469245479283,
          0.4839793786597819,
          0.483911847673726,
          0.48384433158630913,
          0.48377683039407937,
          0.4837093440935873,
          0.4836418726813832,
          0.48357441615401825,
          0.48350697450804453,
          0.48343954774001535,
          0.4833721358464841,
          0.4833047388240057,
          0.48323735666913525,
          0.48316998937842925,
          0.4831026369484445,
          0.483035299375739,
          0.48296797665687125,
          0.48290066878840066,
          0.4828333757668877,
          0.4827660975888932,
          0.482698834250979,
          0.48263158574970805,
          0.48256435208164317,
          0.48249713324334964,
          0.4824299292313919,
          0.48236274004233615,
          0.4822955656727487,
          0.48222840611919754,
          0.4821612613782509,
          0.48209413144647745,
          0.4820270163204478,
          0.48195991599673227,
          0.4818928304719024,
          0.4818257597425308,
          0.4817587038051905,
          0.4816916626564555,
          0.48162463629290037,
          0.4815576247111009,
          0.4814906279076338,
          0.4814236458790755,
          0.4813566786220044,
          0.48128972613299936,
          0.48122278840863997,
          0.4811558654455064,
          0.48108895724018014,
          0.48102206378924295,
          0.48095518508927804,
          0.48088832113686875,
          0.48082147192859925,
          0.48075463746105523,
          0.4806878177308224,
          0.48062101273448804,
          0.48055422246863905,
          0.48048744692986445,
          0.4804206861147534,
          0.4803539400198955,
          0.4802872086418821,
          0.4802204919773049,
          0.48015379002275577,
          0.4800871027748283,
          0.4800204302301165,
          0.47995377238521536,
          0.4798871292367203,
          0.4798205007812277,
          0.4797538870153353,
          0.4796872879356405,
          0.4796207035387426,
          0.4795541338212409,
          0.4794875787797361,
          0.4794210384108295,
          0.4793545127111229,
          0.47928800167721897,
          0.479221505305722,
          0.4791550235932357,
          0.4790885565363658,
          0.4790221041317182,
          0.4789556663758996,
          0.47888924326551774,
          0.478822834797181,
          0.47875644096749864,
          0.47869006177308043,
          0.4786236972105377,
          0.4785573472764817,
          0.47849101196752475,
          0.4784246912802802,
          0.47835838521136215,
          0.4782920937573852,
          0.4782258169149651,
          0.4781595546807181,
          0.4780933070512613,
          0.4780270740232131,
          0.47796085559319185,
          0.4778946517578173,
          0.47782846251370964,
          0.4777622878574901,
          0.4776961277857807,
          0.4776299822952042,
          0.477563851382384,
          0.4774977350439446,
          0.47743163327651084,
          0.47736554607670895,
          0.47729947344116563,
          0.477233415366508,
          0.47716737184936464,
          0.47710134288636485,
          0.4770353284741381,
          0.47696932860931524,
          0.4769033432885278,
          0.4768373725084077,
          0.4767714162655882,
          0.4767054745567034,
          0.4766395473783877,
          0.47657363472727626,
          0.47650773660000567,
          0.47644185299321296,
          0.47637598390353547,
          0.4763101293276122,
          0.47624428926208234,
          0.476178463703586,
          0.47611265264876435,
          0.47604685609425906,
          0.4759810740367124,
          0.4759153064727681
         ]
        },
        {
         "mode": "lines",
         "name": "0.00021544346900318823",
         "type": "scatter",
         "y": [
          0.4891705063755564,
          0.4889794280848325,
          0.4887884671797669,
          0.4885976235846875,
          0.4884068972239723,
          0.48821628802204786,
          0.4880257959033917,
          0.4878354207925292,
          0.48764516261403557,
          0.4874550212925358,
          0.48726499675270385,
          0.48707508891926254,
          0.4868852977169848,
          0.4866956230706918,
          0.48650606490525494,
          0.4863166231455936,
          0.4861272977166769,
          0.48593808854352316,
          0.4857489955511994,
          0.4855600186648216,
          0.4853711578095553,
          0.485182412910614,
          0.48499378389326103,
          0.4848052706828081,
          0.4846168732046159,
          0.4844285913840939,
          0.48424042514670024,
          0.4840523744179423,
          0.4838644391233751,
          0.48367661918860405,
          0.4834889145392812,
          0.48330132510110874,
          0.48311385079983676,
          0.4829264915612643,
          0.48273924731123846,
          0.4825521179756552,
          0.4823651034804586,
          0.4821782037516415,
          0.4819914187152449,
          0.48180474829735853,
          0.48161819242412013,
          0.48143175102171526,
          0.48124542401637904,
          0.48105921133439367,
          0.4808731129020901,
          0.4806871286458472,
          0.48050125849209196,
          0.4803155023672999,
          0.48012986019799425,
          0.4799443319107464,
          0.4797589174321756,
          0.4795736166889491,
          0.4793884296077825,
          0.47920335611543885,
          0.47901839613872915,
          0.4788335496045127,
          0.478648816439696,
          0.4784641965712338,
          0.47827968992612835,
          0.47809529643142984,
          0.4779110160142363,
          0.4777268486016926,
          0.4775427941209922,
          0.4773588524993758,
          0.47717502366413167,
          0.47699130754259567,
          0.47680770406215095,
          0.4766242131502285,
          0.47644083473430665,
          0.476257568741911,
          0.4760744151006145,
          0.4758913737380378,
          0.47570844458184847,
          0.4755256275597617,
          0.4753429225995397,
          0.4751603296289923,
          0.4749778485759759,
          0.4747954793683947,
          0.4746132219341996,
          0.4744310762013887,
          0.47424904209800756,
          0.47406711955214825,
          0.47388530849195015,
          0.47370360884559953,
          0.4735220205413298,
          0.473340543507421,
          0.47315917767220017,
          0.4729779229640414,
          0.4727967793113652,
          0.47261574664263944,
          0.4724348248863782,
          0.47225401397114286,
          0.47207331382554096,
          0.4718927243782272,
          0.47171224555790237,
          0.4715318772933142,
          0.4713516195132574,
          0.4711714721465725,
          0.470991435122147,
          0.470811508368915,
          0.47063169181585646,
          0.47045198539199834,
          0.4702723890264139,
          0.47009290264822273,
          0.46991352618659066,
          0.46973425957072984,
          0.4695551027298988,
          0.46937605559340245,
          0.4691971180905914,
          0.46901829015086327,
          0.46883957170366086,
          0.4686609626784741,
          0.46848246300483837,
          0.46830407261233503,
          0.46812579143059224,
          0.46794761938928303,
          0.46776955641812745,
          0.4675916024468912,
          0.46741375740538554,
          0.4672360212234678,
          0.4670583938310413,
          0.46688087515805543,
          0.4667034651345044,
          0.46652616369042954,
          0.46634897075591675,
          0.46617188626109857,
          0.46599491013615213,
          0.46581804231130136,
          0.465641282716815,
          0.46546463128300797,
          0.4652880879402401,
          0.4651116526189171,
          0.46493532524949066,
          0.46475910576245694,
          0.464582994088358,
          0.4644069901577817,
          0.4642310939013606,
          0.46405530524977334,
          0.463879624133743,
          0.46370405048403857,
          0.46352858423147436,
          0.4633532253069095,
          0.4631779736412486,
          0.4630028291654412,
          0.4628277918104823,
          0.4626528615074119,
          0.4624780381873148,
          0.4623033217813214,
          0.46212871222060625,
          0.46195420943639015,
          0.4617798133599377,
          0.461605523922559,
          0.461431341055609,
          0.4612572646904874,
          0.4610832947586387,
          0.46090943119155264,
          0.4607356739207631,
          0.4605620228778492,
          0.4603884779944345,
          0.46021503920218765,
          0.4600417064328215,
          0.45986847961809396,
          0.4596953586898071,
          0.4595223435798081,
          0.4593494342199881,
          0.45917663054228314,
          0.4590039324786736,
          0.4588313399611847,
          0.45865885292188563,
          0.45848647129288994,
          0.458314195006356,
          0.4581420239944863,
          0.4579699581895276,
          0.45779799752377087,
          0.45762614192955153,
          0.4574543913392492,
          0.45728274568528765,
          0.4571112049001348,
          0.45693976891630267,
          0.4567684376663477,
          0.45659721108287,
          0.45642608909851384,
          0.4562550716459678,
          0.45608415865796414,
          0.4559133500672789,
          0.45574264580673307,
          0.4555720458091904,
          0.45540155000755894,
          0.45523115833479055,
          0.45506087072388135,
          0.45489068710787073,
          0.4547206074198419,
          0.454550631592922,
          0.45438075956028173,
          0.45421099125513575,
          0.4540413266107421,
          0.4538717655604022,
          0.45370230803746175,
          0.4535329539753096,
          0.453363703307378
         ]
        },
        {
         "mode": "lines",
         "name": "0.0005994842503189409",
         "type": "scatter",
         "y": [
          0.488829834291334,
          0.48829887539317385,
          0.48776882380323966,
          0.48723967789455686,
          0.48671143604311096,
          0.48618409662784123,
          0.4856576580306368,
          0.48513211863633,
          0.48460747683269095,
          0.4840837310104235,
          0.4835608795631583,
          0.4830389208874482,
          0.48251785338276343,
          0.48199767545148514,
          0.48147838549890093,
          0.480959981933199,
          0.48044246316546335,
          0.4799258276096684,
          0.47941007368267297,
          0.47889519980421635,
          0.47838120439691173,
          0.47786808588624174,
          0.477355842700553,
          0.4768444732710508,
          0.47633397603179367,
          0.4758243494196892,
          0.4753155918744874,
          0.4748077018387764,
          0.474300677757977,
          0.47379451808033773,
          0.4732892212569294,
          0.4727847857416399,
          0.4722812099911695,
          0.47177849246502535,
          0.47127663162551586,
          0.470775625937747,
          0.470275473869616,
          0.4697761738918062,
          0.4692777244777829,
          0.4687801241037875,
          0.4682833712488325,
          0.4677874643946971,
          0.46729240202592087,
          0.46679818262979994,
          0.4663048046963816,
          0.465812266718459,
          0.4653205671915664,
          0.4648297046139738,
          0.46433967748668264,
          0.4638504843134198,
          0.46336212360063406,
          0.4628745938574893,
          0.4623878935958617,
          0.4619020213303322,
          0.4614169755781839,
          0.46093275485939617,
          0.46044935769663964,
          0.4599667826152706,
          0.4594850281433282,
          0.45900409281152743,
          0.45852397515325527,
          0.4580446737045653,
          0.4575661870041735,
          0.45708851359345265,
          0.45661165201642806,
          0.45613560081977245,
          0.4556603585528012,
          0.4551859237674671,
          0.4547122950183562,
          0.4542394708626827,
          0.4537674498602843,
          0.4532962305736168,
          0.45282581156775026,
          0.4523561914103635,
          0.45188736867173956,
          0.45141934192476124,
          0.45095210974490557,
          0.4504856707102401,
          0.45002002340141734,
          0.4495551664016703,
          0.4490910982968084,
          0.4486278176752113,
          0.44816532312782553,
          0.44770361324815966,
          0.4472426866322788,
          0.44678254187880073,
          0.4463231775888911,
          0.44586459236625814,
          0.44540678481714896,
          0.4449497535503444,
          0.4444934971771544,
          0.4440380143114133,
          0.4435833035694758,
          0.44312936357021154,
          0.4426761929350009,
          0.442223790287731,
          0.4417721542547898,
          0.4413212834650625,
          0.44087117654992686,
          0.44042183214324887,
          0.4399732488813772,
          0.4395254254031397,
          0.4390783603498385,
          0.43863205236524544,
          0.438186500095598,
          0.43774170218959363,
          0.43729765729838677,
          0.4368543640755835,
          0.43641182117723665,
          0.4359700272618431,
          0.43552898099033643,
          0.4350886810260857,
          0.43464912603488837,
          0.4342103146849677,
          0.43377224564696704,
          0.4333349175939462,
          0.4328983292013765,
          0.4324624791471369,
          0.4320273661115096,
          0.4315929887771744,
          0.4311593458292064,
          0.4307264359550699,
          0.43029425784461495,
          0.4298628101900724,
          0.4294320916860503,
          0.429002101029529,
          0.42857283691985654,
          0.42814429805874504,
          0.4277164831502665,
          0.42728939090084717,
          0.4268630200192649,
          0.42643736921664327,
          0.4260124372064493,
          0.4255882227044871,
          0.4251647244288946,
          0.4247419411001393,
          0.4243198714410141,
          0.42389851417663277,
          0.42347786803442516,
          0.4230579317441346,
          0.42263870403781234,
          0.422220183649813,
          0.42180236931679216,
          0.4213852597777,
          0.4209688537737793,
          0.420553150048559,
          0.42013814734785104,
          0.4197238444197477,
          0.4193102400146146,
          0.41889733288508857,
          0.41848512178607283,
          0.4180736054747328,
          0.4176627827104923,
          0.41725265225502894,
          0.41684321287227044,
          0.4164344633283904,
          0.41602640239180405,
          0.41561902883316415,
          0.41521234142535735,
          0.4148063389434995,
          0.4144010201649319,
          0.41399638386921733,
          0.4135924288381357,
          0.4131891538556804,
          0.4127865577080535,
          0.41238463918366264,
          0.4119833970731167,
          0.4115828301692214,
          0.4111829372669755,
          0.41078371716356743,
          0.41038516865837005,
          0.4099872905529373,
          0.40959008165100097,
          0.40919354075846553,
          0.40879766668340445,
          0.4084024582360568,
          0.40800791422882265,
          0.4076140334762599,
          0.40722081479507877,
          0.4068282570041403,
          0.4064363589244499,
          0.4060451193791552,
          0.40565453719354155,
          0.40526461119502794,
          0.4048753402131629,
          0.40448672307962147,
          0.404098758628201,
          0.40371144569481665,
          0.40332478311749775,
          0.40293876973638487,
          0.40255340439372467,
          0.4021686859338669,
          0.4017846132032604,
          0.40140118505044875,
          0.4010184003260674,
          0.4006362578828387,
          0.40025475657556914,
          0.39987389526114514,
          0.39949367279852893,
          0.3991140880487553
         ]
        },
        {
         "mode": "lines",
         "name": "0.0016681005372000592",
         "type": "scatter",
         "y": [
          0.4878828763916077,
          0.48641107698001745,
          0.48494626886231834,
          0.4834884171851211,
          0.4820374872713177,
          0.48059344461918574,
          0.4791562549014978,
          0.47772588396463617,
          0.4763022978277092,
          0.4748854626816761,
          0.473475344888473,
          0.4720719109801446,
          0.47067512765798125,
          0.46928496179165796,
          0.4679013804183806,
          0.46652435074203424,
          0.4651538401323373,
          0.4637898161239983,
          0.4624322464158796,
          0.4610810988701624,
          0.4597363415115175,
          0.4583979425262813,
          0.4570658702616333,
          0.4557400932247805,
          0.4544205800821435,
          0.4531072996585492,
          0.4518002209364259,
          0.45049931305500285,
          0.4492045453095141,
          0.44791588715040626,
          0.44663330818255087,
          0.445356778164459,
          0.44408626700750253,
          0.4428217447751368,
          0.4415631816821289,
          0.44031054809378917,
          0.4390638145252072,
          0.43782295164049057,
          0.4365879302520082,
          0.4353587213196387,
          0.43413529595001965,
          0.4329176253958035,
          0.43170568105491636,
          0.4304994344698196,
          0.4292988573267757,
          0.42810392145512,
          0.4269145988265319,
          0.4257308615543132,
          0.4245526818926699,
          0.423380032235995,
          0.4222128851181576,
          0.4210512132117952,
          0.4198949893276084,
          0.41874418641366035,
          0.417598777554679,
          0.41645873597136346,
          0.41532403501969384,
          0.414194648190244,
          0.41307054910749835,
          0.4119517115291724,
          0.4108381093455354,
          0.40972971657873836,
          0.40862650738214445,
          0.40752845603966165,
          0.406435536965082,
          0.40534772470141983,
          0.40426499392025816,
          0.403187319421094,
          0.40211467613069013,
          0.4010470391024286,
          0.39998438351566834,
          0.3989266846751046,
          0.39787391801013433,
          0.3968260590742216,
          0.3957830835442685,
          0.3947449672199882,
          0.39371168602328227,
          0.3926832159976196,
          0.3916595333074195,
          0.3906406142374375,
          0.3896264351921557,
          0.38861697269517326,
          0.3876122033886029,
          0.38661210403246904,
          0.38561665150410956,
          0.38462582279757923,
          0.3836395950230589,
          0.3826579454062649,
          0.3816808512878626,
          0.38070829012288365,
          0.37974023948014524,
          0.37877667704167195,
          0.3778175806021215,
          0.3768629280682137,
          0.37591269745816114,
          0.3749668669011027,
          0.37402541463654165,
          0.3730883190137847,
          0.3721555584913852,
          0.3712271116365882,
          0.37030295712477945,
          0.3693830737389356,
          0.36846744036907914,
          0.36755603601173453,
          0.3666488397693877,
          0.3657458308499488,
          0.3648469885662163,
          0.36395229233534565,
          0.36306172167831857,
          0.36217525621941743,
          0.3612928756856998,
          0.36041455990647747,
          0.3595402888127977,
          0.35867004243692663,
          0.3578038009118352,
          0.3569415444706894,
          0.35608325344634045,
          0.3552289082708192,
          0.3543784894748342,
          0.3535319776872686,
          0.3526893536346844,
          0.3518505981408248,
          0.35101569212612227,
          0.3501846166072076,
          0.34935735269642154,
          0.3485338816013293,
          0.3477141846242377,
          0.34689824316171364,
          0.34608603870410676,
          0.34527755283507305,
          0.3444727672311013,
          0.3436716636610423,
          0.3428742239856401,
          0.3420804301570663,
          0.341290264218455,
          0.34050370830344245,
          0.3397207446357073,
          0.3389413555285136,
          0.3381655233842569,
          0.33739323069401145,
          0.3366244600370806,
          0.3358591940805489,
          0.33509741557883704,
          0.3343391073732587,
          0.33358425239157974,
          0.3328328336475793,
          0.3320848342406137,
          0.33134023735518253,
          0.3305990262604963,
          0.32986118431004663,
          0.32912669494117924,
          0.3283955416746681,
          0.3276677081142923,
          0.32694317794641486,
          0.3262219349395643,
          0.32550396294401746,
          0.3247892458913845,
          0.32407776779419717,
          0.32336951274549725,
          0.3226644649184293,
          0.3219626085658334,
          0.3212639280198416,
          0.3205684076914751,
          0.31987603207024473,
          0.31918678572375214,
          0.3185006532972946,
          0.3178176195134698,
          0.31713766917178504,
          0.3164607871482657,
          0.31578695839506865,
          0.3151161679400948,
          0.31444840088660614,
          0.3137836424128423,
          0.3131218777716412,
          0.31246309229006036,
          0.31180727136900055,
          0.3111544004828313,
          0.310504465179018,
          0.3098574510777518,
          0.30921334387158017,
          0.30857212932504047,
          0.3079337932742945,
          0.30729832162676546,
          0.3066657003607764,
          0.3060359155251908,
          0.30540895323905515,
          0.30478479969124245,
          0.3041634411400984,
          0.3035448639130894,
          0.30292905440645146,
          0.3023159990848421,
          0.30170568448099294,
          0.30109809719536484,
          0.30049322389580413,
          0.29989105131720145,
          0.299291566261151,
          0.29869475559561326,
          0.298100606254578,
          0.2975091052377292,
          0.2969202396101126
         ]
        },
        {
         "mode": "lines",
         "name": "0.004641588833612777",
         "type": "scatter",
         "y": [
          0.48525551623811397,
          0.4812034905467479,
          0.477204875447557,
          0.47325893186018236,
          0.46936493108149907,
          0.4655221546393017,
          0.4617298941480528,
          0.45798745116667017,
          0.4542941370583197,
          0.4506492728521877,
          0.4470521891072064,
          0.44350222577770027,
          0.4399987320809308,
          0.4365410663665101,
          0.43312859598765924,
          0.4297606971742815,
          0.4264367549078297,
          0.4231561627979379,
          0.4199183229607964,
          0.41672264589924246,
          0.4135685503845424,
          0.41045546333984523,
          0.4073828197252795,
          0.404350062424672,
          0.40135664213386574,
          0.3984020172506151,
          0.3954856537660333,
          0.3926070251575744,
          0.38976561228352397,
          0.3869609032789796,
          0.3841923934532996,
          0.3814595851889998,
          0.3787619878420764,
          0.37609911764373544,
          0.3734704976035116,
          0.3708756574137509,
          0.3683141333554445,
          0.3657854682053903,
          0.3632892111446646,
          0.3608249176683863,
          0.3583921494967539,
          0.35599047448733945,
          0.35361946654861826,
          0.35127870555472074,
          0.3489677772613872,
          0.3466862732231075,
          0.34443379071143165,
          0.3422099326344323,
          0.34001430745730427,
          0.3378465291240851,
          0.33570621698047864,
          0.33359299569777023,
          0.33150649519781383,
          0.32944635057907784,
          0.3274122020437362,
          0.32540369482578574,
          0.32342047912018085,
          0.3214622100129657,
          0.3195285474123944,
          0.3176191559810214,
          0.315733705068752,
          0.31387186864683553,
          0.31203332524279265,
          0.3102177578762579,
          0.30842485399573,
          0.3066543054162137,
          0.304905808257741,
          0.3031790628847612,
          0.301473773846385,
          0.2997896498174726,
          0.29812640354055236,
          0.29648375176855957,
          0.29486141520838327,
          0.2932591184652088,
          0.29167658998764645,
          0.2901135620136343,
          0.28856977051710353,
          0.2870449551553976,
          0.285538859217432,
          0.2840512295725862,
          0.2825818166203164,
          0.2811303742404792,
          0.27969665974435626,
          0.27828043382637,
          0.27688146051648005,
          0.2754995071332515,
          0.2741343442375862,
          0.2727857455871051,
          0.27145348809117537,
          0.2701373517665719,
          0.2688371196937637,
          0.26755257797381765,
          0.26628351568590963,
          0.2650297248454357,
          0.26379100036271347,
          0.2625671400022665,
          0.2613579443426831,
          0.2601632167370411,
          0.2589827632738912,
          0.25781639273879,
          0.25666391657637677,
          0.2555251488529844,
          0.25439990621977704,
          0.25328800787640976,
          0.2521892755351989,
          0.25110353338579783,
          0.25003060806037297,
          0.24897032859926807,
          0.24792252641715562,
          0.24688703526966302,
          0.24586369122047186,
          0.24485233260887934,
          0.24385280001781826,
          0.24286493624232772,
          0.24188858625846849,
          0.24092359719267673,
          0.23996981829154979,
          0.23902710089205853,
          0.23809529839217936,
          0.23717426622194035,
          0.23626386181487596,
          0.23536394457988394,
          0.23447437587347972,
          0.23359501897244114,
          0.23272573904683963,
          0.23186640313345144,
          0.23101688010954374,
          0.23017704066703035,
          0.22934675728699194,
          0.22852590421455582,
          0.22771435743412854,
          0.22691199464498008,
          0.22611869523716974,
          0.22533434026781327,
          0.22455881243768372,
          0.22379199606814248,
          0.22303377707839556,
          0.22228404296307003,
          0.2215426827701075,
          0.2208095870789686,
          0.22008464797914426,
          0.21936775904897124,
          0.21865881533474496,
          0.21795771333012792,
          0.2172643509558471,
          0.21657862753967877,
          0.21590044379671455,
          0.21522970180990592,
          0.21456630501088328,
          0.21391015816104478,
          0.2132611673329123,
          0.2126192398917497,
          0.2119842844774395,
          0.21135621098661733,
          0.21073493055505563,
          0.21012035554029618,
          0.20951239950452935,
          0.208910977197711,
          0.20831600454092133,
          0.20772739860995465,
          0.2071450776191432,
          0.2065689609054068,
          0.20599896891252867,
          0.20543502317565213,
          0.20487704630599576,
          0.20432496197578437,
          0.20377869490339162,
          0.2032381708386923,
          0.20270331654862142,
          0.20217405980293565,
          0.2016503293601764,
          0.2011320549538302,
          0.20061916727868392,
          0.20011159797737266,
          0.19960927962711633,
          0.1991121457266441,
          0.19862013068330198,
          0.19813316980034282,
          0.19765119926439498,
          0.19717415613310735,
          0.19670197832296854,
          0.19623460459729786,
          0.19577197455440484,
          0.1953140286159161,
          0.19486070801526623,
          0.1944119547863508,
          0.19396771175233932,
          0.19352792251464568,
          0.19309253144205352,
          0.19266148365999525,
          0.1922347250399817,
          0.19181220218918096,
          0.19139386244014298,
          0.1909796538406703,
          0.1905695251438302,
          0.19016342579810766,
          0.18976130593769747,
          0.1893631163729325,
          0.188968808580847,
          0.18857833469587204
         ]
        },
        {
         "mode": "lines",
         "name": "0.012915496650148827",
         "type": "scatter",
         "y": [
          0.4780036245499865,
          0.46705969656948676,
          0.45651407181341097,
          0.4463515190836716,
          0.43655739837480406,
          0.427117637827964,
          0.4180187115844163,
          0.4092476185033949,
          0.4007918617105833,
          0.39263942894479004,
          0.3847787736716495,
          0.3771987969344061,
          0.36988882991299915,
          0.3628386171637971,
          0.35603830051340735,
          0.3494784035810216,
          0.3431498169047614,
          0.3370437836484389,
          0.3311518858660748,
          0.3254660313023967,
          0.3199784407083917,
          0.31468163565180685,
          0.3095684268032724,
          0.30463190267947965,
          0.29986541882557083,
          0.2952625874195924,
          0.29081726728253565,
          0.2865235542781301,
          0.2823757720871742,
          0.2783684633417817,
          0.27449638110549274,
          0.2707544806857474,
          0.2671379117657487,
          0.2636420108432434,
          0.26026229396424305,
          0.25699444974016866,
          0.25383433263735644,
          0.25077795652829293,
          0.24782148849436114,
          0.24496124287028134,
          0.2421936755208112,
          0.2395153783406385,
          0.23692307396875545,
          0.2344136107089414,
          0.23198395764830976,
          0.22963119996618653,
          0.2273525344258931,
          0.22514526504229337,
          0.2230067989182444,
          0.22093464224335838,
          0.21892639644874087,
          0.21697975451161833,
          0.21509249740400258,
          0.21326249067977338,
          0.21148768119477454,
          0.20976609395473386,
          0.20809582908601743,
          0.20647505892442491,
          0.2049020252174192,
          0.203375036435363,
          0.20189246518750956,
          0.20045274573865787,
          0.1990543716225471,
          0.1976958933482107,
          0.1963759161956679,
          0.19509309809746286,
          0.1938461476027028,
          0.19263382192037706,
          0.19145492503886213,
          0.1903083059186413,
          0.1891928567553817,
          0.1881075113106237,
          0.18705124330744538,
          0.18602306488856699,
          0.18502202513445853,
          0.18404720863911114,
          0.18309773414122185,
          0.18217275320863052,
          0.181271448973931,
          0.18039303491926176,
          0.1795367537083562,
          0.17870187606401033,
          0.17788769968919593,
          0.1770935482301174,
          0.17631877027957552,
          0.17556273841906805,
          0.17482484829811448,
          0.17410451774935418,
          0.17340118593802403,
          0.17271431254447311,
          0.17204337697842756,
          0.17138787762376778,
          0.17074733111262724,
          0.17012127162767116,
          0.16950925023145566,
          0.16891083422181166,
          0.16832560651224,
          0.1677531650363417,
          0.16719312217534732,
          0.1666451042078453,
          0.16610875078084333,
          0.16558371440133218,
          0.16506965994755313,
          0.1645662641992004,
          0.16407321538582167,
          0.16359021275270774,
          0.16311696614358917,
          0.16265319559948574,
          0.1621986309730804,
          0.16175301155801078,
          0.16131608573250025,
          0.16088761061676718,
          0.1604673517436783,
          0.16005508274212868,
          0.1596505850326545,
          0.15925364753480048,
          0.15886406638578607,
          0.15848164467003015,
          0.15810619215911073,
          0.15773752506175515,
          0.15737546578346903,
          0.1570198426954298,
          0.15667048991228422,
          0.1563272470785033,
          0.15598995916296207,
          0.15565847626142426,
          0.15533265340662414,
          0.15501235038565084,
          0.15469743156435073,
          0.15438776571847518,
          0.1540832258713113,
          0.15378368913754462,
          0.1534890365731102,
          0.15319915303080092,
          0.15291392702140802,
          0.15263325058018026,
          0.152357019138394,
          0.15208513139983704,
          0.15181748922201393,
          0.15155399750189097,
          0.15129456406600394,
          0.15103909956475953,
          0.1507875173707673,
          0.15053973348104685,
          0.1502956664229592,
          0.15005523716371766,
          0.14981836902334095,
          0.1495849875909129,
          0.14935502064402306,
          0.14912839807126316,
          0.14890505179766209,
          0.14868491571294482,
          0.14846792560250727,
          0.14825401908100033,
          0.14804313552842363,
          0.14783521602863098,
          0.14763020331015453,
          0.14742804168925844,
          0.147228677015135,
          0.14703205661716173,
          0.14683812925413803,
          0.14664684506542722,
          0.1464581555239283,
          0.14627201339080836,
          0.1460883726719269,
          0.14590718857588694,
          0.1457284174736509,
          0.14555201685965982,
          0.14537794531439918,
          0.14520616246835447,
          0.14503662896730432,
          0.14486930643889886,
          0.14470415746047355,
          0.14454114552805258,
          0.14438023502649433,
          0.1442213912007362,
          0.14406458012809611,
          0.14390976869159042,
          0.1437569245542293,
          0.14360601613425153,
          0.1434570125812637,
          0.14330988375324824,
          0.1431646001944083,
          0.1430211331138155,
          0.14287945436483201,
          0.14273953642527637,
          0.142601352378304,
          0.14246487589397708,
          0.14233008121149496,
          0.14219694312206274,
          0.1420654369523714,
          0.14193553854866722,
          0.14180722426138853,
          0.14168047093034725,
          0.14155525587043538,
          0.141431556857836,
          0.14130935211671994,
          0.14118862030640977,
          0.1410693405089933,
          0.14095149221736974
         ]
        },
        {
         "mode": "lines",
         "name": "0.03593813663804626",
         "type": "scatter",
         "y": [
          0.45828080007980515,
          0.4302959627456961,
          0.4050835449522031,
          0.3823542349976095,
          0.3618493967057693,
          0.3433378016899005,
          0.32661271018563914,
          0.3114892632569908,
          0.29780215314855324,
          0.2854035421034249,
          0.2741612031338073,
          0.2639568590608308,
          0.2546846986676758,
          0.2462500510678395,
          0.2385682014072205,
          0.2315633328202636,
          0.22516758116970503,
          0.21932019053700105,
          0.21396675871464602,
          0.20905856309865706,
          0.20455195840415683,
          0.20040783854228,
          0.19659115581424394,
          0.19307049130877293,
          0.18981767104147818,
          0.18680742295757038,
          0.18401707043987137,
          0.18142625842911297,
          0.17901670867891306,
          0.17677200103888244,
          0.17467737799078328,
          0.17271956995875207,
          0.1708866391790904,
          0.16916784015139824,
          0.16755349490387247,
          0.16603488149412776,
          0.16460413433530482,
          0.16325415508767155,
          0.16197853299030818,
          0.16077147362751038,
          0.1596277352317811,
          0.1585425717210722,
          0.15751168175350672,
          0.1565311631592527,
          0.15559747217750206,
          0.15470738698750353,
          0.1538579750770895,
          0.15304656404080896,
          0.15227071544326176,
          0.1515282014220713,
          0.15081698373963043,
          0.15013519502375222,
          0.14948112196504743,
          0.14885319026358537,
          0.1482499511394928,
          0.14767006924188514,
          0.14711231180815867,
          0.14657553894142766,
          0.14605869488796044,
          0.14556080020904547,
          0.14508094475294625,
          0.1446182813426413,
          0.14417202010400743,
          0.14374142336711537,
          0.14332580108045928,
          0.14292450668433554,
          0.14253693339529758,
          0.14216251085871343,
          0.14180070213101378,
          0.14145100095729035,
          0.14111292931354252,
          0.14078603518612345,
          0.1404698905638405,
          0.14016408962076185,
          0.13986824707009968,
          0.13958199667161433,
          0.13930498987683484,
          0.1390368945980464,
          0.13877739408847664,
          0.1385261859224302,
          0.13828298106530806,
          0.1380475030244982,
          0.13781948707307332,
          0.13759867953907035,
          0.1373848371538845,
          0.1371777264539814,
          0.1369771232307362,
          0.13678281202374554,
          0.13659458565344165,
          0.1364122447892664,
          0.1362355975500515,
          0.13606445913359322,
          0.13589865147271885,
          0.13573800291541843,
          0.13558234792686177,
          0.13543152681134107,
          0.13528538545237703,
          0.13514377506940456,
          0.13500655198961012,
          0.13487357743363673,
          0.1347447173139978,
          0.1346198420451565,
          0.13449882636432717,
          0.13438154916214828,
          0.13426789332245764,
          0.13415774557047347,
          0.13405099632875156,
          0.1339475395803475,
          0.13384727273866573,
          0.13375009652352476,
          0.13365591484301148,
          0.1335646346807344,
          0.1334761659881214,
          0.13339042158143868,
          0.13330731704323417,
          0.13322677062793592,
          0.13314870317135646,
          0.13307303800387668,
          0.13299970086709928,
          0.13292861983378054,
          0.1328597252308619,
          0.13279294956543886,
          0.13272822745351492,
          0.13266549555140109,
          0.13260469248963055,
          0.13254575880926792,
          0.1324886369005004,
          0.1324332709434059,
          0.13237960685080105,
          0.13232759221307572,
          0.13227717624493046,
          0.13222830973393443,
          0.13218094499082922,
          0.13213503580150693,
          0.13209053738059467,
          0.1320474063265841,
          0.1320056005784428,
          0.13196507937365365,
          0.13192580320762684,
          0.1318877337944334,
          0.13185083402881212,
          0.1318150679494034,
          0.13178040070316568,
          0.13174679851093296,
          0.13171422863407267,
          0.13168265934220597,
          0.13165205988195353,
          0.13162240044667176,
          0.13159365214714605,
          0.13156578698320776,
          0.13153877781624573,
          0.13151259834258058,
          0.13148722306767455,
          0.13146262728114902,
          0.1314387870325832,
          0.131415679108068,
          0.13139328100749204,
          0.1313715709225341,
          0.13135052771534128,
          0.13133013089786932,
          0.13131036061186466,
          0.13129119760946775,
          0.13127262323441768,
          0.13125461940383915,
          0.13123716859059306,
          0.13122025380617366,
          0.1312038585841342,
          0.1311879669640251,
          0.13117256347582826,
          0.13115763312487164,
          0.13114316137721022,
          0.13112913414545752,
          0.13111553777505378,
          0.13110235903095868,
          0.13108958508475277,
          0.13107720350213772,
          0.1310652022308207,
          0.13105356958877246,
          0.13104229425284677,
          0.1310313652477503,
          0.131020771935352,
          0.13101050400432152,
          0.13100055146008674,
          0.13099090461509943,
          0.1309815540794016,
          0.13097249075148096,
          0.1309637058094084,
          0.1309551907022473,
          0.1309469371417277,
          0.13093893709417612,
          0.1309311827726933,
          0.13092366662957286,
          0.1309163813489529,
          0.130909319839693,
          0.13090247522847082,
          0.1308958408530907,
          0.13088941025599746,
          0.13088317717799008,
          0.13087713555212852,
          0.13087127949782718
         ]
        },
        {
         "mode": "lines",
         "name": "0.1",
         "type": "scatter",
         "y": [
          0.40693147255321477,
          0.3461715204357294,
          0.3011029115334242,
          0.2674218252325675,
          0.2420280425169508,
          0.22268634181164287,
          0.2077833234364822,
          0.19615275367143392,
          0.1869501084613298,
          0.17956244541125585,
          0.1735436446314806,
          0.1685678676017722,
          0.1643960997152645,
          0.1608520899423996,
          0.1578050405250007,
          0.1551571459288071,
          0.15283461612945073,
          0.15078120404231957,
          0.1489535331493403,
          0.14731771972361635,
          0.14584692647433425,
          0.14451958670177378,
          0.14331811148957826,
          0.1422279451988814,
          0.14123687240365707,
          0.14033450660972155,
          0.13951191064017343,
          0.13876131260810462,
          0.13807589148430224,
          0.13744961351710017,
          0.13687710597318278,
          0.13635355841616414,
          0.13587464443644115,
          0.13543645868718673,
          0.13503546547999895,
          0.1346684562023133,
          0.13433251354686318,
          0.13402498106998206,
          0.1337434369769489,
          0.13348567130952493,
          0.1332496659125133,
          0.13303357670358334,
          0.13283571787882328,
          0.13265454776637417,
          0.1324886560998547,
          0.13233675252774055,
          0.13219765620845608,
          0.1320702863665937,
          0.13195365370550663,
          0.13184685258704973,
          0.13174905390156963,
          0.13165949856118178,
          0.13157749155749338,
          0.13150239653167015,
          0.1314336308104145,
          0.13137066086625301,
          0.13131299816469533,
          0.13126019536445663,
          0.13121184284012216,
          0.13116756549945938,
          0.1311270198700981,
          0.13108989143255784,
          0.13105589217863073,
          0.13102475837596084,
          0.13099624852132563,
          0.13097014146662894,
          0.13094623470298994,
          0.13092434278955875,
          0.13090429591483121,
          0.13088593857927178,
          0.13086912838900566,
          0.13085373495120753,
          0.13083963886260722,
          0.13082673078325857,
          0.13081491058838154,
          0.13080408659169443,
          0.13079417483420885,
          0.13078509843296804,
          0.1307767869846765,
          0.1307691760195938,
          0.13076220650145404,
          0.13075582436953417,
          0.13074998011931666,
          0.13074462841849382,
          0.13073972775533643,
          0.13073524011669688,
          0.1307311306931507,
          0.13072736760898857,
          0.13072392167496474,
          0.1307207661618834,
          0.13071787659326714,
          0.13071523055549958,
          0.13071280752396855,
          0.13071058870386204,
          0.1307085568843821,
          0.1307066963052449,
          0.13070499253443246,
          0.13070343235624748,
          0.13070200366880244,
          0.13070069539014845,
          0.13069949737231584,
          0.13069840032259875,
          0.13069739573147401,
          0.1306964758065954,
          0.13069563341235016,
          0.13069486201451003,
          0.130694155629547,
          0.13069350877822075,
          0.13069291644307748,
          0.130692374029531,
          0.13069187733022342,
          0.1306914224923905,
          0.13069100598797592,
          0.1306906245862657,
          0.13069027532882815,
          0.13068995550656623,
          0.13068966263870357,
          0.13068939445354213,
          0.13068914887084082,
          0.13068892398567994,
          0.13068871805368512,
          0.13068852947749657,
          0.13068835679437893,
          0.1306881986648751,
          0.1306880538624167,
          0.13068792126380943,
          0.13068779984052123,
          0.13068768865070388,
          0.13068758683188747,
          0.13068749359429066,
          0.13068740821469402,
          0.13068733003083086,
          0.13068725843624968,
          0.13068719287561037,
          0.13068713284037642,
          0.13068707786487055,
          0.13068702752266229,
          0.13068698142326063,
          0.13068693920908464,
          0.13068690055269025,
          0.13068686515423017,
          0.13068683273912773,
          0.13068680305594776,
          0.13068677587444574,
          0.1306867509837819,
          0.13068672819088603,
          0.1306867073189597,
          0.1306866882061049,
          0.13068667070406823,
          0.1306866546770912,
          0.1306866400008567,
          0.1306866265615251,
          0.1306866142548511,
          0.13068660298537504,
          0.1306865926656827,
          0.13068658321572688,
          0.13068657456220675,
          0.1306865666379994,
          0.13068655938163876,
          0.13068655273683918,
          0.13068654665205864,
          0.13068654108009928,
          0.13068653597774083,
          0.13068653130540556,
          0.1306865270268515,
          0.130686523108891,
          0.13068651952113355,
          0.13068651623574978,
          0.13068651322725594,
          0.13068651047231583,
          0.1306865079495602,
          0.13068650563942064,
          0.1306865035239781,
          0.13068650158682352,
          0.13068649981293104,
          0.13068649818854097,
          0.13068649670105337,
          0.13068649533893023,
          0.13068649409160585,
          0.13068649294940515,
          0.13068649190346832,
          0.13068649094568233,
          0.13068649006861788,
          0.13068648926547183,
          0.13068648853001433,
          0.13068648785654066,
          0.13068648723982698,
          0.13068648667508942,
          0.1306864861579476,
          0.1306864856843901,
          0.13068648525074372,
          0.1306864848536447,
          0.13068648449001297,
          0.13068648415702788,
          0.13068648385210654,
          0.13068648357288373,
          0.13068648331719362,
          0.13068648308305295,
          0.13068648286864548,
          0.1306864826723081
         ]
        }
       ],
       "layout": {
        "template": {
         "data": {
          "bar": [
           {
            "error_x": {
             "color": "#2a3f5f"
            },
            "error_y": {
             "color": "#2a3f5f"
            },
            "marker": {
             "line": {
              "color": "#E5ECF6",
              "width": 0.5
             }
            },
            "type": "bar"
           }
          ],
          "barpolar": [
           {
            "marker": {
             "line": {
              "color": "#E5ECF6",
              "width": 0.5
             }
            },
            "type": "barpolar"
           }
          ],
          "carpet": [
           {
            "aaxis": {
             "endlinecolor": "#2a3f5f",
             "gridcolor": "white",
             "linecolor": "white",
             "minorgridcolor": "white",
             "startlinecolor": "#2a3f5f"
            },
            "baxis": {
             "endlinecolor": "#2a3f5f",
             "gridcolor": "white",
             "linecolor": "white",
             "minorgridcolor": "white",
             "startlinecolor": "#2a3f5f"
            },
            "type": "carpet"
           }
          ],
          "choropleth": [
           {
            "colorbar": {
             "outlinewidth": 0,
             "ticks": ""
            },
            "type": "choropleth"
           }
          ],
          "contour": [
           {
            "colorbar": {
             "outlinewidth": 0,
             "ticks": ""
            },
            "colorscale": [
             [
              0,
              "#0d0887"
             ],
             [
              0.1111111111111111,
              "#46039f"
             ],
             [
              0.2222222222222222,
              "#7201a8"
             ],
             [
              0.3333333333333333,
              "#9c179e"
             ],
             [
              0.4444444444444444,
              "#bd3786"
             ],
             [
              0.5555555555555556,
              "#d8576b"
             ],
             [
              0.6666666666666666,
              "#ed7953"
             ],
             [
              0.7777777777777778,
              "#fb9f3a"
             ],
             [
              0.8888888888888888,
              "#fdca26"
             ],
             [
              1,
              "#f0f921"
             ]
            ],
            "type": "contour"
           }
          ],
          "contourcarpet": [
           {
            "colorbar": {
             "outlinewidth": 0,
             "ticks": ""
            },
            "type": "contourcarpet"
           }
          ],
          "heatmap": [
           {
            "colorbar": {
             "outlinewidth": 0,
             "ticks": ""
            },
            "colorscale": [
             [
              0,
              "#0d0887"
             ],
             [
              0.1111111111111111,
              "#46039f"
             ],
             [
              0.2222222222222222,
              "#7201a8"
             ],
             [
              0.3333333333333333,
              "#9c179e"
             ],
             [
              0.4444444444444444,
              "#bd3786"
             ],
             [
              0.5555555555555556,
              "#d8576b"
             ],
             [
              0.6666666666666666,
              "#ed7953"
             ],
             [
              0.7777777777777778,
              "#fb9f3a"
             ],
             [
              0.8888888888888888,
              "#fdca26"
             ],
             [
              1,
              "#f0f921"
             ]
            ],
            "type": "heatmap"
           }
          ],
          "heatmapgl": [
           {
            "colorbar": {
             "outlinewidth": 0,
             "ticks": ""
            },
            "colorscale": [
             [
              0,
              "#0d0887"
             ],
             [
              0.1111111111111111,
              "#46039f"
             ],
             [
              0.2222222222222222,
              "#7201a8"
             ],
             [
              0.3333333333333333,
              "#9c179e"
             ],
             [
              0.4444444444444444,
              "#bd3786"
             ],
             [
              0.5555555555555556,
              "#d8576b"
             ],
             [
              0.6666666666666666,
              "#ed7953"
             ],
             [
              0.7777777777777778,
              "#fb9f3a"
             ],
             [
              0.8888888888888888,
              "#fdca26"
             ],
             [
              1,
              "#f0f921"
             ]
            ],
            "type": "heatmapgl"
           }
          ],
          "histogram": [
           {
            "marker": {
             "colorbar": {
              "outlinewidth": 0,
              "ticks": ""
             }
            },
            "type": "histogram"
           }
          ],
          "histogram2d": [
           {
            "colorbar": {
             "outlinewidth": 0,
             "ticks": ""
            },
            "colorscale": [
             [
              0,
              "#0d0887"
             ],
             [
              0.1111111111111111,
              "#46039f"
             ],
             [
              0.2222222222222222,
              "#7201a8"
             ],
             [
              0.3333333333333333,
              "#9c179e"
             ],
             [
              0.4444444444444444,
              "#bd3786"
             ],
             [
              0.5555555555555556,
              "#d8576b"
             ],
             [
              0.6666666666666666,
              "#ed7953"
             ],
             [
              0.7777777777777778,
              "#fb9f3a"
             ],
             [
              0.8888888888888888,
              "#fdca26"
             ],
             [
              1,
              "#f0f921"
             ]
            ],
            "type": "histogram2d"
           }
          ],
          "histogram2dcontour": [
           {
            "colorbar": {
             "outlinewidth": 0,
             "ticks": ""
            },
            "colorscale": [
             [
              0,
              "#0d0887"
             ],
             [
              0.1111111111111111,
              "#46039f"
             ],
             [
              0.2222222222222222,
              "#7201a8"
             ],
             [
              0.3333333333333333,
              "#9c179e"
             ],
             [
              0.4444444444444444,
              "#bd3786"
             ],
             [
              0.5555555555555556,
              "#d8576b"
             ],
             [
              0.6666666666666666,
              "#ed7953"
             ],
             [
              0.7777777777777778,
              "#fb9f3a"
             ],
             [
              0.8888888888888888,
              "#fdca26"
             ],
             [
              1,
              "#f0f921"
             ]
            ],
            "type": "histogram2dcontour"
           }
          ],
          "mesh3d": [
           {
            "colorbar": {
             "outlinewidth": 0,
             "ticks": ""
            },
            "type": "mesh3d"
           }
          ],
          "parcoords": [
           {
            "line": {
             "colorbar": {
              "outlinewidth": 0,
              "ticks": ""
             }
            },
            "type": "parcoords"
           }
          ],
          "pie": [
           {
            "automargin": true,
            "type": "pie"
           }
          ],
          "scatter": [
           {
            "marker": {
             "colorbar": {
              "outlinewidth": 0,
              "ticks": ""
             }
            },
            "type": "scatter"
           }
          ],
          "scatter3d": [
           {
            "line": {
             "colorbar": {
              "outlinewidth": 0,
              "ticks": ""
             }
            },
            "marker": {
             "colorbar": {
              "outlinewidth": 0,
              "ticks": ""
             }
            },
            "type": "scatter3d"
           }
          ],
          "scattercarpet": [
           {
            "marker": {
             "colorbar": {
              "outlinewidth": 0,
              "ticks": ""
             }
            },
            "type": "scattercarpet"
           }
          ],
          "scattergeo": [
           {
            "marker": {
             "colorbar": {
              "outlinewidth": 0,
              "ticks": ""
             }
            },
            "type": "scattergeo"
           }
          ],
          "scattergl": [
           {
            "marker": {
             "colorbar": {
              "outlinewidth": 0,
              "ticks": ""
             }
            },
            "type": "scattergl"
           }
          ],
          "scattermapbox": [
           {
            "marker": {
             "colorbar": {
              "outlinewidth": 0,
              "ticks": ""
             }
            },
            "type": "scattermapbox"
           }
          ],
          "scatterpolar": [
           {
            "marker": {
             "colorbar": {
              "outlinewidth": 0,
              "ticks": ""
             }
            },
            "type": "scatterpolar"
           }
          ],
          "scatterpolargl": [
           {
            "marker": {
             "colorbar": {
              "outlinewidth": 0,
              "ticks": ""
             }
            },
            "type": "scatterpolargl"
           }
          ],
          "scatterternary": [
           {
            "marker": {
             "colorbar": {
              "outlinewidth": 0,
              "ticks": ""
             }
            },
            "type": "scatterternary"
           }
          ],
          "surface": [
           {
            "colorbar": {
             "outlinewidth": 0,
             "ticks": ""
            },
            "colorscale": [
             [
              0,
              "#0d0887"
             ],
             [
              0.1111111111111111,
              "#46039f"
             ],
             [
              0.2222222222222222,
              "#7201a8"
             ],
             [
              0.3333333333333333,
              "#9c179e"
             ],
             [
              0.4444444444444444,
              "#bd3786"
             ],
             [
              0.5555555555555556,
              "#d8576b"
             ],
             [
              0.6666666666666666,
              "#ed7953"
             ],
             [
              0.7777777777777778,
              "#fb9f3a"
             ],
             [
              0.8888888888888888,
              "#fdca26"
             ],
             [
              1,
              "#f0f921"
             ]
            ],
            "type": "surface"
           }
          ],
          "table": [
           {
            "cells": {
             "fill": {
              "color": "#EBF0F8"
             },
             "line": {
              "color": "white"
             }
            },
            "header": {
             "fill": {
              "color": "#C8D4E3"
             },
             "line": {
              "color": "white"
             }
            },
            "type": "table"
           }
          ]
         },
         "layout": {
          "annotationdefaults": {
           "arrowcolor": "#2a3f5f",
           "arrowhead": 0,
           "arrowwidth": 1
          },
          "coloraxis": {
           "colorbar": {
            "outlinewidth": 0,
            "ticks": ""
           }
          },
          "colorscale": {
           "diverging": [
            [
             0,
             "#8e0152"
            ],
            [
             0.1,
             "#c51b7d"
            ],
            [
             0.2,
             "#de77ae"
            ],
            [
             0.3,
             "#f1b6da"
            ],
            [
             0.4,
             "#fde0ef"
            ],
            [
             0.5,
             "#f7f7f7"
            ],
            [
             0.6,
             "#e6f5d0"
            ],
            [
             0.7,
             "#b8e186"
            ],
            [
             0.8,
             "#7fbc41"
            ],
            [
             0.9,
             "#4d9221"
            ],
            [
             1,
             "#276419"
            ]
           ],
           "sequential": [
            [
             0,
             "#0d0887"
            ],
            [
             0.1111111111111111,
             "#46039f"
            ],
            [
             0.2222222222222222,
             "#7201a8"
            ],
            [
             0.3333333333333333,
             "#9c179e"
            ],
            [
             0.4444444444444444,
             "#bd3786"
            ],
            [
             0.5555555555555556,
             "#d8576b"
            ],
            [
             0.6666666666666666,
             "#ed7953"
            ],
            [
             0.7777777777777778,
             "#fb9f3a"
            ],
            [
             0.8888888888888888,
             "#fdca26"
            ],
            [
             1,
             "#f0f921"
            ]
           ],
           "sequentialminus": [
            [
             0,
             "#0d0887"
            ],
            [
             0.1111111111111111,
             "#46039f"
            ],
            [
             0.2222222222222222,
             "#7201a8"
            ],
            [
             0.3333333333333333,
             "#9c179e"
            ],
            [
             0.4444444444444444,
             "#bd3786"
            ],
            [
             0.5555555555555556,
             "#d8576b"
            ],
            [
             0.6666666666666666,
             "#ed7953"
            ],
            [
             0.7777777777777778,
             "#fb9f3a"
            ],
            [
             0.8888888888888888,
             "#fdca26"
            ],
            [
             1,
             "#f0f921"
            ]
           ]
          },
          "colorway": [
           "#636efa",
           "#EF553B",
           "#00cc96",
           "#ab63fa",
           "#FFA15A",
           "#19d3f3",
           "#FF6692",
           "#B6E880",
           "#FF97FF",
           "#FECB52"
          ],
          "font": {
           "color": "#2a3f5f"
          },
          "geo": {
           "bgcolor": "white",
           "lakecolor": "white",
           "landcolor": "#E5ECF6",
           "showlakes": true,
           "showland": true,
           "subunitcolor": "white"
          },
          "hoverlabel": {
           "align": "left"
          },
          "hovermode": "closest",
          "mapbox": {
           "style": "light"
          },
          "paper_bgcolor": "white",
          "plot_bgcolor": "#E5ECF6",
          "polar": {
           "angularaxis": {
            "gridcolor": "white",
            "linecolor": "white",
            "ticks": ""
           },
           "bgcolor": "#E5ECF6",
           "radialaxis": {
            "gridcolor": "white",
            "linecolor": "white",
            "ticks": ""
           }
          },
          "scene": {
           "xaxis": {
            "backgroundcolor": "#E5ECF6",
            "gridcolor": "white",
            "gridwidth": 2,
            "linecolor": "white",
            "showbackground": true,
            "ticks": "",
            "zerolinecolor": "white"
           },
           "yaxis": {
            "backgroundcolor": "#E5ECF6",
            "gridcolor": "white",
            "gridwidth": 2,
            "linecolor": "white",
            "showbackground": true,
            "ticks": "",
            "zerolinecolor": "white"
           },
           "zaxis": {
            "backgroundcolor": "#E5ECF6",
            "gridcolor": "white",
            "gridwidth": 2,
            "linecolor": "white",
            "showbackground": true,
            "ticks": "",
            "zerolinecolor": "white"
           }
          },
          "shapedefaults": {
           "line": {
            "color": "#2a3f5f"
           }
          },
          "ternary": {
           "aaxis": {
            "gridcolor": "white",
            "linecolor": "white",
            "ticks": ""
           },
           "baxis": {
            "gridcolor": "white",
            "linecolor": "white",
            "ticks": ""
           },
           "bgcolor": "#E5ECF6",
           "caxis": {
            "gridcolor": "white",
            "linecolor": "white",
            "ticks": ""
           }
          },
          "title": {
           "x": 0.05
          },
          "xaxis": {
           "automargin": true,
           "gridcolor": "white",
           "linecolor": "white",
           "ticks": "",
           "title": {
            "standoff": 15
           },
           "zerolinecolor": "white",
           "zerolinewidth": 2
          },
          "yaxis": {
           "automargin": true,
           "gridcolor": "white",
           "linecolor": "white",
           "ticks": "",
           "title": {
            "standoff": 15
           },
           "zerolinecolor": "white",
           "zerolinewidth": 2
          }
         }
        }
       }
      },
      "text/html": [
       "<div>\n",
       "        \n",
       "        \n",
       "            <div id=\"fbd40b5c-0528-4e5b-97ad-d5847636553a\" class=\"plotly-graph-div\" style=\"height:525px; width:100%;\"></div>\n",
       "            <script type=\"text/javascript\">\n",
       "                require([\"plotly\"], function(Plotly) {\n",
       "                    window.PLOTLYENV=window.PLOTLYENV || {};\n",
       "                    \n",
       "                if (document.getElementById(\"fbd40b5c-0528-4e5b-97ad-d5847636553a\")) {\n",
       "                    Plotly.newPlot(\n",
       "                        'fbd40b5c-0528-4e5b-97ad-d5847636553a',\n",
       "                        [{\"mode\": \"lines\", \"name\": \"1e-05\", \"type\": \"scatter\", \"y\": [0.48935282630680776, 0.4893439507390965, 0.4893350754245183, 0.48932620036306584, 0.4893173255547311, 0.4893084509995068, 0.48929957669738544, 0.48929070264835917, 0.48928182885242066, 0.4892729553095621, 0.4892640820197762, 0.48925520898305513, 0.4892463361993914, 0.4892374636687776, 0.489228591391206, 0.48921971936666897, 0.489210847595159, 0.48920197607666854, 0.4891931048111901, 0.489184233798716, 0.48917536303923864, 0.48916649253275035, 0.48915762227924403, 0.4891487522787115, 0.4891398825311456, 0.4891310130365386, 0.4891221437948828, 0.4891132748061711, 0.4891044060703955, 0.4890955375875486, 0.4890866693576227, 0.48907780138061024, 0.48906893365650383, 0.4890600661852958, 0.48905119896697846, 0.4890423320015447, 0.48903346528898634, 0.4890245988292961, 0.4890157326224663, 0.4890068666684895, 0.4889980009673584, 0.4889891355190648, 0.4889802703236015, 0.4889714053809611, 0.4889625406911357, 0.48895367625411795, 0.48894481206990015, 0.48893594813847485, 0.4889270844598344, 0.4889182210339712, 0.4889093578608778, 0.4889004949405466, 0.48889163227297, 0.48888276985814044, 0.4888739076960504, 0.4888650457866923, 0.48885618413005844, 0.48884732272614156, 0.4888384615749339, 0.48882960067642756, 0.48882074003061565, 0.48881187963749034, 0.4888030194970439, 0.488794159609269, 0.4887852999741578, 0.48877644059170305, 0.48876758146189697, 0.488758722584732, 0.4887498639602008, 0.4887410055882957, 0.48873214746900906, 0.4887232896023332, 0.48871443198826076, 0.48870557462678416, 0.488696717517896, 0.48868786066158837, 0.4886790040578541, 0.4886701477066852, 0.48866129160807437, 0.488652435762014, 0.4886435801684965, 0.4886347248275146, 0.48862586973906025, 0.4886170149031262, 0.48860816031970483, 0.48859930598878853, 0.48859045191037, 0.4885815980844414, 0.4885727445109952, 0.4885638911900239, 0.48855503812151996, 0.488546185305476, 0.48853733274188405, 0.4885284804307369, 0.48851962837202667, 0.4885107765657463, 0.4885019250118878, 0.48849307371044376, 0.48848422266140673, 0.488475371864769, 0.4884665213205231, 0.48845767102866133, 0.48844882098917647, 0.4884399712020605, 0.48843112166730634, 0.48842227238490626, 0.4884134233548525, 0.4884045745771378, 0.48839572605175435, 0.48838687777869505, 0.48837802975795175, 0.4883691819895172, 0.48836033447338406, 0.4883514872095443, 0.4883426401979908, 0.48833379343871575, 0.4883249469317117, 0.48831610067697107, 0.4883072546744864, 0.4882984089242498, 0.4882895634262544, 0.48828071818049196, 0.48827187318695536, 0.488263028445637, 0.488254183956529, 0.4882453397196241, 0.4882364957349147, 0.4882276520023933, 0.48821880852205246, 0.4882099652938844, 0.48820112231788154, 0.4881922795940366, 0.48818343712234163, 0.48817459490278964, 0.4881657529353727, 0.4881569112200832, 0.4881480697569139, 0.4881392285458571, 0.4881303875869054, 0.4881215468800507, 0.48811270642528615, 0.48810386622260393, 0.4880950262719964, 0.48808618657345615, 0.4880773471269756, 0.4880685079325472, 0.4880596689901635, 0.4880508302998167, 0.48804199186149955, 0.4880331536752042, 0.48802431574092353, 0.4880154780586496, 0.48800664062837507, 0.4879978034500923, 0.4879889665237938, 0.4879801298494723, 0.48797129342711976, 0.4879624572567289, 0.4879536213382922, 0.48794478567180194, 0.48793595025725084, 0.4879271150946313, 0.4879182801839355, 0.48790944552515636, 0.48790061111828603, 0.48789177696331704, 0.4878829430602418, 0.48787410940905285, 0.4878652760097426, 0.4878564428623037, 0.4878476099667284, 0.48783877732300895, 0.4878299449311383, 0.4878211127911087, 0.48781228090291273, 0.48780344926654245, 0.4877946178819908, 0.48778578674925, 0.48777695586831255, 0.48776812523917085, 0.4877592948618176, 0.4877504647362451, 0.4877416348624458, 0.487732805240412, 0.4877239758701368, 0.48771514675161187, 0.4877063178848301, 0.48769748926978385, 0.4876886609064658, 0.487679832794868, 0.48767100493498333, 0.487662177326804, 0.4876533499703228, 0.48764452286553167, 0.4876356960124234, 0.4876268694109905, 0.4876180430612254, 0.48760921696312043, 0.48760039111666836, 0.4875915655218614]}, {\"mode\": \"lines\", \"name\": \"2.782559402207126e-05\", \"type\": \"scatter\", \"y\": [0.48933700494279975, 0.48931230971786416, 0.4892876164526895, 0.48926292514711234, 0.48923823580096976, 0.4892135484140986, 0.4891888629863356, 0.4891641795175176, 0.48913949800748174, 0.4891148184560646, 0.4890901408631031, 0.4890654652284346, 0.48904079155189556, 0.48901611983332277, 0.4889914500725537, 0.4889667822694251, 0.4889421164237739, 0.4889174525354373, 0.48889279060425206, 0.48886813063005535, 0.48884347261268435, 0.48881881655197557, 0.48879416244776663, 0.4887695102998946, 0.48874486010819634, 0.488720211872509, 0.48869556559266963, 0.4886709212685156, 0.4886462788998839, 0.48862163848661166, 0.48859700002853634, 0.4885723635254948, 0.4885477289773245, 0.4885230963838624, 0.4884984657449458, 0.48847383706041214, 0.48844921033009847, 0.4884245855538422, 0.4883999627314807, 0.48837534186285086, 0.48835072294779064, 0.48832610598613674, 0.488301490977727, 0.48827687792239843, 0.4882522668199886, 0.4882276576703347, 0.4882030504732744, 0.48817844522864484, 0.4881538419362837, 0.48812924059602814, 0.48810464120771585, 0.48808004377118425, 0.4880554482862708, 0.4880308547528128, 0.48800626317064816, 0.48798167353961414, 0.4879570858595483, 0.48793250013028816, 0.48790791635167124, 0.4878833345235355, 0.48785875464571804, 0.4878341767180567, 0.4878096007403892, 0.48778502671255286, 0.48776045463438555, 0.48773588450572486, 0.4877113163264086, 0.48768675009627427, 0.48766218581515974, 0.48763762348290257, 0.4876130630993406, 0.4875885046643113, 0.4875639481776531, 0.4875393936392028, 0.48751484104879905, 0.48749029040627917, 0.48746574171148116, 0.4874411949642427, 0.48741665016440194, 0.4873921073117963, 0.48736756640626394, 0.48734302744764246, 0.4873184904357702, 0.48729395537048475, 0.48726942225162406, 0.48724489107902585, 0.4872203618525286, 0.4871958345719701, 0.487171309237188, 0.48714678584802035, 0.48712226440430567, 0.4870977449058815, 0.48707322735258585, 0.487048711744257, 0.48702419808073283, 0.4869996863618515, 0.48697517658745115, 0.4869506687573697, 0.48692616287144513, 0.48690165892951626, 0.4868771569314207, 0.48685265687699636, 0.48682815876608204, 0.4868036625985154, 0.4867791683741349, 0.4867546760927786, 0.4867301857542849, 0.48670569735849195, 0.4866812109052381, 0.48665672639436125, 0.4866322438257, 0.4866077631990924, 0.48658328451437716, 0.4865588077713924, 0.48653433296997634, 0.4865098601099674, 0.48648538919120365, 0.486460920213524, 0.4864364531767667, 0.48641198808076985, 0.48638752492537185, 0.48636306371041144, 0.4863386044357271, 0.486314147101157, 0.48628969170653974, 0.48626523825171375, 0.4862407867365175, 0.4862163371607897, 0.48619188952436854, 0.48616744382709304, 0.4861430000688011, 0.48611855824933187, 0.4860941183685237, 0.4860696804262149, 0.4860452444222446, 0.48602081035645106, 0.4859963782286731, 0.48597194803874927, 0.4859475197865182, 0.48592309347181856, 0.48589866909448903, 0.48587424665436857, 0.48584982615129535, 0.48582540758510867, 0.4858009909556468, 0.48577657626274895, 0.48575216350625344, 0.4857277526859995, 0.4857033438018255, 0.4856789368535704, 0.4856545318410731, 0.48563012876417233, 0.48560572762270693, 0.4855813284165162, 0.4855569311454384, 0.4855325358093126, 0.48550814240797785, 0.4854837509412731, 0.48545936140903695, 0.48543497381110845, 0.48541058814732707, 0.4853862044175312, 0.48536182262156, 0.48533744275925245, 0.48531306483044745, 0.4852886888349844, 0.48526431477270193, 0.4852399426434393, 0.48521557244703556, 0.4851912041833298, 0.4851668378521611, 0.4851424734533685, 0.4851181109867911, 0.48509375045226816, 0.4850693918496388, 0.48504503517874215, 0.4850206804394174, 0.4849963276315036, 0.48497197675484005, 0.4849476278092663, 0.484923280794621, 0.4848989357107437, 0.4848745925574739, 0.48485025133465026, 0.48482591204211256, 0.48480157467969986, 0.4847772392472516, 0.48475290574460694, 0.48472857417160536, 0.48470424452808625, 0.48467991681388894, 0.48465559102885275, 0.4846312671728171, 0.4846069452456213, 0.48458262524710494, 0.48455830717710724, 0.4845339910354681, 0.4845096768220264, 0.48448536453662194, 0.4844610541790941]}, {\"mode\": \"lines\", \"name\": \"7.742636826811278e-05\", \"type\": \"scatter\", \"y\": [0.489292983174165, 0.4892242793945247, 0.48915559078522275, 0.4890869173427444, 0.48901825906357554, 0.48894961594420266, 0.4888809879811135, 0.48881237517079623, 0.48874377750974024, 0.48867519499443546, 0.4886066276213728, 0.4885380753870437, 0.4884695382879407, 0.48840101632055716, 0.48833250948138734, 0.48826401776692585, 0.4881955411736688, 0.48812707969811264, 0.48805863333675464, 0.4879902020860935, 0.4879217859426278, 0.48785338490285773, 0.48778499896328387, 0.4877166281204078, 0.4876482723707318, 0.4875799317107591, 0.48751160613699385, 0.48744329564594097, 0.4873750002341054, 0.48730671989799446, 0.4872384546341149, 0.48717020443897496, 0.4871019693090839, 0.48703374924095105, 0.48696554423108707, 0.48689735427600334, 0.4868291793722123, 0.4867610195162267, 0.48669287470456063, 0.48662474493372854, 0.4865566302002459, 0.4864885305006295, 0.4864204458313957, 0.48635237618906313, 0.4862843215701502, 0.4862162819711765, 0.48614825738866263, 0.4860802478191296, 0.48601225325909964, 0.48594427370509535, 0.4858763091536406, 0.48580835960125973, 0.48574042504447823, 0.4856725054798221, 0.4856046009038184, 0.4855367113129948, 0.48546883670387964, 0.4854009770730028, 0.4853331324168942, 0.48526530273208474, 0.4851974880151065, 0.4851296882624919, 0.4850619034707745, 0.48499413363648874, 0.48492637875616945, 0.4848586388263527, 0.4847909138435753, 0.4847232038043745, 0.48465550870528884, 0.4845878285428574, 0.4845201633136203, 0.48445251301411824, 0.48438487764089294, 0.4843172571904864, 0.48424965165944234, 0.48418206104430456, 0.48411448534161794, 0.4840469245479283, 0.4839793786597819, 0.483911847673726, 0.48384433158630913, 0.48377683039407937, 0.4837093440935873, 0.4836418726813832, 0.48357441615401825, 0.48350697450804453, 0.48343954774001535, 0.4833721358464841, 0.4833047388240057, 0.48323735666913525, 0.48316998937842925, 0.4831026369484445, 0.483035299375739, 0.48296797665687125, 0.48290066878840066, 0.4828333757668877, 0.4827660975888932, 0.482698834250979, 0.48263158574970805, 0.48256435208164317, 0.48249713324334964, 0.4824299292313919, 0.48236274004233615, 0.4822955656727487, 0.48222840611919754, 0.4821612613782509, 0.48209413144647745, 0.4820270163204478, 0.48195991599673227, 0.4818928304719024, 0.4818257597425308, 0.4817587038051905, 0.4816916626564555, 0.48162463629290037, 0.4815576247111009, 0.4814906279076338, 0.4814236458790755, 0.4813566786220044, 0.48128972613299936, 0.48122278840863997, 0.4811558654455064, 0.48108895724018014, 0.48102206378924295, 0.48095518508927804, 0.48088832113686875, 0.48082147192859925, 0.48075463746105523, 0.4806878177308224, 0.48062101273448804, 0.48055422246863905, 0.48048744692986445, 0.4804206861147534, 0.4803539400198955, 0.4802872086418821, 0.4802204919773049, 0.48015379002275577, 0.4800871027748283, 0.4800204302301165, 0.47995377238521536, 0.4798871292367203, 0.4798205007812277, 0.4797538870153353, 0.4796872879356405, 0.4796207035387426, 0.4795541338212409, 0.4794875787797361, 0.4794210384108295, 0.4793545127111229, 0.47928800167721897, 0.479221505305722, 0.4791550235932357, 0.4790885565363658, 0.4790221041317182, 0.4789556663758996, 0.47888924326551774, 0.478822834797181, 0.47875644096749864, 0.47869006177308043, 0.4786236972105377, 0.4785573472764817, 0.47849101196752475, 0.4784246912802802, 0.47835838521136215, 0.4782920937573852, 0.4782258169149651, 0.4781595546807181, 0.4780933070512613, 0.4780270740232131, 0.47796085559319185, 0.4778946517578173, 0.47782846251370964, 0.4777622878574901, 0.4776961277857807, 0.4776299822952042, 0.477563851382384, 0.4774977350439446, 0.47743163327651084, 0.47736554607670895, 0.47729947344116563, 0.477233415366508, 0.47716737184936464, 0.47710134288636485, 0.4770353284741381, 0.47696932860931524, 0.4769033432885278, 0.4768373725084077, 0.4767714162655882, 0.4767054745567034, 0.4766395473783877, 0.47657363472727626, 0.47650773660000567, 0.47644185299321296, 0.47637598390353547, 0.4763101293276122, 0.47624428926208234, 0.476178463703586, 0.47611265264876435, 0.47604685609425906, 0.4759810740367124, 0.4759153064727681]}, {\"mode\": \"lines\", \"name\": \"0.00021544346900318823\", \"type\": \"scatter\", \"y\": [0.4891705063755564, 0.4889794280848325, 0.4887884671797669, 0.4885976235846875, 0.4884068972239723, 0.48821628802204786, 0.4880257959033917, 0.4878354207925292, 0.48764516261403557, 0.4874550212925358, 0.48726499675270385, 0.48707508891926254, 0.4868852977169848, 0.4866956230706918, 0.48650606490525494, 0.4863166231455936, 0.4861272977166769, 0.48593808854352316, 0.4857489955511994, 0.4855600186648216, 0.4853711578095553, 0.485182412910614, 0.48499378389326103, 0.4848052706828081, 0.4846168732046159, 0.4844285913840939, 0.48424042514670024, 0.4840523744179423, 0.4838644391233751, 0.48367661918860405, 0.4834889145392812, 0.48330132510110874, 0.48311385079983676, 0.4829264915612643, 0.48273924731123846, 0.4825521179756552, 0.4823651034804586, 0.4821782037516415, 0.4819914187152449, 0.48180474829735853, 0.48161819242412013, 0.48143175102171526, 0.48124542401637904, 0.48105921133439367, 0.4808731129020901, 0.4806871286458472, 0.48050125849209196, 0.4803155023672999, 0.48012986019799425, 0.4799443319107464, 0.4797589174321756, 0.4795736166889491, 0.4793884296077825, 0.47920335611543885, 0.47901839613872915, 0.4788335496045127, 0.478648816439696, 0.4784641965712338, 0.47827968992612835, 0.47809529643142984, 0.4779110160142363, 0.4777268486016926, 0.4775427941209922, 0.4773588524993758, 0.47717502366413167, 0.47699130754259567, 0.47680770406215095, 0.4766242131502285, 0.47644083473430665, 0.476257568741911, 0.4760744151006145, 0.4758913737380378, 0.47570844458184847, 0.4755256275597617, 0.4753429225995397, 0.4751603296289923, 0.4749778485759759, 0.4747954793683947, 0.4746132219341996, 0.4744310762013887, 0.47424904209800756, 0.47406711955214825, 0.47388530849195015, 0.47370360884559953, 0.4735220205413298, 0.473340543507421, 0.47315917767220017, 0.4729779229640414, 0.4727967793113652, 0.47261574664263944, 0.4724348248863782, 0.47225401397114286, 0.47207331382554096, 0.4718927243782272, 0.47171224555790237, 0.4715318772933142, 0.4713516195132574, 0.4711714721465725, 0.470991435122147, 0.470811508368915, 0.47063169181585646, 0.47045198539199834, 0.4702723890264139, 0.47009290264822273, 0.46991352618659066, 0.46973425957072984, 0.4695551027298988, 0.46937605559340245, 0.4691971180905914, 0.46901829015086327, 0.46883957170366086, 0.4686609626784741, 0.46848246300483837, 0.46830407261233503, 0.46812579143059224, 0.46794761938928303, 0.46776955641812745, 0.4675916024468912, 0.46741375740538554, 0.4672360212234678, 0.4670583938310413, 0.46688087515805543, 0.4667034651345044, 0.46652616369042954, 0.46634897075591675, 0.46617188626109857, 0.46599491013615213, 0.46581804231130136, 0.465641282716815, 0.46546463128300797, 0.4652880879402401, 0.4651116526189171, 0.46493532524949066, 0.46475910576245694, 0.464582994088358, 0.4644069901577817, 0.4642310939013606, 0.46405530524977334, 0.463879624133743, 0.46370405048403857, 0.46352858423147436, 0.4633532253069095, 0.4631779736412486, 0.4630028291654412, 0.4628277918104823, 0.4626528615074119, 0.4624780381873148, 0.4623033217813214, 0.46212871222060625, 0.46195420943639015, 0.4617798133599377, 0.461605523922559, 0.461431341055609, 0.4612572646904874, 0.4610832947586387, 0.46090943119155264, 0.4607356739207631, 0.4605620228778492, 0.4603884779944345, 0.46021503920218765, 0.4600417064328215, 0.45986847961809396, 0.4596953586898071, 0.4595223435798081, 0.4593494342199881, 0.45917663054228314, 0.4590039324786736, 0.4588313399611847, 0.45865885292188563, 0.45848647129288994, 0.458314195006356, 0.4581420239944863, 0.4579699581895276, 0.45779799752377087, 0.45762614192955153, 0.4574543913392492, 0.45728274568528765, 0.4571112049001348, 0.45693976891630267, 0.4567684376663477, 0.45659721108287, 0.45642608909851384, 0.4562550716459678, 0.45608415865796414, 0.4559133500672789, 0.45574264580673307, 0.4555720458091904, 0.45540155000755894, 0.45523115833479055, 0.45506087072388135, 0.45489068710787073, 0.4547206074198419, 0.454550631592922, 0.45438075956028173, 0.45421099125513575, 0.4540413266107421, 0.4538717655604022, 0.45370230803746175, 0.4535329539753096, 0.453363703307378]}, {\"mode\": \"lines\", \"name\": \"0.0005994842503189409\", \"type\": \"scatter\", \"y\": [0.488829834291334, 0.48829887539317385, 0.48776882380323966, 0.48723967789455686, 0.48671143604311096, 0.48618409662784123, 0.4856576580306368, 0.48513211863633, 0.48460747683269095, 0.4840837310104235, 0.4835608795631583, 0.4830389208874482, 0.48251785338276343, 0.48199767545148514, 0.48147838549890093, 0.480959981933199, 0.48044246316546335, 0.4799258276096684, 0.47941007368267297, 0.47889519980421635, 0.47838120439691173, 0.47786808588624174, 0.477355842700553, 0.4768444732710508, 0.47633397603179367, 0.4758243494196892, 0.4753155918744874, 0.4748077018387764, 0.474300677757977, 0.47379451808033773, 0.4732892212569294, 0.4727847857416399, 0.4722812099911695, 0.47177849246502535, 0.47127663162551586, 0.470775625937747, 0.470275473869616, 0.4697761738918062, 0.4692777244777829, 0.4687801241037875, 0.4682833712488325, 0.4677874643946971, 0.46729240202592087, 0.46679818262979994, 0.4663048046963816, 0.465812266718459, 0.4653205671915664, 0.4648297046139738, 0.46433967748668264, 0.4638504843134198, 0.46336212360063406, 0.4628745938574893, 0.4623878935958617, 0.4619020213303322, 0.4614169755781839, 0.46093275485939617, 0.46044935769663964, 0.4599667826152706, 0.4594850281433282, 0.45900409281152743, 0.45852397515325527, 0.4580446737045653, 0.4575661870041735, 0.45708851359345265, 0.45661165201642806, 0.45613560081977245, 0.4556603585528012, 0.4551859237674671, 0.4547122950183562, 0.4542394708626827, 0.4537674498602843, 0.4532962305736168, 0.45282581156775026, 0.4523561914103635, 0.45188736867173956, 0.45141934192476124, 0.45095210974490557, 0.4504856707102401, 0.45002002340141734, 0.4495551664016703, 0.4490910982968084, 0.4486278176752113, 0.44816532312782553, 0.44770361324815966, 0.4472426866322788, 0.44678254187880073, 0.4463231775888911, 0.44586459236625814, 0.44540678481714896, 0.4449497535503444, 0.4444934971771544, 0.4440380143114133, 0.4435833035694758, 0.44312936357021154, 0.4426761929350009, 0.442223790287731, 0.4417721542547898, 0.4413212834650625, 0.44087117654992686, 0.44042183214324887, 0.4399732488813772, 0.4395254254031397, 0.4390783603498385, 0.43863205236524544, 0.438186500095598, 0.43774170218959363, 0.43729765729838677, 0.4368543640755835, 0.43641182117723665, 0.4359700272618431, 0.43552898099033643, 0.4350886810260857, 0.43464912603488837, 0.4342103146849677, 0.43377224564696704, 0.4333349175939462, 0.4328983292013765, 0.4324624791471369, 0.4320273661115096, 0.4315929887771744, 0.4311593458292064, 0.4307264359550699, 0.43029425784461495, 0.4298628101900724, 0.4294320916860503, 0.429002101029529, 0.42857283691985654, 0.42814429805874504, 0.4277164831502665, 0.42728939090084717, 0.4268630200192649, 0.42643736921664327, 0.4260124372064493, 0.4255882227044871, 0.4251647244288946, 0.4247419411001393, 0.4243198714410141, 0.42389851417663277, 0.42347786803442516, 0.4230579317441346, 0.42263870403781234, 0.422220183649813, 0.42180236931679216, 0.4213852597777, 0.4209688537737793, 0.420553150048559, 0.42013814734785104, 0.4197238444197477, 0.4193102400146146, 0.41889733288508857, 0.41848512178607283, 0.4180736054747328, 0.4176627827104923, 0.41725265225502894, 0.41684321287227044, 0.4164344633283904, 0.41602640239180405, 0.41561902883316415, 0.41521234142535735, 0.4148063389434995, 0.4144010201649319, 0.41399638386921733, 0.4135924288381357, 0.4131891538556804, 0.4127865577080535, 0.41238463918366264, 0.4119833970731167, 0.4115828301692214, 0.4111829372669755, 0.41078371716356743, 0.41038516865837005, 0.4099872905529373, 0.40959008165100097, 0.40919354075846553, 0.40879766668340445, 0.4084024582360568, 0.40800791422882265, 0.4076140334762599, 0.40722081479507877, 0.4068282570041403, 0.4064363589244499, 0.4060451193791552, 0.40565453719354155, 0.40526461119502794, 0.4048753402131629, 0.40448672307962147, 0.404098758628201, 0.40371144569481665, 0.40332478311749775, 0.40293876973638487, 0.40255340439372467, 0.4021686859338669, 0.4017846132032604, 0.40140118505044875, 0.4010184003260674, 0.4006362578828387, 0.40025475657556914, 0.39987389526114514, 0.39949367279852893, 0.3991140880487553]}, {\"mode\": \"lines\", \"name\": \"0.0016681005372000592\", \"type\": \"scatter\", \"y\": [0.4878828763916077, 0.48641107698001745, 0.48494626886231834, 0.4834884171851211, 0.4820374872713177, 0.48059344461918574, 0.4791562549014978, 0.47772588396463617, 0.4763022978277092, 0.4748854626816761, 0.473475344888473, 0.4720719109801446, 0.47067512765798125, 0.46928496179165796, 0.4679013804183806, 0.46652435074203424, 0.4651538401323373, 0.4637898161239983, 0.4624322464158796, 0.4610810988701624, 0.4597363415115175, 0.4583979425262813, 0.4570658702616333, 0.4557400932247805, 0.4544205800821435, 0.4531072996585492, 0.4518002209364259, 0.45049931305500285, 0.4492045453095141, 0.44791588715040626, 0.44663330818255087, 0.445356778164459, 0.44408626700750253, 0.4428217447751368, 0.4415631816821289, 0.44031054809378917, 0.4390638145252072, 0.43782295164049057, 0.4365879302520082, 0.4353587213196387, 0.43413529595001965, 0.4329176253958035, 0.43170568105491636, 0.4304994344698196, 0.4292988573267757, 0.42810392145512, 0.4269145988265319, 0.4257308615543132, 0.4245526818926699, 0.423380032235995, 0.4222128851181576, 0.4210512132117952, 0.4198949893276084, 0.41874418641366035, 0.417598777554679, 0.41645873597136346, 0.41532403501969384, 0.414194648190244, 0.41307054910749835, 0.4119517115291724, 0.4108381093455354, 0.40972971657873836, 0.40862650738214445, 0.40752845603966165, 0.406435536965082, 0.40534772470141983, 0.40426499392025816, 0.403187319421094, 0.40211467613069013, 0.4010470391024286, 0.39998438351566834, 0.3989266846751046, 0.39787391801013433, 0.3968260590742216, 0.3957830835442685, 0.3947449672199882, 0.39371168602328227, 0.3926832159976196, 0.3916595333074195, 0.3906406142374375, 0.3896264351921557, 0.38861697269517326, 0.3876122033886029, 0.38661210403246904, 0.38561665150410956, 0.38462582279757923, 0.3836395950230589, 0.3826579454062649, 0.3816808512878626, 0.38070829012288365, 0.37974023948014524, 0.37877667704167195, 0.3778175806021215, 0.3768629280682137, 0.37591269745816114, 0.3749668669011027, 0.37402541463654165, 0.3730883190137847, 0.3721555584913852, 0.3712271116365882, 0.37030295712477945, 0.3693830737389356, 0.36846744036907914, 0.36755603601173453, 0.3666488397693877, 0.3657458308499488, 0.3648469885662163, 0.36395229233534565, 0.36306172167831857, 0.36217525621941743, 0.3612928756856998, 0.36041455990647747, 0.3595402888127977, 0.35867004243692663, 0.3578038009118352, 0.3569415444706894, 0.35608325344634045, 0.3552289082708192, 0.3543784894748342, 0.3535319776872686, 0.3526893536346844, 0.3518505981408248, 0.35101569212612227, 0.3501846166072076, 0.34935735269642154, 0.3485338816013293, 0.3477141846242377, 0.34689824316171364, 0.34608603870410676, 0.34527755283507305, 0.3444727672311013, 0.3436716636610423, 0.3428742239856401, 0.3420804301570663, 0.341290264218455, 0.34050370830344245, 0.3397207446357073, 0.3389413555285136, 0.3381655233842569, 0.33739323069401145, 0.3366244600370806, 0.3358591940805489, 0.33509741557883704, 0.3343391073732587, 0.33358425239157974, 0.3328328336475793, 0.3320848342406137, 0.33134023735518253, 0.3305990262604963, 0.32986118431004663, 0.32912669494117924, 0.3283955416746681, 0.3276677081142923, 0.32694317794641486, 0.3262219349395643, 0.32550396294401746, 0.3247892458913845, 0.32407776779419717, 0.32336951274549725, 0.3226644649184293, 0.3219626085658334, 0.3212639280198416, 0.3205684076914751, 0.31987603207024473, 0.31918678572375214, 0.3185006532972946, 0.3178176195134698, 0.31713766917178504, 0.3164607871482657, 0.31578695839506865, 0.3151161679400948, 0.31444840088660614, 0.3137836424128423, 0.3131218777716412, 0.31246309229006036, 0.31180727136900055, 0.3111544004828313, 0.310504465179018, 0.3098574510777518, 0.30921334387158017, 0.30857212932504047, 0.3079337932742945, 0.30729832162676546, 0.3066657003607764, 0.3060359155251908, 0.30540895323905515, 0.30478479969124245, 0.3041634411400984, 0.3035448639130894, 0.30292905440645146, 0.3023159990848421, 0.30170568448099294, 0.30109809719536484, 0.30049322389580413, 0.29989105131720145, 0.299291566261151, 0.29869475559561326, 0.298100606254578, 0.2975091052377292, 0.2969202396101126]}, {\"mode\": \"lines\", \"name\": \"0.004641588833612777\", \"type\": \"scatter\", \"y\": [0.48525551623811397, 0.4812034905467479, 0.477204875447557, 0.47325893186018236, 0.46936493108149907, 0.4655221546393017, 0.4617298941480528, 0.45798745116667017, 0.4542941370583197, 0.4506492728521877, 0.4470521891072064, 0.44350222577770027, 0.4399987320809308, 0.4365410663665101, 0.43312859598765924, 0.4297606971742815, 0.4264367549078297, 0.4231561627979379, 0.4199183229607964, 0.41672264589924246, 0.4135685503845424, 0.41045546333984523, 0.4073828197252795, 0.404350062424672, 0.40135664213386574, 0.3984020172506151, 0.3954856537660333, 0.3926070251575744, 0.38976561228352397, 0.3869609032789796, 0.3841923934532996, 0.3814595851889998, 0.3787619878420764, 0.37609911764373544, 0.3734704976035116, 0.3708756574137509, 0.3683141333554445, 0.3657854682053903, 0.3632892111446646, 0.3608249176683863, 0.3583921494967539, 0.35599047448733945, 0.35361946654861826, 0.35127870555472074, 0.3489677772613872, 0.3466862732231075, 0.34443379071143165, 0.3422099326344323, 0.34001430745730427, 0.3378465291240851, 0.33570621698047864, 0.33359299569777023, 0.33150649519781383, 0.32944635057907784, 0.3274122020437362, 0.32540369482578574, 0.32342047912018085, 0.3214622100129657, 0.3195285474123944, 0.3176191559810214, 0.315733705068752, 0.31387186864683553, 0.31203332524279265, 0.3102177578762579, 0.30842485399573, 0.3066543054162137, 0.304905808257741, 0.3031790628847612, 0.301473773846385, 0.2997896498174726, 0.29812640354055236, 0.29648375176855957, 0.29486141520838327, 0.2932591184652088, 0.29167658998764645, 0.2901135620136343, 0.28856977051710353, 0.2870449551553976, 0.285538859217432, 0.2840512295725862, 0.2825818166203164, 0.2811303742404792, 0.27969665974435626, 0.27828043382637, 0.27688146051648005, 0.2754995071332515, 0.2741343442375862, 0.2727857455871051, 0.27145348809117537, 0.2701373517665719, 0.2688371196937637, 0.26755257797381765, 0.26628351568590963, 0.2650297248454357, 0.26379100036271347, 0.2625671400022665, 0.2613579443426831, 0.2601632167370411, 0.2589827632738912, 0.25781639273879, 0.25666391657637677, 0.2555251488529844, 0.25439990621977704, 0.25328800787640976, 0.2521892755351989, 0.25110353338579783, 0.25003060806037297, 0.24897032859926807, 0.24792252641715562, 0.24688703526966302, 0.24586369122047186, 0.24485233260887934, 0.24385280001781826, 0.24286493624232772, 0.24188858625846849, 0.24092359719267673, 0.23996981829154979, 0.23902710089205853, 0.23809529839217936, 0.23717426622194035, 0.23626386181487596, 0.23536394457988394, 0.23447437587347972, 0.23359501897244114, 0.23272573904683963, 0.23186640313345144, 0.23101688010954374, 0.23017704066703035, 0.22934675728699194, 0.22852590421455582, 0.22771435743412854, 0.22691199464498008, 0.22611869523716974, 0.22533434026781327, 0.22455881243768372, 0.22379199606814248, 0.22303377707839556, 0.22228404296307003, 0.2215426827701075, 0.2208095870789686, 0.22008464797914426, 0.21936775904897124, 0.21865881533474496, 0.21795771333012792, 0.2172643509558471, 0.21657862753967877, 0.21590044379671455, 0.21522970180990592, 0.21456630501088328, 0.21391015816104478, 0.2132611673329123, 0.2126192398917497, 0.2119842844774395, 0.21135621098661733, 0.21073493055505563, 0.21012035554029618, 0.20951239950452935, 0.208910977197711, 0.20831600454092133, 0.20772739860995465, 0.2071450776191432, 0.2065689609054068, 0.20599896891252867, 0.20543502317565213, 0.20487704630599576, 0.20432496197578437, 0.20377869490339162, 0.2032381708386923, 0.20270331654862142, 0.20217405980293565, 0.2016503293601764, 0.2011320549538302, 0.20061916727868392, 0.20011159797737266, 0.19960927962711633, 0.1991121457266441, 0.19862013068330198, 0.19813316980034282, 0.19765119926439498, 0.19717415613310735, 0.19670197832296854, 0.19623460459729786, 0.19577197455440484, 0.1953140286159161, 0.19486070801526623, 0.1944119547863508, 0.19396771175233932, 0.19352792251464568, 0.19309253144205352, 0.19266148365999525, 0.1922347250399817, 0.19181220218918096, 0.19139386244014298, 0.1909796538406703, 0.1905695251438302, 0.19016342579810766, 0.18976130593769747, 0.1893631163729325, 0.188968808580847, 0.18857833469587204]}, {\"mode\": \"lines\", \"name\": \"0.012915496650148827\", \"type\": \"scatter\", \"y\": [0.4780036245499865, 0.46705969656948676, 0.45651407181341097, 0.4463515190836716, 0.43655739837480406, 0.427117637827964, 0.4180187115844163, 0.4092476185033949, 0.4007918617105833, 0.39263942894479004, 0.3847787736716495, 0.3771987969344061, 0.36988882991299915, 0.3628386171637971, 0.35603830051340735, 0.3494784035810216, 0.3431498169047614, 0.3370437836484389, 0.3311518858660748, 0.3254660313023967, 0.3199784407083917, 0.31468163565180685, 0.3095684268032724, 0.30463190267947965, 0.29986541882557083, 0.2952625874195924, 0.29081726728253565, 0.2865235542781301, 0.2823757720871742, 0.2783684633417817, 0.27449638110549274, 0.2707544806857474, 0.2671379117657487, 0.2636420108432434, 0.26026229396424305, 0.25699444974016866, 0.25383433263735644, 0.25077795652829293, 0.24782148849436114, 0.24496124287028134, 0.2421936755208112, 0.2395153783406385, 0.23692307396875545, 0.2344136107089414, 0.23198395764830976, 0.22963119996618653, 0.2273525344258931, 0.22514526504229337, 0.2230067989182444, 0.22093464224335838, 0.21892639644874087, 0.21697975451161833, 0.21509249740400258, 0.21326249067977338, 0.21148768119477454, 0.20976609395473386, 0.20809582908601743, 0.20647505892442491, 0.2049020252174192, 0.203375036435363, 0.20189246518750956, 0.20045274573865787, 0.1990543716225471, 0.1976958933482107, 0.1963759161956679, 0.19509309809746286, 0.1938461476027028, 0.19263382192037706, 0.19145492503886213, 0.1903083059186413, 0.1891928567553817, 0.1881075113106237, 0.18705124330744538, 0.18602306488856699, 0.18502202513445853, 0.18404720863911114, 0.18309773414122185, 0.18217275320863052, 0.181271448973931, 0.18039303491926176, 0.1795367537083562, 0.17870187606401033, 0.17788769968919593, 0.1770935482301174, 0.17631877027957552, 0.17556273841906805, 0.17482484829811448, 0.17410451774935418, 0.17340118593802403, 0.17271431254447311, 0.17204337697842756, 0.17138787762376778, 0.17074733111262724, 0.17012127162767116, 0.16950925023145566, 0.16891083422181166, 0.16832560651224, 0.1677531650363417, 0.16719312217534732, 0.1666451042078453, 0.16610875078084333, 0.16558371440133218, 0.16506965994755313, 0.1645662641992004, 0.16407321538582167, 0.16359021275270774, 0.16311696614358917, 0.16265319559948574, 0.1621986309730804, 0.16175301155801078, 0.16131608573250025, 0.16088761061676718, 0.1604673517436783, 0.16005508274212868, 0.1596505850326545, 0.15925364753480048, 0.15886406638578607, 0.15848164467003015, 0.15810619215911073, 0.15773752506175515, 0.15737546578346903, 0.1570198426954298, 0.15667048991228422, 0.1563272470785033, 0.15598995916296207, 0.15565847626142426, 0.15533265340662414, 0.15501235038565084, 0.15469743156435073, 0.15438776571847518, 0.1540832258713113, 0.15378368913754462, 0.1534890365731102, 0.15319915303080092, 0.15291392702140802, 0.15263325058018026, 0.152357019138394, 0.15208513139983704, 0.15181748922201393, 0.15155399750189097, 0.15129456406600394, 0.15103909956475953, 0.1507875173707673, 0.15053973348104685, 0.1502956664229592, 0.15005523716371766, 0.14981836902334095, 0.1495849875909129, 0.14935502064402306, 0.14912839807126316, 0.14890505179766209, 0.14868491571294482, 0.14846792560250727, 0.14825401908100033, 0.14804313552842363, 0.14783521602863098, 0.14763020331015453, 0.14742804168925844, 0.147228677015135, 0.14703205661716173, 0.14683812925413803, 0.14664684506542722, 0.1464581555239283, 0.14627201339080836, 0.1460883726719269, 0.14590718857588694, 0.1457284174736509, 0.14555201685965982, 0.14537794531439918, 0.14520616246835447, 0.14503662896730432, 0.14486930643889886, 0.14470415746047355, 0.14454114552805258, 0.14438023502649433, 0.1442213912007362, 0.14406458012809611, 0.14390976869159042, 0.1437569245542293, 0.14360601613425153, 0.1434570125812637, 0.14330988375324824, 0.1431646001944083, 0.1430211331138155, 0.14287945436483201, 0.14273953642527637, 0.142601352378304, 0.14246487589397708, 0.14233008121149496, 0.14219694312206274, 0.1420654369523714, 0.14193553854866722, 0.14180722426138853, 0.14168047093034725, 0.14155525587043538, 0.141431556857836, 0.14130935211671994, 0.14118862030640977, 0.1410693405089933, 0.14095149221736974]}, {\"mode\": \"lines\", \"name\": \"0.03593813663804626\", \"type\": \"scatter\", \"y\": [0.45828080007980515, 0.4302959627456961, 0.4050835449522031, 0.3823542349976095, 0.3618493967057693, 0.3433378016899005, 0.32661271018563914, 0.3114892632569908, 0.29780215314855324, 0.2854035421034249, 0.2741612031338073, 0.2639568590608308, 0.2546846986676758, 0.2462500510678395, 0.2385682014072205, 0.2315633328202636, 0.22516758116970503, 0.21932019053700105, 0.21396675871464602, 0.20905856309865706, 0.20455195840415683, 0.20040783854228, 0.19659115581424394, 0.19307049130877293, 0.18981767104147818, 0.18680742295757038, 0.18401707043987137, 0.18142625842911297, 0.17901670867891306, 0.17677200103888244, 0.17467737799078328, 0.17271956995875207, 0.1708866391790904, 0.16916784015139824, 0.16755349490387247, 0.16603488149412776, 0.16460413433530482, 0.16325415508767155, 0.16197853299030818, 0.16077147362751038, 0.1596277352317811, 0.1585425717210722, 0.15751168175350672, 0.1565311631592527, 0.15559747217750206, 0.15470738698750353, 0.1538579750770895, 0.15304656404080896, 0.15227071544326176, 0.1515282014220713, 0.15081698373963043, 0.15013519502375222, 0.14948112196504743, 0.14885319026358537, 0.1482499511394928, 0.14767006924188514, 0.14711231180815867, 0.14657553894142766, 0.14605869488796044, 0.14556080020904547, 0.14508094475294625, 0.1446182813426413, 0.14417202010400743, 0.14374142336711537, 0.14332580108045928, 0.14292450668433554, 0.14253693339529758, 0.14216251085871343, 0.14180070213101378, 0.14145100095729035, 0.14111292931354252, 0.14078603518612345, 0.1404698905638405, 0.14016408962076185, 0.13986824707009968, 0.13958199667161433, 0.13930498987683484, 0.1390368945980464, 0.13877739408847664, 0.1385261859224302, 0.13828298106530806, 0.1380475030244982, 0.13781948707307332, 0.13759867953907035, 0.1373848371538845, 0.1371777264539814, 0.1369771232307362, 0.13678281202374554, 0.13659458565344165, 0.1364122447892664, 0.1362355975500515, 0.13606445913359322, 0.13589865147271885, 0.13573800291541843, 0.13558234792686177, 0.13543152681134107, 0.13528538545237703, 0.13514377506940456, 0.13500655198961012, 0.13487357743363673, 0.1347447173139978, 0.1346198420451565, 0.13449882636432717, 0.13438154916214828, 0.13426789332245764, 0.13415774557047347, 0.13405099632875156, 0.1339475395803475, 0.13384727273866573, 0.13375009652352476, 0.13365591484301148, 0.1335646346807344, 0.1334761659881214, 0.13339042158143868, 0.13330731704323417, 0.13322677062793592, 0.13314870317135646, 0.13307303800387668, 0.13299970086709928, 0.13292861983378054, 0.1328597252308619, 0.13279294956543886, 0.13272822745351492, 0.13266549555140109, 0.13260469248963055, 0.13254575880926792, 0.1324886369005004, 0.1324332709434059, 0.13237960685080105, 0.13232759221307572, 0.13227717624493046, 0.13222830973393443, 0.13218094499082922, 0.13213503580150693, 0.13209053738059467, 0.1320474063265841, 0.1320056005784428, 0.13196507937365365, 0.13192580320762684, 0.1318877337944334, 0.13185083402881212, 0.1318150679494034, 0.13178040070316568, 0.13174679851093296, 0.13171422863407267, 0.13168265934220597, 0.13165205988195353, 0.13162240044667176, 0.13159365214714605, 0.13156578698320776, 0.13153877781624573, 0.13151259834258058, 0.13148722306767455, 0.13146262728114902, 0.1314387870325832, 0.131415679108068, 0.13139328100749204, 0.1313715709225341, 0.13135052771534128, 0.13133013089786932, 0.13131036061186466, 0.13129119760946775, 0.13127262323441768, 0.13125461940383915, 0.13123716859059306, 0.13122025380617366, 0.1312038585841342, 0.1311879669640251, 0.13117256347582826, 0.13115763312487164, 0.13114316137721022, 0.13112913414545752, 0.13111553777505378, 0.13110235903095868, 0.13108958508475277, 0.13107720350213772, 0.1310652022308207, 0.13105356958877246, 0.13104229425284677, 0.1310313652477503, 0.131020771935352, 0.13101050400432152, 0.13100055146008674, 0.13099090461509943, 0.1309815540794016, 0.13097249075148096, 0.1309637058094084, 0.1309551907022473, 0.1309469371417277, 0.13093893709417612, 0.1309311827726933, 0.13092366662957286, 0.1309163813489529, 0.130909319839693, 0.13090247522847082, 0.1308958408530907, 0.13088941025599746, 0.13088317717799008, 0.13087713555212852, 0.13087127949782718]}, {\"mode\": \"lines\", \"name\": \"0.1\", \"type\": \"scatter\", \"y\": [0.40693147255321477, 0.3461715204357294, 0.3011029115334242, 0.2674218252325675, 0.2420280425169508, 0.22268634181164287, 0.2077833234364822, 0.19615275367143392, 0.1869501084613298, 0.17956244541125585, 0.1735436446314806, 0.1685678676017722, 0.1643960997152645, 0.1608520899423996, 0.1578050405250007, 0.1551571459288071, 0.15283461612945073, 0.15078120404231957, 0.1489535331493403, 0.14731771972361635, 0.14584692647433425, 0.14451958670177378, 0.14331811148957826, 0.1422279451988814, 0.14123687240365707, 0.14033450660972155, 0.13951191064017343, 0.13876131260810462, 0.13807589148430224, 0.13744961351710017, 0.13687710597318278, 0.13635355841616414, 0.13587464443644115, 0.13543645868718673, 0.13503546547999895, 0.1346684562023133, 0.13433251354686318, 0.13402498106998206, 0.1337434369769489, 0.13348567130952493, 0.1332496659125133, 0.13303357670358334, 0.13283571787882328, 0.13265454776637417, 0.1324886560998547, 0.13233675252774055, 0.13219765620845608, 0.1320702863665937, 0.13195365370550663, 0.13184685258704973, 0.13174905390156963, 0.13165949856118178, 0.13157749155749338, 0.13150239653167015, 0.1314336308104145, 0.13137066086625301, 0.13131299816469533, 0.13126019536445663, 0.13121184284012216, 0.13116756549945938, 0.1311270198700981, 0.13108989143255784, 0.13105589217863073, 0.13102475837596084, 0.13099624852132563, 0.13097014146662894, 0.13094623470298994, 0.13092434278955875, 0.13090429591483121, 0.13088593857927178, 0.13086912838900566, 0.13085373495120753, 0.13083963886260722, 0.13082673078325857, 0.13081491058838154, 0.13080408659169443, 0.13079417483420885, 0.13078509843296804, 0.1307767869846765, 0.1307691760195938, 0.13076220650145404, 0.13075582436953417, 0.13074998011931666, 0.13074462841849382, 0.13073972775533643, 0.13073524011669688, 0.1307311306931507, 0.13072736760898857, 0.13072392167496474, 0.1307207661618834, 0.13071787659326714, 0.13071523055549958, 0.13071280752396855, 0.13071058870386204, 0.1307085568843821, 0.1307066963052449, 0.13070499253443246, 0.13070343235624748, 0.13070200366880244, 0.13070069539014845, 0.13069949737231584, 0.13069840032259875, 0.13069739573147401, 0.1306964758065954, 0.13069563341235016, 0.13069486201451003, 0.130694155629547, 0.13069350877822075, 0.13069291644307748, 0.130692374029531, 0.13069187733022342, 0.1306914224923905, 0.13069100598797592, 0.1306906245862657, 0.13069027532882815, 0.13068995550656623, 0.13068966263870357, 0.13068939445354213, 0.13068914887084082, 0.13068892398567994, 0.13068871805368512, 0.13068852947749657, 0.13068835679437893, 0.1306881986648751, 0.1306880538624167, 0.13068792126380943, 0.13068779984052123, 0.13068768865070388, 0.13068758683188747, 0.13068749359429066, 0.13068740821469402, 0.13068733003083086, 0.13068725843624968, 0.13068719287561037, 0.13068713284037642, 0.13068707786487055, 0.13068702752266229, 0.13068698142326063, 0.13068693920908464, 0.13068690055269025, 0.13068686515423017, 0.13068683273912773, 0.13068680305594776, 0.13068677587444574, 0.1306867509837819, 0.13068672819088603, 0.1306867073189597, 0.1306866882061049, 0.13068667070406823, 0.1306866546770912, 0.1306866400008567, 0.1306866265615251, 0.1306866142548511, 0.13068660298537504, 0.1306865926656827, 0.13068658321572688, 0.13068657456220675, 0.1306865666379994, 0.13068655938163876, 0.13068655273683918, 0.13068654665205864, 0.13068654108009928, 0.13068653597774083, 0.13068653130540556, 0.1306865270268515, 0.130686523108891, 0.13068651952113355, 0.13068651623574978, 0.13068651322725594, 0.13068651047231583, 0.1306865079495602, 0.13068650563942064, 0.1306865035239781, 0.13068650158682352, 0.13068649981293104, 0.13068649818854097, 0.13068649670105337, 0.13068649533893023, 0.13068649409160585, 0.13068649294940515, 0.13068649190346832, 0.13068649094568233, 0.13068649006861788, 0.13068648926547183, 0.13068648853001433, 0.13068648785654066, 0.13068648723982698, 0.13068648667508942, 0.1306864861579476, 0.1306864856843901, 0.13068648525074372, 0.1306864848536447, 0.13068648449001297, 0.13068648415702788, 0.13068648385210654, 0.13068648357288373, 0.13068648331719362, 0.13068648308305295, 0.13068648286864548, 0.1306864826723081]}],\n",
       "                        {\"template\": {\"data\": {\"bar\": [{\"error_x\": {\"color\": \"#2a3f5f\"}, \"error_y\": {\"color\": \"#2a3f5f\"}, \"marker\": {\"line\": {\"color\": \"#E5ECF6\", \"width\": 0.5}}, \"type\": \"bar\"}], \"barpolar\": [{\"marker\": {\"line\": {\"color\": \"#E5ECF6\", \"width\": 0.5}}, \"type\": \"barpolar\"}], \"carpet\": [{\"aaxis\": {\"endlinecolor\": \"#2a3f5f\", \"gridcolor\": \"white\", \"linecolor\": \"white\", \"minorgridcolor\": \"white\", \"startlinecolor\": \"#2a3f5f\"}, \"baxis\": {\"endlinecolor\": \"#2a3f5f\", \"gridcolor\": \"white\", \"linecolor\": \"white\", \"minorgridcolor\": \"white\", \"startlinecolor\": \"#2a3f5f\"}, \"type\": \"carpet\"}], \"choropleth\": [{\"colorbar\": {\"outlinewidth\": 0, \"ticks\": \"\"}, \"type\": \"choropleth\"}], \"contour\": [{\"colorbar\": {\"outlinewidth\": 0, \"ticks\": \"\"}, \"colorscale\": [[0.0, \"#0d0887\"], [0.1111111111111111, \"#46039f\"], [0.2222222222222222, \"#7201a8\"], [0.3333333333333333, \"#9c179e\"], [0.4444444444444444, \"#bd3786\"], [0.5555555555555556, \"#d8576b\"], [0.6666666666666666, \"#ed7953\"], [0.7777777777777778, \"#fb9f3a\"], [0.8888888888888888, \"#fdca26\"], [1.0, \"#f0f921\"]], \"type\": \"contour\"}], \"contourcarpet\": [{\"colorbar\": {\"outlinewidth\": 0, \"ticks\": \"\"}, \"type\": \"contourcarpet\"}], \"heatmap\": [{\"colorbar\": {\"outlinewidth\": 0, \"ticks\": \"\"}, \"colorscale\": [[0.0, \"#0d0887\"], [0.1111111111111111, \"#46039f\"], [0.2222222222222222, \"#7201a8\"], [0.3333333333333333, \"#9c179e\"], [0.4444444444444444, \"#bd3786\"], [0.5555555555555556, \"#d8576b\"], [0.6666666666666666, \"#ed7953\"], [0.7777777777777778, \"#fb9f3a\"], [0.8888888888888888, \"#fdca26\"], [1.0, \"#f0f921\"]], \"type\": \"heatmap\"}], \"heatmapgl\": [{\"colorbar\": {\"outlinewidth\": 0, \"ticks\": \"\"}, \"colorscale\": [[0.0, \"#0d0887\"], [0.1111111111111111, \"#46039f\"], [0.2222222222222222, \"#7201a8\"], [0.3333333333333333, \"#9c179e\"], [0.4444444444444444, \"#bd3786\"], [0.5555555555555556, \"#d8576b\"], [0.6666666666666666, \"#ed7953\"], [0.7777777777777778, \"#fb9f3a\"], [0.8888888888888888, \"#fdca26\"], [1.0, \"#f0f921\"]], \"type\": \"heatmapgl\"}], \"histogram\": [{\"marker\": {\"colorbar\": {\"outlinewidth\": 0, \"ticks\": \"\"}}, \"type\": \"histogram\"}], \"histogram2d\": [{\"colorbar\": {\"outlinewidth\": 0, \"ticks\": \"\"}, \"colorscale\": [[0.0, \"#0d0887\"], [0.1111111111111111, \"#46039f\"], [0.2222222222222222, \"#7201a8\"], [0.3333333333333333, \"#9c179e\"], [0.4444444444444444, \"#bd3786\"], [0.5555555555555556, \"#d8576b\"], [0.6666666666666666, \"#ed7953\"], [0.7777777777777778, \"#fb9f3a\"], [0.8888888888888888, \"#fdca26\"], [1.0, \"#f0f921\"]], \"type\": \"histogram2d\"}], \"histogram2dcontour\": [{\"colorbar\": {\"outlinewidth\": 0, \"ticks\": \"\"}, \"colorscale\": [[0.0, \"#0d0887\"], [0.1111111111111111, \"#46039f\"], [0.2222222222222222, \"#7201a8\"], [0.3333333333333333, \"#9c179e\"], [0.4444444444444444, \"#bd3786\"], [0.5555555555555556, \"#d8576b\"], [0.6666666666666666, \"#ed7953\"], [0.7777777777777778, \"#fb9f3a\"], [0.8888888888888888, \"#fdca26\"], [1.0, \"#f0f921\"]], \"type\": \"histogram2dcontour\"}], \"mesh3d\": [{\"colorbar\": {\"outlinewidth\": 0, \"ticks\": \"\"}, \"type\": \"mesh3d\"}], \"parcoords\": [{\"line\": {\"colorbar\": {\"outlinewidth\": 0, \"ticks\": \"\"}}, \"type\": \"parcoords\"}], \"pie\": [{\"automargin\": true, \"type\": \"pie\"}], \"scatter\": [{\"marker\": {\"colorbar\": {\"outlinewidth\": 0, \"ticks\": \"\"}}, \"type\": \"scatter\"}], \"scatter3d\": [{\"line\": {\"colorbar\": {\"outlinewidth\": 0, \"ticks\": \"\"}}, \"marker\": {\"colorbar\": {\"outlinewidth\": 0, \"ticks\": \"\"}}, \"type\": \"scatter3d\"}], \"scattercarpet\": [{\"marker\": {\"colorbar\": {\"outlinewidth\": 0, \"ticks\": \"\"}}, \"type\": \"scattercarpet\"}], \"scattergeo\": [{\"marker\": {\"colorbar\": {\"outlinewidth\": 0, \"ticks\": \"\"}}, \"type\": \"scattergeo\"}], \"scattergl\": [{\"marker\": {\"colorbar\": {\"outlinewidth\": 0, \"ticks\": \"\"}}, \"type\": \"scattergl\"}], \"scattermapbox\": [{\"marker\": {\"colorbar\": {\"outlinewidth\": 0, \"ticks\": \"\"}}, \"type\": \"scattermapbox\"}], \"scatterpolar\": [{\"marker\": {\"colorbar\": {\"outlinewidth\": 0, \"ticks\": \"\"}}, \"type\": \"scatterpolar\"}], \"scatterpolargl\": [{\"marker\": {\"colorbar\": {\"outlinewidth\": 0, \"ticks\": \"\"}}, \"type\": \"scatterpolargl\"}], \"scatterternary\": [{\"marker\": {\"colorbar\": {\"outlinewidth\": 0, \"ticks\": \"\"}}, \"type\": \"scatterternary\"}], \"surface\": [{\"colorbar\": {\"outlinewidth\": 0, \"ticks\": \"\"}, \"colorscale\": [[0.0, \"#0d0887\"], [0.1111111111111111, \"#46039f\"], [0.2222222222222222, \"#7201a8\"], [0.3333333333333333, \"#9c179e\"], [0.4444444444444444, \"#bd3786\"], [0.5555555555555556, \"#d8576b\"], [0.6666666666666666, \"#ed7953\"], [0.7777777777777778, \"#fb9f3a\"], [0.8888888888888888, \"#fdca26\"], [1.0, \"#f0f921\"]], \"type\": \"surface\"}], \"table\": [{\"cells\": {\"fill\": {\"color\": \"#EBF0F8\"}, \"line\": {\"color\": \"white\"}}, \"header\": {\"fill\": {\"color\": \"#C8D4E3\"}, \"line\": {\"color\": \"white\"}}, \"type\": \"table\"}]}, \"layout\": {\"annotationdefaults\": {\"arrowcolor\": \"#2a3f5f\", \"arrowhead\": 0, \"arrowwidth\": 1}, \"coloraxis\": {\"colorbar\": {\"outlinewidth\": 0, \"ticks\": \"\"}}, \"colorscale\": {\"diverging\": [[0, \"#8e0152\"], [0.1, \"#c51b7d\"], [0.2, \"#de77ae\"], [0.3, \"#f1b6da\"], [0.4, \"#fde0ef\"], [0.5, \"#f7f7f7\"], [0.6, \"#e6f5d0\"], [0.7, \"#b8e186\"], [0.8, \"#7fbc41\"], [0.9, \"#4d9221\"], [1, \"#276419\"]], \"sequential\": [[0.0, \"#0d0887\"], [0.1111111111111111, \"#46039f\"], [0.2222222222222222, \"#7201a8\"], [0.3333333333333333, \"#9c179e\"], [0.4444444444444444, \"#bd3786\"], [0.5555555555555556, \"#d8576b\"], [0.6666666666666666, \"#ed7953\"], [0.7777777777777778, \"#fb9f3a\"], [0.8888888888888888, \"#fdca26\"], [1.0, \"#f0f921\"]], \"sequentialminus\": [[0.0, \"#0d0887\"], [0.1111111111111111, \"#46039f\"], [0.2222222222222222, \"#7201a8\"], [0.3333333333333333, \"#9c179e\"], [0.4444444444444444, \"#bd3786\"], [0.5555555555555556, \"#d8576b\"], [0.6666666666666666, \"#ed7953\"], [0.7777777777777778, \"#fb9f3a\"], [0.8888888888888888, \"#fdca26\"], [1.0, \"#f0f921\"]]}, \"colorway\": [\"#636efa\", \"#EF553B\", \"#00cc96\", \"#ab63fa\", \"#FFA15A\", \"#19d3f3\", \"#FF6692\", \"#B6E880\", \"#FF97FF\", \"#FECB52\"], \"font\": {\"color\": \"#2a3f5f\"}, \"geo\": {\"bgcolor\": \"white\", \"lakecolor\": \"white\", \"landcolor\": \"#E5ECF6\", \"showlakes\": true, \"showland\": true, \"subunitcolor\": \"white\"}, \"hoverlabel\": {\"align\": \"left\"}, \"hovermode\": \"closest\", \"mapbox\": {\"style\": \"light\"}, \"paper_bgcolor\": \"white\", \"plot_bgcolor\": \"#E5ECF6\", \"polar\": {\"angularaxis\": {\"gridcolor\": \"white\", \"linecolor\": \"white\", \"ticks\": \"\"}, \"bgcolor\": \"#E5ECF6\", \"radialaxis\": {\"gridcolor\": \"white\", \"linecolor\": \"white\", \"ticks\": \"\"}}, \"scene\": {\"xaxis\": {\"backgroundcolor\": \"#E5ECF6\", \"gridcolor\": \"white\", \"gridwidth\": 2, \"linecolor\": \"white\", \"showbackground\": true, \"ticks\": \"\", \"zerolinecolor\": \"white\"}, \"yaxis\": {\"backgroundcolor\": \"#E5ECF6\", \"gridcolor\": \"white\", \"gridwidth\": 2, \"linecolor\": \"white\", \"showbackground\": true, \"ticks\": \"\", \"zerolinecolor\": \"white\"}, \"zaxis\": {\"backgroundcolor\": \"#E5ECF6\", \"gridcolor\": \"white\", \"gridwidth\": 2, \"linecolor\": \"white\", \"showbackground\": true, \"ticks\": \"\", \"zerolinecolor\": \"white\"}}, \"shapedefaults\": {\"line\": {\"color\": \"#2a3f5f\"}}, \"ternary\": {\"aaxis\": {\"gridcolor\": \"white\", \"linecolor\": \"white\", \"ticks\": \"\"}, \"baxis\": {\"gridcolor\": \"white\", \"linecolor\": \"white\", \"ticks\": \"\"}, \"bgcolor\": \"#E5ECF6\", \"caxis\": {\"gridcolor\": \"white\", \"linecolor\": \"white\", \"ticks\": \"\"}}, \"title\": {\"x\": 0.05}, \"xaxis\": {\"automargin\": true, \"gridcolor\": \"white\", \"linecolor\": \"white\", \"ticks\": \"\", \"title\": {\"standoff\": 15}, \"zerolinecolor\": \"white\", \"zerolinewidth\": 2}, \"yaxis\": {\"automargin\": true, \"gridcolor\": \"white\", \"linecolor\": \"white\", \"ticks\": \"\", \"title\": {\"standoff\": 15}, \"zerolinecolor\": \"white\", \"zerolinewidth\": 2}}}},\n",
       "                        {\"responsive\": true}\n",
       "                    ).then(function(){\n",
       "                            \n",
       "var gd = document.getElementById('fbd40b5c-0528-4e5b-97ad-d5847636553a');\n",
       "var x = new MutationObserver(function (mutations, observer) {{\n",
       "        var display = window.getComputedStyle(gd).display;\n",
       "        if (!display || display === 'none') {{\n",
       "            console.log([gd, 'removed!']);\n",
       "            Plotly.purge(gd);\n",
       "            observer.disconnect();\n",
       "        }}\n",
       "}});\n",
       "\n",
       "// Listen for the removal of the full notebook cells\n",
       "var notebookContainer = gd.closest('#notebook-container');\n",
       "if (notebookContainer) {{\n",
       "    x.observe(notebookContainer, {childList: true});\n",
       "}}\n",
       "\n",
       "// Listen for the clearing of the current output cell\n",
       "var outputEl = gd.closest('.output');\n",
       "if (outputEl) {{\n",
       "    x.observe(outputEl, {childList: true});\n",
       "}}\n",
       "\n",
       "                        })\n",
       "                };\n",
       "                });\n",
       "            </script>\n",
       "        </div>"
      ]
     },
     "metadata": {},
     "output_type": "display_data"
    }
   ],
   "source": [
    "data=[]\n",
    "for i in cost.columns.values:\n",
    "    line=go.Scatter(y=cost[i].tolist(),mode='lines',name=str(i))\n",
    "    data.append(line)\n",
    "    \n",
    "py.offline.iplot(data)"
   ]
  },
  {
   "cell_type": "markdown",
   "metadata": {},
   "source": [
    "* 从图中可以看出：不同的学习率，下降速度不同。学习率大，下降速度快。"
   ]
  },
  {
   "cell_type": "markdown",
   "metadata": {},
   "source": [
    "## 5）关于标准方程（Normal Equation）\n",
    "* 除了使用梯度下降解决线性回归问题外，还有一个更便捷的、不需要任何迭代的方法，那就是标准方程。\n",
    "$$\\theta ={{\\left( {{X}^{T}}X \\right)}^{-1}}{{X}^{T}}y$$\n",
    "* 不过基于标准方程的计算公式，其不适用特征数过多的回归分析。"
   ]
  },
  {
   "cell_type": "code",
   "execution_count": 57,
   "metadata": {},
   "outputs": [],
   "source": [
    "import numpy as np\n",
    "def normalEqn(X, y):\n",
    "   theta = np.linalg.inv(X.T@X)@X.T@y #X.T@X等价于X.T.dot(X)\n",
    "   return theta"
   ]
  },
  {
   "cell_type": "code",
   "execution_count": 58,
   "metadata": {
    "scrolled": true
   },
   "outputs": [
    {
     "data": {
      "text/plain": [
       "matrix([[-1.04083409e-16],\n",
       "        [ 8.84765988e-01],\n",
       "        [-5.31788197e-02]])"
      ]
     },
     "execution_count": 58,
     "metadata": {},
     "output_type": "execute_result"
    }
   ],
   "source": [
    "normalEqn(X2, y2)"
   ]
  },
  {
   "cell_type": "markdown",
   "metadata": {},
   "source": [
    "## 鸣谢：\n",
    "感谢黄海广博士提供的读书笔记及各项资料，我会在机器学习路上继续加油！"
   ]
  }
 ],
 "metadata": {
  "kernelspec": {
   "display_name": "Python 3",
   "language": "python",
   "name": "python3"
  },
  "language_info": {
   "codemirror_mode": {
    "name": "ipython",
    "version": 3
   },
   "file_extension": ".py",
   "mimetype": "text/x-python",
   "name": "python",
   "nbconvert_exporter": "python",
   "pygments_lexer": "ipython3",
   "version": "3.7.4"
  },
  "toc": {
   "base_numbering": 1,
   "nav_menu": {},
   "number_sections": true,
   "sideBar": true,
   "skip_h1_title": false,
   "title_cell": "Table of Contents",
   "title_sidebar": "Contents",
   "toc_cell": false,
   "toc_position": {},
   "toc_section_display": true,
   "toc_window_display": false
  }
 },
 "nbformat": 4,
 "nbformat_minor": 2
}
