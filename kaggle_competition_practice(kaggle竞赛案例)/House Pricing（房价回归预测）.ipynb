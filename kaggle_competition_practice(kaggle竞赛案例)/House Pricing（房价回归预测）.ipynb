{
 "cells": [
  {
   "cell_type": "markdown",
   "metadata": {},
   "source": [
    "# House Pricing（房价预测模型）"
   ]
  },
  {
   "cell_type": "markdown",
   "metadata": {},
   "source": [
    "## 项目背景\n",
    "#### 数据来源\n",
    "* 项目数据基于kaggle数据集。下载地址：https://www.kaggle.com/c/house-prices-advanced-regression-techniques\n",
    "\n",
    "#### 项目目的\n",
    "* 通过训练集中79个特征变量构建房价预测模型，预测测试集中的房价。\n",
    "* kaggle通过计算预测值与实际值之间的差异（损失）进行打分并排名。"
   ]
  },
  {
   "cell_type": "markdown",
   "metadata": {},
   "source": [
    "# 1.导入相关基本库"
   ]
  },
  {
   "cell_type": "code",
   "execution_count": null,
   "metadata": {},
   "outputs": [],
   "source": [
    "import numpy as np\n",
    "import pandas as pd\n",
    "from scipy import stats\n",
    "from scipy.stats import norm, skew\n",
    "\n",
    "import matplotlib.pyplot as plt\n",
    "%matplotlib inline\n",
    "import seaborn as sns\n",
    "color = sns.color_palette() #设置图表整体格式\n",
    "sns.set_style('darkgrid')\n",
    "\n",
    "import warnings\n",
    "warnings.filterwarnings('ignore')\n",
    "\n",
    "pd.set_option('display.float_format', lambda x: '{:.3f}'.format(x)) #设置显示格式"
   ]
  },
  {
   "cell_type": "markdown",
   "metadata": {},
   "source": [
    "# 2.读取数据并理解"
   ]
  },
  {
   "cell_type": "code",
   "execution_count": null,
   "metadata": {},
   "outputs": [],
   "source": [
    "df_train = pd.read_csv('train.csv')\n",
    "df_test = pd.read_csv('test.csv')\n",
    "df_train.columns"
   ]
  },
  {
   "cell_type": "code",
   "execution_count": null,
   "metadata": {},
   "outputs": [],
   "source": [
    "df_train.head()"
   ]
  },
  {
   "cell_type": "code",
   "execution_count": null,
   "metadata": {},
   "outputs": [],
   "source": [
    "df_test.head()"
   ]
  },
  {
   "cell_type": "code",
   "execution_count": null,
   "metadata": {
    "scrolled": true
   },
   "outputs": [],
   "source": [
    "df_train.shape,df_test.shape"
   ]
  },
  {
   "cell_type": "markdown",
   "metadata": {},
   "source": [
    "* 因为变量较多，相比挨个变量进行分析，不如用pandas_profiling生成报告，对全部数据初步探索。"
   ]
  },
  {
   "cell_type": "code",
   "execution_count": null,
   "metadata": {},
   "outputs": [],
   "source": [
    "# 删除Id\n",
    "df_train.drop(\"Id\", axis = 1, inplace = True)\n",
    "df_test.drop(\"Id\", axis = 1, inplace = True)\n",
    "df_train.shape,df_test.shape"
   ]
  },
  {
   "cell_type": "code",
   "execution_count": null,
   "metadata": {
    "scrolled": false
   },
   "outputs": [],
   "source": [
    "# 生成可视化报告\n",
    "import pandas_profiling\n",
    "report = all_data.profile_report()# 这一步时间可能比较长，可以先休息一下\n",
    "report.to_file(output_file='house_pricing_description_report.html')"
   ]
  },
  {
   "cell_type": "markdown",
   "metadata": {},
   "source": [
    "从这份丰富的报告中可以得知：\n",
    "* **变量类型**：\n",
    "    * 分类变量：46个\n",
    "    * 数值变量：32个（不含因变量）\n",
    "    * 布尔变量：1个,CentralAir(是否有中央空调）\n",
    "--------------------------------------------------------------------------------------------------------------------------------\n",
    "* **含缺失值变量**：\n",
    "    * 缺失率超过15%：'PoolQC', 'MiscFeature', 'Alley', 'Fence', 'FireplaceQu', 'LotFrontage'\n",
    "    * 缺失率低于15%：'GarageYrBlt', 'GarageFinish', 'GarageQual', 'GarageCond', 'GarageType','BsmtExposure', 'BsmtCond', 'BsmtQual', 'BsmtFinType2', 'BsmtFinType1', 'MasVnrType', 'MasVnrArea', 'MSZoning', 'Functional', 'BsmtHalfBath', 'BsmtFullBath', 'Utilities', 'SaleType', 'BsmtFinSF1', 'KitchenQual', 'GarageCars', 'BsmtUnfSF', 'TotalBsmtSF', 'Exterior2nd', 'Exterior1st','GarageArea', 'BsmtFinSF2'\n",
    "--------------------------------------------------------------------------------------------------------------------------------\n",
    "* **数据理解**：\n",
    "    * 数据集中共含有79个特征变量，特征较多，需要充分理解特征与因变量之间的相关性以及特征代表的意义。\n",
    "    * 对缺失值进行填充应充分考虑特征代表的意义，如'PoolQC'代表泳池质量，Nan值应该表示的是“无泳池”。\n",
    "    * 部分特征之间存在关联性，如'TotalBsmtSF' = 'BsmtFinSF1'+'BsmtFinSF2'+'BsmtUnfSF'，可以以此为依据，创建新变量。\n",
    "    * 数据集中有部分分类变量被错误分成了数值变量，应进行类型矫正。"
   ]
  },
  {
   "cell_type": "markdown",
   "metadata": {},
   "source": [
    "# 3.数据探索与处理"
   ]
  },
  {
   "cell_type": "markdown",
   "metadata": {},
   "source": [
    "* 因变量的偏度得到了纠正,更趋于正态分布了。"
   ]
  },
  {
   "cell_type": "markdown",
   "metadata": {},
   "source": [
    "## 3.1.变量相关性分析"
   ]
  },
  {
   "cell_type": "code",
   "execution_count": null,
   "metadata": {},
   "outputs": [],
   "source": [
    "# 我们先来看一下线性相关系数图（不包含object类型）\n",
    "corrmatrix = df_train.corr()\n",
    "plt.figure(figsize=(16, 16))\n",
    "sns.heatmap(corrmatrix, vmax=.8, square=True)"
   ]
  },
  {
   "cell_type": "markdown",
   "metadata": {},
   "source": [
    "我们可以明显看到一些白色的格子，说明以下变量两两线性相关性强：\n",
    "* TotalBsmtSF和1stfirSFm\n",
    "* GrLivArea & TotRmsAbvGrid\n",
    "* GarageCars & GarageArea\n",
    "* YearBuilt & GarageYrblt\n",
    "* Overallqual & SalePrice\n",
    "\n",
    "可以看出来Overallqual和因变量密切相关。"
   ]
  },
  {
   "cell_type": "code",
   "execution_count": null,
   "metadata": {},
   "outputs": [],
   "source": [
    "# 我们来看一下因变量和特征的相关性\n",
    "np.abs(corrmatrix['SalePrice']).sort_values(ascending=False).head(11)"
   ]
  },
  {
   "cell_type": "markdown",
   "metadata": {},
   "source": [
    "从这个分析，我们可以明显看出：\n",
    "* 这10个特征和因变量密切相关，特别是OverallQual、GrLivArea、GarageCars、GarageArea、TotalBsmtSF、1stFlrSF。其中，根据上文的分析，我们知道GarageArea和GarageCars、TotalBsmtSF和1stFlrSF密切相关，因此，为避免线性回归中的多重共线性，可能需要删除其中一个变量。\n",
    "* 通过分析这10个特征和因变量的散点图，我们可以初步判断因变量是否存在特别异常的值。"
   ]
  },
  {
   "cell_type": "code",
   "execution_count": null,
   "metadata": {},
   "outputs": [],
   "source": [
    "# 通过散点矩阵判断是否有异常值\n",
    "col = np.abs(corrmatrix['SalePrice']).sort_values(ascending=False).head(10).index.values\n",
    "sns.pairplot(df_train[col])"
   ]
  },
  {
   "cell_type": "markdown",
   "metadata": {},
   "source": [
    "我们可以看出来:\n",
    "* SalePrice & GrLivArea的散点图中存在1个游离点。\n",
    "* SslePrice & TotalBsmtSF、1stfirSFm的散点图中分别存在1个游离点。\n",
    "* SalePrice & GarageArea的散点图中貌似存在4个游离点，但&GarageCars图中却表现较为正常，故不做删除。\n",
    "\n",
    "因此，我们删除以上提到的3个游离点以减少异常值影响。"
   ]
  },
  {
   "cell_type": "code",
   "execution_count": null,
   "metadata": {},
   "outputs": [],
   "source": [
    "print(df_train[(df_train['GrLivArea']>4000) & (df_train['SalePrice']<300000)].index)\n",
    "print(df_train[(df_train['TotalBsmtSF']>5000) & (df_train['SalePrice']<200000)].index)"
   ]
  },
  {
   "cell_type": "markdown",
   "metadata": {},
   "source": [
    "* 看样子我们只需要删除2个游离点，索引为523和1298。"
   ]
  },
  {
   "cell_type": "code",
   "execution_count": null,
   "metadata": {},
   "outputs": [],
   "source": [
    "df_train.drop(labels=[523,1298],axis=0,inplace=True)\n",
    "\n",
    "# 我们来确认一下是否删除正确\n",
    "plt.scatter(df_train['GrLivArea'],df_train['SalePrice'])"
   ]
  },
  {
   "cell_type": "markdown",
   "metadata": {},
   "source": [
    "## 3.2.因变量正态性分析"
   ]
  },
  {
   "cell_type": "code",
   "execution_count": null,
   "metadata": {},
   "outputs": [],
   "source": [
    "# 我们通过以下图性来看一下因变量的正态性\n",
    "\n",
    "plt.figure(figsize=(8, 4))\n",
    "\n",
    "# 画出直方图、Kde图和正态图\n",
    "plt.subplot(121)\n",
    "sns.distplot(df_train['SalePrice'] , fit=norm)\n",
    "plt.ylabel('Frequency')\n",
    "plt.title('SalePrice distribution')\n",
    "\n",
    "(mu, sigma) = norm.fit(df_train['SalePrice'])\n",
    "skew = df_train['SalePrice'].skew()\n",
    "kurtosis = df_train['SalePrice'].kurtosis()\n",
    "print( 'mu = {:.2f},sigma = {:.2f},skew = {:.2f},kurtosis = {:.2f}'.format(mu, sigma,skew,kurtosis))\n",
    "\n",
    "# 画出QQ图\n",
    "plt.subplot(122)\n",
    "qq = stats.probplot(df_train['SalePrice'], plot=plt)\n",
    "plt.show()"
   ]
  },
  {
   "cell_type": "markdown",
   "metadata": {},
   "source": [
    "* 可以看出，因变量是明显的右偏分布。\n",
    "* 为提高模型的性能，我们需要对这个变量进行转换，使其更符合正态分布。"
   ]
  },
  {
   "cell_type": "code",
   "execution_count": 280,
   "metadata": {
    "scrolled": true
   },
   "outputs": [
    {
     "name": "stdout",
     "output_type": "stream",
     "text": [
      "mu = 12.02,sigma = 0.40,skew = 0.12,kurtosis = 0.80\n"
     ]
    },
    {
     "data": {
      "image/png": "[encoded data removed]",
      "text/plain": [
       "<Figure size 576x288 with 2 Axes>"
      ]
     },
     "metadata": {},
     "output_type": "display_data"
    }
   ],
   "source": [
    "# 使用log(1+x)进行转换\n",
    "y_train = np.log1p(df_train[\"SalePrice\"])\n",
    "\n",
    "# 我们来重新看一下分布图\n",
    "plt.figure(figsize=(8, 4))\n",
    "\n",
    "# 画出直方图、Kde图和正态图\n",
    "plt.subplot(121)\n",
    "sns.distplot(y_train , fit=norm)\n",
    "plt.ylabel('Frequency')\n",
    "plt.title('SalePrice distribution')\n",
    "\n",
    "(mu, sigma) = norm.fit(y_train)\n",
    "skew = y_train.skew()\n",
    "kurtosis = y_train.kurtosis()\n",
    "print( 'mu = {:.2f},sigma = {:.2f},skew = {:.2f},kurtosis = {:.2f}'.format(mu, sigma,skew,kurtosis))\n",
    "\n",
    "# 画出QQ图\n",
    "plt.subplot(122)\n",
    "qq = stats.probplot(y_train, plot=plt)\n",
    "plt.show()"
   ]
  },
  {
   "cell_type": "markdown",
   "metadata": {},
   "source": [
    "## 3.3.缺失值处理"
   ]
  },
  {
   "cell_type": "code",
   "execution_count": null,
   "metadata": {},
   "outputs": [],
   "source": [
    "# 我们将训练集和测试集进行合并\n",
    "all_data = pd.concat((df_train.iloc[:,:-1], df_test)).reset_index(drop=True)\n",
    "all_data.shape"
   ]
  },
  {
   "cell_type": "code",
   "execution_count": null,
   "metadata": {},
   "outputs": [],
   "source": [
    "# 计算缺失率\n",
    "percent = all_data.apply(lambda x: np.sum(x.isnull())/len(x),axis=0)\n",
    "quantity = all_data.isnull().sum()\n",
    "types = all_data.dtypes\n",
    "nunique = all_data.nunique()\n",
    "\n",
    "missing_values = pd.concat([quantity, percent, types,nunique], axis=1, keys=['quantity', 'percent','type', 'nunique']).sort_values('quantity',ascending=False)\n",
    "print('一共{}个特征含有缺失值'.format(missing_values[missing_values['quantity']!=0].shape[0]))\n",
    "missing_values[missing_values['quantity']!=0]"
   ]
  },
  {
   "cell_type": "markdown",
   "metadata": {},
   "source": [
    "* 看来缺失值很多，我们慢慢来处理吧~"
   ]
  },
  {
   "cell_type": "markdown",
   "metadata": {},
   "source": [
    "1）PoolQC：数据集中与Pool有关的特征有两个，分别是PoolArea(泳池面积)和PoolQC(泳池质量)，PoolQC的数据缺失率达99%，会不会是因为房子里没有泳池呢？我们来验证一下假设。"
   ]
  },
  {
   "cell_type": "code",
   "execution_count": null,
   "metadata": {},
   "outputs": [],
   "source": [
    "PoolQC_nan = all_data['PoolQC'].isnull()\n",
    "PoolQC_nan = PoolQC_nan[PoolQC_nan==1].index.values\n",
    "all_data['PoolArea'][PoolQC_nan].value_counts()"
   ]
  },
  {
   "cell_type": "markdown",
   "metadata": {},
   "source": [
    "* 2905个房子确实是没有泳池的，但是也出现了3个泳池。\n",
    "* 说明有三个房子明明有泳池，但缺失了PoolQC这个特征。\n",
    "* 因为PoolQC的有效值只有9个，参考价值太少，故放弃填充这三个空白，删除该特征。"
   ]
  },
  {
   "cell_type": "code",
   "execution_count": null,
   "metadata": {},
   "outputs": [],
   "source": [
    "all_data.drop('PoolQC',axis=1,inplace=True)"
   ]
  },
  {
   "cell_type": "markdown",
   "metadata": {},
   "source": [
    "2）MiscFeature：指其他类别中未涉及的房子特性，如电梯、二楼花园等，与其相关的特征是MiscVal（杂项价值，以美元计）。同样，MiscFeature的数据缺失会不会是因为房子没有其他特性呢？我们来验证一下假设。"
   ]
  },
  {
   "cell_type": "code",
   "execution_count": null,
   "metadata": {},
   "outputs": [],
   "source": [
    "MiscFeature_nan = all_data['MiscFeature'].isnull()\n",
    "MiscFeature_nan = MiscFeature_nan[MiscFeature_nan==1].index.values\n",
    "all_data['MiscVal'][MiscFeature_nan].value_counts()"
   ]
  },
  {
   "cell_type": "code",
   "execution_count": null,
   "metadata": {},
   "outputs": [],
   "source": [
    "all_data[['MiscFeature','MiscVal']].groupby('MiscFeature').agg([np.max,np.size])"
   ]
  },
  {
   "cell_type": "markdown",
   "metadata": {},
   "source": [
    "* 同样,有一个房子的MiscVal为17000，但缺失了MiscFeature。\n",
    "* 通过对两者分布的分析，决定填充该空格为“Gar2”。"
   ]
  },
  {
   "cell_type": "code",
   "execution_count": null,
   "metadata": {},
   "outputs": [],
   "source": [
    "all_data[\"MiscFeature\"].fillna(\"None\",inplace=True)\n",
    "Mis_index = all_data[all_data['MiscVal']==17000].index\n",
    "all_data[\"MiscFeature\"][Mis_index] = 'Gar2'"
   ]
  },
  {
   "cell_type": "markdown",
   "metadata": {},
   "source": [
    "3）Alley：指到达房子的小路类型，缺失率达93%，但无相关其他特征。因此，我们不考虑删除特征，填充缺失值为“No alley access”。"
   ]
  },
  {
   "cell_type": "code",
   "execution_count": null,
   "metadata": {},
   "outputs": [],
   "source": [
    "all_data[\"Alley\"].fillna(\"None\",inplace=True)"
   ]
  },
  {
   "cell_type": "markdown",
   "metadata": {},
   "source": [
    "4）Fence：指房子的围栏质量，缺失率达80%，但无相关其他特征。因此，我们不考虑删除特征，填充缺失值为“No Fence”。"
   ]
  },
  {
   "cell_type": "code",
   "execution_count": null,
   "metadata": {},
   "outputs": [],
   "source": [
    "all_data[\"Fence\"].fillna(\"None\",inplace=True)"
   ]
  },
  {
   "cell_type": "markdown",
   "metadata": {},
   "source": [
    "5）FireplaceQu：指房子的壁炉质量，与之相关的特征有Fireplaces（壁炉数量）。FireplaceQu的数据缺失是不是因为没有壁炉呢？我们来验证一下。"
   ]
  },
  {
   "cell_type": "code",
   "execution_count": null,
   "metadata": {},
   "outputs": [],
   "source": [
    "FireplaceQu_nan = all_data['FireplaceQu'].isnull()\n",
    "FireplaceQu_nan = FireplaceQu_nan[FireplaceQu_nan==1].index.values\n",
    "all_data['Fireplaces'][FireplaceQu_nan].value_counts()"
   ]
  },
  {
   "cell_type": "markdown",
   "metadata": {},
   "source": [
    "* 谢天谢地，这次我们终于猜对了，那我们把nan值填充为“No Fireplace”吧！"
   ]
  },
  {
   "cell_type": "code",
   "execution_count": null,
   "metadata": {},
   "outputs": [],
   "source": [
    "all_data[\"FireplaceQu\"].fillna(\"None\",inplace=True)"
   ]
  },
  {
   "cell_type": "markdown",
   "metadata": {},
   "source": [
    "6）LotFrontage：指房子和街道的线性距离，缺失率为16%，猜测该特征和房子所在社区有关，我们来看一下两者的关系。"
   ]
  },
  {
   "cell_type": "code",
   "execution_count": null,
   "metadata": {},
   "outputs": [],
   "source": [
    "all_data[['LotFrontage','Neighborhood']].groupby('Neighborhood').agg([np.mean,np.median,np.size])"
   ]
  },
  {
   "cell_type": "markdown",
   "metadata": {},
   "source": [
    "* 可以看出来，不同社区到街道的距离确实存在差异，且中位数和平均值相差不大，说明距离分布比较均匀。因此，我们使用中位数进行缺失值填充。"
   ]
  },
  {
   "cell_type": "code",
   "execution_count": null,
   "metadata": {},
   "outputs": [],
   "source": [
    "all_data[\"LotFrontage\"] = all_data.groupby(\"Neighborhood\")[\"LotFrontage\"].apply(lambda x: x.fillna(x.median()))"
   ]
  },
  {
   "cell_type": "markdown",
   "metadata": {},
   "source": [
    "7）GarageYrBlt, GarageFinish, GarageQual, GarageCond, GarageType, GarageCars, GarageArea：都是跟房子花园有关的特征，其中GarageCars和GarageArea各仅有1个缺失值。其余的缺失值分别为157和159。以GarageArea为引，我们来看看其他特征如何补充缺失值吧。"
   ]
  },
  {
   "cell_type": "code",
   "execution_count": null,
   "metadata": {},
   "outputs": [],
   "source": [
    "GarageArea_zero = all_data[all_data['GarageArea']==0].index\n",
    "print('GarageArea为0的个数为：',len(GarageArea_zero))\n",
    "all_data.loc[GarageArea_zero,['GarageYrBlt', 'GarageFinish', 'GarageQual', 'GarageCond', 'GarageType', 'GarageCars']].describe(include='all')"
   ]
  },
  {
   "cell_type": "markdown",
   "metadata": {},
   "source": [
    "* 可以看出来，当GarageArea为0时，GarageCars也全部为0，其余特征全部为nan值，因此，我们可以确定其余特征的缺失值为“No garage”。\n",
    "* 但是，有的特征缺失值不只157个，我们来看看有哪些漏网之鱼。"
   ]
  },
  {
   "cell_type": "code",
   "execution_count": null,
   "metadata": {},
   "outputs": [],
   "source": [
    "GarageYrBlt_nan = all_data['GarageYrBlt'].isnull()\n",
    "GarageYrBlt_nan = GarageYrBlt_nan[GarageYrBlt_nan==1].index.values\n",
    "all_data.loc[GarageYrBlt_nan,['GarageYrBlt', 'GarageFinish', 'GarageQual', \n",
    "                              'GarageCond', 'GarageType', 'GarageCars','GarageArea']].describe(include = 'all')"
   ]
  },
  {
   "cell_type": "code",
   "execution_count": null,
   "metadata": {},
   "outputs": [],
   "source": [
    "temp = all_data.loc[GarageYrBlt_nan,['GarageYrBlt', 'GarageFinish', 'GarageQual', 'GarageCond', \n",
    "                                     'GarageType', 'GarageCars','GarageArea']]\n",
    "temp [temp['GarageType']=='Detchd']"
   ]
  },
  {
   "cell_type": "markdown",
   "metadata": {},
   "source": [
    "* 除了GarageType有2个是“Detchd（和房子脱离）”之外，其余都是nan值，除了这两个数据，其余都可以确定是“No Garage”。\n",
    "* 这两个数据都位于测试集上，不影响我们训练模型，因此，忽略这两个数据，我们全部填充为“No Garage”。"
   ]
  },
  {
   "cell_type": "code",
   "execution_count": null,
   "metadata": {},
   "outputs": [],
   "source": [
    "# 分类变量填充为“None”\n",
    "for col in ('GarageType', 'GarageFinish', 'GarageQual', 'GarageCond'):\n",
    "    all_data[col].fillna('None',inplace=True)\n",
    "# 数值变量填充为“0”\n",
    "for col in ('GarageYrBlt', 'GarageArea', 'GarageCars'):\n",
    "    all_data[col].fillna(0,inplace=True)"
   ]
  },
  {
   "cell_type": "markdown",
   "metadata": {},
   "source": [
    "* 上文我们提及GarageArea, GarageCars的相关性很高，为避免多重共线性，删除其中之一。\n",
    "* 因为GarageCars和因变量的相关系数更高，故删除GarageArea。"
   ]
  },
  {
   "cell_type": "code",
   "execution_count": null,
   "metadata": {},
   "outputs": [],
   "source": [
    "all_data.drop('GarageArea',axis=1,inplace=True)"
   ]
  },
  {
   "cell_type": "markdown",
   "metadata": {},
   "source": [
    "8）BsmtFinSF1, BsmtFinSF2, BsmtUnfSF, TotalBsmtSF, BsmtFullBath, BsmtHalfBath, BsmtQual, BsmtCond, BsmtExposure, BsmtFinType1, BsmtFinType2：这些都是跟地下室有关的特征，其中BsmtFinSF1, BsmtFinSF2, BsmtUnfSF, TotalBsmtSF等4个面积特征仅有1个缺失值，以TotalBsmtSF（地下室全部面积）为引，来看一下他们的缺失值分布。"
   ]
  },
  {
   "cell_type": "code",
   "execution_count": null,
   "metadata": {},
   "outputs": [],
   "source": [
    "TotalBsmtSF_zero = all_data[all_data['TotalBsmtSF']==0].index\n",
    "print('TotalBsmtSF为0的个数为：',len(TotalBsmtSF_zero))\n",
    "all_data.loc[TotalBsmtSF_zero,['BsmtFinSF1', 'BsmtFinSF2', 'BsmtUnfSF','BsmtFullBath',\n",
    "                              'BsmtHalfBath', 'BsmtQual', 'BsmtCond', 'BsmtExposure',\n",
    "                              'BsmtFinType1', 'BsmtFinType2']].describe(include = 'all')"
   ]
  },
  {
   "cell_type": "markdown",
   "metadata": {},
   "source": [
    "* 可以看出来，当TotalBsmtSF为0时，其余特征全部为nan值或0值，因此，我们可以确定其余特征的缺失值为“No Bsmt”。\n",
    "* 不过，有关地下室的特征缺失率最高的是BsmtExposure和BsmtCond，来看看是否还有缺失值。"
   ]
  },
  {
   "cell_type": "code",
   "execution_count": null,
   "metadata": {},
   "outputs": [],
   "source": [
    "BsmtExposure_nan = all_data['BsmtExposure'].isnull()\n",
    "BsmtExposure_nan = BsmtExposure_nan[BsmtExposure_nan==1].index.values\n",
    "\n",
    "BsmtCond_nan = all_data['BsmtCond'].isnull()\n",
    "BsmtCond_nan = BsmtCond_nan[BsmtCond_nan==1].index.values\n",
    "\n",
    "all_data.loc[np.union1d(BsmtCond_nan,BsmtExposure_nan),['BsmtFinSF1', 'BsmtFinSF2', 'BsmtUnfSF','BsmtFullBath',\n",
    "                              'BsmtHalfBath', 'BsmtQual', 'BsmtCond', 'TotalBsmtSF','BsmtExposure',\n",
    "                              'BsmtFinType1', 'BsmtFinType2']].describe(include = 'all')"
   ]
  },
  {
   "cell_type": "code",
   "execution_count": null,
   "metadata": {
    "scrolled": true
   },
   "outputs": [],
   "source": [
    "temp = all_data.loc[np.union1d(BsmtCond_nan,BsmtExposure_nan),['BsmtFinSF1', 'BsmtFinSF2', 'BsmtUnfSF','BsmtFullBath',\n",
    "                                                               'BsmtHalfBath', 'BsmtQual', 'BsmtCond', 'TotalBsmtSF','BsmtExposure',\n",
    "                                                               'BsmtFinType1', 'BsmtFinType2']]\n",
    "temp [temp['TotalBsmtSF']!=0].dropna(how='all')"
   ]
  },
  {
   "cell_type": "markdown",
   "metadata": {},
   "source": [
    "* 从中可以看出，除了有6个特殊数据，其余缺失值都可以确认为“No Bsmt”。\n",
    "* 这6个数据是拥有地下室的房子，但部分BsmtExposure和BsmtCond的值缺失，因此采用众数填充。"
   ]
  },
  {
   "cell_type": "code",
   "execution_count": null,
   "metadata": {},
   "outputs": [],
   "source": [
    "# 分类变量填充为“None”\n",
    "for col in ('BsmtQual', 'BsmtCond', 'BsmtExposure', 'BsmtFinType1', 'BsmtFinType2'):\n",
    "    all_data[col].fillna('None',inplace=True)\n",
    "    \n",
    "# 数值变量填充为0\n",
    "for col in ('BsmtFinSF1', 'BsmtFinSF2', 'BsmtUnfSF','TotalBsmtSF', 'BsmtFullBath', 'BsmtHalfBath'):\n",
    "    all_data[col].fillna(0,inplace=True)\n",
    "\n",
    "# 为BsmtExposure和BsmtCond填充众数\n",
    "all_data['BsmtExposure'][[947,1485,2346]] = all_data['BsmtExposure'].mode()[0] #众数：No Exposure\n",
    "all_data['BsmtCond'][[2038,2183,2522]] = all_data['BsmtCond'].mode()[0] #众数：Typical"
   ]
  },
  {
   "cell_type": "markdown",
   "metadata": {},
   "source": [
    "9）MasVnrArea, MasVnrType：指房子的表面砌体类型和面积，没有其他相关特征，我们来看一下缺失情况。"
   ]
  },
  {
   "cell_type": "code",
   "execution_count": null,
   "metadata": {},
   "outputs": [],
   "source": [
    "MasVnrArea_nan = all_data[all_data['MasVnrArea'].isnull()]['MasVnrType']\n",
    "MasVnrType_nan = all_data[all_data['MasVnrType'].isnull()]['MasVnrArea']\n",
    "\n",
    "print(MasVnrArea_nan.dropna())\n",
    "print(\"-\"*20)\n",
    "print(MasVnrType_nan.dropna())"
   ]
  },
  {
   "cell_type": "markdown",
   "metadata": {},
   "source": [
    "* 可得知，除了1个数据外，其余数据都是同时缺失这两个值。\n",
    "* 同时缺失的数据，我们填充为“no Masonry”；缺失MasVnrType的数据，填充众数(除去none）。"
   ]
  },
  {
   "cell_type": "code",
   "execution_count": null,
   "metadata": {},
   "outputs": [],
   "source": [
    "all_data[\"MasVnrType\"].fillna(\"None\",inplace=True)\n",
    "all_data[\"MasVnrArea\"].fillna(0,inplace=True)\n",
    "\n",
    "# 填充缺失MasVnrType的数据\n",
    "all_data['MasVnrType'][2608] = 'BrkFace' # 众数：BrkFace"
   ]
  },
  {
   "cell_type": "markdown",
   "metadata": {},
   "source": [
    "10）MSZoning：指房子所属的销售分区，包括农田区、商圈区、工业区等。一般房子的销售分区和社区的关系密切，我们来看一下两者关系。"
   ]
  },
  {
   "cell_type": "code",
   "execution_count": null,
   "metadata": {},
   "outputs": [],
   "source": [
    "plt.scatter(all_data['MSZoning'].dropna(),\n",
    "            all_data['Neighborhood'][all_data['MSZoning'].dropna().index],\n",
    "            alpha=0.05)\n",
    "plt.show()"
   ]
  },
  {
   "cell_type": "markdown",
   "metadata": {},
   "source": [
    "* 可以看出来，一般一个街区会对应1-2个销售分区，因此，我们用社区对应众数填充。"
   ]
  },
  {
   "cell_type": "code",
   "execution_count": null,
   "metadata": {},
   "outputs": [],
   "source": [
    "all_data[['MSZoning','Neighborhood']][all_data['MSZoning'].isnull()]"
   ]
  },
  {
   "cell_type": "code",
   "execution_count": null,
   "metadata": {},
   "outputs": [],
   "source": [
    "print(all_data['MSZoning'][all_data['Neighborhood']=='IDOTRR'].mode())\n",
    "print('-'*20)\n",
    "print(all_data['MSZoning'][all_data['Neighborhood']=='Mitchel'].mode())"
   ]
  },
  {
   "cell_type": "code",
   "execution_count": null,
   "metadata": {},
   "outputs": [],
   "source": [
    "# 填充缺失值\n",
    "all_data['MSZoning'].fillna('RM',inplace=True)\n",
    "all_data['MSZoning'][2902] = 'RL'"
   ]
  },
  {
   "cell_type": "markdown",
   "metadata": {},
   "source": [
    "11）Utilities：指可用的公共设备，无其他相关特征。我们来看一下数据分布。"
   ]
  },
  {
   "cell_type": "code",
   "execution_count": null,
   "metadata": {},
   "outputs": [],
   "source": [
    "all_data['Utilities'].value_counts()"
   ]
  },
  {
   "cell_type": "code",
   "execution_count": null,
   "metadata": {},
   "outputs": [],
   "source": [
    "all_data['Utilities'][all_data['Utilities'].isnull()]"
   ]
  },
  {
   "cell_type": "markdown",
   "metadata": {},
   "source": [
    "* 可以了解到该特征大部分值为AllPub，只有1个NoSeWa和2个nan值，且nan值位于测试集。\n",
    "* 因此，该特征对于模型构建影响非常小，我们直接删除即可。"
   ]
  },
  {
   "cell_type": "code",
   "execution_count": null,
   "metadata": {},
   "outputs": [],
   "source": [
    "all_data.drop(['Utilities'], axis=1, inplace=True)"
   ]
  },
  {
   "cell_type": "markdown",
   "metadata": {},
   "source": [
    "12）Functional：指房子的住宅功能，变量说明文件中提及住宅功能默认Typical，因此我们填充缺失值为Typical。"
   ]
  },
  {
   "cell_type": "code",
   "execution_count": null,
   "metadata": {},
   "outputs": [],
   "source": [
    "all_data[\"Functional\"].fillna(\"Typ\",inplace=True)"
   ]
  },
  {
   "cell_type": "markdown",
   "metadata": {},
   "source": [
    "13）Electrical：指房子的电力系统，只有1个缺失值，我们用众数填充。"
   ]
  },
  {
   "cell_type": "code",
   "execution_count": null,
   "metadata": {},
   "outputs": [],
   "source": [
    "all_data['Electrical'].fillna(all_data['Electrical'].mode()[0], inplace=True)"
   ]
  },
  {
   "cell_type": "markdown",
   "metadata": {},
   "source": [
    "14）KitchenQual：指房子的厨房质量，只有1个缺失值，我们用众数填充。"
   ]
  },
  {
   "cell_type": "code",
   "execution_count": null,
   "metadata": {},
   "outputs": [],
   "source": [
    "all_data['KitchenQual'].fillna(all_data['KitchenQual'].mode()[0], inplace=True)"
   ]
  },
  {
   "cell_type": "markdown",
   "metadata": {},
   "source": [
    "15）Exterior1st, Exterior2nd：指房屋外部覆盖的材料，也是只有一个缺失值,而且是同一个数据，和上面一样，我们用众数填充。"
   ]
  },
  {
   "cell_type": "code",
   "execution_count": null,
   "metadata": {},
   "outputs": [],
   "source": [
    "all_data['Exterior1st'].fillna(all_data['Exterior1st'].mode()[0], inplace=True)\n",
    "all_data['Exterior2nd'].fillna(all_data['Exterior2nd'].mode()[0], inplace=True)"
   ]
  },
  {
   "cell_type": "markdown",
   "metadata": {},
   "source": [
    "16）SaleType：指房子的销售类型，只有1个缺失值，也是用众数填充即可。"
   ]
  },
  {
   "cell_type": "code",
   "execution_count": null,
   "metadata": {},
   "outputs": [],
   "source": [
    "all_data['SaleType'].fillna(all_data['SaleType'].mode()[0],inplace = True)"
   ]
  },
  {
   "cell_type": "markdown",
   "metadata": {},
   "source": [
    "17）MSSubClass：指房屋类型，也是众数填充。"
   ]
  },
  {
   "cell_type": "code",
   "execution_count": null,
   "metadata": {},
   "outputs": [],
   "source": [
    "all_data['MSSubClass'].fillna(\"None\", inplace=True)"
   ]
  },
  {
   "cell_type": "markdown",
   "metadata": {},
   "source": [
    "* 终于把缺失值处理完了，我们来检查一下。"
   ]
  },
  {
   "cell_type": "code",
   "execution_count": null,
   "metadata": {
    "scrolled": true
   },
   "outputs": [],
   "source": [
    "all_data.isnull().sum().value_counts()"
   ]
  },
  {
   "cell_type": "markdown",
   "metadata": {},
   "source": [
    "* 缺失值终于处理完毕！"
   ]
  },
  {
   "cell_type": "markdown",
   "metadata": {},
   "source": [
    "## 3.4.分类变量转换"
   ]
  },
  {
   "cell_type": "markdown",
   "metadata": {},
   "source": [
    "* 在前文数据探索中，我们发现部分分类变量被定义成了数值变量。因此，需要将这部分变量进行转换。"
   ]
  },
  {
   "cell_type": "code",
   "execution_count": null,
   "metadata": {},
   "outputs": [],
   "source": [
    "all_data['MSSubClass'] = all_data['MSSubClass'].apply(str)\n",
    "all_data['OverallCond'] = all_data['OverallCond'].astype(str)\n",
    "\n",
    "\n",
    "all_data['YrSold'] = all_data['YrSold'].astype(str)\n",
    "all_data['MoSold'] = all_data['MoSold'].astype(str)"
   ]
  },
  {
   "cell_type": "markdown",
   "metadata": {},
   "source": [
    "* 对分类变量进行编码处理"
   ]
  },
  {
   "cell_type": "code",
   "execution_count": null,
   "metadata": {},
   "outputs": [],
   "source": [
    "# 看看有哪些分类变量\n",
    "dtype = pd.DataFrame(all_data.dtypes,columns=['types'])\n",
    "dtype[dtype['types']==all_data.dtypes.unique()[0]].index"
   ]
  },
  {
   "cell_type": "code",
   "execution_count": null,
   "metadata": {},
   "outputs": [],
   "source": [
    "# 编码处理\n",
    "from sklearn.preprocessing import LabelEncoder\n",
    "\n",
    "col = ['MSSubClass', 'MSZoning', 'Street', 'Alley', 'LotShape', 'LandContour',\n",
    "       'LotConfig', 'LandSlope', 'Neighborhood', 'Condition1', 'Condition2',\n",
    "       'BldgType', 'HouseStyle', 'OverallCond', 'RoofStyle', 'RoofMatl',\n",
    "       'Exterior1st', 'Exterior2nd', 'MasVnrType', 'ExterQual', 'ExterCond',\n",
    "       'Foundation', 'BsmtQual', 'BsmtCond', 'BsmtExposure', 'BsmtFinType1',\n",
    "       'BsmtFinType2', 'Heating', 'HeatingQC', 'CentralAir', 'Electrical',\n",
    "       'KitchenQual', 'Functional', 'FireplaceQu', 'GarageType',\n",
    "       'GarageFinish', 'GarageQual', 'GarageCond', 'PavedDrive', 'Fence',\n",
    "       'MiscFeature', 'MoSold', 'YrSold', 'SaleType', 'SaleCondition']\n",
    "\n",
    "for c in col:\n",
    "    lbl = LabelEncoder() \n",
    "    lbl.fit(list(all_data[c].values)) \n",
    "    all_data[c] = lbl.transform(list(all_data[c].values))"
   ]
  },
  {
   "cell_type": "code",
   "execution_count": null,
   "metadata": {},
   "outputs": [],
   "source": [
    "# Onehot编码（排除bool类型）\n",
    "from sklearn.preprocessing import OneHotEncoder\n",
    "\n",
    "col_1 = ['MSSubClass', 'MSZoning', 'Alley', 'LotShape', 'LandContour',\n",
    "       'LotConfig', 'LandSlope', 'Neighborhood', 'Condition1', 'Condition2',\n",
    "       'BldgType', 'HouseStyle', 'OverallCond', 'RoofStyle', 'RoofMatl',\n",
    "       'Exterior1st', 'Exterior2nd', 'MasVnrType', 'ExterQual', 'ExterCond',\n",
    "       'Foundation', 'BsmtQual', 'BsmtCond', 'BsmtExposure', 'BsmtFinType1',\n",
    "       'BsmtFinType2', 'Heating', 'HeatingQC', 'Electrical',\n",
    "       'KitchenQual', 'Functional', 'FireplaceQu', 'GarageType',\n",
    "       'GarageFinish', 'GarageQual', 'GarageCond', 'PavedDrive', 'Fence',\n",
    "       'MiscFeature', 'MoSold', 'YrSold', 'SaleType', 'SaleCondition']\n",
    "\n",
    "all_data_onehot = all_data[col_1]\n",
    "\n",
    "onehot = OneHotEncoder(categories='auto',drop = 'first') \n",
    "all_data_onehot = onehot.fit_transform(all_data_onehot).toarray()\n",
    "\n",
    "all_data_onehot.shape"
   ]
  },
  {
   "cell_type": "markdown",
   "metadata": {},
   "source": [
    "## 3.5.构建特征组合"
   ]
  },
  {
   "cell_type": "markdown",
   "metadata": {},
   "source": [
    "* 根据已有的数值特征，我们可以构建新的特征组合。"
   ]
  },
  {
   "cell_type": "code",
   "execution_count": null,
   "metadata": {},
   "outputs": [],
   "source": [
    "# 增加房屋总面积\n",
    "all_data['TotalSF'] = all_data['TotalBsmtSF'] + all_data['1stFlrSF'] + all_data['2ndFlrSF']"
   ]
  },
  {
   "cell_type": "code",
   "execution_count": null,
   "metadata": {},
   "outputs": [],
   "source": [
    "# 增加浴室总数量\n",
    "all_data['TotalBath'] = all_data['BsmtFullBath'] + all_data['BsmtHalfBath'] + all_data['FullBath']+all_data['HalfBath']"
   ]
  },
  {
   "cell_type": "markdown",
   "metadata": {},
   "source": [
    "## 3.6.数值特征正态化"
   ]
  },
  {
   "cell_type": "code",
   "execution_count": 269,
   "metadata": {
    "scrolled": true
   },
   "outputs": [],
   "source": [
    "# 创建数值数据集\n",
    "all_data_num = all_data.copy()\n",
    "for c in col_1:\n",
    "    all_data_num = all_data_num.drop(labels = c,axis=1)\n",
    "    \n",
    "# 创建布尔数据集\n",
    "all_data_bool = all_data[['Street','CentralAir']]\n",
    "\n",
    "#得到最终的数值特征数据集\n",
    "all_data_num = all_data_num.drop(labels = ['Street','CentralAir'], axis=1)"
   ]
  },
  {
   "cell_type": "code",
   "execution_count": 270,
   "metadata": {
    "scrolled": true
   },
   "outputs": [
    {
     "data": {
      "text/html": [
       "<div>\n",
       "<style scoped>\n",
       "    .dataframe tbody tr th:only-of-type {\n",
       "        vertical-align: middle;\n",
       "    }\n",
       "\n",
       "    .dataframe tbody tr th {\n",
       "        vertical-align: top;\n",
       "    }\n",
       "\n",
       "    .dataframe thead th {\n",
       "        text-align: right;\n",
       "    }\n",
       "</style>\n",
       "<table border=\"1\" class=\"dataframe\">\n",
       "  <thead>\n",
       "    <tr style=\"text-align: right;\">\n",
       "      <th></th>\n",
       "      <th>skewness</th>\n",
       "    </tr>\n",
       "  </thead>\n",
       "  <tbody>\n",
       "    <tr>\n",
       "      <th>MiscVal</th>\n",
       "      <td>21.951</td>\n",
       "    </tr>\n",
       "    <tr>\n",
       "      <th>PoolArea</th>\n",
       "      <td>17.698</td>\n",
       "    </tr>\n",
       "    <tr>\n",
       "      <th>LotArea</th>\n",
       "      <td>13.116</td>\n",
       "    </tr>\n",
       "    <tr>\n",
       "      <th>LowQualFinSF</th>\n",
       "      <td>12.091</td>\n",
       "    </tr>\n",
       "    <tr>\n",
       "      <th>3SsnPorch</th>\n",
       "      <td>11.378</td>\n",
       "    </tr>\n",
       "  </tbody>\n",
       "</table>\n",
       "</div>"
      ],
      "text/plain": [
       "              skewness\n",
       "MiscVal         21.951\n",
       "PoolArea        17.698\n",
       "LotArea         13.116\n",
       "LowQualFinSF    12.091\n",
       "3SsnPorch       11.378"
      ]
     },
     "execution_count": 270,
     "metadata": {},
     "output_type": "execute_result"
    }
   ],
   "source": [
    "skew_feature = abs(all_data_num.dropna().skew()).sort_values(ascending=False)\n",
    "skew_feature = pd.DataFrame(skew_feature,columns=['skewness'])\n",
    "skew_feature.head()"
   ]
  },
  {
   "cell_type": "code",
   "execution_count": 271,
   "metadata": {},
   "outputs": [
    {
     "name": "stdout",
     "output_type": "stream",
     "text": [
      "PoolArea       15.714\n",
      "3SsnPorch       8.887\n",
      "LowQualFinSF    8.673\n",
      "MiscVal         5.423\n",
      "GarageYrBlt     3.926\n",
      "dtype: float64\n"
     ]
    }
   ],
   "source": [
    "# 进行数值特征转换\n",
    "skew_feature_trans = skew_feature[skew_feature['skewness'] >0.75]\n",
    "skew_feature_trans\n",
    "lam = 0.1\n",
    "\n",
    "from scipy.special import boxcox1p\n",
    "for n in skew_feature_trans.index:\n",
    "    all_data_num[n] = boxcox1p(all_data_num[n], lam)\n",
    "\n",
    "print(abs(all_data_num.dropna().skew()).sort_values(ascending=False).head(5))"
   ]
  },
  {
   "cell_type": "markdown",
   "metadata": {},
   "source": [
    "## 3.5.分离训练集和测试集"
   ]
  },
  {
   "cell_type": "code",
   "execution_count": 272,
   "metadata": {},
   "outputs": [
    {
     "data": {
      "text/plain": [
       "(2917, 289)"
      ]
     },
     "execution_count": 272,
     "metadata": {},
     "output_type": "execute_result"
    }
   ],
   "source": [
    "# 合并数值特征和分类特征\n",
    "all_data_array = np.concatenate((np.array(all_data_num),np.array(all_data_bool),all_data_onehot),axis=1)\n",
    "all_data_array.shape"
   ]
  },
  {
   "cell_type": "code",
   "execution_count": 398,
   "metadata": {},
   "outputs": [
    {
     "data": {
      "text/plain": [
       "((1458, 289), (1459, 289))"
      ]
     },
     "execution_count": 398,
     "metadata": {},
     "output_type": "execute_result"
    }
   ],
   "source": [
    "ntrain = df_train.shape[0]\n",
    "\n",
    "X_train = all_data_array[:][:ntrain]\n",
    "X_test = all_data_array[:][ntrain:]\n",
    "\n",
    "X_train.shape,X_test.shape"
   ]
  },
  {
   "cell_type": "markdown",
   "metadata": {},
   "source": [
    "# 4.模型构建与选择"
   ]
  },
  {
   "cell_type": "markdown",
   "metadata": {},
   "source": [
    "## 4.1.定义交叉验证策略"
   ]
  },
  {
   "cell_type": "code",
   "execution_count": 377,
   "metadata": {},
   "outputs": [],
   "source": [
    "from sklearn.model_selection import KFold, cross_val_score\n",
    "\n",
    "# 定义交叉策略及评分标准RMSE\n",
    "def rmsle_cv(model):\n",
    "    kf = KFold(5, shuffle=True, random_state=42).get_n_splits(X_train)\n",
    "    rmse= np.sqrt(-cross_val_score(model, X_train, y_train.values, scoring=\"neg_mean_squared_error\", cv = kf))\n",
    "    return(rmse)"
   ]
  },
  {
   "cell_type": "markdown",
   "metadata": {},
   "source": [
    "## 4.2.构建基本模型"
   ]
  },
  {
   "cell_type": "markdown",
   "metadata": {},
   "source": [
    "* 本次回归模型，我们采用正则化线性回归（LASSO Regression、Elastic Net Regression、Kernel Ridge Regression）、决策树、随机森林、梯度提高回归等6个基础模型。"
   ]
  },
  {
   "cell_type": "code",
   "execution_count": 275,
   "metadata": {},
   "outputs": [],
   "source": [
    "from sklearn.linear_model import ElasticNet, Lasso,  BayesianRidge, LassoLarsIC\n",
    "from sklearn.ensemble import RandomForestRegressor,  GradientBoostingRegressor\n",
    "from sklearn.kernel_ridge import KernelRidge\n",
    "from sklearn.tree import DecisionTreeRegressor\n",
    "\n",
    "from sklearn.pipeline import Pipeline\n",
    "from sklearn.preprocessing import RobustScaler\n",
    "from sklearn.model_selection import train_test_split\n",
    "from sklearn.metrics import mean_squared_error"
   ]
  },
  {
   "cell_type": "code",
   "execution_count": 378,
   "metadata": {},
   "outputs": [],
   "source": [
    "# 构建L1回归\n",
    "lasso =Pipeline([(\"Scaler\", RobustScaler()), \n",
    "                      (\"Lasso\", Lasso(alpha =0.0005, random_state=1))])\n",
    "\n",
    "# 构建L2+L1回归\n",
    "elasticnet =Pipeline([(\"Scaler\", RobustScaler()), \n",
    "                      (\"ElasticNet\", ElasticNet(alpha=0.0005, l1_ratio=.9, random_state=3))])\n",
    "\n",
    "# 构建含内核L2回归（多项式核）\n",
    "kernelridge =Pipeline([(\"Scaler\", RobustScaler()), \n",
    "                      (\"KernelRidge\", KernelRidge(alpha=0.6, kernel='polynomial', degree=2, coef0=2.5))])\n",
    "\n",
    "# 构建决策树回归\n",
    "tree = DecisionTreeRegressor(max_depth=3, min_samples_leaf=15, min_samples_split=10, random_state=5)\n",
    "\n",
    "# 构建随机森林回归\n",
    "rnd_forest = RandomForestRegressor(n_estimators=3000, min_samples_leaf=15, min_samples_split=10, random_state=7, n_jobs=-1)\n",
    "\n",
    "# 构建梯度回归\n",
    "grd_boost = GradientBoostingRegressor(n_estimators=3000, learning_rate=0.05,max_depth=3, max_features='sqrt',\n",
    "                                      min_samples_leaf=15, min_samples_split=10, loss='huber', random_state =9)"
   ]
  },
  {
   "cell_type": "code",
   "execution_count": 379,
   "metadata": {},
   "outputs": [
    {
     "name": "stdout",
     "output_type": "stream",
     "text": [
      "Lasso score: 0.1140 (0.0055)\n",
      "\n",
      "ElasticNet score: 0.1138 (0.0056)\n",
      "\n",
      "KernelRidger score: 0.1177 (0.0051)\n",
      "\n",
      "DecisionTreeRegressor score: 0.2038 (0.0120)\n",
      "\n",
      "RandomForestRegressor score: 0.1524 (0.0038)\n",
      "\n",
      "GradientBoostingRegressor score: 0.1176 (0.0074)\n",
      "\n"
     ]
    }
   ],
   "source": [
    "# 来看一下基础模型的分数\n",
    "\n",
    "# L1回归\n",
    "score_lasso = rmsle_cv(lasso)\n",
    "print(\"Lasso score: {:.4f} ({:.4f})\\n\".format(score_lasso.mean(), score_lasso.std()))\n",
    "\n",
    "# L2+L1回归\n",
    "score_enet = rmsle_cv(elasticnet)\n",
    "print(\"ElasticNet score: {:.4f} ({:.4f})\\n\".format(score_enet.mean(), score_enet.std()))\n",
    "\n",
    "# 多项式核L2回归\n",
    "score_kr = rmsle_cv(kernelridge)\n",
    "print(\"KernelRidger score: {:.4f} ({:.4f})\\n\".format(score_kr.mean(), score_kr.std()))\n",
    "\n",
    "# 支持向量机\n",
    "\n",
    "# 决策树回归\n",
    "score_tree = rmsle_cv(tree)\n",
    "print(\"DecisionTreeRegressor score: {:.4f} ({:.4f})\\n\".format(score_tree.mean(), score_tree.std()))\n",
    "\n",
    "# 随机森林回归\n",
    "score_rnd = rmsle_cv(rnd_forest)\n",
    "print(\"RandomForestRegressor score: {:.4f} ({:.4f})\\n\".format(score_rnd.mean(), score_rnd.std()))\n",
    "\n",
    "# 梯度回归\n",
    "score_grd = rmsle_cv(grd_boost)\n",
    "print(\"GradientBoostingRegressor score: {:.4f} ({:.4f})\\n\".format(score_grd.mean(), score_grd.std()))"
   ]
  },
  {
   "cell_type": "markdown",
   "metadata": {},
   "source": [
    "## 4.3.尝试投票回归"
   ]
  },
  {
   "cell_type": "code",
   "execution_count": 380,
   "metadata": {},
   "outputs": [
    {
     "name": "stdout",
     "output_type": "stream",
     "text": [
      "voting_reg score: 0.1130 (0.0053)\n",
      "\n"
     ]
    }
   ],
   "source": [
    "from sklearn.ensemble import VotingRegressor\n",
    "\n",
    "voting_reg = VotingRegressor(estimators=[('l1', lasso),('enet',elasticnet), ('kr', kernelridge), ('rnd', rnd_forest), ('grd', grd_boost)],\n",
    "                              n_jobs=-1)\n",
    "score_vot = rmsle_cv(voting_reg)\n",
    "print(\"voting_reg score: {:.4f} ({:.4f})\\n\".format(score_vot.mean(), score_vot.std()))"
   ]
  },
  {
   "cell_type": "markdown",
   "metadata": {},
   "source": [
    "# 5.输出最终预测"
   ]
  },
  {
   "cell_type": "code",
   "execution_count": 407,
   "metadata": {},
   "outputs": [],
   "source": [
    "# 定义RMSE\n",
    "def rmsle(y, y_pred):\n",
    "    return np.sqrt(mean_squared_error(y, y_pred))"
   ]
  },
  {
   "cell_type": "code",
   "execution_count": 399,
   "metadata": {},
   "outputs": [
    {
     "name": "stdout",
     "output_type": "stream",
     "text": [
      "0.08756807410994102\n"
     ]
    }
   ],
   "source": [
    "voting_reg.fit(X_train,y_train)\n",
    "voting_train_pred = voting_reg.predict(X_train)\n",
    "print(rmsle(y_train, voting_train_pred))\n",
    "\n",
    "voting_sub = np.expm1(voting_reg.predict(X_test))\n",
    "final_sub = voting_sub"
   ]
  },
  {
   "cell_type": "code",
   "execution_count": 400,
   "metadata": {},
   "outputs": [],
   "source": [
    "sub = pd.DataFrame()\n",
    "df_test = pd.read_csv('test.csv')\n",
    "sub['Id'] = df_test['Id']\n",
    "sub['SalePrice'] = final_sub"
   ]
  },
  {
   "cell_type": "code",
   "execution_count": 401,
   "metadata": {},
   "outputs": [
    {
     "data": {
      "text/html": [
       "<div>\n",
       "<style scoped>\n",
       "    .dataframe tbody tr th:only-of-type {\n",
       "        vertical-align: middle;\n",
       "    }\n",
       "\n",
       "    .dataframe tbody tr th {\n",
       "        vertical-align: top;\n",
       "    }\n",
       "\n",
       "    .dataframe thead th {\n",
       "        text-align: right;\n",
       "    }\n",
       "</style>\n",
       "<table border=\"1\" class=\"dataframe\">\n",
       "  <thead>\n",
       "    <tr style=\"text-align: right;\">\n",
       "      <th></th>\n",
       "      <th>Id</th>\n",
       "      <th>SalePrice</th>\n",
       "    </tr>\n",
       "  </thead>\n",
       "  <tbody>\n",
       "    <tr>\n",
       "      <th>0</th>\n",
       "      <td>1461</td>\n",
       "      <td>117069.597</td>\n",
       "    </tr>\n",
       "    <tr>\n",
       "      <th>1</th>\n",
       "      <td>1462</td>\n",
       "      <td>158609.157</td>\n",
       "    </tr>\n",
       "    <tr>\n",
       "      <th>2</th>\n",
       "      <td>1463</td>\n",
       "      <td>185184.969</td>\n",
       "    </tr>\n",
       "    <tr>\n",
       "      <th>3</th>\n",
       "      <td>1464</td>\n",
       "      <td>198666.962</td>\n",
       "    </tr>\n",
       "    <tr>\n",
       "      <th>4</th>\n",
       "      <td>1465</td>\n",
       "      <td>192831.845</td>\n",
       "    </tr>\n",
       "  </tbody>\n",
       "</table>\n",
       "</div>"
      ],
      "text/plain": [
       "     Id  SalePrice\n",
       "0  1461 117069.597\n",
       "1  1462 158609.157\n",
       "2  1463 185184.969\n",
       "3  1464 198666.962\n",
       "4  1465 192831.845"
      ]
     },
     "execution_count": 401,
     "metadata": {},
     "output_type": "execute_result"
    }
   ],
   "source": [
    "sub.head()"
   ]
  },
  {
   "cell_type": "code",
   "execution_count": 402,
   "metadata": {},
   "outputs": [],
   "source": [
    "sub.to_csv('submission.csv',index=False)"
   ]
  },
  {
   "cell_type": "markdown",
   "metadata": {},
   "source": [
    "* 提交的预测得分为0.12490，看样子还是有很大的进步空间啊！"
   ]
  }
 ],
 "metadata": {
  "kernelspec": {
   "display_name": "Python 3",
   "language": "python",
   "name": "python3"
  },
  "language_info": {
   "codemirror_mode": {
    "name": "ipython",
    "version": 3
   },
   "file_extension": ".py",
   "mimetype": "text/x-python",
   "name": "python",
   "nbconvert_exporter": "python",
   "pygments_lexer": "ipython3",
   "version": "3.7.4"
  },
  "toc": {
   "base_numbering": 1,
   "nav_menu": {},
   "number_sections": false,
   "sideBar": true,
   "skip_h1_title": false,
   "title_cell": "Table of Contents",
   "title_sidebar": "Contents",
   "toc_cell": false,
   "toc_position": {
    "height": "calc(100% - 180px)",
    "left": "10px",
    "top": "150px",
    "width": "315.231px"
   },
   "toc_section_display": true,
   "toc_window_display": true
  }
 },
 "nbformat": 4,
 "nbformat_minor": 2
}
