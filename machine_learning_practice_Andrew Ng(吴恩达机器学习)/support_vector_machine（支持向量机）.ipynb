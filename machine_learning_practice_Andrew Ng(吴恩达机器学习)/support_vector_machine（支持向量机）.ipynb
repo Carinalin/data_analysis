{
 "cells": [
  {
   "cell_type": "markdown",
   "metadata": {},
   "source": [
    "# 支持向量机练习（SVM Practice）"
   ]
  },
  {
   "cell_type": "markdown",
   "metadata": {},
   "source": [
    "## 项目背景"
   ]
  },
  {
   "cell_type": "markdown",
   "metadata": {},
   "source": [
    "#### 项目背景：\n",
    "* 1.项目基于吴恩达教授的《机器学习》课程。\n",
    "* 2.数据均来源于课程配套资料。\n",
    "\n",
    "\n",
    "#### 项目目的：\n",
    "* 1、构建线性内核支持向量机模型\n",
    "* 2、构建高斯内核支持向量机模型\n",
    "* 3、调试常量C并了解其对模型优化的影响\n",
    "* 4、使用支持向量机构建垃圾邮件分类器。"
   ]
  },
  {
   "cell_type": "markdown",
   "metadata": {},
   "source": [
    "# 导入相关的库"
   ]
  },
  {
   "cell_type": "code",
   "execution_count": 2,
   "metadata": {},
   "outputs": [
    {
     "data": {
      "text/html": [
       "        <script type=\"text/javascript\">\n",
       "        window.PlotlyConfig = {MathJaxConfig: 'local'};\n",
       "        if (window.MathJax) {MathJax.Hub.Config({SVG: {font: \"STIX-Web\"}});}\n",
       "        if (typeof require !== 'undefined') {\n",
       "        require.undef(\"plotly\");\n",
       "        requirejs.config({\n",
       "            paths: {\n",
       "                'plotly': ['https://cdn.plot.ly/plotly-latest.min']\n",
       "            }\n",
       "        });\n",
       "        require(['plotly'], function(Plotly) {\n",
       "            window._Plotly = Plotly;\n",
       "        });\n",
       "        }\n",
       "        </script>\n",
       "        "
      ]
     },
     "metadata": {},
     "output_type": "display_data"
    },
    {
     "data": {
      "text/html": [
       "        <script type=\"text/javascript\">\n",
       "        window.PlotlyConfig = {MathJaxConfig: 'local'};\n",
       "        if (window.MathJax) {MathJax.Hub.Config({SVG: {font: \"STIX-Web\"}});}\n",
       "        if (typeof require !== 'undefined') {\n",
       "        require.undef(\"plotly\");\n",
       "        requirejs.config({\n",
       "            paths: {\n",
       "                'plotly': ['https://cdn.plot.ly/plotly-latest.min']\n",
       "            }\n",
       "        });\n",
       "        require(['plotly'], function(Plotly) {\n",
       "            window._Plotly = Plotly;\n",
       "        });\n",
       "        }\n",
       "        </script>\n",
       "        "
      ]
     },
     "metadata": {},
     "output_type": "display_data"
    }
   ],
   "source": [
    "import numpy as np\n",
    "import pandas as pd\n",
    "\n",
    "import plotly.express as px\n",
    "import plotly as py\n",
    "import plotly.graph_objs as go\n",
    "import cufflinks as cf\n",
    "from plotly.offline import iplot,init_notebook_mode\n",
    "cf.go_offline(connected=True)\n",
    "init_notebook_mode(connected=True)\n",
    "\n",
    "import scipy.io as sio #因为是mat文件，需要用scipy导入"
   ]
  },
  {
   "cell_type": "markdown",
   "metadata": {},
   "source": [
    "# 1.简单线性内核支持向量机"
   ]
  },
  {
   "cell_type": "code",
   "execution_count": 3,
   "metadata": {},
   "outputs": [
    {
     "data": {
      "text/plain": [
       "dict_keys(['__header__', '__version__', '__globals__', 'X', 'y'])"
      ]
     },
     "execution_count": 3,
     "metadata": {},
     "output_type": "execute_result"
    }
   ],
   "source": [
    "data = sio.loadmat(r'dataset（数据集）\\ex6data1.mat')\n",
    "data.keys()"
   ]
  },
  {
   "cell_type": "code",
   "execution_count": 64,
   "metadata": {},
   "outputs": [
    {
     "data": {
      "text/plain": [
       "((51, 2), (51,))"
      ]
     },
     "execution_count": 64,
     "metadata": {},
     "output_type": "execute_result"
    }
   ],
   "source": [
    "X1 = data['X']\n",
    "y1 = data['y'].reshape(data['y'].shape[0])\n",
    "X1.shape,y1.shape"
   ]
  },
  {
   "cell_type": "code",
   "execution_count": 65,
   "metadata": {
    "scrolled": true
   },
   "outputs": [
    {
     "data": {
      "text/plain": [
       "(False, False)"
      ]
     },
     "execution_count": 65,
     "metadata": {},
     "output_type": "execute_result"
    }
   ],
   "source": [
    "# 查看是否有缺失值\n",
    "np.isnan(X1).any(),np.isnan(y1).any()"
   ]
  },
  {
   "cell_type": "code",
   "execution_count": 66,
   "metadata": {},
   "outputs": [
    {
     "data": {
      "application/vnd.plotly.v1+json": {
       "config": {
        "plotlyServerURL": "https://plot.ly"
       },
       "data": [
        {
         "hoverlabel": {
          "namelength": 0
         },
         "hovertemplate": "color=1<br>x=%{x}<br>y=%{y}",
         "legendgroup": "1",
         "marker": {
          "color": "#636efa",
          "symbol": "circle"
         },
         "mode": "markers",
         "name": "1",
         "showlegend": true,
         "type": "scatter",
         "x": [
          1.9643,
          2.2753,
          2.9781,
          2.932,
          3.5772,
          4.015,
          3.3814,
          3.9113,
          2.7822,
          2.5518,
          3.3698,
          3.1048,
          1.9182,
          2.2638,
          2.6555,
          3.1855,
          3.6579,
          3.9113,
          3.6002,
          3.0357,
          0.086405
         ],
         "xaxis": "x",
         "y": [
          4.5957,
          3.8589,
          4.5651,
          3.5519,
          2.856,
          3.1937,
          3.4291,
          4.1761,
          4.0431,
          4.6162,
          3.9101,
          3.0709,
          4.0534,
          4.3706,
          3.5008,
          4.2888,
          3.8692,
          3.4291,
          3.1221,
          3.3165,
          4.1045
         ],
         "yaxis": "y"
        },
        {
         "hoverlabel": {
          "namelength": 0
         },
         "hovertemplate": "color=0<br>x=%{x}<br>y=%{y}",
         "legendgroup": "0",
         "marker": {
          "color": "#EF553B",
          "symbol": "circle"
         },
         "mode": "markers",
         "name": "0",
         "showlegend": true,
         "type": "scatter",
         "x": [
          1.5841,
          2.0103,
          1.9527,
          2.2753,
          2.3099,
          2.8283,
          3.0473,
          2.4827,
          2.5057,
          1.8721,
          2.0103,
          1.2269,
          1.8951,
          1.561,
          1.5495,
          1.6878,
          1.4919,
          0.962,
          1.1693,
          0.8122,
          0.9735,
          1.25,
          1.3191,
          2.2292,
          2.4482,
          2.7938,
          2.091,
          2.5403,
          0.9044,
          0.76615
         ],
         "xaxis": "x",
         "y": [
          3.3575,
          3.2039,
          2.7843,
          2.7127,
          2.9584,
          2.6309,
          2.2931,
          2.0373,
          2.3853,
          2.0577,
          2.3546,
          2.3239,
          2.9174,
          3.0709,
          2.6923,
          2.4057,
          2.0271,
          2.682,
          2.9276,
          2.9992,
          3.3881,
          3.1937,
          3.5109,
          2.201,
          2.6411,
          1.9656,
          1.6177,
          2.8867,
          3.0198,
          2.5899
         ],
         "yaxis": "y"
        }
       ],
       "layout": {
        "height": 500,
        "legend": {
         "title": {
          "text": "color"
         },
         "tracegroupgap": 0
        },
        "margin": {
         "t": 60
        },
        "template": {
         "data": {
          "bar": [
           {
            "error_x": {
             "color": "#2a3f5f"
            },
            "error_y": {
             "color": "#2a3f5f"
            },
            "marker": {
             "line": {
              "color": "#E5ECF6",
              "width": 0.5
             }
            },
            "type": "bar"
           }
          ],
          "barpolar": [
           {
            "marker": {
             "line": {
              "color": "#E5ECF6",
              "width": 0.5
             }
            },
            "type": "barpolar"
           }
          ],
          "carpet": [
           {
            "aaxis": {
             "endlinecolor": "#2a3f5f",
             "gridcolor": "white",
             "linecolor": "white",
             "minorgridcolor": "white",
             "startlinecolor": "#2a3f5f"
            },
            "baxis": {
             "endlinecolor": "#2a3f5f",
             "gridcolor": "white",
             "linecolor": "white",
             "minorgridcolor": "white",
             "startlinecolor": "#2a3f5f"
            },
            "type": "carpet"
           }
          ],
          "choropleth": [
           {
            "colorbar": {
             "outlinewidth": 0,
             "ticks": ""
            },
            "type": "choropleth"
           }
          ],
          "contour": [
           {
            "colorbar": {
             "outlinewidth": 0,
             "ticks": ""
            },
            "colorscale": [
             [
              0,
              "#0d0887"
             ],
             [
              0.1111111111111111,
              "#46039f"
             ],
             [
              0.2222222222222222,
              "#7201a8"
             ],
             [
              0.3333333333333333,
              "#9c179e"
             ],
             [
              0.4444444444444444,
              "#bd3786"
             ],
             [
              0.5555555555555556,
              "#d8576b"
             ],
             [
              0.6666666666666666,
              "#ed7953"
             ],
             [
              0.7777777777777778,
              "#fb9f3a"
             ],
             [
              0.8888888888888888,
              "#fdca26"
             ],
             [
              1,
              "#f0f921"
             ]
            ],
            "type": "contour"
           }
          ],
          "contourcarpet": [
           {
            "colorbar": {
             "outlinewidth": 0,
             "ticks": ""
            },
            "type": "contourcarpet"
           }
          ],
          "heatmap": [
           {
            "colorbar": {
             "outlinewidth": 0,
             "ticks": ""
            },
            "colorscale": [
             [
              0,
              "#0d0887"
             ],
             [
              0.1111111111111111,
              "#46039f"
             ],
             [
              0.2222222222222222,
              "#7201a8"
             ],
             [
              0.3333333333333333,
              "#9c179e"
             ],
             [
              0.4444444444444444,
              "#bd3786"
             ],
             [
              0.5555555555555556,
              "#d8576b"
             ],
             [
              0.6666666666666666,
              "#ed7953"
             ],
             [
              0.7777777777777778,
              "#fb9f3a"
             ],
             [
              0.8888888888888888,
              "#fdca26"
             ],
             [
              1,
              "#f0f921"
             ]
            ],
            "type": "heatmap"
           }
          ],
          "heatmapgl": [
           {
            "colorbar": {
             "outlinewidth": 0,
             "ticks": ""
            },
            "colorscale": [
             [
              0,
              "#0d0887"
             ],
             [
              0.1111111111111111,
              "#46039f"
             ],
             [
              0.2222222222222222,
              "#7201a8"
             ],
             [
              0.3333333333333333,
              "#9c179e"
             ],
             [
              0.4444444444444444,
              "#bd3786"
             ],
             [
              0.5555555555555556,
              "#d8576b"
             ],
             [
              0.6666666666666666,
              "#ed7953"
             ],
             [
              0.7777777777777778,
              "#fb9f3a"
             ],
             [
              0.8888888888888888,
              "#fdca26"
             ],
             [
              1,
              "#f0f921"
             ]
            ],
            "type": "heatmapgl"
           }
          ],
          "histogram": [
           {
            "marker": {
             "colorbar": {
              "outlinewidth": 0,
              "ticks": ""
             }
            },
            "type": "histogram"
           }
          ],
          "histogram2d": [
           {
            "colorbar": {
             "outlinewidth": 0,
             "ticks": ""
            },
            "colorscale": [
             [
              0,
              "#0d0887"
             ],
             [
              0.1111111111111111,
              "#46039f"
             ],
             [
              0.2222222222222222,
              "#7201a8"
             ],
             [
              0.3333333333333333,
              "#9c179e"
             ],
             [
              0.4444444444444444,
              "#bd3786"
             ],
             [
              0.5555555555555556,
              "#d8576b"
             ],
             [
              0.6666666666666666,
              "#ed7953"
             ],
             [
              0.7777777777777778,
              "#fb9f3a"
             ],
             [
              0.8888888888888888,
              "#fdca26"
             ],
             [
              1,
              "#f0f921"
             ]
            ],
            "type": "histogram2d"
           }
          ],
          "histogram2dcontour": [
           {
            "colorbar": {
             "outlinewidth": 0,
             "ticks": ""
            },
            "colorscale": [
             [
              0,
              "#0d0887"
             ],
             [
              0.1111111111111111,
              "#46039f"
             ],
             [
              0.2222222222222222,
              "#7201a8"
             ],
             [
              0.3333333333333333,
              "#9c179e"
             ],
             [
              0.4444444444444444,
              "#bd3786"
             ],
             [
              0.5555555555555556,
              "#d8576b"
             ],
             [
              0.6666666666666666,
              "#ed7953"
             ],
             [
              0.7777777777777778,
              "#fb9f3a"
             ],
             [
              0.8888888888888888,
              "#fdca26"
             ],
             [
              1,
              "#f0f921"
             ]
            ],
            "type": "histogram2dcontour"
           }
          ],
          "mesh3d": [
           {
            "colorbar": {
             "outlinewidth": 0,
             "ticks": ""
            },
            "type": "mesh3d"
           }
          ],
          "parcoords": [
           {
            "line": {
             "colorbar": {
              "outlinewidth": 0,
              "ticks": ""
             }
            },
            "type": "parcoords"
           }
          ],
          "pie": [
           {
            "automargin": true,
            "type": "pie"
           }
          ],
          "scatter": [
           {
            "marker": {
             "colorbar": {
              "outlinewidth": 0,
              "ticks": ""
             }
            },
            "type": "scatter"
           }
          ],
          "scatter3d": [
           {
            "line": {
             "colorbar": {
              "outlinewidth": 0,
              "ticks": ""
             }
            },
            "marker": {
             "colorbar": {
              "outlinewidth": 0,
              "ticks": ""
             }
            },
            "type": "scatter3d"
           }
          ],
          "scattercarpet": [
           {
            "marker": {
             "colorbar": {
              "outlinewidth": 0,
              "ticks": ""
             }
            },
            "type": "scattercarpet"
           }
          ],
          "scattergeo": [
           {
            "marker": {
             "colorbar": {
              "outlinewidth": 0,
              "ticks": ""
             }
            },
            "type": "scattergeo"
           }
          ],
          "scattergl": [
           {
            "marker": {
             "colorbar": {
              "outlinewidth": 0,
              "ticks": ""
             }
            },
            "type": "scattergl"
           }
          ],
          "scattermapbox": [
           {
            "marker": {
             "colorbar": {
              "outlinewidth": 0,
              "ticks": ""
             }
            },
            "type": "scattermapbox"
           }
          ],
          "scatterpolar": [
           {
            "marker": {
             "colorbar": {
              "outlinewidth": 0,
              "ticks": ""
             }
            },
            "type": "scatterpolar"
           }
          ],
          "scatterpolargl": [
           {
            "marker": {
             "colorbar": {
              "outlinewidth": 0,
              "ticks": ""
             }
            },
            "type": "scatterpolargl"
           }
          ],
          "scatterternary": [
           {
            "marker": {
             "colorbar": {
              "outlinewidth": 0,
              "ticks": ""
             }
            },
            "type": "scatterternary"
           }
          ],
          "surface": [
           {
            "colorbar": {
             "outlinewidth": 0,
             "ticks": ""
            },
            "colorscale": [
             [
              0,
              "#0d0887"
             ],
             [
              0.1111111111111111,
              "#46039f"
             ],
             [
              0.2222222222222222,
              "#7201a8"
             ],
             [
              0.3333333333333333,
              "#9c179e"
             ],
             [
              0.4444444444444444,
              "#bd3786"
             ],
             [
              0.5555555555555556,
              "#d8576b"
             ],
             [
              0.6666666666666666,
              "#ed7953"
             ],
             [
              0.7777777777777778,
              "#fb9f3a"
             ],
             [
              0.8888888888888888,
              "#fdca26"
             ],
             [
              1,
              "#f0f921"
             ]
            ],
            "type": "surface"
           }
          ],
          "table": [
           {
            "cells": {
             "fill": {
              "color": "#EBF0F8"
             },
             "line": {
              "color": "white"
             }
            },
            "header": {
             "fill": {
              "color": "#C8D4E3"
             },
             "line": {
              "color": "white"
             }
            },
            "type": "table"
           }
          ]
         },
         "layout": {
          "annotationdefaults": {
           "arrowcolor": "#2a3f5f",
           "arrowhead": 0,
           "arrowwidth": 1
          },
          "coloraxis": {
           "colorbar": {
            "outlinewidth": 0,
            "ticks": ""
           }
          },
          "colorscale": {
           "diverging": [
            [
             0,
             "#8e0152"
            ],
            [
             0.1,
             "#c51b7d"
            ],
            [
             0.2,
             "#de77ae"
            ],
            [
             0.3,
             "#f1b6da"
            ],
            [
             0.4,
             "#fde0ef"
            ],
            [
             0.5,
             "#f7f7f7"
            ],
            [
             0.6,
             "#e6f5d0"
            ],
            [
             0.7,
             "#b8e186"
            ],
            [
             0.8,
             "#7fbc41"
            ],
            [
             0.9,
             "#4d9221"
            ],
            [
             1,
             "#276419"
            ]
           ],
           "sequential": [
            [
             0,
             "#0d0887"
            ],
            [
             0.1111111111111111,
             "#46039f"
            ],
            [
             0.2222222222222222,
             "#7201a8"
            ],
            [
             0.3333333333333333,
             "#9c179e"
            ],
            [
             0.4444444444444444,
             "#bd3786"
            ],
            [
             0.5555555555555556,
             "#d8576b"
            ],
            [
             0.6666666666666666,
             "#ed7953"
            ],
            [
             0.7777777777777778,
             "#fb9f3a"
            ],
            [
             0.8888888888888888,
             "#fdca26"
            ],
            [
             1,
             "#f0f921"
            ]
           ],
           "sequentialminus": [
            [
             0,
             "#0d0887"
            ],
            [
             0.1111111111111111,
             "#46039f"
            ],
            [
             0.2222222222222222,
             "#7201a8"
            ],
            [
             0.3333333333333333,
             "#9c179e"
            ],
            [
             0.4444444444444444,
             "#bd3786"
            ],
            [
             0.5555555555555556,
             "#d8576b"
            ],
            [
             0.6666666666666666,
             "#ed7953"
            ],
            [
             0.7777777777777778,
             "#fb9f3a"
            ],
            [
             0.8888888888888888,
             "#fdca26"
            ],
            [
             1,
             "#f0f921"
            ]
           ]
          },
          "colorway": [
           "#636efa",
           "#EF553B",
           "#00cc96",
           "#ab63fa",
           "#FFA15A",
           "#19d3f3",
           "#FF6692",
           "#B6E880",
           "#FF97FF",
           "#FECB52"
          ],
          "font": {
           "color": "#2a3f5f"
          },
          "geo": {
           "bgcolor": "white",
           "lakecolor": "white",
           "landcolor": "#E5ECF6",
           "showlakes": true,
           "showland": true,
           "subunitcolor": "white"
          },
          "hoverlabel": {
           "align": "left"
          },
          "hovermode": "closest",
          "mapbox": {
           "style": "light"
          },
          "paper_bgcolor": "white",
          "plot_bgcolor": "#E5ECF6",
          "polar": {
           "angularaxis": {
            "gridcolor": "white",
            "linecolor": "white",
            "ticks": ""
           },
           "bgcolor": "#E5ECF6",
           "radialaxis": {
            "gridcolor": "white",
            "linecolor": "white",
            "ticks": ""
           }
          },
          "scene": {
           "xaxis": {
            "backgroundcolor": "#E5ECF6",
            "gridcolor": "white",
            "gridwidth": 2,
            "linecolor": "white",
            "showbackground": true,
            "ticks": "",
            "zerolinecolor": "white"
           },
           "yaxis": {
            "backgroundcolor": "#E5ECF6",
            "gridcolor": "white",
            "gridwidth": 2,
            "linecolor": "white",
            "showbackground": true,
            "ticks": "",
            "zerolinecolor": "white"
           },
           "zaxis": {
            "backgroundcolor": "#E5ECF6",
            "gridcolor": "white",
            "gridwidth": 2,
            "linecolor": "white",
            "showbackground": true,
            "ticks": "",
            "zerolinecolor": "white"
           }
          },
          "shapedefaults": {
           "line": {
            "color": "#2a3f5f"
           }
          },
          "ternary": {
           "aaxis": {
            "gridcolor": "white",
            "linecolor": "white",
            "ticks": ""
           },
           "baxis": {
            "gridcolor": "white",
            "linecolor": "white",
            "ticks": ""
           },
           "bgcolor": "#E5ECF6",
           "caxis": {
            "gridcolor": "white",
            "linecolor": "white",
            "ticks": ""
           }
          },
          "title": {
           "x": 0.05
          },
          "xaxis": {
           "automargin": true,
           "gridcolor": "white",
           "linecolor": "white",
           "ticks": "",
           "title": {
            "standoff": 15
           },
           "zerolinecolor": "white",
           "zerolinewidth": 2
          },
          "yaxis": {
           "automargin": true,
           "gridcolor": "white",
           "linecolor": "white",
           "ticks": "",
           "title": {
            "standoff": 15
           },
           "zerolinecolor": "white",
           "zerolinewidth": 2
          }
         }
        },
        "width": 500,
        "xaxis": {
         "anchor": "y",
         "domain": [
          0,
          1
         ],
         "title": {
          "text": "X1"
         }
        },
        "yaxis": {
         "anchor": "x",
         "domain": [
          0,
          1
         ],
         "title": {
          "text": "X2"
         }
        }
       }
      },
      "text/html": [
       "<div>\n",
       "        \n",
       "        \n",
       "            <div id=\"972b2bf0-7cd6-4afc-a8bc-84aa1b948fed\" class=\"plotly-graph-div\" style=\"height:500px; width:500px;\"></div>\n",
       "            <script type=\"text/javascript\">\n",
       "                require([\"plotly\"], function(Plotly) {\n",
       "                    window.PLOTLYENV=window.PLOTLYENV || {};\n",
       "                    \n",
       "                if (document.getElementById(\"972b2bf0-7cd6-4afc-a8bc-84aa1b948fed\")) {\n",
       "                    Plotly.newPlot(\n",
       "                        '972b2bf0-7cd6-4afc-a8bc-84aa1b948fed',\n",
       "                        [{\"hoverlabel\": {\"namelength\": 0}, \"hovertemplate\": \"color=1<br>x=%{x}<br>y=%{y}\", \"legendgroup\": \"1\", \"marker\": {\"color\": \"#636efa\", \"symbol\": \"circle\"}, \"mode\": \"markers\", \"name\": \"1\", \"showlegend\": true, \"type\": \"scatter\", \"x\": [1.9643, 2.2753, 2.9781, 2.932, 3.5772, 4.015, 3.3814, 3.9113, 2.7822, 2.5518, 3.3698, 3.1048, 1.9182, 2.2638, 2.6555, 3.1855, 3.6579, 3.9113, 3.6002, 3.0357, 0.086405], \"xaxis\": \"x\", \"y\": [4.5957, 3.8589, 4.5651, 3.5519, 2.856, 3.1937, 3.4291, 4.1761, 4.0431, 4.6162, 3.9101, 3.0709, 4.0534, 4.3706, 3.5008, 4.2888, 3.8692, 3.4291, 3.1221, 3.3165, 4.1045], \"yaxis\": \"y\"}, {\"hoverlabel\": {\"namelength\": 0}, \"hovertemplate\": \"color=0<br>x=%{x}<br>y=%{y}\", \"legendgroup\": \"0\", \"marker\": {\"color\": \"#EF553B\", \"symbol\": \"circle\"}, \"mode\": \"markers\", \"name\": \"0\", \"showlegend\": true, \"type\": \"scatter\", \"x\": [1.5841, 2.0103, 1.9527, 2.2753, 2.3099, 2.8283, 3.0473, 2.4827, 2.5057, 1.8721, 2.0103, 1.2269, 1.8951, 1.561, 1.5495, 1.6878, 1.4919, 0.962, 1.1693, 0.8122, 0.9735, 1.25, 1.3191, 2.2292, 2.4482, 2.7938, 2.091, 2.5403, 0.9044, 0.76615], \"xaxis\": \"x\", \"y\": [3.3575, 3.2039, 2.7843, 2.7127, 2.9584, 2.6309, 2.2931, 2.0373, 2.3853, 2.0577, 2.3546, 2.3239, 2.9174, 3.0709, 2.6923, 2.4057, 2.0271, 2.682, 2.9276, 2.9992, 3.3881, 3.1937, 3.5109, 2.201, 2.6411, 1.9656, 1.6177, 2.8867, 3.0198, 2.5899], \"yaxis\": \"y\"}],\n",
       "                        {\"height\": 500, \"legend\": {\"title\": {\"text\": \"color\"}, \"tracegroupgap\": 0}, \"margin\": {\"t\": 60}, \"template\": {\"data\": {\"bar\": [{\"error_x\": {\"color\": \"#2a3f5f\"}, \"error_y\": {\"color\": \"#2a3f5f\"}, \"marker\": {\"line\": {\"color\": \"#E5ECF6\", \"width\": 0.5}}, \"type\": \"bar\"}], \"barpolar\": [{\"marker\": {\"line\": {\"color\": \"#E5ECF6\", \"width\": 0.5}}, \"type\": \"barpolar\"}], \"carpet\": [{\"aaxis\": {\"endlinecolor\": \"#2a3f5f\", \"gridcolor\": \"white\", \"linecolor\": \"white\", \"minorgridcolor\": \"white\", \"startlinecolor\": \"#2a3f5f\"}, \"baxis\": {\"endlinecolor\": \"#2a3f5f\", \"gridcolor\": \"white\", \"linecolor\": \"white\", \"minorgridcolor\": \"white\", \"startlinecolor\": \"#2a3f5f\"}, \"type\": \"carpet\"}], \"choropleth\": [{\"colorbar\": {\"outlinewidth\": 0, \"ticks\": \"\"}, \"type\": \"choropleth\"}], \"contour\": [{\"colorbar\": {\"outlinewidth\": 0, \"ticks\": \"\"}, \"colorscale\": [[0.0, \"#0d0887\"], [0.1111111111111111, \"#46039f\"], [0.2222222222222222, \"#7201a8\"], [0.3333333333333333, \"#9c179e\"], [0.4444444444444444, \"#bd3786\"], [0.5555555555555556, \"#d8576b\"], [0.6666666666666666, \"#ed7953\"], [0.7777777777777778, \"#fb9f3a\"], [0.8888888888888888, \"#fdca26\"], [1.0, \"#f0f921\"]], \"type\": \"contour\"}], \"contourcarpet\": [{\"colorbar\": {\"outlinewidth\": 0, \"ticks\": \"\"}, \"type\": \"contourcarpet\"}], \"heatmap\": [{\"colorbar\": {\"outlinewidth\": 0, \"ticks\": \"\"}, \"colorscale\": [[0.0, \"#0d0887\"], [0.1111111111111111, \"#46039f\"], [0.2222222222222222, \"#7201a8\"], [0.3333333333333333, \"#9c179e\"], [0.4444444444444444, \"#bd3786\"], [0.5555555555555556, \"#d8576b\"], [0.6666666666666666, \"#ed7953\"], [0.7777777777777778, \"#fb9f3a\"], [0.8888888888888888, \"#fdca26\"], [1.0, \"#f0f921\"]], \"type\": \"heatmap\"}], \"heatmapgl\": [{\"colorbar\": {\"outlinewidth\": 0, \"ticks\": \"\"}, \"colorscale\": [[0.0, \"#0d0887\"], [0.1111111111111111, \"#46039f\"], [0.2222222222222222, \"#7201a8\"], [0.3333333333333333, \"#9c179e\"], [0.4444444444444444, \"#bd3786\"], [0.5555555555555556, \"#d8576b\"], [0.6666666666666666, \"#ed7953\"], [0.7777777777777778, \"#fb9f3a\"], [0.8888888888888888, \"#fdca26\"], [1.0, \"#f0f921\"]], \"type\": \"heatmapgl\"}], \"histogram\": [{\"marker\": {\"colorbar\": {\"outlinewidth\": 0, \"ticks\": \"\"}}, \"type\": \"histogram\"}], \"histogram2d\": [{\"colorbar\": {\"outlinewidth\": 0, \"ticks\": \"\"}, \"colorscale\": [[0.0, \"#0d0887\"], [0.1111111111111111, \"#46039f\"], [0.2222222222222222, \"#7201a8\"], [0.3333333333333333, \"#9c179e\"], [0.4444444444444444, \"#bd3786\"], [0.5555555555555556, \"#d8576b\"], [0.6666666666666666, \"#ed7953\"], [0.7777777777777778, \"#fb9f3a\"], [0.8888888888888888, \"#fdca26\"], [1.0, \"#f0f921\"]], \"type\": \"histogram2d\"}], \"histogram2dcontour\": [{\"colorbar\": {\"outlinewidth\": 0, \"ticks\": \"\"}, \"colorscale\": [[0.0, \"#0d0887\"], [0.1111111111111111, \"#46039f\"], [0.2222222222222222, \"#7201a8\"], [0.3333333333333333, \"#9c179e\"], [0.4444444444444444, \"#bd3786\"], [0.5555555555555556, \"#d8576b\"], [0.6666666666666666, \"#ed7953\"], [0.7777777777777778, \"#fb9f3a\"], [0.8888888888888888, \"#fdca26\"], [1.0, \"#f0f921\"]], \"type\": \"histogram2dcontour\"}], \"mesh3d\": [{\"colorbar\": {\"outlinewidth\": 0, \"ticks\": \"\"}, \"type\": \"mesh3d\"}], \"parcoords\": [{\"line\": {\"colorbar\": {\"outlinewidth\": 0, \"ticks\": \"\"}}, \"type\": \"parcoords\"}], \"pie\": [{\"automargin\": true, \"type\": \"pie\"}], \"scatter\": [{\"marker\": {\"colorbar\": {\"outlinewidth\": 0, \"ticks\": \"\"}}, \"type\": \"scatter\"}], \"scatter3d\": [{\"line\": {\"colorbar\": {\"outlinewidth\": 0, \"ticks\": \"\"}}, \"marker\": {\"colorbar\": {\"outlinewidth\": 0, \"ticks\": \"\"}}, \"type\": \"scatter3d\"}], \"scattercarpet\": [{\"marker\": {\"colorbar\": {\"outlinewidth\": 0, \"ticks\": \"\"}}, \"type\": \"scattercarpet\"}], \"scattergeo\": [{\"marker\": {\"colorbar\": {\"outlinewidth\": 0, \"ticks\": \"\"}}, \"type\": \"scattergeo\"}], \"scattergl\": [{\"marker\": {\"colorbar\": {\"outlinewidth\": 0, \"ticks\": \"\"}}, \"type\": \"scattergl\"}], \"scattermapbox\": [{\"marker\": {\"colorbar\": {\"outlinewidth\": 0, \"ticks\": \"\"}}, \"type\": \"scattermapbox\"}], \"scatterpolar\": [{\"marker\": {\"colorbar\": {\"outlinewidth\": 0, \"ticks\": \"\"}}, \"type\": \"scatterpolar\"}], \"scatterpolargl\": [{\"marker\": {\"colorbar\": {\"outlinewidth\": 0, \"ticks\": \"\"}}, \"type\": \"scatterpolargl\"}], \"scatterternary\": [{\"marker\": {\"colorbar\": {\"outlinewidth\": 0, \"ticks\": \"\"}}, \"type\": \"scatterternary\"}], \"surface\": [{\"colorbar\": {\"outlinewidth\": 0, \"ticks\": \"\"}, \"colorscale\": [[0.0, \"#0d0887\"], [0.1111111111111111, \"#46039f\"], [0.2222222222222222, \"#7201a8\"], [0.3333333333333333, \"#9c179e\"], [0.4444444444444444, \"#bd3786\"], [0.5555555555555556, \"#d8576b\"], [0.6666666666666666, \"#ed7953\"], [0.7777777777777778, \"#fb9f3a\"], [0.8888888888888888, \"#fdca26\"], [1.0, \"#f0f921\"]], \"type\": \"surface\"}], \"table\": [{\"cells\": {\"fill\": {\"color\": \"#EBF0F8\"}, \"line\": {\"color\": \"white\"}}, \"header\": {\"fill\": {\"color\": \"#C8D4E3\"}, \"line\": {\"color\": \"white\"}}, \"type\": \"table\"}]}, \"layout\": {\"annotationdefaults\": {\"arrowcolor\": \"#2a3f5f\", \"arrowhead\": 0, \"arrowwidth\": 1}, \"coloraxis\": {\"colorbar\": {\"outlinewidth\": 0, \"ticks\": \"\"}}, \"colorscale\": {\"diverging\": [[0, \"#8e0152\"], [0.1, \"#c51b7d\"], [0.2, \"#de77ae\"], [0.3, \"#f1b6da\"], [0.4, \"#fde0ef\"], [0.5, \"#f7f7f7\"], [0.6, \"#e6f5d0\"], [0.7, \"#b8e186\"], [0.8, \"#7fbc41\"], [0.9, \"#4d9221\"], [1, \"#276419\"]], \"sequential\": [[0.0, \"#0d0887\"], [0.1111111111111111, \"#46039f\"], [0.2222222222222222, \"#7201a8\"], [0.3333333333333333, \"#9c179e\"], [0.4444444444444444, \"#bd3786\"], [0.5555555555555556, \"#d8576b\"], [0.6666666666666666, \"#ed7953\"], [0.7777777777777778, \"#fb9f3a\"], [0.8888888888888888, \"#fdca26\"], [1.0, \"#f0f921\"]], \"sequentialminus\": [[0.0, \"#0d0887\"], [0.1111111111111111, \"#46039f\"], [0.2222222222222222, \"#7201a8\"], [0.3333333333333333, \"#9c179e\"], [0.4444444444444444, \"#bd3786\"], [0.5555555555555556, \"#d8576b\"], [0.6666666666666666, \"#ed7953\"], [0.7777777777777778, \"#fb9f3a\"], [0.8888888888888888, \"#fdca26\"], [1.0, \"#f0f921\"]]}, \"colorway\": [\"#636efa\", \"#EF553B\", \"#00cc96\", \"#ab63fa\", \"#FFA15A\", \"#19d3f3\", \"#FF6692\", \"#B6E880\", \"#FF97FF\", \"#FECB52\"], \"font\": {\"color\": \"#2a3f5f\"}, \"geo\": {\"bgcolor\": \"white\", \"lakecolor\": \"white\", \"landcolor\": \"#E5ECF6\", \"showlakes\": true, \"showland\": true, \"subunitcolor\": \"white\"}, \"hoverlabel\": {\"align\": \"left\"}, \"hovermode\": \"closest\", \"mapbox\": {\"style\": \"light\"}, \"paper_bgcolor\": \"white\", \"plot_bgcolor\": \"#E5ECF6\", \"polar\": {\"angularaxis\": {\"gridcolor\": \"white\", \"linecolor\": \"white\", \"ticks\": \"\"}, \"bgcolor\": \"#E5ECF6\", \"radialaxis\": {\"gridcolor\": \"white\", \"linecolor\": \"white\", \"ticks\": \"\"}}, \"scene\": {\"xaxis\": {\"backgroundcolor\": \"#E5ECF6\", \"gridcolor\": \"white\", \"gridwidth\": 2, \"linecolor\": \"white\", \"showbackground\": true, \"ticks\": \"\", \"zerolinecolor\": \"white\"}, \"yaxis\": {\"backgroundcolor\": \"#E5ECF6\", \"gridcolor\": \"white\", \"gridwidth\": 2, \"linecolor\": \"white\", \"showbackground\": true, \"ticks\": \"\", \"zerolinecolor\": \"white\"}, \"zaxis\": {\"backgroundcolor\": \"#E5ECF6\", \"gridcolor\": \"white\", \"gridwidth\": 2, \"linecolor\": \"white\", \"showbackground\": true, \"ticks\": \"\", \"zerolinecolor\": \"white\"}}, \"shapedefaults\": {\"line\": {\"color\": \"#2a3f5f\"}}, \"ternary\": {\"aaxis\": {\"gridcolor\": \"white\", \"linecolor\": \"white\", \"ticks\": \"\"}, \"baxis\": {\"gridcolor\": \"white\", \"linecolor\": \"white\", \"ticks\": \"\"}, \"bgcolor\": \"#E5ECF6\", \"caxis\": {\"gridcolor\": \"white\", \"linecolor\": \"white\", \"ticks\": \"\"}}, \"title\": {\"x\": 0.05}, \"xaxis\": {\"automargin\": true, \"gridcolor\": \"white\", \"linecolor\": \"white\", \"ticks\": \"\", \"title\": {\"standoff\": 15}, \"zerolinecolor\": \"white\", \"zerolinewidth\": 2}, \"yaxis\": {\"automargin\": true, \"gridcolor\": \"white\", \"linecolor\": \"white\", \"ticks\": \"\", \"title\": {\"standoff\": 15}, \"zerolinecolor\": \"white\", \"zerolinewidth\": 2}}}, \"width\": 500, \"xaxis\": {\"anchor\": \"y\", \"domain\": [0.0, 1.0], \"title\": {\"text\": \"X1\"}}, \"yaxis\": {\"anchor\": \"x\", \"domain\": [0.0, 1.0], \"title\": {\"text\": \"X2\"}}},\n",
       "                        {\"responsive\": true}\n",
       "                    ).then(function(){\n",
       "                            \n",
       "var gd = document.getElementById('972b2bf0-7cd6-4afc-a8bc-84aa1b948fed');\n",
       "var x = new MutationObserver(function (mutations, observer) {{\n",
       "        var display = window.getComputedStyle(gd).display;\n",
       "        if (!display || display === 'none') {{\n",
       "            console.log([gd, 'removed!']);\n",
       "            Plotly.purge(gd);\n",
       "            observer.disconnect();\n",
       "        }}\n",
       "}});\n",
       "\n",
       "// Listen for the removal of the full notebook cells\n",
       "var notebookContainer = gd.closest('#notebook-container');\n",
       "if (notebookContainer) {{\n",
       "    x.observe(notebookContainer, {childList: true});\n",
       "}}\n",
       "\n",
       "// Listen for the clearing of the current output cell\n",
       "var outputEl = gd.closest('.output');\n",
       "if (outputEl) {{\n",
       "    x.observe(outputEl, {childList: true});\n",
       "}}\n",
       "\n",
       "                        })\n",
       "                };\n",
       "                });\n",
       "            </script>\n",
       "        </div>"
      ]
     },
     "metadata": {},
     "output_type": "display_data"
    }
   ],
   "source": [
    "# 看一下数据分布\n",
    "fig = px.scatter(x=X1[:,0], y=X1[:,1], color=y1)\n",
    "fig.update_layout(height=500,width=500,xaxis=dict(title='X1'),yaxis=dict(title='X2'))\n",
    "fig.show()"
   ]
  },
  {
   "cell_type": "code",
   "execution_count": 67,
   "metadata": {},
   "outputs": [],
   "source": [
    "# 特征缩放（Feature Scaling）\n",
    "from sklearn.preprocessing import StandardScaler\n",
    "sc_X=StandardScaler()\n",
    "X1=sc_X.fit_transform(X1)"
   ]
  },
  {
   "cell_type": "code",
   "execution_count": 149,
   "metadata": {},
   "outputs": [
    {
     "data": {
      "text/plain": [
       "SVC(C=1.0, cache_size=200, class_weight=None, coef0=0.0,\n",
       "    decision_function_shape='ovr', degree=3, gamma='auto_deprecated',\n",
       "    kernel='linear', max_iter=-1, probability=False, random_state=0,\n",
       "    shrinking=True, tol=0.001, verbose=False)"
      ]
     },
     "execution_count": 149,
     "metadata": {},
     "output_type": "execute_result"
    }
   ],
   "source": [
    "# 利用SVM进行线性分类，C=1\n",
    "from sklearn.svm import SVC\n",
    "classifier = SVC(kernel=\"linear\",random_state=0)\n",
    "classifier.fit(X1,y1)"
   ]
  },
  {
   "cell_type": "code",
   "execution_count": 150,
   "metadata": {},
   "outputs": [
    {
     "name": "stdout",
     "output_type": "stream",
     "text": [
      "模型准确度： 98.04\n"
     ]
    }
   ],
   "source": [
    "# 看一下模型的准确度\n",
    "accuracy_1 = round(classifier.score(X1,y1) * 100, 2)\n",
    "print(\"模型准确度：\",accuracy_1)"
   ]
  },
  {
   "cell_type": "code",
   "execution_count": 153,
   "metadata": {},
   "outputs": [
    {
     "data": {
      "image/png": "[encoded data removed]",
      "text/plain": [
       "<Figure size 720x432 with 1 Axes>"
      ]
     },
     "metadata": {
      "needs_background": "light"
     },
     "output_type": "display_data"
    }
   ],
   "source": [
    "# 看一下分类效果\n",
    "# 因为plotly未找到3维等高线图绘制方法，故用matplotlib绘制\n",
    "import matplotlib.pyplot as plt\n",
    "from matplotlib.colors import ListedColormap\n",
    "X_set,y_set = X1,y1\n",
    "x1,x2 = np.meshgrid(np.arange(start = X_set[:,0].min()-1,stop = X_set[:,0].max()+1,step = 0.01),\\\n",
    "                    np.arange(start = X_set[:,1].min()-1,stop = X_set[:,1].max()+1,step = 0.01))\n",
    "z = classifier.predict(np.array([x1.ravel(),x2.ravel()]).T).reshape(x1.shape)\n",
    "plt.figure(figsize=(10,6))\n",
    "plt.contourf(x1,x2,z,alpha = 0.75, cmap=ListedColormap(('red','blue')))\n",
    "plt.xlim(x1.min(),x1.max())\n",
    "plt.ylim(x2.min(),x2.max())\n",
    "for i,j in enumerate(np.unique(y_set)):\n",
    "    plt.scatter(X_set[y_set==j,0],X_set[y_set==j,1],label = j,c=['green','white'][i],s=5)\n",
    "plt.legend()\n",
    "plt.show()"
   ]
  },
  {
   "cell_type": "markdown",
   "metadata": {},
   "source": [
    "* 可以看出，模型在分类时，忽略了一个异常值。"
   ]
  },
  {
   "cell_type": "code",
   "execution_count": 155,
   "metadata": {},
   "outputs": [
    {
     "data": {
      "text/plain": [
       "SVC(C=100, cache_size=200, class_weight=None, coef0=0.0,\n",
       "    decision_function_shape='ovr', degree=3, gamma='auto_deprecated',\n",
       "    kernel='linear', max_iter=-1, probability=False, random_state=0,\n",
       "    shrinking=True, tol=0.001, verbose=False)"
      ]
     },
     "execution_count": 155,
     "metadata": {},
     "output_type": "execute_result"
    }
   ],
   "source": [
    "# 我们来看看C=100时的情况\n",
    "classifier2 = SVC(kernel=\"linear\",C=100,random_state=0)\n",
    "classifier2.fit(X1,y1)"
   ]
  },
  {
   "cell_type": "code",
   "execution_count": 156,
   "metadata": {},
   "outputs": [
    {
     "name": "stdout",
     "output_type": "stream",
     "text": [
      "模型准确度： 100.0\n"
     ]
    }
   ],
   "source": [
    "# 看一下模型的准确度\n",
    "accuracy_2 = round(classifier2.score(X1,y1) * 100, 2)\n",
    "print(\"模型准确度：\",accuracy_2)"
   ]
  },
  {
   "cell_type": "code",
   "execution_count": 157,
   "metadata": {},
   "outputs": [
    {
     "data": {
      "image/png": "[encoded data removed]",
      "text/plain": [
       "<Figure size 720x432 with 1 Axes>"
      ]
     },
     "metadata": {
      "needs_background": "light"
     },
     "output_type": "display_data"
    }
   ],
   "source": [
    "# 看一下分类效果\n",
    "import matplotlib.pyplot as plt\n",
    "from matplotlib.colors import ListedColormap\n",
    "X_set,y_set = X1,y1\n",
    "x1,x2 = np.meshgrid(np.arange(start = X_set[:,0].min()-1,stop = X_set[:,0].max()+1,step = 0.01),\\\n",
    "                    np.arange(start = X_set[:,1].min()-1,stop = X_set[:,1].max()+1,step = 0.01))\n",
    "z = classifier2.predict(np.array([x1.ravel(),x2.ravel()]).T).reshape(x1.shape)\n",
    "plt.figure(figsize=(10,6))\n",
    "plt.contourf(x1,x2,z,alpha = 0.75, cmap=ListedColormap(('red','blue')))\n",
    "plt.xlim(x1.min(),x1.max())\n",
    "plt.ylim(x2.min(),x2.max())\n",
    "for i,j in enumerate(np.unique(y_set)):\n",
    "    plt.scatter(X_set[y_set==j,0],X_set[y_set==j,1],label = j,c=['green','white'][i],s=5)\n",
    "plt.legend()\n",
    "plt.show()"
   ]
  },
  {
   "cell_type": "markdown",
   "metadata": {},
   "source": [
    "* C增加到100，我们得到了100%正确的模型，但该模型出现了过度拟合的问题，泛化能力减弱。\n",
    "* 我们可以得到结论是：由于C是正则化参数的倒数，当：\n",
    "    * C过大时，正则化弱化，模型容易出现高方差、过拟合的问题\n",
    "    * C过小时，正则化加强，模型容易出现高偏差、欠拟合的问题。"
   ]
  },
  {
   "cell_type": "markdown",
   "metadata": {},
   "source": [
    "# 2.高斯内核支持向量机"
   ]
  },
  {
   "cell_type": "code",
   "execution_count": 4,
   "metadata": {},
   "outputs": [
    {
     "data": {
      "text/plain": [
       "dict_keys(['__header__', '__version__', '__globals__', 'X', 'y'])"
      ]
     },
     "execution_count": 4,
     "metadata": {},
     "output_type": "execute_result"
    }
   ],
   "source": [
    "data2 = sio.loadmat(r'dataset（数据集）\\ex6data2.mat')\n",
    "data2.keys()"
   ]
  },
  {
   "cell_type": "code",
   "execution_count": 172,
   "metadata": {},
   "outputs": [
    {
     "data": {
      "text/plain": [
       "((863, 2), (863,))"
      ]
     },
     "execution_count": 172,
     "metadata": {},
     "output_type": "execute_result"
    }
   ],
   "source": [
    "X2 = data2['X']\n",
    "y2 = data2['y'].reshape(data2['y'].shape[0])\n",
    "X2.shape,y2.shape"
   ]
  },
  {
   "cell_type": "code",
   "execution_count": 173,
   "metadata": {},
   "outputs": [
    {
     "data": {
      "text/plain": [
       "(False, False)"
      ]
     },
     "execution_count": 173,
     "metadata": {},
     "output_type": "execute_result"
    }
   ],
   "source": [
    "# 查看是否有缺失值\n",
    "np.isnan(X2).any(),np.isnan(y2).any()"
   ]
  },
  {
   "cell_type": "code",
   "execution_count": 161,
   "metadata": {},
   "outputs": [
    {
     "data": {
      "application/vnd.plotly.v1+json": {
       "config": {
        "plotlyServerURL": "https://plot.ly"
       },
       "data": [
        {
         "hoverlabel": {
          "namelength": 0
         },
         "hovertemplate": "color=1<br>x=%{x}<br>y=%{y}",
         "legendgroup": "1",
         "marker": {
          "color": "#636efa",
          "symbol": "circle"
         },
         "mode": "markers",
         "name": "1",
         "showlegend": true,
         "type": "scatter",
         "x": [
          0.107143,
          0.093318,
          0.0979263,
          0.15553,
          0.210829,
          0.328341,
          0.429724,
          0.620968,
          0.756912,
          0.819124,
          0.809908,
          0.75,
          0.773041,
          0.770737,
          0.766129,
          0.779954,
          0.75,
          0.761521,
          0.814516,
          0.814516,
          0.563364,
          0.49424,
          0.480415,
          0.448157,
          0.425115,
          0.450461,
          0.510369,
          0.498848,
          0.351382,
          0.273041,
          0.233871,
          0.215438,
          0.134793,
          0.0748848,
          0.0587558,
          0.10023,
          0.120968,
          0.132488,
          0.137097,
          0.116359,
          0.104839,
          0.107143,
          0.0910138,
          0.0679724,
          0.0679724,
          0.093318,
          0.162442,
          0.178571,
          0.144009,
          0.109447,
          0.146313,
          0.148618,
          0.160138,
          0.123272,
          0.104839,
          0.0817972,
          0.0587558,
          0.0956221,
          0.144009,
          0.169355,
          0.164747,
          0.118664,
          0.162442,
          0.236175,
          0.27765,
          0.298387,
          0.337558,
          0.342166,
          0.293779,
          0.259217,
          0.252304,
          0.213134,
          0.203917,
          0.192396,
          0.362903,
          0.418203,
          0.429724,
          0.390553,
          0.390553,
          0.418203,
          0.413594,
          0.41129,
          0.457373,
          0.46659,
          0.508065,
          0.521889,
          0.434332,
          0.448157,
          0.464286,
          0.508065,
          0.524194,
          0.567972,
          0.586406,
          0.591014,
          0.625576,
          0.662442,
          0.690092,
          0.68318,
          0.740783,
          0.766129,
          0.715438,
          0.729263,
          0.745392,
          0.738479,
          0.738479,
          0.779954,
          0.8053,
          0.796083,
          0.782258,
          0.766129,
          0.720046,
          0.738479,
          0.740783,
          0.715438,
          0.676267,
          0.637097,
          0.680876,
          0.740783,
          0.756912,
          0.77765,
          0.832949,
          0.779954,
          0.77765,
          0.770737,
          0.671659,
          0.574885,
          0.544931,
          0.503456,
          0.443548,
          0.390553,
          0.337558,
          0.369816,
          0.436636,
          0.535714,
          0.457373,
          0.422811,
          0.408986,
          0.367512,
          0.314516,
          0.332949,
          0.457373,
          0.508065,
          0.473502,
          0.538018,
          0.697005,
          0.75,
          0.800691,
          0.823733,
          0.710829,
          0.701613,
          0.637097,
          0.593318,
          0.563364,
          0.540323,
          0.510369,
          0.501152,
          0.480415,
          0.432028,
          0.404378,
          0.365207,
          0.314516,
          0.27765,
          0.263825,
          0.236175,
          0.22235,
          0.1947,
          0.171659,
          0.176267,
          0.18318,
          0.160138,
          0.111751,
          0.0887097,
          0.093318,
          0.125576,
          0.162442,
          0.12788,
          0.134793,
          0.185484,
          0.192396,
          0.132488,
          0.10023,
          0.0748848,
          0.0702765,
          0.093318,
          0.10023,
          0.0656682,
          0.0817972,
          0.0979263,
          0.821429,
          0.858295,
          0.814516,
          0.789171,
          0.791475,
          0.540323,
          0.623272,
          0.650922,
          0.692396,
          0.639401,
          0.549539,
          0.540323,
          0.565668,
          0.632488,
          0.703917,
          0.75,
          0.8053,
          0.837558,
          0.867512,
          0.904378,
          0.952765,
          0.975806,
          0.968894,
          0.927419,
          0.881336,
          0.851382,
          0.807604,
          0.800691,
          0.860599,
          0.908986,
          0.920507,
          0.955069,
          0.96659,
          0.968894,
          0.897465,
          0.851382,
          0.851382,
          0.855991,
          0.828341,
          0.60023,
          0.60023,
          0.482719,
          0.254608,
          0.226959,
          0.160138,
          0.176267,
          0.111751,
          0.0748848,
          0.0541475,
          0.0449309,
          0.111751,
          0.104839,
          0.153226,
          0.199309,
          0.0610599,
          0.0564516,
          0.0748848,
          0.093318,
          0.62788,
          0.563364,
          0.618664,
          0.607143,
          0.58871,
          0.577189,
          0.584101,
          0.611751,
          0.623272,
          0.623272,
          0.597926,
          0.554147,
          0.544931,
          0.544931,
          0.570276,
          0.595622,
          0.597926,
          0.630184,
          0.657834,
          0.703917,
          0.706221,
          0.701613,
          0.664747,
          0.644009,
          0.644009,
          0.644009,
          0.637097,
          0.634793,
          0.58871,
          0.551843,
          0.56106,
          0.577189,
          0.551843,
          0.547235,
          0.547235,
          0.593318,
          0.669355,
          0.673963,
          0.662442,
          0.662442,
          0.641705,
          0.664747,
          0.579493,
          0.544931,
          0.547235,
          0.604839,
          0.650922,
          0.164747,
          0.150922,
          0.141705,
          0.134793,
          0.12788,
          0.0841014,
          0.0679724,
          0.123272,
          0.0817972,
          0.137097,
          0.137097,
          0.150922,
          0.148618,
          0.213134,
          0.141705,
          0.169355,
          0.0771889,
          0.0564516,
          0.0864055,
          0.0702765,
          0.0633641,
          0.0541475,
          0.0518433,
          0.0817972,
          0.153226,
          0.208525,
          0.180876,
          0.118664,
          0.164747,
          0.171659,
          0.15553,
          0.132488,
          0.125576,
          0.178571,
          0.22235,
          0.229263,
          0.201613,
          0.173963,
          0.141705,
          0.137097,
          0.0771889,
          0.0748848,
          0.132488,
          0.192396,
          0.0748848,
          0.116359,
          0.125576,
          0.0910138,
          0.150922,
          0.203917,
          0.266129,
          0.321429,
          0.50576,
          0.482719,
          0.508065,
          0.485023,
          0.478111,
          0.478111,
          0.459677,
          0.459677,
          0.478111,
          0.459677,
          0.461982,
          0.473502,
          0.475806,
          0.448157,
          0.496544,
          0.514977,
          0.478111,
          0.475806,
          0.436636,
          0.468894,
          0.554147,
          0.514977,
          0.510369,
          0.517281,
          0.554147,
          0.554147,
          0.540323,
          0.528802,
          0.503456,
          0.491935,
          0.517281,
          0.526498,
          0.540323,
          0.517281,
          0.496544,
          0.489631,
          0.473502,
          0.487327,
          0.508065,
          0.514977,
          0.450461,
          0.475806,
          0.473502,
          0.457373,
          0.450461,
          0.487327,
          0.53341,
          0.538018,
          0.528802,
          0.512673,
          0.185484,
          0.208525,
          0.190092,
          0.187788,
          0.190092,
          0.197005,
          0.1947,
          0.176267,
          0.146313,
          0.132488,
          0.157834,
          0.164747,
          0.118664,
          0.12788,
          0.160138,
          0.173963,
          0.157834,
          0.18318,
          0.206221,
          0.215438,
          0.226959,
          0.116359,
          0.116359,
          0.137097,
          0.10023,
          0.213134,
          0.261521,
          0.252304,
          0.710829,
          0.662442,
          0.6947,
          0.715438,
          0.37212,
          0.374424,
          0.415899,
          0.961982,
          0.927419,
          0.927419,
          0.948157,
          0.961982,
          0.957373,
          0.915899,
          0.915899,
          0.922811,
          0.925115,
          0.936636,
          0.968894,
          0.998848,
          0.959677,
          0.955069,
          0.941244,
          0.918203,
          0.91129,
          0.913594,
          0.906682,
          0.879032,
          0.874424,
          0.927419,
          0.948157,
          0.961982,
          0.96659,
          0.96659,
          0.948157,
          0.934332,
          0.948157,
          0.964286,
          0.989631,
          0.987327,
          0.96659,
          0.959677,
          0.904378,
          0.915899,
          0.922811,
          0.91129,
          0.890553,
          0.874424,
          0.897465,
          0.913594,
          0.968894,
          0.985023,
          0.99424,
          0.964286,
          0.975806,
          0.989631,
          0.996544
         ],
         "xaxis": "x",
         "y": [
          0.60307,
          0.649854,
          0.705409,
          0.784357,
          0.866228,
          0.929094,
          0.934942,
          0.934942,
          0.910088,
          0.879386,
          0.836988,
          0.819444,
          0.854532,
          0.88962,
          0.899854,
          0.835526,
          0.791667,
          0.765351,
          0.832602,
          0.885234,
          0.921784,
          0.899854,
          0.863304,
          0.819444,
          0.857456,
          0.899854,
          0.937865,
          0.945175,
          0.934942,
          0.901316,
          0.861842,
          0.858918,
          0.861842,
          0.872076,
          0.872076,
          0.83845,
          0.83114,
          0.813596,
          0.774123,
          0.749269,
          0.727339,
          0.699561,
          0.65424,
          0.633772,
          0.623538,
          0.585526,
          0.579678,
          0.59576,
          0.642544,
          0.645468,
          0.703947,
          0.741959,
          0.777047,
          0.791667,
          0.815058,
          0.82383,
          0.88231,
          0.894006,
          0.88962,
          0.864766,
          0.844298,
          0.839912,
          0.883772,
          0.899854,
          0.936404,
          0.955409,
          0.961257,
          0.958333,
          0.93348,
          0.924708,
          0.942251,
          0.921784,
          0.891082,
          0.880848,
          0.961257,
          0.964181,
          0.967105,
          0.942251,
          0.936404,
          0.923246,
          0.901316,
          0.888158,
          0.864766,
          0.848684,
          0.907164,
          0.927632,
          0.93348,
          0.958333,
          0.972953,
          0.956871,
          0.934942,
          0.927632,
          0.955409,
          0.958333,
          0.952485,
          0.949561,
          0.936404,
          0.923246,
          0.91886,
          0.914474,
          0.892544,
          0.88962,
          0.875,
          0.850146,
          0.839912,
          0.81652,
          0.798977,
          0.790205,
          0.763889,
          0.756579,
          0.842836,
          0.88962,
          0.923246,
          0.939327,
          0.940789,
          0.921784,
          0.915936,
          0.915936,
          0.937865,
          0.951023,
          0.91886,
          0.872076,
          0.85307,
          0.92617,
          0.955409,
          0.946637,
          0.929094,
          0.914474,
          0.923246,
          0.930556,
          0.92617,
          0.923246,
          0.910088,
          0.959795,
          0.959795,
          0.939327,
          0.905702,
          0.908626,
          0.920322,
          0.924708,
          0.923246,
          0.914474,
          0.949561,
          0.962719,
          0.955409,
          0.951023,
          0.913012,
          0.864766,
          0.861842,
          0.886696,
          0.910088,
          0.917398,
          0.917398,
          0.910088,
          0.883772,
          0.863304,
          0.841374,
          0.855994,
          0.876462,
          0.898392,
          0.898392,
          0.895468,
          0.891082,
          0.875,
          0.86038,
          0.850146,
          0.834064,
          0.819444,
          0.787281,
          0.753655,
          0.747807,
          0.739035,
          0.701023,
          0.68348,
          0.65424,
          0.630848,
          0.58845,
          0.58845,
          0.625,
          0.664474,
          0.670322,
          0.671784,
          0.705409,
          0.721491,
          0.752193,
          0.759503,
          0.774123,
          0.774123,
          0.89693,
          0.84576,
          0.820906,
          0.798977,
          0.749269,
          0.899854,
          0.895468,
          0.891082,
          0.88231,
          0.877924,
          0.886696,
          0.892544,
          0.908626,
          0.915936,
          0.907164,
          0.875,
          0.793129,
          0.779971,
          0.775585,
          0.772661,
          0.774123,
          0.777047,
          0.801901,
          0.803363,
          0.800439,
          0.806287,
          0.84576,
          0.866228,
          0.850146,
          0.836988,
          0.826754,
          0.822368,
          0.822368,
          0.820906,
          0.819444,
          0.788743,
          0.785819,
          0.839912,
          0.850146,
          0.940789,
          0.940789,
          0.930556,
          0.951023,
          0.899854,
          0.891082,
          0.86038,
          0.866228,
          0.885234,
          0.883772,
          0.914474,
          0.913012,
          0.89693,
          0.885234,
          0.883772,
          0.91155,
          0.89693,
          0.879386,
          0.858918,
          0.591374,
          0.59576,
          0.600146,
          0.622076,
          0.620614,
          0.594298,
          0.576754,
          0.56652,
          0.562135,
          0.557749,
          0.554825,
          0.547515,
          0.535819,
          0.532895,
          0.528509,
          0.527047,
          0.527047,
          0.529971,
          0.529971,
          0.527047,
          0.516813,
          0.510965,
          0.535819,
          0.563596,
          0.575292,
          0.58845,
          0.607456,
          0.616228,
          0.619152,
          0.607456,
          0.594298,
          0.541667,
          0.522661,
          0.510965,
          0.508041,
          0.516813,
          0.522661,
          0.524123,
          0.56652,
          0.56652,
          0.535819,
          0.516813,
          0.562135,
          0.570906,
          0.578216,
          0.59576,
          0.59576,
          0.812135,
          0.847222,
          0.81652,
          0.84576,
          0.877924,
          0.86038,
          0.826754,
          0.790205,
          0.801901,
          0.760965,
          0.712719,
          0.749269,
          0.673246,
          0.629386,
          0.59576,
          0.626462,
          0.623538,
          0.684942,
          0.740497,
          0.765351,
          0.820906,
          0.762427,
          0.695175,
          0.648392,
          0.594298,
          0.582602,
          0.693713,
          0.572368,
          0.546053,
          0.529971,
          0.491959,
          0.548684,
          0.587573,
          0.575292,
          0.542544,
          0.567105,
          0.622368,
          0.620322,
          0.536404,
          0.509795,
          0.577339,
          0.59576,
          0.569152,
          0.540497,
          0.548684,
          0.544591,
          0.679678,
          0.769737,
          0.861842,
          0.927339,
          0.93348,
          0.93962,
          0.851754,
          0.818421,
          0.813158,
          0.795614,
          0.772807,
          0.746491,
          0.746491,
          0.762281,
          0.786842,
          0.80614,
          0.832456,
          0.874561,
          0.911404,
          0.900877,
          0.857018,
          0.818421,
          0.772807,
          0.730702,
          0.753509,
          0.764035,
          0.499123,
          0.516667,
          0.504386,
          0.495614,
          0.490351,
          0.476316,
          0.472807,
          0.486842,
          0.485088,
          0.465789,
          0.462281,
          0.458772,
          0.439474,
          0.435965,
          0.42193,
          0.418421,
          0.416667,
          0.448246,
          0.45,
          0.488596,
          0.455263,
          0.435965,
          0.420175,
          0.411404,
          0.409649,
          0.458772,
          0.535965,
          0.572807,
          0.535965,
          0.499123,
          0.511404,
          0.527193,
          0.520175,
          0.497368,
          0.479825,
          0.45,
          0.427193,
          0.407895,
          0.402632,
          0.441228,
          0.464035,
          0.464035,
          0.488596,
          0.509649,
          0.467544,
          0.432456,
          0.425439,
          0.420175,
          0.479825,
          0.516667,
          0.532456,
          0.525439,
          0.485088,
          0.455263,
          0.444737,
          0.483333,
          0.535965,
          0.553509,
          0.981579,
          0.969298,
          0.986842,
          0.958772,
          0.988596,
          0.967544,
          0.971053,
          0.579825,
          0.592105,
          0.572807,
          0.569298,
          0.55,
          0.557018,
          0.557018,
          0.557018,
          0.528947,
          0.514912,
          0.499123,
          0.490351,
          0.514912,
          0.542982,
          0.528947,
          0.500877,
          0.486842,
          0.481579,
          0.465789,
          0.442982,
          0.42193,
          0.407895,
          0.407895,
          0.411404,
          0.413158,
          0.425439,
          0.434211,
          0.434211,
          0.435965,
          0.469298,
          0.474561,
          0.453509,
          0.435965,
          0.516667,
          0.557018,
          0.560526,
          0.525439,
          0.49386,
          0.453509,
          0.444737,
          0.507895,
          0.527193,
          0.537719,
          0.565789,
          0.579825,
          0.516667,
          0.472807,
          0.439474,
          0.425439,
          0.414912
         ],
         "yaxis": "y"
        },
        {
         "hoverlabel": {
          "namelength": 0
         },
         "hovertemplate": "color=0<br>x=%{x}<br>y=%{y}",
         "legendgroup": "0",
         "marker": {
          "color": "#EF553B",
          "symbol": "circle"
         },
         "mode": "markers",
         "name": "0",
         "showlegend": true,
         "type": "scatter",
         "x": [
          0.37212,
          0.351382,
          0.3053,
          0.323733,
          0.289171,
          0.27765,
          0.293779,
          0.298387,
          0.31682,
          0.353687,
          0.353687,
          0.3053,
          0.291475,
          0.261521,
          0.268433,
          0.270737,
          0.247696,
          0.259217,
          0.261521,
          0.233871,
          0.229263,
          0.266129,
          0.302995,
          0.293779,
          0.268433,
          0.282258,
          0.312212,
          0.349078,
          0.351382,
          0.379032,
          0.420507,
          0.379032,
          0.346774,
          0.337558,
          0.346774,
          0.360599,
          0.319124,
          0.328341,
          0.335253,
          0.307604,
          0.3053,
          0.319124,
          0.335253,
          0.360599,
          0.388249,
          0.404378,
          0.413594,
          0.374424,
          0.365207,
          0.367512,
          0.369816,
          0.346774,
          0.332949,
          0.332949,
          0.358295,
          0.353687,
          0.367512,
          0.395161,
          0.385945,
          0.43894,
          0.422811,
          0.450461,
          0.464286,
          0.471198,
          0.461982,
          0.436636,
          0.406682,
          0.374424,
          0.358295,
          0.367512,
          0.406682,
          0.422811,
          0.485023,
          0.480415,
          0.508065,
          0.514977,
          0.526498,
          0.558756,
          0.574885,
          0.593318,
          0.641705,
          0.678571,
          0.703917,
          0.726959,
          0.738479,
          0.779954,
          0.789171,
          0.784562,
          0.784562,
          0.75,
          0.738479,
          0.729263,
          0.678571,
          0.664747,
          0.591014,
          0.549539,
          0.531106,
          0.49424,
          0.441244,
          0.427419,
          0.397465,
          0.397465,
          0.46659,
          0.508065,
          0.508065,
          0.547235,
          0.584101,
          0.611751,
          0.669355,
          0.634793,
          0.710829,
          0.692396,
          0.747696,
          0.729263,
          0.736175,
          0.743088,
          0.773041,
          0.747696,
          0.761521,
          0.807604,
          0.812212,
          0.830645,
          0.823733,
          0.793779,
          0.77765,
          0.756912,
          0.740783,
          0.72235,
          0.657834,
          0.644009,
          0.593318,
          0.353687,
          0.309908,
          0.270737,
          0.300691,
          0.392857,
          0.404378,
          0.420507,
          0.445853,
          0.464286,
          0.374424,
          0.425115,
          0.369816,
          0.480415,
          0.429724,
          0.554147,
          0.620968,
          0.616359,
          0.662442,
          0.68318,
          0.692396,
          0.720046,
          0.726959,
          0.680876,
          0.65553,
          0.620968,
          0.591014,
          0.567972,
          0.567972,
          0.565668,
          0.388249,
          0.369816,
          0.312212,
          0.312212,
          0.273041,
          0.3053,
          0.312212,
          0.254608,
          0.289171,
          0.273041,
          0.296083,
          0.34447,
          0.367512,
          0.392857,
          0.388249,
          0.406682,
          0.390553,
          0.402074,
          0.358295,
          0.339862,
          0.351382,
          0.3053,
          0.240783,
          0.282258,
          0.487327,
          0.519585,
          0.586406,
          0.634793,
          0.648618,
          0.664747,
          0.699309,
          0.752304,
          0.784562,
          0.802995,
          0.830645,
          0.609447,
          0.611751,
          0.574885,
          0.544931,
          0.558756,
          0.58871,
          0.595622,
          0.602535,
          0.570276,
          0.563364,
          0.577189,
          0.60023,
          0.618664,
          0.646313,
          0.637097,
          0.648618,
          0.650922,
          0.660138,
          0.660138,
          0.669355,
          0.634793,
          0.602535,
          0.604839,
          0.616359,
          0.657834,
          0.680876,
          0.697005,
          0.708525,
          0.736175,
          0.729263,
          0.8053,
          0.828341,
          0.855991,
          0.927419,
          0.975806,
          0.980415,
          0.89977,
          0.87212,
          0.849078,
          0.814516,
          0.784562,
          0.775346,
          0.775346,
          0.745392,
          0.809908,
          0.858295,
          0.862903,
          0.922811,
          0.941244,
          0.989631,
          0.987327,
          0.918203,
          0.842166,
          0.809908,
          0.726959,
          0.690092,
          0.690092,
          0.579493,
          0.473502,
          0.434332,
          0.25,
          0.224654,
          0.383641,
          0.353687,
          0.369816,
          0.355991,
          0.34447,
          0.349078,
          0.381336,
          0.381336,
          0.379032,
          0.385945,
          0.415899,
          0.413594,
          0.404378,
          0.41129,
          0.404378,
          0.395161,
          0.397465,
          0.408986,
          0.789171,
          0.807604,
          0.8053,
          0.784562,
          0.782258,
          0.830645,
          0.839862,
          0.823733,
          0.839862,
          0.839862,
          0.832949,
          0.842166,
          0.860599,
          0.812212,
          0.798387,
          0.802995,
          0.775346,
          0.736175,
          0.782258,
          0.782258,
          0.759217,
          0.745392,
          0.740783,
          0.733871,
          0.699309,
          0.697005,
          0.692396,
          0.676267,
          0.657834,
          0.657834,
          0.644009,
          0.648618,
          0.618664,
          0.558756,
          0.554147,
          0.591014,
          0.609447,
          0.620968,
          0.62788,
          0.644009,
          0.662442,
          0.680876,
          0.632488,
          0.58871,
          0.581797,
          0.570276,
          0.558756,
          0.226959,
          0.247696,
          0.273041,
          0.291475,
          0.22235,
          0.224654,
          0.203917,
          0.185484,
          0.206221,
          0.245392,
          0.22235,
          0.226959,
          0.259217,
          0.224654,
          0.203917,
          0.199309,
          0.233871,
          0.256912,
          0.254608,
          0.266129,
          0.243088,
          0.233871,
          0.240783,
          0.273041,
          0.289171,
          0.302995,
          0.319124,
          0.337558,
          0.362903,
          0.374424,
          0.604839,
          0.570276,
          0.563364,
          0.623272,
          0.664747,
          0.664747,
          0.687788,
          0.717742,
          0.738479,
          0.740783,
          0.710829,
          0.685484,
          0.68318,
          0.687788,
          0.687788,
          0.669355,
          0.65553,
          0.639401,
          0.639401,
          0.584101,
          0.563364,
          0.547235,
          0.567972,
          0.581797,
          0.595622,
          0.625576,
          0.648618,
          0.637097,
          0.641705,
          0.667051,
          0.706221
         ],
         "xaxis": "x",
         "y": [
          0.851608,
          0.863304,
          0.854532,
          0.841374,
          0.834064,
          0.829678,
          0.810673,
          0.801901,
          0.841374,
          0.834064,
          0.82383,
          0.804825,
          0.784357,
          0.800439,
          0.800439,
          0.81652,
          0.806287,
          0.781433,
          0.778509,
          0.762427,
          0.725877,
          0.706871,
          0.696637,
          0.679094,
          0.66155,
          0.652778,
          0.644006,
          0.626462,
          0.605994,
          0.58114,
          0.553363,
          0.529971,
          0.518275,
          0.525585,
          0.565058,
          0.584064,
          0.620614,
          0.66886,
          0.682018,
          0.730263,
          0.763889,
          0.809211,
          0.820906,
          0.828216,
          0.822368,
          0.798977,
          0.788743,
          0.768275,
          0.765351,
          0.777047,
          0.800439,
          0.798977,
          0.779971,
          0.739035,
          0.690789,
          0.66155,
          0.63962,
          0.61769,
          0.608918,
          0.591374,
          0.572368,
          0.534357,
          0.538743,
          0.591374,
          0.629386,
          0.648392,
          0.67617,
          0.702485,
          0.762427,
          0.739035,
          0.667398,
          0.611842,
          0.598684,
          0.614766,
          0.63231,
          0.649854,
          0.660088,
          0.667398,
          0.674708,
          0.67617,
          0.66155,
          0.63962,
          0.616228,
          0.586988,
          0.557749,
          0.528509,
          0.527047,
          0.556287,
          0.597222,
          0.642544,
          0.66155,
          0.673246,
          0.693713,
          0.696637,
          0.706871,
          0.692251,
          0.674708,
          0.65424,
          0.652778,
          0.66886,
          0.698099,
          0.702485,
          0.67617,
          0.682018,
          0.684942,
          0.705409,
          0.709795,
          0.714181,
          0.711257,
          0.68348,
          0.684942,
          0.664474,
          0.655702,
          0.63231,
          0.607456,
          0.594298,
          0.582602,
          0.553363,
          0.543129,
          0.537281,
          0.546053,
          0.576754,
          0.585526,
          0.625,
          0.641082,
          0.652778,
          0.671784,
          0.686404,
          0.686404,
          0.686404,
          0.674708,
          0.714181,
          0.774123,
          0.744883,
          0.698099,
          0.673246,
          0.65424,
          0.638158,
          0.616228,
          0.604532,
          0.563596,
          0.528509,
          0.509503,
          0.642544,
          0.66886,
          0.679094,
          0.705409,
          0.739035,
          0.722953,
          0.705409,
          0.651316,
          0.641082,
          0.667398,
          0.695175,
          0.711257,
          0.722953,
          0.718567,
          0.687865,
          0.66155,
          0.648392,
          0.645468,
          0.693713,
          0.706871,
          0.728801,
          0.712719,
          0.740497,
          0.753655,
          0.756579,
          0.741959,
          0.717105,
          0.687865,
          0.665936,
          0.651316,
          0.652778,
          0.608918,
          0.591374,
          0.563596,
          0.541667,
          0.543129,
          0.611842,
          0.689327,
          0.733187,
          0.749269,
          0.765351,
          0.667398,
          0.677632,
          0.686404,
          0.712719,
          0.728801,
          0.730263,
          0.701023,
          0.633772,
          0.551901,
          0.538743,
          0.532895,
          0.81652,
          0.785819,
          0.756579,
          0.727339,
          0.718567,
          0.722953,
          0.733187,
          0.752193,
          0.765351,
          0.777047,
          0.796053,
          0.813596,
          0.825292,
          0.796053,
          0.765351,
          0.739035,
          0.743421,
          0.741959,
          0.740497,
          0.752193,
          0.782895,
          0.775585,
          0.771199,
          0.755117,
          0.747807,
          0.740497,
          0.705409,
          0.674708,
          0.644006,
          0.692251,
          0.692251,
          0.692251,
          0.689327,
          0.674708,
          0.648392,
          0.636696,
          0.629386,
          0.620614,
          0.644006,
          0.65424,
          0.673246,
          0.684942,
          0.686404,
          0.692251,
          0.671784,
          0.679094,
          0.66155,
          0.657164,
          0.638158,
          0.638158,
          0.64693,
          0.679094,
          0.673246,
          0.658626,
          0.702485,
          0.703947,
          0.725877,
          0.737573,
          0.689327,
          0.674708,
          0.687865,
          0.722953,
          0.485088,
          0.471053,
          0.451754,
          0.435965,
          0.42193,
          0.411404,
          0.428947,
          0.455263,
          0.492105,
          0.514912,
          0.535965,
          0.516667,
          0.500877,
          0.474561,
          0.45,
          0.434211,
          0.423684,
          0.416667,
          0.523684,
          0.488596,
          0.47807,
          0.441228,
          0.425439,
          0.42193,
          0.441228,
          0.465789,
          0.499123,
          0.52193,
          0.553509,
          0.574561,
          0.586842,
          0.511404,
          0.502632,
          0.476316,
          0.428947,
          0.416667,
          0.469298,
          0.460526,
          0.45,
          0.451754,
          0.446491,
          0.439474,
          0.448246,
          0.465789,
          0.465789,
          0.464035,
          0.458772,
          0.458772,
          0.455263,
          0.437719,
          0.423684,
          0.414912,
          0.416667,
          0.441228,
          0.448246,
          0.471053,
          0.47807,
          0.47807,
          0.474561,
          0.474561,
          0.474561,
          0.451754,
          0.432456,
          0.411404,
          0.40614,
          0.792105,
          0.834211,
          0.858772,
          0.862281,
          0.813158,
          0.797368,
          0.774561,
          0.755263,
          0.728947,
          0.723684,
          0.70614,
          0.695614,
          0.681579,
          0.660526,
          0.648246,
          0.655263,
          0.697368,
          0.727193,
          0.665789,
          0.641228,
          0.635965,
          0.618421,
          0.613158,
          0.625439,
          0.625439,
          0.614912,
          0.600877,
          0.585088,
          0.548246,
          0.528947,
          0.844737,
          0.816667,
          0.804386,
          0.814912,
          0.804386,
          0.783333,
          0.748246,
          0.716667,
          0.702632,
          0.735965,
          0.737719,
          0.765789,
          0.776316,
          0.802632,
          0.820175,
          0.837719,
          0.844737,
          0.818421,
          0.839474,
          0.839474,
          0.797368,
          0.772807,
          0.842982,
          0.869298,
          0.871053,
          0.869298,
          0.857018,
          0.839474,
          0.804386,
          0.857018,
          0.82193
         ],
         "yaxis": "y"
        }
       ],
       "layout": {
        "height": 500,
        "legend": {
         "title": {
          "text": "color"
         },
         "tracegroupgap": 0
        },
        "margin": {
         "t": 60
        },
        "template": {
         "data": {
          "bar": [
           {
            "error_x": {
             "color": "#2a3f5f"
            },
            "error_y": {
             "color": "#2a3f5f"
            },
            "marker": {
             "line": {
              "color": "#E5ECF6",
              "width": 0.5
             }
            },
            "type": "bar"
           }
          ],
          "barpolar": [
           {
            "marker": {
             "line": {
              "color": "#E5ECF6",
              "width": 0.5
             }
            },
            "type": "barpolar"
           }
          ],
          "carpet": [
           {
            "aaxis": {
             "endlinecolor": "#2a3f5f",
             "gridcolor": "white",
             "linecolor": "white",
             "minorgridcolor": "white",
             "startlinecolor": "#2a3f5f"
            },
            "baxis": {
             "endlinecolor": "#2a3f5f",
             "gridcolor": "white",
             "linecolor": "white",
             "minorgridcolor": "white",
             "startlinecolor": "#2a3f5f"
            },
            "type": "carpet"
           }
          ],
          "choropleth": [
           {
            "colorbar": {
             "outlinewidth": 0,
             "ticks": ""
            },
            "type": "choropleth"
           }
          ],
          "contour": [
           {
            "colorbar": {
             "outlinewidth": 0,
             "ticks": ""
            },
            "colorscale": [
             [
              0,
              "#0d0887"
             ],
             [
              0.1111111111111111,
              "#46039f"
             ],
             [
              0.2222222222222222,
              "#7201a8"
             ],
             [
              0.3333333333333333,
              "#9c179e"
             ],
             [
              0.4444444444444444,
              "#bd3786"
             ],
             [
              0.5555555555555556,
              "#d8576b"
             ],
             [
              0.6666666666666666,
              "#ed7953"
             ],
             [
              0.7777777777777778,
              "#fb9f3a"
             ],
             [
              0.8888888888888888,
              "#fdca26"
             ],
             [
              1,
              "#f0f921"
             ]
            ],
            "type": "contour"
           }
          ],
          "contourcarpet": [
           {
            "colorbar": {
             "outlinewidth": 0,
             "ticks": ""
            },
            "type": "contourcarpet"
           }
          ],
          "heatmap": [
           {
            "colorbar": {
             "outlinewidth": 0,
             "ticks": ""
            },
            "colorscale": [
             [
              0,
              "#0d0887"
             ],
             [
              0.1111111111111111,
              "#46039f"
             ],
             [
              0.2222222222222222,
              "#7201a8"
             ],
             [
              0.3333333333333333,
              "#9c179e"
             ],
             [
              0.4444444444444444,
              "#bd3786"
             ],
             [
              0.5555555555555556,
              "#d8576b"
             ],
             [
              0.6666666666666666,
              "#ed7953"
             ],
             [
              0.7777777777777778,
              "#fb9f3a"
             ],
             [
              0.8888888888888888,
              "#fdca26"
             ],
             [
              1,
              "#f0f921"
             ]
            ],
            "type": "heatmap"
           }
          ],
          "heatmapgl": [
           {
            "colorbar": {
             "outlinewidth": 0,
             "ticks": ""
            },
            "colorscale": [
             [
              0,
              "#0d0887"
             ],
             [
              0.1111111111111111,
              "#46039f"
             ],
             [
              0.2222222222222222,
              "#7201a8"
             ],
             [
              0.3333333333333333,
              "#9c179e"
             ],
             [
              0.4444444444444444,
              "#bd3786"
             ],
             [
              0.5555555555555556,
              "#d8576b"
             ],
             [
              0.6666666666666666,
              "#ed7953"
             ],
             [
              0.7777777777777778,
              "#fb9f3a"
             ],
             [
              0.8888888888888888,
              "#fdca26"
             ],
             [
              1,
              "#f0f921"
             ]
            ],
            "type": "heatmapgl"
           }
          ],
          "histogram": [
           {
            "marker": {
             "colorbar": {
              "outlinewidth": 0,
              "ticks": ""
             }
            },
            "type": "histogram"
           }
          ],
          "histogram2d": [
           {
            "colorbar": {
             "outlinewidth": 0,
             "ticks": ""
            },
            "colorscale": [
             [
              0,
              "#0d0887"
             ],
             [
              0.1111111111111111,
              "#46039f"
             ],
             [
              0.2222222222222222,
              "#7201a8"
             ],
             [
              0.3333333333333333,
              "#9c179e"
             ],
             [
              0.4444444444444444,
              "#bd3786"
             ],
             [
              0.5555555555555556,
              "#d8576b"
             ],
             [
              0.6666666666666666,
              "#ed7953"
             ],
             [
              0.7777777777777778,
              "#fb9f3a"
             ],
             [
              0.8888888888888888,
              "#fdca26"
             ],
             [
              1,
              "#f0f921"
             ]
            ],
            "type": "histogram2d"
           }
          ],
          "histogram2dcontour": [
           {
            "colorbar": {
             "outlinewidth": 0,
             "ticks": ""
            },
            "colorscale": [
             [
              0,
              "#0d0887"
             ],
             [
              0.1111111111111111,
              "#46039f"
             ],
             [
              0.2222222222222222,
              "#7201a8"
             ],
             [
              0.3333333333333333,
              "#9c179e"
             ],
             [
              0.4444444444444444,
              "#bd3786"
             ],
             [
              0.5555555555555556,
              "#d8576b"
             ],
             [
              0.6666666666666666,
              "#ed7953"
             ],
             [
              0.7777777777777778,
              "#fb9f3a"
             ],
             [
              0.8888888888888888,
              "#fdca26"
             ],
             [
              1,
              "#f0f921"
             ]
            ],
            "type": "histogram2dcontour"
           }
          ],
          "mesh3d": [
           {
            "colorbar": {
             "outlinewidth": 0,
             "ticks": ""
            },
            "type": "mesh3d"
           }
          ],
          "parcoords": [
           {
            "line": {
             "colorbar": {
              "outlinewidth": 0,
              "ticks": ""
             }
            },
            "type": "parcoords"
           }
          ],
          "pie": [
           {
            "automargin": true,
            "type": "pie"
           }
          ],
          "scatter": [
           {
            "marker": {
             "colorbar": {
              "outlinewidth": 0,
              "ticks": ""
             }
            },
            "type": "scatter"
           }
          ],
          "scatter3d": [
           {
            "line": {
             "colorbar": {
              "outlinewidth": 0,
              "ticks": ""
             }
            },
            "marker": {
             "colorbar": {
              "outlinewidth": 0,
              "ticks": ""
             }
            },
            "type": "scatter3d"
           }
          ],
          "scattercarpet": [
           {
            "marker": {
             "colorbar": {
              "outlinewidth": 0,
              "ticks": ""
             }
            },
            "type": "scattercarpet"
           }
          ],
          "scattergeo": [
           {
            "marker": {
             "colorbar": {
              "outlinewidth": 0,
              "ticks": ""
             }
            },
            "type": "scattergeo"
           }
          ],
          "scattergl": [
           {
            "marker": {
             "colorbar": {
              "outlinewidth": 0,
              "ticks": ""
             }
            },
            "type": "scattergl"
           }
          ],
          "scattermapbox": [
           {
            "marker": {
             "colorbar": {
              "outlinewidth": 0,
              "ticks": ""
             }
            },
            "type": "scattermapbox"
           }
          ],
          "scatterpolar": [
           {
            "marker": {
             "colorbar": {
              "outlinewidth": 0,
              "ticks": ""
             }
            },
            "type": "scatterpolar"
           }
          ],
          "scatterpolargl": [
           {
            "marker": {
             "colorbar": {
              "outlinewidth": 0,
              "ticks": ""
             }
            },
            "type": "scatterpolargl"
           }
          ],
          "scatterternary": [
           {
            "marker": {
             "colorbar": {
              "outlinewidth": 0,
              "ticks": ""
             }
            },
            "type": "scatterternary"
           }
          ],
          "surface": [
           {
            "colorbar": {
             "outlinewidth": 0,
             "ticks": ""
            },
            "colorscale": [
             [
              0,
              "#0d0887"
             ],
             [
              0.1111111111111111,
              "#46039f"
             ],
             [
              0.2222222222222222,
              "#7201a8"
             ],
             [
              0.3333333333333333,
              "#9c179e"
             ],
             [
              0.4444444444444444,
              "#bd3786"
             ],
             [
              0.5555555555555556,
              "#d8576b"
             ],
             [
              0.6666666666666666,
              "#ed7953"
             ],
             [
              0.7777777777777778,
              "#fb9f3a"
             ],
             [
              0.8888888888888888,
              "#fdca26"
             ],
             [
              1,
              "#f0f921"
             ]
            ],
            "type": "surface"
           }
          ],
          "table": [
           {
            "cells": {
             "fill": {
              "color": "#EBF0F8"
             },
             "line": {
              "color": "white"
             }
            },
            "header": {
             "fill": {
              "color": "#C8D4E3"
             },
             "line": {
              "color": "white"
             }
            },
            "type": "table"
           }
          ]
         },
         "layout": {
          "annotationdefaults": {
           "arrowcolor": "#2a3f5f",
           "arrowhead": 0,
           "arrowwidth": 1
          },
          "coloraxis": {
           "colorbar": {
            "outlinewidth": 0,
            "ticks": ""
           }
          },
          "colorscale": {
           "diverging": [
            [
             0,
             "#8e0152"
            ],
            [
             0.1,
             "#c51b7d"
            ],
            [
             0.2,
             "#de77ae"
            ],
            [
             0.3,
             "#f1b6da"
            ],
            [
             0.4,
             "#fde0ef"
            ],
            [
             0.5,
             "#f7f7f7"
            ],
            [
             0.6,
             "#e6f5d0"
            ],
            [
             0.7,
             "#b8e186"
            ],
            [
             0.8,
             "#7fbc41"
            ],
            [
             0.9,
             "#4d9221"
            ],
            [
             1,
             "#276419"
            ]
           ],
           "sequential": [
            [
             0,
             "#0d0887"
            ],
            [
             0.1111111111111111,
             "#46039f"
            ],
            [
             0.2222222222222222,
             "#7201a8"
            ],
            [
             0.3333333333333333,
             "#9c179e"
            ],
            [
             0.4444444444444444,
             "#bd3786"
            ],
            [
             0.5555555555555556,
             "#d8576b"
            ],
            [
             0.6666666666666666,
             "#ed7953"
            ],
            [
             0.7777777777777778,
             "#fb9f3a"
            ],
            [
             0.8888888888888888,
             "#fdca26"
            ],
            [
             1,
             "#f0f921"
            ]
           ],
           "sequentialminus": [
            [
             0,
             "#0d0887"
            ],
            [
             0.1111111111111111,
             "#46039f"
            ],
            [
             0.2222222222222222,
             "#7201a8"
            ],
            [
             0.3333333333333333,
             "#9c179e"
            ],
            [
             0.4444444444444444,
             "#bd3786"
            ],
            [
             0.5555555555555556,
             "#d8576b"
            ],
            [
             0.6666666666666666,
             "#ed7953"
            ],
            [
             0.7777777777777778,
             "#fb9f3a"
            ],
            [
             0.8888888888888888,
             "#fdca26"
            ],
            [
             1,
             "#f0f921"
            ]
           ]
          },
          "colorway": [
           "#636efa",
           "#EF553B",
           "#00cc96",
           "#ab63fa",
           "#FFA15A",
           "#19d3f3",
           "#FF6692",
           "#B6E880",
           "#FF97FF",
           "#FECB52"
          ],
          "font": {
           "color": "#2a3f5f"
          },
          "geo": {
           "bgcolor": "white",
           "lakecolor": "white",
           "landcolor": "#E5ECF6",
           "showlakes": true,
           "showland": true,
           "subunitcolor": "white"
          },
          "hoverlabel": {
           "align": "left"
          },
          "hovermode": "closest",
          "mapbox": {
           "style": "light"
          },
          "paper_bgcolor": "white",
          "plot_bgcolor": "#E5ECF6",
          "polar": {
           "angularaxis": {
            "gridcolor": "white",
            "linecolor": "white",
            "ticks": ""
           },
           "bgcolor": "#E5ECF6",
           "radialaxis": {
            "gridcolor": "white",
            "linecolor": "white",
            "ticks": ""
           }
          },
          "scene": {
           "xaxis": {
            "backgroundcolor": "#E5ECF6",
            "gridcolor": "white",
            "gridwidth": 2,
            "linecolor": "white",
            "showbackground": true,
            "ticks": "",
            "zerolinecolor": "white"
           },
           "yaxis": {
            "backgroundcolor": "#E5ECF6",
            "gridcolor": "white",
            "gridwidth": 2,
            "linecolor": "white",
            "showbackground": true,
            "ticks": "",
            "zerolinecolor": "white"
           },
           "zaxis": {
            "backgroundcolor": "#E5ECF6",
            "gridcolor": "white",
            "gridwidth": 2,
            "linecolor": "white",
            "showbackground": true,
            "ticks": "",
            "zerolinecolor": "white"
           }
          },
          "shapedefaults": {
           "line": {
            "color": "#2a3f5f"
           }
          },
          "ternary": {
           "aaxis": {
            "gridcolor": "white",
            "linecolor": "white",
            "ticks": ""
           },
           "baxis": {
            "gridcolor": "white",
            "linecolor": "white",
            "ticks": ""
           },
           "bgcolor": "#E5ECF6",
           "caxis": {
            "gridcolor": "white",
            "linecolor": "white",
            "ticks": ""
           }
          },
          "title": {
           "x": 0.05
          },
          "xaxis": {
           "automargin": true,
           "gridcolor": "white",
           "linecolor": "white",
           "ticks": "",
           "title": {
            "standoff": 15
           },
           "zerolinecolor": "white",
           "zerolinewidth": 2
          },
          "yaxis": {
           "automargin": true,
           "gridcolor": "white",
           "linecolor": "white",
           "ticks": "",
           "title": {
            "standoff": 15
           },
           "zerolinecolor": "white",
           "zerolinewidth": 2
          }
         }
        },
        "width": 500,
        "xaxis": {
         "anchor": "y",
         "domain": [
          0,
          1
         ],
         "title": {
          "text": "X1"
         }
        },
        "yaxis": {
         "anchor": "x",
         "domain": [
          0,
          1
         ],
         "title": {
          "text": "X2"
         }
        }
       }
      },
      "text/html": [
       "<div>\n",
       "        \n",
       "        \n",
       "            <div id=\"de030a8e-6dc4-4e05-a7bc-887aab2b3478\" class=\"plotly-graph-div\" style=\"height:500px; width:500px;\"></div>\n",
       "            <script type=\"text/javascript\">\n",
       "                require([\"plotly\"], function(Plotly) {\n",
       "                    window.PLOTLYENV=window.PLOTLYENV || {};\n",
       "                    \n",
       "                if (document.getElementById(\"de030a8e-6dc4-4e05-a7bc-887aab2b3478\")) {\n",
       "                    Plotly.newPlot(\n",
       "                        'de030a8e-6dc4-4e05-a7bc-887aab2b3478',\n",
       "                        [{\"hoverlabel\": {\"namelength\": 0}, \"hovertemplate\": \"color=1<br>x=%{x}<br>y=%{y}\", \"legendgroup\": \"1\", \"marker\": {\"color\": \"#636efa\", \"symbol\": \"circle\"}, \"mode\": \"markers\", \"name\": \"1\", \"showlegend\": true, \"type\": \"scatter\", \"x\": [0.107143, 0.093318, 0.0979263, 0.15553, 0.210829, 0.328341, 0.429724, 0.620968, 0.756912, 0.819124, 0.809908, 0.75, 0.773041, 0.770737, 0.766129, 0.779954, 0.75, 0.761521, 0.814516, 0.814516, 0.563364, 0.49424, 0.480415, 0.448157, 0.425115, 0.450461, 0.510369, 0.498848, 0.351382, 0.273041, 0.233871, 0.215438, 0.134793, 0.0748848, 0.0587558, 0.10023, 0.120968, 0.132488, 0.137097, 0.116359, 0.104839, 0.107143, 0.0910138, 0.0679724, 0.0679724, 0.093318, 0.162442, 0.178571, 0.144009, 0.109447, 0.146313, 0.148618, 0.160138, 0.123272, 0.104839, 0.0817972, 0.0587558, 0.0956221, 0.144009, 0.169355, 0.164747, 0.118664, 0.162442, 0.236175, 0.27765, 0.298387, 0.337558, 0.342166, 0.293779, 0.259217, 0.252304, 0.213134, 0.203917, 0.192396, 0.362903, 0.418203, 0.429724, 0.390553, 0.390553, 0.418203, 0.413594, 0.41129, 0.457373, 0.46659, 0.508065, 0.521889, 0.434332, 0.448157, 0.464286, 0.508065, 0.524194, 0.567972, 0.586406, 0.591014, 0.625576, 0.662442, 0.690092, 0.68318, 0.740783, 0.766129, 0.715438, 0.729263, 0.745392, 0.738479, 0.738479, 0.779954, 0.8053, 0.796083, 0.782258, 0.766129, 0.720046, 0.738479, 0.740783, 0.715438, 0.676267, 0.637097, 0.680876, 0.740783, 0.756912, 0.77765, 0.832949, 0.779954, 0.77765, 0.770737, 0.671659, 0.574885, 0.544931, 0.503456, 0.443548, 0.390553, 0.337558, 0.369816, 0.436636, 0.535714, 0.457373, 0.422811, 0.408986, 0.367512, 0.314516, 0.332949, 0.457373, 0.508065, 0.473502, 0.538018, 0.697005, 0.75, 0.800691, 0.823733, 0.710829, 0.701613, 0.637097, 0.593318, 0.563364, 0.540323, 0.510369, 0.501152, 0.480415, 0.432028, 0.404378, 0.365207, 0.314516, 0.27765, 0.263825, 0.236175, 0.22235, 0.1947, 0.171659, 0.176267, 0.18318, 0.160138, 0.111751, 0.0887097, 0.093318, 0.125576, 0.162442, 0.12788, 0.134793, 0.185484, 0.192396, 0.132488, 0.10023, 0.0748848, 0.0702765, 0.093318, 0.10023, 0.0656682, 0.0817972, 0.0979263, 0.821429, 0.858295, 0.814516, 0.789171, 0.791475, 0.540323, 0.623272, 0.650922, 0.692396, 0.639401, 0.549539, 0.540323, 0.565668, 0.632488, 0.703917, 0.75, 0.8053, 0.837558, 0.867512, 0.904378, 0.952765, 0.975806, 0.968894, 0.927419, 0.881336, 0.851382, 0.807604, 0.800691, 0.860599, 0.908986, 0.920507, 0.955069, 0.96659, 0.968894, 0.897465, 0.851382, 0.851382, 0.855991, 0.828341, 0.60023, 0.60023, 0.482719, 0.254608, 0.226959, 0.160138, 0.176267, 0.111751, 0.0748848, 0.0541475, 0.0449309, 0.111751, 0.104839, 0.153226, 0.199309, 0.0610599, 0.0564516, 0.0748848, 0.093318, 0.62788, 0.563364, 0.618664, 0.607143, 0.58871, 0.577189, 0.584101, 0.611751, 0.623272, 0.623272, 0.597926, 0.554147, 0.544931, 0.544931, 0.570276, 0.595622, 0.597926, 0.630184, 0.657834, 0.703917, 0.706221, 0.701613, 0.664747, 0.644009, 0.644009, 0.644009, 0.637097, 0.634793, 0.58871, 0.551843, 0.56106, 0.577189, 0.551843, 0.547235, 0.547235, 0.593318, 0.669355, 0.673963, 0.662442, 0.662442, 0.641705, 0.664747, 0.579493, 0.544931, 0.547235, 0.604839, 0.650922, 0.164747, 0.150922, 0.141705, 0.134793, 0.12788, 0.0841014, 0.0679724, 0.123272, 0.0817972, 0.137097, 0.137097, 0.150922, 0.148618, 0.213134, 0.141705, 0.169355, 0.0771889, 0.0564516, 0.0864055, 0.0702765, 0.0633641, 0.0541475, 0.0518433, 0.0817972, 0.153226, 0.208525, 0.180876, 0.118664, 0.164747, 0.171659, 0.15553, 0.132488, 0.125576, 0.178571, 0.22235, 0.229263, 0.201613, 0.173963, 0.141705, 0.137097, 0.0771889, 0.0748848, 0.132488, 0.192396, 0.0748848, 0.116359, 0.125576, 0.0910138, 0.150922, 0.203917, 0.266129, 0.321429, 0.50576, 0.482719, 0.508065, 0.485023, 0.478111, 0.478111, 0.459677, 0.459677, 0.478111, 0.459677, 0.461982, 0.473502, 0.475806, 0.448157, 0.496544, 0.514977, 0.478111, 0.475806, 0.436636, 0.468894, 0.554147, 0.514977, 0.510369, 0.517281, 0.554147, 0.554147, 0.540323, 0.528802, 0.503456, 0.491935, 0.517281, 0.526498, 0.540323, 0.517281, 0.496544, 0.489631, 0.473502, 0.487327, 0.508065, 0.514977, 0.450461, 0.475806, 0.473502, 0.457373, 0.450461, 0.487327, 0.53341, 0.538018, 0.528802, 0.512673, 0.185484, 0.208525, 0.190092, 0.187788, 0.190092, 0.197005, 0.1947, 0.176267, 0.146313, 0.132488, 0.157834, 0.164747, 0.118664, 0.12788, 0.160138, 0.173963, 0.157834, 0.18318, 0.206221, 0.215438, 0.226959, 0.116359, 0.116359, 0.137097, 0.10023, 0.213134, 0.261521, 0.252304, 0.710829, 0.662442, 0.6947, 0.715438, 0.37212, 0.374424, 0.415899, 0.961982, 0.927419, 0.927419, 0.948157, 0.961982, 0.957373, 0.915899, 0.915899, 0.922811, 0.925115, 0.936636, 0.968894, 0.998848, 0.959677, 0.955069, 0.941244, 0.918203, 0.91129, 0.913594, 0.906682, 0.879032, 0.874424, 0.927419, 0.948157, 0.961982, 0.96659, 0.96659, 0.948157, 0.934332, 0.948157, 0.964286, 0.989631, 0.987327, 0.96659, 0.959677, 0.904378, 0.915899, 0.922811, 0.91129, 0.890553, 0.874424, 0.897465, 0.913594, 0.968894, 0.985023, 0.99424, 0.964286, 0.975806, 0.989631, 0.996544], \"xaxis\": \"x\", \"y\": [0.60307, 0.649854, 0.705409, 0.784357, 0.866228, 0.929094, 0.934942, 0.934942, 0.910088, 0.879386, 0.836988, 0.819444, 0.854532, 0.88962, 0.899854, 0.835526, 0.791667, 0.765351, 0.832602, 0.885234, 0.921784, 0.899854, 0.863304, 0.819444, 0.857456, 0.899854, 0.937865, 0.945175, 0.934942, 0.901316, 0.861842, 0.858918, 0.861842, 0.872076, 0.872076, 0.83845, 0.83114, 0.813596, 0.774123, 0.749269, 0.727339, 0.699561, 0.65424, 0.633772, 0.623538, 0.585526, 0.579678, 0.59576, 0.642544, 0.645468, 0.703947, 0.741959, 0.777047, 0.791667, 0.815058, 0.82383, 0.88231, 0.894006, 0.88962, 0.864766, 0.844298, 0.839912, 0.883772, 0.899854, 0.936404, 0.955409, 0.961257, 0.958333, 0.93348, 0.924708, 0.942251, 0.921784, 0.891082, 0.880848, 0.961257, 0.964181, 0.967105, 0.942251, 0.936404, 0.923246, 0.901316, 0.888158, 0.864766, 0.848684, 0.907164, 0.927632, 0.93348, 0.958333, 0.972953, 0.956871, 0.934942, 0.927632, 0.955409, 0.958333, 0.952485, 0.949561, 0.936404, 0.923246, 0.91886, 0.914474, 0.892544, 0.88962, 0.875, 0.850146, 0.839912, 0.81652, 0.798977, 0.790205, 0.763889, 0.756579, 0.842836, 0.88962, 0.923246, 0.939327, 0.940789, 0.921784, 0.915936, 0.915936, 0.937865, 0.951023, 0.91886, 0.872076, 0.85307, 0.92617, 0.955409, 0.946637, 0.929094, 0.914474, 0.923246, 0.930556, 0.92617, 0.923246, 0.910088, 0.959795, 0.959795, 0.939327, 0.905702, 0.908626, 0.920322, 0.924708, 0.923246, 0.914474, 0.949561, 0.962719, 0.955409, 0.951023, 0.913012, 0.864766, 0.861842, 0.886696, 0.910088, 0.917398, 0.917398, 0.910088, 0.883772, 0.863304, 0.841374, 0.855994, 0.876462, 0.898392, 0.898392, 0.895468, 0.891082, 0.875, 0.86038, 0.850146, 0.834064, 0.819444, 0.787281, 0.753655, 0.747807, 0.739035, 0.701023, 0.68348, 0.65424, 0.630848, 0.58845, 0.58845, 0.625, 0.664474, 0.670322, 0.671784, 0.705409, 0.721491, 0.752193, 0.759503, 0.774123, 0.774123, 0.89693, 0.84576, 0.820906, 0.798977, 0.749269, 0.899854, 0.895468, 0.891082, 0.88231, 0.877924, 0.886696, 0.892544, 0.908626, 0.915936, 0.907164, 0.875, 0.793129, 0.779971, 0.775585, 0.772661, 0.774123, 0.777047, 0.801901, 0.803363, 0.800439, 0.806287, 0.84576, 0.866228, 0.850146, 0.836988, 0.826754, 0.822368, 0.822368, 0.820906, 0.819444, 0.788743, 0.785819, 0.839912, 0.850146, 0.940789, 0.940789, 0.930556, 0.951023, 0.899854, 0.891082, 0.86038, 0.866228, 0.885234, 0.883772, 0.914474, 0.913012, 0.89693, 0.885234, 0.883772, 0.91155, 0.89693, 0.879386, 0.858918, 0.591374, 0.59576, 0.600146, 0.622076, 0.620614, 0.594298, 0.576754, 0.56652, 0.562135, 0.557749, 0.554825, 0.547515, 0.535819, 0.532895, 0.528509, 0.527047, 0.527047, 0.529971, 0.529971, 0.527047, 0.516813, 0.510965, 0.535819, 0.563596, 0.575292, 0.58845, 0.607456, 0.616228, 0.619152, 0.607456, 0.594298, 0.541667, 0.522661, 0.510965, 0.508041, 0.516813, 0.522661, 0.524123, 0.56652, 0.56652, 0.535819, 0.516813, 0.562135, 0.570906, 0.578216, 0.59576, 0.59576, 0.812135, 0.847222, 0.81652, 0.84576, 0.877924, 0.86038, 0.826754, 0.790205, 0.801901, 0.760965, 0.712719, 0.749269, 0.673246, 0.629386, 0.59576, 0.626462, 0.623538, 0.684942, 0.740497, 0.765351, 0.820906, 0.762427, 0.695175, 0.648392, 0.594298, 0.582602, 0.693713, 0.572368, 0.546053, 0.529971, 0.491959, 0.548684, 0.587573, 0.575292, 0.542544, 0.567105, 0.622368, 0.620322, 0.536404, 0.509795, 0.577339, 0.59576, 0.569152, 0.540497, 0.548684, 0.544591, 0.679678, 0.769737, 0.861842, 0.927339, 0.93348, 0.93962, 0.851754, 0.818421, 0.813158, 0.795614, 0.772807, 0.746491, 0.746491, 0.762281, 0.786842, 0.80614, 0.832456, 0.874561, 0.911404, 0.900877, 0.857018, 0.818421, 0.772807, 0.730702, 0.753509, 0.764035, 0.499123, 0.516667, 0.504386, 0.495614, 0.490351, 0.476316, 0.472807, 0.486842, 0.485088, 0.465789, 0.462281, 0.458772, 0.439474, 0.435965, 0.42193, 0.418421, 0.416667, 0.448246, 0.45, 0.488596, 0.455263, 0.435965, 0.420175, 0.411404, 0.409649, 0.458772, 0.535965, 0.572807, 0.535965, 0.499123, 0.511404, 0.527193, 0.520175, 0.497368, 0.479825, 0.45, 0.427193, 0.407895, 0.402632, 0.441228, 0.464035, 0.464035, 0.488596, 0.509649, 0.467544, 0.432456, 0.425439, 0.420175, 0.479825, 0.516667, 0.532456, 0.525439, 0.485088, 0.455263, 0.444737, 0.483333, 0.535965, 0.553509, 0.981579, 0.969298, 0.986842, 0.958772, 0.988596, 0.967544, 0.971053, 0.579825, 0.592105, 0.572807, 0.569298, 0.55, 0.557018, 0.557018, 0.557018, 0.528947, 0.514912, 0.499123, 0.490351, 0.514912, 0.542982, 0.528947, 0.500877, 0.486842, 0.481579, 0.465789, 0.442982, 0.42193, 0.407895, 0.407895, 0.411404, 0.413158, 0.425439, 0.434211, 0.434211, 0.435965, 0.469298, 0.474561, 0.453509, 0.435965, 0.516667, 0.557018, 0.560526, 0.525439, 0.49386, 0.453509, 0.444737, 0.507895, 0.527193, 0.537719, 0.565789, 0.579825, 0.516667, 0.472807, 0.439474, 0.425439, 0.414912], \"yaxis\": \"y\"}, {\"hoverlabel\": {\"namelength\": 0}, \"hovertemplate\": \"color=0<br>x=%{x}<br>y=%{y}\", \"legendgroup\": \"0\", \"marker\": {\"color\": \"#EF553B\", \"symbol\": \"circle\"}, \"mode\": \"markers\", \"name\": \"0\", \"showlegend\": true, \"type\": \"scatter\", \"x\": [0.37212, 0.351382, 0.3053, 0.323733, 0.289171, 0.27765, 0.293779, 0.298387, 0.31682, 0.353687, 0.353687, 0.3053, 0.291475, 0.261521, 0.268433, 0.270737, 0.247696, 0.259217, 0.261521, 0.233871, 0.229263, 0.266129, 0.302995, 0.293779, 0.268433, 0.282258, 0.312212, 0.349078, 0.351382, 0.379032, 0.420507, 0.379032, 0.346774, 0.337558, 0.346774, 0.360599, 0.319124, 0.328341, 0.335253, 0.307604, 0.3053, 0.319124, 0.335253, 0.360599, 0.388249, 0.404378, 0.413594, 0.374424, 0.365207, 0.367512, 0.369816, 0.346774, 0.332949, 0.332949, 0.358295, 0.353687, 0.367512, 0.395161, 0.385945, 0.43894, 0.422811, 0.450461, 0.464286, 0.471198, 0.461982, 0.436636, 0.406682, 0.374424, 0.358295, 0.367512, 0.406682, 0.422811, 0.485023, 0.480415, 0.508065, 0.514977, 0.526498, 0.558756, 0.574885, 0.593318, 0.641705, 0.678571, 0.703917, 0.726959, 0.738479, 0.779954, 0.789171, 0.784562, 0.784562, 0.75, 0.738479, 0.729263, 0.678571, 0.664747, 0.591014, 0.549539, 0.531106, 0.49424, 0.441244, 0.427419, 0.397465, 0.397465, 0.46659, 0.508065, 0.508065, 0.547235, 0.584101, 0.611751, 0.669355, 0.634793, 0.710829, 0.692396, 0.747696, 0.729263, 0.736175, 0.743088, 0.773041, 0.747696, 0.761521, 0.807604, 0.812212, 0.830645, 0.823733, 0.793779, 0.77765, 0.756912, 0.740783, 0.72235, 0.657834, 0.644009, 0.593318, 0.353687, 0.309908, 0.270737, 0.300691, 0.392857, 0.404378, 0.420507, 0.445853, 0.464286, 0.374424, 0.425115, 0.369816, 0.480415, 0.429724, 0.554147, 0.620968, 0.616359, 0.662442, 0.68318, 0.692396, 0.720046, 0.726959, 0.680876, 0.65553, 0.620968, 0.591014, 0.567972, 0.567972, 0.565668, 0.388249, 0.369816, 0.312212, 0.312212, 0.273041, 0.3053, 0.312212, 0.254608, 0.289171, 0.273041, 0.296083, 0.34447, 0.367512, 0.392857, 0.388249, 0.406682, 0.390553, 0.402074, 0.358295, 0.339862, 0.351382, 0.3053, 0.240783, 0.282258, 0.487327, 0.519585, 0.586406, 0.634793, 0.648618, 0.664747, 0.699309, 0.752304, 0.784562, 0.802995, 0.830645, 0.609447, 0.611751, 0.574885, 0.544931, 0.558756, 0.58871, 0.595622, 0.602535, 0.570276, 0.563364, 0.577189, 0.60023, 0.618664, 0.646313, 0.637097, 0.648618, 0.650922, 0.660138, 0.660138, 0.669355, 0.634793, 0.602535, 0.604839, 0.616359, 0.657834, 0.680876, 0.697005, 0.708525, 0.736175, 0.729263, 0.8053, 0.828341, 0.855991, 0.927419, 0.975806, 0.980415, 0.89977, 0.87212, 0.849078, 0.814516, 0.784562, 0.775346, 0.775346, 0.745392, 0.809908, 0.858295, 0.862903, 0.922811, 0.941244, 0.989631, 0.987327, 0.918203, 0.842166, 0.809908, 0.726959, 0.690092, 0.690092, 0.579493, 0.473502, 0.434332, 0.25, 0.224654, 0.383641, 0.353687, 0.369816, 0.355991, 0.34447, 0.349078, 0.381336, 0.381336, 0.379032, 0.385945, 0.415899, 0.413594, 0.404378, 0.41129, 0.404378, 0.395161, 0.397465, 0.408986, 0.789171, 0.807604, 0.8053, 0.784562, 0.782258, 0.830645, 0.839862, 0.823733, 0.839862, 0.839862, 0.832949, 0.842166, 0.860599, 0.812212, 0.798387, 0.802995, 0.775346, 0.736175, 0.782258, 0.782258, 0.759217, 0.745392, 0.740783, 0.733871, 0.699309, 0.697005, 0.692396, 0.676267, 0.657834, 0.657834, 0.644009, 0.648618, 0.618664, 0.558756, 0.554147, 0.591014, 0.609447, 0.620968, 0.62788, 0.644009, 0.662442, 0.680876, 0.632488, 0.58871, 0.581797, 0.570276, 0.558756, 0.226959, 0.247696, 0.273041, 0.291475, 0.22235, 0.224654, 0.203917, 0.185484, 0.206221, 0.245392, 0.22235, 0.226959, 0.259217, 0.224654, 0.203917, 0.199309, 0.233871, 0.256912, 0.254608, 0.266129, 0.243088, 0.233871, 0.240783, 0.273041, 0.289171, 0.302995, 0.319124, 0.337558, 0.362903, 0.374424, 0.604839, 0.570276, 0.563364, 0.623272, 0.664747, 0.664747, 0.687788, 0.717742, 0.738479, 0.740783, 0.710829, 0.685484, 0.68318, 0.687788, 0.687788, 0.669355, 0.65553, 0.639401, 0.639401, 0.584101, 0.563364, 0.547235, 0.567972, 0.581797, 0.595622, 0.625576, 0.648618, 0.637097, 0.641705, 0.667051, 0.706221], \"xaxis\": \"x\", \"y\": [0.851608, 0.863304, 0.854532, 0.841374, 0.834064, 0.829678, 0.810673, 0.801901, 0.841374, 0.834064, 0.82383, 0.804825, 0.784357, 0.800439, 0.800439, 0.81652, 0.806287, 0.781433, 0.778509, 0.762427, 0.725877, 0.706871, 0.696637, 0.679094, 0.66155, 0.652778, 0.644006, 0.626462, 0.605994, 0.58114, 0.553363, 0.529971, 0.518275, 0.525585, 0.565058, 0.584064, 0.620614, 0.66886, 0.682018, 0.730263, 0.763889, 0.809211, 0.820906, 0.828216, 0.822368, 0.798977, 0.788743, 0.768275, 0.765351, 0.777047, 0.800439, 0.798977, 0.779971, 0.739035, 0.690789, 0.66155, 0.63962, 0.61769, 0.608918, 0.591374, 0.572368, 0.534357, 0.538743, 0.591374, 0.629386, 0.648392, 0.67617, 0.702485, 0.762427, 0.739035, 0.667398, 0.611842, 0.598684, 0.614766, 0.63231, 0.649854, 0.660088, 0.667398, 0.674708, 0.67617, 0.66155, 0.63962, 0.616228, 0.586988, 0.557749, 0.528509, 0.527047, 0.556287, 0.597222, 0.642544, 0.66155, 0.673246, 0.693713, 0.696637, 0.706871, 0.692251, 0.674708, 0.65424, 0.652778, 0.66886, 0.698099, 0.702485, 0.67617, 0.682018, 0.684942, 0.705409, 0.709795, 0.714181, 0.711257, 0.68348, 0.684942, 0.664474, 0.655702, 0.63231, 0.607456, 0.594298, 0.582602, 0.553363, 0.543129, 0.537281, 0.546053, 0.576754, 0.585526, 0.625, 0.641082, 0.652778, 0.671784, 0.686404, 0.686404, 0.686404, 0.674708, 0.714181, 0.774123, 0.744883, 0.698099, 0.673246, 0.65424, 0.638158, 0.616228, 0.604532, 0.563596, 0.528509, 0.509503, 0.642544, 0.66886, 0.679094, 0.705409, 0.739035, 0.722953, 0.705409, 0.651316, 0.641082, 0.667398, 0.695175, 0.711257, 0.722953, 0.718567, 0.687865, 0.66155, 0.648392, 0.645468, 0.693713, 0.706871, 0.728801, 0.712719, 0.740497, 0.753655, 0.756579, 0.741959, 0.717105, 0.687865, 0.665936, 0.651316, 0.652778, 0.608918, 0.591374, 0.563596, 0.541667, 0.543129, 0.611842, 0.689327, 0.733187, 0.749269, 0.765351, 0.667398, 0.677632, 0.686404, 0.712719, 0.728801, 0.730263, 0.701023, 0.633772, 0.551901, 0.538743, 0.532895, 0.81652, 0.785819, 0.756579, 0.727339, 0.718567, 0.722953, 0.733187, 0.752193, 0.765351, 0.777047, 0.796053, 0.813596, 0.825292, 0.796053, 0.765351, 0.739035, 0.743421, 0.741959, 0.740497, 0.752193, 0.782895, 0.775585, 0.771199, 0.755117, 0.747807, 0.740497, 0.705409, 0.674708, 0.644006, 0.692251, 0.692251, 0.692251, 0.689327, 0.674708, 0.648392, 0.636696, 0.629386, 0.620614, 0.644006, 0.65424, 0.673246, 0.684942, 0.686404, 0.692251, 0.671784, 0.679094, 0.66155, 0.657164, 0.638158, 0.638158, 0.64693, 0.679094, 0.673246, 0.658626, 0.702485, 0.703947, 0.725877, 0.737573, 0.689327, 0.674708, 0.687865, 0.722953, 0.485088, 0.471053, 0.451754, 0.435965, 0.42193, 0.411404, 0.428947, 0.455263, 0.492105, 0.514912, 0.535965, 0.516667, 0.500877, 0.474561, 0.45, 0.434211, 0.423684, 0.416667, 0.523684, 0.488596, 0.47807, 0.441228, 0.425439, 0.42193, 0.441228, 0.465789, 0.499123, 0.52193, 0.553509, 0.574561, 0.586842, 0.511404, 0.502632, 0.476316, 0.428947, 0.416667, 0.469298, 0.460526, 0.45, 0.451754, 0.446491, 0.439474, 0.448246, 0.465789, 0.465789, 0.464035, 0.458772, 0.458772, 0.455263, 0.437719, 0.423684, 0.414912, 0.416667, 0.441228, 0.448246, 0.471053, 0.47807, 0.47807, 0.474561, 0.474561, 0.474561, 0.451754, 0.432456, 0.411404, 0.40614, 0.792105, 0.834211, 0.858772, 0.862281, 0.813158, 0.797368, 0.774561, 0.755263, 0.728947, 0.723684, 0.70614, 0.695614, 0.681579, 0.660526, 0.648246, 0.655263, 0.697368, 0.727193, 0.665789, 0.641228, 0.635965, 0.618421, 0.613158, 0.625439, 0.625439, 0.614912, 0.600877, 0.585088, 0.548246, 0.528947, 0.844737, 0.816667, 0.804386, 0.814912, 0.804386, 0.783333, 0.748246, 0.716667, 0.702632, 0.735965, 0.737719, 0.765789, 0.776316, 0.802632, 0.820175, 0.837719, 0.844737, 0.818421, 0.839474, 0.839474, 0.797368, 0.772807, 0.842982, 0.869298, 0.871053, 0.869298, 0.857018, 0.839474, 0.804386, 0.857018, 0.82193], \"yaxis\": \"y\"}],\n",
       "                        {\"height\": 500, \"legend\": {\"title\": {\"text\": \"color\"}, \"tracegroupgap\": 0}, \"margin\": {\"t\": 60}, \"template\": {\"data\": {\"bar\": [{\"error_x\": {\"color\": \"#2a3f5f\"}, \"error_y\": {\"color\": \"#2a3f5f\"}, \"marker\": {\"line\": {\"color\": \"#E5ECF6\", \"width\": 0.5}}, \"type\": \"bar\"}], \"barpolar\": [{\"marker\": {\"line\": {\"color\": \"#E5ECF6\", \"width\": 0.5}}, \"type\": \"barpolar\"}], \"carpet\": [{\"aaxis\": {\"endlinecolor\": \"#2a3f5f\", \"gridcolor\": \"white\", \"linecolor\": \"white\", \"minorgridcolor\": \"white\", \"startlinecolor\": \"#2a3f5f\"}, \"baxis\": {\"endlinecolor\": \"#2a3f5f\", \"gridcolor\": \"white\", \"linecolor\": \"white\", \"minorgridcolor\": \"white\", \"startlinecolor\": \"#2a3f5f\"}, \"type\": \"carpet\"}], \"choropleth\": [{\"colorbar\": {\"outlinewidth\": 0, \"ticks\": \"\"}, \"type\": \"choropleth\"}], \"contour\": [{\"colorbar\": {\"outlinewidth\": 0, \"ticks\": \"\"}, \"colorscale\": [[0.0, \"#0d0887\"], [0.1111111111111111, \"#46039f\"], [0.2222222222222222, \"#7201a8\"], [0.3333333333333333, \"#9c179e\"], [0.4444444444444444, \"#bd3786\"], [0.5555555555555556, \"#d8576b\"], [0.6666666666666666, \"#ed7953\"], [0.7777777777777778, \"#fb9f3a\"], [0.8888888888888888, \"#fdca26\"], [1.0, \"#f0f921\"]], \"type\": \"contour\"}], \"contourcarpet\": [{\"colorbar\": {\"outlinewidth\": 0, \"ticks\": \"\"}, \"type\": \"contourcarpet\"}], \"heatmap\": [{\"colorbar\": {\"outlinewidth\": 0, \"ticks\": \"\"}, \"colorscale\": [[0.0, \"#0d0887\"], [0.1111111111111111, \"#46039f\"], [0.2222222222222222, \"#7201a8\"], [0.3333333333333333, \"#9c179e\"], [0.4444444444444444, \"#bd3786\"], [0.5555555555555556, \"#d8576b\"], [0.6666666666666666, \"#ed7953\"], [0.7777777777777778, \"#fb9f3a\"], [0.8888888888888888, \"#fdca26\"], [1.0, \"#f0f921\"]], \"type\": \"heatmap\"}], \"heatmapgl\": [{\"colorbar\": {\"outlinewidth\": 0, \"ticks\": \"\"}, \"colorscale\": [[0.0, \"#0d0887\"], [0.1111111111111111, \"#46039f\"], [0.2222222222222222, \"#7201a8\"], [0.3333333333333333, \"#9c179e\"], [0.4444444444444444, \"#bd3786\"], [0.5555555555555556, \"#d8576b\"], [0.6666666666666666, \"#ed7953\"], [0.7777777777777778, \"#fb9f3a\"], [0.8888888888888888, \"#fdca26\"], [1.0, \"#f0f921\"]], \"type\": \"heatmapgl\"}], \"histogram\": [{\"marker\": {\"colorbar\": {\"outlinewidth\": 0, \"ticks\": \"\"}}, \"type\": \"histogram\"}], \"histogram2d\": [{\"colorbar\": {\"outlinewidth\": 0, \"ticks\": \"\"}, \"colorscale\": [[0.0, \"#0d0887\"], [0.1111111111111111, \"#46039f\"], [0.2222222222222222, \"#7201a8\"], [0.3333333333333333, \"#9c179e\"], [0.4444444444444444, \"#bd3786\"], [0.5555555555555556, \"#d8576b\"], [0.6666666666666666, \"#ed7953\"], [0.7777777777777778, \"#fb9f3a\"], [0.8888888888888888, \"#fdca26\"], [1.0, \"#f0f921\"]], \"type\": \"histogram2d\"}], \"histogram2dcontour\": [{\"colorbar\": {\"outlinewidth\": 0, \"ticks\": \"\"}, \"colorscale\": [[0.0, \"#0d0887\"], [0.1111111111111111, \"#46039f\"], [0.2222222222222222, \"#7201a8\"], [0.3333333333333333, \"#9c179e\"], [0.4444444444444444, \"#bd3786\"], [0.5555555555555556, \"#d8576b\"], [0.6666666666666666, \"#ed7953\"], [0.7777777777777778, \"#fb9f3a\"], [0.8888888888888888, \"#fdca26\"], [1.0, \"#f0f921\"]], \"type\": \"histogram2dcontour\"}], \"mesh3d\": [{\"colorbar\": {\"outlinewidth\": 0, \"ticks\": \"\"}, \"type\": \"mesh3d\"}], \"parcoords\": [{\"line\": {\"colorbar\": {\"outlinewidth\": 0, \"ticks\": \"\"}}, \"type\": \"parcoords\"}], \"pie\": [{\"automargin\": true, \"type\": \"pie\"}], \"scatter\": [{\"marker\": {\"colorbar\": {\"outlinewidth\": 0, \"ticks\": \"\"}}, \"type\": \"scatter\"}], \"scatter3d\": [{\"line\": {\"colorbar\": {\"outlinewidth\": 0, \"ticks\": \"\"}}, \"marker\": {\"colorbar\": {\"outlinewidth\": 0, \"ticks\": \"\"}}, \"type\": \"scatter3d\"}], \"scattercarpet\": [{\"marker\": {\"colorbar\": {\"outlinewidth\": 0, \"ticks\": \"\"}}, \"type\": \"scattercarpet\"}], \"scattergeo\": [{\"marker\": {\"colorbar\": {\"outlinewidth\": 0, \"ticks\": \"\"}}, \"type\": \"scattergeo\"}], \"scattergl\": [{\"marker\": {\"colorbar\": {\"outlinewidth\": 0, \"ticks\": \"\"}}, \"type\": \"scattergl\"}], \"scattermapbox\": [{\"marker\": {\"colorbar\": {\"outlinewidth\": 0, \"ticks\": \"\"}}, \"type\": \"scattermapbox\"}], \"scatterpolar\": [{\"marker\": {\"colorbar\": {\"outlinewidth\": 0, \"ticks\": \"\"}}, \"type\": \"scatterpolar\"}], \"scatterpolargl\": [{\"marker\": {\"colorbar\": {\"outlinewidth\": 0, \"ticks\": \"\"}}, \"type\": \"scatterpolargl\"}], \"scatterternary\": [{\"marker\": {\"colorbar\": {\"outlinewidth\": 0, \"ticks\": \"\"}}, \"type\": \"scatterternary\"}], \"surface\": [{\"colorbar\": {\"outlinewidth\": 0, \"ticks\": \"\"}, \"colorscale\": [[0.0, \"#0d0887\"], [0.1111111111111111, \"#46039f\"], [0.2222222222222222, \"#7201a8\"], [0.3333333333333333, \"#9c179e\"], [0.4444444444444444, \"#bd3786\"], [0.5555555555555556, \"#d8576b\"], [0.6666666666666666, \"#ed7953\"], [0.7777777777777778, \"#fb9f3a\"], [0.8888888888888888, \"#fdca26\"], [1.0, \"#f0f921\"]], \"type\": \"surface\"}], \"table\": [{\"cells\": {\"fill\": {\"color\": \"#EBF0F8\"}, \"line\": {\"color\": \"white\"}}, \"header\": {\"fill\": {\"color\": \"#C8D4E3\"}, \"line\": {\"color\": \"white\"}}, \"type\": \"table\"}]}, \"layout\": {\"annotationdefaults\": {\"arrowcolor\": \"#2a3f5f\", \"arrowhead\": 0, \"arrowwidth\": 1}, \"coloraxis\": {\"colorbar\": {\"outlinewidth\": 0, \"ticks\": \"\"}}, \"colorscale\": {\"diverging\": [[0, \"#8e0152\"], [0.1, \"#c51b7d\"], [0.2, \"#de77ae\"], [0.3, \"#f1b6da\"], [0.4, \"#fde0ef\"], [0.5, \"#f7f7f7\"], [0.6, \"#e6f5d0\"], [0.7, \"#b8e186\"], [0.8, \"#7fbc41\"], [0.9, \"#4d9221\"], [1, \"#276419\"]], \"sequential\": [[0.0, \"#0d0887\"], [0.1111111111111111, \"#46039f\"], [0.2222222222222222, \"#7201a8\"], [0.3333333333333333, \"#9c179e\"], [0.4444444444444444, \"#bd3786\"], [0.5555555555555556, \"#d8576b\"], [0.6666666666666666, \"#ed7953\"], [0.7777777777777778, \"#fb9f3a\"], [0.8888888888888888, \"#fdca26\"], [1.0, \"#f0f921\"]], \"sequentialminus\": [[0.0, \"#0d0887\"], [0.1111111111111111, \"#46039f\"], [0.2222222222222222, \"#7201a8\"], [0.3333333333333333, \"#9c179e\"], [0.4444444444444444, \"#bd3786\"], [0.5555555555555556, \"#d8576b\"], [0.6666666666666666, \"#ed7953\"], [0.7777777777777778, \"#fb9f3a\"], [0.8888888888888888, \"#fdca26\"], [1.0, \"#f0f921\"]]}, \"colorway\": [\"#636efa\", \"#EF553B\", \"#00cc96\", \"#ab63fa\", \"#FFA15A\", \"#19d3f3\", \"#FF6692\", \"#B6E880\", \"#FF97FF\", \"#FECB52\"], \"font\": {\"color\": \"#2a3f5f\"}, \"geo\": {\"bgcolor\": \"white\", \"lakecolor\": \"white\", \"landcolor\": \"#E5ECF6\", \"showlakes\": true, \"showland\": true, \"subunitcolor\": \"white\"}, \"hoverlabel\": {\"align\": \"left\"}, \"hovermode\": \"closest\", \"mapbox\": {\"style\": \"light\"}, \"paper_bgcolor\": \"white\", \"plot_bgcolor\": \"#E5ECF6\", \"polar\": {\"angularaxis\": {\"gridcolor\": \"white\", \"linecolor\": \"white\", \"ticks\": \"\"}, \"bgcolor\": \"#E5ECF6\", \"radialaxis\": {\"gridcolor\": \"white\", \"linecolor\": \"white\", \"ticks\": \"\"}}, \"scene\": {\"xaxis\": {\"backgroundcolor\": \"#E5ECF6\", \"gridcolor\": \"white\", \"gridwidth\": 2, \"linecolor\": \"white\", \"showbackground\": true, \"ticks\": \"\", \"zerolinecolor\": \"white\"}, \"yaxis\": {\"backgroundcolor\": \"#E5ECF6\", \"gridcolor\": \"white\", \"gridwidth\": 2, \"linecolor\": \"white\", \"showbackground\": true, \"ticks\": \"\", \"zerolinecolor\": \"white\"}, \"zaxis\": {\"backgroundcolor\": \"#E5ECF6\", \"gridcolor\": \"white\", \"gridwidth\": 2, \"linecolor\": \"white\", \"showbackground\": true, \"ticks\": \"\", \"zerolinecolor\": \"white\"}}, \"shapedefaults\": {\"line\": {\"color\": \"#2a3f5f\"}}, \"ternary\": {\"aaxis\": {\"gridcolor\": \"white\", \"linecolor\": \"white\", \"ticks\": \"\"}, \"baxis\": {\"gridcolor\": \"white\", \"linecolor\": \"white\", \"ticks\": \"\"}, \"bgcolor\": \"#E5ECF6\", \"caxis\": {\"gridcolor\": \"white\", \"linecolor\": \"white\", \"ticks\": \"\"}}, \"title\": {\"x\": 0.05}, \"xaxis\": {\"automargin\": true, \"gridcolor\": \"white\", \"linecolor\": \"white\", \"ticks\": \"\", \"title\": {\"standoff\": 15}, \"zerolinecolor\": \"white\", \"zerolinewidth\": 2}, \"yaxis\": {\"automargin\": true, \"gridcolor\": \"white\", \"linecolor\": \"white\", \"ticks\": \"\", \"title\": {\"standoff\": 15}, \"zerolinecolor\": \"white\", \"zerolinewidth\": 2}}}, \"width\": 500, \"xaxis\": {\"anchor\": \"y\", \"domain\": [0.0, 1.0], \"title\": {\"text\": \"X1\"}}, \"yaxis\": {\"anchor\": \"x\", \"domain\": [0.0, 1.0], \"title\": {\"text\": \"X2\"}}},\n",
       "                        {\"responsive\": true}\n",
       "                    ).then(function(){\n",
       "                            \n",
       "var gd = document.getElementById('de030a8e-6dc4-4e05-a7bc-887aab2b3478');\n",
       "var x = new MutationObserver(function (mutations, observer) {{\n",
       "        var display = window.getComputedStyle(gd).display;\n",
       "        if (!display || display === 'none') {{\n",
       "            console.log([gd, 'removed!']);\n",
       "            Plotly.purge(gd);\n",
       "            observer.disconnect();\n",
       "        }}\n",
       "}});\n",
       "\n",
       "// Listen for the removal of the full notebook cells\n",
       "var notebookContainer = gd.closest('#notebook-container');\n",
       "if (notebookContainer) {{\n",
       "    x.observe(notebookContainer, {childList: true});\n",
       "}}\n",
       "\n",
       "// Listen for the clearing of the current output cell\n",
       "var outputEl = gd.closest('.output');\n",
       "if (outputEl) {{\n",
       "    x.observe(outputEl, {childList: true});\n",
       "}}\n",
       "\n",
       "                        })\n",
       "                };\n",
       "                });\n",
       "            </script>\n",
       "        </div>"
      ]
     },
     "metadata": {},
     "output_type": "display_data"
    }
   ],
   "source": [
    "# 看一下数据分布\n",
    "fig = px.scatter(x=X2[:,0], y=X2[:,1], color=y2)\n",
    "fig.update_layout(height=500,width=500,xaxis=dict(title='X1'),yaxis=dict(title='X2'))\n",
    "fig.show()"
   ]
  },
  {
   "cell_type": "code",
   "execution_count": 184,
   "metadata": {},
   "outputs": [],
   "source": [
    "# 特征缩放（Feature Scaling）\n",
    "X2=sc_X.fit_transform(X2)"
   ]
  },
  {
   "cell_type": "code",
   "execution_count": 185,
   "metadata": {},
   "outputs": [
    {
     "data": {
      "text/plain": [
       "SVC(C=1.0, cache_size=200, class_weight=None, coef0=0.0,\n",
       "    decision_function_shape='ovr', degree=3, gamma='scale', kernel='rbf',\n",
       "    max_iter=-1, probability=False, random_state=0, shrinking=True, tol=0.001,\n",
       "    verbose=False)"
      ]
     },
     "execution_count": 185,
     "metadata": {},
     "output_type": "execute_result"
    }
   ],
   "source": [
    "# 利用SVM进行高斯内核非线性分类，C=1\n",
    "from sklearn.svm import SVC\n",
    "classifier = SVC(kernel=\"rbf\",gamma = 'scale',random_state=0)\n",
    "classifier.fit(X2,y2)"
   ]
  },
  {
   "cell_type": "code",
   "execution_count": 186,
   "metadata": {},
   "outputs": [
    {
     "name": "stdout",
     "output_type": "stream",
     "text": [
      "模型准确度： 90.5\n"
     ]
    }
   ],
   "source": [
    "# 看一下模型准确度\n",
    "accuracy = round(classifier.score(X2,y2) * 100, 2)\n",
    "print(\"模型准确度：\",accuracy)"
   ]
  },
  {
   "cell_type": "code",
   "execution_count": 187,
   "metadata": {},
   "outputs": [
    {
     "data": {
      "image/png": "[encoded data removed]",
      "text/plain": [
       "<Figure size 720x432 with 1 Axes>"
      ]
     },
     "metadata": {
      "needs_background": "light"
     },
     "output_type": "display_data"
    }
   ],
   "source": [
    "# 看一下分类效果\n",
    "import matplotlib.pyplot as plt\n",
    "from matplotlib.colors import ListedColormap\n",
    "X_set,y_set = X2,y2\n",
    "x1,x2 = np.meshgrid(np.arange(start = X_set[:,0].min()-1,stop = X_set[:,0].max()+1,step = 0.01),\\\n",
    "                    np.arange(start = X_set[:,1].min()-1,stop = X_set[:,1].max()+1,step = 0.01))\n",
    "z = classifier.predict(np.array([x1.ravel(),x2.ravel()]).T).reshape(x1.shape)\n",
    "plt.figure(figsize=(10,6))\n",
    "plt.contourf(x1,x2,z,alpha = 0.75, cmap=ListedColormap(('red','blue')))\n",
    "plt.xlim(x1.min(),x1.max())\n",
    "plt.ylim(x2.min(),x2.max())\n",
    "for i,j in enumerate(np.unique(y_set)):\n",
    "    plt.scatter(X_set[y_set==j,0],X_set[y_set==j,1],label = j,c=['green','white'][i],s=5)\n",
    "plt.legend()\n",
    "plt.show()"
   ]
  },
  {
   "cell_type": "code",
   "execution_count": 195,
   "metadata": {},
   "outputs": [
    {
     "data": {
      "text/plain": [
       "SVC(C=100, cache_size=200, class_weight=None, coef0=0.0,\n",
       "    decision_function_shape='ovr', degree=3, gamma=20, kernel='rbf',\n",
       "    max_iter=-1, probability=False, random_state=2, shrinking=True, tol=0.001,\n",
       "    verbose=False)"
      ]
     },
     "execution_count": 195,
     "metadata": {},
     "output_type": "execute_result"
    }
   ],
   "source": [
    "# 我们来看一下C=100,核系数设置为20\n",
    "from sklearn.svm import SVC\n",
    "classifier2 = SVC(kernel=\"rbf\",C=100,gamma = 20,random_state=2)\n",
    "classifier2.fit(X2,y2)"
   ]
  },
  {
   "cell_type": "code",
   "execution_count": 196,
   "metadata": {},
   "outputs": [
    {
     "name": "stdout",
     "output_type": "stream",
     "text": [
      "模型准确度： 100.0\n"
     ]
    }
   ],
   "source": [
    "# 看一下模型准确度\n",
    "accuracy = round(classifier2.score(X2,y2) * 100, 2)\n",
    "print(\"模型准确度：\",accuracy)"
   ]
  },
  {
   "cell_type": "code",
   "execution_count": 197,
   "metadata": {},
   "outputs": [
    {
     "data": {
      "image/png": "[encoded data removed]",
      "text/plain": [
       "<Figure size 720x432 with 1 Axes>"
      ]
     },
     "metadata": {
      "needs_background": "light"
     },
     "output_type": "display_data"
    }
   ],
   "source": [
    "# 看一下分类效果\n",
    "import matplotlib.pyplot as plt\n",
    "from matplotlib.colors import ListedColormap\n",
    "X_set,y_set = X2,y2\n",
    "x1,x2 = np.meshgrid(np.arange(start = X_set[:,0].min()-1,stop = X_set[:,0].max()+1,step = 0.01),\\\n",
    "                    np.arange(start = X_set[:,1].min()-1,stop = X_set[:,1].max()+1,step = 0.01))\n",
    "z = classifier2.predict(np.array([x1.ravel(),x2.ravel()]).T).reshape(x1.shape)\n",
    "plt.figure(figsize=(10,6))\n",
    "plt.contourf(x1,x2,z,alpha = 0.75, cmap=ListedColormap(('red','blue')))\n",
    "plt.xlim(x1.min(),x1.max())\n",
    "plt.ylim(x2.min(),x2.max())\n",
    "for i,j in enumerate(np.unique(y_set)):\n",
    "    plt.scatter(X_set[y_set==j,0],X_set[y_set==j,1],label = j,c=['green','white'][i],s=5)\n",
    "plt.legend()\n",
    "plt.show()"
   ]
  },
  {
   "cell_type": "markdown",
   "metadata": {},
   "source": [
    "* 可以看出来，第二个模型过度拟合了。"
   ]
  },
  {
   "cell_type": "markdown",
   "metadata": {},
   "source": [
    "# 3.实战：垃圾邮件分类"
   ]
  },
  {
   "cell_type": "code",
   "execution_count": 5,
   "metadata": {},
   "outputs": [
    {
     "data": {
      "text/plain": [
       "(dict_keys(['__header__', '__version__', '__globals__', 'X', 'y']),\n",
       " dict_keys(['__header__', '__version__', '__globals__', 'Xtest', 'ytest']))"
      ]
     },
     "execution_count": 5,
     "metadata": {},
     "output_type": "execute_result"
    }
   ],
   "source": [
    "spam_train = sio.loadmat(r'dataset（数据集）\\spamTrain.mat')\n",
    "spam_test = sio.loadmat(r'dataset（数据集）\\spamTest.mat')\n",
    "\n",
    "spam_train.keys(),spam_test.keys()"
   ]
  },
  {
   "cell_type": "code",
   "execution_count": 203,
   "metadata": {},
   "outputs": [
    {
     "data": {
      "text/plain": [
       "((4000, 1899), (4000,), (1000, 1899), (1000,))"
      ]
     },
     "execution_count": 203,
     "metadata": {},
     "output_type": "execute_result"
    }
   ],
   "source": [
    "X_train = spam_train['X']\n",
    "X_test = spam_test['Xtest']\n",
    "y_train = spam_train['y'].ravel()\n",
    "y_test = spam_test['ytest'].ravel()\n",
    "\n",
    "X_train.shape, y_train.shape, X_test.shape, y_test.shape"
   ]
  },
  {
   "cell_type": "markdown",
   "metadata": {},
   "source": [
    "* 可知一共有1899个特征（即识别文本）。"
   ]
  },
  {
   "cell_type": "code",
   "execution_count": 206,
   "metadata": {},
   "outputs": [],
   "source": [
    "# 特征缩放（Feature Scaling）\n",
    "X_train=sc_X.fit_transform(X_train)\n",
    "X_test=sc_X.fit_transform(X_test)"
   ]
  },
  {
   "cell_type": "code",
   "execution_count": 211,
   "metadata": {},
   "outputs": [
    {
     "data": {
      "text/plain": [
       "SVC(C=1.0, cache_size=200, class_weight=None, coef0=0.0,\n",
       "    decision_function_shape='ovr', degree=3, gamma='scale', kernel='rbf',\n",
       "    max_iter=-1, probability=False, random_state=0, shrinking=True, tol=0.001,\n",
       "    verbose=False)"
      ]
     },
     "execution_count": 211,
     "metadata": {},
     "output_type": "execute_result"
    }
   ],
   "source": [
    "# 利用SVM进行高斯内核非线性分类\n",
    "from sklearn.svm import SVC\n",
    "classifier = SVC(kernel=\"rbf\",gamma = 'scale',random_state=0)\n",
    "classifier.fit(X_train,y_train)"
   ]
  },
  {
   "cell_type": "code",
   "execution_count": 212,
   "metadata": {},
   "outputs": [
    {
     "name": "stdout",
     "output_type": "stream",
     "text": [
      "训练集模型准确度： 99.1\n",
      "测试集模型准确度： 98.2\n"
     ]
    }
   ],
   "source": [
    "# 看一下模型准确度\n",
    "accuracy_train = round(classifier.score(X_train,y_train) * 100, 2)\n",
    "print(\"训练集模型准确度：\",accuracy_train)\n",
    "\n",
    "accuracy_test = round(classifier.score(X_test,y_test) * 100, 2)\n",
    "print(\"测试集模型准确度：\",accuracy_test)"
   ]
  },
  {
   "cell_type": "markdown",
   "metadata": {},
   "source": [
    "* 测试集比训练集的准确度略低了一点，说明我们模型还是有优化空间的。\n",
    "* 我们可以通过调整一些参数来优化模型。"
   ]
  },
  {
   "cell_type": "markdown",
   "metadata": {},
   "source": [
    "# 鸣谢：\n",
    "感谢黄海广博士提供的读书笔记及各项资料，我会在机器学习路上继续加油！"
   ]
  }
 ],
 "metadata": {
  "kernelspec": {
   "display_name": "Python 3",
   "language": "python",
   "name": "python3"
  },
  "language_info": {
   "codemirror_mode": {
    "name": "ipython",
    "version": 3
   },
   "file_extension": ".py",
   "mimetype": "text/x-python",
   "name": "python",
   "nbconvert_exporter": "python",
   "pygments_lexer": "ipython3",
   "version": "3.7.4"
  },
  "toc": {
   "base_numbering": 1,
   "nav_menu": {},
   "number_sections": false,
   "sideBar": true,
   "skip_h1_title": false,
   "title_cell": "Table of Contents",
   "title_sidebar": "Contents",
   "toc_cell": false,
   "toc_position": {},
   "toc_section_display": true,
   "toc_window_display": true
  }
 },
 "nbformat": 4,
 "nbformat_minor": 2
}
